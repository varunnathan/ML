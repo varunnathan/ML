{
 "cells": [
  {
   "cell_type": "markdown",
   "metadata": {},
   "source": [
    "## DeepFM\n",
    "\n",
    "https://github.com/shenweichen/DeepCTR-Torch\n",
    "https://www.ijcai.org/Proceedings/2017/0239.pdf"
   ]
  },
  {
   "cell_type": "code",
   "execution_count": 3,
   "metadata": {},
   "outputs": [
    {
     "name": "stdout",
     "output_type": "stream",
     "text": [
      "Collecting deepctr-torch\n",
      "\u001b[?25l  Downloading https://files.pythonhosted.org/packages/66/5c/2b047c03215cebc0a9accfc9621bb963a1d6eba8ab8765b4fabe8d160e84/deepctr_torch-0.2.1-py3-none-any.whl (53kB)\n",
      "\u001b[K    100% |████████████████████████████████| 61kB 579kB/s ta 0:00:011\n",
      "\u001b[?25hRequirement already satisfied, skipping upgrade: torch>=1.1.0 in /Users/varunn/.virtualenvs/rasa/lib/python3.6/site-packages (from deepctr-torch) (1.3.0)\n",
      "Requirement already satisfied, skipping upgrade: sklearn in /Users/varunn/.virtualenvs/rasa/lib/python3.6/site-packages (from deepctr-torch) (0.0)\n",
      "Requirement already satisfied, skipping upgrade: tqdm in /Users/varunn/.virtualenvs/rasa/lib/python3.6/site-packages (from deepctr-torch) (4.31.1)\n",
      "Requirement already satisfied, skipping upgrade: numpy in /Users/varunn/.virtualenvs/rasa/lib/python3.6/site-packages (from torch>=1.1.0->deepctr-torch) (1.17.0)\n",
      "Requirement already satisfied, skipping upgrade: scikit-learn in /Users/varunn/.virtualenvs/rasa/lib/python3.6/site-packages (from sklearn->deepctr-torch) (0.20.4)\n",
      "Requirement already satisfied, skipping upgrade: scipy>=0.13.3 in /Users/varunn/.virtualenvs/rasa/lib/python3.6/site-packages (from scikit-learn->sklearn->deepctr-torch) (1.2.1)\n",
      "Installing collected packages: deepctr-torch\n",
      "Successfully installed deepctr-torch-0.2.1\n",
      "\u001b[33mYou are using pip version 19.0.3, however version 20.2b1 is available.\n",
      "You should consider upgrading via the 'pip install --upgrade pip' command.\u001b[0m\n"
     ]
    }
   ],
   "source": [
    "!pip install -U deepctr-torch"
   ]
  },
  {
   "cell_type": "code",
   "execution_count": 36,
   "metadata": {},
   "outputs": [],
   "source": [
    "import pandas as pd\n",
    "import torch\n",
    "import time\n",
    "from sklearn.metrics import mean_squared_error\n",
    "from sklearn.model_selection import train_test_split\n",
    "from sklearn.preprocessing import LabelEncoder, MinMaxScaler\n",
    "\n",
    "from deepctr_torch.inputs import SparseFeat, DenseFeat, get_feature_names\n",
    "from deepctr_torch.models import DeepFM"
   ]
  },
  {
   "cell_type": "code",
   "execution_count": 5,
   "metadata": {},
   "outputs": [],
   "source": [
    "import sys, os, json\n",
    "sys.path.append(\"src/\")\n",
    "from constants import *"
   ]
  },
  {
   "cell_type": "code",
   "execution_count": 7,
   "metadata": {},
   "outputs": [],
   "source": [
    "# read train and test data\n",
    "train_fn = os.path.join(PREPARED_DATA_DIR, 'user_train_data_1.h5')\n",
    "df_train = pd.read_hdf(train_fn, key='stage')\n",
    "\n",
    "test_fn = os.path.join(PREPARED_DATA_DIR, 'user_test_data_1.h5')\n",
    "df_test = pd.read_hdf(test_fn, key='stage')"
   ]
  },
  {
   "cell_type": "code",
   "execution_count": 8,
   "metadata": {},
   "outputs": [
    {
     "name": "stdout",
     "output_type": "stream",
     "text": [
      "(22851074, 20)\n",
      "(240538, 20)\n"
     ]
    },
    {
     "data": {
      "text/html": [
       "<div>\n",
       "<style scoped>\n",
       "    .dataframe tbody tr th:only-of-type {\n",
       "        vertical-align: middle;\n",
       "    }\n",
       "\n",
       "    .dataframe tbody tr th {\n",
       "        vertical-align: top;\n",
       "    }\n",
       "\n",
       "    .dataframe thead th {\n",
       "        text-align: right;\n",
       "    }\n",
       "</style>\n",
       "<table border=\"1\" class=\"dataframe\">\n",
       "  <thead>\n",
       "    <tr style=\"text-align: right;\">\n",
       "      <th></th>\n",
       "      <th>User</th>\n",
       "      <th>Rating</th>\n",
       "      <th>Date</th>\n",
       "      <th>Movie</th>\n",
       "      <th>Rating_class</th>\n",
       "      <th>days_since_first_user_rating</th>\n",
       "      <th>sqrt_days_since_first_user_rating</th>\n",
       "      <th>rating_age_days_user</th>\n",
       "      <th>rating_age_weeks_user</th>\n",
       "      <th>rating_age_months_user</th>\n",
       "      <th>mean_ratings_user</th>\n",
       "      <th>num_ratings_user</th>\n",
       "      <th>days_since_first_item_rating</th>\n",
       "      <th>sqrt_days_since_first_item_rating</th>\n",
       "      <th>rating_age_days_item</th>\n",
       "      <th>rating_age_weeks_item</th>\n",
       "      <th>rating_age_months_item</th>\n",
       "      <th>mean_ratings_movie</th>\n",
       "      <th>weighted_mean_ratings_movie</th>\n",
       "      <th>num_ratings_movie</th>\n",
       "    </tr>\n",
       "  </thead>\n",
       "  <tbody>\n",
       "    <tr>\n",
       "      <th>0</th>\n",
       "      <td>161459</td>\n",
       "      <td>4.0</td>\n",
       "      <td>2004-07-17</td>\n",
       "      <td>2138</td>\n",
       "      <td>0</td>\n",
       "      <td>23</td>\n",
       "      <td>4.795832</td>\n",
       "      <td>251</td>\n",
       "      <td>35.857143</td>\n",
       "      <td>8.366667</td>\n",
       "      <td>3.396365</td>\n",
       "      <td>28</td>\n",
       "      <td>1611</td>\n",
       "      <td>40.137264</td>\n",
       "      <td>2143</td>\n",
       "      <td>306.142857</td>\n",
       "      <td>71.433333</td>\n",
       "      <td>3.526814</td>\n",
       "      <td>3.527663</td>\n",
       "      <td>21220</td>\n",
       "    </tr>\n",
       "    <tr>\n",
       "      <th>1</th>\n",
       "      <td>87375</td>\n",
       "      <td>2.0</td>\n",
       "      <td>2004-03-14</td>\n",
       "      <td>3253</td>\n",
       "      <td>0</td>\n",
       "      <td>13</td>\n",
       "      <td>3.605551</td>\n",
       "      <td>617</td>\n",
       "      <td>88.142857</td>\n",
       "      <td>20.566667</td>\n",
       "      <td>4.333700</td>\n",
       "      <td>163</td>\n",
       "      <td>395</td>\n",
       "      <td>19.874607</td>\n",
       "      <td>1052</td>\n",
       "      <td>150.285714</td>\n",
       "      <td>35.066667</td>\n",
       "      <td>2.977046</td>\n",
       "      <td>2.979649</td>\n",
       "      <td>59554</td>\n",
       "    </tr>\n",
       "    <tr>\n",
       "      <th>2</th>\n",
       "      <td>191296</td>\n",
       "      <td>2.0</td>\n",
       "      <td>2005-12-23</td>\n",
       "      <td>1154</td>\n",
       "      <td>0</td>\n",
       "      <td>453</td>\n",
       "      <td>21.283797</td>\n",
       "      <td>455</td>\n",
       "      <td>65.000000</td>\n",
       "      <td>15.166667</td>\n",
       "      <td>3.955031</td>\n",
       "      <td>108</td>\n",
       "      <td>507</td>\n",
       "      <td>22.516660</td>\n",
       "      <td>514</td>\n",
       "      <td>73.428571</td>\n",
       "      <td>17.133333</td>\n",
       "      <td>3.818879</td>\n",
       "      <td>3.790705</td>\n",
       "      <td>1695</td>\n",
       "    </tr>\n",
       "    <tr>\n",
       "      <th>3</th>\n",
       "      <td>27266</td>\n",
       "      <td>5.0</td>\n",
       "      <td>2004-09-26</td>\n",
       "      <td>1201</td>\n",
       "      <td>1</td>\n",
       "      <td>15</td>\n",
       "      <td>3.872983</td>\n",
       "      <td>429</td>\n",
       "      <td>61.285714</td>\n",
       "      <td>14.300000</td>\n",
       "      <td>3.757806</td>\n",
       "      <td>124</td>\n",
       "      <td>1754</td>\n",
       "      <td>41.880783</td>\n",
       "      <td>2215</td>\n",
       "      <td>316.428571</td>\n",
       "      <td>73.833333</td>\n",
       "      <td>3.771652</td>\n",
       "      <td>3.771080</td>\n",
       "      <td>74899</td>\n",
       "    </tr>\n",
       "    <tr>\n",
       "      <th>4</th>\n",
       "      <td>175666</td>\n",
       "      <td>3.0</td>\n",
       "      <td>2004-08-03</td>\n",
       "      <td>4377</td>\n",
       "      <td>0</td>\n",
       "      <td>446</td>\n",
       "      <td>21.118712</td>\n",
       "      <td>835</td>\n",
       "      <td>119.285714</td>\n",
       "      <td>27.833333</td>\n",
       "      <td>3.280928</td>\n",
       "      <td>51</td>\n",
       "      <td>565</td>\n",
       "      <td>23.769729</td>\n",
       "      <td>1080</td>\n",
       "      <td>154.285714</td>\n",
       "      <td>36.000000</td>\n",
       "      <td>3.488060</td>\n",
       "      <td>3.518392</td>\n",
       "      <td>670</td>\n",
       "    </tr>\n",
       "  </tbody>\n",
       "</table>\n",
       "</div>"
      ],
      "text/plain": [
       "     User  Rating       Date  Movie  Rating_class  \\\n",
       "0  161459     4.0 2004-07-17   2138             0   \n",
       "1   87375     2.0 2004-03-14   3253             0   \n",
       "2  191296     2.0 2005-12-23   1154             0   \n",
       "3   27266     5.0 2004-09-26   1201             1   \n",
       "4  175666     3.0 2004-08-03   4377             0   \n",
       "\n",
       "   days_since_first_user_rating  sqrt_days_since_first_user_rating  \\\n",
       "0                            23                           4.795832   \n",
       "1                            13                           3.605551   \n",
       "2                           453                          21.283797   \n",
       "3                            15                           3.872983   \n",
       "4                           446                          21.118712   \n",
       "\n",
       "   rating_age_days_user  rating_age_weeks_user  rating_age_months_user  \\\n",
       "0                   251              35.857143                8.366667   \n",
       "1                   617              88.142857               20.566667   \n",
       "2                   455              65.000000               15.166667   \n",
       "3                   429              61.285714               14.300000   \n",
       "4                   835             119.285714               27.833333   \n",
       "\n",
       "   mean_ratings_user  num_ratings_user  days_since_first_item_rating  \\\n",
       "0           3.396365                28                          1611   \n",
       "1           4.333700               163                           395   \n",
       "2           3.955031               108                           507   \n",
       "3           3.757806               124                          1754   \n",
       "4           3.280928                51                           565   \n",
       "\n",
       "   sqrt_days_since_first_item_rating  rating_age_days_item  \\\n",
       "0                          40.137264                  2143   \n",
       "1                          19.874607                  1052   \n",
       "2                          22.516660                   514   \n",
       "3                          41.880783                  2215   \n",
       "4                          23.769729                  1080   \n",
       "\n",
       "   rating_age_weeks_item  rating_age_months_item  mean_ratings_movie  \\\n",
       "0             306.142857               71.433333            3.526814   \n",
       "1             150.285714               35.066667            2.977046   \n",
       "2              73.428571               17.133333            3.818879   \n",
       "3             316.428571               73.833333            3.771652   \n",
       "4             154.285714               36.000000            3.488060   \n",
       "\n",
       "   weighted_mean_ratings_movie  num_ratings_movie  \n",
       "0                     3.527663              21220  \n",
       "1                     2.979649              59554  \n",
       "2                     3.790705               1695  \n",
       "3                     3.771080              74899  \n",
       "4                     3.518392                670  "
      ]
     },
     "execution_count": 8,
     "metadata": {},
     "output_type": "execute_result"
    }
   ],
   "source": [
    "print(df_train.shape)\n",
    "print(df_test.shape)\n",
    "\n",
    "df_train.head()"
   ]
  },
  {
   "cell_type": "code",
   "execution_count": 9,
   "metadata": {},
   "outputs": [
    {
     "data": {
      "text/plain": [
       "User                                 0\n",
       "Rating                               0\n",
       "Date                                 0\n",
       "Movie                                0\n",
       "Rating_class                         0\n",
       "days_since_first_user_rating         0\n",
       "sqrt_days_since_first_user_rating    0\n",
       "rating_age_days_user                 0\n",
       "rating_age_weeks_user                0\n",
       "rating_age_months_user               0\n",
       "mean_ratings_user                    0\n",
       "num_ratings_user                     0\n",
       "days_since_first_item_rating         0\n",
       "sqrt_days_since_first_item_rating    0\n",
       "rating_age_days_item                 0\n",
       "rating_age_weeks_item                0\n",
       "rating_age_months_item               0\n",
       "mean_ratings_movie                   0\n",
       "weighted_mean_ratings_movie          0\n",
       "num_ratings_movie                    0\n",
       "dtype: int64"
      ]
     },
     "execution_count": 9,
     "metadata": {},
     "output_type": "execute_result"
    }
   ],
   "source": [
    "df_train.isnull().sum()"
   ]
  },
  {
   "cell_type": "code",
   "execution_count": 10,
   "metadata": {},
   "outputs": [
    {
     "data": {
      "text/plain": [
       "User                                 0\n",
       "Rating                               0\n",
       "Date                                 0\n",
       "Movie                                0\n",
       "Rating_class                         0\n",
       "days_since_first_user_rating         0\n",
       "sqrt_days_since_first_user_rating    0\n",
       "rating_age_days_user                 0\n",
       "rating_age_weeks_user                0\n",
       "rating_age_months_user               0\n",
       "mean_ratings_user                    0\n",
       "num_ratings_user                     0\n",
       "days_since_first_item_rating         0\n",
       "sqrt_days_since_first_item_rating    0\n",
       "rating_age_days_item                 0\n",
       "rating_age_weeks_item                0\n",
       "rating_age_months_item               0\n",
       "mean_ratings_movie                   0\n",
       "weighted_mean_ratings_movie          0\n",
       "num_ratings_movie                    0\n",
       "dtype: int64"
      ]
     },
     "execution_count": 10,
     "metadata": {},
     "output_type": "execute_result"
    }
   ],
   "source": [
    "df_test.isnull().sum()"
   ]
  },
  {
   "cell_type": "code",
   "execution_count": 12,
   "metadata": {},
   "outputs": [],
   "source": [
    "sparse_features = ['User', 'Movie']\n",
    "dense_features = [\n",
    "'days_since_first_user_rating',\n",
    "'sqrt_days_since_first_user_rating',\n",
    "'rating_age_days_user', 'rating_age_weeks_user',\n",
    "'rating_age_months_user', 'mean_ratings_user',\n",
    "'num_ratings_user', 'days_since_first_item_rating',\n",
    "'sqrt_days_since_first_item_rating',\n",
    "'rating_age_days_item', 'rating_age_weeks_item',\n",
    "'rating_age_months_item', 'mean_ratings_movie',\n",
    "'weighted_mean_ratings_movie', 'num_ratings_movie']\n",
    "target = ['Rating']"
   ]
  },
  {
   "cell_type": "markdown",
   "metadata": {},
   "source": [
    "### simple Transformation for dense features"
   ]
  },
  {
   "cell_type": "code",
   "execution_count": 14,
   "metadata": {},
   "outputs": [
    {
     "name": "stdout",
     "output_type": "stream",
     "text": [
      "Train\n"
     ]
    },
    {
     "name": "stderr",
     "output_type": "stream",
     "text": [
      "/Users/varunn/.virtualenvs/rasa/lib/python3.6/site-packages/sklearn/preprocessing/data.py:334: DataConversionWarning: Data with input dtype int64, float64 were all converted to float64 by MinMaxScaler.\n",
      "  return self.partial_fit(X, y)\n"
     ]
    },
    {
     "name": "stdout",
     "output_type": "stream",
     "text": [
      "CPU times: user 1min 14s, sys: 1min 52s, total: 3min 7s\n",
      "Wall time: 3min 56s\n",
      "Test\n",
      "CPU times: user 525 ms, sys: 222 ms, total: 747 ms\n",
      "Wall time: 934 ms\n"
     ]
    }
   ],
   "source": [
    "mms = MinMaxScaler(feature_range=(0, 1))\n",
    "print('Train')\n",
    "%time df_train[dense_features] = mms.fit_transform(df_train[dense_features])\n",
    "\n",
    "print('Test')\n",
    "%time df_test[dense_features] = mms.transform(df_test[dense_features])"
   ]
  },
  {
   "cell_type": "code",
   "execution_count": 15,
   "metadata": {},
   "outputs": [
    {
     "data": {
      "text/html": [
       "<div>\n",
       "<style scoped>\n",
       "    .dataframe tbody tr th:only-of-type {\n",
       "        vertical-align: middle;\n",
       "    }\n",
       "\n",
       "    .dataframe tbody tr th {\n",
       "        vertical-align: top;\n",
       "    }\n",
       "\n",
       "    .dataframe thead th {\n",
       "        text-align: right;\n",
       "    }\n",
       "</style>\n",
       "<table border=\"1\" class=\"dataframe\">\n",
       "  <thead>\n",
       "    <tr style=\"text-align: right;\">\n",
       "      <th></th>\n",
       "      <th>User</th>\n",
       "      <th>Rating</th>\n",
       "      <th>Date</th>\n",
       "      <th>Movie</th>\n",
       "      <th>Rating_class</th>\n",
       "      <th>days_since_first_user_rating</th>\n",
       "      <th>sqrt_days_since_first_user_rating</th>\n",
       "      <th>rating_age_days_user</th>\n",
       "      <th>rating_age_weeks_user</th>\n",
       "      <th>rating_age_months_user</th>\n",
       "      <th>mean_ratings_user</th>\n",
       "      <th>num_ratings_user</th>\n",
       "      <th>days_since_first_item_rating</th>\n",
       "      <th>sqrt_days_since_first_item_rating</th>\n",
       "      <th>rating_age_days_item</th>\n",
       "      <th>rating_age_weeks_item</th>\n",
       "      <th>rating_age_months_item</th>\n",
       "      <th>mean_ratings_movie</th>\n",
       "      <th>weighted_mean_ratings_movie</th>\n",
       "      <th>num_ratings_movie</th>\n",
       "    </tr>\n",
       "  </thead>\n",
       "  <tbody>\n",
       "    <tr>\n",
       "      <th>0</th>\n",
       "      <td>161459</td>\n",
       "      <td>4.0</td>\n",
       "      <td>2004-07-17</td>\n",
       "      <td>2138</td>\n",
       "      <td>0</td>\n",
       "      <td>0.010502</td>\n",
       "      <td>0.102481</td>\n",
       "      <td>0.114664</td>\n",
       "      <td>0.114664</td>\n",
       "      <td>0.114664</td>\n",
       "      <td>0.599091</td>\n",
       "      <td>0.006867</td>\n",
       "      <td>0.718555</td>\n",
       "      <td>0.847676</td>\n",
       "      <td>0.954462</td>\n",
       "      <td>0.954462</td>\n",
       "      <td>0.954462</td>\n",
       "      <td>0.659489</td>\n",
       "      <td>0.575193</td>\n",
       "      <td>0.114870</td>\n",
       "    </tr>\n",
       "    <tr>\n",
       "      <th>1</th>\n",
       "      <td>87375</td>\n",
       "      <td>2.0</td>\n",
       "      <td>2004-03-14</td>\n",
       "      <td>3253</td>\n",
       "      <td>0</td>\n",
       "      <td>0.005936</td>\n",
       "      <td>0.077046</td>\n",
       "      <td>0.281864</td>\n",
       "      <td>0.281864</td>\n",
       "      <td>0.281864</td>\n",
       "      <td>0.833425</td>\n",
       "      <td>0.041200</td>\n",
       "      <td>0.176182</td>\n",
       "      <td>0.419740</td>\n",
       "      <td>0.452622</td>\n",
       "      <td>0.452622</td>\n",
       "      <td>0.452622</td>\n",
       "      <td>0.495637</td>\n",
       "      <td>0.364382</td>\n",
       "      <td>0.322688</td>\n",
       "    </tr>\n",
       "    <tr>\n",
       "      <th>2</th>\n",
       "      <td>191296</td>\n",
       "      <td>2.0</td>\n",
       "      <td>2005-12-23</td>\n",
       "      <td>1154</td>\n",
       "      <td>0</td>\n",
       "      <td>0.206849</td>\n",
       "      <td>0.454807</td>\n",
       "      <td>0.207857</td>\n",
       "      <td>0.207857</td>\n",
       "      <td>0.207857</td>\n",
       "      <td>0.738758</td>\n",
       "      <td>0.027213</td>\n",
       "      <td>0.226137</td>\n",
       "      <td>0.475539</td>\n",
       "      <td>0.205152</td>\n",
       "      <td>0.205152</td>\n",
       "      <td>0.205152</td>\n",
       "      <td>0.746536</td>\n",
       "      <td>0.676380</td>\n",
       "      <td>0.009021</td>\n",
       "    </tr>\n",
       "    <tr>\n",
       "      <th>3</th>\n",
       "      <td>27266</td>\n",
       "      <td>5.0</td>\n",
       "      <td>2004-09-26</td>\n",
       "      <td>1201</td>\n",
       "      <td>1</td>\n",
       "      <td>0.006849</td>\n",
       "      <td>0.082761</td>\n",
       "      <td>0.195980</td>\n",
       "      <td>0.195980</td>\n",
       "      <td>0.195980</td>\n",
       "      <td>0.689451</td>\n",
       "      <td>0.031282</td>\n",
       "      <td>0.782337</td>\n",
       "      <td>0.884498</td>\n",
       "      <td>0.987580</td>\n",
       "      <td>0.987580</td>\n",
       "      <td>0.987580</td>\n",
       "      <td>0.732460</td>\n",
       "      <td>0.668831</td>\n",
       "      <td>0.405877</td>\n",
       "    </tr>\n",
       "    <tr>\n",
       "      <th>4</th>\n",
       "      <td>175666</td>\n",
       "      <td>3.0</td>\n",
       "      <td>2004-08-03</td>\n",
       "      <td>4377</td>\n",
       "      <td>0</td>\n",
       "      <td>0.203653</td>\n",
       "      <td>0.451279</td>\n",
       "      <td>0.381453</td>\n",
       "      <td>0.381453</td>\n",
       "      <td>0.381453</td>\n",
       "      <td>0.570232</td>\n",
       "      <td>0.012716</td>\n",
       "      <td>0.252007</td>\n",
       "      <td>0.502003</td>\n",
       "      <td>0.465501</td>\n",
       "      <td>0.465501</td>\n",
       "      <td>0.465501</td>\n",
       "      <td>0.647939</td>\n",
       "      <td>0.571627</td>\n",
       "      <td>0.003464</td>\n",
       "    </tr>\n",
       "  </tbody>\n",
       "</table>\n",
       "</div>"
      ],
      "text/plain": [
       "     User  Rating       Date  Movie  Rating_class  \\\n",
       "0  161459     4.0 2004-07-17   2138             0   \n",
       "1   87375     2.0 2004-03-14   3253             0   \n",
       "2  191296     2.0 2005-12-23   1154             0   \n",
       "3   27266     5.0 2004-09-26   1201             1   \n",
       "4  175666     3.0 2004-08-03   4377             0   \n",
       "\n",
       "   days_since_first_user_rating  sqrt_days_since_first_user_rating  \\\n",
       "0                      0.010502                           0.102481   \n",
       "1                      0.005936                           0.077046   \n",
       "2                      0.206849                           0.454807   \n",
       "3                      0.006849                           0.082761   \n",
       "4                      0.203653                           0.451279   \n",
       "\n",
       "   rating_age_days_user  rating_age_weeks_user  rating_age_months_user  \\\n",
       "0              0.114664               0.114664                0.114664   \n",
       "1              0.281864               0.281864                0.281864   \n",
       "2              0.207857               0.207857                0.207857   \n",
       "3              0.195980               0.195980                0.195980   \n",
       "4              0.381453               0.381453                0.381453   \n",
       "\n",
       "   mean_ratings_user  num_ratings_user  days_since_first_item_rating  \\\n",
       "0           0.599091          0.006867                      0.718555   \n",
       "1           0.833425          0.041200                      0.176182   \n",
       "2           0.738758          0.027213                      0.226137   \n",
       "3           0.689451          0.031282                      0.782337   \n",
       "4           0.570232          0.012716                      0.252007   \n",
       "\n",
       "   sqrt_days_since_first_item_rating  rating_age_days_item  \\\n",
       "0                           0.847676              0.954462   \n",
       "1                           0.419740              0.452622   \n",
       "2                           0.475539              0.205152   \n",
       "3                           0.884498              0.987580   \n",
       "4                           0.502003              0.465501   \n",
       "\n",
       "   rating_age_weeks_item  rating_age_months_item  mean_ratings_movie  \\\n",
       "0               0.954462                0.954462            0.659489   \n",
       "1               0.452622                0.452622            0.495637   \n",
       "2               0.205152                0.205152            0.746536   \n",
       "3               0.987580                0.987580            0.732460   \n",
       "4               0.465501                0.465501            0.647939   \n",
       "\n",
       "   weighted_mean_ratings_movie  num_ratings_movie  \n",
       "0                     0.575193           0.114870  \n",
       "1                     0.364382           0.322688  \n",
       "2                     0.676380           0.009021  \n",
       "3                     0.668831           0.405877  \n",
       "4                     0.571627           0.003464  "
      ]
     },
     "execution_count": 15,
     "metadata": {},
     "output_type": "execute_result"
    }
   ],
   "source": [
    "df_train.head()"
   ]
  },
  {
   "cell_type": "code",
   "execution_count": 16,
   "metadata": {},
   "outputs": [],
   "source": [
    "# Globals\n",
    "N_USERS = 480189\n",
    "N_ITEMS = 17770"
   ]
  },
  {
   "cell_type": "code",
   "execution_count": 19,
   "metadata": {},
   "outputs": [],
   "source": [
    "# count unique features for each sparse field and record dense feature field name\n",
    "\n",
    "sparse_features_count = [N_USERS, N_ITEMS]\n",
    "fixlen_feature_columns = [SparseFeat(\n",
    "    name=feat, vocabulary_size=sparse_features_count[i],\n",
    "    embedding_dim=100) for i, feat in enumerate(sparse_features)]"
   ]
  },
  {
   "cell_type": "code",
   "execution_count": 20,
   "metadata": {},
   "outputs": [
    {
     "data": {
      "text/plain": [
       "[SparseFeat(name='User', vocabulary_size=480189, embedding_dim=100, use_hash=False, dtype='int32', embedding_name='User', group_name='default_group'),\n",
       " SparseFeat(name='Movie', vocabulary_size=17770, embedding_dim=100, use_hash=False, dtype='int32', embedding_name='Movie', group_name='default_group')]"
      ]
     },
     "execution_count": 20,
     "metadata": {},
     "output_type": "execute_result"
    }
   ],
   "source": [
    "fixlen_feature_columns"
   ]
  },
  {
   "cell_type": "code",
   "execution_count": 23,
   "metadata": {},
   "outputs": [],
   "source": [
    "fixlen_feature_columns += [DenseFeat(feat, 1, ) for feat in\n",
    "                           dense_features]"
   ]
  },
  {
   "cell_type": "code",
   "execution_count": 24,
   "metadata": {},
   "outputs": [
    {
     "data": {
      "text/plain": [
       "[SparseFeat(name='User', vocabulary_size=480189, embedding_dim=100, use_hash=False, dtype='int32', embedding_name='User', group_name='default_group'),\n",
       " SparseFeat(name='Movie', vocabulary_size=17770, embedding_dim=100, use_hash=False, dtype='int32', embedding_name='Movie', group_name='default_group'),\n",
       " DenseFeat(name='days_since_first_user_rating', dimension=1, dtype='float32'),\n",
       " DenseFeat(name='sqrt_days_since_first_user_rating', dimension=1, dtype='float32'),\n",
       " DenseFeat(name='rating_age_days_user', dimension=1, dtype='float32'),\n",
       " DenseFeat(name='rating_age_weeks_user', dimension=1, dtype='float32'),\n",
       " DenseFeat(name='rating_age_months_user', dimension=1, dtype='float32'),\n",
       " DenseFeat(name='mean_ratings_user', dimension=1, dtype='float32'),\n",
       " DenseFeat(name='num_ratings_user', dimension=1, dtype='float32'),\n",
       " DenseFeat(name='days_since_first_item_rating', dimension=1, dtype='float32'),\n",
       " DenseFeat(name='sqrt_days_since_first_item_rating', dimension=1, dtype='float32'),\n",
       " DenseFeat(name='rating_age_days_item', dimension=1, dtype='float32'),\n",
       " DenseFeat(name='rating_age_weeks_item', dimension=1, dtype='float32'),\n",
       " DenseFeat(name='rating_age_months_item', dimension=1, dtype='float32'),\n",
       " DenseFeat(name='mean_ratings_movie', dimension=1, dtype='float32'),\n",
       " DenseFeat(name='weighted_mean_ratings_movie', dimension=1, dtype='float32'),\n",
       " DenseFeat(name='num_ratings_movie', dimension=1, dtype='float32')]"
      ]
     },
     "execution_count": 24,
     "metadata": {},
     "output_type": "execute_result"
    }
   ],
   "source": [
    "fixlen_feature_columns"
   ]
  },
  {
   "cell_type": "code",
   "execution_count": 25,
   "metadata": {},
   "outputs": [],
   "source": [
    "dnn_feature_columns = fixlen_feature_columns\n",
    "linear_feature_columns = fixlen_feature_columns"
   ]
  },
  {
   "cell_type": "code",
   "execution_count": 26,
   "metadata": {},
   "outputs": [],
   "source": [
    "feature_names = get_feature_names(\n",
    "        linear_feature_columns + dnn_feature_columns)"
   ]
  },
  {
   "cell_type": "code",
   "execution_count": 27,
   "metadata": {},
   "outputs": [
    {
     "data": {
      "text/plain": [
       "['User',\n",
       " 'Movie',\n",
       " 'days_since_first_user_rating',\n",
       " 'sqrt_days_since_first_user_rating',\n",
       " 'rating_age_days_user',\n",
       " 'rating_age_weeks_user',\n",
       " 'rating_age_months_user',\n",
       " 'mean_ratings_user',\n",
       " 'num_ratings_user',\n",
       " 'days_since_first_item_rating',\n",
       " 'sqrt_days_since_first_item_rating',\n",
       " 'rating_age_days_item',\n",
       " 'rating_age_weeks_item',\n",
       " 'rating_age_months_item',\n",
       " 'mean_ratings_movie',\n",
       " 'weighted_mean_ratings_movie',\n",
       " 'num_ratings_movie']"
      ]
     },
     "execution_count": 27,
     "metadata": {},
     "output_type": "execute_result"
    }
   ],
   "source": [
    "feature_names"
   ]
  },
  {
   "cell_type": "code",
   "execution_count": 28,
   "metadata": {},
   "outputs": [],
   "source": [
    "train_model_input = {name: df_train[name] for name in feature_names}\n",
    "test_model_input = {name: df_test[name] for name in feature_names}"
   ]
  },
  {
   "cell_type": "code",
   "execution_count": 30,
   "metadata": {},
   "outputs": [
    {
     "data": {
      "text/plain": [
       "(dict, pandas.core.series.Series)"
      ]
     },
     "execution_count": 30,
     "metadata": {},
     "output_type": "execute_result"
    }
   ],
   "source": [
    "type(train_model_input), type(train_model_input['User'])"
   ]
  },
  {
   "cell_type": "code",
   "execution_count": 31,
   "metadata": {},
   "outputs": [],
   "source": [
    "    device = 'cpu'\n",
    "    use_cuda = True\n",
    "    if use_cuda and torch.cuda.is_available():\n",
    "        print('cuda ready...')\n",
    "        device = 'cuda:0'"
   ]
  },
  {
   "cell_type": "code",
   "execution_count": 32,
   "metadata": {},
   "outputs": [
    {
     "data": {
      "text/plain": [
       "'cpu'"
      ]
     },
     "execution_count": 32,
     "metadata": {},
     "output_type": "execute_result"
    }
   ],
   "source": [
    "device"
   ]
  },
  {
   "cell_type": "code",
   "execution_count": 33,
   "metadata": {},
   "outputs": [],
   "source": [
    "model = DeepFM(linear_feature_columns=linear_feature_columns,\n",
    "               dnn_feature_columns=dnn_feature_columns,\n",
    "               task='regression', l2_reg_embedding=1e-5, device=device)"
   ]
  },
  {
   "cell_type": "code",
   "execution_count": 34,
   "metadata": {},
   "outputs": [
    {
     "data": {
      "text/plain": [
       "DeepFM(\n",
       "  (embedding_dict): ModuleDict(\n",
       "    (Movie): Embedding(17770, 100)\n",
       "    (User): Embedding(480189, 100)\n",
       "  )\n",
       "  (linear_model): Linear(\n",
       "    (embedding_dict): ModuleDict(\n",
       "      (Movie): Embedding(17770, 1)\n",
       "      (User): Embedding(480189, 1)\n",
       "    )\n",
       "  )\n",
       "  (out): PredictionLayer()\n",
       "  (fm): FM()\n",
       "  (dnn): DNN(\n",
       "    (dropout): Dropout(p=0, inplace=False)\n",
       "    (linears): ModuleList(\n",
       "      (0): Linear(in_features=215, out_features=256, bias=True)\n",
       "      (1): Linear(in_features=256, out_features=128, bias=True)\n",
       "    )\n",
       "    (activation_layers): ModuleList(\n",
       "      (0): ReLU(inplace=True)\n",
       "      (1): ReLU(inplace=True)\n",
       "    )\n",
       "  )\n",
       "  (dnn_linear): Linear(in_features=128, out_features=1, bias=False)\n",
       ")"
      ]
     },
     "execution_count": 34,
     "metadata": {},
     "output_type": "execute_result"
    }
   ],
   "source": [
    "model"
   ]
  },
  {
   "cell_type": "code",
   "execution_count": 35,
   "metadata": {},
   "outputs": [],
   "source": [
    "model.compile(\"adam\", \"mse\", metrics=['mse'], )"
   ]
  },
  {
   "cell_type": "code",
   "execution_count": 37,
   "metadata": {},
   "outputs": [
    {
     "name": "stdout",
     "output_type": "stream",
     "text": [
      "cpu\n",
      "Train on 22851074 samples, validate on 0 samples, 4571 steps per epoch\n",
      "Epoch 1/3\n",
      "6518s - loss:  0.9029 - mse:  0.9028\n",
      "Epoch 2/3\n",
      "6370s - loss:  0.7517 - mse:  0.7517\n",
      "Epoch 3/3\n",
      "6279s - loss:  0.6240 - mse:  0.6240\n",
      "time taken: 19224.59\n"
     ]
    }
   ],
   "source": [
    "start = time.time()\n",
    "model.fit(train_model_input, df_train[target].values,\n",
    "          batch_size=5000, epochs=3, validation_split=0.0, verbose=2)\n",
    "print('time taken: %0.2f' % (time.time() - start))"
   ]
  },
  {
   "cell_type": "code",
   "execution_count": 42,
   "metadata": {},
   "outputs": [
    {
     "data": {
      "text/plain": [
       "dict_items([('mse', <function mean_squared_error at 0x12de48598>)])"
      ]
     },
     "execution_count": 42,
     "metadata": {},
     "output_type": "execute_result"
    }
   ],
   "source": [
    "model.metrics.items()"
   ]
  },
  {
   "cell_type": "code",
   "execution_count": 43,
   "metadata": {},
   "outputs": [],
   "source": [
    "eval_result = model.evaluate(test_model_input, df_test[target].values,\n",
    "                             batch_size=256)"
   ]
  },
  {
   "cell_type": "code",
   "execution_count": 44,
   "metadata": {},
   "outputs": [
    {
     "data": {
      "text/plain": [
       "{'mse': 0.7576680043989446}"
      ]
     },
     "execution_count": 44,
     "metadata": {},
     "output_type": "execute_result"
    }
   ],
   "source": [
    "eval_result"
   ]
  },
  {
   "cell_type": "code",
   "execution_count": 45,
   "metadata": {},
   "outputs": [
    {
     "data": {
      "text/plain": [
       "0.8704412699309153"
      ]
     },
     "execution_count": 45,
     "metadata": {},
     "output_type": "execute_result"
    }
   ],
   "source": [
    "np.sqrt(eval_result['mse'])"
   ]
  },
  {
   "cell_type": "code",
   "execution_count": 47,
   "metadata": {},
   "outputs": [],
   "source": [
    "model_fn = os.path.join(MODEL_DIR, 'NN_DeepFM_FBaseline_E3.pt')\n",
    "torch.save(model.state_dict(), model_fn)"
   ]
  },
  {
   "cell_type": "code",
   "execution_count": null,
   "metadata": {},
   "outputs": [],
   "source": []
  }
 ],
 "metadata": {
  "kernelspec": {
   "display_name": "Python 3",
   "language": "python",
   "name": "python3"
  },
  "language_info": {
   "codemirror_mode": {
    "name": "ipython",
    "version": 3
   },
   "file_extension": ".py",
   "mimetype": "text/x-python",
   "name": "python",
   "nbconvert_exporter": "python",
   "pygments_lexer": "ipython3",
   "version": "3.6.5"
  }
 },
 "nbformat": 4,
 "nbformat_minor": 2
}
