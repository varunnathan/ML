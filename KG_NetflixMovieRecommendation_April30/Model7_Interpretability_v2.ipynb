{
 "cells": [
  {
   "cell_type": "code",
   "execution_count": 124,
   "metadata": {},
   "outputs": [],
   "source": [
    "import pandas as pd\n",
    "import numpy as np\n",
    "import os, sys, time, joblib, json\n",
    "import torch.nn as nn\n",
    "import matplotlib.pyplot as plt\n",
    "%matplotlib inline"
   ]
  },
  {
   "cell_type": "code",
   "execution_count": 2,
   "metadata": {},
   "outputs": [],
   "source": [
    "sys.path.append(\"src/\")\n",
    "from constants import *\n",
    "sys.path.append(\"src/NN_models/\")\n",
    "from network import *"
   ]
  },
  {
   "cell_type": "markdown",
   "metadata": {},
   "source": [
    "### Load the trained model object"
   ]
  },
  {
   "cell_type": "code",
   "execution_count": 3,
   "metadata": {},
   "outputs": [],
   "source": [
    "def choose_embedding_size(cat_cols, cat_num_values, min_emb_dim=100):\n",
    "    \"\"\"\n",
    "    cat_cols: list of categorical columns\n",
    "    cat_num_values: list of number of unique values for each\n",
    "    categorical column\n",
    "    \"\"\"\n",
    "    embedded_cols = dict(zip(cat_cols, cat_num_values))\n",
    "    embedding_sizes = [\n",
    "        (n_categories, min(min_emb_dim, (n_categories+1)//2))\n",
    "         for _, n_categories in embedded_cols.items()]\n",
    "    return embedding_sizes"
   ]
  },
  {
   "cell_type": "code",
   "execution_count": 10,
   "metadata": {},
   "outputs": [],
   "source": [
    "# GLOBALS\n",
    "FILE_NUM = 1\n",
    "BATCH_SIZE = 50 \n",
    "TEST_SIZE = 240538\n",
    "CAT_COLS = ['User', 'Movie']\n",
    "N_USERS = 480189\n",
    "N_ITEMS = 17770\n",
    "N_CONT = 768+15\n",
    "MIN_EMB_DIM = 100"
   ]
  },
  {
   "cell_type": "code",
   "execution_count": 5,
   "metadata": {},
   "outputs": [
    {
     "data": {
      "text/plain": [
       "[(480189, 100), (17770, 100)]"
      ]
     },
     "execution_count": 5,
     "metadata": {},
     "output_type": "execute_result"
    }
   ],
   "source": [
    "embedding_sizes = choose_embedding_size(\n",
    "    CAT_COLS, [N_USERS, N_ITEMS], MIN_EMB_DIM)\n",
    "embedding_sizes"
   ]
  },
  {
   "cell_type": "code",
   "execution_count": 6,
   "metadata": {},
   "outputs": [
    {
     "name": "stdout",
     "output_type": "stream",
     "text": [
      "cpu\n"
     ]
    },
    {
     "data": {
      "text/plain": [
       "<All keys matched successfully>"
      ]
     },
     "execution_count": 6,
     "metadata": {},
     "output_type": "execute_result"
    }
   ],
   "source": [
    "import torch\n",
    "\n",
    "\n",
    "model_fn = os.path.join(MODEL_DIR,\n",
    "                        'NN_DenseFFNN_FBaselineAndTitleEmbBert_E2.pt')\n",
    "\n",
    "model = DenseFFNN(embedding_sizes, N_CONT)\n",
    "device = torch.device(\"cuda:0\" if torch.cuda.is_available() else \"cpu\")\n",
    "print(device)\n",
    "model.load_state_dict(torch.load(model_fn, map_location=device))"
   ]
  },
  {
   "cell_type": "markdown",
   "metadata": {},
   "source": [
    "### Choose examples from the test set for visualization"
   ]
  },
  {
   "cell_type": "code",
   "execution_count": 11,
   "metadata": {},
   "outputs": [],
   "source": [
    "from tqdm import tqdm\n",
    "import torch.nn as nn\n",
    "from torch import tensor\n",
    "from custom_data_loader import InteractionsStream"
   ]
  },
  {
   "cell_type": "code",
   "execution_count": 12,
   "metadata": {},
   "outputs": [],
   "source": [
    "def construct_tensor_test(a):\n",
    "    out = []\n",
    "    for i in a:\n",
    "        out.append(i.tolist())\n",
    "        out1 = []\n",
    "        for item in zip(*out):\n",
    "            out1.append(list(item))\n",
    "    return tensor(out1)\n",
    "\n",
    "\n",
    "def predict(model, valid_dl, test_size, batch_size, device,\n",
    "            loss_fn=nn.MSELoss(reduction='sum')):\n",
    "        model.eval()\n",
    "        total = 0\n",
    "        sum_loss = 0\n",
    "        preds = []\n",
    "        actuals = []\n",
    "        cat_feats = []\n",
    "        num_feats = []\n",
    "        with tqdm(total=test_size // (batch_size)) as pbar:\n",
    "            for x1, x2, y in valid_dl:\n",
    "                x1, x2 = (construct_tensor_test(x1),\n",
    "                          construct_tensor_test(x2))\n",
    "                x1 = x1.to(device)\n",
    "                x2 = x2.to(device)\n",
    "                y = y.to(device)\n",
    "                current_batch_size = y.size()[0]\n",
    "                y = y.reshape((y.size()[0], 1))\n",
    "                y = y.float()\n",
    "                out = model(x1, x2)\n",
    "                loss = loss_fn(out, y)\n",
    "                sum_loss += loss.item()\n",
    "                total += current_batch_size\n",
    "                cat_feats.append(x1.detach().numpy())\n",
    "                num_feats.append(x2.detach().numpy())\n",
    "                actuals.append(y.detach().numpy().tolist())\n",
    "                preds.append(out.detach().numpy().tolist())\n",
    "                pbar.update(1)\n",
    "\n",
    "        return sum_loss/total, actuals, preds, cat_feats, num_feats"
   ]
  },
  {
   "cell_type": "code",
   "execution_count": 13,
   "metadata": {},
   "outputs": [],
   "source": [
    "# read\n",
    "out_fn = os.path.join(\n",
    "    VISUALIZATION_DIR,\n",
    "    'test_data_for_visualization_{}.h5'.format(FILE_NUM))\n",
    "pred_df = pd.read_hdf(out_fn, key='stage')"
   ]
  },
  {
   "cell_type": "code",
   "execution_count": 14,
   "metadata": {},
   "outputs": [
    {
     "data": {
      "text/html": [
       "<div>\n",
       "<style scoped>\n",
       "    .dataframe tbody tr th:only-of-type {\n",
       "        vertical-align: middle;\n",
       "    }\n",
       "\n",
       "    .dataframe tbody tr th {\n",
       "        vertical-align: top;\n",
       "    }\n",
       "\n",
       "    .dataframe thead th {\n",
       "        text-align: right;\n",
       "    }\n",
       "</style>\n",
       "<table border=\"1\" class=\"dataframe\">\n",
       "  <thead>\n",
       "    <tr style=\"text-align: right;\">\n",
       "      <th></th>\n",
       "      <th>actual</th>\n",
       "      <th>pred</th>\n",
       "      <th>cat_feats</th>\n",
       "      <th>num_feats</th>\n",
       "      <th>MSE</th>\n",
       "    </tr>\n",
       "  </thead>\n",
       "  <tbody>\n",
       "    <tr>\n",
       "      <th>0</th>\n",
       "      <td>[4.0]</td>\n",
       "      <td>[4.0]</td>\n",
       "      <td>[141335, 2742]</td>\n",
       "      <td>[912.0, 30.199337, 1724.0, 246.28572, 57.46666...</td>\n",
       "      <td>0.000000e+00</td>\n",
       "    </tr>\n",
       "    <tr>\n",
       "      <th>1</th>\n",
       "      <td>[3.0]</td>\n",
       "      <td>[3.0000030994415283]</td>\n",
       "      <td>[222657, 2199]</td>\n",
       "      <td>[6.0, 2.4494898, 197.0, 28.142857, 6.5666666, ...</td>\n",
       "      <td>9.606538e-12</td>\n",
       "    </tr>\n",
       "    <tr>\n",
       "      <th>2</th>\n",
       "      <td>[3.0]</td>\n",
       "      <td>[2.9999961853027344]</td>\n",
       "      <td>[310545, 2199]</td>\n",
       "      <td>[0.0, 0.0, 211.0, 30.142857, 7.0333333, 3.7031...</td>\n",
       "      <td>1.455192e-11</td>\n",
       "    </tr>\n",
       "    <tr>\n",
       "      <th>3</th>\n",
       "      <td>[3.0]</td>\n",
       "      <td>[2.999993085861206]</td>\n",
       "      <td>[171594, 3341]</td>\n",
       "      <td>[1245.0, 35.284557, 1753.0, 250.42857, 58.4333...</td>\n",
       "      <td>4.780532e-11</td>\n",
       "    </tr>\n",
       "    <tr>\n",
       "      <th>4</th>\n",
       "      <td>[2.0]</td>\n",
       "      <td>[2.0000083446502686]</td>\n",
       "      <td>[243525, 107]</td>\n",
       "      <td>[25.0, 5.0, 334.0, 47.714287, 11.133333, 1.484...</td>\n",
       "      <td>6.963319e-11</td>\n",
       "    </tr>\n",
       "  </tbody>\n",
       "</table>\n",
       "</div>"
      ],
      "text/plain": [
       "  actual                  pred       cat_feats  \\\n",
       "0  [4.0]                 [4.0]  [141335, 2742]   \n",
       "1  [3.0]  [3.0000030994415283]  [222657, 2199]   \n",
       "2  [3.0]  [2.9999961853027344]  [310545, 2199]   \n",
       "3  [3.0]   [2.999993085861206]  [171594, 3341]   \n",
       "4  [2.0]  [2.0000083446502686]   [243525, 107]   \n",
       "\n",
       "                                           num_feats           MSE  \n",
       "0  [912.0, 30.199337, 1724.0, 246.28572, 57.46666...  0.000000e+00  \n",
       "1  [6.0, 2.4494898, 197.0, 28.142857, 6.5666666, ...  9.606538e-12  \n",
       "2  [0.0, 0.0, 211.0, 30.142857, 7.0333333, 3.7031...  1.455192e-11  \n",
       "3  [1245.0, 35.284557, 1753.0, 250.42857, 58.4333...  4.780532e-11  \n",
       "4  [25.0, 5.0, 334.0, 47.714287, 11.133333, 1.484...  6.963319e-11  "
      ]
     },
     "execution_count": 14,
     "metadata": {},
     "output_type": "execute_result"
    }
   ],
   "source": [
    "pred_df.head()"
   ]
  },
  {
   "cell_type": "code",
   "execution_count": 134,
   "metadata": {},
   "outputs": [],
   "source": [
    "# positive, negative and baseline examples\n",
    "mean_mse = pred_df['MSE'].mean()\n",
    "pos_examples = pred_df.head(30)\n",
    "neg_examples = pred_df.tail(30)\n",
    "neg_examples.reset_index(drop=True, inplace=True)\n",
    "mask = (pred_df['MSE'] >= mean_mse - 1e-5) & (pred_df['MSE'] <= mean_mse + 1e-5)\n",
    "baseline_example = pred_df.loc[mask, :]\n",
    "baseline_example.reset_index(drop=True, inplace=True)\n",
    "baseline_example = baseline_example.loc[0, :]\n",
    "\n",
    "#print(pos_examples)\n",
    "#print(neg_examples)\n",
    "#print(baseline_example)"
   ]
  },
  {
   "cell_type": "code",
   "execution_count": 101,
   "metadata": {},
   "outputs": [],
   "source": [
    "x1_pos, x2_pos = (tensor(pos_examples['cat_feats']),\n",
    "                  tensor(pos_examples['num_feats']))\n",
    "#x1_pos = x1_pos.reshape(1, x1_pos.size()[0])\n",
    "#x2_pos = x2_pos.reshape(1, x2_pos.size()[0])\n",
    "x1_neg, x2_neg = (tensor(neg_examples['cat_feats']),\n",
    "                  tensor(neg_examples['num_feats']))\n",
    "#x1_neg = x1_neg.reshape(1, x1_neg.size()[0])\n",
    "#x2_neg = x2_neg.reshape(1, x2_neg.size()[0])\n",
    "x1_base, x2_base = (tensor(baseline_example['cat_feats']),\n",
    "                    tensor(baseline_example['num_feats']))\n",
    "x1_base = x1_base.reshape(1, x1_base.size()[0])\n",
    "x2_base = x2_base.reshape(1, x2_base.size()[0])\n",
    "\n",
    "#print(x1_pos, x2_pos)"
   ]
  },
  {
   "cell_type": "markdown",
   "metadata": {},
   "source": [
    "### Interpretation"
   ]
  },
  {
   "cell_type": "code",
   "execution_count": 95,
   "metadata": {},
   "outputs": [],
   "source": [
    "from captum.attr import (\n",
    "    LayerIntegratedGradients,\n",
    "    GradientShap,\n",
    "    DeepLift,\n",
    "    DeepLiftShap,\n",
    "    IntegratedGradients,\n",
    "    LayerConductance,\n",
    "    NeuronConductance,\n",
    "    NoiseTunnel,\n",
    "    visualization\n",
    ")"
   ]
  },
  {
   "cell_type": "code",
   "execution_count": 96,
   "metadata": {},
   "outputs": [
    {
     "data": {
      "text/plain": [
       "DenseFFNN(\n",
       "  (embeddings): ModuleList(\n",
       "    (0): Embedding(480189, 100)\n",
       "    (1): Embedding(17770, 100)\n",
       "  )\n",
       "  (lin1): Linear(in_features=983, out_features=300, bias=True)\n",
       "  (lin2): Linear(in_features=300, out_features=100, bias=True)\n",
       "  (lin3): Linear(in_features=100, out_features=1, bias=True)\n",
       "  (bn1): BatchNorm1d(783, eps=1e-05, momentum=0.1, affine=True, track_running_stats=True)\n",
       "  (bn2): BatchNorm1d(300, eps=1e-05, momentum=0.1, affine=True, track_running_stats=True)\n",
       "  (bn3): BatchNorm1d(100, eps=1e-05, momentum=0.1, affine=True, track_running_stats=True)\n",
       "  (emb_drop): Dropout(p=0.6, inplace=False)\n",
       "  (drops): Dropout(p=0.3, inplace=False)\n",
       ")"
      ]
     },
     "execution_count": 96,
     "metadata": {},
     "output_type": "execute_result"
    }
   ],
   "source": [
    "model.eval()"
   ]
  },
  {
   "cell_type": "markdown",
   "metadata": {},
   "source": [
    "### Layerwise Attribution using Integrated Gradients Approach\n",
    "1. Contribution of each neuron in a layer w.r.t output"
   ]
  },
  {
   "cell_type": "markdown",
   "metadata": {},
   "source": [
    "#### User Embeddings"
   ]
  },
  {
   "cell_type": "code",
   "execution_count": 105,
   "metadata": {},
   "outputs": [
    {
     "name": "stdout",
     "output_type": "stream",
     "text": [
      "pos delta:  tensor([-0.2868,  1.4086,  0.9618,  0.6760,  2.0351, -0.1313, -0.4284,  0.1238,\n",
      "         1.0727,  0.1415, -0.2090,  1.1347,  0.0887,  0.9553,  0.0304,  1.3921,\n",
      "         0.0139,  1.0250,  0.4317,  0.2323, -0.1530, -0.1754,  0.4804,  0.8227,\n",
      "         0.8521, -0.0614, -0.0871,  0.2094,  0.1553, -1.0270])\n",
      "neg delta:  tensor([ 2.5489, -0.7350, -0.8252, -0.7924, -0.9062, -0.8820, -0.4742, -0.5089,\n",
      "        -0.8476, -0.8199, -0.6804, -0.8234, -0.8854, -0.8034, -0.8709, -0.6696,\n",
      "        -0.8455, -0.8512, -0.8996, -0.8771, -0.9759, -0.9784, -1.1023, -1.0245,\n",
      "        -0.9801, -1.0255, -0.9204, -0.9500, -0.9872, -1.1107])\n"
     ]
    }
   ],
   "source": [
    "lig = LayerIntegratedGradients(model, model.embeddings[0])\n",
    "pos_attributions, delta = lig.attribute(\n",
    "    (x1_pos, x2_pos), (x1_base, x2_base), n_steps=500,\n",
    "    return_convergence_delta=True)\n",
    "print('pos delta: ', delta)\n",
    "\n",
    "neg_attributions, delta = lig.attribute(\n",
    "    (x1_neg, x2_neg), (x1_base, x2_base), n_steps=500,\n",
    "    return_convergence_delta=True)\n",
    "print('neg delta: ', delta)"
   ]
  },
  {
   "cell_type": "code",
   "execution_count": 110,
   "metadata": {},
   "outputs": [
    {
     "data": {
      "text/plain": [
       "(torch.Size([30, 100]), torch.Size([30, 100]))"
      ]
     },
     "execution_count": 110,
     "metadata": {},
     "output_type": "execute_result"
    }
   ],
   "source": [
    "pos_attributions.shape, neg_attributions.shape"
   ]
  },
  {
   "cell_type": "code",
   "execution_count": 130,
   "metadata": {},
   "outputs": [
    {
     "data": {
      "image/png": "[encoded data removed]",
      "text/plain": [
       "<Figure size 1800x1080 with 1 Axes>"
      ]
     },
     "metadata": {
      "needs_background": "light"
     },
     "output_type": "display_data"
    }
   ],
   "source": [
    "plt.figure(figsize=(25, 15))\n",
    "\n",
    "x_axis_data = np.arange(pos_attributions.shape[1])\n",
    "lig_attr_pos = pos_attributions.mean(0).detach().numpy()\n",
    "lig_attr_pos = lig_attr_pos/np.linalg.norm(lig_attr_pos, ord=1)\n",
    "lig_attr_neg = neg_attributions.mean(0).detach().numpy()\n",
    "lig_attr_neg = lig_attr_neg/np.linalg.norm(lig_attr_neg, ord=1)\n",
    "\n",
    "width = 0.5\n",
    "legends = ['Positive Example Attributions','Negative Example Attributions']\n",
    "x_axis_labels = ['D{}'.format(i) for i in range(len(x_axis_data))]\n",
    "\n",
    "ax = plt.subplot()\n",
    "ax.set_title('Aggregated importances in the user embedding layer')\n",
    "\n",
    "ax.bar(x_axis_data + width, lig_attr_pos, width, align='center',\n",
    "       alpha=0.5, color='red')\n",
    "ax.bar(x_axis_data + 2 * width, lig_attr_neg, width, align='center',\n",
    "       alpha=0.5, color='green')\n",
    "plt.legend(legends, loc=2, prop={'size': 20})\n",
    "ax.autoscale_view()\n",
    "plt.tight_layout()\n",
    "\n",
    "ax.set_xticks(x_axis_data + 0.5)\n",
    "ax.set_xticklabels(x_axis_labels)\n",
    "\n",
    "plt.show()"
   ]
  },
  {
   "cell_type": "markdown",
   "metadata": {},
   "source": [
    "#### Observations\n",
    "1. The attribution of user embeddings for the positive examples is in most cases a mirror reflection of those for the negative examples\n",
    "\n",
    "#### Possible Reasons\n",
    "1. Low number of ratings - sparsity\n",
    "2. What kind of movies are rated by these users\n",
    "3. What kind of ratings are given by these users"
   ]
  },
  {
   "cell_type": "code",
   "execution_count": 131,
   "metadata": {},
   "outputs": [
    {
     "name": "stdout",
     "output_type": "stream",
     "text": [
      "CPU times: user 6.73 s, sys: 4.05 s, total: 10.8 s\n",
      "Wall time: 13.6 s\n"
     ]
    }
   ],
   "source": [
    "# read train data\n",
    "%time df_train = pd.read_hdf(TRAIN_FN.format(1))"
   ]
  },
  {
   "cell_type": "code",
   "execution_count": 138,
   "metadata": {},
   "outputs": [
    {
     "name": "stdout",
     "output_type": "stream",
     "text": [
      "CPU times: user 328 ms, sys: 226 ms, total: 554 ms\n",
      "Wall time: 740 ms\n"
     ]
    }
   ],
   "source": [
    "# read user2idx\n",
    "%time user2idx = json.load(open(USER2IDX_FN))\n",
    "df_train['mapped_user'] = df_train['User'].apply(\n",
    "    lambda x: user2idx[str(x)])\n",
    "del user2idx"
   ]
  },
  {
   "cell_type": "code",
   "execution_count": 162,
   "metadata": {},
   "outputs": [
    {
     "name": "stdout",
     "output_type": "stream",
     "text": [
      "CPU times: user 6.58 ms, sys: 3.41 ms, total: 10 ms\n",
      "Wall time: 9.07 ms\n"
     ]
    }
   ],
   "source": [
    "# read item2idx\n",
    "%time item2idx = json.load(open(ITEM2IDX_FN))\n",
    "df_train['mapped_item'] = df_train['Movie'].apply(\n",
    "    lambda x: item2idx[str(x)])\n",
    "del item2idx"
   ]
  },
  {
   "cell_type": "code",
   "execution_count": 163,
   "metadata": {},
   "outputs": [
    {
     "data": {
      "text/html": [
       "<div>\n",
       "<style scoped>\n",
       "    .dataframe tbody tr th:only-of-type {\n",
       "        vertical-align: middle;\n",
       "    }\n",
       "\n",
       "    .dataframe tbody tr th {\n",
       "        vertical-align: top;\n",
       "    }\n",
       "\n",
       "    .dataframe thead th {\n",
       "        text-align: right;\n",
       "    }\n",
       "</style>\n",
       "<table border=\"1\" class=\"dataframe\">\n",
       "  <thead>\n",
       "    <tr style=\"text-align: right;\">\n",
       "      <th></th>\n",
       "      <th>User</th>\n",
       "      <th>Rating</th>\n",
       "      <th>Date</th>\n",
       "      <th>Movie</th>\n",
       "      <th>num_rating_user</th>\n",
       "      <th>num_rating_user_bins</th>\n",
       "      <th>num_rating_movie</th>\n",
       "      <th>num_rating_movie_bins</th>\n",
       "      <th>mapped_user</th>\n",
       "      <th>mapped_item</th>\n",
       "    </tr>\n",
       "  </thead>\n",
       "  <tbody>\n",
       "    <tr>\n",
       "      <th>0</th>\n",
       "      <td>2291417</td>\n",
       "      <td>4.0</td>\n",
       "      <td>2004-07-17</td>\n",
       "      <td>2139</td>\n",
       "      <td>47</td>\n",
       "      <td>10</td>\n",
       "      <td>22332</td>\n",
       "      <td>9</td>\n",
       "      <td>161459</td>\n",
       "      <td>2138</td>\n",
       "    </tr>\n",
       "    <tr>\n",
       "      <th>1</th>\n",
       "      <td>2258090</td>\n",
       "      <td>2.0</td>\n",
       "      <td>2004-03-14</td>\n",
       "      <td>3254</td>\n",
       "      <td>215</td>\n",
       "      <td>14</td>\n",
       "      <td>62628</td>\n",
       "      <td>9</td>\n",
       "      <td>87375</td>\n",
       "      <td>3253</td>\n",
       "    </tr>\n",
       "    <tr>\n",
       "      <th>2</th>\n",
       "      <td>371378</td>\n",
       "      <td>2.0</td>\n",
       "      <td>2005-12-23</td>\n",
       "      <td>1155</td>\n",
       "      <td>135</td>\n",
       "      <td>13</td>\n",
       "      <td>1788</td>\n",
       "      <td>6</td>\n",
       "      <td>191296</td>\n",
       "      <td>1154</td>\n",
       "    </tr>\n",
       "    <tr>\n",
       "      <th>3</th>\n",
       "      <td>1483177</td>\n",
       "      <td>5.0</td>\n",
       "      <td>2004-09-26</td>\n",
       "      <td>1202</td>\n",
       "      <td>158</td>\n",
       "      <td>13</td>\n",
       "      <td>78878</td>\n",
       "      <td>9</td>\n",
       "      <td>27266</td>\n",
       "      <td>1201</td>\n",
       "    </tr>\n",
       "    <tr>\n",
       "      <th>4</th>\n",
       "      <td>1916501</td>\n",
       "      <td>3.0</td>\n",
       "      <td>2004-08-03</td>\n",
       "      <td>4378</td>\n",
       "      <td>72</td>\n",
       "      <td>11</td>\n",
       "      <td>711</td>\n",
       "      <td>5</td>\n",
       "      <td>175666</td>\n",
       "      <td>4377</td>\n",
       "    </tr>\n",
       "  </tbody>\n",
       "</table>\n",
       "</div>"
      ],
      "text/plain": [
       "      User  Rating       Date  Movie  num_rating_user  num_rating_user_bins  \\\n",
       "0  2291417     4.0 2004-07-17   2139               47                    10   \n",
       "1  2258090     2.0 2004-03-14   3254              215                    14   \n",
       "2   371378     2.0 2005-12-23   1155              135                    13   \n",
       "3  1483177     5.0 2004-09-26   1202              158                    13   \n",
       "4  1916501     3.0 2004-08-03   4378               72                    11   \n",
       "\n",
       "   num_rating_movie  num_rating_movie_bins  mapped_user  mapped_item  \n",
       "0             22332                      9       161459         2138  \n",
       "1             62628                      9        87375         3253  \n",
       "2              1788                      6       191296         1154  \n",
       "3             78878                      9        27266         1201  \n",
       "4               711                      5       175666         4377  "
      ]
     },
     "execution_count": 163,
     "metadata": {},
     "output_type": "execute_result"
    }
   ],
   "source": [
    "df_train.head()"
   ]
  },
  {
   "cell_type": "code",
   "execution_count": 172,
   "metadata": {},
   "outputs": [
    {
     "name": "stdout",
     "output_type": "stream",
     "text": [
      "30 \t 30\n"
     ]
    },
    {
     "name": "stderr",
     "output_type": "stream",
     "text": [
      "/Users/varunn/.virtualenvs/rasa/lib/python3.6/site-packages/ipykernel_launcher.py:1: SettingWithCopyWarning: \n",
      "A value is trying to be set on a copy of a slice from a DataFrame.\n",
      "Try using .loc[row_indexer,col_indexer] = value instead\n",
      "\n",
      "See the caveats in the documentation: http://pandas.pydata.org/pandas-docs/stable/user_guide/indexing.html#returning-a-view-versus-a-copy\n",
      "  \"\"\"Entry point for launching an IPython kernel.\n",
      "/Users/varunn/.virtualenvs/rasa/lib/python3.6/site-packages/ipykernel_launcher.py:2: SettingWithCopyWarning: \n",
      "A value is trying to be set on a copy of a slice from a DataFrame.\n",
      "Try using .loc[row_indexer,col_indexer] = value instead\n",
      "\n",
      "See the caveats in the documentation: http://pandas.pydata.org/pandas-docs/stable/user_guide/indexing.html#returning-a-view-versus-a-copy\n",
      "  \n",
      "/Users/varunn/.virtualenvs/rasa/lib/python3.6/site-packages/ipykernel_launcher.py:3: SettingWithCopyWarning: \n",
      "A value is trying to be set on a copy of a slice from a DataFrame.\n",
      "Try using .loc[row_indexer,col_indexer] = value instead\n",
      "\n",
      "See the caveats in the documentation: http://pandas.pydata.org/pandas-docs/stable/user_guide/indexing.html#returning-a-view-versus-a-copy\n",
      "  This is separate from the ipykernel package so we can avoid doing imports until\n",
      "/Users/varunn/.virtualenvs/rasa/lib/python3.6/site-packages/ipykernel_launcher.py:4: SettingWithCopyWarning: \n",
      "A value is trying to be set on a copy of a slice from a DataFrame.\n",
      "Try using .loc[row_indexer,col_indexer] = value instead\n",
      "\n",
      "See the caveats in the documentation: http://pandas.pydata.org/pandas-docs/stable/user_guide/indexing.html#returning-a-view-versus-a-copy\n",
      "  after removing the cwd from sys.path.\n",
      "/Users/varunn/.virtualenvs/rasa/lib/python3.6/site-packages/ipykernel_launcher.py:5: SettingWithCopyWarning: \n",
      "A value is trying to be set on a copy of a slice from a DataFrame.\n",
      "Try using .loc[row_indexer,col_indexer] = value instead\n",
      "\n",
      "See the caveats in the documentation: http://pandas.pydata.org/pandas-docs/stable/user_guide/indexing.html#returning-a-view-versus-a-copy\n",
      "  \"\"\"\n",
      "/Users/varunn/.virtualenvs/rasa/lib/python3.6/site-packages/ipykernel_launcher.py:6: SettingWithCopyWarning: \n",
      "A value is trying to be set on a copy of a slice from a DataFrame.\n",
      "Try using .loc[row_indexer,col_indexer] = value instead\n",
      "\n",
      "See the caveats in the documentation: http://pandas.pydata.org/pandas-docs/stable/user_guide/indexing.html#returning-a-view-versus-a-copy\n",
      "  \n"
     ]
    }
   ],
   "source": [
    "pos_examples['user'] = pos_examples['cat_feats'].apply(lambda x: x[0])\n",
    "pos_examples['rating'] = pos_examples['actual'].apply(lambda x: x[0])\n",
    "pos_examples['movie'] = pos_examples['cat_feats'].apply(lambda x: x[1])\n",
    "neg_examples['user'] = neg_examples['cat_feats'].apply(lambda x: x[0])\n",
    "neg_examples['rating'] = neg_examples['actual'].apply(lambda x: x[0])\n",
    "neg_examples['movie'] = neg_examples['cat_feats'].apply(lambda x: x[1])\n",
    "\n",
    "pos_users = pos_examples['user'].unique().tolist()\n",
    "neg_users = neg_examples['user'].unique().tolist()\n",
    "\n",
    "print(len(pos_users), '\\t', len(neg_users))"
   ]
  },
  {
   "cell_type": "code",
   "execution_count": 146,
   "metadata": {},
   "outputs": [],
   "source": [
    "# number of ratings\n",
    "def get_num_user_ratings(user_lst):\n",
    "    mask = df_train['mapped_user'].isin(user_lst)\n",
    "    tmp = df_train.loc[mask, :]\n",
    "    tmp.reset_index(drop=True, inplace=True)\n",
    "    table = tmp.groupby('mapped_user')['Rating'].count().rename(\n",
    "        'num_ratings').reset_index()\n",
    "    return table"
   ]
  },
  {
   "cell_type": "code",
   "execution_count": 151,
   "metadata": {},
   "outputs": [
    {
     "name": "stdout",
     "output_type": "stream",
     "text": [
      "pos \t count     30.000000\n",
      "mean     144.866667\n",
      "std      144.456110\n",
      "min        9.000000\n",
      "25%       34.000000\n",
      "50%       92.500000\n",
      "75%      204.250000\n",
      "max      547.000000\n",
      "Name: num_ratings, dtype: float64\n",
      "neg \t count     30.000000\n",
      "mean      60.833333\n",
      "std      100.851575\n",
      "min        1.000000\n",
      "25%        9.250000\n",
      "50%       24.000000\n",
      "75%       63.000000\n",
      "max      515.000000\n",
      "Name: num_ratings, dtype: float64\n"
     ]
    }
   ],
   "source": [
    "num_pos_user_ratings = get_num_user_ratings(pos_users)\n",
    "num_neg_user_ratings = get_num_user_ratings(neg_users)\n",
    "print('pos', '\\t', num_pos_user_ratings['num_ratings'].describe())\n",
    "print('neg', '\\t', num_neg_user_ratings['num_ratings'].describe())"
   ]
  },
  {
   "cell_type": "markdown",
   "metadata": {},
   "source": [
    "#### The number of ratings for negative users is significantly lower than that of the positive users"
   ]
  },
  {
   "cell_type": "code",
   "execution_count": 152,
   "metadata": {},
   "outputs": [],
   "source": [
    "# mean ratings\n",
    "def get_mean_user_ratings(user_lst):\n",
    "    mask = df_train['mapped_user'].isin(user_lst)\n",
    "    tmp = df_train.loc[mask, :]\n",
    "    tmp.reset_index(drop=True, inplace=True)\n",
    "    table = tmp.groupby('mapped_user')['Rating'].mean().rename(\n",
    "        'mean_ratings').reset_index()\n",
    "    return table"
   ]
  },
  {
   "cell_type": "code",
   "execution_count": 161,
   "metadata": {},
   "outputs": [
    {
     "name": "stdout",
     "output_type": "stream",
     "text": [
      "pos \t train:  3.620591063332109 \t test:  3.533333333333333\n",
      "neg \t train:  4.376072871063167 \t test:  1.1333333333333333\n"
     ]
    }
   ],
   "source": [
    "mean_pos_user_ratings = get_mean_user_ratings(pos_users)\n",
    "mean_neg_user_ratings = get_mean_user_ratings(neg_users)\n",
    "print('pos', '\\t', 'train: ',\n",
    "      mean_pos_user_ratings['mean_ratings'].mean(), '\\t', 'test: ',\n",
    "      pos_examples['rating'].mean())\n",
    "print('neg', '\\t', 'train: ',\n",
    "      mean_neg_user_ratings['mean_ratings'].mean(), '\\t', 'test: ',\n",
    "      neg_examples['rating'].mean())"
   ]
  },
  {
   "cell_type": "markdown",
   "metadata": {},
   "source": [
    "#### The mean ratings of train and test samples are not very different in the case of positive examples whereas the difference looks significant in the case of negative examples  "
   ]
  },
  {
   "cell_type": "code",
   "execution_count": 168,
   "metadata": {},
   "outputs": [],
   "source": [
    "def desc_movie_ratings(movie_lst):\n",
    "    mask = df_train['mapped_item'].isin(movie_lst)\n",
    "    tmp = df_train.loc[mask, :]\n",
    "    tmp.reset_index(drop=True, inplace=True)\n",
    "    count_df = tmp.groupby('mapped_item')['Rating'].count().rename(\n",
    "        'num_ratings').reset_index()\n",
    "    mean_df = tmp.groupby('mapped_item')['Rating'].mean().rename(\n",
    "        'mean_ratings').reset_index()\n",
    "    table = pd.merge(count_df, mean_df, on=['mapped_item'])\n",
    "    return table"
   ]
  },
  {
   "cell_type": "code",
   "execution_count": 174,
   "metadata": {},
   "outputs": [
    {
     "name": "stdout",
     "output_type": "stream",
     "text": [
      "# train pos movies:  1570 \t # test pos movies:  29\n",
      "# train neg movies:  846 \t # test neg movies:  27\n"
     ]
    }
   ],
   "source": [
    "mask = df_train['mapped_user'].isin(pos_users)\n",
    "pos_movies = df_train.loc[mask, 'mapped_item'].unique().tolist()\n",
    "test_pos_movies = pos_examples['movie'].unique().tolist()\n",
    "\n",
    "mask = df_train['mapped_user'].isin(neg_users)\n",
    "neg_movies = df_train.loc[mask, 'mapped_item'].unique().tolist()\n",
    "test_neg_movies = neg_examples['movie'].unique().tolist()\n",
    "\n",
    "print('# train pos movies: ', len(pos_movies), '\\t',\n",
    "      '# test pos movies: ', len(test_pos_movies))\n",
    "print('# train neg movies: ', len(neg_movies), '\\t',\n",
    "      '# test neg movies: ', len(test_neg_movies))"
   ]
  },
  {
   "cell_type": "code",
   "execution_count": 176,
   "metadata": {},
   "outputs": [
    {
     "name": "stdout",
     "output_type": "stream",
     "text": [
      "pos\n",
      "train # ratings:  13295.8\n",
      "train mean ratings:  3.3954825295304265\n",
      "test mean ratings:  3.533333333333333\n",
      "\n",
      "\n",
      "neg\n",
      "train # ratings:  21984.741134751774\n",
      "train mean ratings:  3.4751366135225195\n",
      "test mean ratings:  1.1333333333333333\n"
     ]
    }
   ],
   "source": [
    "pos_movies_desc = desc_movie_ratings(pos_movies)\n",
    "neg_movies_desc = desc_movie_ratings(neg_movies)\n",
    "\n",
    "print('pos')\n",
    "print('train # ratings: ', pos_movies_desc['num_ratings'].mean())\n",
    "print('train mean ratings: ', pos_movies_desc['mean_ratings'].mean())\n",
    "print('test mean ratings: ', pos_examples['rating'].mean())\n",
    "\n",
    "print('\\n')\n",
    "\n",
    "print('neg')\n",
    "print('train # ratings: ', neg_movies_desc['num_ratings'].mean())\n",
    "print('train mean ratings: ', neg_movies_desc['mean_ratings'].mean())\n",
    "print('test mean ratings: ', neg_examples['rating'].mean())"
   ]
  },
  {
   "cell_type": "markdown",
   "metadata": {},
   "source": [
    "#### There is a significant difference in the mean ratings of movies watched by negative users between train and test samples"
   ]
  },
  {
   "cell_type": "markdown",
   "metadata": {},
   "source": [
    "#### Movie Embeddings"
   ]
  },
  {
   "cell_type": "code",
   "execution_count": 178,
   "metadata": {},
   "outputs": [
    {
     "data": {
      "text/plain": [
       "DenseFFNN(\n",
       "  (embeddings): ModuleList(\n",
       "    (0): Embedding(480189, 100)\n",
       "    (1): Embedding(17770, 100)\n",
       "  )\n",
       "  (lin1): Linear(in_features=983, out_features=300, bias=True)\n",
       "  (lin2): Linear(in_features=300, out_features=100, bias=True)\n",
       "  (lin3): Linear(in_features=100, out_features=1, bias=True)\n",
       "  (bn1): BatchNorm1d(783, eps=1e-05, momentum=0.1, affine=True, track_running_stats=True)\n",
       "  (bn2): BatchNorm1d(300, eps=1e-05, momentum=0.1, affine=True, track_running_stats=True)\n",
       "  (bn3): BatchNorm1d(100, eps=1e-05, momentum=0.1, affine=True, track_running_stats=True)\n",
       "  (emb_drop): Dropout(p=0.6, inplace=False)\n",
       "  (drops): Dropout(p=0.3, inplace=False)\n",
       ")"
      ]
     },
     "execution_count": 178,
     "metadata": {},
     "output_type": "execute_result"
    }
   ],
   "source": [
    "model"
   ]
  },
  {
   "cell_type": "code",
   "execution_count": 179,
   "metadata": {},
   "outputs": [
    {
     "name": "stdout",
     "output_type": "stream",
     "text": [
      "pos delta:  tensor([-0.1138,  0.8536,  0.9021,  0.9862,  2.2688,  0.1823, -0.2179, -0.0657,\n",
      "         0.9418, -0.0084, -0.1265,  0.7692, -0.0046,  0.5982,  0.2690,  0.6754,\n",
      "         0.8513,  0.8221,  0.6990,  0.0929,  0.1540, -0.3373,  0.1546,  1.0324,\n",
      "         1.0797,  0.0338,  0.2448,  0.0939,  0.2269, -1.0539])\n",
      "neg delta:  tensor([ 2.4881, -0.7881, -0.7813, -0.8088, -0.8386, -0.8394, -0.6005, -0.7341,\n",
      "        -0.9292, -0.8501, -0.8277, -0.7332, -0.8523, -0.8309, -0.9426, -0.7746,\n",
      "        -0.9000, -0.8208, -0.8732, -0.8771, -0.8300, -0.9236, -0.9963, -1.0175,\n",
      "        -0.9953, -1.0225, -0.9592, -1.0531, -0.9382, -1.1461])\n"
     ]
    }
   ],
   "source": [
    "lig = LayerIntegratedGradients(model, model.embeddings[1])\n",
    "pos_attributions, delta = lig.attribute(\n",
    "    (x1_pos, x2_pos), (x1_base, x2_base), n_steps=500,\n",
    "    return_convergence_delta=True)\n",
    "print('pos delta: ', delta)\n",
    "\n",
    "neg_attributions, delta = lig.attribute(\n",
    "    (x1_neg, x2_neg), (x1_base, x2_base), n_steps=500,\n",
    "    return_convergence_delta=True)\n",
    "print('neg delta: ', delta)"
   ]
  },
  {
   "cell_type": "code",
   "execution_count": null,
   "metadata": {},
   "outputs": [],
   "source": []
  }
 ],
 "metadata": {
  "kernelspec": {
   "display_name": "Python 3",
   "language": "python",
   "name": "python3"
  },
  "language_info": {
   "codemirror_mode": {
    "name": "ipython",
    "version": 3
   },
   "file_extension": ".py",
   "mimetype": "text/x-python",
   "name": "python",
   "nbconvert_exporter": "python",
   "pygments_lexer": "ipython3",
   "version": "3.6.5"
  }
 },
 "nbformat": 4,
 "nbformat_minor": 2
}
