{
 "cells": [
  {
   "cell_type": "markdown",
   "metadata": {},
   "source": [
    "## Goal\n",
    "1. Understand the utility of hooks in pytorch\n",
    "2. Visualize the layer activations of the NN regression model trained with bert embeddings\n",
    "3. Run the visualizations on randomly chosen examples split by correct and wrong predictions\n",
    "4. Using the visualizations, try to answer the question of what each layer has learnt"
   ]
  },
  {
   "cell_type": "code",
   "execution_count": 1,
   "metadata": {},
   "outputs": [],
   "source": [
    "import pandas as pd\n",
    "import numpy as np\n",
    "import os, sys, time, joblib, json"
   ]
  },
  {
   "cell_type": "code",
   "execution_count": 2,
   "metadata": {},
   "outputs": [],
   "source": [
    "sys.path.append(\"src/\")\n",
    "from constants import *\n",
    "sys.path.append(\"src/NN_models/\")\n",
    "from network import *"
   ]
  },
  {
   "cell_type": "markdown",
   "metadata": {},
   "source": [
    "### Load the trained model object"
   ]
  },
  {
   "cell_type": "code",
   "execution_count": 3,
   "metadata": {},
   "outputs": [],
   "source": [
    "def choose_embedding_size(cat_cols, cat_num_values, min_emb_dim=100):\n",
    "    \"\"\"\n",
    "    cat_cols: list of categorical columns\n",
    "    cat_num_values: list of number of unique values for each\n",
    "    categorical column\n",
    "    \"\"\"\n",
    "    embedded_cols = dict(zip(cat_cols, cat_num_values))\n",
    "    embedding_sizes = [\n",
    "        (n_categories, min(min_emb_dim, (n_categories+1)//2))\n",
    "         for _, n_categories in embedded_cols.items()]\n",
    "    return embedding_sizes"
   ]
  },
  {
   "cell_type": "code",
   "execution_count": 4,
   "metadata": {},
   "outputs": [],
   "source": [
    "# GLOBALS\n",
    "CAT_COLS = ['User', 'Movie']\n",
    "N_USERS = 480189\n",
    "N_ITEMS = 17770\n",
    "N_CONT = 768+15\n",
    "MIN_EMB_DIM = 100"
   ]
  },
  {
   "cell_type": "code",
   "execution_count": 5,
   "metadata": {},
   "outputs": [
    {
     "data": {
      "text/plain": [
       "[(480189, 100), (17770, 100)]"
      ]
     },
     "execution_count": 5,
     "metadata": {},
     "output_type": "execute_result"
    }
   ],
   "source": [
    "embedding_sizes = choose_embedding_size(\n",
    "    CAT_COLS, [N_USERS, N_ITEMS], MIN_EMB_DIM)\n",
    "embedding_sizes"
   ]
  },
  {
   "cell_type": "code",
   "execution_count": 6,
   "metadata": {},
   "outputs": [
    {
     "name": "stdout",
     "output_type": "stream",
     "text": [
      "cpu\n"
     ]
    },
    {
     "data": {
      "text/plain": [
       "<All keys matched successfully>"
      ]
     },
     "execution_count": 6,
     "metadata": {},
     "output_type": "execute_result"
    }
   ],
   "source": [
    "import torch\n",
    "\n",
    "\n",
    "model_fn = os.path.join(MODEL_DIR,\n",
    "                        'NN_DenseFFNN_FBaselineAndTitleEmbBert_E2.pt')\n",
    "\n",
    "model = DenseFFNN(embedding_sizes, N_CONT)\n",
    "device = torch.device(\"cuda:0\" if torch.cuda.is_available() else \"cpu\")\n",
    "print(device)\n",
    "model.load_state_dict(torch.load(model_fn, map_location=device))"
   ]
  },
  {
   "cell_type": "code",
   "execution_count": 7,
   "metadata": {},
   "outputs": [
    {
     "data": {
      "text/plain": [
       "DenseFFNN(\n",
       "  (embeddings): ModuleList(\n",
       "    (0): Embedding(480189, 100)\n",
       "    (1): Embedding(17770, 100)\n",
       "  )\n",
       "  (lin1): Linear(in_features=983, out_features=300, bias=True)\n",
       "  (lin2): Linear(in_features=300, out_features=100, bias=True)\n",
       "  (lin3): Linear(in_features=100, out_features=1, bias=True)\n",
       "  (bn1): BatchNorm1d(783, eps=1e-05, momentum=0.1, affine=True, track_running_stats=True)\n",
       "  (bn2): BatchNorm1d(300, eps=1e-05, momentum=0.1, affine=True, track_running_stats=True)\n",
       "  (bn3): BatchNorm1d(100, eps=1e-05, momentum=0.1, affine=True, track_running_stats=True)\n",
       "  (emb_drop): Dropout(p=0.6, inplace=False)\n",
       "  (drops): Dropout(p=0.3, inplace=False)\n",
       ")"
      ]
     },
     "execution_count": 7,
     "metadata": {},
     "output_type": "execute_result"
    }
   ],
   "source": [
    "model"
   ]
  },
  {
   "cell_type": "markdown",
   "metadata": {},
   "source": [
    "### Choose examples from the test set for visualization"
   ]
  },
  {
   "cell_type": "code",
   "execution_count": 9,
   "metadata": {},
   "outputs": [],
   "source": [
    "from tqdm import tqdm\n",
    "import torch.nn as nn\n",
    "from torch import tensor\n",
    "from custom_data_loader import InteractionsStream"
   ]
  },
  {
   "cell_type": "code",
   "execution_count": 10,
   "metadata": {},
   "outputs": [],
   "source": [
    "def construct_tensor_test(a):\n",
    "    out = []\n",
    "    for i in a:\n",
    "        out.append(i.tolist())\n",
    "        out1 = []\n",
    "        for item in zip(*out):\n",
    "            out1.append(list(item))\n",
    "    return tensor(out1)\n",
    "\n",
    "\n",
    "def predict(model, valid_dl, test_size, batch_size, device,\n",
    "            loss_fn=nn.MSELoss(reduction='sum')):\n",
    "        model.eval()\n",
    "        total = 0\n",
    "        sum_loss = 0\n",
    "        preds = []\n",
    "        actuals = []\n",
    "        cat_feats = []\n",
    "        num_feats = []\n",
    "        with tqdm(total=test_size // (batch_size)) as pbar:\n",
    "            for x1, x2, y in valid_dl:\n",
    "                x1, x2 = (construct_tensor_test(x1),\n",
    "                          construct_tensor_test(x2))\n",
    "                x1 = x1.to(device)\n",
    "                x2 = x2.to(device)\n",
    "                y = y.to(device)\n",
    "                current_batch_size = y.size()[0]\n",
    "                y = y.reshape((y.size()[0], 1))\n",
    "                y = y.float()\n",
    "                out = model(x1, x2)\n",
    "                loss = loss_fn(out, y)\n",
    "                sum_loss += loss.item()\n",
    "                total += current_batch_size\n",
    "                cat_feats.append(x1.detach().numpy())\n",
    "                num_feats.append(x2.detach().numpy())\n",
    "                actuals.append(y.detach().numpy().tolist())\n",
    "                preds.append(out.detach().numpy().tolist())\n",
    "                pbar.update(1)\n",
    "\n",
    "        return sum_loss/total, actuals, preds, cat_feats, num_feats"
   ]
  },
  {
   "cell_type": "code",
   "execution_count": 11,
   "metadata": {},
   "outputs": [],
   "source": [
    "# GLOBALS\n",
    "FILE_NUM = 1\n",
    "BATCH_SIZE = 50 \n",
    "TEST_SIZE = 240538"
   ]
  },
  {
   "cell_type": "code",
   "execution_count": 19,
   "metadata": {},
   "outputs": [
    {
     "name": "stdout",
     "output_type": "stream",
     "text": [
      "['/Users/varunn/Documents/kaggle/netflix-prize-data/prepared_data_for_NN_modelling/user_test_data_1.h5']\n"
     ]
    }
   ],
   "source": [
    "from torch.utils.data import DataLoader\n",
    "\n",
    "\n",
    "test_dataset = InteractionsStream(\n",
    "    file_num=FILE_NUM, baseline_feats=True, model_type='regression',\n",
    "    sample='test', normalize=False, title_features=True,\n",
    "    title_feats_fn=MOVIE_TITLES_BERT_COMPS_FN)\n",
    "test_loader = DataLoader(test_dataset, batch_size=BATCH_SIZE,\n",
    "                         shuffle=False)"
   ]
  },
  {
   "cell_type": "code",
   "execution_count": 20,
   "metadata": {},
   "outputs": [
    {
     "name": "stderr",
     "output_type": "stream",
     "text": [
      "\r",
      "  0%|          | 0/4810 [00:00<?, ?it/s]"
     ]
    },
    {
     "name": "stdout",
     "output_type": "stream",
     "text": [
      "read data\n",
      "create an iterable\n"
     ]
    },
    {
     "name": "stderr",
     "output_type": "stream",
     "text": [
      "4811it [34:10,  2.22it/s]                          \n"
     ]
    }
   ],
   "source": [
    "loss, actuals, preds, cat_feats, num_feats = predict(\n",
    "    model, test_loader, TEST_SIZE, BATCH_SIZE, device)"
   ]
  },
  {
   "cell_type": "code",
   "execution_count": 22,
   "metadata": {},
   "outputs": [
    {
     "data": {
      "text/plain": [
       "(0.7762977449611403, 0.881077604391997)"
      ]
     },
     "execution_count": 22,
     "metadata": {},
     "output_type": "execute_result"
    }
   ],
   "source": [
    "loss, np.sqrt(loss)"
   ]
  },
  {
   "cell_type": "code",
   "execution_count": 30,
   "metadata": {},
   "outputs": [
    {
     "name": "stdout",
     "output_type": "stream",
     "text": [
      "4811 50 [[3.0], [3.0], [4.0], [2.0], [3.0]]\n",
      "4811 50 [[3.291585922241211], [3.7761363983154297], [3.0904593467712402], [3.9861674308776855], [3.3251028060913086]]\n",
      "4811 50 [[294990    952]\n",
      " [372871   1306]\n",
      " [207396   3924]\n",
      " [330647    357]\n",
      " [169970    311]]\n",
      "4811 50\n"
     ]
    }
   ],
   "source": [
    "print(len(actuals), len(actuals[0]), actuals[0][:5])\n",
    "print(len(preds), len(preds[0]), preds[0][:5])\n",
    "print(len(cat_feats), len(cat_feats[0]), cat_feats[0][:5])\n",
    "print(len(num_feats), len(num_feats[0]))"
   ]
  },
  {
   "cell_type": "code",
   "execution_count": 31,
   "metadata": {},
   "outputs": [],
   "source": [
    "final_preds = [item for sublist in preds for item in sublist]\n",
    "final_actuals = [item for sublist in actuals for item in sublist]\n",
    "final_cat_feats = [item for sublist in cat_feats for item in sublist]\n",
    "final_num_feats = [item for sublist in num_feats for item in sublist]"
   ]
  },
  {
   "cell_type": "code",
   "execution_count": 39,
   "metadata": {},
   "outputs": [
    {
     "data": {
      "text/plain": [
       "(240538,\n",
       " 240538,\n",
       " 240538,\n",
       " 240538,\n",
       " [[3.0], [3.0], [4.0]],\n",
       " [[3.291585922241211], [3.7761363983154297], [3.0904593467712402]],\n",
       " [array([294990,    952]), array([372871,   1306]), array([207396,   3924])])"
      ]
     },
     "execution_count": 39,
     "metadata": {},
     "output_type": "execute_result"
    }
   ],
   "source": [
    "(len(final_preds), len(final_actuals), len(final_cat_feats),\n",
    " len(final_num_feats), final_actuals[:3], final_preds[:3],\n",
    " final_cat_feats[:3])"
   ]
  },
  {
   "cell_type": "code",
   "execution_count": 33,
   "metadata": {},
   "outputs": [
    {
     "name": "stdout",
     "output_type": "stream",
     "text": [
      "Test RMSE: 0.8811\n"
     ]
    }
   ],
   "source": [
    "from sklearn.metrics import mean_squared_error\n",
    "rmse = np.sqrt(mean_squared_error(y_true=final_actuals,\n",
    "                                  y_pred=final_preds))\n",
    "print('Test RMSE: %0.4f' % (rmse))"
   ]
  },
  {
   "cell_type": "code",
   "execution_count": 40,
   "metadata": {},
   "outputs": [
    {
     "name": "stdout",
     "output_type": "stream",
     "text": [
      "(240538, 4)\n",
      "  actual                  pred       cat_feats  \\\n",
      "0  [3.0]   [3.291585922241211]   [294990, 952]   \n",
      "1  [3.0]  [3.7761363983154297]  [372871, 1306]   \n",
      "2  [4.0]  [3.0904593467712402]  [207396, 3924]   \n",
      "3  [2.0]  [3.9861674308776855]   [330647, 357]   \n",
      "4  [3.0]  [3.3251028060913086]   [169970, 311]   \n",
      "\n",
      "                                           num_feats  \n",
      "0  [686.0, 26.1916, 818.0, 116.85714, 27.266666, ...  \n",
      "1  [0.0, 0.0, 99.0, 14.142858, 3.3, 4.0685196, 55...  \n",
      "2  [0.0, 0.0, 96.0, 13.714286, 3.2, 2.7830741, 81...  \n",
      "3  [50.0, 7.071068, 280.0, 40.0, 9.333333, 4.0720...  \n",
      "4  [861.0, 29.342802, 1162.0, 166.0, 38.733334, 3...  \n"
     ]
    }
   ],
   "source": [
    "pred_df = pd.DataFrame({'actual': final_actuals, 'pred': final_preds,\n",
    "                        'cat_feats': final_cat_feats,\n",
    "                        'num_feats': final_num_feats})\n",
    "print(pred_df.shape)\n",
    "print(pred_df.head())"
   ]
  },
  {
   "cell_type": "code",
   "execution_count": 43,
   "metadata": {},
   "outputs": [
    {
     "data": {
      "text/html": [
       "<div>\n",
       "<style scoped>\n",
       "    .dataframe tbody tr th:only-of-type {\n",
       "        vertical-align: middle;\n",
       "    }\n",
       "\n",
       "    .dataframe tbody tr th {\n",
       "        vertical-align: top;\n",
       "    }\n",
       "\n",
       "    .dataframe thead th {\n",
       "        text-align: right;\n",
       "    }\n",
       "</style>\n",
       "<table border=\"1\" class=\"dataframe\">\n",
       "  <thead>\n",
       "    <tr style=\"text-align: right;\">\n",
       "      <th></th>\n",
       "      <th>actual</th>\n",
       "      <th>pred</th>\n",
       "      <th>cat_feats</th>\n",
       "      <th>num_feats</th>\n",
       "      <th>MSE</th>\n",
       "    </tr>\n",
       "  </thead>\n",
       "  <tbody>\n",
       "    <tr>\n",
       "      <th>0</th>\n",
       "      <td>[3.0]</td>\n",
       "      <td>[3.291585922241211]</td>\n",
       "      <td>[294990, 952]</td>\n",
       "      <td>[686.0, 26.1916, 818.0, 116.85714, 27.266666, ...</td>\n",
       "      <td>0.085022</td>\n",
       "    </tr>\n",
       "    <tr>\n",
       "      <th>1</th>\n",
       "      <td>[3.0]</td>\n",
       "      <td>[3.7761363983154297]</td>\n",
       "      <td>[372871, 1306]</td>\n",
       "      <td>[0.0, 0.0, 99.0, 14.142858, 3.3, 4.0685196, 55...</td>\n",
       "      <td>0.602388</td>\n",
       "    </tr>\n",
       "    <tr>\n",
       "      <th>2</th>\n",
       "      <td>[4.0]</td>\n",
       "      <td>[3.0904593467712402]</td>\n",
       "      <td>[207396, 3924]</td>\n",
       "      <td>[0.0, 0.0, 96.0, 13.714286, 3.2, 2.7830741, 81...</td>\n",
       "      <td>0.827264</td>\n",
       "    </tr>\n",
       "    <tr>\n",
       "      <th>3</th>\n",
       "      <td>[2.0]</td>\n",
       "      <td>[3.9861674308776855]</td>\n",
       "      <td>[330647, 357]</td>\n",
       "      <td>[50.0, 7.071068, 280.0, 40.0, 9.333333, 4.0720...</td>\n",
       "      <td>3.944861</td>\n",
       "    </tr>\n",
       "    <tr>\n",
       "      <th>4</th>\n",
       "      <td>[3.0]</td>\n",
       "      <td>[3.3251028060913086]</td>\n",
       "      <td>[169970, 311]</td>\n",
       "      <td>[861.0, 29.342802, 1162.0, 166.0, 38.733334, 3...</td>\n",
       "      <td>0.105692</td>\n",
       "    </tr>\n",
       "  </tbody>\n",
       "</table>\n",
       "</div>"
      ],
      "text/plain": [
       "  actual                  pred       cat_feats  \\\n",
       "0  [3.0]   [3.291585922241211]   [294990, 952]   \n",
       "1  [3.0]  [3.7761363983154297]  [372871, 1306]   \n",
       "2  [4.0]  [3.0904593467712402]  [207396, 3924]   \n",
       "3  [2.0]  [3.9861674308776855]   [330647, 357]   \n",
       "4  [3.0]  [3.3251028060913086]   [169970, 311]   \n",
       "\n",
       "                                           num_feats       MSE  \n",
       "0  [686.0, 26.1916, 818.0, 116.85714, 27.266666, ...  0.085022  \n",
       "1  [0.0, 0.0, 99.0, 14.142858, 3.3, 4.0685196, 55...  0.602388  \n",
       "2  [0.0, 0.0, 96.0, 13.714286, 3.2, 2.7830741, 81...  0.827264  \n",
       "3  [50.0, 7.071068, 280.0, 40.0, 9.333333, 4.0720...  3.944861  \n",
       "4  [861.0, 29.342802, 1162.0, 166.0, 38.733334, 3...  0.105692  "
      ]
     },
     "execution_count": 43,
     "metadata": {},
     "output_type": "execute_result"
    }
   ],
   "source": [
    "pred_df['MSE'] = list(map(lambda x, y: mean_squared_error(x, y),\n",
    "                          pred_df['actual'], pred_df['pred']))\n",
    "pred_df.head()"
   ]
  },
  {
   "cell_type": "code",
   "execution_count": 44,
   "metadata": {},
   "outputs": [
    {
     "data": {
      "text/plain": [
       "count    240538.000000\n",
       "mean          0.776298\n",
       "std           1.283729\n",
       "min           0.000000\n",
       "25%           0.069651\n",
       "50%           0.311905\n",
       "75%           0.919232\n",
       "max          15.923751\n",
       "Name: MSE, dtype: float64"
      ]
     },
     "execution_count": 44,
     "metadata": {},
     "output_type": "execute_result"
    }
   ],
   "source": [
    "pred_df['MSE'].describe()"
   ]
  },
  {
   "cell_type": "code",
   "execution_count": 46,
   "metadata": {},
   "outputs": [
    {
     "data": {
      "text/html": [
       "<div>\n",
       "<style scoped>\n",
       "    .dataframe tbody tr th:only-of-type {\n",
       "        vertical-align: middle;\n",
       "    }\n",
       "\n",
       "    .dataframe tbody tr th {\n",
       "        vertical-align: top;\n",
       "    }\n",
       "\n",
       "    .dataframe thead th {\n",
       "        text-align: right;\n",
       "    }\n",
       "</style>\n",
       "<table border=\"1\" class=\"dataframe\">\n",
       "  <thead>\n",
       "    <tr style=\"text-align: right;\">\n",
       "      <th></th>\n",
       "      <th>actual</th>\n",
       "      <th>pred</th>\n",
       "      <th>cat_feats</th>\n",
       "      <th>num_feats</th>\n",
       "      <th>MSE</th>\n",
       "    </tr>\n",
       "  </thead>\n",
       "  <tbody>\n",
       "    <tr>\n",
       "      <th>0</th>\n",
       "      <td>[4.0]</td>\n",
       "      <td>[4.0]</td>\n",
       "      <td>[141335, 2742]</td>\n",
       "      <td>[912.0, 30.199337, 1724.0, 246.28572, 57.46666...</td>\n",
       "      <td>0.000000e+00</td>\n",
       "    </tr>\n",
       "    <tr>\n",
       "      <th>1</th>\n",
       "      <td>[3.0]</td>\n",
       "      <td>[3.0000030994415283]</td>\n",
       "      <td>[222657, 2199]</td>\n",
       "      <td>[6.0, 2.4494898, 197.0, 28.142857, 6.5666666, ...</td>\n",
       "      <td>9.606538e-12</td>\n",
       "    </tr>\n",
       "    <tr>\n",
       "      <th>2</th>\n",
       "      <td>[3.0]</td>\n",
       "      <td>[2.9999961853027344]</td>\n",
       "      <td>[310545, 2199]</td>\n",
       "      <td>[0.0, 0.0, 211.0, 30.142857, 7.0333333, 3.7031...</td>\n",
       "      <td>1.455192e-11</td>\n",
       "    </tr>\n",
       "    <tr>\n",
       "      <th>3</th>\n",
       "      <td>[3.0]</td>\n",
       "      <td>[2.999993085861206]</td>\n",
       "      <td>[171594, 3341]</td>\n",
       "      <td>[1245.0, 35.284557, 1753.0, 250.42857, 58.4333...</td>\n",
       "      <td>4.780532e-11</td>\n",
       "    </tr>\n",
       "    <tr>\n",
       "      <th>4</th>\n",
       "      <td>[2.0]</td>\n",
       "      <td>[2.0000083446502686]</td>\n",
       "      <td>[243525, 107]</td>\n",
       "      <td>[25.0, 5.0, 334.0, 47.714287, 11.133333, 1.484...</td>\n",
       "      <td>6.963319e-11</td>\n",
       "    </tr>\n",
       "  </tbody>\n",
       "</table>\n",
       "</div>"
      ],
      "text/plain": [
       "  actual                  pred       cat_feats  \\\n",
       "0  [4.0]                 [4.0]  [141335, 2742]   \n",
       "1  [3.0]  [3.0000030994415283]  [222657, 2199]   \n",
       "2  [3.0]  [2.9999961853027344]  [310545, 2199]   \n",
       "3  [3.0]   [2.999993085861206]  [171594, 3341]   \n",
       "4  [2.0]  [2.0000083446502686]   [243525, 107]   \n",
       "\n",
       "                                           num_feats           MSE  \n",
       "0  [912.0, 30.199337, 1724.0, 246.28572, 57.46666...  0.000000e+00  \n",
       "1  [6.0, 2.4494898, 197.0, 28.142857, 6.5666666, ...  9.606538e-12  \n",
       "2  [0.0, 0.0, 211.0, 30.142857, 7.0333333, 3.7031...  1.455192e-11  \n",
       "3  [1245.0, 35.284557, 1753.0, 250.42857, 58.4333...  4.780532e-11  \n",
       "4  [25.0, 5.0, 334.0, 47.714287, 11.133333, 1.484...  6.963319e-11  "
      ]
     },
     "execution_count": 46,
     "metadata": {},
     "output_type": "execute_result"
    }
   ],
   "source": [
    "# sort the dataframe by MSE\n",
    "pred_df.sort_values('MSE', ascending=True, inplace=True)\n",
    "pred_df.reset_index(drop=True, inplace=True)\n",
    "pred_df.head()"
   ]
  },
  {
   "cell_type": "code",
   "execution_count": 50,
   "metadata": {},
   "outputs": [],
   "source": [
    "# save\n",
    "VISUALIZATION_DIR = os.path.join(DATA_DIR, 'visualization')\n",
    "out_fn = os.path.join(\n",
    "    VISUALIZATION_DIR,\n",
    "    'test_data_for_visualization_{}.h5'.format(FILE_NUM))\n",
    "pred_df.to_hdf(out_fn, key='stage', mode='w')"
   ]
  },
  {
   "cell_type": "code",
   "execution_count": 12,
   "metadata": {},
   "outputs": [],
   "source": [
    "# read\n",
    "out_fn = os.path.join(\n",
    "    VISUALIZATION_DIR,\n",
    "    'test_data_for_visualization_{}.h5'.format(FILE_NUM))\n",
    "pred_df = pd.read_hdf(out_fn, key='stage')"
   ]
  },
  {
   "cell_type": "code",
   "execution_count": 13,
   "metadata": {},
   "outputs": [],
   "source": [
    "num_examples = 10"
   ]
  },
  {
   "cell_type": "code",
   "execution_count": 14,
   "metadata": {},
   "outputs": [
    {
     "name": "stdout",
     "output_type": "stream",
     "text": [
      "(10, 5)\n",
      "(10, 5)\n",
      "  actual                  pred       cat_feats  \\\n",
      "0  [4.0]                 [4.0]  [141335, 2742]   \n",
      "1  [3.0]  [3.0000030994415283]  [222657, 2199]   \n",
      "2  [3.0]  [2.9999961853027344]  [310545, 2199]   \n",
      "3  [3.0]   [2.999993085861206]  [171594, 3341]   \n",
      "4  [2.0]  [2.0000083446502686]   [243525, 107]   \n",
      "5  [4.0]   [4.000009059906006]  [270054, 3916]   \n",
      "6  [4.0]  [3.9999871253967285]   [145515, 333]   \n",
      "7  [4.0]   [4.000020980834961]  [224155, 2151]   \n",
      "8  [3.0]  [3.0000224113464355]  [408078, 2283]   \n",
      "9  [4.0]   [4.000025749206543]   [140234, 482]   \n",
      "\n",
      "                                           num_feats           MSE  \n",
      "0  [912.0, 30.199337, 1724.0, 246.28572, 57.46666...  0.000000e+00  \n",
      "1  [6.0, 2.4494898, 197.0, 28.142857, 6.5666666, ...  9.606538e-12  \n",
      "2  [0.0, 0.0, 211.0, 30.142857, 7.0333333, 3.7031...  1.455192e-11  \n",
      "3  [1245.0, 35.284557, 1753.0, 250.42857, 58.4333...  4.780532e-11  \n",
      "4  [25.0, 5.0, 334.0, 47.714287, 11.133333, 1.484...  6.963319e-11  \n",
      "5  [139.0, 11.789826, 194.0, 27.714285, 6.4666667...  8.208190e-11  \n",
      "6  [681.0, 26.095976, 863.0, 123.28571, 28.766666...  1.657554e-10  \n",
      "7  [51.0, 7.1414285, 202.0, 28.857143, 6.733333, ...  4.401954e-10  \n",
      "8  [415.0, 20.37155, 1132.0, 161.71428, 37.733334...  5.022684e-10  \n",
      "9  [29.0, 5.3851647, 414.0, 59.142857, 13.8, 3.73...  6.630216e-10  \n",
      "  actual                  pred       cat_feats  \\\n",
      "0  [1.0]   [4.832076549530029]  [392363, 2019]   \n",
      "1  [1.0]  [4.8322954177856445]  [401943, 1946]   \n",
      "2  [1.0]   [4.852969646453857]  [269417, 2451]   \n",
      "3  [1.0]   [4.857330322265625]  [369346, 2802]   \n",
      "4  [1.0]   [4.864819049835205]   [52753, 2171]   \n",
      "5  [1.0]  [4.8773698806762695]  [199278, 2861]   \n",
      "6  [1.0]   [4.880112648010254]  [277832, 2451]   \n",
      "7  [1.0]   [4.907154560089111]  [172050, 2830]   \n",
      "8  [1.0]   [4.910505294799805]  [210057, 2907]   \n",
      "9  [1.0]   [4.990457534790039]  [471949, 3878]   \n",
      "\n",
      "                                           num_feats        MSE  \n",
      "0  [181.0, 13.453624, 155.0, 22.142857, 5.1666665...  14.684811  \n",
      "1  [56.0, 7.483315, 68.0, 9.714286, 2.2666667, 4....  14.686488  \n",
      "2  [936.0, 30.594116, 1168.0, 166.85715, 38.93333...  14.845375  \n",
      "3  [1973.0, 44.418465, 349.0, 49.857143, 11.63333...  14.878997  \n",
      "4  [194.0, 13.928389, 227.0, 32.42857, 7.5666666,...  14.936826  \n",
      "5  [373.0, 19.313208, 952.0, 136.0, 31.733334, 4....  15.033997  \n",
      "6  [403.0, 20.07486, 806.0, 115.14286, 26.866667,...  15.055274  \n",
      "7  [63.0, 7.937254, 0.0, 0.0, 0.0, 4.85, 3.0, 949...  15.265857  \n",
      "8  [70.0, 8.3666, 0.0, 0.0, 0.0, 5.0, 1.0, 314.0,...  15.292052  \n",
      "9  [-1.0, -1.0, 0.0, 0.0, 0.0, 5.0, 1.0, 1880.0, ...  15.923751  \n"
     ]
    }
   ],
   "source": [
    "positive_examples = pred_df.head(num_examples)\n",
    "negative_examples = pred_df.tail(num_examples)\n",
    "positive_examples.reset_index(drop=True, inplace=True)\n",
    "negative_examples.reset_index(drop=True, inplace=True)\n",
    "\n",
    "print(positive_examples.shape)\n",
    "print(negative_examples.shape)\n",
    "\n",
    "print(positive_examples.head(10))\n",
    "print(negative_examples.head(10))"
   ]
  },
  {
   "cell_type": "markdown",
   "metadata": {},
   "source": [
    "### Verifying the model output on a single record"
   ]
  },
  {
   "cell_type": "code",
   "execution_count": 15,
   "metadata": {},
   "outputs": [
    {
     "name": "stdout",
     "output_type": "stream",
     "text": [
      "Actual:  [4.0]\n",
      "Actual Pred:  [4.000009059906006]\n",
      "Calculated Pred:  tensor([[4.0000]], grad_fn=<AddmmBackward>)\n"
     ]
    }
   ],
   "source": [
    "i=5\n",
    "actual = positive_examples.loc[i, 'actual']\n",
    "actual_pred = positive_examples.loc[i, 'pred']\n",
    "x1 = tensor(positive_examples.loc[i, 'cat_feats'])\n",
    "x1 = x1.reshape(1, x1.size()[0])\n",
    "x2 = tensor(positive_examples.loc[i, 'num_feats'])\n",
    "x2 = x2.reshape(1, x2.size()[0])\n",
    "model.eval()\n",
    "calc_pred = model(x1, x2)\n",
    "print('Actual: ', actual)\n",
    "print('Actual Pred: ', actual_pred)\n",
    "print('Calculated Pred: ', calc_pred)"
   ]
  },
  {
   "cell_type": "markdown",
   "metadata": {},
   "source": [
    "### Read movie titles data for visualization"
   ]
  },
  {
   "cell_type": "code",
   "execution_count": 16,
   "metadata": {},
   "outputs": [],
   "source": [
    "# read movie titles\n",
    "movie_titles = pd.read_csv(os.path.join(DATA_DIR, 'movie_titles.csv'),\n",
    "                           encoding = 'ISO-8859-1', \n",
    "                           header = None, \n",
    "                           names = ['Id', 'Year', 'Name'])"
   ]
  },
  {
   "cell_type": "code",
   "execution_count": 17,
   "metadata": {},
   "outputs": [
    {
     "name": "stdout",
     "output_type": "stream",
     "text": [
      "17770\n"
     ]
    }
   ],
   "source": [
    "item2idx = json.load(open(ITEM2IDX_FN))\n",
    "movie_titles['mapped_id'] = movie_titles['Id'].apply(\n",
    "    lambda x: item2idx[str(x)])\n",
    "movie_title_dct = dict(zip(movie_titles['mapped_id'],\n",
    "                           movie_titles['Name']))\n",
    "print(len(movie_title_dct))\n",
    "del item2idx, movie_titles"
   ]
  },
  {
   "cell_type": "markdown",
   "metadata": {},
   "source": [
    "### Visualization"
   ]
  },
  {
   "cell_type": "code",
   "execution_count": 18,
   "metadata": {},
   "outputs": [
    {
     "data": {
      "text/html": [
       "        <script type=\"text/javascript\">\n",
       "        window.PlotlyConfig = {MathJaxConfig: 'local'};\n",
       "        if (window.MathJax) {MathJax.Hub.Config({SVG: {font: \"STIX-Web\"}});}\n",
       "        if (typeof require !== 'undefined') {\n",
       "        require.undef(\"plotly\");\n",
       "        requirejs.config({\n",
       "            paths: {\n",
       "                'plotly': ['https://cdn.plot.ly/plotly-latest.min']\n",
       "            }\n",
       "        });\n",
       "        require(['plotly'], function(Plotly) {\n",
       "            window._Plotly = Plotly;\n",
       "        });\n",
       "        }\n",
       "        </script>\n",
       "        "
      ]
     },
     "metadata": {},
     "output_type": "display_data"
    }
   ],
   "source": [
    "from plotly.offline import init_notebook_mode, plot, iplot\n",
    "import plotly.graph_objs as go\n",
    "init_notebook_mode(connected=True)"
   ]
  },
  {
   "cell_type": "code",
   "execution_count": 19,
   "metadata": {},
   "outputs": [],
   "source": [
    "def plot_hist_intermediate_outputs(arr, layer_name):\n",
    "    \n",
    "    if len(arr.shape) == 2:\n",
    "        arr_reshaped = arr.reshape(arr.shape[1])\n",
    "    else:\n",
    "        arr_reshaped = arr\n",
    "    _max = arr_reshaped.max()\n",
    "    _min = arr_reshaped.min()\n",
    "    _len = arr_reshaped.shape[0]\n",
    "    size = int((_max - _min)//_len)\n",
    "    \n",
    "    # create trace\n",
    "    trace = go.Histogram(x=arr_reshaped,\n",
    "                         name='Layer Output',\n",
    "                         xbins=dict(start=_min, end=_max, size=size),\n",
    "                         marker=dict(color='#db0000'))\n",
    "\n",
    "    # create layout\n",
    "    layout = go.Layout(\n",
    "        title='Distribution of the output of layer {}'.format(layer_name),\n",
    "        xaxis=dict(title='Output of Layer {}'.format(layer_name)),\n",
    "        yaxis=dict(title='Count'),\n",
    "        bargap=0.2)\n",
    "\n",
    "    # create plot\n",
    "    fig = go.Figure(data=[trace], layout=layout)\n",
    "    iplot(fig)\n",
    "    \n",
    "    \n",
    "def plot_scatter_intermediate_outputs(arr, layer_name):\n",
    "    \n",
    "    if len(arr.shape) == 2:\n",
    "        arr_reshaped = arr.reshape(arr.shape[1])\n",
    "    else:\n",
    "        arr_reshaped = arr\n",
    "    \n",
    "    # Create trace\n",
    "    trace = go.Scatter(x = list(range(arr_reshaped.shape[0])),\n",
    "                       y = arr_reshaped,\n",
    "                       marker = dict(color = '#db0000'))\n",
    "    # Create layout\n",
    "    layout = dict(title = 'Output of layer {}'.format(layer_name),\n",
    "                  xaxis = dict(title = 'Dimension'),\n",
    "                  yaxis = dict(title = 'Layer Output'))\n",
    "\n",
    "    # Create plot\n",
    "    fig = go.Figure(data=[trace], layout=layout)\n",
    "    iplot(fig)\n",
    "    \n",
    "    \n",
    "def plot_scatter_intermediate_outputs_multitrace(\n",
    "    pos_out_mean, neg_out_mean, pos_name, neg_name, title):\n",
    "    \n",
    "    color1 = '#9467bd'\n",
    "    color2 = '#F08B00'\n",
    "\n",
    "    trace1 = go.Scatter(x = list(range(len(pos_out_mean))),\n",
    "                        y = pos_out_mean,\n",
    "                        name = pos_name,\n",
    "                        line = dict(color = color1))\n",
    "\n",
    "    trace2 = go.Scatter(x = list(range(len(neg_out_mean))),\n",
    "                        y = neg_out_mean,\n",
    "                        name = neg_name,\n",
    "                        yaxis = 'y2', line = dict(color = color2))\n",
    "\n",
    "    data = [trace1, trace2]\n",
    "\n",
    "    layout = go.Layout(\n",
    "        title = title,\n",
    "        yaxis = dict(title = pos_name,\n",
    "                     titlefont = dict(color = color1),\n",
    "                     tickfont = dict(color = color1)),\n",
    "        yaxis2 = dict(title = neg_name,\n",
    "                      overlaying = 'y', side = 'right',\n",
    "                      titlefont = dict(color = color2),\n",
    "                      tickfont = dict(color = color2)))\n",
    "\n",
    "    fig = go.Figure(data=data, layout=layout)\n",
    "\n",
    "    fig.show()"
   ]
  },
  {
   "cell_type": "code",
   "execution_count": 20,
   "metadata": {},
   "outputs": [],
   "source": [
    "def get_data_for_visualization(data, index):\n",
    "    \n",
    "    assert index <= 9\n",
    "    x1 = tensor(data.loc[index, 'cat_feats'])\n",
    "    x1 = x1.reshape(1, x1.size()[0])\n",
    "    x2 = tensor(data.loc[index, 'num_feats'])\n",
    "    x2 = x2.reshape(1, x2.size()[0])\n",
    "    \n",
    "    return x1, x2"
   ]
  },
  {
   "cell_type": "code",
   "execution_count": 21,
   "metadata": {},
   "outputs": [],
   "source": [
    "def get_mean_metrics_for_visualization(pos_examples, neg_examples,\n",
    "                                       layer_name, mean_type):\n",
    "    if mean_type == 'output':\n",
    "        axis = 1\n",
    "    elif mean_type == 'feature':\n",
    "        axis = 0\n",
    "    \n",
    "    pos_out = np.concatenate([x[layer_name] for x in pos_examples])\n",
    "    print(pos_out.shape)\n",
    "    pos_out_mean = pos_out.mean(axis=axis)\n",
    "    print(pos_out_mean.shape)\n",
    "\n",
    "    neg_out = np.concatenate([x[layer_name] for x in neg_examples])\n",
    "    print(neg_out.shape)\n",
    "    neg_out_mean = neg_out.mean(axis=axis)\n",
    "    print(neg_out_mean.shape)\n",
    "    \n",
    "    return pos_out_mean, neg_out_mean"
   ]
  },
  {
   "cell_type": "code",
   "execution_count": 22,
   "metadata": {},
   "outputs": [
    {
     "data": {
      "text/plain": [
       "True"
      ]
     },
     "execution_count": 22,
     "metadata": {},
     "output_type": "execute_result"
    }
   ],
   "source": [
    "isinstance(model._modules['embeddings'], nn.ModuleList)"
   ]
  },
  {
   "cell_type": "code",
   "execution_count": 19,
   "metadata": {},
   "outputs": [],
   "source": [
    "import torch.nn as nn\n",
    "\n",
    "\n",
    "activations = {}\n",
    "def get_activation(name):\n",
    "    def hook(m, i, o):\n",
    "        activations[name] = o.detach().numpy()\n",
    "    return hook\n",
    "\n",
    "\n",
    "def get_all_layers(model):\n",
    "    for name, layer in model._modules.items():\n",
    "        if isinstance(layer, nn.ModuleList):\n",
    "            get_all_layers(layer)\n",
    "        else:\n",
    "            layer.register_forward_hook(get_activation(name))"
   ]
  },
  {
   "cell_type": "code",
   "execution_count": 20,
   "metadata": {},
   "outputs": [],
   "source": [
    "for param in model.parameters():\n",
    "    param.requires_grad = False"
   ]
  },
  {
   "cell_type": "code",
   "execution_count": 21,
   "metadata": {},
   "outputs": [
    {
     "data": {
      "text/plain": [
       "DenseFFNN(\n",
       "  (embeddings): ModuleList(\n",
       "    (0): Embedding(480189, 100)\n",
       "    (1): Embedding(17770, 100)\n",
       "  )\n",
       "  (lin1): Linear(in_features=983, out_features=300, bias=True)\n",
       "  (lin2): Linear(in_features=300, out_features=100, bias=True)\n",
       "  (lin3): Linear(in_features=100, out_features=1, bias=True)\n",
       "  (bn1): BatchNorm1d(783, eps=1e-05, momentum=0.1, affine=True, track_running_stats=True)\n",
       "  (bn2): BatchNorm1d(300, eps=1e-05, momentum=0.1, affine=True, track_running_stats=True)\n",
       "  (bn3): BatchNorm1d(100, eps=1e-05, momentum=0.1, affine=True, track_running_stats=True)\n",
       "  (emb_drop): Dropout(p=0.6, inplace=False)\n",
       "  (drops): Dropout(p=0.3, inplace=False)\n",
       ")"
      ]
     },
     "execution_count": 21,
     "metadata": {},
     "output_type": "execute_result"
    }
   ],
   "source": [
    "model.eval()"
   ]
  },
  {
   "cell_type": "code",
   "execution_count": 38,
   "metadata": {},
   "outputs": [
    {
     "name": "stdout",
     "output_type": "stream",
     "text": [
      "positive\n",
      "Index:  0\n",
      "-75.357994\n",
      "Index:  1\n",
      "-62.649055\n",
      "Index:  2\n",
      "-70.207184\n",
      "Index:  3\n",
      "-131.07422\n",
      "Index:  4\n",
      "-93.24096\n",
      "Index:  5\n",
      "-63.63306\n",
      "Index:  6\n",
      "-81.840126\n",
      "Index:  7\n",
      "-76.84595\n",
      "Index:  8\n",
      "-77.19231\n",
      "Index:  9\n",
      "-90.65009\n",
      "negative\n",
      "Index:  0\n",
      "-55.781628\n",
      "Index:  1\n",
      "-53.87005\n",
      "Index:  2\n",
      "-107.41882\n",
      "Index:  3\n",
      "-77.1178\n",
      "Index:  4\n",
      "-70.8374\n",
      "Index:  5\n",
      "-87.65685\n",
      "Index:  6\n",
      "-77.475624\n",
      "Index:  7\n",
      "-56.707428\n",
      "Index:  8\n",
      "-53.564747\n",
      "Index:  9\n",
      "-66.37965\n"
     ]
    }
   ],
   "source": [
    "import copy\n",
    "positive_example_outs, negative_example_outs = [], []\n",
    "\n",
    "print('positive')\n",
    "for i in range(10):\n",
    "    print('Index: ', i)\n",
    "    get_all_layers(model)\n",
    "    x1, x2 = get_data_for_visualization(positive_examples, i)\n",
    "    _ = model(x1, x2)\n",
    "    print(activations['lin1'].mean())\n",
    "    positive_example_outs.append(copy.deepcopy(activations))\n",
    "    \n",
    "print('negative')\n",
    "for i in range(10):\n",
    "    print('Index: ', i)\n",
    "    get_all_layers(model)\n",
    "    x1, x2 = get_data_for_visualization(negative_examples, i)\n",
    "    _ = model(x1, x2)\n",
    "    print(activations['lin1'].mean())\n",
    "    negative_example_outs.append(copy.deepcopy(activations))"
   ]
  },
  {
   "cell_type": "code",
   "execution_count": 43,
   "metadata": {},
   "outputs": [
    {
     "data": {
      "text/plain": [
       "dict_keys(['0', '1', 'emb_drop', 'bn1', 'lin1', 'drops', 'bn2', 'lin2', 'bn3', 'lin3'])"
      ]
     },
     "execution_count": 43,
     "metadata": {},
     "output_type": "execute_result"
    }
   ],
   "source": [
    "activations.keys()"
   ]
  },
  {
   "cell_type": "code",
   "execution_count": 39,
   "metadata": {},
   "outputs": [
    {
     "data": {
      "text/plain": [
       "(10, -75.357994, -81.840126)"
      ]
     },
     "execution_count": 39,
     "metadata": {},
     "output_type": "execute_result"
    }
   ],
   "source": [
    "(len(positive_example_outs), positive_example_outs[0]['lin1'].mean(),\n",
    " positive_example_outs[6]['lin1'].mean())"
   ]
  },
  {
   "cell_type": "code",
   "execution_count": 40,
   "metadata": {},
   "outputs": [
    {
     "data": {
      "text/plain": [
       "(10, -55.781628, -77.475624)"
      ]
     },
     "execution_count": 40,
     "metadata": {},
     "output_type": "execute_result"
    }
   ],
   "source": [
    "(len(negative_example_outs), negative_example_outs[0]['lin1'].mean(),\n",
    " negative_example_outs[6]['lin1'].mean())"
   ]
  },
  {
   "cell_type": "markdown",
   "metadata": {},
   "source": [
    "#### movie embeddings"
   ]
  },
  {
   "cell_type": "code",
   "execution_count": 96,
   "metadata": {},
   "outputs": [],
   "source": [
    "layer_name = '1'"
   ]
  },
  {
   "cell_type": "code",
   "execution_count": 97,
   "metadata": {},
   "outputs": [
    {
     "name": "stdout",
     "output_type": "stream",
     "text": [
      "(10, 100)\n",
      "(100,)\n",
      "(10, 100)\n",
      "(100,)\n"
     ]
    }
   ],
   "source": [
    "# feature mean\n",
    "pos_out_mean, neg_out_mean = get_mean_metrics_for_visualization(\n",
    "    positive_example_outs, negative_example_outs, layer_name, 'feature')"
   ]
  },
  {
   "cell_type": "code",
   "execution_count": 98,
   "metadata": {},
   "outputs": [
    {
     "data": {
      "application/vnd.plotly.v1+json": {
       "config": {
        "plotlyServerURL": "https://plot.ly"
       },
       "data": [
        {
         "line": {
          "color": "#9467bd"
         },
         "name": "positive",
         "type": "scatter",
         "x": [
          0,
          1,
          2,
          3,
          4,
          5,
          6,
          7,
          8,
          9,
          10,
          11,
          12,
          13,
          14,
          15,
          16,
          17,
          18,
          19,
          20,
          21,
          22,
          23,
          24,
          25,
          26,
          27,
          28,
          29,
          30,
          31,
          32,
          33,
          34,
          35,
          36,
          37,
          38,
          39,
          40,
          41,
          42,
          43,
          44,
          45,
          46,
          47,
          48,
          49,
          50,
          51,
          52,
          53,
          54,
          55,
          56,
          57,
          58,
          59,
          60,
          61,
          62,
          63,
          64,
          65,
          66,
          67,
          68,
          69,
          70,
          71,
          72,
          73,
          74,
          75,
          76,
          77,
          78,
          79,
          80,
          81,
          82,
          83,
          84,
          85,
          86,
          87,
          88,
          89,
          90,
          91,
          92,
          93,
          94,
          95,
          96,
          97,
          98,
          99
         ],
         "y": [
          -0.5113825798034668,
          -0.9883209466934204,
          -0.07755469530820847,
          1.388967514038086,
          -0.5545463562011719,
          -0.2808536887168884,
          -0.7366690635681152,
          -0.6836709976196289,
          -0.6873564720153809,
          -0.05989816039800644,
          0.9222267270088196,
          1.1589243412017822,
          -0.4313954710960388,
          -0.7294588088989258,
          -0.08338283002376556,
          0.591468334197998,
          0.3264694809913635,
          -0.41331619024276733,
          0.9745444059371948,
          -0.48851221799850464,
          0.5776790380477905,
          0.5239959359169006,
          -0.24206319451332092,
          -0.15142479538917542,
          -0.014055120758712292,
          -0.5978967547416687,
          -0.5282062292098999,
          0.5525369048118591,
          0.6232427358627319,
          -0.6290752291679382,
          0.05848730728030205,
          0.4671343266963959,
          -0.05784809589385986,
          -0.6750926971435547,
          -0.28091853857040405,
          -0.1820490062236786,
          0.5876230001449585,
          -0.19092464447021484,
          0.3507475256919861,
          0.4319656789302826,
          -0.4150012135505676,
          0.1584288328886032,
          0.4294818937778473,
          -0.6814390420913696,
          0.24022753536701202,
          -0.1669008433818817,
          0.5332995057106018,
          0.7511786818504333,
          0.8036133646965027,
          0.1143730878829956,
          -0.24773761630058289,
          1.0041500329971313,
          0.09250830858945847,
          -0.42770904302597046,
          0.0699055939912796,
          0.05015379935503006,
          1.0027666091918945,
          0.689644992351532,
          0.5454534292221069,
          -0.4249139726161957,
          0.16778066754341125,
          0.2724667489528656,
          -0.02296200580894947,
          0.4253394603729248,
          -0.21793189644813538,
          -0.18337927758693695,
          -0.43136587738990784,
          0.2551204562187195,
          0.025060247629880905,
          -0.36398524045944214,
          0.36840322613716125,
          0.006790721323341131,
          -0.629902184009552,
          -1.2433959245681763,
          -0.34834152460098267,
          -0.653014063835144,
          -0.9348865747451782,
          0.2352258712053299,
          1.061265230178833,
          -0.5384098291397095,
          0.5255672931671143,
          -0.7174085378646851,
          1.0859203338623047,
          0.7906649708747864,
          0.3079000413417816,
          -0.5557354688644409,
          -0.39452192187309265,
          -1.0808168649673462,
          -0.8511670827865601,
          -0.631355881690979,
          0.3347269892692566,
          0.5594131350517273,
          0.10089032351970673,
          0.6211496591567993,
          -0.6306524276733398,
          -0.29109716415405273,
          -0.12201784551143646,
          0.4166933000087738,
          0.8284109234809875,
          0.28920578956604004
         ]
        },
        {
         "line": {
          "color": "#F08B00"
         },
         "name": "negative",
         "type": "scatter",
         "x": [
          0,
          1,
          2,
          3,
          4,
          5,
          6,
          7,
          8,
          9,
          10,
          11,
          12,
          13,
          14,
          15,
          16,
          17,
          18,
          19,
          20,
          21,
          22,
          23,
          24,
          25,
          26,
          27,
          28,
          29,
          30,
          31,
          32,
          33,
          34,
          35,
          36,
          37,
          38,
          39,
          40,
          41,
          42,
          43,
          44,
          45,
          46,
          47,
          48,
          49,
          50,
          51,
          52,
          53,
          54,
          55,
          56,
          57,
          58,
          59,
          60,
          61,
          62,
          63,
          64,
          65,
          66,
          67,
          68,
          69,
          70,
          71,
          72,
          73,
          74,
          75,
          76,
          77,
          78,
          79,
          80,
          81,
          82,
          83,
          84,
          85,
          86,
          87,
          88,
          89,
          90,
          91,
          92,
          93,
          94,
          95,
          96,
          97,
          98,
          99
         ],
         "y": [
          0.8415136337280273,
          0.08648937195539474,
          0.6951646208763123,
          -0.17877288162708282,
          -0.011820602230727673,
          0.7112486958503723,
          -0.17656022310256958,
          0.29690343141555786,
          -0.29089444875717163,
          -0.072537362575531,
          -0.1866355836391449,
          -0.3643297255039215,
          -0.2855324149131775,
          0.5222997665405273,
          -0.8951102495193481,
          -0.46974802017211914,
          0.3269672989845276,
          0.40276750922203064,
          -0.4464492201805115,
          -0.03135443478822708,
          -0.8299074172973633,
          -0.34633299708366394,
          0.5752736330032349,
          0.13494941592216492,
          0.28632330894470215,
          0.7513530850410461,
          0.5522600412368774,
          -0.2934018075466156,
          0.15139080584049225,
          -0.6032358407974243,
          -0.17880190908908844,
          -0.1872190684080124,
          0.34044018387794495,
          0.7845554351806641,
          0.35315316915512085,
          0.11541970074176788,
          0.7086673974990845,
          -0.33101919293403625,
          -0.951023280620575,
          0.22601182758808136,
          -0.3493863344192505,
          0.24138939380645752,
          0.3633562922477722,
          1.0215628147125244,
          -0.4259609282016754,
          0.4866516590118408,
          -0.1803746372461319,
          1.3077086210250854,
          -1.0147584676742554,
          -0.21906094253063202,
          0.1685837060213089,
          0.05641983821988106,
          0.6132323741912842,
          0.17591527104377747,
          -0.32405805587768555,
          0.007653164677321911,
          -0.3579542636871338,
          -0.0335325226187706,
          -0.07715632021427155,
          -0.9150636792182922,
          -0.1432555615901947,
          -0.3673717975616455,
          -0.5173946619033813,
          0.18209519982337952,
          -0.5635644793510437,
          0.7850712537765503,
          0.9813817739486694,
          0.20547457039356232,
          -0.40049228072166443,
          -0.01228344440460205,
          -0.08338415622711182,
          -1.0928153991699219,
          -0.39047056436538696,
          0.8352160453796387,
          0.22733473777770996,
          -0.1745131015777588,
          0.09466785937547684,
          -0.08230383694171906,
          -0.8484333753585815,
          -0.8078911900520325,
          0.11940312385559082,
          0.4991375803947449,
          0.9325977563858032,
          -0.5213404893875122,
          0.15454058349132538,
          -0.16139189898967743,
          -0.28623124957084656,
          -0.07744874805212021,
          0.3555939495563507,
          -0.4347045421600342,
          -0.7322176694869995,
          0.6075205206871033,
          0.09300900995731354,
          -0.5864788293838501,
          -0.7638763189315796,
          0.09046216309070587,
          -0.8663719296455383,
          0.17986160516738892,
          0.31517302989959717,
          0.12531891465187073
         ],
         "yaxis": "y2"
        }
       ],
       "layout": {
        "template": {
         "data": {
          "bar": [
           {
            "error_x": {
             "color": "#2a3f5f"
            },
            "error_y": {
             "color": "#2a3f5f"
            },
            "marker": {
             "line": {
              "color": "#E5ECF6",
              "width": 0.5
             }
            },
            "type": "bar"
           }
          ],
          "barpolar": [
           {
            "marker": {
             "line": {
              "color": "#E5ECF6",
              "width": 0.5
             }
            },
            "type": "barpolar"
           }
          ],
          "carpet": [
           {
            "aaxis": {
             "endlinecolor": "#2a3f5f",
             "gridcolor": "white",
             "linecolor": "white",
             "minorgridcolor": "white",
             "startlinecolor": "#2a3f5f"
            },
            "baxis": {
             "endlinecolor": "#2a3f5f",
             "gridcolor": "white",
             "linecolor": "white",
             "minorgridcolor": "white",
             "startlinecolor": "#2a3f5f"
            },
            "type": "carpet"
           }
          ],
          "choropleth": [
           {
            "colorbar": {
             "outlinewidth": 0,
             "ticks": ""
            },
            "type": "choropleth"
           }
          ],
          "contour": [
           {
            "colorbar": {
             "outlinewidth": 0,
             "ticks": ""
            },
            "colorscale": [
             [
              0,
              "#0d0887"
             ],
             [
              0.1111111111111111,
              "#46039f"
             ],
             [
              0.2222222222222222,
              "#7201a8"
             ],
             [
              0.3333333333333333,
              "#9c179e"
             ],
             [
              0.4444444444444444,
              "#bd3786"
             ],
             [
              0.5555555555555556,
              "#d8576b"
             ],
             [
              0.6666666666666666,
              "#ed7953"
             ],
             [
              0.7777777777777778,
              "#fb9f3a"
             ],
             [
              0.8888888888888888,
              "#fdca26"
             ],
             [
              1,
              "#f0f921"
             ]
            ],
            "type": "contour"
           }
          ],
          "contourcarpet": [
           {
            "colorbar": {
             "outlinewidth": 0,
             "ticks": ""
            },
            "type": "contourcarpet"
           }
          ],
          "heatmap": [
           {
            "colorbar": {
             "outlinewidth": 0,
             "ticks": ""
            },
            "colorscale": [
             [
              0,
              "#0d0887"
             ],
             [
              0.1111111111111111,
              "#46039f"
             ],
             [
              0.2222222222222222,
              "#7201a8"
             ],
             [
              0.3333333333333333,
              "#9c179e"
             ],
             [
              0.4444444444444444,
              "#bd3786"
             ],
             [
              0.5555555555555556,
              "#d8576b"
             ],
             [
              0.6666666666666666,
              "#ed7953"
             ],
             [
              0.7777777777777778,
              "#fb9f3a"
             ],
             [
              0.8888888888888888,
              "#fdca26"
             ],
             [
              1,
              "#f0f921"
             ]
            ],
            "type": "heatmap"
           }
          ],
          "heatmapgl": [
           {
            "colorbar": {
             "outlinewidth": 0,
             "ticks": ""
            },
            "colorscale": [
             [
              0,
              "#0d0887"
             ],
             [
              0.1111111111111111,
              "#46039f"
             ],
             [
              0.2222222222222222,
              "#7201a8"
             ],
             [
              0.3333333333333333,
              "#9c179e"
             ],
             [
              0.4444444444444444,
              "#bd3786"
             ],
             [
              0.5555555555555556,
              "#d8576b"
             ],
             [
              0.6666666666666666,
              "#ed7953"
             ],
             [
              0.7777777777777778,
              "#fb9f3a"
             ],
             [
              0.8888888888888888,
              "#fdca26"
             ],
             [
              1,
              "#f0f921"
             ]
            ],
            "type": "heatmapgl"
           }
          ],
          "histogram": [
           {
            "marker": {
             "colorbar": {
              "outlinewidth": 0,
              "ticks": ""
             }
            },
            "type": "histogram"
           }
          ],
          "histogram2d": [
           {
            "colorbar": {
             "outlinewidth": 0,
             "ticks": ""
            },
            "colorscale": [
             [
              0,
              "#0d0887"
             ],
             [
              0.1111111111111111,
              "#46039f"
             ],
             [
              0.2222222222222222,
              "#7201a8"
             ],
             [
              0.3333333333333333,
              "#9c179e"
             ],
             [
              0.4444444444444444,
              "#bd3786"
             ],
             [
              0.5555555555555556,
              "#d8576b"
             ],
             [
              0.6666666666666666,
              "#ed7953"
             ],
             [
              0.7777777777777778,
              "#fb9f3a"
             ],
             [
              0.8888888888888888,
              "#fdca26"
             ],
             [
              1,
              "#f0f921"
             ]
            ],
            "type": "histogram2d"
           }
          ],
          "histogram2dcontour": [
           {
            "colorbar": {
             "outlinewidth": 0,
             "ticks": ""
            },
            "colorscale": [
             [
              0,
              "#0d0887"
             ],
             [
              0.1111111111111111,
              "#46039f"
             ],
             [
              0.2222222222222222,
              "#7201a8"
             ],
             [
              0.3333333333333333,
              "#9c179e"
             ],
             [
              0.4444444444444444,
              "#bd3786"
             ],
             [
              0.5555555555555556,
              "#d8576b"
             ],
             [
              0.6666666666666666,
              "#ed7953"
             ],
             [
              0.7777777777777778,
              "#fb9f3a"
             ],
             [
              0.8888888888888888,
              "#fdca26"
             ],
             [
              1,
              "#f0f921"
             ]
            ],
            "type": "histogram2dcontour"
           }
          ],
          "mesh3d": [
           {
            "colorbar": {
             "outlinewidth": 0,
             "ticks": ""
            },
            "type": "mesh3d"
           }
          ],
          "parcoords": [
           {
            "line": {
             "colorbar": {
              "outlinewidth": 0,
              "ticks": ""
             }
            },
            "type": "parcoords"
           }
          ],
          "pie": [
           {
            "automargin": true,
            "type": "pie"
           }
          ],
          "scatter": [
           {
            "marker": {
             "colorbar": {
              "outlinewidth": 0,
              "ticks": ""
             }
            },
            "type": "scatter"
           }
          ],
          "scatter3d": [
           {
            "line": {
             "colorbar": {
              "outlinewidth": 0,
              "ticks": ""
             }
            },
            "marker": {
             "colorbar": {
              "outlinewidth": 0,
              "ticks": ""
             }
            },
            "type": "scatter3d"
           }
          ],
          "scattercarpet": [
           {
            "marker": {
             "colorbar": {
              "outlinewidth": 0,
              "ticks": ""
             }
            },
            "type": "scattercarpet"
           }
          ],
          "scattergeo": [
           {
            "marker": {
             "colorbar": {
              "outlinewidth": 0,
              "ticks": ""
             }
            },
            "type": "scattergeo"
           }
          ],
          "scattergl": [
           {
            "marker": {
             "colorbar": {
              "outlinewidth": 0,
              "ticks": ""
             }
            },
            "type": "scattergl"
           }
          ],
          "scattermapbox": [
           {
            "marker": {
             "colorbar": {
              "outlinewidth": 0,
              "ticks": ""
             }
            },
            "type": "scattermapbox"
           }
          ],
          "scatterpolar": [
           {
            "marker": {
             "colorbar": {
              "outlinewidth": 0,
              "ticks": ""
             }
            },
            "type": "scatterpolar"
           }
          ],
          "scatterpolargl": [
           {
            "marker": {
             "colorbar": {
              "outlinewidth": 0,
              "ticks": ""
             }
            },
            "type": "scatterpolargl"
           }
          ],
          "scatterternary": [
           {
            "marker": {
             "colorbar": {
              "outlinewidth": 0,
              "ticks": ""
             }
            },
            "type": "scatterternary"
           }
          ],
          "surface": [
           {
            "colorbar": {
             "outlinewidth": 0,
             "ticks": ""
            },
            "colorscale": [
             [
              0,
              "#0d0887"
             ],
             [
              0.1111111111111111,
              "#46039f"
             ],
             [
              0.2222222222222222,
              "#7201a8"
             ],
             [
              0.3333333333333333,
              "#9c179e"
             ],
             [
              0.4444444444444444,
              "#bd3786"
             ],
             [
              0.5555555555555556,
              "#d8576b"
             ],
             [
              0.6666666666666666,
              "#ed7953"
             ],
             [
              0.7777777777777778,
              "#fb9f3a"
             ],
             [
              0.8888888888888888,
              "#fdca26"
             ],
             [
              1,
              "#f0f921"
             ]
            ],
            "type": "surface"
           }
          ],
          "table": [
           {
            "cells": {
             "fill": {
              "color": "#EBF0F8"
             },
             "line": {
              "color": "white"
             }
            },
            "header": {
             "fill": {
              "color": "#C8D4E3"
             },
             "line": {
              "color": "white"
             }
            },
            "type": "table"
           }
          ]
         },
         "layout": {
          "annotationdefaults": {
           "arrowcolor": "#2a3f5f",
           "arrowhead": 0,
           "arrowwidth": 1
          },
          "coloraxis": {
           "colorbar": {
            "outlinewidth": 0,
            "ticks": ""
           }
          },
          "colorscale": {
           "diverging": [
            [
             0,
             "#8e0152"
            ],
            [
             0.1,
             "#c51b7d"
            ],
            [
             0.2,
             "#de77ae"
            ],
            [
             0.3,
             "#f1b6da"
            ],
            [
             0.4,
             "#fde0ef"
            ],
            [
             0.5,
             "#f7f7f7"
            ],
            [
             0.6,
             "#e6f5d0"
            ],
            [
             0.7,
             "#b8e186"
            ],
            [
             0.8,
             "#7fbc41"
            ],
            [
             0.9,
             "#4d9221"
            ],
            [
             1,
             "#276419"
            ]
           ],
           "sequential": [
            [
             0,
             "#0d0887"
            ],
            [
             0.1111111111111111,
             "#46039f"
            ],
            [
             0.2222222222222222,
             "#7201a8"
            ],
            [
             0.3333333333333333,
             "#9c179e"
            ],
            [
             0.4444444444444444,
             "#bd3786"
            ],
            [
             0.5555555555555556,
             "#d8576b"
            ],
            [
             0.6666666666666666,
             "#ed7953"
            ],
            [
             0.7777777777777778,
             "#fb9f3a"
            ],
            [
             0.8888888888888888,
             "#fdca26"
            ],
            [
             1,
             "#f0f921"
            ]
           ],
           "sequentialminus": [
            [
             0,
             "#0d0887"
            ],
            [
             0.1111111111111111,
             "#46039f"
            ],
            [
             0.2222222222222222,
             "#7201a8"
            ],
            [
             0.3333333333333333,
             "#9c179e"
            ],
            [
             0.4444444444444444,
             "#bd3786"
            ],
            [
             0.5555555555555556,
             "#d8576b"
            ],
            [
             0.6666666666666666,
             "#ed7953"
            ],
            [
             0.7777777777777778,
             "#fb9f3a"
            ],
            [
             0.8888888888888888,
             "#fdca26"
            ],
            [
             1,
             "#f0f921"
            ]
           ]
          },
          "colorway": [
           "#636efa",
           "#EF553B",
           "#00cc96",
           "#ab63fa",
           "#FFA15A",
           "#19d3f3",
           "#FF6692",
           "#B6E880",
           "#FF97FF",
           "#FECB52"
          ],
          "font": {
           "color": "#2a3f5f"
          },
          "geo": {
           "bgcolor": "white",
           "lakecolor": "white",
           "landcolor": "#E5ECF6",
           "showlakes": true,
           "showland": true,
           "subunitcolor": "white"
          },
          "hoverlabel": {
           "align": "left"
          },
          "hovermode": "closest",
          "mapbox": {
           "style": "light"
          },
          "paper_bgcolor": "white",
          "plot_bgcolor": "#E5ECF6",
          "polar": {
           "angularaxis": {
            "gridcolor": "white",
            "linecolor": "white",
            "ticks": ""
           },
           "bgcolor": "#E5ECF6",
           "radialaxis": {
            "gridcolor": "white",
            "linecolor": "white",
            "ticks": ""
           }
          },
          "scene": {
           "xaxis": {
            "backgroundcolor": "#E5ECF6",
            "gridcolor": "white",
            "gridwidth": 2,
            "linecolor": "white",
            "showbackground": true,
            "ticks": "",
            "zerolinecolor": "white"
           },
           "yaxis": {
            "backgroundcolor": "#E5ECF6",
            "gridcolor": "white",
            "gridwidth": 2,
            "linecolor": "white",
            "showbackground": true,
            "ticks": "",
            "zerolinecolor": "white"
           },
           "zaxis": {
            "backgroundcolor": "#E5ECF6",
            "gridcolor": "white",
            "gridwidth": 2,
            "linecolor": "white",
            "showbackground": true,
            "ticks": "",
            "zerolinecolor": "white"
           }
          },
          "shapedefaults": {
           "line": {
            "color": "#2a3f5f"
           }
          },
          "ternary": {
           "aaxis": {
            "gridcolor": "white",
            "linecolor": "white",
            "ticks": ""
           },
           "baxis": {
            "gridcolor": "white",
            "linecolor": "white",
            "ticks": ""
           },
           "bgcolor": "#E5ECF6",
           "caxis": {
            "gridcolor": "white",
            "linecolor": "white",
            "ticks": ""
           }
          },
          "title": {
           "x": 0.05
          },
          "xaxis": {
           "automargin": true,
           "gridcolor": "white",
           "linecolor": "white",
           "ticks": "",
           "title": {
            "standoff": 15
           },
           "zerolinecolor": "white",
           "zerolinewidth": 2
          },
          "yaxis": {
           "automargin": true,
           "gridcolor": "white",
           "linecolor": "white",
           "ticks": "",
           "title": {
            "standoff": 15
           },
           "zerolinecolor": "white",
           "zerolinewidth": 2
          }
         }
        },
        "title": {
         "text": "Feature mean by positive & negative examples for movie embeddings"
        },
        "yaxis": {
         "tickfont": {
          "color": "#9467bd"
         },
         "title": {
          "font": {
           "color": "#9467bd"
          },
          "text": "positive"
         }
        },
        "yaxis2": {
         "overlaying": "y",
         "side": "right",
         "tickfont": {
          "color": "#F08B00"
         },
         "title": {
          "font": {
           "color": "#F08B00"
          },
          "text": "negative"
         }
        }
       }
      },
      "text/html": [
       "<div>\n",
       "        \n",
       "        \n",
       "            <div id=\"8f0b04cf-3c3b-4610-9418-32ca4d2ca8d7\" class=\"plotly-graph-div\" style=\"height:525px; width:100%;\"></div>\n",
       "            <script type=\"text/javascript\">\n",
       "                require([\"plotly\"], function(Plotly) {\n",
       "                    window.PLOTLYENV=window.PLOTLYENV || {};\n",
       "                    \n",
       "                if (document.getElementById(\"8f0b04cf-3c3b-4610-9418-32ca4d2ca8d7\")) {\n",
       "                    Plotly.newPlot(\n",
       "                        '8f0b04cf-3c3b-4610-9418-32ca4d2ca8d7',\n",
       "                        [{\"line\": {\"color\": \"#9467bd\"}, \"name\": \"positive\", \"type\": \"scatter\", \"x\": [0, 1, 2, 3, 4, 5, 6, 7, 8, 9, 10, 11, 12, 13, 14, 15, 16, 17, 18, 19, 20, 21, 22, 23, 24, 25, 26, 27, 28, 29, 30, 31, 32, 33, 34, 35, 36, 37, 38, 39, 40, 41, 42, 43, 44, 45, 46, 47, 48, 49, 50, 51, 52, 53, 54, 55, 56, 57, 58, 59, 60, 61, 62, 63, 64, 65, 66, 67, 68, 69, 70, 71, 72, 73, 74, 75, 76, 77, 78, 79, 80, 81, 82, 83, 84, 85, 86, 87, 88, 89, 90, 91, 92, 93, 94, 95, 96, 97, 98, 99], \"y\": [-0.5113825798034668, -0.9883209466934204, -0.07755469530820847, 1.388967514038086, -0.5545463562011719, -0.2808536887168884, -0.7366690635681152, -0.6836709976196289, -0.6873564720153809, -0.05989816039800644, 0.9222267270088196, 1.1589243412017822, -0.4313954710960388, -0.7294588088989258, -0.08338283002376556, 0.591468334197998, 0.3264694809913635, -0.41331619024276733, 0.9745444059371948, -0.48851221799850464, 0.5776790380477905, 0.5239959359169006, -0.24206319451332092, -0.15142479538917542, -0.014055120758712292, -0.5978967547416687, -0.5282062292098999, 0.5525369048118591, 0.6232427358627319, -0.6290752291679382, 0.05848730728030205, 0.4671343266963959, -0.05784809589385986, -0.6750926971435547, -0.28091853857040405, -0.1820490062236786, 0.5876230001449585, -0.19092464447021484, 0.3507475256919861, 0.4319656789302826, -0.4150012135505676, 0.1584288328886032, 0.4294818937778473, -0.6814390420913696, 0.24022753536701202, -0.1669008433818817, 0.5332995057106018, 0.7511786818504333, 0.8036133646965027, 0.1143730878829956, -0.24773761630058289, 1.0041500329971313, 0.09250830858945847, -0.42770904302597046, 0.0699055939912796, 0.05015379935503006, 1.0027666091918945, 0.689644992351532, 0.5454534292221069, -0.4249139726161957, 0.16778066754341125, 0.2724667489528656, -0.02296200580894947, 0.4253394603729248, -0.21793189644813538, -0.18337927758693695, -0.43136587738990784, 0.2551204562187195, 0.025060247629880905, -0.36398524045944214, 0.36840322613716125, 0.006790721323341131, -0.629902184009552, -1.2433959245681763, -0.34834152460098267, -0.653014063835144, -0.9348865747451782, 0.2352258712053299, 1.061265230178833, -0.5384098291397095, 0.5255672931671143, -0.7174085378646851, 1.0859203338623047, 0.7906649708747864, 0.3079000413417816, -0.5557354688644409, -0.39452192187309265, -1.0808168649673462, -0.8511670827865601, -0.631355881690979, 0.3347269892692566, 0.5594131350517273, 0.10089032351970673, 0.6211496591567993, -0.6306524276733398, -0.29109716415405273, -0.12201784551143646, 0.4166933000087738, 0.8284109234809875, 0.28920578956604004]}, {\"line\": {\"color\": \"#F08B00\"}, \"name\": \"negative\", \"type\": \"scatter\", \"x\": [0, 1, 2, 3, 4, 5, 6, 7, 8, 9, 10, 11, 12, 13, 14, 15, 16, 17, 18, 19, 20, 21, 22, 23, 24, 25, 26, 27, 28, 29, 30, 31, 32, 33, 34, 35, 36, 37, 38, 39, 40, 41, 42, 43, 44, 45, 46, 47, 48, 49, 50, 51, 52, 53, 54, 55, 56, 57, 58, 59, 60, 61, 62, 63, 64, 65, 66, 67, 68, 69, 70, 71, 72, 73, 74, 75, 76, 77, 78, 79, 80, 81, 82, 83, 84, 85, 86, 87, 88, 89, 90, 91, 92, 93, 94, 95, 96, 97, 98, 99], \"y\": [0.8415136337280273, 0.08648937195539474, 0.6951646208763123, -0.17877288162708282, -0.011820602230727673, 0.7112486958503723, -0.17656022310256958, 0.29690343141555786, -0.29089444875717163, -0.072537362575531, -0.1866355836391449, -0.3643297255039215, -0.2855324149131775, 0.5222997665405273, -0.8951102495193481, -0.46974802017211914, 0.3269672989845276, 0.40276750922203064, -0.4464492201805115, -0.03135443478822708, -0.8299074172973633, -0.34633299708366394, 0.5752736330032349, 0.13494941592216492, 0.28632330894470215, 0.7513530850410461, 0.5522600412368774, -0.2934018075466156, 0.15139080584049225, -0.6032358407974243, -0.17880190908908844, -0.1872190684080124, 0.34044018387794495, 0.7845554351806641, 0.35315316915512085, 0.11541970074176788, 0.7086673974990845, -0.33101919293403625, -0.951023280620575, 0.22601182758808136, -0.3493863344192505, 0.24138939380645752, 0.3633562922477722, 1.0215628147125244, -0.4259609282016754, 0.4866516590118408, -0.1803746372461319, 1.3077086210250854, -1.0147584676742554, -0.21906094253063202, 0.1685837060213089, 0.05641983821988106, 0.6132323741912842, 0.17591527104377747, -0.32405805587768555, 0.007653164677321911, -0.3579542636871338, -0.0335325226187706, -0.07715632021427155, -0.9150636792182922, -0.1432555615901947, -0.3673717975616455, -0.5173946619033813, 0.18209519982337952, -0.5635644793510437, 0.7850712537765503, 0.9813817739486694, 0.20547457039356232, -0.40049228072166443, -0.01228344440460205, -0.08338415622711182, -1.0928153991699219, -0.39047056436538696, 0.8352160453796387, 0.22733473777770996, -0.1745131015777588, 0.09466785937547684, -0.08230383694171906, -0.8484333753585815, -0.8078911900520325, 0.11940312385559082, 0.4991375803947449, 0.9325977563858032, -0.5213404893875122, 0.15454058349132538, -0.16139189898967743, -0.28623124957084656, -0.07744874805212021, 0.3555939495563507, -0.4347045421600342, -0.7322176694869995, 0.6075205206871033, 0.09300900995731354, -0.5864788293838501, -0.7638763189315796, 0.09046216309070587, -0.8663719296455383, 0.17986160516738892, 0.31517302989959717, 0.12531891465187073], \"yaxis\": \"y2\"}],\n",
       "                        {\"template\": {\"data\": {\"bar\": [{\"error_x\": {\"color\": \"#2a3f5f\"}, \"error_y\": {\"color\": \"#2a3f5f\"}, \"marker\": {\"line\": {\"color\": \"#E5ECF6\", \"width\": 0.5}}, \"type\": \"bar\"}], \"barpolar\": [{\"marker\": {\"line\": {\"color\": \"#E5ECF6\", \"width\": 0.5}}, \"type\": \"barpolar\"}], \"carpet\": [{\"aaxis\": {\"endlinecolor\": \"#2a3f5f\", \"gridcolor\": \"white\", \"linecolor\": \"white\", \"minorgridcolor\": \"white\", \"startlinecolor\": \"#2a3f5f\"}, \"baxis\": {\"endlinecolor\": \"#2a3f5f\", \"gridcolor\": \"white\", \"linecolor\": \"white\", \"minorgridcolor\": \"white\", \"startlinecolor\": \"#2a3f5f\"}, \"type\": \"carpet\"}], \"choropleth\": [{\"colorbar\": {\"outlinewidth\": 0, \"ticks\": \"\"}, \"type\": \"choropleth\"}], \"contour\": [{\"colorbar\": {\"outlinewidth\": 0, \"ticks\": \"\"}, \"colorscale\": [[0.0, \"#0d0887\"], [0.1111111111111111, \"#46039f\"], [0.2222222222222222, \"#7201a8\"], [0.3333333333333333, \"#9c179e\"], [0.4444444444444444, \"#bd3786\"], [0.5555555555555556, \"#d8576b\"], [0.6666666666666666, \"#ed7953\"], [0.7777777777777778, \"#fb9f3a\"], [0.8888888888888888, \"#fdca26\"], [1.0, \"#f0f921\"]], \"type\": \"contour\"}], \"contourcarpet\": [{\"colorbar\": {\"outlinewidth\": 0, \"ticks\": \"\"}, \"type\": \"contourcarpet\"}], \"heatmap\": [{\"colorbar\": {\"outlinewidth\": 0, \"ticks\": \"\"}, \"colorscale\": [[0.0, \"#0d0887\"], [0.1111111111111111, \"#46039f\"], [0.2222222222222222, \"#7201a8\"], [0.3333333333333333, \"#9c179e\"], [0.4444444444444444, \"#bd3786\"], [0.5555555555555556, \"#d8576b\"], [0.6666666666666666, \"#ed7953\"], [0.7777777777777778, \"#fb9f3a\"], [0.8888888888888888, \"#fdca26\"], [1.0, \"#f0f921\"]], \"type\": \"heatmap\"}], \"heatmapgl\": [{\"colorbar\": {\"outlinewidth\": 0, \"ticks\": \"\"}, \"colorscale\": [[0.0, \"#0d0887\"], [0.1111111111111111, \"#46039f\"], [0.2222222222222222, \"#7201a8\"], [0.3333333333333333, \"#9c179e\"], [0.4444444444444444, \"#bd3786\"], [0.5555555555555556, \"#d8576b\"], [0.6666666666666666, \"#ed7953\"], [0.7777777777777778, \"#fb9f3a\"], [0.8888888888888888, \"#fdca26\"], [1.0, \"#f0f921\"]], \"type\": \"heatmapgl\"}], \"histogram\": [{\"marker\": {\"colorbar\": {\"outlinewidth\": 0, \"ticks\": \"\"}}, \"type\": \"histogram\"}], \"histogram2d\": [{\"colorbar\": {\"outlinewidth\": 0, \"ticks\": \"\"}, \"colorscale\": [[0.0, \"#0d0887\"], [0.1111111111111111, \"#46039f\"], [0.2222222222222222, \"#7201a8\"], [0.3333333333333333, \"#9c179e\"], [0.4444444444444444, \"#bd3786\"], [0.5555555555555556, \"#d8576b\"], [0.6666666666666666, \"#ed7953\"], [0.7777777777777778, \"#fb9f3a\"], [0.8888888888888888, \"#fdca26\"], [1.0, \"#f0f921\"]], \"type\": \"histogram2d\"}], \"histogram2dcontour\": [{\"colorbar\": {\"outlinewidth\": 0, \"ticks\": \"\"}, \"colorscale\": [[0.0, \"#0d0887\"], [0.1111111111111111, \"#46039f\"], [0.2222222222222222, \"#7201a8\"], [0.3333333333333333, \"#9c179e\"], [0.4444444444444444, \"#bd3786\"], [0.5555555555555556, \"#d8576b\"], [0.6666666666666666, \"#ed7953\"], [0.7777777777777778, \"#fb9f3a\"], [0.8888888888888888, \"#fdca26\"], [1.0, \"#f0f921\"]], \"type\": \"histogram2dcontour\"}], \"mesh3d\": [{\"colorbar\": {\"outlinewidth\": 0, \"ticks\": \"\"}, \"type\": \"mesh3d\"}], \"parcoords\": [{\"line\": {\"colorbar\": {\"outlinewidth\": 0, \"ticks\": \"\"}}, \"type\": \"parcoords\"}], \"pie\": [{\"automargin\": true, \"type\": \"pie\"}], \"scatter\": [{\"marker\": {\"colorbar\": {\"outlinewidth\": 0, \"ticks\": \"\"}}, \"type\": \"scatter\"}], \"scatter3d\": [{\"line\": {\"colorbar\": {\"outlinewidth\": 0, \"ticks\": \"\"}}, \"marker\": {\"colorbar\": {\"outlinewidth\": 0, \"ticks\": \"\"}}, \"type\": \"scatter3d\"}], \"scattercarpet\": [{\"marker\": {\"colorbar\": {\"outlinewidth\": 0, \"ticks\": \"\"}}, \"type\": \"scattercarpet\"}], \"scattergeo\": [{\"marker\": {\"colorbar\": {\"outlinewidth\": 0, \"ticks\": \"\"}}, \"type\": \"scattergeo\"}], \"scattergl\": [{\"marker\": {\"colorbar\": {\"outlinewidth\": 0, \"ticks\": \"\"}}, \"type\": \"scattergl\"}], \"scattermapbox\": [{\"marker\": {\"colorbar\": {\"outlinewidth\": 0, \"ticks\": \"\"}}, \"type\": \"scattermapbox\"}], \"scatterpolar\": [{\"marker\": {\"colorbar\": {\"outlinewidth\": 0, \"ticks\": \"\"}}, \"type\": \"scatterpolar\"}], \"scatterpolargl\": [{\"marker\": {\"colorbar\": {\"outlinewidth\": 0, \"ticks\": \"\"}}, \"type\": \"scatterpolargl\"}], \"scatterternary\": [{\"marker\": {\"colorbar\": {\"outlinewidth\": 0, \"ticks\": \"\"}}, \"type\": \"scatterternary\"}], \"surface\": [{\"colorbar\": {\"outlinewidth\": 0, \"ticks\": \"\"}, \"colorscale\": [[0.0, \"#0d0887\"], [0.1111111111111111, \"#46039f\"], [0.2222222222222222, \"#7201a8\"], [0.3333333333333333, \"#9c179e\"], [0.4444444444444444, \"#bd3786\"], [0.5555555555555556, \"#d8576b\"], [0.6666666666666666, \"#ed7953\"], [0.7777777777777778, \"#fb9f3a\"], [0.8888888888888888, \"#fdca26\"], [1.0, \"#f0f921\"]], \"type\": \"surface\"}], \"table\": [{\"cells\": {\"fill\": {\"color\": \"#EBF0F8\"}, \"line\": {\"color\": \"white\"}}, \"header\": {\"fill\": {\"color\": \"#C8D4E3\"}, \"line\": {\"color\": \"white\"}}, \"type\": \"table\"}]}, \"layout\": {\"annotationdefaults\": {\"arrowcolor\": \"#2a3f5f\", \"arrowhead\": 0, \"arrowwidth\": 1}, \"coloraxis\": {\"colorbar\": {\"outlinewidth\": 0, \"ticks\": \"\"}}, \"colorscale\": {\"diverging\": [[0, \"#8e0152\"], [0.1, \"#c51b7d\"], [0.2, \"#de77ae\"], [0.3, \"#f1b6da\"], [0.4, \"#fde0ef\"], [0.5, \"#f7f7f7\"], [0.6, \"#e6f5d0\"], [0.7, \"#b8e186\"], [0.8, \"#7fbc41\"], [0.9, \"#4d9221\"], [1, \"#276419\"]], \"sequential\": [[0.0, \"#0d0887\"], [0.1111111111111111, \"#46039f\"], [0.2222222222222222, \"#7201a8\"], [0.3333333333333333, \"#9c179e\"], [0.4444444444444444, \"#bd3786\"], [0.5555555555555556, \"#d8576b\"], [0.6666666666666666, \"#ed7953\"], [0.7777777777777778, \"#fb9f3a\"], [0.8888888888888888, \"#fdca26\"], [1.0, \"#f0f921\"]], \"sequentialminus\": [[0.0, \"#0d0887\"], [0.1111111111111111, \"#46039f\"], [0.2222222222222222, \"#7201a8\"], [0.3333333333333333, \"#9c179e\"], [0.4444444444444444, \"#bd3786\"], [0.5555555555555556, \"#d8576b\"], [0.6666666666666666, \"#ed7953\"], [0.7777777777777778, \"#fb9f3a\"], [0.8888888888888888, \"#fdca26\"], [1.0, \"#f0f921\"]]}, \"colorway\": [\"#636efa\", \"#EF553B\", \"#00cc96\", \"#ab63fa\", \"#FFA15A\", \"#19d3f3\", \"#FF6692\", \"#B6E880\", \"#FF97FF\", \"#FECB52\"], \"font\": {\"color\": \"#2a3f5f\"}, \"geo\": {\"bgcolor\": \"white\", \"lakecolor\": \"white\", \"landcolor\": \"#E5ECF6\", \"showlakes\": true, \"showland\": true, \"subunitcolor\": \"white\"}, \"hoverlabel\": {\"align\": \"left\"}, \"hovermode\": \"closest\", \"mapbox\": {\"style\": \"light\"}, \"paper_bgcolor\": \"white\", \"plot_bgcolor\": \"#E5ECF6\", \"polar\": {\"angularaxis\": {\"gridcolor\": \"white\", \"linecolor\": \"white\", \"ticks\": \"\"}, \"bgcolor\": \"#E5ECF6\", \"radialaxis\": {\"gridcolor\": \"white\", \"linecolor\": \"white\", \"ticks\": \"\"}}, \"scene\": {\"xaxis\": {\"backgroundcolor\": \"#E5ECF6\", \"gridcolor\": \"white\", \"gridwidth\": 2, \"linecolor\": \"white\", \"showbackground\": true, \"ticks\": \"\", \"zerolinecolor\": \"white\"}, \"yaxis\": {\"backgroundcolor\": \"#E5ECF6\", \"gridcolor\": \"white\", \"gridwidth\": 2, \"linecolor\": \"white\", \"showbackground\": true, \"ticks\": \"\", \"zerolinecolor\": \"white\"}, \"zaxis\": {\"backgroundcolor\": \"#E5ECF6\", \"gridcolor\": \"white\", \"gridwidth\": 2, \"linecolor\": \"white\", \"showbackground\": true, \"ticks\": \"\", \"zerolinecolor\": \"white\"}}, \"shapedefaults\": {\"line\": {\"color\": \"#2a3f5f\"}}, \"ternary\": {\"aaxis\": {\"gridcolor\": \"white\", \"linecolor\": \"white\", \"ticks\": \"\"}, \"baxis\": {\"gridcolor\": \"white\", \"linecolor\": \"white\", \"ticks\": \"\"}, \"bgcolor\": \"#E5ECF6\", \"caxis\": {\"gridcolor\": \"white\", \"linecolor\": \"white\", \"ticks\": \"\"}}, \"title\": {\"x\": 0.05}, \"xaxis\": {\"automargin\": true, \"gridcolor\": \"white\", \"linecolor\": \"white\", \"ticks\": \"\", \"title\": {\"standoff\": 15}, \"zerolinecolor\": \"white\", \"zerolinewidth\": 2}, \"yaxis\": {\"automargin\": true, \"gridcolor\": \"white\", \"linecolor\": \"white\", \"ticks\": \"\", \"title\": {\"standoff\": 15}, \"zerolinecolor\": \"white\", \"zerolinewidth\": 2}}}, \"title\": {\"text\": \"Feature mean by positive & negative examples for movie embeddings\"}, \"yaxis\": {\"tickfont\": {\"color\": \"#9467bd\"}, \"title\": {\"font\": {\"color\": \"#9467bd\"}, \"text\": \"positive\"}}, \"yaxis2\": {\"overlaying\": \"y\", \"side\": \"right\", \"tickfont\": {\"color\": \"#F08B00\"}, \"title\": {\"font\": {\"color\": \"#F08B00\"}, \"text\": \"negative\"}}},\n",
       "                        {\"responsive\": true}\n",
       "                    ).then(function(){\n",
       "                            \n",
       "var gd = document.getElementById('8f0b04cf-3c3b-4610-9418-32ca4d2ca8d7');\n",
       "var x = new MutationObserver(function (mutations, observer) {{\n",
       "        var display = window.getComputedStyle(gd).display;\n",
       "        if (!display || display === 'none') {{\n",
       "            console.log([gd, 'removed!']);\n",
       "            Plotly.purge(gd);\n",
       "            observer.disconnect();\n",
       "        }}\n",
       "}});\n",
       "\n",
       "// Listen for the removal of the full notebook cells\n",
       "var notebookContainer = gd.closest('#notebook-container');\n",
       "if (notebookContainer) {{\n",
       "    x.observe(notebookContainer, {childList: true});\n",
       "}}\n",
       "\n",
       "// Listen for the clearing of the current output cell\n",
       "var outputEl = gd.closest('.output');\n",
       "if (outputEl) {{\n",
       "    x.observe(outputEl, {childList: true});\n",
       "}}\n",
       "\n",
       "                        })\n",
       "                };\n",
       "                });\n",
       "            </script>\n",
       "        </div>"
      ]
     },
     "metadata": {},
     "output_type": "display_data"
    }
   ],
   "source": [
    "plot_scatter_intermediate_outputs_multitrace(\n",
    "    pos_out_mean, neg_out_mean, 'positive', 'negative',\n",
    "    'Feature mean by positive & negative examples for movie embeddings')"
   ]
  },
  {
   "cell_type": "code",
   "execution_count": 106,
   "metadata": {},
   "outputs": [
    {
     "data": {
      "application/vnd.plotly.v1+json": {
       "config": {
        "linkText": "Export to plot.ly",
        "plotlyServerURL": "https://plot.ly",
        "showLink": false
       },
       "data": [
        {
         "marker": {
          "color": "#db0000"
         },
         "name": "Layer Output",
         "type": "histogram",
         "x": [
          -0.5113825798034668,
          -0.9883209466934204,
          -0.07755469530820847,
          1.388967514038086,
          -0.5545463562011719,
          -0.2808536887168884,
          -0.7366690635681152,
          -0.6836709976196289,
          -0.6873564720153809,
          -0.05989816039800644,
          0.9222267270088196,
          1.1589243412017822,
          -0.4313954710960388,
          -0.7294588088989258,
          -0.08338283002376556,
          0.591468334197998,
          0.3264694809913635,
          -0.41331619024276733,
          0.9745444059371948,
          -0.48851221799850464,
          0.5776790380477905,
          0.5239959359169006,
          -0.24206319451332092,
          -0.15142479538917542,
          -0.014055120758712292,
          -0.5978967547416687,
          -0.5282062292098999,
          0.5525369048118591,
          0.6232427358627319,
          -0.6290752291679382,
          0.05848730728030205,
          0.4671343266963959,
          -0.05784809589385986,
          -0.6750926971435547,
          -0.28091853857040405,
          -0.1820490062236786,
          0.5876230001449585,
          -0.19092464447021484,
          0.3507475256919861,
          0.4319656789302826,
          -0.4150012135505676,
          0.1584288328886032,
          0.4294818937778473,
          -0.6814390420913696,
          0.24022753536701202,
          -0.1669008433818817,
          0.5332995057106018,
          0.7511786818504333,
          0.8036133646965027,
          0.1143730878829956,
          -0.24773761630058289,
          1.0041500329971313,
          0.09250830858945847,
          -0.42770904302597046,
          0.0699055939912796,
          0.05015379935503006,
          1.0027666091918945,
          0.689644992351532,
          0.5454534292221069,
          -0.4249139726161957,
          0.16778066754341125,
          0.2724667489528656,
          -0.02296200580894947,
          0.4253394603729248,
          -0.21793189644813538,
          -0.18337927758693695,
          -0.43136587738990784,
          0.2551204562187195,
          0.025060247629880905,
          -0.36398524045944214,
          0.36840322613716125,
          0.006790721323341131,
          -0.629902184009552,
          -1.2433959245681763,
          -0.34834152460098267,
          -0.653014063835144,
          -0.9348865747451782,
          0.2352258712053299,
          1.061265230178833,
          -0.5384098291397095,
          0.5255672931671143,
          -0.7174085378646851,
          1.0859203338623047,
          0.7906649708747864,
          0.3079000413417816,
          -0.5557354688644409,
          -0.39452192187309265,
          -1.0808168649673462,
          -0.8511670827865601,
          -0.631355881690979,
          0.3347269892692566,
          0.5594131350517273,
          0.10089032351970673,
          0.6211496591567993,
          -0.6306524276733398,
          -0.29109716415405273,
          -0.12201784551143646,
          0.4166933000087738,
          0.8284109234809875,
          0.28920578956604004
         ],
         "xbins": {
          "end": 1.388967514038086,
          "size": 0,
          "start": -1.2433959245681763
         }
        }
       ],
       "layout": {
        "bargap": 0.2,
        "template": {
         "data": {
          "bar": [
           {
            "error_x": {
             "color": "#2a3f5f"
            },
            "error_y": {
             "color": "#2a3f5f"
            },
            "marker": {
             "line": {
              "color": "#E5ECF6",
              "width": 0.5
             }
            },
            "type": "bar"
           }
          ],
          "barpolar": [
           {
            "marker": {
             "line": {
              "color": "#E5ECF6",
              "width": 0.5
             }
            },
            "type": "barpolar"
           }
          ],
          "carpet": [
           {
            "aaxis": {
             "endlinecolor": "#2a3f5f",
             "gridcolor": "white",
             "linecolor": "white",
             "minorgridcolor": "white",
             "startlinecolor": "#2a3f5f"
            },
            "baxis": {
             "endlinecolor": "#2a3f5f",
             "gridcolor": "white",
             "linecolor": "white",
             "minorgridcolor": "white",
             "startlinecolor": "#2a3f5f"
            },
            "type": "carpet"
           }
          ],
          "choropleth": [
           {
            "colorbar": {
             "outlinewidth": 0,
             "ticks": ""
            },
            "type": "choropleth"
           }
          ],
          "contour": [
           {
            "colorbar": {
             "outlinewidth": 0,
             "ticks": ""
            },
            "colorscale": [
             [
              0,
              "#0d0887"
             ],
             [
              0.1111111111111111,
              "#46039f"
             ],
             [
              0.2222222222222222,
              "#7201a8"
             ],
             [
              0.3333333333333333,
              "#9c179e"
             ],
             [
              0.4444444444444444,
              "#bd3786"
             ],
             [
              0.5555555555555556,
              "#d8576b"
             ],
             [
              0.6666666666666666,
              "#ed7953"
             ],
             [
              0.7777777777777778,
              "#fb9f3a"
             ],
             [
              0.8888888888888888,
              "#fdca26"
             ],
             [
              1,
              "#f0f921"
             ]
            ],
            "type": "contour"
           }
          ],
          "contourcarpet": [
           {
            "colorbar": {
             "outlinewidth": 0,
             "ticks": ""
            },
            "type": "contourcarpet"
           }
          ],
          "heatmap": [
           {
            "colorbar": {
             "outlinewidth": 0,
             "ticks": ""
            },
            "colorscale": [
             [
              0,
              "#0d0887"
             ],
             [
              0.1111111111111111,
              "#46039f"
             ],
             [
              0.2222222222222222,
              "#7201a8"
             ],
             [
              0.3333333333333333,
              "#9c179e"
             ],
             [
              0.4444444444444444,
              "#bd3786"
             ],
             [
              0.5555555555555556,
              "#d8576b"
             ],
             [
              0.6666666666666666,
              "#ed7953"
             ],
             [
              0.7777777777777778,
              "#fb9f3a"
             ],
             [
              0.8888888888888888,
              "#fdca26"
             ],
             [
              1,
              "#f0f921"
             ]
            ],
            "type": "heatmap"
           }
          ],
          "heatmapgl": [
           {
            "colorbar": {
             "outlinewidth": 0,
             "ticks": ""
            },
            "colorscale": [
             [
              0,
              "#0d0887"
             ],
             [
              0.1111111111111111,
              "#46039f"
             ],
             [
              0.2222222222222222,
              "#7201a8"
             ],
             [
              0.3333333333333333,
              "#9c179e"
             ],
             [
              0.4444444444444444,
              "#bd3786"
             ],
             [
              0.5555555555555556,
              "#d8576b"
             ],
             [
              0.6666666666666666,
              "#ed7953"
             ],
             [
              0.7777777777777778,
              "#fb9f3a"
             ],
             [
              0.8888888888888888,
              "#fdca26"
             ],
             [
              1,
              "#f0f921"
             ]
            ],
            "type": "heatmapgl"
           }
          ],
          "histogram": [
           {
            "marker": {
             "colorbar": {
              "outlinewidth": 0,
              "ticks": ""
             }
            },
            "type": "histogram"
           }
          ],
          "histogram2d": [
           {
            "colorbar": {
             "outlinewidth": 0,
             "ticks": ""
            },
            "colorscale": [
             [
              0,
              "#0d0887"
             ],
             [
              0.1111111111111111,
              "#46039f"
             ],
             [
              0.2222222222222222,
              "#7201a8"
             ],
             [
              0.3333333333333333,
              "#9c179e"
             ],
             [
              0.4444444444444444,
              "#bd3786"
             ],
             [
              0.5555555555555556,
              "#d8576b"
             ],
             [
              0.6666666666666666,
              "#ed7953"
             ],
             [
              0.7777777777777778,
              "#fb9f3a"
             ],
             [
              0.8888888888888888,
              "#fdca26"
             ],
             [
              1,
              "#f0f921"
             ]
            ],
            "type": "histogram2d"
           }
          ],
          "histogram2dcontour": [
           {
            "colorbar": {
             "outlinewidth": 0,
             "ticks": ""
            },
            "colorscale": [
             [
              0,
              "#0d0887"
             ],
             [
              0.1111111111111111,
              "#46039f"
             ],
             [
              0.2222222222222222,
              "#7201a8"
             ],
             [
              0.3333333333333333,
              "#9c179e"
             ],
             [
              0.4444444444444444,
              "#bd3786"
             ],
             [
              0.5555555555555556,
              "#d8576b"
             ],
             [
              0.6666666666666666,
              "#ed7953"
             ],
             [
              0.7777777777777778,
              "#fb9f3a"
             ],
             [
              0.8888888888888888,
              "#fdca26"
             ],
             [
              1,
              "#f0f921"
             ]
            ],
            "type": "histogram2dcontour"
           }
          ],
          "mesh3d": [
           {
            "colorbar": {
             "outlinewidth": 0,
             "ticks": ""
            },
            "type": "mesh3d"
           }
          ],
          "parcoords": [
           {
            "line": {
             "colorbar": {
              "outlinewidth": 0,
              "ticks": ""
             }
            },
            "type": "parcoords"
           }
          ],
          "pie": [
           {
            "automargin": true,
            "type": "pie"
           }
          ],
          "scatter": [
           {
            "marker": {
             "colorbar": {
              "outlinewidth": 0,
              "ticks": ""
             }
            },
            "type": "scatter"
           }
          ],
          "scatter3d": [
           {
            "line": {
             "colorbar": {
              "outlinewidth": 0,
              "ticks": ""
             }
            },
            "marker": {
             "colorbar": {
              "outlinewidth": 0,
              "ticks": ""
             }
            },
            "type": "scatter3d"
           }
          ],
          "scattercarpet": [
           {
            "marker": {
             "colorbar": {
              "outlinewidth": 0,
              "ticks": ""
             }
            },
            "type": "scattercarpet"
           }
          ],
          "scattergeo": [
           {
            "marker": {
             "colorbar": {
              "outlinewidth": 0,
              "ticks": ""
             }
            },
            "type": "scattergeo"
           }
          ],
          "scattergl": [
           {
            "marker": {
             "colorbar": {
              "outlinewidth": 0,
              "ticks": ""
             }
            },
            "type": "scattergl"
           }
          ],
          "scattermapbox": [
           {
            "marker": {
             "colorbar": {
              "outlinewidth": 0,
              "ticks": ""
             }
            },
            "type": "scattermapbox"
           }
          ],
          "scatterpolar": [
           {
            "marker": {
             "colorbar": {
              "outlinewidth": 0,
              "ticks": ""
             }
            },
            "type": "scatterpolar"
           }
          ],
          "scatterpolargl": [
           {
            "marker": {
             "colorbar": {
              "outlinewidth": 0,
              "ticks": ""
             }
            },
            "type": "scatterpolargl"
           }
          ],
          "scatterternary": [
           {
            "marker": {
             "colorbar": {
              "outlinewidth": 0,
              "ticks": ""
             }
            },
            "type": "scatterternary"
           }
          ],
          "surface": [
           {
            "colorbar": {
             "outlinewidth": 0,
             "ticks": ""
            },
            "colorscale": [
             [
              0,
              "#0d0887"
             ],
             [
              0.1111111111111111,
              "#46039f"
             ],
             [
              0.2222222222222222,
              "#7201a8"
             ],
             [
              0.3333333333333333,
              "#9c179e"
             ],
             [
              0.4444444444444444,
              "#bd3786"
             ],
             [
              0.5555555555555556,
              "#d8576b"
             ],
             [
              0.6666666666666666,
              "#ed7953"
             ],
             [
              0.7777777777777778,
              "#fb9f3a"
             ],
             [
              0.8888888888888888,
              "#fdca26"
             ],
             [
              1,
              "#f0f921"
             ]
            ],
            "type": "surface"
           }
          ],
          "table": [
           {
            "cells": {
             "fill": {
              "color": "#EBF0F8"
             },
             "line": {
              "color": "white"
             }
            },
            "header": {
             "fill": {
              "color": "#C8D4E3"
             },
             "line": {
              "color": "white"
             }
            },
            "type": "table"
           }
          ]
         },
         "layout": {
          "annotationdefaults": {
           "arrowcolor": "#2a3f5f",
           "arrowhead": 0,
           "arrowwidth": 1
          },
          "coloraxis": {
           "colorbar": {
            "outlinewidth": 0,
            "ticks": ""
           }
          },
          "colorscale": {
           "diverging": [
            [
             0,
             "#8e0152"
            ],
            [
             0.1,
             "#c51b7d"
            ],
            [
             0.2,
             "#de77ae"
            ],
            [
             0.3,
             "#f1b6da"
            ],
            [
             0.4,
             "#fde0ef"
            ],
            [
             0.5,
             "#f7f7f7"
            ],
            [
             0.6,
             "#e6f5d0"
            ],
            [
             0.7,
             "#b8e186"
            ],
            [
             0.8,
             "#7fbc41"
            ],
            [
             0.9,
             "#4d9221"
            ],
            [
             1,
             "#276419"
            ]
           ],
           "sequential": [
            [
             0,
             "#0d0887"
            ],
            [
             0.1111111111111111,
             "#46039f"
            ],
            [
             0.2222222222222222,
             "#7201a8"
            ],
            [
             0.3333333333333333,
             "#9c179e"
            ],
            [
             0.4444444444444444,
             "#bd3786"
            ],
            [
             0.5555555555555556,
             "#d8576b"
            ],
            [
             0.6666666666666666,
             "#ed7953"
            ],
            [
             0.7777777777777778,
             "#fb9f3a"
            ],
            [
             0.8888888888888888,
             "#fdca26"
            ],
            [
             1,
             "#f0f921"
            ]
           ],
           "sequentialminus": [
            [
             0,
             "#0d0887"
            ],
            [
             0.1111111111111111,
             "#46039f"
            ],
            [
             0.2222222222222222,
             "#7201a8"
            ],
            [
             0.3333333333333333,
             "#9c179e"
            ],
            [
             0.4444444444444444,
             "#bd3786"
            ],
            [
             0.5555555555555556,
             "#d8576b"
            ],
            [
             0.6666666666666666,
             "#ed7953"
            ],
            [
             0.7777777777777778,
             "#fb9f3a"
            ],
            [
             0.8888888888888888,
             "#fdca26"
            ],
            [
             1,
             "#f0f921"
            ]
           ]
          },
          "colorway": [
           "#636efa",
           "#EF553B",
           "#00cc96",
           "#ab63fa",
           "#FFA15A",
           "#19d3f3",
           "#FF6692",
           "#B6E880",
           "#FF97FF",
           "#FECB52"
          ],
          "font": {
           "color": "#2a3f5f"
          },
          "geo": {
           "bgcolor": "white",
           "lakecolor": "white",
           "landcolor": "#E5ECF6",
           "showlakes": true,
           "showland": true,
           "subunitcolor": "white"
          },
          "hoverlabel": {
           "align": "left"
          },
          "hovermode": "closest",
          "mapbox": {
           "style": "light"
          },
          "paper_bgcolor": "white",
          "plot_bgcolor": "#E5ECF6",
          "polar": {
           "angularaxis": {
            "gridcolor": "white",
            "linecolor": "white",
            "ticks": ""
           },
           "bgcolor": "#E5ECF6",
           "radialaxis": {
            "gridcolor": "white",
            "linecolor": "white",
            "ticks": ""
           }
          },
          "scene": {
           "xaxis": {
            "backgroundcolor": "#E5ECF6",
            "gridcolor": "white",
            "gridwidth": 2,
            "linecolor": "white",
            "showbackground": true,
            "ticks": "",
            "zerolinecolor": "white"
           },
           "yaxis": {
            "backgroundcolor": "#E5ECF6",
            "gridcolor": "white",
            "gridwidth": 2,
            "linecolor": "white",
            "showbackground": true,
            "ticks": "",
            "zerolinecolor": "white"
           },
           "zaxis": {
            "backgroundcolor": "#E5ECF6",
            "gridcolor": "white",
            "gridwidth": 2,
            "linecolor": "white",
            "showbackground": true,
            "ticks": "",
            "zerolinecolor": "white"
           }
          },
          "shapedefaults": {
           "line": {
            "color": "#2a3f5f"
           }
          },
          "ternary": {
           "aaxis": {
            "gridcolor": "white",
            "linecolor": "white",
            "ticks": ""
           },
           "baxis": {
            "gridcolor": "white",
            "linecolor": "white",
            "ticks": ""
           },
           "bgcolor": "#E5ECF6",
           "caxis": {
            "gridcolor": "white",
            "linecolor": "white",
            "ticks": ""
           }
          },
          "title": {
           "x": 0.05
          },
          "xaxis": {
           "automargin": true,
           "gridcolor": "white",
           "linecolor": "white",
           "ticks": "",
           "title": {
            "standoff": 15
           },
           "zerolinecolor": "white",
           "zerolinewidth": 2
          },
          "yaxis": {
           "automargin": true,
           "gridcolor": "white",
           "linecolor": "white",
           "ticks": "",
           "title": {
            "standoff": 15
           },
           "zerolinecolor": "white",
           "zerolinewidth": 2
          }
         }
        },
        "title": {
         "text": "Distribution of the output of layer movie_embeddings-positive"
        },
        "xaxis": {
         "title": {
          "text": "Output of Layer movie_embeddings-positive"
         }
        },
        "yaxis": {
         "title": {
          "text": "Count"
         }
        }
       }
      },
      "text/html": [
       "<div>\n",
       "        \n",
       "        \n",
       "            <div id=\"1258895c-3443-46f9-9c96-da956a3e8220\" class=\"plotly-graph-div\" style=\"height:525px; width:100%;\"></div>\n",
       "            <script type=\"text/javascript\">\n",
       "                require([\"plotly\"], function(Plotly) {\n",
       "                    window.PLOTLYENV=window.PLOTLYENV || {};\n",
       "                    \n",
       "                if (document.getElementById(\"1258895c-3443-46f9-9c96-da956a3e8220\")) {\n",
       "                    Plotly.newPlot(\n",
       "                        '1258895c-3443-46f9-9c96-da956a3e8220',\n",
       "                        [{\"marker\": {\"color\": \"#db0000\"}, \"name\": \"Layer Output\", \"type\": \"histogram\", \"x\": [-0.5113825798034668, -0.9883209466934204, -0.07755469530820847, 1.388967514038086, -0.5545463562011719, -0.2808536887168884, -0.7366690635681152, -0.6836709976196289, -0.6873564720153809, -0.05989816039800644, 0.9222267270088196, 1.1589243412017822, -0.4313954710960388, -0.7294588088989258, -0.08338283002376556, 0.591468334197998, 0.3264694809913635, -0.41331619024276733, 0.9745444059371948, -0.48851221799850464, 0.5776790380477905, 0.5239959359169006, -0.24206319451332092, -0.15142479538917542, -0.014055120758712292, -0.5978967547416687, -0.5282062292098999, 0.5525369048118591, 0.6232427358627319, -0.6290752291679382, 0.05848730728030205, 0.4671343266963959, -0.05784809589385986, -0.6750926971435547, -0.28091853857040405, -0.1820490062236786, 0.5876230001449585, -0.19092464447021484, 0.3507475256919861, 0.4319656789302826, -0.4150012135505676, 0.1584288328886032, 0.4294818937778473, -0.6814390420913696, 0.24022753536701202, -0.1669008433818817, 0.5332995057106018, 0.7511786818504333, 0.8036133646965027, 0.1143730878829956, -0.24773761630058289, 1.0041500329971313, 0.09250830858945847, -0.42770904302597046, 0.0699055939912796, 0.05015379935503006, 1.0027666091918945, 0.689644992351532, 0.5454534292221069, -0.4249139726161957, 0.16778066754341125, 0.2724667489528656, -0.02296200580894947, 0.4253394603729248, -0.21793189644813538, -0.18337927758693695, -0.43136587738990784, 0.2551204562187195, 0.025060247629880905, -0.36398524045944214, 0.36840322613716125, 0.006790721323341131, -0.629902184009552, -1.2433959245681763, -0.34834152460098267, -0.653014063835144, -0.9348865747451782, 0.2352258712053299, 1.061265230178833, -0.5384098291397095, 0.5255672931671143, -0.7174085378646851, 1.0859203338623047, 0.7906649708747864, 0.3079000413417816, -0.5557354688644409, -0.39452192187309265, -1.0808168649673462, -0.8511670827865601, -0.631355881690979, 0.3347269892692566, 0.5594131350517273, 0.10089032351970673, 0.6211496591567993, -0.6306524276733398, -0.29109716415405273, -0.12201784551143646, 0.4166933000087738, 0.8284109234809875, 0.28920578956604004], \"xbins\": {\"end\": 1.388967514038086, \"size\": 0, \"start\": -1.2433959245681763}}],\n",
       "                        {\"bargap\": 0.2, \"template\": {\"data\": {\"bar\": [{\"error_x\": {\"color\": \"#2a3f5f\"}, \"error_y\": {\"color\": \"#2a3f5f\"}, \"marker\": {\"line\": {\"color\": \"#E5ECF6\", \"width\": 0.5}}, \"type\": \"bar\"}], \"barpolar\": [{\"marker\": {\"line\": {\"color\": \"#E5ECF6\", \"width\": 0.5}}, \"type\": \"barpolar\"}], \"carpet\": [{\"aaxis\": {\"endlinecolor\": \"#2a3f5f\", \"gridcolor\": \"white\", \"linecolor\": \"white\", \"minorgridcolor\": \"white\", \"startlinecolor\": \"#2a3f5f\"}, \"baxis\": {\"endlinecolor\": \"#2a3f5f\", \"gridcolor\": \"white\", \"linecolor\": \"white\", \"minorgridcolor\": \"white\", \"startlinecolor\": \"#2a3f5f\"}, \"type\": \"carpet\"}], \"choropleth\": [{\"colorbar\": {\"outlinewidth\": 0, \"ticks\": \"\"}, \"type\": \"choropleth\"}], \"contour\": [{\"colorbar\": {\"outlinewidth\": 0, \"ticks\": \"\"}, \"colorscale\": [[0.0, \"#0d0887\"], [0.1111111111111111, \"#46039f\"], [0.2222222222222222, \"#7201a8\"], [0.3333333333333333, \"#9c179e\"], [0.4444444444444444, \"#bd3786\"], [0.5555555555555556, \"#d8576b\"], [0.6666666666666666, \"#ed7953\"], [0.7777777777777778, \"#fb9f3a\"], [0.8888888888888888, \"#fdca26\"], [1.0, \"#f0f921\"]], \"type\": \"contour\"}], \"contourcarpet\": [{\"colorbar\": {\"outlinewidth\": 0, \"ticks\": \"\"}, \"type\": \"contourcarpet\"}], \"heatmap\": [{\"colorbar\": {\"outlinewidth\": 0, \"ticks\": \"\"}, \"colorscale\": [[0.0, \"#0d0887\"], [0.1111111111111111, \"#46039f\"], [0.2222222222222222, \"#7201a8\"], [0.3333333333333333, \"#9c179e\"], [0.4444444444444444, \"#bd3786\"], [0.5555555555555556, \"#d8576b\"], [0.6666666666666666, \"#ed7953\"], [0.7777777777777778, \"#fb9f3a\"], [0.8888888888888888, \"#fdca26\"], [1.0, \"#f0f921\"]], \"type\": \"heatmap\"}], \"heatmapgl\": [{\"colorbar\": {\"outlinewidth\": 0, \"ticks\": \"\"}, \"colorscale\": [[0.0, \"#0d0887\"], [0.1111111111111111, \"#46039f\"], [0.2222222222222222, \"#7201a8\"], [0.3333333333333333, \"#9c179e\"], [0.4444444444444444, \"#bd3786\"], [0.5555555555555556, \"#d8576b\"], [0.6666666666666666, \"#ed7953\"], [0.7777777777777778, \"#fb9f3a\"], [0.8888888888888888, \"#fdca26\"], [1.0, \"#f0f921\"]], \"type\": \"heatmapgl\"}], \"histogram\": [{\"marker\": {\"colorbar\": {\"outlinewidth\": 0, \"ticks\": \"\"}}, \"type\": \"histogram\"}], \"histogram2d\": [{\"colorbar\": {\"outlinewidth\": 0, \"ticks\": \"\"}, \"colorscale\": [[0.0, \"#0d0887\"], [0.1111111111111111, \"#46039f\"], [0.2222222222222222, \"#7201a8\"], [0.3333333333333333, \"#9c179e\"], [0.4444444444444444, \"#bd3786\"], [0.5555555555555556, \"#d8576b\"], [0.6666666666666666, \"#ed7953\"], [0.7777777777777778, \"#fb9f3a\"], [0.8888888888888888, \"#fdca26\"], [1.0, \"#f0f921\"]], \"type\": \"histogram2d\"}], \"histogram2dcontour\": [{\"colorbar\": {\"outlinewidth\": 0, \"ticks\": \"\"}, \"colorscale\": [[0.0, \"#0d0887\"], [0.1111111111111111, \"#46039f\"], [0.2222222222222222, \"#7201a8\"], [0.3333333333333333, \"#9c179e\"], [0.4444444444444444, \"#bd3786\"], [0.5555555555555556, \"#d8576b\"], [0.6666666666666666, \"#ed7953\"], [0.7777777777777778, \"#fb9f3a\"], [0.8888888888888888, \"#fdca26\"], [1.0, \"#f0f921\"]], \"type\": \"histogram2dcontour\"}], \"mesh3d\": [{\"colorbar\": {\"outlinewidth\": 0, \"ticks\": \"\"}, \"type\": \"mesh3d\"}], \"parcoords\": [{\"line\": {\"colorbar\": {\"outlinewidth\": 0, \"ticks\": \"\"}}, \"type\": \"parcoords\"}], \"pie\": [{\"automargin\": true, \"type\": \"pie\"}], \"scatter\": [{\"marker\": {\"colorbar\": {\"outlinewidth\": 0, \"ticks\": \"\"}}, \"type\": \"scatter\"}], \"scatter3d\": [{\"line\": {\"colorbar\": {\"outlinewidth\": 0, \"ticks\": \"\"}}, \"marker\": {\"colorbar\": {\"outlinewidth\": 0, \"ticks\": \"\"}}, \"type\": \"scatter3d\"}], \"scattercarpet\": [{\"marker\": {\"colorbar\": {\"outlinewidth\": 0, \"ticks\": \"\"}}, \"type\": \"scattercarpet\"}], \"scattergeo\": [{\"marker\": {\"colorbar\": {\"outlinewidth\": 0, \"ticks\": \"\"}}, \"type\": \"scattergeo\"}], \"scattergl\": [{\"marker\": {\"colorbar\": {\"outlinewidth\": 0, \"ticks\": \"\"}}, \"type\": \"scattergl\"}], \"scattermapbox\": [{\"marker\": {\"colorbar\": {\"outlinewidth\": 0, \"ticks\": \"\"}}, \"type\": \"scattermapbox\"}], \"scatterpolar\": [{\"marker\": {\"colorbar\": {\"outlinewidth\": 0, \"ticks\": \"\"}}, \"type\": \"scatterpolar\"}], \"scatterpolargl\": [{\"marker\": {\"colorbar\": {\"outlinewidth\": 0, \"ticks\": \"\"}}, \"type\": \"scatterpolargl\"}], \"scatterternary\": [{\"marker\": {\"colorbar\": {\"outlinewidth\": 0, \"ticks\": \"\"}}, \"type\": \"scatterternary\"}], \"surface\": [{\"colorbar\": {\"outlinewidth\": 0, \"ticks\": \"\"}, \"colorscale\": [[0.0, \"#0d0887\"], [0.1111111111111111, \"#46039f\"], [0.2222222222222222, \"#7201a8\"], [0.3333333333333333, \"#9c179e\"], [0.4444444444444444, \"#bd3786\"], [0.5555555555555556, \"#d8576b\"], [0.6666666666666666, \"#ed7953\"], [0.7777777777777778, \"#fb9f3a\"], [0.8888888888888888, \"#fdca26\"], [1.0, \"#f0f921\"]], \"type\": \"surface\"}], \"table\": [{\"cells\": {\"fill\": {\"color\": \"#EBF0F8\"}, \"line\": {\"color\": \"white\"}}, \"header\": {\"fill\": {\"color\": \"#C8D4E3\"}, \"line\": {\"color\": \"white\"}}, \"type\": \"table\"}]}, \"layout\": {\"annotationdefaults\": {\"arrowcolor\": \"#2a3f5f\", \"arrowhead\": 0, \"arrowwidth\": 1}, \"coloraxis\": {\"colorbar\": {\"outlinewidth\": 0, \"ticks\": \"\"}}, \"colorscale\": {\"diverging\": [[0, \"#8e0152\"], [0.1, \"#c51b7d\"], [0.2, \"#de77ae\"], [0.3, \"#f1b6da\"], [0.4, \"#fde0ef\"], [0.5, \"#f7f7f7\"], [0.6, \"#e6f5d0\"], [0.7, \"#b8e186\"], [0.8, \"#7fbc41\"], [0.9, \"#4d9221\"], [1, \"#276419\"]], \"sequential\": [[0.0, \"#0d0887\"], [0.1111111111111111, \"#46039f\"], [0.2222222222222222, \"#7201a8\"], [0.3333333333333333, \"#9c179e\"], [0.4444444444444444, \"#bd3786\"], [0.5555555555555556, \"#d8576b\"], [0.6666666666666666, \"#ed7953\"], [0.7777777777777778, \"#fb9f3a\"], [0.8888888888888888, \"#fdca26\"], [1.0, \"#f0f921\"]], \"sequentialminus\": [[0.0, \"#0d0887\"], [0.1111111111111111, \"#46039f\"], [0.2222222222222222, \"#7201a8\"], [0.3333333333333333, \"#9c179e\"], [0.4444444444444444, \"#bd3786\"], [0.5555555555555556, \"#d8576b\"], [0.6666666666666666, \"#ed7953\"], [0.7777777777777778, \"#fb9f3a\"], [0.8888888888888888, \"#fdca26\"], [1.0, \"#f0f921\"]]}, \"colorway\": [\"#636efa\", \"#EF553B\", \"#00cc96\", \"#ab63fa\", \"#FFA15A\", \"#19d3f3\", \"#FF6692\", \"#B6E880\", \"#FF97FF\", \"#FECB52\"], \"font\": {\"color\": \"#2a3f5f\"}, \"geo\": {\"bgcolor\": \"white\", \"lakecolor\": \"white\", \"landcolor\": \"#E5ECF6\", \"showlakes\": true, \"showland\": true, \"subunitcolor\": \"white\"}, \"hoverlabel\": {\"align\": \"left\"}, \"hovermode\": \"closest\", \"mapbox\": {\"style\": \"light\"}, \"paper_bgcolor\": \"white\", \"plot_bgcolor\": \"#E5ECF6\", \"polar\": {\"angularaxis\": {\"gridcolor\": \"white\", \"linecolor\": \"white\", \"ticks\": \"\"}, \"bgcolor\": \"#E5ECF6\", \"radialaxis\": {\"gridcolor\": \"white\", \"linecolor\": \"white\", \"ticks\": \"\"}}, \"scene\": {\"xaxis\": {\"backgroundcolor\": \"#E5ECF6\", \"gridcolor\": \"white\", \"gridwidth\": 2, \"linecolor\": \"white\", \"showbackground\": true, \"ticks\": \"\", \"zerolinecolor\": \"white\"}, \"yaxis\": {\"backgroundcolor\": \"#E5ECF6\", \"gridcolor\": \"white\", \"gridwidth\": 2, \"linecolor\": \"white\", \"showbackground\": true, \"ticks\": \"\", \"zerolinecolor\": \"white\"}, \"zaxis\": {\"backgroundcolor\": \"#E5ECF6\", \"gridcolor\": \"white\", \"gridwidth\": 2, \"linecolor\": \"white\", \"showbackground\": true, \"ticks\": \"\", \"zerolinecolor\": \"white\"}}, \"shapedefaults\": {\"line\": {\"color\": \"#2a3f5f\"}}, \"ternary\": {\"aaxis\": {\"gridcolor\": \"white\", \"linecolor\": \"white\", \"ticks\": \"\"}, \"baxis\": {\"gridcolor\": \"white\", \"linecolor\": \"white\", \"ticks\": \"\"}, \"bgcolor\": \"#E5ECF6\", \"caxis\": {\"gridcolor\": \"white\", \"linecolor\": \"white\", \"ticks\": \"\"}}, \"title\": {\"x\": 0.05}, \"xaxis\": {\"automargin\": true, \"gridcolor\": \"white\", \"linecolor\": \"white\", \"ticks\": \"\", \"title\": {\"standoff\": 15}, \"zerolinecolor\": \"white\", \"zerolinewidth\": 2}, \"yaxis\": {\"automargin\": true, \"gridcolor\": \"white\", \"linecolor\": \"white\", \"ticks\": \"\", \"title\": {\"standoff\": 15}, \"zerolinecolor\": \"white\", \"zerolinewidth\": 2}}}, \"title\": {\"text\": \"Distribution of the output of layer movie_embeddings-positive\"}, \"xaxis\": {\"title\": {\"text\": \"Output of Layer movie_embeddings-positive\"}}, \"yaxis\": {\"title\": {\"text\": \"Count\"}}},\n",
       "                        {\"responsive\": true}\n",
       "                    ).then(function(){\n",
       "                            \n",
       "var gd = document.getElementById('1258895c-3443-46f9-9c96-da956a3e8220');\n",
       "var x = new MutationObserver(function (mutations, observer) {{\n",
       "        var display = window.getComputedStyle(gd).display;\n",
       "        if (!display || display === 'none') {{\n",
       "            console.log([gd, 'removed!']);\n",
       "            Plotly.purge(gd);\n",
       "            observer.disconnect();\n",
       "        }}\n",
       "}});\n",
       "\n",
       "// Listen for the removal of the full notebook cells\n",
       "var notebookContainer = gd.closest('#notebook-container');\n",
       "if (notebookContainer) {{\n",
       "    x.observe(notebookContainer, {childList: true});\n",
       "}}\n",
       "\n",
       "// Listen for the clearing of the current output cell\n",
       "var outputEl = gd.closest('.output');\n",
       "if (outputEl) {{\n",
       "    x.observe(outputEl, {childList: true});\n",
       "}}\n",
       "\n",
       "                        })\n",
       "                };\n",
       "                });\n",
       "            </script>\n",
       "        </div>"
      ]
     },
     "metadata": {},
     "output_type": "display_data"
    },
    {
     "data": {
      "application/vnd.plotly.v1+json": {
       "config": {
        "linkText": "Export to plot.ly",
        "plotlyServerURL": "https://plot.ly",
        "showLink": false
       },
       "data": [
        {
         "marker": {
          "color": "#db0000"
         },
         "name": "Layer Output",
         "type": "histogram",
         "x": [
          0.8415136337280273,
          0.08648937195539474,
          0.6951646208763123,
          -0.17877288162708282,
          -0.011820602230727673,
          0.7112486958503723,
          -0.17656022310256958,
          0.29690343141555786,
          -0.29089444875717163,
          -0.072537362575531,
          -0.1866355836391449,
          -0.3643297255039215,
          -0.2855324149131775,
          0.5222997665405273,
          -0.8951102495193481,
          -0.46974802017211914,
          0.3269672989845276,
          0.40276750922203064,
          -0.4464492201805115,
          -0.03135443478822708,
          -0.8299074172973633,
          -0.34633299708366394,
          0.5752736330032349,
          0.13494941592216492,
          0.28632330894470215,
          0.7513530850410461,
          0.5522600412368774,
          -0.2934018075466156,
          0.15139080584049225,
          -0.6032358407974243,
          -0.17880190908908844,
          -0.1872190684080124,
          0.34044018387794495,
          0.7845554351806641,
          0.35315316915512085,
          0.11541970074176788,
          0.7086673974990845,
          -0.33101919293403625,
          -0.951023280620575,
          0.22601182758808136,
          -0.3493863344192505,
          0.24138939380645752,
          0.3633562922477722,
          1.0215628147125244,
          -0.4259609282016754,
          0.4866516590118408,
          -0.1803746372461319,
          1.3077086210250854,
          -1.0147584676742554,
          -0.21906094253063202,
          0.1685837060213089,
          0.05641983821988106,
          0.6132323741912842,
          0.17591527104377747,
          -0.32405805587768555,
          0.007653164677321911,
          -0.3579542636871338,
          -0.0335325226187706,
          -0.07715632021427155,
          -0.9150636792182922,
          -0.1432555615901947,
          -0.3673717975616455,
          -0.5173946619033813,
          0.18209519982337952,
          -0.5635644793510437,
          0.7850712537765503,
          0.9813817739486694,
          0.20547457039356232,
          -0.40049228072166443,
          -0.01228344440460205,
          -0.08338415622711182,
          -1.0928153991699219,
          -0.39047056436538696,
          0.8352160453796387,
          0.22733473777770996,
          -0.1745131015777588,
          0.09466785937547684,
          -0.08230383694171906,
          -0.8484333753585815,
          -0.8078911900520325,
          0.11940312385559082,
          0.4991375803947449,
          0.9325977563858032,
          -0.5213404893875122,
          0.15454058349132538,
          -0.16139189898967743,
          -0.28623124957084656,
          -0.07744874805212021,
          0.3555939495563507,
          -0.4347045421600342,
          -0.7322176694869995,
          0.6075205206871033,
          0.09300900995731354,
          -0.5864788293838501,
          -0.7638763189315796,
          0.09046216309070587,
          -0.8663719296455383,
          0.17986160516738892,
          0.31517302989959717,
          0.12531891465187073
         ],
         "xbins": {
          "end": 1.3077086210250854,
          "size": 0,
          "start": -1.0928153991699219
         }
        }
       ],
       "layout": {
        "bargap": 0.2,
        "template": {
         "data": {
          "bar": [
           {
            "error_x": {
             "color": "#2a3f5f"
            },
            "error_y": {
             "color": "#2a3f5f"
            },
            "marker": {
             "line": {
              "color": "#E5ECF6",
              "width": 0.5
             }
            },
            "type": "bar"
           }
          ],
          "barpolar": [
           {
            "marker": {
             "line": {
              "color": "#E5ECF6",
              "width": 0.5
             }
            },
            "type": "barpolar"
           }
          ],
          "carpet": [
           {
            "aaxis": {
             "endlinecolor": "#2a3f5f",
             "gridcolor": "white",
             "linecolor": "white",
             "minorgridcolor": "white",
             "startlinecolor": "#2a3f5f"
            },
            "baxis": {
             "endlinecolor": "#2a3f5f",
             "gridcolor": "white",
             "linecolor": "white",
             "minorgridcolor": "white",
             "startlinecolor": "#2a3f5f"
            },
            "type": "carpet"
           }
          ],
          "choropleth": [
           {
            "colorbar": {
             "outlinewidth": 0,
             "ticks": ""
            },
            "type": "choropleth"
           }
          ],
          "contour": [
           {
            "colorbar": {
             "outlinewidth": 0,
             "ticks": ""
            },
            "colorscale": [
             [
              0,
              "#0d0887"
             ],
             [
              0.1111111111111111,
              "#46039f"
             ],
             [
              0.2222222222222222,
              "#7201a8"
             ],
             [
              0.3333333333333333,
              "#9c179e"
             ],
             [
              0.4444444444444444,
              "#bd3786"
             ],
             [
              0.5555555555555556,
              "#d8576b"
             ],
             [
              0.6666666666666666,
              "#ed7953"
             ],
             [
              0.7777777777777778,
              "#fb9f3a"
             ],
             [
              0.8888888888888888,
              "#fdca26"
             ],
             [
              1,
              "#f0f921"
             ]
            ],
            "type": "contour"
           }
          ],
          "contourcarpet": [
           {
            "colorbar": {
             "outlinewidth": 0,
             "ticks": ""
            },
            "type": "contourcarpet"
           }
          ],
          "heatmap": [
           {
            "colorbar": {
             "outlinewidth": 0,
             "ticks": ""
            },
            "colorscale": [
             [
              0,
              "#0d0887"
             ],
             [
              0.1111111111111111,
              "#46039f"
             ],
             [
              0.2222222222222222,
              "#7201a8"
             ],
             [
              0.3333333333333333,
              "#9c179e"
             ],
             [
              0.4444444444444444,
              "#bd3786"
             ],
             [
              0.5555555555555556,
              "#d8576b"
             ],
             [
              0.6666666666666666,
              "#ed7953"
             ],
             [
              0.7777777777777778,
              "#fb9f3a"
             ],
             [
              0.8888888888888888,
              "#fdca26"
             ],
             [
              1,
              "#f0f921"
             ]
            ],
            "type": "heatmap"
           }
          ],
          "heatmapgl": [
           {
            "colorbar": {
             "outlinewidth": 0,
             "ticks": ""
            },
            "colorscale": [
             [
              0,
              "#0d0887"
             ],
             [
              0.1111111111111111,
              "#46039f"
             ],
             [
              0.2222222222222222,
              "#7201a8"
             ],
             [
              0.3333333333333333,
              "#9c179e"
             ],
             [
              0.4444444444444444,
              "#bd3786"
             ],
             [
              0.5555555555555556,
              "#d8576b"
             ],
             [
              0.6666666666666666,
              "#ed7953"
             ],
             [
              0.7777777777777778,
              "#fb9f3a"
             ],
             [
              0.8888888888888888,
              "#fdca26"
             ],
             [
              1,
              "#f0f921"
             ]
            ],
            "type": "heatmapgl"
           }
          ],
          "histogram": [
           {
            "marker": {
             "colorbar": {
              "outlinewidth": 0,
              "ticks": ""
             }
            },
            "type": "histogram"
           }
          ],
          "histogram2d": [
           {
            "colorbar": {
             "outlinewidth": 0,
             "ticks": ""
            },
            "colorscale": [
             [
              0,
              "#0d0887"
             ],
             [
              0.1111111111111111,
              "#46039f"
             ],
             [
              0.2222222222222222,
              "#7201a8"
             ],
             [
              0.3333333333333333,
              "#9c179e"
             ],
             [
              0.4444444444444444,
              "#bd3786"
             ],
             [
              0.5555555555555556,
              "#d8576b"
             ],
             [
              0.6666666666666666,
              "#ed7953"
             ],
             [
              0.7777777777777778,
              "#fb9f3a"
             ],
             [
              0.8888888888888888,
              "#fdca26"
             ],
             [
              1,
              "#f0f921"
             ]
            ],
            "type": "histogram2d"
           }
          ],
          "histogram2dcontour": [
           {
            "colorbar": {
             "outlinewidth": 0,
             "ticks": ""
            },
            "colorscale": [
             [
              0,
              "#0d0887"
             ],
             [
              0.1111111111111111,
              "#46039f"
             ],
             [
              0.2222222222222222,
              "#7201a8"
             ],
             [
              0.3333333333333333,
              "#9c179e"
             ],
             [
              0.4444444444444444,
              "#bd3786"
             ],
             [
              0.5555555555555556,
              "#d8576b"
             ],
             [
              0.6666666666666666,
              "#ed7953"
             ],
             [
              0.7777777777777778,
              "#fb9f3a"
             ],
             [
              0.8888888888888888,
              "#fdca26"
             ],
             [
              1,
              "#f0f921"
             ]
            ],
            "type": "histogram2dcontour"
           }
          ],
          "mesh3d": [
           {
            "colorbar": {
             "outlinewidth": 0,
             "ticks": ""
            },
            "type": "mesh3d"
           }
          ],
          "parcoords": [
           {
            "line": {
             "colorbar": {
              "outlinewidth": 0,
              "ticks": ""
             }
            },
            "type": "parcoords"
           }
          ],
          "pie": [
           {
            "automargin": true,
            "type": "pie"
           }
          ],
          "scatter": [
           {
            "marker": {
             "colorbar": {
              "outlinewidth": 0,
              "ticks": ""
             }
            },
            "type": "scatter"
           }
          ],
          "scatter3d": [
           {
            "line": {
             "colorbar": {
              "outlinewidth": 0,
              "ticks": ""
             }
            },
            "marker": {
             "colorbar": {
              "outlinewidth": 0,
              "ticks": ""
             }
            },
            "type": "scatter3d"
           }
          ],
          "scattercarpet": [
           {
            "marker": {
             "colorbar": {
              "outlinewidth": 0,
              "ticks": ""
             }
            },
            "type": "scattercarpet"
           }
          ],
          "scattergeo": [
           {
            "marker": {
             "colorbar": {
              "outlinewidth": 0,
              "ticks": ""
             }
            },
            "type": "scattergeo"
           }
          ],
          "scattergl": [
           {
            "marker": {
             "colorbar": {
              "outlinewidth": 0,
              "ticks": ""
             }
            },
            "type": "scattergl"
           }
          ],
          "scattermapbox": [
           {
            "marker": {
             "colorbar": {
              "outlinewidth": 0,
              "ticks": ""
             }
            },
            "type": "scattermapbox"
           }
          ],
          "scatterpolar": [
           {
            "marker": {
             "colorbar": {
              "outlinewidth": 0,
              "ticks": ""
             }
            },
            "type": "scatterpolar"
           }
          ],
          "scatterpolargl": [
           {
            "marker": {
             "colorbar": {
              "outlinewidth": 0,
              "ticks": ""
             }
            },
            "type": "scatterpolargl"
           }
          ],
          "scatterternary": [
           {
            "marker": {
             "colorbar": {
              "outlinewidth": 0,
              "ticks": ""
             }
            },
            "type": "scatterternary"
           }
          ],
          "surface": [
           {
            "colorbar": {
             "outlinewidth": 0,
             "ticks": ""
            },
            "colorscale": [
             [
              0,
              "#0d0887"
             ],
             [
              0.1111111111111111,
              "#46039f"
             ],
             [
              0.2222222222222222,
              "#7201a8"
             ],
             [
              0.3333333333333333,
              "#9c179e"
             ],
             [
              0.4444444444444444,
              "#bd3786"
             ],
             [
              0.5555555555555556,
              "#d8576b"
             ],
             [
              0.6666666666666666,
              "#ed7953"
             ],
             [
              0.7777777777777778,
              "#fb9f3a"
             ],
             [
              0.8888888888888888,
              "#fdca26"
             ],
             [
              1,
              "#f0f921"
             ]
            ],
            "type": "surface"
           }
          ],
          "table": [
           {
            "cells": {
             "fill": {
              "color": "#EBF0F8"
             },
             "line": {
              "color": "white"
             }
            },
            "header": {
             "fill": {
              "color": "#C8D4E3"
             },
             "line": {
              "color": "white"
             }
            },
            "type": "table"
           }
          ]
         },
         "layout": {
          "annotationdefaults": {
           "arrowcolor": "#2a3f5f",
           "arrowhead": 0,
           "arrowwidth": 1
          },
          "coloraxis": {
           "colorbar": {
            "outlinewidth": 0,
            "ticks": ""
           }
          },
          "colorscale": {
           "diverging": [
            [
             0,
             "#8e0152"
            ],
            [
             0.1,
             "#c51b7d"
            ],
            [
             0.2,
             "#de77ae"
            ],
            [
             0.3,
             "#f1b6da"
            ],
            [
             0.4,
             "#fde0ef"
            ],
            [
             0.5,
             "#f7f7f7"
            ],
            [
             0.6,
             "#e6f5d0"
            ],
            [
             0.7,
             "#b8e186"
            ],
            [
             0.8,
             "#7fbc41"
            ],
            [
             0.9,
             "#4d9221"
            ],
            [
             1,
             "#276419"
            ]
           ],
           "sequential": [
            [
             0,
             "#0d0887"
            ],
            [
             0.1111111111111111,
             "#46039f"
            ],
            [
             0.2222222222222222,
             "#7201a8"
            ],
            [
             0.3333333333333333,
             "#9c179e"
            ],
            [
             0.4444444444444444,
             "#bd3786"
            ],
            [
             0.5555555555555556,
             "#d8576b"
            ],
            [
             0.6666666666666666,
             "#ed7953"
            ],
            [
             0.7777777777777778,
             "#fb9f3a"
            ],
            [
             0.8888888888888888,
             "#fdca26"
            ],
            [
             1,
             "#f0f921"
            ]
           ],
           "sequentialminus": [
            [
             0,
             "#0d0887"
            ],
            [
             0.1111111111111111,
             "#46039f"
            ],
            [
             0.2222222222222222,
             "#7201a8"
            ],
            [
             0.3333333333333333,
             "#9c179e"
            ],
            [
             0.4444444444444444,
             "#bd3786"
            ],
            [
             0.5555555555555556,
             "#d8576b"
            ],
            [
             0.6666666666666666,
             "#ed7953"
            ],
            [
             0.7777777777777778,
             "#fb9f3a"
            ],
            [
             0.8888888888888888,
             "#fdca26"
            ],
            [
             1,
             "#f0f921"
            ]
           ]
          },
          "colorway": [
           "#636efa",
           "#EF553B",
           "#00cc96",
           "#ab63fa",
           "#FFA15A",
           "#19d3f3",
           "#FF6692",
           "#B6E880",
           "#FF97FF",
           "#FECB52"
          ],
          "font": {
           "color": "#2a3f5f"
          },
          "geo": {
           "bgcolor": "white",
           "lakecolor": "white",
           "landcolor": "#E5ECF6",
           "showlakes": true,
           "showland": true,
           "subunitcolor": "white"
          },
          "hoverlabel": {
           "align": "left"
          },
          "hovermode": "closest",
          "mapbox": {
           "style": "light"
          },
          "paper_bgcolor": "white",
          "plot_bgcolor": "#E5ECF6",
          "polar": {
           "angularaxis": {
            "gridcolor": "white",
            "linecolor": "white",
            "ticks": ""
           },
           "bgcolor": "#E5ECF6",
           "radialaxis": {
            "gridcolor": "white",
            "linecolor": "white",
            "ticks": ""
           }
          },
          "scene": {
           "xaxis": {
            "backgroundcolor": "#E5ECF6",
            "gridcolor": "white",
            "gridwidth": 2,
            "linecolor": "white",
            "showbackground": true,
            "ticks": "",
            "zerolinecolor": "white"
           },
           "yaxis": {
            "backgroundcolor": "#E5ECF6",
            "gridcolor": "white",
            "gridwidth": 2,
            "linecolor": "white",
            "showbackground": true,
            "ticks": "",
            "zerolinecolor": "white"
           },
           "zaxis": {
            "backgroundcolor": "#E5ECF6",
            "gridcolor": "white",
            "gridwidth": 2,
            "linecolor": "white",
            "showbackground": true,
            "ticks": "",
            "zerolinecolor": "white"
           }
          },
          "shapedefaults": {
           "line": {
            "color": "#2a3f5f"
           }
          },
          "ternary": {
           "aaxis": {
            "gridcolor": "white",
            "linecolor": "white",
            "ticks": ""
           },
           "baxis": {
            "gridcolor": "white",
            "linecolor": "white",
            "ticks": ""
           },
           "bgcolor": "#E5ECF6",
           "caxis": {
            "gridcolor": "white",
            "linecolor": "white",
            "ticks": ""
           }
          },
          "title": {
           "x": 0.05
          },
          "xaxis": {
           "automargin": true,
           "gridcolor": "white",
           "linecolor": "white",
           "ticks": "",
           "title": {
            "standoff": 15
           },
           "zerolinecolor": "white",
           "zerolinewidth": 2
          },
          "yaxis": {
           "automargin": true,
           "gridcolor": "white",
           "linecolor": "white",
           "ticks": "",
           "title": {
            "standoff": 15
           },
           "zerolinecolor": "white",
           "zerolinewidth": 2
          }
         }
        },
        "title": {
         "text": "Distribution of the output of layer movie_embeddings-negative"
        },
        "xaxis": {
         "title": {
          "text": "Output of Layer movie_embeddings-negative"
         }
        },
        "yaxis": {
         "title": {
          "text": "Count"
         }
        }
       }
      },
      "text/html": [
       "<div>\n",
       "        \n",
       "        \n",
       "            <div id=\"35a03ffd-6d09-41d3-878a-9855762b5094\" class=\"plotly-graph-div\" style=\"height:525px; width:100%;\"></div>\n",
       "            <script type=\"text/javascript\">\n",
       "                require([\"plotly\"], function(Plotly) {\n",
       "                    window.PLOTLYENV=window.PLOTLYENV || {};\n",
       "                    \n",
       "                if (document.getElementById(\"35a03ffd-6d09-41d3-878a-9855762b5094\")) {\n",
       "                    Plotly.newPlot(\n",
       "                        '35a03ffd-6d09-41d3-878a-9855762b5094',\n",
       "                        [{\"marker\": {\"color\": \"#db0000\"}, \"name\": \"Layer Output\", \"type\": \"histogram\", \"x\": [0.8415136337280273, 0.08648937195539474, 0.6951646208763123, -0.17877288162708282, -0.011820602230727673, 0.7112486958503723, -0.17656022310256958, 0.29690343141555786, -0.29089444875717163, -0.072537362575531, -0.1866355836391449, -0.3643297255039215, -0.2855324149131775, 0.5222997665405273, -0.8951102495193481, -0.46974802017211914, 0.3269672989845276, 0.40276750922203064, -0.4464492201805115, -0.03135443478822708, -0.8299074172973633, -0.34633299708366394, 0.5752736330032349, 0.13494941592216492, 0.28632330894470215, 0.7513530850410461, 0.5522600412368774, -0.2934018075466156, 0.15139080584049225, -0.6032358407974243, -0.17880190908908844, -0.1872190684080124, 0.34044018387794495, 0.7845554351806641, 0.35315316915512085, 0.11541970074176788, 0.7086673974990845, -0.33101919293403625, -0.951023280620575, 0.22601182758808136, -0.3493863344192505, 0.24138939380645752, 0.3633562922477722, 1.0215628147125244, -0.4259609282016754, 0.4866516590118408, -0.1803746372461319, 1.3077086210250854, -1.0147584676742554, -0.21906094253063202, 0.1685837060213089, 0.05641983821988106, 0.6132323741912842, 0.17591527104377747, -0.32405805587768555, 0.007653164677321911, -0.3579542636871338, -0.0335325226187706, -0.07715632021427155, -0.9150636792182922, -0.1432555615901947, -0.3673717975616455, -0.5173946619033813, 0.18209519982337952, -0.5635644793510437, 0.7850712537765503, 0.9813817739486694, 0.20547457039356232, -0.40049228072166443, -0.01228344440460205, -0.08338415622711182, -1.0928153991699219, -0.39047056436538696, 0.8352160453796387, 0.22733473777770996, -0.1745131015777588, 0.09466785937547684, -0.08230383694171906, -0.8484333753585815, -0.8078911900520325, 0.11940312385559082, 0.4991375803947449, 0.9325977563858032, -0.5213404893875122, 0.15454058349132538, -0.16139189898967743, -0.28623124957084656, -0.07744874805212021, 0.3555939495563507, -0.4347045421600342, -0.7322176694869995, 0.6075205206871033, 0.09300900995731354, -0.5864788293838501, -0.7638763189315796, 0.09046216309070587, -0.8663719296455383, 0.17986160516738892, 0.31517302989959717, 0.12531891465187073], \"xbins\": {\"end\": 1.3077086210250854, \"size\": 0, \"start\": -1.0928153991699219}}],\n",
       "                        {\"bargap\": 0.2, \"template\": {\"data\": {\"bar\": [{\"error_x\": {\"color\": \"#2a3f5f\"}, \"error_y\": {\"color\": \"#2a3f5f\"}, \"marker\": {\"line\": {\"color\": \"#E5ECF6\", \"width\": 0.5}}, \"type\": \"bar\"}], \"barpolar\": [{\"marker\": {\"line\": {\"color\": \"#E5ECF6\", \"width\": 0.5}}, \"type\": \"barpolar\"}], \"carpet\": [{\"aaxis\": {\"endlinecolor\": \"#2a3f5f\", \"gridcolor\": \"white\", \"linecolor\": \"white\", \"minorgridcolor\": \"white\", \"startlinecolor\": \"#2a3f5f\"}, \"baxis\": {\"endlinecolor\": \"#2a3f5f\", \"gridcolor\": \"white\", \"linecolor\": \"white\", \"minorgridcolor\": \"white\", \"startlinecolor\": \"#2a3f5f\"}, \"type\": \"carpet\"}], \"choropleth\": [{\"colorbar\": {\"outlinewidth\": 0, \"ticks\": \"\"}, \"type\": \"choropleth\"}], \"contour\": [{\"colorbar\": {\"outlinewidth\": 0, \"ticks\": \"\"}, \"colorscale\": [[0.0, \"#0d0887\"], [0.1111111111111111, \"#46039f\"], [0.2222222222222222, \"#7201a8\"], [0.3333333333333333, \"#9c179e\"], [0.4444444444444444, \"#bd3786\"], [0.5555555555555556, \"#d8576b\"], [0.6666666666666666, \"#ed7953\"], [0.7777777777777778, \"#fb9f3a\"], [0.8888888888888888, \"#fdca26\"], [1.0, \"#f0f921\"]], \"type\": \"contour\"}], \"contourcarpet\": [{\"colorbar\": {\"outlinewidth\": 0, \"ticks\": \"\"}, \"type\": \"contourcarpet\"}], \"heatmap\": [{\"colorbar\": {\"outlinewidth\": 0, \"ticks\": \"\"}, \"colorscale\": [[0.0, \"#0d0887\"], [0.1111111111111111, \"#46039f\"], [0.2222222222222222, \"#7201a8\"], [0.3333333333333333, \"#9c179e\"], [0.4444444444444444, \"#bd3786\"], [0.5555555555555556, \"#d8576b\"], [0.6666666666666666, \"#ed7953\"], [0.7777777777777778, \"#fb9f3a\"], [0.8888888888888888, \"#fdca26\"], [1.0, \"#f0f921\"]], \"type\": \"heatmap\"}], \"heatmapgl\": [{\"colorbar\": {\"outlinewidth\": 0, \"ticks\": \"\"}, \"colorscale\": [[0.0, \"#0d0887\"], [0.1111111111111111, \"#46039f\"], [0.2222222222222222, \"#7201a8\"], [0.3333333333333333, \"#9c179e\"], [0.4444444444444444, \"#bd3786\"], [0.5555555555555556, \"#d8576b\"], [0.6666666666666666, \"#ed7953\"], [0.7777777777777778, \"#fb9f3a\"], [0.8888888888888888, \"#fdca26\"], [1.0, \"#f0f921\"]], \"type\": \"heatmapgl\"}], \"histogram\": [{\"marker\": {\"colorbar\": {\"outlinewidth\": 0, \"ticks\": \"\"}}, \"type\": \"histogram\"}], \"histogram2d\": [{\"colorbar\": {\"outlinewidth\": 0, \"ticks\": \"\"}, \"colorscale\": [[0.0, \"#0d0887\"], [0.1111111111111111, \"#46039f\"], [0.2222222222222222, \"#7201a8\"], [0.3333333333333333, \"#9c179e\"], [0.4444444444444444, \"#bd3786\"], [0.5555555555555556, \"#d8576b\"], [0.6666666666666666, \"#ed7953\"], [0.7777777777777778, \"#fb9f3a\"], [0.8888888888888888, \"#fdca26\"], [1.0, \"#f0f921\"]], \"type\": \"histogram2d\"}], \"histogram2dcontour\": [{\"colorbar\": {\"outlinewidth\": 0, \"ticks\": \"\"}, \"colorscale\": [[0.0, \"#0d0887\"], [0.1111111111111111, \"#46039f\"], [0.2222222222222222, \"#7201a8\"], [0.3333333333333333, \"#9c179e\"], [0.4444444444444444, \"#bd3786\"], [0.5555555555555556, \"#d8576b\"], [0.6666666666666666, \"#ed7953\"], [0.7777777777777778, \"#fb9f3a\"], [0.8888888888888888, \"#fdca26\"], [1.0, \"#f0f921\"]], \"type\": \"histogram2dcontour\"}], \"mesh3d\": [{\"colorbar\": {\"outlinewidth\": 0, \"ticks\": \"\"}, \"type\": \"mesh3d\"}], \"parcoords\": [{\"line\": {\"colorbar\": {\"outlinewidth\": 0, \"ticks\": \"\"}}, \"type\": \"parcoords\"}], \"pie\": [{\"automargin\": true, \"type\": \"pie\"}], \"scatter\": [{\"marker\": {\"colorbar\": {\"outlinewidth\": 0, \"ticks\": \"\"}}, \"type\": \"scatter\"}], \"scatter3d\": [{\"line\": {\"colorbar\": {\"outlinewidth\": 0, \"ticks\": \"\"}}, \"marker\": {\"colorbar\": {\"outlinewidth\": 0, \"ticks\": \"\"}}, \"type\": \"scatter3d\"}], \"scattercarpet\": [{\"marker\": {\"colorbar\": {\"outlinewidth\": 0, \"ticks\": \"\"}}, \"type\": \"scattercarpet\"}], \"scattergeo\": [{\"marker\": {\"colorbar\": {\"outlinewidth\": 0, \"ticks\": \"\"}}, \"type\": \"scattergeo\"}], \"scattergl\": [{\"marker\": {\"colorbar\": {\"outlinewidth\": 0, \"ticks\": \"\"}}, \"type\": \"scattergl\"}], \"scattermapbox\": [{\"marker\": {\"colorbar\": {\"outlinewidth\": 0, \"ticks\": \"\"}}, \"type\": \"scattermapbox\"}], \"scatterpolar\": [{\"marker\": {\"colorbar\": {\"outlinewidth\": 0, \"ticks\": \"\"}}, \"type\": \"scatterpolar\"}], \"scatterpolargl\": [{\"marker\": {\"colorbar\": {\"outlinewidth\": 0, \"ticks\": \"\"}}, \"type\": \"scatterpolargl\"}], \"scatterternary\": [{\"marker\": {\"colorbar\": {\"outlinewidth\": 0, \"ticks\": \"\"}}, \"type\": \"scatterternary\"}], \"surface\": [{\"colorbar\": {\"outlinewidth\": 0, \"ticks\": \"\"}, \"colorscale\": [[0.0, \"#0d0887\"], [0.1111111111111111, \"#46039f\"], [0.2222222222222222, \"#7201a8\"], [0.3333333333333333, \"#9c179e\"], [0.4444444444444444, \"#bd3786\"], [0.5555555555555556, \"#d8576b\"], [0.6666666666666666, \"#ed7953\"], [0.7777777777777778, \"#fb9f3a\"], [0.8888888888888888, \"#fdca26\"], [1.0, \"#f0f921\"]], \"type\": \"surface\"}], \"table\": [{\"cells\": {\"fill\": {\"color\": \"#EBF0F8\"}, \"line\": {\"color\": \"white\"}}, \"header\": {\"fill\": {\"color\": \"#C8D4E3\"}, \"line\": {\"color\": \"white\"}}, \"type\": \"table\"}]}, \"layout\": {\"annotationdefaults\": {\"arrowcolor\": \"#2a3f5f\", \"arrowhead\": 0, \"arrowwidth\": 1}, \"coloraxis\": {\"colorbar\": {\"outlinewidth\": 0, \"ticks\": \"\"}}, \"colorscale\": {\"diverging\": [[0, \"#8e0152\"], [0.1, \"#c51b7d\"], [0.2, \"#de77ae\"], [0.3, \"#f1b6da\"], [0.4, \"#fde0ef\"], [0.5, \"#f7f7f7\"], [0.6, \"#e6f5d0\"], [0.7, \"#b8e186\"], [0.8, \"#7fbc41\"], [0.9, \"#4d9221\"], [1, \"#276419\"]], \"sequential\": [[0.0, \"#0d0887\"], [0.1111111111111111, \"#46039f\"], [0.2222222222222222, \"#7201a8\"], [0.3333333333333333, \"#9c179e\"], [0.4444444444444444, \"#bd3786\"], [0.5555555555555556, \"#d8576b\"], [0.6666666666666666, \"#ed7953\"], [0.7777777777777778, \"#fb9f3a\"], [0.8888888888888888, \"#fdca26\"], [1.0, \"#f0f921\"]], \"sequentialminus\": [[0.0, \"#0d0887\"], [0.1111111111111111, \"#46039f\"], [0.2222222222222222, \"#7201a8\"], [0.3333333333333333, \"#9c179e\"], [0.4444444444444444, \"#bd3786\"], [0.5555555555555556, \"#d8576b\"], [0.6666666666666666, \"#ed7953\"], [0.7777777777777778, \"#fb9f3a\"], [0.8888888888888888, \"#fdca26\"], [1.0, \"#f0f921\"]]}, \"colorway\": [\"#636efa\", \"#EF553B\", \"#00cc96\", \"#ab63fa\", \"#FFA15A\", \"#19d3f3\", \"#FF6692\", \"#B6E880\", \"#FF97FF\", \"#FECB52\"], \"font\": {\"color\": \"#2a3f5f\"}, \"geo\": {\"bgcolor\": \"white\", \"lakecolor\": \"white\", \"landcolor\": \"#E5ECF6\", \"showlakes\": true, \"showland\": true, \"subunitcolor\": \"white\"}, \"hoverlabel\": {\"align\": \"left\"}, \"hovermode\": \"closest\", \"mapbox\": {\"style\": \"light\"}, \"paper_bgcolor\": \"white\", \"plot_bgcolor\": \"#E5ECF6\", \"polar\": {\"angularaxis\": {\"gridcolor\": \"white\", \"linecolor\": \"white\", \"ticks\": \"\"}, \"bgcolor\": \"#E5ECF6\", \"radialaxis\": {\"gridcolor\": \"white\", \"linecolor\": \"white\", \"ticks\": \"\"}}, \"scene\": {\"xaxis\": {\"backgroundcolor\": \"#E5ECF6\", \"gridcolor\": \"white\", \"gridwidth\": 2, \"linecolor\": \"white\", \"showbackground\": true, \"ticks\": \"\", \"zerolinecolor\": \"white\"}, \"yaxis\": {\"backgroundcolor\": \"#E5ECF6\", \"gridcolor\": \"white\", \"gridwidth\": 2, \"linecolor\": \"white\", \"showbackground\": true, \"ticks\": \"\", \"zerolinecolor\": \"white\"}, \"zaxis\": {\"backgroundcolor\": \"#E5ECF6\", \"gridcolor\": \"white\", \"gridwidth\": 2, \"linecolor\": \"white\", \"showbackground\": true, \"ticks\": \"\", \"zerolinecolor\": \"white\"}}, \"shapedefaults\": {\"line\": {\"color\": \"#2a3f5f\"}}, \"ternary\": {\"aaxis\": {\"gridcolor\": \"white\", \"linecolor\": \"white\", \"ticks\": \"\"}, \"baxis\": {\"gridcolor\": \"white\", \"linecolor\": \"white\", \"ticks\": \"\"}, \"bgcolor\": \"#E5ECF6\", \"caxis\": {\"gridcolor\": \"white\", \"linecolor\": \"white\", \"ticks\": \"\"}}, \"title\": {\"x\": 0.05}, \"xaxis\": {\"automargin\": true, \"gridcolor\": \"white\", \"linecolor\": \"white\", \"ticks\": \"\", \"title\": {\"standoff\": 15}, \"zerolinecolor\": \"white\", \"zerolinewidth\": 2}, \"yaxis\": {\"automargin\": true, \"gridcolor\": \"white\", \"linecolor\": \"white\", \"ticks\": \"\", \"title\": {\"standoff\": 15}, \"zerolinecolor\": \"white\", \"zerolinewidth\": 2}}}, \"title\": {\"text\": \"Distribution of the output of layer movie_embeddings-negative\"}, \"xaxis\": {\"title\": {\"text\": \"Output of Layer movie_embeddings-negative\"}}, \"yaxis\": {\"title\": {\"text\": \"Count\"}}},\n",
       "                        {\"responsive\": true}\n",
       "                    ).then(function(){\n",
       "                            \n",
       "var gd = document.getElementById('35a03ffd-6d09-41d3-878a-9855762b5094');\n",
       "var x = new MutationObserver(function (mutations, observer) {{\n",
       "        var display = window.getComputedStyle(gd).display;\n",
       "        if (!display || display === 'none') {{\n",
       "            console.log([gd, 'removed!']);\n",
       "            Plotly.purge(gd);\n",
       "            observer.disconnect();\n",
       "        }}\n",
       "}});\n",
       "\n",
       "// Listen for the removal of the full notebook cells\n",
       "var notebookContainer = gd.closest('#notebook-container');\n",
       "if (notebookContainer) {{\n",
       "    x.observe(notebookContainer, {childList: true});\n",
       "}}\n",
       "\n",
       "// Listen for the clearing of the current output cell\n",
       "var outputEl = gd.closest('.output');\n",
       "if (outputEl) {{\n",
       "    x.observe(outputEl, {childList: true});\n",
       "}}\n",
       "\n",
       "                        })\n",
       "                };\n",
       "                });\n",
       "            </script>\n",
       "        </div>"
      ]
     },
     "metadata": {},
     "output_type": "display_data"
    }
   ],
   "source": [
    "plot_hist_intermediate_outputs(pos_out_mean, 'movie_embeddings-positive')\n",
    "plot_hist_intermediate_outputs(neg_out_mean, 'movie_embeddings-negative')"
   ]
  },
  {
   "cell_type": "code",
   "execution_count": 28,
   "metadata": {},
   "outputs": [
    {
     "name": "stdout",
     "output_type": "stream",
     "text": [
      "Positive Movies\n",
      "\n",
      "['The Pianist' 'Collateral Damage' 'The Day of the Jackal' 'Spartan'\n",
      " 'Garden State' 'The Pacifier' 'What Women Want'\n",
      " 'Teen Wolf / Teen Wolf Too (Double Feature)' 'Rush Hour 2']\n",
      "Negative Movies\n",
      "\n",
      "['The Winds of War' 'Gilmore Girls: Season 3'\n",
      " 'Lord of the Rings: The Fellowship of the Ring' 'Pride and Prejudice'\n",
      " 'The Simpsons: Season 3' 'The Silence of the Lambs' 'Indiscreet'\n",
      " 'Richie Rich' 'Ghost in the Shell']\n"
     ]
    },
    {
     "name": "stderr",
     "output_type": "stream",
     "text": [
      "/Users/varunn/.virtualenvs/rasa/lib/python3.6/site-packages/ipykernel_launcher.py:2: SettingWithCopyWarning:\n",
      "\n",
      "\n",
      "A value is trying to be set on a copy of a slice from a DataFrame.\n",
      "Try using .loc[row_indexer,col_indexer] = value instead\n",
      "\n",
      "See the caveats in the documentation: http://pandas.pydata.org/pandas-docs/stable/user_guide/indexing.html#returning-a-view-versus-a-copy\n",
      "\n",
      "/Users/varunn/.virtualenvs/rasa/lib/python3.6/site-packages/ipykernel_launcher.py:4: SettingWithCopyWarning:\n",
      "\n",
      "\n",
      "A value is trying to be set on a copy of a slice from a DataFrame.\n",
      "Try using .loc[row_indexer,col_indexer] = value instead\n",
      "\n",
      "See the caveats in the documentation: http://pandas.pydata.org/pandas-docs/stable/user_guide/indexing.html#returning-a-view-versus-a-copy\n",
      "\n",
      "/Users/varunn/.virtualenvs/rasa/lib/python3.6/site-packages/ipykernel_launcher.py:7: SettingWithCopyWarning:\n",
      "\n",
      "\n",
      "A value is trying to be set on a copy of a slice from a DataFrame.\n",
      "Try using .loc[row_indexer,col_indexer] = value instead\n",
      "\n",
      "See the caveats in the documentation: http://pandas.pydata.org/pandas-docs/stable/user_guide/indexing.html#returning-a-view-versus-a-copy\n",
      "\n",
      "/Users/varunn/.virtualenvs/rasa/lib/python3.6/site-packages/ipykernel_launcher.py:9: SettingWithCopyWarning:\n",
      "\n",
      "\n",
      "A value is trying to be set on a copy of a slice from a DataFrame.\n",
      "Try using .loc[row_indexer,col_indexer] = value instead\n",
      "\n",
      "See the caveats in the documentation: http://pandas.pydata.org/pandas-docs/stable/user_guide/indexing.html#returning-a-view-versus-a-copy\n",
      "\n"
     ]
    }
   ],
   "source": [
    "positive_examples['movie_id'] = positive_examples['cat_feats'].apply(\n",
    "    lambda x: int(x[1]))\n",
    "positive_examples['movie_title'] = positive_examples['movie_id'].apply(\n",
    "    lambda x: movie_title_dct[x])\n",
    "\n",
    "negative_examples['movie_id'] = negative_examples['cat_feats'].apply(\n",
    "    lambda x: int(x[1]))\n",
    "negative_examples['movie_title'] = negative_examples['movie_id'].apply(\n",
    "    lambda x: movie_title_dct[x])\n",
    "\n",
    "print('Positive Movies\\n')\n",
    "print(positive_examples['movie_title'].unique())\n",
    "\n",
    "print('Negative Movies\\n')\n",
    "print(negative_examples['movie_title'].unique())"
   ]
  },
  {
   "cell_type": "markdown",
   "metadata": {},
   "source": [
    "#### bn1"
   ]
  },
  {
   "cell_type": "code",
   "execution_count": 76,
   "metadata": {},
   "outputs": [],
   "source": [
    "layer_name = 'bn1'"
   ]
  },
  {
   "cell_type": "code",
   "execution_count": 79,
   "metadata": {},
   "outputs": [
    {
     "name": "stdout",
     "output_type": "stream",
     "text": [
      "(10, 783)\n",
      "(783,)\n",
      "(10, 783)\n",
      "(783,)\n"
     ]
    }
   ],
   "source": [
    "# feature mean\n",
    "pos_out_mean, neg_out_mean = get_mean_metrics_for_visualization(\n",
    "    positive_example_outs, negative_example_outs, layer_name, 'feature')"
   ]
  },
  {
   "cell_type": "code",
   "execution_count": 80,
   "metadata": {},
   "outputs": [
    {
     "data": {
      "application/vnd.plotly.v1+json": {
       "config": {
        "plotlyServerURL": "https://plot.ly"
       },
       "data": [
        {
         "line": {
          "color": "#9467bd"
         },
         "name": "positive",
         "type": "scatter",
         "x": [
          0,
          1,
          2,
          3,
          4,
          5,
          6,
          7,
          8,
          9,
          10,
          11,
          12,
          13,
          14,
          15,
          16,
          17,
          18,
          19,
          20,
          21,
          22,
          23,
          24,
          25,
          26,
          27,
          28,
          29,
          30,
          31,
          32,
          33,
          34,
          35,
          36,
          37,
          38,
          39,
          40,
          41,
          42,
          43,
          44,
          45,
          46,
          47,
          48,
          49,
          50,
          51,
          52,
          53,
          54,
          55,
          56,
          57,
          58,
          59,
          60,
          61,
          62,
          63,
          64,
          65,
          66,
          67,
          68,
          69,
          70,
          71,
          72,
          73,
          74,
          75,
          76,
          77,
          78,
          79,
          80,
          81,
          82,
          83,
          84,
          85,
          86,
          87,
          88,
          89,
          90,
          91,
          92,
          93,
          94,
          95,
          96,
          97,
          98,
          99,
          100,
          101,
          102,
          103,
          104,
          105,
          106,
          107,
          108,
          109,
          110,
          111,
          112,
          113,
          114,
          115,
          116,
          117,
          118,
          119,
          120,
          121,
          122,
          123,
          124,
          125,
          126,
          127,
          128,
          129,
          130,
          131,
          132,
          133,
          134,
          135,
          136,
          137,
          138,
          139,
          140,
          141,
          142,
          143,
          144,
          145,
          146,
          147,
          148,
          149,
          150,
          151,
          152,
          153,
          154,
          155,
          156,
          157,
          158,
          159,
          160,
          161,
          162,
          163,
          164,
          165,
          166,
          167,
          168,
          169,
          170,
          171,
          172,
          173,
          174,
          175,
          176,
          177,
          178,
          179,
          180,
          181,
          182,
          183,
          184,
          185,
          186,
          187,
          188,
          189,
          190,
          191,
          192,
          193,
          194,
          195,
          196,
          197,
          198,
          199,
          200,
          201,
          202,
          203,
          204,
          205,
          206,
          207,
          208,
          209,
          210,
          211,
          212,
          213,
          214,
          215,
          216,
          217,
          218,
          219,
          220,
          221,
          222,
          223,
          224,
          225,
          226,
          227,
          228,
          229,
          230,
          231,
          232,
          233,
          234,
          235,
          236,
          237,
          238,
          239,
          240,
          241,
          242,
          243,
          244,
          245,
          246,
          247,
          248,
          249,
          250,
          251,
          252,
          253,
          254,
          255,
          256,
          257,
          258,
          259,
          260,
          261,
          262,
          263,
          264,
          265,
          266,
          267,
          268,
          269,
          270,
          271,
          272,
          273,
          274,
          275,
          276,
          277,
          278,
          279,
          280,
          281,
          282,
          283,
          284,
          285,
          286,
          287,
          288,
          289,
          290,
          291,
          292,
          293,
          294,
          295,
          296,
          297,
          298,
          299,
          300,
          301,
          302,
          303,
          304,
          305,
          306,
          307,
          308,
          309,
          310,
          311,
          312,
          313,
          314,
          315,
          316,
          317,
          318,
          319,
          320,
          321,
          322,
          323,
          324,
          325,
          326,
          327,
          328,
          329,
          330,
          331,
          332,
          333,
          334,
          335,
          336,
          337,
          338,
          339,
          340,
          341,
          342,
          343,
          344,
          345,
          346,
          347,
          348,
          349,
          350,
          351,
          352,
          353,
          354,
          355,
          356,
          357,
          358,
          359,
          360,
          361,
          362,
          363,
          364,
          365,
          366,
          367,
          368,
          369,
          370,
          371,
          372,
          373,
          374,
          375,
          376,
          377,
          378,
          379,
          380,
          381,
          382,
          383,
          384,
          385,
          386,
          387,
          388,
          389,
          390,
          391,
          392,
          393,
          394,
          395,
          396,
          397,
          398,
          399,
          400,
          401,
          402,
          403,
          404,
          405,
          406,
          407,
          408,
          409,
          410,
          411,
          412,
          413,
          414,
          415,
          416,
          417,
          418,
          419,
          420,
          421,
          422,
          423,
          424,
          425,
          426,
          427,
          428,
          429,
          430,
          431,
          432,
          433,
          434,
          435,
          436,
          437,
          438,
          439,
          440,
          441,
          442,
          443,
          444,
          445,
          446,
          447,
          448,
          449,
          450,
          451,
          452,
          453,
          454,
          455,
          456,
          457,
          458,
          459,
          460,
          461,
          462,
          463,
          464,
          465,
          466,
          467,
          468,
          469,
          470,
          471,
          472,
          473,
          474,
          475,
          476,
          477,
          478,
          479,
          480,
          481,
          482,
          483,
          484,
          485,
          486,
          487,
          488,
          489,
          490,
          491,
          492,
          493,
          494,
          495,
          496,
          497,
          498,
          499,
          500,
          501,
          502,
          503,
          504,
          505,
          506,
          507,
          508,
          509,
          510,
          511,
          512,
          513,
          514,
          515,
          516,
          517,
          518,
          519,
          520,
          521,
          522,
          523,
          524,
          525,
          526,
          527,
          528,
          529,
          530,
          531,
          532,
          533,
          534,
          535,
          536,
          537,
          538,
          539,
          540,
          541,
          542,
          543,
          544,
          545,
          546,
          547,
          548,
          549,
          550,
          551,
          552,
          553,
          554,
          555,
          556,
          557,
          558,
          559,
          560,
          561,
          562,
          563,
          564,
          565,
          566,
          567,
          568,
          569,
          570,
          571,
          572,
          573,
          574,
          575,
          576,
          577,
          578,
          579,
          580,
          581,
          582,
          583,
          584,
          585,
          586,
          587,
          588,
          589,
          590,
          591,
          592,
          593,
          594,
          595,
          596,
          597,
          598,
          599,
          600,
          601,
          602,
          603,
          604,
          605,
          606,
          607,
          608,
          609,
          610,
          611,
          612,
          613,
          614,
          615,
          616,
          617,
          618,
          619,
          620,
          621,
          622,
          623,
          624,
          625,
          626,
          627,
          628,
          629,
          630,
          631,
          632,
          633,
          634,
          635,
          636,
          637,
          638,
          639,
          640,
          641,
          642,
          643,
          644,
          645,
          646,
          647,
          648,
          649,
          650,
          651,
          652,
          653,
          654,
          655,
          656,
          657,
          658,
          659,
          660,
          661,
          662,
          663,
          664,
          665,
          666,
          667,
          668,
          669,
          670,
          671,
          672,
          673,
          674,
          675,
          676,
          677,
          678,
          679,
          680,
          681,
          682,
          683,
          684,
          685,
          686,
          687,
          688,
          689,
          690,
          691,
          692,
          693,
          694,
          695,
          696,
          697,
          698,
          699,
          700,
          701,
          702,
          703,
          704,
          705,
          706,
          707,
          708,
          709,
          710,
          711,
          712,
          713,
          714,
          715,
          716,
          717,
          718,
          719,
          720,
          721,
          722,
          723,
          724,
          725,
          726,
          727,
          728,
          729,
          730,
          731,
          732,
          733,
          734,
          735,
          736,
          737,
          738,
          739,
          740,
          741,
          742,
          743,
          744,
          745,
          746,
          747,
          748,
          749,
          750,
          751,
          752,
          753,
          754,
          755,
          756,
          757,
          758,
          759,
          760,
          761,
          762,
          763,
          764,
          765,
          766,
          767,
          768,
          769,
          770,
          771,
          772,
          773,
          774,
          775,
          776,
          777,
          778,
          779,
          780,
          781,
          782
         ],
         "y": [
          5.336171627044678,
          3.3017048835754395,
          2.57442569732666,
          2.951385974884033,
          3.037219762802124,
          -6.2192816734313965,
          7.933859348297119,
          4.362702369689941,
          0.3452085554599762,
          -0.9093995094299316,
          -1.5055519342422485,
          -1.6704702377319336,
          -6.099761009216309,
          -4.076796531677246,
          3.4480748176574707,
          0.10022492706775665,
          0.07887323200702667,
          0.17693671584129333,
          -0.1922362893819809,
          0.25547143816947937,
          -0.1842876374721527,
          0.47187772393226624,
          -0.2925288677215576,
          -0.21548207104206085,
          0.12730160355567932,
          -0.6056496500968933,
          0.08245080709457397,
          0.05812804773449898,
          0.067588672041893,
          -0.1629282534122467,
          0.5601806044578552,
          0.18899193406105042,
          -0.6316047310829163,
          0.0065237777307629585,
          -0.179495170712471,
          0.25273606181144714,
          -0.771588921546936,
          -0.17227864265441895,
          0.07918453216552734,
          0.35025444626808167,
          -0.10550306737422943,
          -0.365006685256958,
          0.02864323928952217,
          0.8151199221611023,
          -0.22023296356201172,
          0.2848946154117584,
          -0.08887242525815964,
          -0.00534651568159461,
          -0.25056302547454834,
          -0.09458796679973602,
          0.06798463314771652,
          -0.21284444630146027,
          0.0069192624650895596,
          -0.46796926856040955,
          0.9850780367851257,
          0.07158209383487701,
          0.18378415703773499,
          0.11077694594860077,
          -0.06396272778511047,
          0.020805738866329193,
          -0.08321012556552887,
          -0.20829220116138458,
          -0.12058095633983612,
          0.020645806565880775,
          0.31495580077171326,
          0.242932990193367,
          -0.22746476531028748,
          0.040018223226070404,
          0.02569807693362236,
          0.2022845447063446,
          0.11232955753803253,
          0.01248419564217329,
          -0.006657829042524099,
          0.030478324741125107,
          0.0886307954788208,
          0.2479194700717926,
          -0.16815046966075897,
          0.09674819558858871,
          -0.07652907818555832,
          -0.06916050612926483,
          -0.06996724754571915,
          0.19977374374866486,
          -0.4544658064842224,
          1.8938267230987549,
          -0.45609015226364136,
          0.2626289129257202,
          0.011940866708755493,
          0.19746768474578857,
          -0.1433240920305252,
          -0.11968939006328583,
          -0.04428907111287117,
          0.07028388231992722,
          -0.4280926585197449,
          0.16186213493347168,
          0.2820867896080017,
          -0.16763006150722504,
          0.4203766882419586,
          0.8637889623641968,
          -0.061795979738235474,
          0.7152020931243896,
          0.5367675423622131,
          -0.23437175154685974,
          0.15342864394187927,
          -0.14897581934928894,
          0.25688251852989197,
          0.0967952162027359,
          -0.10786540806293488,
          0.05649453401565552,
          -0.16899412870407104,
          0.08397307246923447,
          0.028783801943063736,
          -0.12171715497970581,
          0.6384216547012329,
          0.5577758550643921,
          -0.6317771673202515,
          0.029025280848145485,
          -0.08670816570520401,
          0.05284448713064194,
          0.0446661114692688,
          0.1654643565416336,
          -1.0661977529525757,
          -0.13570165634155273,
          0.07675053924322128,
          -0.14022748172283173,
          0.008487315848469734,
          -0.0725938156247139,
          -0.0765734612941742,
          0.0912599042057991,
          -0.21619991958141327,
          0.012104542925953865,
          0.1620069444179535,
          -0.06735824048519135,
          -1.2894017696380615,
          -0.31011492013931274,
          0.058587320148944855,
          0.18237988650798798,
          -0.08394145965576172,
          0.21866855025291443,
          0.3006710708141327,
          -1.2800824642181396,
          0.20612797141075134,
          0.04241694137454033,
          0.13015934824943542,
          0.23227116465568542,
          -1.334498643875122,
          0.0686696320772171,
          -0.19896253943443298,
          -0.016792073845863342,
          -0.3980600833892822,
          -0.6766244769096375,
          0.2422010898590088,
          -0.4207952618598938,
          -0.06859340518712997,
          0.15659798681735992,
          0.2245442122220993,
          -0.062034331262111664,
          0.050183702260255814,
          -0.1934550702571869,
          -0.2878240942955017,
          -0.15058663487434387,
          -0.00014542303688358516,
          -0.14996954798698425,
          0.3113850951194763,
          -0.2997245192527771,
          0.1078452467918396,
          -0.34016838669776917,
          0.15664449334144592,
          -0.8915578126907349,
          -0.09263197332620621,
          -1.1410119533538818,
          -0.13123486936092377,
          -0.1940973848104477,
          0.04517524689435959,
          0.5696817636489868,
          0.2707558572292328,
          0.19190020859241486,
          -0.21461638808250427,
          0.5856455564498901,
          0.15065550804138184,
          -0.10372617095708847,
          -0.06219242885708809,
          -0.23912131786346436,
          0.2330041229724884,
          0.16825520992279053,
          -0.04874380677938461,
          0.1772255301475525,
          -0.2026575356721878,
          0.1576169729232788,
          -0.03923197463154793,
          0.8282354474067688,
          -0.45496612787246704,
          1.156489372253418,
          0.1890464574098587,
          0.22477492690086365,
          -0.269391804933548,
          0.1385613977909088,
          -0.4421420097351074,
          -0.2581442594528198,
          0.45711326599121094,
          0.09689992666244507,
          0.090396948158741,
          -0.04009837657213211,
          -0.06761055439710617,
          0.4360550045967102,
          -0.3277222216129303,
          0.5327633023262024,
          -0.6150853037834167,
          0.3234519958496094,
          -0.5105246305465698,
          -0.043324295431375504,
          -0.6020852327346802,
          0.0654604583978653,
          -0.11874918639659882,
          -0.04488472640514374,
          -0.16991505026817322,
          -0.04432583972811699,
          0.17608030140399933,
          0.2591949701309204,
          1.52932870388031,
          -0.09754554182291031,
          -0.06746527552604675,
          -0.11507020890712738,
          0.3278953731060028,
          -0.3806893527507782,
          -0.3086754381656647,
          -0.2193458378314972,
          -0.8749352693557739,
          0.15178950130939484,
          0.031163472682237625,
          -0.4542717933654785,
          0.03786622732877731,
          0.1412392109632492,
          0.1409168541431427,
          -0.16821326315402985,
          -0.035549815744161606,
          0.07521079480648041,
          0.1742464154958725,
          0.20234429836273193,
          -0.2152252197265625,
          -0.27166810631752014,
          -0.15556196868419647,
          0.289150208234787,
          -0.012412513606250286,
          -0.14938487112522125,
          0.18592891097068787,
          0.1500212401151657,
          1.3240280151367188,
          0.1893378496170044,
          -0.02242238260805607,
          -0.0675329864025116,
          0.17424671351909637,
          0.03580925613641739,
          0.4778367578983307,
          0.22031494975090027,
          -0.10274217277765274,
          -0.24384205043315887,
          -0.2518754303455353,
          -0.4369437098503113,
          -0.2737311124801636,
          0.03837892785668373,
          0.4788287281990051,
          -0.4517269730567932,
          0.19333183765411377,
          -0.05453334376215935,
          -0.6328134536743164,
          -0.4250820279121399,
          0.21186640858650208,
          0.11241714656352997,
          -0.5951086282730103,
          0.013438570313155651,
          0.22663304209709167,
          -0.7823057174682617,
          -0.14379730820655823,
          0.2001229226589203,
          0.3080332577228546,
          -1.3636255264282227,
          0.3784935474395752,
          -0.04248138889670372,
          -0.8511034846305847,
          -0.14461643993854523,
          0.28805476427078247,
          -0.15797463059425354,
          -0.2598802149295807,
          0.04036752134561539,
          -0.11445802450180054,
          0.29886385798454285,
          0.6363303065299988,
          -0.30538830161094666,
          0.04847697913646698,
          -0.03431408852338791,
          -0.04011587053537369,
          -0.13676592707633972,
          0.16072770953178406,
          0.7547920346260071,
          -0.7415257692337036,
          -0.004468752536922693,
          0.06946496665477753,
          -0.002466744277626276,
          0.22614924609661102,
          -0.012718044221401215,
          -0.39992326498031616,
          -0.37640851736068726,
          0.0554579421877861,
          0.2856309413909912,
          0.08183618634939194,
          -0.021063800901174545,
          1.5157802104949951,
          -0.018960708752274513,
          0.17622873187065125,
          -0.22888417541980743,
          1.0073249340057373,
          0.2838883101940155,
          -0.3458904027938843,
          -0.19080984592437744,
          0.010770299471914768,
          -0.20335841178894043,
          0.3169536292552948,
          0.03861568495631218,
          0.2644290626049042,
          -0.5654996633529663,
          0.4283687472343445,
          -0.18709100782871246,
          0.04386947304010391,
          -0.08287442475557327,
          0.8545980453491211,
          -0.1314520388841629,
          -0.12404187768697739,
          -0.13807380199432373,
          -0.15654630959033966,
          -0.0990302711725235,
          -0.618963360786438,
          -0.17066970467567444,
          0.3714659512042999,
          0.17581839859485626,
          -0.03577801585197449,
          -0.10193588584661484,
          0.7651398777961731,
          -0.3328617513179779,
          0.19509604573249817,
          -0.21113088726997375,
          0.10758960247039795,
          -0.25377243757247925,
          -0.001873853849247098,
          0.5526121854782104,
          0.7312464714050293,
          -0.20189766585826874,
          0.13139040768146515,
          -0.12968580424785614,
          -0.1531921923160553,
          -0.28298985958099365,
          -0.21388432383537292,
          -0.4350527822971344,
          -0.0675249993801117,
          0.2829285264015198,
          -0.16086681187152863,
          0.06101132184267044,
          0.27462074160575867,
          0.23685435950756073,
          -0.4359865188598633,
          0.2255408763885498,
          -0.130173921585083,
          0.032814159989356995,
          -0.06639567762613297,
          -0.028041448444128036,
          0.01998336985707283,
          0.3623093068599701,
          -0.802908718585968,
          0.021001508459448814,
          0.14300157129764557,
          0.00543150445446372,
          -0.1223914846777916,
          0.21391403675079346,
          -0.0489843375980854,
          0.8798912167549133,
          0.02658594213426113,
          -0.01567665860056877,
          0.34521594643592834,
          -0.2231176346540451,
          -0.08672618865966797,
          -0.06081053614616394,
          -0.0824713259935379,
          -0.11943195760250092,
          0.30957338213920593,
          0.00896788202226162,
          0.2710287868976593,
          -0.4143707752227783,
          -0.3549634516239166,
          -0.058269500732421875,
          0.0004972376045770943,
          1.4561331272125244,
          0.24424703419208527,
          -0.2769851088523865,
          -0.002849682467058301,
          0.5298042893409729,
          0.1943519562482834,
          0.18207356333732605,
          0.17858140170574188,
          0.6798653602600098,
          -0.034889206290245056,
          0.04529136046767235,
          0.044328510761260986,
          -0.264855295419693,
          0.1317853033542633,
          0.02577885426580906,
          0.7465336918830872,
          0.0799930989742279,
          -2.406096935272217,
          -0.09210163354873657,
          0.11298079788684845,
          0.5101252794265747,
          -0.06952663511037827,
          -0.21313250064849854,
          -0.019832218065857887,
          -0.21322600543498993,
          -0.06759434193372726,
          0.787291407585144,
          -0.9311857223510742,
          -0.09884317964315414,
          0.16372239589691162,
          0.3276969790458679,
          -0.40783992409706116,
          -0.09720418602228165,
          0.9060826301574707,
          0.08032526075839996,
          -0.1007704883813858,
          0.019450444728136063,
          -0.36706095933914185,
          0.0961671695113182,
          0.7446689009666443,
          0.32150891423225403,
          0.0529879555106163,
          0.26707279682159424,
          0.22230009734630585,
          -0.13523484766483307,
          -0.007134976796805859,
          0.10915593802928925,
          0.26703882217407227,
          -0.11086580902338028,
          -0.15705537796020508,
          -0.07630990445613861,
          -0.2178710252046585,
          0.22016747295856476,
          -0.05118107795715332,
          -0.7635248899459839,
          0.10219907760620117,
          0.05354905128479004,
          0.5239540338516235,
          0.4482971131801605,
          -0.3558623194694519,
          -0.0928557962179184,
          -1.1425681114196777,
          -0.11337374150753021,
          -0.08210229873657227,
          0.1245381087064743,
          -0.0647227093577385,
          0.13140042126178741,
          -0.1498498171567917,
          0.01237918995320797,
          -0.2730417251586914,
          -0.20795440673828125,
          -0.24118240177631378,
          0.3181692957878113,
          -0.00314338062889874,
          -0.18374410271644592,
          -0.32870230078697205,
          -0.0041387081146240234,
          0.25916242599487305,
          -1.9053175449371338,
          -0.11383090168237686,
          -0.4070216715335846,
          0.22093062102794647,
          1.0436766147613525,
          -0.06729481369256973,
          0.42838868498802185,
          0.11913309246301651,
          -0.7171057462692261,
          0.19687581062316895,
          0.16093912720680237,
          1.6817371845245361,
          -0.010075544938445091,
          -0.6745315790176392,
          0.14138606190681458,
          0.5239336490631104,
          0.20931120216846466,
          -0.10806362330913544,
          0.0080037210136652,
          0.14051200449466705,
          -0.18620195984840393,
          0.029177388176321983,
          -0.011619821190834045,
          0.24946951866149902,
          0.11104793846607208,
          0.1906389743089676,
          0.8316428065299988,
          -0.7912885546684265,
          -0.05175827071070671,
          -0.1299598217010498,
          0.39136794209480286,
          0.36062923073768616,
          -0.20271888375282288,
          0.0738634243607521,
          -0.18864087760448456,
          -0.4128575325012207,
          0.05036202818155289,
          -0.03400988131761551,
          0.16825218498706818,
          -0.1537642925977707,
          0.05664091184735298,
          2.662369728088379,
          0.008072669617831707,
          -0.09263227880001068,
          0.14555159211158752,
          -0.2608538568019867,
          -0.2149345427751541,
          -0.10071811825037003,
          0.20411983132362366,
          0.17784306406974792,
          2.411447286605835,
          0.8820246458053589,
          -0.03411193564534187,
          0.1130632758140564,
          -0.2882566750049591,
          0.09464041143655777,
          -0.3121275305747986,
          0.008563622832298279,
          -0.1029832512140274,
          0.09651283919811249,
          1.4631736278533936,
          -1.163724660873413,
          0.021176394075155258,
          0.13050752878189087,
          -0.7743597626686096,
          1.538864016532898,
          -0.15011844038963318,
          -0.35988849401474,
          -0.10379952192306519,
          -0.17306816577911377,
          0.0239516980946064,
          -0.25445595383644104,
          0.15043239295482635,
          -0.2152516394853592,
          0.24279840290546417,
          0.07493846118450165,
          -0.35712307691574097,
          0.4364132881164551,
          0.2106775939464569,
          -0.4781593382358551,
          0.2477303296327591,
          0.11836852878332138,
          0.1866450011730194,
          -0.0746183693408966,
          -0.0886441096663475,
          -0.17125071585178375,
          0.050257038325071335,
          0.3572196960449219,
          0.21656639873981476,
          1.5859730243682861,
          0.9155067205429077,
          -0.14897450804710388,
          0.1321491003036499,
          -0.21042199432849884,
          1.4494439363479614,
          2.6335055828094482,
          0.2326158732175827,
          0.08601941168308258,
          0.05201093107461929,
          -0.5313534736633301,
          -0.045898519456386566,
          -0.2119031697511673,
          -0.3732888102531433,
          0.3897915482521057,
          -0.20668920874595642,
          -0.13155321776866913,
          -1.3573923110961914,
          0.044328827410936356,
          -0.4306541979312897,
          0.016749775037169456,
          -0.1296861469745636,
          0.014689236879348755,
          0.08309358358383179,
          -0.17936894297599792,
          -0.07661403715610504,
          0.33784377574920654,
          -0.06613774597644806,
          0.16204163432121277,
          -1.5286941528320312,
          0.19515308737754822,
          -0.37933680415153503,
          0.09609043598175049,
          0.1977659910917282,
          -0.15622976422309875,
          -0.12191984802484512,
          -2.406538724899292,
          0.13487590849399567,
          -0.17405298352241516,
          -0.08517809212207794,
          -0.2764967083930969,
          0.11906620115041733,
          0.16034284234046936,
          0.5078481435775757,
          0.02208285965025425,
          -0.0021993890404701233,
          -0.571928858757019,
          -0.18388551473617554,
          -0.3494904339313507,
          0.3520128130912781,
          -0.5599013566970825,
          0.24077275395393372,
          0.8504081964492798,
          0.1555214375257492,
          -0.35361918807029724,
          -0.11138832569122314,
          0.028731266036629677,
          -0.5817761421203613,
          -0.025736361742019653,
          0.7665994763374329,
          0.05610516667366028,
          -0.23123697936534882,
          -0.17580553889274597,
          0.4295579791069031,
          0.1763020008802414,
          0.28870174288749695,
          0.06027059629559517,
          -0.25136837363243103,
          0.17169427871704102,
          0.002564716385677457,
          0.043606799095869064,
          0.6830589175224304,
          -0.781865119934082,
          0.020433936268091202,
          -0.07812321186065674,
          0.011018434539437294,
          -0.14350095391273499,
          -0.1509462296962738,
          0.12444794178009033,
          0.0584065318107605,
          -0.2080896645784378,
          0.03480612114071846,
          -0.31579238176345825,
          0.06046532467007637,
          -0.3961601257324219,
          -0.058280833065509796,
          -0.17730577290058136,
          0.6493431329727173,
          0.24032850563526154,
          0.0038996965158730745,
          0.28707584738731384,
          0.2556258738040924,
          -0.05045118182897568,
          0.3262510895729065,
          -0.20452240109443665,
          -0.13009482622146606,
          0.32443857192993164,
          -0.1894848644733429,
          0.1586376428604126,
          0.1036347970366478,
          -0.16010722517967224,
          0.2283196896314621,
          0.18140189349651337,
          -0.08703341335058212,
          -0.28061920404434204,
          -0.10471352189779282,
          0.0016608297592028975,
          -0.357030987739563,
          0.9255107641220093,
          0.04803022742271423,
          -0.2755346894264221,
          -0.22380924224853516,
          0.15595225989818573,
          -0.15568265318870544,
          0.021906482055783272,
          -0.0002101495920214802,
          -0.004476574249565601,
          -0.011105719953775406,
          -0.08917298913002014,
          0.610371470451355,
          -0.1399884968996048,
          -1.5871074199676514,
          0.17026297748088837,
          0.7285529375076294,
          -0.10285086929798126,
          -0.4981023371219635,
          0.14379946887493134,
          0.2977612614631653,
          0.04436445236206055,
          -0.13503053784370422,
          1.2681349515914917,
          0.1321355551481247,
          0.05632822588086128,
          0.10938872396945953,
          -0.5231580138206482,
          -0.03922819346189499,
          -0.1930031180381775,
          -0.23821289837360382,
          0.031013760715723038,
          -0.0663854330778122,
          -0.28168994188308716,
          -0.3065071403980255,
          -0.24207942187786102,
          -0.004668409004807472,
          0.37309321761131287,
          0.08711346238851547,
          -0.09964704513549805,
          0.9741480946540833,
          0.008055576123297215,
          0.09684733301401138,
          -0.06787358224391937,
          0.125187486410141,
          -0.060288138687610626,
          -0.20036974549293518,
          -0.25836583971977234,
          0.23018379509449005,
          -0.6086110472679138,
          0.17053517699241638,
          -0.016214992851018906,
          0.24345234036445618,
          -0.14655230939388275,
          1.5529463291168213,
          -0.15125076472759247,
          -0.05114090442657471,
          0.08923031389713287,
          0.05450843647122383,
          -0.1367907077074051,
          -0.9979871511459351,
          0.09505496919155121,
          0.10887660831212997,
          0.05516134575009346,
          -0.021469702944159508,
          -0.1544957309961319,
          -0.5620210766792297,
          -0.6762536764144897,
          0.46273431181907654,
          0.13574813306331635,
          0.22492995858192444,
          -0.7178378105163574,
          -0.27487486600875854,
          -0.06494046747684479,
          0.22512200474739075,
          -0.20417675375938416,
          0.2996808886528015,
          -0.11438204348087311,
          -0.5928146839141846,
          -0.042870379984378815,
          -0.18854942917823792,
          -0.5874298810958862,
          -0.11834971606731415,
          -0.1365925520658493,
          -0.06729891151189804,
          -0.013069313950836658,
          1.4880796670913696,
          0.3486108183860779,
          -0.0033177542500197887,
          -0.01151716336607933,
          -0.2972002327442169,
          -0.032507188618183136,
          0.05431508272886276,
          -0.28113847970962524,
          0.33990252017974854,
          -0.2670845091342926,
          -0.2004871815443039,
          0.9671579599380493,
          -0.05176086351275444,
          -1.1141231060028076,
          -0.0807473212480545,
          -0.6008886098861694,
          0.053513359278440475,
          0.2835407853126526,
          -0.21921595931053162,
          0.21669694781303406,
          -1.4102081060409546,
          0.6342142224311829,
          0.040978409349918365,
          0.5902477502822876,
          -0.30397742986679077,
          0.031869299709796906,
          -0.1157342791557312,
          -0.19538863003253937,
          -0.20060329139232635,
          -0.1415260285139084,
          0.5896247625350952,
          -0.23186162114143372,
          -0.214018315076828,
          0.016933079808950424
         ]
        },
        {
         "line": {
          "color": "#F08B00"
         },
         "name": "negative",
         "type": "scatter",
         "x": [
          0,
          1,
          2,
          3,
          4,
          5,
          6,
          7,
          8,
          9,
          10,
          11,
          12,
          13,
          14,
          15,
          16,
          17,
          18,
          19,
          20,
          21,
          22,
          23,
          24,
          25,
          26,
          27,
          28,
          29,
          30,
          31,
          32,
          33,
          34,
          35,
          36,
          37,
          38,
          39,
          40,
          41,
          42,
          43,
          44,
          45,
          46,
          47,
          48,
          49,
          50,
          51,
          52,
          53,
          54,
          55,
          56,
          57,
          58,
          59,
          60,
          61,
          62,
          63,
          64,
          65,
          66,
          67,
          68,
          69,
          70,
          71,
          72,
          73,
          74,
          75,
          76,
          77,
          78,
          79,
          80,
          81,
          82,
          83,
          84,
          85,
          86,
          87,
          88,
          89,
          90,
          91,
          92,
          93,
          94,
          95,
          96,
          97,
          98,
          99,
          100,
          101,
          102,
          103,
          104,
          105,
          106,
          107,
          108,
          109,
          110,
          111,
          112,
          113,
          114,
          115,
          116,
          117,
          118,
          119,
          120,
          121,
          122,
          123,
          124,
          125,
          126,
          127,
          128,
          129,
          130,
          131,
          132,
          133,
          134,
          135,
          136,
          137,
          138,
          139,
          140,
          141,
          142,
          143,
          144,
          145,
          146,
          147,
          148,
          149,
          150,
          151,
          152,
          153,
          154,
          155,
          156,
          157,
          158,
          159,
          160,
          161,
          162,
          163,
          164,
          165,
          166,
          167,
          168,
          169,
          170,
          171,
          172,
          173,
          174,
          175,
          176,
          177,
          178,
          179,
          180,
          181,
          182,
          183,
          184,
          185,
          186,
          187,
          188,
          189,
          190,
          191,
          192,
          193,
          194,
          195,
          196,
          197,
          198,
          199,
          200,
          201,
          202,
          203,
          204,
          205,
          206,
          207,
          208,
          209,
          210,
          211,
          212,
          213,
          214,
          215,
          216,
          217,
          218,
          219,
          220,
          221,
          222,
          223,
          224,
          225,
          226,
          227,
          228,
          229,
          230,
          231,
          232,
          233,
          234,
          235,
          236,
          237,
          238,
          239,
          240,
          241,
          242,
          243,
          244,
          245,
          246,
          247,
          248,
          249,
          250,
          251,
          252,
          253,
          254,
          255,
          256,
          257,
          258,
          259,
          260,
          261,
          262,
          263,
          264,
          265,
          266,
          267,
          268,
          269,
          270,
          271,
          272,
          273,
          274,
          275,
          276,
          277,
          278,
          279,
          280,
          281,
          282,
          283,
          284,
          285,
          286,
          287,
          288,
          289,
          290,
          291,
          292,
          293,
          294,
          295,
          296,
          297,
          298,
          299,
          300,
          301,
          302,
          303,
          304,
          305,
          306,
          307,
          308,
          309,
          310,
          311,
          312,
          313,
          314,
          315,
          316,
          317,
          318,
          319,
          320,
          321,
          322,
          323,
          324,
          325,
          326,
          327,
          328,
          329,
          330,
          331,
          332,
          333,
          334,
          335,
          336,
          337,
          338,
          339,
          340,
          341,
          342,
          343,
          344,
          345,
          346,
          347,
          348,
          349,
          350,
          351,
          352,
          353,
          354,
          355,
          356,
          357,
          358,
          359,
          360,
          361,
          362,
          363,
          364,
          365,
          366,
          367,
          368,
          369,
          370,
          371,
          372,
          373,
          374,
          375,
          376,
          377,
          378,
          379,
          380,
          381,
          382,
          383,
          384,
          385,
          386,
          387,
          388,
          389,
          390,
          391,
          392,
          393,
          394,
          395,
          396,
          397,
          398,
          399,
          400,
          401,
          402,
          403,
          404,
          405,
          406,
          407,
          408,
          409,
          410,
          411,
          412,
          413,
          414,
          415,
          416,
          417,
          418,
          419,
          420,
          421,
          422,
          423,
          424,
          425,
          426,
          427,
          428,
          429,
          430,
          431,
          432,
          433,
          434,
          435,
          436,
          437,
          438,
          439,
          440,
          441,
          442,
          443,
          444,
          445,
          446,
          447,
          448,
          449,
          450,
          451,
          452,
          453,
          454,
          455,
          456,
          457,
          458,
          459,
          460,
          461,
          462,
          463,
          464,
          465,
          466,
          467,
          468,
          469,
          470,
          471,
          472,
          473,
          474,
          475,
          476,
          477,
          478,
          479,
          480,
          481,
          482,
          483,
          484,
          485,
          486,
          487,
          488,
          489,
          490,
          491,
          492,
          493,
          494,
          495,
          496,
          497,
          498,
          499,
          500,
          501,
          502,
          503,
          504,
          505,
          506,
          507,
          508,
          509,
          510,
          511,
          512,
          513,
          514,
          515,
          516,
          517,
          518,
          519,
          520,
          521,
          522,
          523,
          524,
          525,
          526,
          527,
          528,
          529,
          530,
          531,
          532,
          533,
          534,
          535,
          536,
          537,
          538,
          539,
          540,
          541,
          542,
          543,
          544,
          545,
          546,
          547,
          548,
          549,
          550,
          551,
          552,
          553,
          554,
          555,
          556,
          557,
          558,
          559,
          560,
          561,
          562,
          563,
          564,
          565,
          566,
          567,
          568,
          569,
          570,
          571,
          572,
          573,
          574,
          575,
          576,
          577,
          578,
          579,
          580,
          581,
          582,
          583,
          584,
          585,
          586,
          587,
          588,
          589,
          590,
          591,
          592,
          593,
          594,
          595,
          596,
          597,
          598,
          599,
          600,
          601,
          602,
          603,
          604,
          605,
          606,
          607,
          608,
          609,
          610,
          611,
          612,
          613,
          614,
          615,
          616,
          617,
          618,
          619,
          620,
          621,
          622,
          623,
          624,
          625,
          626,
          627,
          628,
          629,
          630,
          631,
          632,
          633,
          634,
          635,
          636,
          637,
          638,
          639,
          640,
          641,
          642,
          643,
          644,
          645,
          646,
          647,
          648,
          649,
          650,
          651,
          652,
          653,
          654,
          655,
          656,
          657,
          658,
          659,
          660,
          661,
          662,
          663,
          664,
          665,
          666,
          667,
          668,
          669,
          670,
          671,
          672,
          673,
          674,
          675,
          676,
          677,
          678,
          679,
          680,
          681,
          682,
          683,
          684,
          685,
          686,
          687,
          688,
          689,
          690,
          691,
          692,
          693,
          694,
          695,
          696,
          697,
          698,
          699,
          700,
          701,
          702,
          703,
          704,
          705,
          706,
          707,
          708,
          709,
          710,
          711,
          712,
          713,
          714,
          715,
          716,
          717,
          718,
          719,
          720,
          721,
          722,
          723,
          724,
          725,
          726,
          727,
          728,
          729,
          730,
          731,
          732,
          733,
          734,
          735,
          736,
          737,
          738,
          739,
          740,
          741,
          742,
          743,
          744,
          745,
          746,
          747,
          748,
          749,
          750,
          751,
          752,
          753,
          754,
          755,
          756,
          757,
          758,
          759,
          760,
          761,
          762,
          763,
          764,
          765,
          766,
          767,
          768,
          769,
          770,
          771,
          772,
          773,
          774,
          775,
          776,
          777,
          778,
          779,
          780,
          781,
          782
         ],
         "y": [
          6.096710205078125,
          5.327552795410156,
          0.23771551251411438,
          0.2992425262928009,
          0.5339695811271667,
          26.123645782470703,
          -4.313124656677246,
          5.540647983551025,
          2.3629214763641357,
          -1.05215585231781,
          -1.6888500452041626,
          -1.872592568397522,
          14.820050239562988,
          11.038599014282227,
          -0.5822499990463257,
          0.255119264125824,
          -1.0640181303024292,
          0.18911731243133545,
          -0.004889641888439655,
          0.21640142798423767,
          -0.15740498900413513,
          0.140802264213562,
          -0.3102075159549713,
          -0.29861849546432495,
          0.02102568745613098,
          -0.6808422803878784,
          -0.25123000144958496,
          0.029843837022781372,
          0.08421728760004044,
          -0.20370550453662872,
          1.3118072748184204,
          0.08877525478601456,
          -0.7344570159912109,
          0.04988685995340347,
          -0.08219524472951889,
          0.07092199474573135,
          -0.8453613519668579,
          -0.08501186221837997,
          0.08062651008367538,
          -0.4668550491333008,
          -0.12126431614160538,
          -0.3036331534385681,
          0.03544121980667114,
          0.1409577876329422,
          -0.20368006825447083,
          0.2534613609313965,
          -0.04704146087169647,
          -0.024146463721990585,
          -0.34483012557029724,
          -0.007380037102848291,
          0.06584297865629196,
          -0.17071709036827087,
          0.0014949629548937082,
          -2.1030163764953613,
          0.9935733079910278,
          0.04755793884396553,
          0.1190100684762001,
          0.10625318437814713,
          -0.04829251021146774,
          0.029731864109635353,
          -0.11078964173793793,
          -0.006208659615367651,
          -0.03323953598737717,
          0.012319067493081093,
          1.2094229459762573,
          0.05464521050453186,
          -0.21870195865631104,
          0.03251398354768753,
          -0.0057981968857347965,
          0.1811458319425583,
          0.11408247798681259,
          0.03170587867498398,
          0.006910455413162708,
          0.09828244149684906,
          -0.6238845586776733,
          0.2249983549118042,
          -0.4384540915489197,
          0.1066633015871048,
          -0.26603829860687256,
          -0.06127976253628731,
          -0.01661914959549904,
          0.20002932846546173,
          -0.22990107536315918,
          1.8290221691131592,
          -0.2673951983451843,
          0.23988163471221924,
          0.19021186232566833,
          0.0526292622089386,
          -0.15425924956798553,
          -0.08976583182811737,
          0.11413873732089996,
          0.07605142891407013,
          -0.37241581082344055,
          0.42449894547462463,
          0.3302706182003021,
          -0.13975875079631805,
          0.38141265511512756,
          0.34080737829208374,
          -0.0806853324174881,
          0.521889328956604,
          0.4639592170715332,
          -0.004887491464614868,
          0.13593049347400665,
          -0.16577550768852234,
          0.46898752450942993,
          0.046612657606601715,
          -0.1102454662322998,
          0.21499869227409363,
          -0.16751763224601746,
          0.11761095374822617,
          0.03050852380692959,
          -0.9141665697097778,
          0.7161945700645447,
          0.5078726410865784,
          -1.3821347951889038,
          0.11528053134679794,
          0.06528814136981964,
          0.10473273694515228,
          0.04882871359586716,
          0.00027939677238464355,
          -1.1031081676483154,
          0.07365080714225769,
          0.0739012286067009,
          -0.2042636126279831,
          0.05678052827715874,
          -0.1524410992860794,
          -0.11021242290735245,
          0.1136360615491867,
          -0.022803068161010742,
          0.0009753748890943825,
          -0.18476223945617676,
          -0.039193686097860336,
          -1.3403522968292236,
          -0.3391382098197937,
          0.06516581028699875,
          -0.0010790408123284578,
          -0.08054399490356445,
          -0.10818370431661606,
          0.042030394077301025,
          -1.237389326095581,
          0.1823788583278656,
          -0.004760803189128637,
          0.10147032886743546,
          0.24655850231647491,
          -1.6099560260772705,
          0.3392146825790405,
          -0.15684399008750916,
          -0.0008057154482230544,
          -0.2840539515018463,
          -0.6616213321685791,
          0.23320838809013367,
          -0.6915105581283569,
          -0.5512924790382385,
          0.17330339550971985,
          0.18757157027721405,
          -0.06382867693901062,
          0.07824452966451645,
          -0.18053343892097473,
          -0.27177301049232483,
          -0.12565617263317108,
          0.006853771395981312,
          -0.17487578094005585,
          0.3127138018608093,
          -0.3292607069015503,
          0.07115364819765091,
          -0.34532803297042847,
          0.191735178232193,
          -0.21624910831451416,
          -0.11302872002124786,
          -0.8000988960266113,
          -0.166314497590065,
          -0.24716146290302277,
          0.1479659378528595,
          0.5497976541519165,
          0.1747605949640274,
          0.283417671918869,
          -0.19994792342185974,
          0.34022045135498047,
          0.17046904563903809,
          -0.10558754205703735,
          -0.08955628424882889,
          -0.2743833661079407,
          0.21849071979522705,
          -0.8208861351013184,
          -0.07994330674409866,
          0.1711672693490982,
          -0.28509968519210815,
          0.2897244393825531,
          -0.04780732840299606,
          0.659626841545105,
          -0.47585153579711914,
          0.7127121686935425,
          0.227720707654953,
          0.1509770005941391,
          -0.298954576253891,
          0.17275851964950562,
          -0.5320481657981873,
          -0.2396310269832611,
          0.38297519087791443,
          0.21690230071544647,
          0.04359997808933258,
          -0.10773929208517075,
          0.006671474780887365,
          0.4755029082298279,
          -0.32887715101242065,
          0.5056833028793335,
          -0.5863171219825745,
          0.28314104676246643,
          -0.9153367877006531,
          -0.19687974452972412,
          -0.17566165328025818,
          0.08872539550065994,
          -0.10146355628967285,
          -0.044931743294000626,
          -0.17409540712833405,
          -0.08350862562656403,
          0.11376450210809708,
          1.2132701873779297,
          1.3621549606323242,
          -0.13735531270503998,
          -0.08002008497714996,
          -0.10098482668399811,
          0.3598322570323944,
          -0.13594797253608704,
          -0.3551158308982849,
          -0.14525191485881805,
          -0.9799593091011047,
          0.10534856468439102,
          0.06261737644672394,
          -0.38946932554244995,
          -0.2915743291378021,
          -0.07400177419185638,
          0.15943607687950134,
          -0.15881064534187317,
          -0.028596634045243263,
          0.09952200204133987,
          0.1573570817708969,
          0.1714356541633606,
          -0.2148032933473587,
          -0.06657280027866364,
          0.011208483949303627,
          0.42529574036598206,
          -0.14837509393692017,
          -0.31426405906677246,
          0.03799838572740555,
          0.16490085422992706,
          1.380679965019226,
          0.24022050201892853,
          -0.11601368337869644,
          -0.06716854125261307,
          0.16438589990139008,
          0.05448535084724426,
          0.44767364859580994,
          0.3803587555885315,
          -0.0359959602355957,
          -0.22126097977161407,
          -0.17174844443798065,
          -0.379118412733078,
          -0.271628201007843,
          0.11329054832458496,
          1.0801653861999512,
          -0.8564974069595337,
          0.16483154892921448,
          -0.10404296219348907,
          -0.6894869208335876,
          -0.40545955300331116,
          -0.08335711807012558,
          0.011071880348026752,
          -0.2433808594942093,
          0.06802613288164139,
          -0.1973261833190918,
          -0.7060995101928711,
          -0.19619110226631165,
          0.20422276854515076,
          0.5159593820571899,
          -0.09823846817016602,
          0.3669491708278656,
          -0.044577181339263916,
          -1.0148359537124634,
          -0.1661873161792755,
          0.19785621762275696,
          0.11396564543247223,
          -0.41158366203308105,
          0.2510087192058563,
          -0.2591221332550049,
          0.1896597445011139,
          1.1323057413101196,
          -0.0869448184967041,
          0.0746140331029892,
          -0.03166533261537552,
          0.1270247995853424,
          -0.1182829886674881,
          -0.024163488298654556,
          0.2804858684539795,
          -0.7363302707672119,
          0.0027783666737377644,
          0.0073077501729130745,
          0.10127389430999756,
          0.19151417911052704,
          -0.0072093261405825615,
          -0.3445652425289154,
          -0.375806599855423,
          0.09515117853879929,
          0.21933186054229736,
          0.08055990934371948,
          -0.02751324698328972,
          1.6858417987823486,
          0.43967992067337036,
          0.26711776852607727,
          -0.27483588457107544,
          1.0161956548690796,
          0.5956131219863892,
          0.025501299649477005,
          -0.18120066821575165,
          0.0015082266181707382,
          -0.17525598406791687,
          0.377842515707016,
          -0.34997987747192383,
          -0.2205139845609665,
          -0.9797192811965942,
          0.4562532305717468,
          -0.12649627029895782,
          0.04834218695759773,
          0.015327312052249908,
          1.3061984777450562,
          -0.11489448696374893,
          0.09802496433258057,
          -0.14692215621471405,
          0.08580417931079865,
          0.021882204338908195,
          -0.5268634557723999,
          0.890415370464325,
          0.31653064489364624,
          0.16946622729301453,
          -0.053750962018966675,
          0.011092853732407093,
          0.2011345624923706,
          -0.25976642966270447,
          0.12589453160762787,
          -0.19188633561134338,
          0.022346410900354385,
          -0.22879092395305634,
          0.08848028630018234,
          0.5920983552932739,
          0.6781144142150879,
          -0.464700847864151,
          0.01191991288214922,
          -0.12472666800022125,
          -0.11940412223339081,
          -0.2843201458454132,
          -0.1891433447599411,
          -0.41357946395874023,
          -0.1309632956981659,
          1.0940043926239014,
          -0.35581666231155396,
          0.2287565916776657,
          0.28241202235221863,
          0.17485669255256653,
          -0.38538041710853577,
          0.18157796561717987,
          -0.08088186383247375,
          0.05545905977487564,
          -0.06882109493017197,
          0.12136437743902206,
          0.015364964492619038,
          0.26355239748954773,
          -0.7390785813331604,
          0.032970722764730453,
          0.14050021767616272,
          0.049287959933280945,
          -0.016484335064888,
          0.21489664912223816,
          0.08054451644420624,
          0.9126025438308716,
          -0.05261304974555969,
          0.04990953579545021,
          0.3214605748653412,
          -0.22022905945777893,
          -0.08159999549388885,
          -0.03592170029878616,
          -0.12700363993644714,
          -0.15067796409130096,
          0.3620164394378662,
          0.01881999336183071,
          0.12113864719867706,
          -0.30112677812576294,
          -0.49391263723373413,
          -0.11360452324151993,
          -0.05841977521777153,
          1.1811144351959229,
          0.279354453086853,
          -0.14776794612407684,
          0.04571900889277458,
          0.6750399470329285,
          0.2640365958213806,
          0.12300647795200348,
          0.37838980555534363,
          0.27377644181251526,
          0.08121258020401001,
          0.020045429468154907,
          0.18858899176120758,
          0.04800628498196602,
          0.19495148956775665,
          -0.020939340814948082,
          0.9237302541732788,
          0.07548090070486069,
          -2.8084347248077393,
          -0.13339963555335999,
          0.07424749433994293,
          0.4079417586326599,
          -0.08361256867647171,
          -0.10666532814502716,
          0.005223715212196112,
          -0.08660627901554108,
          -0.06145244091749191,
          -0.1368977427482605,
          -1.3786300420761108,
          -0.05990152433514595,
          0.16281595826148987,
          0.3300366997718811,
          0.2122117578983307,
          -0.11421667039394379,
          1.4421210289001465,
          -0.09887097775936127,
          -0.34889093041419983,
          -0.14825326204299927,
          -0.29758235812187195,
          0.07790578901767731,
          1.0622557401657104,
          0.3250380754470825,
          0.05671387165784836,
          0.17047370970249176,
          0.2784560024738312,
          -0.19619405269622803,
          -0.03533642739057541,
          0.149274542927742,
          0.21168053150177002,
          0.3925965130329132,
          -0.10366694629192352,
          -0.07195068895816803,
          0.01236270647495985,
          0.10905655473470688,
          -0.05982889607548714,
          -0.3310164511203766,
          0.07727210223674774,
          0.07205770909786224,
          0.03281846642494202,
          0.17646077275276184,
          -0.40649089217185974,
          -0.09234783053398132,
          -1.1129175424575806,
          -0.14118614792823792,
          0.10248599946498871,
          0.059824228286743164,
          0.05786170810461044,
          0.1294005811214447,
          -0.041588593274354935,
          0.04957816004753113,
          -0.2252466231584549,
          -0.34224891662597656,
          -0.15186558663845062,
          0.29964548349380493,
          -0.17659685015678406,
          0.06461700052022934,
          -0.06756949424743652,
          0.006367960479110479,
          0.2810344099998474,
          -2.194427967071533,
          -0.23504669964313507,
          -0.10848363488912582,
          -0.1684708595275879,
          0.13322347402572632,
          -0.08551107347011566,
          0.4330773949623108,
          -0.061373353004455566,
          -0.7454625368118286,
          0.23320813477039337,
          -0.027858316898345947,
          1.3330543041229248,
          0.1789884865283966,
          0.2852787375450134,
          0.13875648379325867,
          -0.6748566031455994,
          0.26500529050827026,
          -0.022995153442025185,
          -0.03208864480257034,
          0.6487931609153748,
          -0.13026152551174164,
          0.04163169488310814,
          0.18897122144699097,
          0.2346160113811493,
          0.12764060497283936,
          0.08278470486402512,
          0.673073947429657,
          1.152441382408142,
          0.0032196000684052706,
          -0.31981712579727173,
          0.41703662276268005,
          0.2282857894897461,
          -0.18436546623706818,
          0.01557178795337677,
          -0.3691944479942322,
          -0.40933436155319214,
          0.002766734454780817,
          0.17629674077033997,
          0.2964927554130554,
          -0.02161957509815693,
          0.037832923233509064,
          2.5580453872680664,
          0.12380404770374298,
          -0.06651247292757034,
          0.21525231003761292,
          -0.15942636132240295,
          -0.16798362135887146,
          -0.12414233386516571,
          0.2175949513912201,
          0.29759177565574646,
          1.976746916770935,
          0.9714895486831665,
          -0.12522824108600616,
          0.15655341744422913,
          -0.26716139912605286,
          0.1001909002661705,
          -0.2924821972846985,
          0.07804785668849945,
          0.02418925240635872,
          -0.510522186756134,
          1.5975456237792969,
          -0.8525163531303406,
          0.034195542335510254,
          0.18628433346748352,
          -0.5369281768798828,
          2.3093345165252686,
          -0.274554967880249,
          -0.09675438702106476,
          -0.15343020856380463,
          -0.2031596451997757,
          -0.11011586338281631,
          -0.19502928853034973,
          -0.04015959054231644,
          -0.20473161339759827,
          0.21694347262382507,
          0.12364497035741806,
          -0.2999493479728699,
          0.537675142288208,
          0.39215508103370667,
          0.5453771352767944,
          0.8328760266304016,
          0.07495929300785065,
          0.17652907967567444,
          -0.07977205514907837,
          -0.15298300981521606,
          -0.22511723637580872,
          -0.03271292895078659,
          0.794228196144104,
          0.1900850236415863,
          2.0797617435455322,
          0.8422225713729858,
          -0.12129441648721695,
          0.07414712756872177,
          -0.19731387495994568,
          1.377180814743042,
          2.5845601558685303,
          0.3526725769042969,
          0.07627178728580475,
          0.07334836572408676,
          0.19805805385112762,
          -0.07894580066204071,
          -0.3417758047580719,
          -0.3913193941116333,
          0.35347720980644226,
          -0.36480605602264404,
          -0.06128181144595146,
          -1.2364165782928467,
          0.041558362543582916,
          -0.6944893598556519,
          0.045126259326934814,
          0.3612704277038574,
          0.09978915005922318,
          0.10660503059625626,
          -0.20094899833202362,
          -0.07222910225391388,
          0.48409169912338257,
          0.03310074657201767,
          0.19742928445339203,
          -1.524871826171875,
          -0.7575505971908569,
          -0.378640353679657,
          0.4189012944698334,
          0.1489199548959732,
          -0.14768937230110168,
          0.0007540896767750382,
          -2.140183210372925,
          0.12470219284296036,
          -0.15251657366752625,
          -0.008141221478581429,
          -0.2143704891204834,
          -0.1758565902709961,
          0.4513072073459625,
          0.5072259902954102,
          0.029372841119766235,
          -0.041352905333042145,
          -0.18418726325035095,
          -0.6694493889808655,
          -0.3323388695716858,
          -0.526039719581604,
          0.31691762804985046,
          0.0717814564704895,
          0.4934677183628082,
          0.1588030606508255,
          -0.48876523971557617,
          0.05894089490175247,
          0.0250681284815073,
          -0.5485509634017944,
          -0.04733387008309364,
          1.0787779092788696,
          0.04882184788584709,
          -0.43913307785987854,
          -0.39128410816192627,
          0.7850432395935059,
          0.21061360836029053,
          0.2016172707080841,
          0.054766129702329636,
          -0.27058106660842896,
          -0.07115162909030914,
          -0.1784903109073639,
          0.053514011204242706,
          0.7477368116378784,
          -0.5849556922912598,
          -0.03479404002428055,
          0.380178838968277,
          -0.04429858550429344,
          -0.14278960227966309,
          -0.15362857282161713,
          0.226913720369339,
          -0.10691225528717041,
          -0.14337603747844696,
          0.03615572303533554,
          -0.3107328414916992,
          -0.14712776243686676,
          -0.6898961067199707,
          -0.06543140858411789,
          -0.13010036945343018,
          0.6196622252464294,
          0.21508583426475525,
          -0.030690748244524002,
          -0.21012476086616516,
          0.24348124861717224,
          -0.3777998089790344,
          0.3833725154399872,
          -0.22000601887702942,
          -0.12907114624977112,
          0.5880939960479736,
          -0.08310757577419281,
          0.22546878457069397,
          0.09974169731140137,
          -0.20498616993427277,
          -0.060256101191043854,
          0.12967732548713684,
          -0.11586878448724747,
          -0.3614608645439148,
          0.06920124590396881,
          -0.13097693026065826,
          -0.4344346523284912,
          1.0801489353179932,
          -0.07926425337791443,
          -0.16789790987968445,
          -0.48862189054489136,
          0.2606957256793976,
          -0.529914140701294,
          0.019184447824954987,
          -0.022628752514719963,
          -0.0451868437230587,
          0.05976349115371704,
          -0.07532285153865814,
          0.7221088409423828,
          -0.1661049872636795,
          -1.2692049741744995,
          0.2987208664417267,
          0.7447744607925415,
          -0.17119485139846802,
          -0.45513877272605896,
          -0.2837750017642975,
          0.30302131175994873,
          0.22532156109809875,
          -0.3950425386428833,
          1.2678139209747314,
          0.17047935724258423,
          0.06753773242235184,
          0.1264677345752716,
          -0.7640751004219055,
          0.06423575431108475,
          -0.2029784619808197,
          -0.2461487501859665,
          0.023533489555120468,
          -0.23495134711265564,
          -0.7520766854286194,
          -0.39388856291770935,
          -0.10754833370447159,
          -0.0028265775181353092,
          0.32548099756240845,
          0.05600803345441818,
          0.006070371717214584,
          0.425445020198822,
          0.008159516379237175,
          0.09741921722888947,
          -0.06465401500463486,
          -0.09193773567676544,
          -0.11152876913547516,
          -0.18230204284191132,
          -0.2826194167137146,
          0.26235729455947876,
          -0.2176004946231842,
          0.09274214506149292,
          0.025961533188819885,
          0.2454901486635208,
          0.2551748752593994,
          1.7297122478485107,
          -0.17273706197738647,
          0.018447058275341988,
          0.1332986205816269,
          0.07000520825386047,
          -0.16895927488803864,
          -1.0404350757598877,
          0.1728324145078659,
          0.030044665560126305,
          0.04294769838452339,
          -0.4115559458732605,
          0.03408432751893997,
          -0.6852067708969116,
          -0.6877000331878662,
          0.31522801518440247,
          0.22904953360557556,
          -0.006601549685001373,
          -0.4663937985897064,
          -0.3488370180130005,
          0.24340777099132538,
          0.1177741065621376,
          -0.3240959048271179,
          0.4284912943840027,
          -0.17304497957229614,
          -0.5682852864265442,
          0.04589992016553879,
          -0.11948654800653458,
          -0.3695988953113556,
          -0.09382198750972748,
          -0.08730275928974152,
          0.02153455838561058,
          -0.09995632618665695,
          2.0106568336486816,
          0.3942014276981354,
          0.019927913323044777,
          0.2557238042354584,
          -1.5520156621932983,
          -0.035303760319948196,
          0.06386794149875641,
          -0.3024349808692932,
          0.6437506675720215,
          0.07989147305488586,
          -0.1804879605770111,
          0.06847546994686127,
          -0.019712310284376144,
          -1.061781883239746,
          -0.06149984523653984,
          -1.0854344367980957,
          0.052699048072099686,
          0.25367414951324463,
          -0.215886190533638,
          0.8834463357925415,
          -0.9433774948120117,
          0.6214916110038757,
          -0.13197112083435059,
          1.1340991258621216,
          -0.4165725111961365,
          0.0541301965713501,
          -0.10664208233356476,
          -0.19501620531082153,
          -0.06710276752710342,
          -0.14583691954612732,
          0.9247421026229858,
          -0.13244235515594482,
          -0.1449989378452301,
          -0.0960698127746582
         ],
         "yaxis": "y2"
        }
       ],
       "layout": {
        "template": {
         "data": {
          "bar": [
           {
            "error_x": {
             "color": "#2a3f5f"
            },
            "error_y": {
             "color": "#2a3f5f"
            },
            "marker": {
             "line": {
              "color": "#E5ECF6",
              "width": 0.5
             }
            },
            "type": "bar"
           }
          ],
          "barpolar": [
           {
            "marker": {
             "line": {
              "color": "#E5ECF6",
              "width": 0.5
             }
            },
            "type": "barpolar"
           }
          ],
          "carpet": [
           {
            "aaxis": {
             "endlinecolor": "#2a3f5f",
             "gridcolor": "white",
             "linecolor": "white",
             "minorgridcolor": "white",
             "startlinecolor": "#2a3f5f"
            },
            "baxis": {
             "endlinecolor": "#2a3f5f",
             "gridcolor": "white",
             "linecolor": "white",
             "minorgridcolor": "white",
             "startlinecolor": "#2a3f5f"
            },
            "type": "carpet"
           }
          ],
          "choropleth": [
           {
            "colorbar": {
             "outlinewidth": 0,
             "ticks": ""
            },
            "type": "choropleth"
           }
          ],
          "contour": [
           {
            "colorbar": {
             "outlinewidth": 0,
             "ticks": ""
            },
            "colorscale": [
             [
              0,
              "#0d0887"
             ],
             [
              0.1111111111111111,
              "#46039f"
             ],
             [
              0.2222222222222222,
              "#7201a8"
             ],
             [
              0.3333333333333333,
              "#9c179e"
             ],
             [
              0.4444444444444444,
              "#bd3786"
             ],
             [
              0.5555555555555556,
              "#d8576b"
             ],
             [
              0.6666666666666666,
              "#ed7953"
             ],
             [
              0.7777777777777778,
              "#fb9f3a"
             ],
             [
              0.8888888888888888,
              "#fdca26"
             ],
             [
              1,
              "#f0f921"
             ]
            ],
            "type": "contour"
           }
          ],
          "contourcarpet": [
           {
            "colorbar": {
             "outlinewidth": 0,
             "ticks": ""
            },
            "type": "contourcarpet"
           }
          ],
          "heatmap": [
           {
            "colorbar": {
             "outlinewidth": 0,
             "ticks": ""
            },
            "colorscale": [
             [
              0,
              "#0d0887"
             ],
             [
              0.1111111111111111,
              "#46039f"
             ],
             [
              0.2222222222222222,
              "#7201a8"
             ],
             [
              0.3333333333333333,
              "#9c179e"
             ],
             [
              0.4444444444444444,
              "#bd3786"
             ],
             [
              0.5555555555555556,
              "#d8576b"
             ],
             [
              0.6666666666666666,
              "#ed7953"
             ],
             [
              0.7777777777777778,
              "#fb9f3a"
             ],
             [
              0.8888888888888888,
              "#fdca26"
             ],
             [
              1,
              "#f0f921"
             ]
            ],
            "type": "heatmap"
           }
          ],
          "heatmapgl": [
           {
            "colorbar": {
             "outlinewidth": 0,
             "ticks": ""
            },
            "colorscale": [
             [
              0,
              "#0d0887"
             ],
             [
              0.1111111111111111,
              "#46039f"
             ],
             [
              0.2222222222222222,
              "#7201a8"
             ],
             [
              0.3333333333333333,
              "#9c179e"
             ],
             [
              0.4444444444444444,
              "#bd3786"
             ],
             [
              0.5555555555555556,
              "#d8576b"
             ],
             [
              0.6666666666666666,
              "#ed7953"
             ],
             [
              0.7777777777777778,
              "#fb9f3a"
             ],
             [
              0.8888888888888888,
              "#fdca26"
             ],
             [
              1,
              "#f0f921"
             ]
            ],
            "type": "heatmapgl"
           }
          ],
          "histogram": [
           {
            "marker": {
             "colorbar": {
              "outlinewidth": 0,
              "ticks": ""
             }
            },
            "type": "histogram"
           }
          ],
          "histogram2d": [
           {
            "colorbar": {
             "outlinewidth": 0,
             "ticks": ""
            },
            "colorscale": [
             [
              0,
              "#0d0887"
             ],
             [
              0.1111111111111111,
              "#46039f"
             ],
             [
              0.2222222222222222,
              "#7201a8"
             ],
             [
              0.3333333333333333,
              "#9c179e"
             ],
             [
              0.4444444444444444,
              "#bd3786"
             ],
             [
              0.5555555555555556,
              "#d8576b"
             ],
             [
              0.6666666666666666,
              "#ed7953"
             ],
             [
              0.7777777777777778,
              "#fb9f3a"
             ],
             [
              0.8888888888888888,
              "#fdca26"
             ],
             [
              1,
              "#f0f921"
             ]
            ],
            "type": "histogram2d"
           }
          ],
          "histogram2dcontour": [
           {
            "colorbar": {
             "outlinewidth": 0,
             "ticks": ""
            },
            "colorscale": [
             [
              0,
              "#0d0887"
             ],
             [
              0.1111111111111111,
              "#46039f"
             ],
             [
              0.2222222222222222,
              "#7201a8"
             ],
             [
              0.3333333333333333,
              "#9c179e"
             ],
             [
              0.4444444444444444,
              "#bd3786"
             ],
             [
              0.5555555555555556,
              "#d8576b"
             ],
             [
              0.6666666666666666,
              "#ed7953"
             ],
             [
              0.7777777777777778,
              "#fb9f3a"
             ],
             [
              0.8888888888888888,
              "#fdca26"
             ],
             [
              1,
              "#f0f921"
             ]
            ],
            "type": "histogram2dcontour"
           }
          ],
          "mesh3d": [
           {
            "colorbar": {
             "outlinewidth": 0,
             "ticks": ""
            },
            "type": "mesh3d"
           }
          ],
          "parcoords": [
           {
            "line": {
             "colorbar": {
              "outlinewidth": 0,
              "ticks": ""
             }
            },
            "type": "parcoords"
           }
          ],
          "pie": [
           {
            "automargin": true,
            "type": "pie"
           }
          ],
          "scatter": [
           {
            "marker": {
             "colorbar": {
              "outlinewidth": 0,
              "ticks": ""
             }
            },
            "type": "scatter"
           }
          ],
          "scatter3d": [
           {
            "line": {
             "colorbar": {
              "outlinewidth": 0,
              "ticks": ""
             }
            },
            "marker": {
             "colorbar": {
              "outlinewidth": 0,
              "ticks": ""
             }
            },
            "type": "scatter3d"
           }
          ],
          "scattercarpet": [
           {
            "marker": {
             "colorbar": {
              "outlinewidth": 0,
              "ticks": ""
             }
            },
            "type": "scattercarpet"
           }
          ],
          "scattergeo": [
           {
            "marker": {
             "colorbar": {
              "outlinewidth": 0,
              "ticks": ""
             }
            },
            "type": "scattergeo"
           }
          ],
          "scattergl": [
           {
            "marker": {
             "colorbar": {
              "outlinewidth": 0,
              "ticks": ""
             }
            },
            "type": "scattergl"
           }
          ],
          "scattermapbox": [
           {
            "marker": {
             "colorbar": {
              "outlinewidth": 0,
              "ticks": ""
             }
            },
            "type": "scattermapbox"
           }
          ],
          "scatterpolar": [
           {
            "marker": {
             "colorbar": {
              "outlinewidth": 0,
              "ticks": ""
             }
            },
            "type": "scatterpolar"
           }
          ],
          "scatterpolargl": [
           {
            "marker": {
             "colorbar": {
              "outlinewidth": 0,
              "ticks": ""
             }
            },
            "type": "scatterpolargl"
           }
          ],
          "scatterternary": [
           {
            "marker": {
             "colorbar": {
              "outlinewidth": 0,
              "ticks": ""
             }
            },
            "type": "scatterternary"
           }
          ],
          "surface": [
           {
            "colorbar": {
             "outlinewidth": 0,
             "ticks": ""
            },
            "colorscale": [
             [
              0,
              "#0d0887"
             ],
             [
              0.1111111111111111,
              "#46039f"
             ],
             [
              0.2222222222222222,
              "#7201a8"
             ],
             [
              0.3333333333333333,
              "#9c179e"
             ],
             [
              0.4444444444444444,
              "#bd3786"
             ],
             [
              0.5555555555555556,
              "#d8576b"
             ],
             [
              0.6666666666666666,
              "#ed7953"
             ],
             [
              0.7777777777777778,
              "#fb9f3a"
             ],
             [
              0.8888888888888888,
              "#fdca26"
             ],
             [
              1,
              "#f0f921"
             ]
            ],
            "type": "surface"
           }
          ],
          "table": [
           {
            "cells": {
             "fill": {
              "color": "#EBF0F8"
             },
             "line": {
              "color": "white"
             }
            },
            "header": {
             "fill": {
              "color": "#C8D4E3"
             },
             "line": {
              "color": "white"
             }
            },
            "type": "table"
           }
          ]
         },
         "layout": {
          "annotationdefaults": {
           "arrowcolor": "#2a3f5f",
           "arrowhead": 0,
           "arrowwidth": 1
          },
          "coloraxis": {
           "colorbar": {
            "outlinewidth": 0,
            "ticks": ""
           }
          },
          "colorscale": {
           "diverging": [
            [
             0,
             "#8e0152"
            ],
            [
             0.1,
             "#c51b7d"
            ],
            [
             0.2,
             "#de77ae"
            ],
            [
             0.3,
             "#f1b6da"
            ],
            [
             0.4,
             "#fde0ef"
            ],
            [
             0.5,
             "#f7f7f7"
            ],
            [
             0.6,
             "#e6f5d0"
            ],
            [
             0.7,
             "#b8e186"
            ],
            [
             0.8,
             "#7fbc41"
            ],
            [
             0.9,
             "#4d9221"
            ],
            [
             1,
             "#276419"
            ]
           ],
           "sequential": [
            [
             0,
             "#0d0887"
            ],
            [
             0.1111111111111111,
             "#46039f"
            ],
            [
             0.2222222222222222,
             "#7201a8"
            ],
            [
             0.3333333333333333,
             "#9c179e"
            ],
            [
             0.4444444444444444,
             "#bd3786"
            ],
            [
             0.5555555555555556,
             "#d8576b"
            ],
            [
             0.6666666666666666,
             "#ed7953"
            ],
            [
             0.7777777777777778,
             "#fb9f3a"
            ],
            [
             0.8888888888888888,
             "#fdca26"
            ],
            [
             1,
             "#f0f921"
            ]
           ],
           "sequentialminus": [
            [
             0,
             "#0d0887"
            ],
            [
             0.1111111111111111,
             "#46039f"
            ],
            [
             0.2222222222222222,
             "#7201a8"
            ],
            [
             0.3333333333333333,
             "#9c179e"
            ],
            [
             0.4444444444444444,
             "#bd3786"
            ],
            [
             0.5555555555555556,
             "#d8576b"
            ],
            [
             0.6666666666666666,
             "#ed7953"
            ],
            [
             0.7777777777777778,
             "#fb9f3a"
            ],
            [
             0.8888888888888888,
             "#fdca26"
            ],
            [
             1,
             "#f0f921"
            ]
           ]
          },
          "colorway": [
           "#636efa",
           "#EF553B",
           "#00cc96",
           "#ab63fa",
           "#FFA15A",
           "#19d3f3",
           "#FF6692",
           "#B6E880",
           "#FF97FF",
           "#FECB52"
          ],
          "font": {
           "color": "#2a3f5f"
          },
          "geo": {
           "bgcolor": "white",
           "lakecolor": "white",
           "landcolor": "#E5ECF6",
           "showlakes": true,
           "showland": true,
           "subunitcolor": "white"
          },
          "hoverlabel": {
           "align": "left"
          },
          "hovermode": "closest",
          "mapbox": {
           "style": "light"
          },
          "paper_bgcolor": "white",
          "plot_bgcolor": "#E5ECF6",
          "polar": {
           "angularaxis": {
            "gridcolor": "white",
            "linecolor": "white",
            "ticks": ""
           },
           "bgcolor": "#E5ECF6",
           "radialaxis": {
            "gridcolor": "white",
            "linecolor": "white",
            "ticks": ""
           }
          },
          "scene": {
           "xaxis": {
            "backgroundcolor": "#E5ECF6",
            "gridcolor": "white",
            "gridwidth": 2,
            "linecolor": "white",
            "showbackground": true,
            "ticks": "",
            "zerolinecolor": "white"
           },
           "yaxis": {
            "backgroundcolor": "#E5ECF6",
            "gridcolor": "white",
            "gridwidth": 2,
            "linecolor": "white",
            "showbackground": true,
            "ticks": "",
            "zerolinecolor": "white"
           },
           "zaxis": {
            "backgroundcolor": "#E5ECF6",
            "gridcolor": "white",
            "gridwidth": 2,
            "linecolor": "white",
            "showbackground": true,
            "ticks": "",
            "zerolinecolor": "white"
           }
          },
          "shapedefaults": {
           "line": {
            "color": "#2a3f5f"
           }
          },
          "ternary": {
           "aaxis": {
            "gridcolor": "white",
            "linecolor": "white",
            "ticks": ""
           },
           "baxis": {
            "gridcolor": "white",
            "linecolor": "white",
            "ticks": ""
           },
           "bgcolor": "#E5ECF6",
           "caxis": {
            "gridcolor": "white",
            "linecolor": "white",
            "ticks": ""
           }
          },
          "title": {
           "x": 0.05
          },
          "xaxis": {
           "automargin": true,
           "gridcolor": "white",
           "linecolor": "white",
           "ticks": "",
           "title": {
            "standoff": 15
           },
           "zerolinecolor": "white",
           "zerolinewidth": 2
          },
          "yaxis": {
           "automargin": true,
           "gridcolor": "white",
           "linecolor": "white",
           "ticks": "",
           "title": {
            "standoff": 15
           },
           "zerolinecolor": "white",
           "zerolinewidth": 2
          }
         }
        },
        "title": {
         "text": "Feature mean by positive & negative examples for bn1 layer"
        },
        "yaxis": {
         "tickfont": {
          "color": "#9467bd"
         },
         "title": {
          "font": {
           "color": "#9467bd"
          },
          "text": "positive"
         }
        },
        "yaxis2": {
         "overlaying": "y",
         "side": "right",
         "tickfont": {
          "color": "#F08B00"
         },
         "title": {
          "font": {
           "color": "#F08B00"
          },
          "text": "negative"
         }
        }
       }
      },
      "text/html": [
       "<div>\n",
       "        \n",
       "        \n",
       "            <div id=\"fb8dc9d5-6a1e-4cb1-a2d4-952d2c1d7bd7\" class=\"plotly-graph-div\" style=\"height:525px; width:100%;\"></div>\n",
       "            <script type=\"text/javascript\">\n",
       "                require([\"plotly\"], function(Plotly) {\n",
       "                    window.PLOTLYENV=window.PLOTLYENV || {};\n",
       "                    \n",
       "                if (document.getElementById(\"fb8dc9d5-6a1e-4cb1-a2d4-952d2c1d7bd7\")) {\n",
       "                    Plotly.newPlot(\n",
       "                        'fb8dc9d5-6a1e-4cb1-a2d4-952d2c1d7bd7',\n",
       "                        [{\"line\": {\"color\": \"#9467bd\"}, \"name\": \"positive\", \"type\": \"scatter\", \"x\": [0, 1, 2, 3, 4, 5, 6, 7, 8, 9, 10, 11, 12, 13, 14, 15, 16, 17, 18, 19, 20, 21, 22, 23, 24, 25, 26, 27, 28, 29, 30, 31, 32, 33, 34, 35, 36, 37, 38, 39, 40, 41, 42, 43, 44, 45, 46, 47, 48, 49, 50, 51, 52, 53, 54, 55, 56, 57, 58, 59, 60, 61, 62, 63, 64, 65, 66, 67, 68, 69, 70, 71, 72, 73, 74, 75, 76, 77, 78, 79, 80, 81, 82, 83, 84, 85, 86, 87, 88, 89, 90, 91, 92, 93, 94, 95, 96, 97, 98, 99, 100, 101, 102, 103, 104, 105, 106, 107, 108, 109, 110, 111, 112, 113, 114, 115, 116, 117, 118, 119, 120, 121, 122, 123, 124, 125, 126, 127, 128, 129, 130, 131, 132, 133, 134, 135, 136, 137, 138, 139, 140, 141, 142, 143, 144, 145, 146, 147, 148, 149, 150, 151, 152, 153, 154, 155, 156, 157, 158, 159, 160, 161, 162, 163, 164, 165, 166, 167, 168, 169, 170, 171, 172, 173, 174, 175, 176, 177, 178, 179, 180, 181, 182, 183, 184, 185, 186, 187, 188, 189, 190, 191, 192, 193, 194, 195, 196, 197, 198, 199, 200, 201, 202, 203, 204, 205, 206, 207, 208, 209, 210, 211, 212, 213, 214, 215, 216, 217, 218, 219, 220, 221, 222, 223, 224, 225, 226, 227, 228, 229, 230, 231, 232, 233, 234, 235, 236, 237, 238, 239, 240, 241, 242, 243, 244, 245, 246, 247, 248, 249, 250, 251, 252, 253, 254, 255, 256, 257, 258, 259, 260, 261, 262, 263, 264, 265, 266, 267, 268, 269, 270, 271, 272, 273, 274, 275, 276, 277, 278, 279, 280, 281, 282, 283, 284, 285, 286, 287, 288, 289, 290, 291, 292, 293, 294, 295, 296, 297, 298, 299, 300, 301, 302, 303, 304, 305, 306, 307, 308, 309, 310, 311, 312, 313, 314, 315, 316, 317, 318, 319, 320, 321, 322, 323, 324, 325, 326, 327, 328, 329, 330, 331, 332, 333, 334, 335, 336, 337, 338, 339, 340, 341, 342, 343, 344, 345, 346, 347, 348, 349, 350, 351, 352, 353, 354, 355, 356, 357, 358, 359, 360, 361, 362, 363, 364, 365, 366, 367, 368, 369, 370, 371, 372, 373, 374, 375, 376, 377, 378, 379, 380, 381, 382, 383, 384, 385, 386, 387, 388, 389, 390, 391, 392, 393, 394, 395, 396, 397, 398, 399, 400, 401, 402, 403, 404, 405, 406, 407, 408, 409, 410, 411, 412, 413, 414, 415, 416, 417, 418, 419, 420, 421, 422, 423, 424, 425, 426, 427, 428, 429, 430, 431, 432, 433, 434, 435, 436, 437, 438, 439, 440, 441, 442, 443, 444, 445, 446, 447, 448, 449, 450, 451, 452, 453, 454, 455, 456, 457, 458, 459, 460, 461, 462, 463, 464, 465, 466, 467, 468, 469, 470, 471, 472, 473, 474, 475, 476, 477, 478, 479, 480, 481, 482, 483, 484, 485, 486, 487, 488, 489, 490, 491, 492, 493, 494, 495, 496, 497, 498, 499, 500, 501, 502, 503, 504, 505, 506, 507, 508, 509, 510, 511, 512, 513, 514, 515, 516, 517, 518, 519, 520, 521, 522, 523, 524, 525, 526, 527, 528, 529, 530, 531, 532, 533, 534, 535, 536, 537, 538, 539, 540, 541, 542, 543, 544, 545, 546, 547, 548, 549, 550, 551, 552, 553, 554, 555, 556, 557, 558, 559, 560, 561, 562, 563, 564, 565, 566, 567, 568, 569, 570, 571, 572, 573, 574, 575, 576, 577, 578, 579, 580, 581, 582, 583, 584, 585, 586, 587, 588, 589, 590, 591, 592, 593, 594, 595, 596, 597, 598, 599, 600, 601, 602, 603, 604, 605, 606, 607, 608, 609, 610, 611, 612, 613, 614, 615, 616, 617, 618, 619, 620, 621, 622, 623, 624, 625, 626, 627, 628, 629, 630, 631, 632, 633, 634, 635, 636, 637, 638, 639, 640, 641, 642, 643, 644, 645, 646, 647, 648, 649, 650, 651, 652, 653, 654, 655, 656, 657, 658, 659, 660, 661, 662, 663, 664, 665, 666, 667, 668, 669, 670, 671, 672, 673, 674, 675, 676, 677, 678, 679, 680, 681, 682, 683, 684, 685, 686, 687, 688, 689, 690, 691, 692, 693, 694, 695, 696, 697, 698, 699, 700, 701, 702, 703, 704, 705, 706, 707, 708, 709, 710, 711, 712, 713, 714, 715, 716, 717, 718, 719, 720, 721, 722, 723, 724, 725, 726, 727, 728, 729, 730, 731, 732, 733, 734, 735, 736, 737, 738, 739, 740, 741, 742, 743, 744, 745, 746, 747, 748, 749, 750, 751, 752, 753, 754, 755, 756, 757, 758, 759, 760, 761, 762, 763, 764, 765, 766, 767, 768, 769, 770, 771, 772, 773, 774, 775, 776, 777, 778, 779, 780, 781, 782], \"y\": [5.336171627044678, 3.3017048835754395, 2.57442569732666, 2.951385974884033, 3.037219762802124, -6.2192816734313965, 7.933859348297119, 4.362702369689941, 0.3452085554599762, -0.9093995094299316, -1.5055519342422485, -1.6704702377319336, -6.099761009216309, -4.076796531677246, 3.4480748176574707, 0.10022492706775665, 0.07887323200702667, 0.17693671584129333, -0.1922362893819809, 0.25547143816947937, -0.1842876374721527, 0.47187772393226624, -0.2925288677215576, -0.21548207104206085, 0.12730160355567932, -0.6056496500968933, 0.08245080709457397, 0.05812804773449898, 0.067588672041893, -0.1629282534122467, 0.5601806044578552, 0.18899193406105042, -0.6316047310829163, 0.0065237777307629585, -0.179495170712471, 0.25273606181144714, -0.771588921546936, -0.17227864265441895, 0.07918453216552734, 0.35025444626808167, -0.10550306737422943, -0.365006685256958, 0.02864323928952217, 0.8151199221611023, -0.22023296356201172, 0.2848946154117584, -0.08887242525815964, -0.00534651568159461, -0.25056302547454834, -0.09458796679973602, 0.06798463314771652, -0.21284444630146027, 0.0069192624650895596, -0.46796926856040955, 0.9850780367851257, 0.07158209383487701, 0.18378415703773499, 0.11077694594860077, -0.06396272778511047, 0.020805738866329193, -0.08321012556552887, -0.20829220116138458, -0.12058095633983612, 0.020645806565880775, 0.31495580077171326, 0.242932990193367, -0.22746476531028748, 0.040018223226070404, 0.02569807693362236, 0.2022845447063446, 0.11232955753803253, 0.01248419564217329, -0.006657829042524099, 0.030478324741125107, 0.0886307954788208, 0.2479194700717926, -0.16815046966075897, 0.09674819558858871, -0.07652907818555832, -0.06916050612926483, -0.06996724754571915, 0.19977374374866486, -0.4544658064842224, 1.8938267230987549, -0.45609015226364136, 0.2626289129257202, 0.011940866708755493, 0.19746768474578857, -0.1433240920305252, -0.11968939006328583, -0.04428907111287117, 0.07028388231992722, -0.4280926585197449, 0.16186213493347168, 0.2820867896080017, -0.16763006150722504, 0.4203766882419586, 0.8637889623641968, -0.061795979738235474, 0.7152020931243896, 0.5367675423622131, -0.23437175154685974, 0.15342864394187927, -0.14897581934928894, 0.25688251852989197, 0.0967952162027359, -0.10786540806293488, 0.05649453401565552, -0.16899412870407104, 0.08397307246923447, 0.028783801943063736, -0.12171715497970581, 0.6384216547012329, 0.5577758550643921, -0.6317771673202515, 0.029025280848145485, -0.08670816570520401, 0.05284448713064194, 0.0446661114692688, 0.1654643565416336, -1.0661977529525757, -0.13570165634155273, 0.07675053924322128, -0.14022748172283173, 0.008487315848469734, -0.0725938156247139, -0.0765734612941742, 0.0912599042057991, -0.21619991958141327, 0.012104542925953865, 0.1620069444179535, -0.06735824048519135, -1.2894017696380615, -0.31011492013931274, 0.058587320148944855, 0.18237988650798798, -0.08394145965576172, 0.21866855025291443, 0.3006710708141327, -1.2800824642181396, 0.20612797141075134, 0.04241694137454033, 0.13015934824943542, 0.23227116465568542, -1.334498643875122, 0.0686696320772171, -0.19896253943443298, -0.016792073845863342, -0.3980600833892822, -0.6766244769096375, 0.2422010898590088, -0.4207952618598938, -0.06859340518712997, 0.15659798681735992, 0.2245442122220993, -0.062034331262111664, 0.050183702260255814, -0.1934550702571869, -0.2878240942955017, -0.15058663487434387, -0.00014542303688358516, -0.14996954798698425, 0.3113850951194763, -0.2997245192527771, 0.1078452467918396, -0.34016838669776917, 0.15664449334144592, -0.8915578126907349, -0.09263197332620621, -1.1410119533538818, -0.13123486936092377, -0.1940973848104477, 0.04517524689435959, 0.5696817636489868, 0.2707558572292328, 0.19190020859241486, -0.21461638808250427, 0.5856455564498901, 0.15065550804138184, -0.10372617095708847, -0.06219242885708809, -0.23912131786346436, 0.2330041229724884, 0.16825520992279053, -0.04874380677938461, 0.1772255301475525, -0.2026575356721878, 0.1576169729232788, -0.03923197463154793, 0.8282354474067688, -0.45496612787246704, 1.156489372253418, 0.1890464574098587, 0.22477492690086365, -0.269391804933548, 0.1385613977909088, -0.4421420097351074, -0.2581442594528198, 0.45711326599121094, 0.09689992666244507, 0.090396948158741, -0.04009837657213211, -0.06761055439710617, 0.4360550045967102, -0.3277222216129303, 0.5327633023262024, -0.6150853037834167, 0.3234519958496094, -0.5105246305465698, -0.043324295431375504, -0.6020852327346802, 0.0654604583978653, -0.11874918639659882, -0.04488472640514374, -0.16991505026817322, -0.04432583972811699, 0.17608030140399933, 0.2591949701309204, 1.52932870388031, -0.09754554182291031, -0.06746527552604675, -0.11507020890712738, 0.3278953731060028, -0.3806893527507782, -0.3086754381656647, -0.2193458378314972, -0.8749352693557739, 0.15178950130939484, 0.031163472682237625, -0.4542717933654785, 0.03786622732877731, 0.1412392109632492, 0.1409168541431427, -0.16821326315402985, -0.035549815744161606, 0.07521079480648041, 0.1742464154958725, 0.20234429836273193, -0.2152252197265625, -0.27166810631752014, -0.15556196868419647, 0.289150208234787, -0.012412513606250286, -0.14938487112522125, 0.18592891097068787, 0.1500212401151657, 1.3240280151367188, 0.1893378496170044, -0.02242238260805607, -0.0675329864025116, 0.17424671351909637, 0.03580925613641739, 0.4778367578983307, 0.22031494975090027, -0.10274217277765274, -0.24384205043315887, -0.2518754303455353, -0.4369437098503113, -0.2737311124801636, 0.03837892785668373, 0.4788287281990051, -0.4517269730567932, 0.19333183765411377, -0.05453334376215935, -0.6328134536743164, -0.4250820279121399, 0.21186640858650208, 0.11241714656352997, -0.5951086282730103, 0.013438570313155651, 0.22663304209709167, -0.7823057174682617, -0.14379730820655823, 0.2001229226589203, 0.3080332577228546, -1.3636255264282227, 0.3784935474395752, -0.04248138889670372, -0.8511034846305847, -0.14461643993854523, 0.28805476427078247, -0.15797463059425354, -0.2598802149295807, 0.04036752134561539, -0.11445802450180054, 0.29886385798454285, 0.6363303065299988, -0.30538830161094666, 0.04847697913646698, -0.03431408852338791, -0.04011587053537369, -0.13676592707633972, 0.16072770953178406, 0.7547920346260071, -0.7415257692337036, -0.004468752536922693, 0.06946496665477753, -0.002466744277626276, 0.22614924609661102, -0.012718044221401215, -0.39992326498031616, -0.37640851736068726, 0.0554579421877861, 0.2856309413909912, 0.08183618634939194, -0.021063800901174545, 1.5157802104949951, -0.018960708752274513, 0.17622873187065125, -0.22888417541980743, 1.0073249340057373, 0.2838883101940155, -0.3458904027938843, -0.19080984592437744, 0.010770299471914768, -0.20335841178894043, 0.3169536292552948, 0.03861568495631218, 0.2644290626049042, -0.5654996633529663, 0.4283687472343445, -0.18709100782871246, 0.04386947304010391, -0.08287442475557327, 0.8545980453491211, -0.1314520388841629, -0.12404187768697739, -0.13807380199432373, -0.15654630959033966, -0.0990302711725235, -0.618963360786438, -0.17066970467567444, 0.3714659512042999, 0.17581839859485626, -0.03577801585197449, -0.10193588584661484, 0.7651398777961731, -0.3328617513179779, 0.19509604573249817, -0.21113088726997375, 0.10758960247039795, -0.25377243757247925, -0.001873853849247098, 0.5526121854782104, 0.7312464714050293, -0.20189766585826874, 0.13139040768146515, -0.12968580424785614, -0.1531921923160553, -0.28298985958099365, -0.21388432383537292, -0.4350527822971344, -0.0675249993801117, 0.2829285264015198, -0.16086681187152863, 0.06101132184267044, 0.27462074160575867, 0.23685435950756073, -0.4359865188598633, 0.2255408763885498, -0.130173921585083, 0.032814159989356995, -0.06639567762613297, -0.028041448444128036, 0.01998336985707283, 0.3623093068599701, -0.802908718585968, 0.021001508459448814, 0.14300157129764557, 0.00543150445446372, -0.1223914846777916, 0.21391403675079346, -0.0489843375980854, 0.8798912167549133, 0.02658594213426113, -0.01567665860056877, 0.34521594643592834, -0.2231176346540451, -0.08672618865966797, -0.06081053614616394, -0.0824713259935379, -0.11943195760250092, 0.30957338213920593, 0.00896788202226162, 0.2710287868976593, -0.4143707752227783, -0.3549634516239166, -0.058269500732421875, 0.0004972376045770943, 1.4561331272125244, 0.24424703419208527, -0.2769851088523865, -0.002849682467058301, 0.5298042893409729, 0.1943519562482834, 0.18207356333732605, 0.17858140170574188, 0.6798653602600098, -0.034889206290245056, 0.04529136046767235, 0.044328510761260986, -0.264855295419693, 0.1317853033542633, 0.02577885426580906, 0.7465336918830872, 0.0799930989742279, -2.406096935272217, -0.09210163354873657, 0.11298079788684845, 0.5101252794265747, -0.06952663511037827, -0.21313250064849854, -0.019832218065857887, -0.21322600543498993, -0.06759434193372726, 0.787291407585144, -0.9311857223510742, -0.09884317964315414, 0.16372239589691162, 0.3276969790458679, -0.40783992409706116, -0.09720418602228165, 0.9060826301574707, 0.08032526075839996, -0.1007704883813858, 0.019450444728136063, -0.36706095933914185, 0.0961671695113182, 0.7446689009666443, 0.32150891423225403, 0.0529879555106163, 0.26707279682159424, 0.22230009734630585, -0.13523484766483307, -0.007134976796805859, 0.10915593802928925, 0.26703882217407227, -0.11086580902338028, -0.15705537796020508, -0.07630990445613861, -0.2178710252046585, 0.22016747295856476, -0.05118107795715332, -0.7635248899459839, 0.10219907760620117, 0.05354905128479004, 0.5239540338516235, 0.4482971131801605, -0.3558623194694519, -0.0928557962179184, -1.1425681114196777, -0.11337374150753021, -0.08210229873657227, 0.1245381087064743, -0.0647227093577385, 0.13140042126178741, -0.1498498171567917, 0.01237918995320797, -0.2730417251586914, -0.20795440673828125, -0.24118240177631378, 0.3181692957878113, -0.00314338062889874, -0.18374410271644592, -0.32870230078697205, -0.0041387081146240234, 0.25916242599487305, -1.9053175449371338, -0.11383090168237686, -0.4070216715335846, 0.22093062102794647, 1.0436766147613525, -0.06729481369256973, 0.42838868498802185, 0.11913309246301651, -0.7171057462692261, 0.19687581062316895, 0.16093912720680237, 1.6817371845245361, -0.010075544938445091, -0.6745315790176392, 0.14138606190681458, 0.5239336490631104, 0.20931120216846466, -0.10806362330913544, 0.0080037210136652, 0.14051200449466705, -0.18620195984840393, 0.029177388176321983, -0.011619821190834045, 0.24946951866149902, 0.11104793846607208, 0.1906389743089676, 0.8316428065299988, -0.7912885546684265, -0.05175827071070671, -0.1299598217010498, 0.39136794209480286, 0.36062923073768616, -0.20271888375282288, 0.0738634243607521, -0.18864087760448456, -0.4128575325012207, 0.05036202818155289, -0.03400988131761551, 0.16825218498706818, -0.1537642925977707, 0.05664091184735298, 2.662369728088379, 0.008072669617831707, -0.09263227880001068, 0.14555159211158752, -0.2608538568019867, -0.2149345427751541, -0.10071811825037003, 0.20411983132362366, 0.17784306406974792, 2.411447286605835, 0.8820246458053589, -0.03411193564534187, 0.1130632758140564, -0.2882566750049591, 0.09464041143655777, -0.3121275305747986, 0.008563622832298279, -0.1029832512140274, 0.09651283919811249, 1.4631736278533936, -1.163724660873413, 0.021176394075155258, 0.13050752878189087, -0.7743597626686096, 1.538864016532898, -0.15011844038963318, -0.35988849401474, -0.10379952192306519, -0.17306816577911377, 0.0239516980946064, -0.25445595383644104, 0.15043239295482635, -0.2152516394853592, 0.24279840290546417, 0.07493846118450165, -0.35712307691574097, 0.4364132881164551, 0.2106775939464569, -0.4781593382358551, 0.2477303296327591, 0.11836852878332138, 0.1866450011730194, -0.0746183693408966, -0.0886441096663475, -0.17125071585178375, 0.050257038325071335, 0.3572196960449219, 0.21656639873981476, 1.5859730243682861, 0.9155067205429077, -0.14897450804710388, 0.1321491003036499, -0.21042199432849884, 1.4494439363479614, 2.6335055828094482, 0.2326158732175827, 0.08601941168308258, 0.05201093107461929, -0.5313534736633301, -0.045898519456386566, -0.2119031697511673, -0.3732888102531433, 0.3897915482521057, -0.20668920874595642, -0.13155321776866913, -1.3573923110961914, 0.044328827410936356, -0.4306541979312897, 0.016749775037169456, -0.1296861469745636, 0.014689236879348755, 0.08309358358383179, -0.17936894297599792, -0.07661403715610504, 0.33784377574920654, -0.06613774597644806, 0.16204163432121277, -1.5286941528320312, 0.19515308737754822, -0.37933680415153503, 0.09609043598175049, 0.1977659910917282, -0.15622976422309875, -0.12191984802484512, -2.406538724899292, 0.13487590849399567, -0.17405298352241516, -0.08517809212207794, -0.2764967083930969, 0.11906620115041733, 0.16034284234046936, 0.5078481435775757, 0.02208285965025425, -0.0021993890404701233, -0.571928858757019, -0.18388551473617554, -0.3494904339313507, 0.3520128130912781, -0.5599013566970825, 0.24077275395393372, 0.8504081964492798, 0.1555214375257492, -0.35361918807029724, -0.11138832569122314, 0.028731266036629677, -0.5817761421203613, -0.025736361742019653, 0.7665994763374329, 0.05610516667366028, -0.23123697936534882, -0.17580553889274597, 0.4295579791069031, 0.1763020008802414, 0.28870174288749695, 0.06027059629559517, -0.25136837363243103, 0.17169427871704102, 0.002564716385677457, 0.043606799095869064, 0.6830589175224304, -0.781865119934082, 0.020433936268091202, -0.07812321186065674, 0.011018434539437294, -0.14350095391273499, -0.1509462296962738, 0.12444794178009033, 0.0584065318107605, -0.2080896645784378, 0.03480612114071846, -0.31579238176345825, 0.06046532467007637, -0.3961601257324219, -0.058280833065509796, -0.17730577290058136, 0.6493431329727173, 0.24032850563526154, 0.0038996965158730745, 0.28707584738731384, 0.2556258738040924, -0.05045118182897568, 0.3262510895729065, -0.20452240109443665, -0.13009482622146606, 0.32443857192993164, -0.1894848644733429, 0.1586376428604126, 0.1036347970366478, -0.16010722517967224, 0.2283196896314621, 0.18140189349651337, -0.08703341335058212, -0.28061920404434204, -0.10471352189779282, 0.0016608297592028975, -0.357030987739563, 0.9255107641220093, 0.04803022742271423, -0.2755346894264221, -0.22380924224853516, 0.15595225989818573, -0.15568265318870544, 0.021906482055783272, -0.0002101495920214802, -0.004476574249565601, -0.011105719953775406, -0.08917298913002014, 0.610371470451355, -0.1399884968996048, -1.5871074199676514, 0.17026297748088837, 0.7285529375076294, -0.10285086929798126, -0.4981023371219635, 0.14379946887493134, 0.2977612614631653, 0.04436445236206055, -0.13503053784370422, 1.2681349515914917, 0.1321355551481247, 0.05632822588086128, 0.10938872396945953, -0.5231580138206482, -0.03922819346189499, -0.1930031180381775, -0.23821289837360382, 0.031013760715723038, -0.0663854330778122, -0.28168994188308716, -0.3065071403980255, -0.24207942187786102, -0.004668409004807472, 0.37309321761131287, 0.08711346238851547, -0.09964704513549805, 0.9741480946540833, 0.008055576123297215, 0.09684733301401138, -0.06787358224391937, 0.125187486410141, -0.060288138687610626, -0.20036974549293518, -0.25836583971977234, 0.23018379509449005, -0.6086110472679138, 0.17053517699241638, -0.016214992851018906, 0.24345234036445618, -0.14655230939388275, 1.5529463291168213, -0.15125076472759247, -0.05114090442657471, 0.08923031389713287, 0.05450843647122383, -0.1367907077074051, -0.9979871511459351, 0.09505496919155121, 0.10887660831212997, 0.05516134575009346, -0.021469702944159508, -0.1544957309961319, -0.5620210766792297, -0.6762536764144897, 0.46273431181907654, 0.13574813306331635, 0.22492995858192444, -0.7178378105163574, -0.27487486600875854, -0.06494046747684479, 0.22512200474739075, -0.20417675375938416, 0.2996808886528015, -0.11438204348087311, -0.5928146839141846, -0.042870379984378815, -0.18854942917823792, -0.5874298810958862, -0.11834971606731415, -0.1365925520658493, -0.06729891151189804, -0.013069313950836658, 1.4880796670913696, 0.3486108183860779, -0.0033177542500197887, -0.01151716336607933, -0.2972002327442169, -0.032507188618183136, 0.05431508272886276, -0.28113847970962524, 0.33990252017974854, -0.2670845091342926, -0.2004871815443039, 0.9671579599380493, -0.05176086351275444, -1.1141231060028076, -0.0807473212480545, -0.6008886098861694, 0.053513359278440475, 0.2835407853126526, -0.21921595931053162, 0.21669694781303406, -1.4102081060409546, 0.6342142224311829, 0.040978409349918365, 0.5902477502822876, -0.30397742986679077, 0.031869299709796906, -0.1157342791557312, -0.19538863003253937, -0.20060329139232635, -0.1415260285139084, 0.5896247625350952, -0.23186162114143372, -0.214018315076828, 0.016933079808950424]}, {\"line\": {\"color\": \"#F08B00\"}, \"name\": \"negative\", \"type\": \"scatter\", \"x\": [0, 1, 2, 3, 4, 5, 6, 7, 8, 9, 10, 11, 12, 13, 14, 15, 16, 17, 18, 19, 20, 21, 22, 23, 24, 25, 26, 27, 28, 29, 30, 31, 32, 33, 34, 35, 36, 37, 38, 39, 40, 41, 42, 43, 44, 45, 46, 47, 48, 49, 50, 51, 52, 53, 54, 55, 56, 57, 58, 59, 60, 61, 62, 63, 64, 65, 66, 67, 68, 69, 70, 71, 72, 73, 74, 75, 76, 77, 78, 79, 80, 81, 82, 83, 84, 85, 86, 87, 88, 89, 90, 91, 92, 93, 94, 95, 96, 97, 98, 99, 100, 101, 102, 103, 104, 105, 106, 107, 108, 109, 110, 111, 112, 113, 114, 115, 116, 117, 118, 119, 120, 121, 122, 123, 124, 125, 126, 127, 128, 129, 130, 131, 132, 133, 134, 135, 136, 137, 138, 139, 140, 141, 142, 143, 144, 145, 146, 147, 148, 149, 150, 151, 152, 153, 154, 155, 156, 157, 158, 159, 160, 161, 162, 163, 164, 165, 166, 167, 168, 169, 170, 171, 172, 173, 174, 175, 176, 177, 178, 179, 180, 181, 182, 183, 184, 185, 186, 187, 188, 189, 190, 191, 192, 193, 194, 195, 196, 197, 198, 199, 200, 201, 202, 203, 204, 205, 206, 207, 208, 209, 210, 211, 212, 213, 214, 215, 216, 217, 218, 219, 220, 221, 222, 223, 224, 225, 226, 227, 228, 229, 230, 231, 232, 233, 234, 235, 236, 237, 238, 239, 240, 241, 242, 243, 244, 245, 246, 247, 248, 249, 250, 251, 252, 253, 254, 255, 256, 257, 258, 259, 260, 261, 262, 263, 264, 265, 266, 267, 268, 269, 270, 271, 272, 273, 274, 275, 276, 277, 278, 279, 280, 281, 282, 283, 284, 285, 286, 287, 288, 289, 290, 291, 292, 293, 294, 295, 296, 297, 298, 299, 300, 301, 302, 303, 304, 305, 306, 307, 308, 309, 310, 311, 312, 313, 314, 315, 316, 317, 318, 319, 320, 321, 322, 323, 324, 325, 326, 327, 328, 329, 330, 331, 332, 333, 334, 335, 336, 337, 338, 339, 340, 341, 342, 343, 344, 345, 346, 347, 348, 349, 350, 351, 352, 353, 354, 355, 356, 357, 358, 359, 360, 361, 362, 363, 364, 365, 366, 367, 368, 369, 370, 371, 372, 373, 374, 375, 376, 377, 378, 379, 380, 381, 382, 383, 384, 385, 386, 387, 388, 389, 390, 391, 392, 393, 394, 395, 396, 397, 398, 399, 400, 401, 402, 403, 404, 405, 406, 407, 408, 409, 410, 411, 412, 413, 414, 415, 416, 417, 418, 419, 420, 421, 422, 423, 424, 425, 426, 427, 428, 429, 430, 431, 432, 433, 434, 435, 436, 437, 438, 439, 440, 441, 442, 443, 444, 445, 446, 447, 448, 449, 450, 451, 452, 453, 454, 455, 456, 457, 458, 459, 460, 461, 462, 463, 464, 465, 466, 467, 468, 469, 470, 471, 472, 473, 474, 475, 476, 477, 478, 479, 480, 481, 482, 483, 484, 485, 486, 487, 488, 489, 490, 491, 492, 493, 494, 495, 496, 497, 498, 499, 500, 501, 502, 503, 504, 505, 506, 507, 508, 509, 510, 511, 512, 513, 514, 515, 516, 517, 518, 519, 520, 521, 522, 523, 524, 525, 526, 527, 528, 529, 530, 531, 532, 533, 534, 535, 536, 537, 538, 539, 540, 541, 542, 543, 544, 545, 546, 547, 548, 549, 550, 551, 552, 553, 554, 555, 556, 557, 558, 559, 560, 561, 562, 563, 564, 565, 566, 567, 568, 569, 570, 571, 572, 573, 574, 575, 576, 577, 578, 579, 580, 581, 582, 583, 584, 585, 586, 587, 588, 589, 590, 591, 592, 593, 594, 595, 596, 597, 598, 599, 600, 601, 602, 603, 604, 605, 606, 607, 608, 609, 610, 611, 612, 613, 614, 615, 616, 617, 618, 619, 620, 621, 622, 623, 624, 625, 626, 627, 628, 629, 630, 631, 632, 633, 634, 635, 636, 637, 638, 639, 640, 641, 642, 643, 644, 645, 646, 647, 648, 649, 650, 651, 652, 653, 654, 655, 656, 657, 658, 659, 660, 661, 662, 663, 664, 665, 666, 667, 668, 669, 670, 671, 672, 673, 674, 675, 676, 677, 678, 679, 680, 681, 682, 683, 684, 685, 686, 687, 688, 689, 690, 691, 692, 693, 694, 695, 696, 697, 698, 699, 700, 701, 702, 703, 704, 705, 706, 707, 708, 709, 710, 711, 712, 713, 714, 715, 716, 717, 718, 719, 720, 721, 722, 723, 724, 725, 726, 727, 728, 729, 730, 731, 732, 733, 734, 735, 736, 737, 738, 739, 740, 741, 742, 743, 744, 745, 746, 747, 748, 749, 750, 751, 752, 753, 754, 755, 756, 757, 758, 759, 760, 761, 762, 763, 764, 765, 766, 767, 768, 769, 770, 771, 772, 773, 774, 775, 776, 777, 778, 779, 780, 781, 782], \"y\": [6.096710205078125, 5.327552795410156, 0.23771551251411438, 0.2992425262928009, 0.5339695811271667, 26.123645782470703, -4.313124656677246, 5.540647983551025, 2.3629214763641357, -1.05215585231781, -1.6888500452041626, -1.872592568397522, 14.820050239562988, 11.038599014282227, -0.5822499990463257, 0.255119264125824, -1.0640181303024292, 0.18911731243133545, -0.004889641888439655, 0.21640142798423767, -0.15740498900413513, 0.140802264213562, -0.3102075159549713, -0.29861849546432495, 0.02102568745613098, -0.6808422803878784, -0.25123000144958496, 0.029843837022781372, 0.08421728760004044, -0.20370550453662872, 1.3118072748184204, 0.08877525478601456, -0.7344570159912109, 0.04988685995340347, -0.08219524472951889, 0.07092199474573135, -0.8453613519668579, -0.08501186221837997, 0.08062651008367538, -0.4668550491333008, -0.12126431614160538, -0.3036331534385681, 0.03544121980667114, 0.1409577876329422, -0.20368006825447083, 0.2534613609313965, -0.04704146087169647, -0.024146463721990585, -0.34483012557029724, -0.007380037102848291, 0.06584297865629196, -0.17071709036827087, 0.0014949629548937082, -2.1030163764953613, 0.9935733079910278, 0.04755793884396553, 0.1190100684762001, 0.10625318437814713, -0.04829251021146774, 0.029731864109635353, -0.11078964173793793, -0.006208659615367651, -0.03323953598737717, 0.012319067493081093, 1.2094229459762573, 0.05464521050453186, -0.21870195865631104, 0.03251398354768753, -0.0057981968857347965, 0.1811458319425583, 0.11408247798681259, 0.03170587867498398, 0.006910455413162708, 0.09828244149684906, -0.6238845586776733, 0.2249983549118042, -0.4384540915489197, 0.1066633015871048, -0.26603829860687256, -0.06127976253628731, -0.01661914959549904, 0.20002932846546173, -0.22990107536315918, 1.8290221691131592, -0.2673951983451843, 0.23988163471221924, 0.19021186232566833, 0.0526292622089386, -0.15425924956798553, -0.08976583182811737, 0.11413873732089996, 0.07605142891407013, -0.37241581082344055, 0.42449894547462463, 0.3302706182003021, -0.13975875079631805, 0.38141265511512756, 0.34080737829208374, -0.0806853324174881, 0.521889328956604, 0.4639592170715332, -0.004887491464614868, 0.13593049347400665, -0.16577550768852234, 0.46898752450942993, 0.046612657606601715, -0.1102454662322998, 0.21499869227409363, -0.16751763224601746, 0.11761095374822617, 0.03050852380692959, -0.9141665697097778, 0.7161945700645447, 0.5078726410865784, -1.3821347951889038, 0.11528053134679794, 0.06528814136981964, 0.10473273694515228, 0.04882871359586716, 0.00027939677238464355, -1.1031081676483154, 0.07365080714225769, 0.0739012286067009, -0.2042636126279831, 0.05678052827715874, -0.1524410992860794, -0.11021242290735245, 0.1136360615491867, -0.022803068161010742, 0.0009753748890943825, -0.18476223945617676, -0.039193686097860336, -1.3403522968292236, -0.3391382098197937, 0.06516581028699875, -0.0010790408123284578, -0.08054399490356445, -0.10818370431661606, 0.042030394077301025, -1.237389326095581, 0.1823788583278656, -0.004760803189128637, 0.10147032886743546, 0.24655850231647491, -1.6099560260772705, 0.3392146825790405, -0.15684399008750916, -0.0008057154482230544, -0.2840539515018463, -0.6616213321685791, 0.23320838809013367, -0.6915105581283569, -0.5512924790382385, 0.17330339550971985, 0.18757157027721405, -0.06382867693901062, 0.07824452966451645, -0.18053343892097473, -0.27177301049232483, -0.12565617263317108, 0.006853771395981312, -0.17487578094005585, 0.3127138018608093, -0.3292607069015503, 0.07115364819765091, -0.34532803297042847, 0.191735178232193, -0.21624910831451416, -0.11302872002124786, -0.8000988960266113, -0.166314497590065, -0.24716146290302277, 0.1479659378528595, 0.5497976541519165, 0.1747605949640274, 0.283417671918869, -0.19994792342185974, 0.34022045135498047, 0.17046904563903809, -0.10558754205703735, -0.08955628424882889, -0.2743833661079407, 0.21849071979522705, -0.8208861351013184, -0.07994330674409866, 0.1711672693490982, -0.28509968519210815, 0.2897244393825531, -0.04780732840299606, 0.659626841545105, -0.47585153579711914, 0.7127121686935425, 0.227720707654953, 0.1509770005941391, -0.298954576253891, 0.17275851964950562, -0.5320481657981873, -0.2396310269832611, 0.38297519087791443, 0.21690230071544647, 0.04359997808933258, -0.10773929208517075, 0.006671474780887365, 0.4755029082298279, -0.32887715101242065, 0.5056833028793335, -0.5863171219825745, 0.28314104676246643, -0.9153367877006531, -0.19687974452972412, -0.17566165328025818, 0.08872539550065994, -0.10146355628967285, -0.044931743294000626, -0.17409540712833405, -0.08350862562656403, 0.11376450210809708, 1.2132701873779297, 1.3621549606323242, -0.13735531270503998, -0.08002008497714996, -0.10098482668399811, 0.3598322570323944, -0.13594797253608704, -0.3551158308982849, -0.14525191485881805, -0.9799593091011047, 0.10534856468439102, 0.06261737644672394, -0.38946932554244995, -0.2915743291378021, -0.07400177419185638, 0.15943607687950134, -0.15881064534187317, -0.028596634045243263, 0.09952200204133987, 0.1573570817708969, 0.1714356541633606, -0.2148032933473587, -0.06657280027866364, 0.011208483949303627, 0.42529574036598206, -0.14837509393692017, -0.31426405906677246, 0.03799838572740555, 0.16490085422992706, 1.380679965019226, 0.24022050201892853, -0.11601368337869644, -0.06716854125261307, 0.16438589990139008, 0.05448535084724426, 0.44767364859580994, 0.3803587555885315, -0.0359959602355957, -0.22126097977161407, -0.17174844443798065, -0.379118412733078, -0.271628201007843, 0.11329054832458496, 1.0801653861999512, -0.8564974069595337, 0.16483154892921448, -0.10404296219348907, -0.6894869208335876, -0.40545955300331116, -0.08335711807012558, 0.011071880348026752, -0.2433808594942093, 0.06802613288164139, -0.1973261833190918, -0.7060995101928711, -0.19619110226631165, 0.20422276854515076, 0.5159593820571899, -0.09823846817016602, 0.3669491708278656, -0.044577181339263916, -1.0148359537124634, -0.1661873161792755, 0.19785621762275696, 0.11396564543247223, -0.41158366203308105, 0.2510087192058563, -0.2591221332550049, 0.1896597445011139, 1.1323057413101196, -0.0869448184967041, 0.0746140331029892, -0.03166533261537552, 0.1270247995853424, -0.1182829886674881, -0.024163488298654556, 0.2804858684539795, -0.7363302707672119, 0.0027783666737377644, 0.0073077501729130745, 0.10127389430999756, 0.19151417911052704, -0.0072093261405825615, -0.3445652425289154, -0.375806599855423, 0.09515117853879929, 0.21933186054229736, 0.08055990934371948, -0.02751324698328972, 1.6858417987823486, 0.43967992067337036, 0.26711776852607727, -0.27483588457107544, 1.0161956548690796, 0.5956131219863892, 0.025501299649477005, -0.18120066821575165, 0.0015082266181707382, -0.17525598406791687, 0.377842515707016, -0.34997987747192383, -0.2205139845609665, -0.9797192811965942, 0.4562532305717468, -0.12649627029895782, 0.04834218695759773, 0.015327312052249908, 1.3061984777450562, -0.11489448696374893, 0.09802496433258057, -0.14692215621471405, 0.08580417931079865, 0.021882204338908195, -0.5268634557723999, 0.890415370464325, 0.31653064489364624, 0.16946622729301453, -0.053750962018966675, 0.011092853732407093, 0.2011345624923706, -0.25976642966270447, 0.12589453160762787, -0.19188633561134338, 0.022346410900354385, -0.22879092395305634, 0.08848028630018234, 0.5920983552932739, 0.6781144142150879, -0.464700847864151, 0.01191991288214922, -0.12472666800022125, -0.11940412223339081, -0.2843201458454132, -0.1891433447599411, -0.41357946395874023, -0.1309632956981659, 1.0940043926239014, -0.35581666231155396, 0.2287565916776657, 0.28241202235221863, 0.17485669255256653, -0.38538041710853577, 0.18157796561717987, -0.08088186383247375, 0.05545905977487564, -0.06882109493017197, 0.12136437743902206, 0.015364964492619038, 0.26355239748954773, -0.7390785813331604, 0.032970722764730453, 0.14050021767616272, 0.049287959933280945, -0.016484335064888, 0.21489664912223816, 0.08054451644420624, 0.9126025438308716, -0.05261304974555969, 0.04990953579545021, 0.3214605748653412, -0.22022905945777893, -0.08159999549388885, -0.03592170029878616, -0.12700363993644714, -0.15067796409130096, 0.3620164394378662, 0.01881999336183071, 0.12113864719867706, -0.30112677812576294, -0.49391263723373413, -0.11360452324151993, -0.05841977521777153, 1.1811144351959229, 0.279354453086853, -0.14776794612407684, 0.04571900889277458, 0.6750399470329285, 0.2640365958213806, 0.12300647795200348, 0.37838980555534363, 0.27377644181251526, 0.08121258020401001, 0.020045429468154907, 0.18858899176120758, 0.04800628498196602, 0.19495148956775665, -0.020939340814948082, 0.9237302541732788, 0.07548090070486069, -2.8084347248077393, -0.13339963555335999, 0.07424749433994293, 0.4079417586326599, -0.08361256867647171, -0.10666532814502716, 0.005223715212196112, -0.08660627901554108, -0.06145244091749191, -0.1368977427482605, -1.3786300420761108, -0.05990152433514595, 0.16281595826148987, 0.3300366997718811, 0.2122117578983307, -0.11421667039394379, 1.4421210289001465, -0.09887097775936127, -0.34889093041419983, -0.14825326204299927, -0.29758235812187195, 0.07790578901767731, 1.0622557401657104, 0.3250380754470825, 0.05671387165784836, 0.17047370970249176, 0.2784560024738312, -0.19619405269622803, -0.03533642739057541, 0.149274542927742, 0.21168053150177002, 0.3925965130329132, -0.10366694629192352, -0.07195068895816803, 0.01236270647495985, 0.10905655473470688, -0.05982889607548714, -0.3310164511203766, 0.07727210223674774, 0.07205770909786224, 0.03281846642494202, 0.17646077275276184, -0.40649089217185974, -0.09234783053398132, -1.1129175424575806, -0.14118614792823792, 0.10248599946498871, 0.059824228286743164, 0.05786170810461044, 0.1294005811214447, -0.041588593274354935, 0.04957816004753113, -0.2252466231584549, -0.34224891662597656, -0.15186558663845062, 0.29964548349380493, -0.17659685015678406, 0.06461700052022934, -0.06756949424743652, 0.006367960479110479, 0.2810344099998474, -2.194427967071533, -0.23504669964313507, -0.10848363488912582, -0.1684708595275879, 0.13322347402572632, -0.08551107347011566, 0.4330773949623108, -0.061373353004455566, -0.7454625368118286, 0.23320813477039337, -0.027858316898345947, 1.3330543041229248, 0.1789884865283966, 0.2852787375450134, 0.13875648379325867, -0.6748566031455994, 0.26500529050827026, -0.022995153442025185, -0.03208864480257034, 0.6487931609153748, -0.13026152551174164, 0.04163169488310814, 0.18897122144699097, 0.2346160113811493, 0.12764060497283936, 0.08278470486402512, 0.673073947429657, 1.152441382408142, 0.0032196000684052706, -0.31981712579727173, 0.41703662276268005, 0.2282857894897461, -0.18436546623706818, 0.01557178795337677, -0.3691944479942322, -0.40933436155319214, 0.002766734454780817, 0.17629674077033997, 0.2964927554130554, -0.02161957509815693, 0.037832923233509064, 2.5580453872680664, 0.12380404770374298, -0.06651247292757034, 0.21525231003761292, -0.15942636132240295, -0.16798362135887146, -0.12414233386516571, 0.2175949513912201, 0.29759177565574646, 1.976746916770935, 0.9714895486831665, -0.12522824108600616, 0.15655341744422913, -0.26716139912605286, 0.1001909002661705, -0.2924821972846985, 0.07804785668849945, 0.02418925240635872, -0.510522186756134, 1.5975456237792969, -0.8525163531303406, 0.034195542335510254, 0.18628433346748352, -0.5369281768798828, 2.3093345165252686, -0.274554967880249, -0.09675438702106476, -0.15343020856380463, -0.2031596451997757, -0.11011586338281631, -0.19502928853034973, -0.04015959054231644, -0.20473161339759827, 0.21694347262382507, 0.12364497035741806, -0.2999493479728699, 0.537675142288208, 0.39215508103370667, 0.5453771352767944, 0.8328760266304016, 0.07495929300785065, 0.17652907967567444, -0.07977205514907837, -0.15298300981521606, -0.22511723637580872, -0.03271292895078659, 0.794228196144104, 0.1900850236415863, 2.0797617435455322, 0.8422225713729858, -0.12129441648721695, 0.07414712756872177, -0.19731387495994568, 1.377180814743042, 2.5845601558685303, 0.3526725769042969, 0.07627178728580475, 0.07334836572408676, 0.19805805385112762, -0.07894580066204071, -0.3417758047580719, -0.3913193941116333, 0.35347720980644226, -0.36480605602264404, -0.06128181144595146, -1.2364165782928467, 0.041558362543582916, -0.6944893598556519, 0.045126259326934814, 0.3612704277038574, 0.09978915005922318, 0.10660503059625626, -0.20094899833202362, -0.07222910225391388, 0.48409169912338257, 0.03310074657201767, 0.19742928445339203, -1.524871826171875, -0.7575505971908569, -0.378640353679657, 0.4189012944698334, 0.1489199548959732, -0.14768937230110168, 0.0007540896767750382, -2.140183210372925, 0.12470219284296036, -0.15251657366752625, -0.008141221478581429, -0.2143704891204834, -0.1758565902709961, 0.4513072073459625, 0.5072259902954102, 0.029372841119766235, -0.041352905333042145, -0.18418726325035095, -0.6694493889808655, -0.3323388695716858, -0.526039719581604, 0.31691762804985046, 0.0717814564704895, 0.4934677183628082, 0.1588030606508255, -0.48876523971557617, 0.05894089490175247, 0.0250681284815073, -0.5485509634017944, -0.04733387008309364, 1.0787779092788696, 0.04882184788584709, -0.43913307785987854, -0.39128410816192627, 0.7850432395935059, 0.21061360836029053, 0.2016172707080841, 0.054766129702329636, -0.27058106660842896, -0.07115162909030914, -0.1784903109073639, 0.053514011204242706, 0.7477368116378784, -0.5849556922912598, -0.03479404002428055, 0.380178838968277, -0.04429858550429344, -0.14278960227966309, -0.15362857282161713, 0.226913720369339, -0.10691225528717041, -0.14337603747844696, 0.03615572303533554, -0.3107328414916992, -0.14712776243686676, -0.6898961067199707, -0.06543140858411789, -0.13010036945343018, 0.6196622252464294, 0.21508583426475525, -0.030690748244524002, -0.21012476086616516, 0.24348124861717224, -0.3777998089790344, 0.3833725154399872, -0.22000601887702942, -0.12907114624977112, 0.5880939960479736, -0.08310757577419281, 0.22546878457069397, 0.09974169731140137, -0.20498616993427277, -0.060256101191043854, 0.12967732548713684, -0.11586878448724747, -0.3614608645439148, 0.06920124590396881, -0.13097693026065826, -0.4344346523284912, 1.0801489353179932, -0.07926425337791443, -0.16789790987968445, -0.48862189054489136, 0.2606957256793976, -0.529914140701294, 0.019184447824954987, -0.022628752514719963, -0.0451868437230587, 0.05976349115371704, -0.07532285153865814, 0.7221088409423828, -0.1661049872636795, -1.2692049741744995, 0.2987208664417267, 0.7447744607925415, -0.17119485139846802, -0.45513877272605896, -0.2837750017642975, 0.30302131175994873, 0.22532156109809875, -0.3950425386428833, 1.2678139209747314, 0.17047935724258423, 0.06753773242235184, 0.1264677345752716, -0.7640751004219055, 0.06423575431108475, -0.2029784619808197, -0.2461487501859665, 0.023533489555120468, -0.23495134711265564, -0.7520766854286194, -0.39388856291770935, -0.10754833370447159, -0.0028265775181353092, 0.32548099756240845, 0.05600803345441818, 0.006070371717214584, 0.425445020198822, 0.008159516379237175, 0.09741921722888947, -0.06465401500463486, -0.09193773567676544, -0.11152876913547516, -0.18230204284191132, -0.2826194167137146, 0.26235729455947876, -0.2176004946231842, 0.09274214506149292, 0.025961533188819885, 0.2454901486635208, 0.2551748752593994, 1.7297122478485107, -0.17273706197738647, 0.018447058275341988, 0.1332986205816269, 0.07000520825386047, -0.16895927488803864, -1.0404350757598877, 0.1728324145078659, 0.030044665560126305, 0.04294769838452339, -0.4115559458732605, 0.03408432751893997, -0.6852067708969116, -0.6877000331878662, 0.31522801518440247, 0.22904953360557556, -0.006601549685001373, -0.4663937985897064, -0.3488370180130005, 0.24340777099132538, 0.1177741065621376, -0.3240959048271179, 0.4284912943840027, -0.17304497957229614, -0.5682852864265442, 0.04589992016553879, -0.11948654800653458, -0.3695988953113556, -0.09382198750972748, -0.08730275928974152, 0.02153455838561058, -0.09995632618665695, 2.0106568336486816, 0.3942014276981354, 0.019927913323044777, 0.2557238042354584, -1.5520156621932983, -0.035303760319948196, 0.06386794149875641, -0.3024349808692932, 0.6437506675720215, 0.07989147305488586, -0.1804879605770111, 0.06847546994686127, -0.019712310284376144, -1.061781883239746, -0.06149984523653984, -1.0854344367980957, 0.052699048072099686, 0.25367414951324463, -0.215886190533638, 0.8834463357925415, -0.9433774948120117, 0.6214916110038757, -0.13197112083435059, 1.1340991258621216, -0.4165725111961365, 0.0541301965713501, -0.10664208233356476, -0.19501620531082153, -0.06710276752710342, -0.14583691954612732, 0.9247421026229858, -0.13244235515594482, -0.1449989378452301, -0.0960698127746582], \"yaxis\": \"y2\"}],\n",
       "                        {\"template\": {\"data\": {\"bar\": [{\"error_x\": {\"color\": \"#2a3f5f\"}, \"error_y\": {\"color\": \"#2a3f5f\"}, \"marker\": {\"line\": {\"color\": \"#E5ECF6\", \"width\": 0.5}}, \"type\": \"bar\"}], \"barpolar\": [{\"marker\": {\"line\": {\"color\": \"#E5ECF6\", \"width\": 0.5}}, \"type\": \"barpolar\"}], \"carpet\": [{\"aaxis\": {\"endlinecolor\": \"#2a3f5f\", \"gridcolor\": \"white\", \"linecolor\": \"white\", \"minorgridcolor\": \"white\", \"startlinecolor\": \"#2a3f5f\"}, \"baxis\": {\"endlinecolor\": \"#2a3f5f\", \"gridcolor\": \"white\", \"linecolor\": \"white\", \"minorgridcolor\": \"white\", \"startlinecolor\": \"#2a3f5f\"}, \"type\": \"carpet\"}], \"choropleth\": [{\"colorbar\": {\"outlinewidth\": 0, \"ticks\": \"\"}, \"type\": \"choropleth\"}], \"contour\": [{\"colorbar\": {\"outlinewidth\": 0, \"ticks\": \"\"}, \"colorscale\": [[0.0, \"#0d0887\"], [0.1111111111111111, \"#46039f\"], [0.2222222222222222, \"#7201a8\"], [0.3333333333333333, \"#9c179e\"], [0.4444444444444444, \"#bd3786\"], [0.5555555555555556, \"#d8576b\"], [0.6666666666666666, \"#ed7953\"], [0.7777777777777778, \"#fb9f3a\"], [0.8888888888888888, \"#fdca26\"], [1.0, \"#f0f921\"]], \"type\": \"contour\"}], \"contourcarpet\": [{\"colorbar\": {\"outlinewidth\": 0, \"ticks\": \"\"}, \"type\": \"contourcarpet\"}], \"heatmap\": [{\"colorbar\": {\"outlinewidth\": 0, \"ticks\": \"\"}, \"colorscale\": [[0.0, \"#0d0887\"], [0.1111111111111111, \"#46039f\"], [0.2222222222222222, \"#7201a8\"], [0.3333333333333333, \"#9c179e\"], [0.4444444444444444, \"#bd3786\"], [0.5555555555555556, \"#d8576b\"], [0.6666666666666666, \"#ed7953\"], [0.7777777777777778, \"#fb9f3a\"], [0.8888888888888888, \"#fdca26\"], [1.0, \"#f0f921\"]], \"type\": \"heatmap\"}], \"heatmapgl\": [{\"colorbar\": {\"outlinewidth\": 0, \"ticks\": \"\"}, \"colorscale\": [[0.0, \"#0d0887\"], [0.1111111111111111, \"#46039f\"], [0.2222222222222222, \"#7201a8\"], [0.3333333333333333, \"#9c179e\"], [0.4444444444444444, \"#bd3786\"], [0.5555555555555556, \"#d8576b\"], [0.6666666666666666, \"#ed7953\"], [0.7777777777777778, \"#fb9f3a\"], [0.8888888888888888, \"#fdca26\"], [1.0, \"#f0f921\"]], \"type\": \"heatmapgl\"}], \"histogram\": [{\"marker\": {\"colorbar\": {\"outlinewidth\": 0, \"ticks\": \"\"}}, \"type\": \"histogram\"}], \"histogram2d\": [{\"colorbar\": {\"outlinewidth\": 0, \"ticks\": \"\"}, \"colorscale\": [[0.0, \"#0d0887\"], [0.1111111111111111, \"#46039f\"], [0.2222222222222222, \"#7201a8\"], [0.3333333333333333, \"#9c179e\"], [0.4444444444444444, \"#bd3786\"], [0.5555555555555556, \"#d8576b\"], [0.6666666666666666, \"#ed7953\"], [0.7777777777777778, \"#fb9f3a\"], [0.8888888888888888, \"#fdca26\"], [1.0, \"#f0f921\"]], \"type\": \"histogram2d\"}], \"histogram2dcontour\": [{\"colorbar\": {\"outlinewidth\": 0, \"ticks\": \"\"}, \"colorscale\": [[0.0, \"#0d0887\"], [0.1111111111111111, \"#46039f\"], [0.2222222222222222, \"#7201a8\"], [0.3333333333333333, \"#9c179e\"], [0.4444444444444444, \"#bd3786\"], [0.5555555555555556, \"#d8576b\"], [0.6666666666666666, \"#ed7953\"], [0.7777777777777778, \"#fb9f3a\"], [0.8888888888888888, \"#fdca26\"], [1.0, \"#f0f921\"]], \"type\": \"histogram2dcontour\"}], \"mesh3d\": [{\"colorbar\": {\"outlinewidth\": 0, \"ticks\": \"\"}, \"type\": \"mesh3d\"}], \"parcoords\": [{\"line\": {\"colorbar\": {\"outlinewidth\": 0, \"ticks\": \"\"}}, \"type\": \"parcoords\"}], \"pie\": [{\"automargin\": true, \"type\": \"pie\"}], \"scatter\": [{\"marker\": {\"colorbar\": {\"outlinewidth\": 0, \"ticks\": \"\"}}, \"type\": \"scatter\"}], \"scatter3d\": [{\"line\": {\"colorbar\": {\"outlinewidth\": 0, \"ticks\": \"\"}}, \"marker\": {\"colorbar\": {\"outlinewidth\": 0, \"ticks\": \"\"}}, \"type\": \"scatter3d\"}], \"scattercarpet\": [{\"marker\": {\"colorbar\": {\"outlinewidth\": 0, \"ticks\": \"\"}}, \"type\": \"scattercarpet\"}], \"scattergeo\": [{\"marker\": {\"colorbar\": {\"outlinewidth\": 0, \"ticks\": \"\"}}, \"type\": \"scattergeo\"}], \"scattergl\": [{\"marker\": {\"colorbar\": {\"outlinewidth\": 0, \"ticks\": \"\"}}, \"type\": \"scattergl\"}], \"scattermapbox\": [{\"marker\": {\"colorbar\": {\"outlinewidth\": 0, \"ticks\": \"\"}}, \"type\": \"scattermapbox\"}], \"scatterpolar\": [{\"marker\": {\"colorbar\": {\"outlinewidth\": 0, \"ticks\": \"\"}}, \"type\": \"scatterpolar\"}], \"scatterpolargl\": [{\"marker\": {\"colorbar\": {\"outlinewidth\": 0, \"ticks\": \"\"}}, \"type\": \"scatterpolargl\"}], \"scatterternary\": [{\"marker\": {\"colorbar\": {\"outlinewidth\": 0, \"ticks\": \"\"}}, \"type\": \"scatterternary\"}], \"surface\": [{\"colorbar\": {\"outlinewidth\": 0, \"ticks\": \"\"}, \"colorscale\": [[0.0, \"#0d0887\"], [0.1111111111111111, \"#46039f\"], [0.2222222222222222, \"#7201a8\"], [0.3333333333333333, \"#9c179e\"], [0.4444444444444444, \"#bd3786\"], [0.5555555555555556, \"#d8576b\"], [0.6666666666666666, \"#ed7953\"], [0.7777777777777778, \"#fb9f3a\"], [0.8888888888888888, \"#fdca26\"], [1.0, \"#f0f921\"]], \"type\": \"surface\"}], \"table\": [{\"cells\": {\"fill\": {\"color\": \"#EBF0F8\"}, \"line\": {\"color\": \"white\"}}, \"header\": {\"fill\": {\"color\": \"#C8D4E3\"}, \"line\": {\"color\": \"white\"}}, \"type\": \"table\"}]}, \"layout\": {\"annotationdefaults\": {\"arrowcolor\": \"#2a3f5f\", \"arrowhead\": 0, \"arrowwidth\": 1}, \"coloraxis\": {\"colorbar\": {\"outlinewidth\": 0, \"ticks\": \"\"}}, \"colorscale\": {\"diverging\": [[0, \"#8e0152\"], [0.1, \"#c51b7d\"], [0.2, \"#de77ae\"], [0.3, \"#f1b6da\"], [0.4, \"#fde0ef\"], [0.5, \"#f7f7f7\"], [0.6, \"#e6f5d0\"], [0.7, \"#b8e186\"], [0.8, \"#7fbc41\"], [0.9, \"#4d9221\"], [1, \"#276419\"]], \"sequential\": [[0.0, \"#0d0887\"], [0.1111111111111111, \"#46039f\"], [0.2222222222222222, \"#7201a8\"], [0.3333333333333333, \"#9c179e\"], [0.4444444444444444, \"#bd3786\"], [0.5555555555555556, \"#d8576b\"], [0.6666666666666666, \"#ed7953\"], [0.7777777777777778, \"#fb9f3a\"], [0.8888888888888888, \"#fdca26\"], [1.0, \"#f0f921\"]], \"sequentialminus\": [[0.0, \"#0d0887\"], [0.1111111111111111, \"#46039f\"], [0.2222222222222222, \"#7201a8\"], [0.3333333333333333, \"#9c179e\"], [0.4444444444444444, \"#bd3786\"], [0.5555555555555556, \"#d8576b\"], [0.6666666666666666, \"#ed7953\"], [0.7777777777777778, \"#fb9f3a\"], [0.8888888888888888, \"#fdca26\"], [1.0, \"#f0f921\"]]}, \"colorway\": [\"#636efa\", \"#EF553B\", \"#00cc96\", \"#ab63fa\", \"#FFA15A\", \"#19d3f3\", \"#FF6692\", \"#B6E880\", \"#FF97FF\", \"#FECB52\"], \"font\": {\"color\": \"#2a3f5f\"}, \"geo\": {\"bgcolor\": \"white\", \"lakecolor\": \"white\", \"landcolor\": \"#E5ECF6\", \"showlakes\": true, \"showland\": true, \"subunitcolor\": \"white\"}, \"hoverlabel\": {\"align\": \"left\"}, \"hovermode\": \"closest\", \"mapbox\": {\"style\": \"light\"}, \"paper_bgcolor\": \"white\", \"plot_bgcolor\": \"#E5ECF6\", \"polar\": {\"angularaxis\": {\"gridcolor\": \"white\", \"linecolor\": \"white\", \"ticks\": \"\"}, \"bgcolor\": \"#E5ECF6\", \"radialaxis\": {\"gridcolor\": \"white\", \"linecolor\": \"white\", \"ticks\": \"\"}}, \"scene\": {\"xaxis\": {\"backgroundcolor\": \"#E5ECF6\", \"gridcolor\": \"white\", \"gridwidth\": 2, \"linecolor\": \"white\", \"showbackground\": true, \"ticks\": \"\", \"zerolinecolor\": \"white\"}, \"yaxis\": {\"backgroundcolor\": \"#E5ECF6\", \"gridcolor\": \"white\", \"gridwidth\": 2, \"linecolor\": \"white\", \"showbackground\": true, \"ticks\": \"\", \"zerolinecolor\": \"white\"}, \"zaxis\": {\"backgroundcolor\": \"#E5ECF6\", \"gridcolor\": \"white\", \"gridwidth\": 2, \"linecolor\": \"white\", \"showbackground\": true, \"ticks\": \"\", \"zerolinecolor\": \"white\"}}, \"shapedefaults\": {\"line\": {\"color\": \"#2a3f5f\"}}, \"ternary\": {\"aaxis\": {\"gridcolor\": \"white\", \"linecolor\": \"white\", \"ticks\": \"\"}, \"baxis\": {\"gridcolor\": \"white\", \"linecolor\": \"white\", \"ticks\": \"\"}, \"bgcolor\": \"#E5ECF6\", \"caxis\": {\"gridcolor\": \"white\", \"linecolor\": \"white\", \"ticks\": \"\"}}, \"title\": {\"x\": 0.05}, \"xaxis\": {\"automargin\": true, \"gridcolor\": \"white\", \"linecolor\": \"white\", \"ticks\": \"\", \"title\": {\"standoff\": 15}, \"zerolinecolor\": \"white\", \"zerolinewidth\": 2}, \"yaxis\": {\"automargin\": true, \"gridcolor\": \"white\", \"linecolor\": \"white\", \"ticks\": \"\", \"title\": {\"standoff\": 15}, \"zerolinecolor\": \"white\", \"zerolinewidth\": 2}}}, \"title\": {\"text\": \"Feature mean by positive & negative examples for bn1 layer\"}, \"yaxis\": {\"tickfont\": {\"color\": \"#9467bd\"}, \"title\": {\"font\": {\"color\": \"#9467bd\"}, \"text\": \"positive\"}}, \"yaxis2\": {\"overlaying\": \"y\", \"side\": \"right\", \"tickfont\": {\"color\": \"#F08B00\"}, \"title\": {\"font\": {\"color\": \"#F08B00\"}, \"text\": \"negative\"}}},\n",
       "                        {\"responsive\": true}\n",
       "                    ).then(function(){\n",
       "                            \n",
       "var gd = document.getElementById('fb8dc9d5-6a1e-4cb1-a2d4-952d2c1d7bd7');\n",
       "var x = new MutationObserver(function (mutations, observer) {{\n",
       "        var display = window.getComputedStyle(gd).display;\n",
       "        if (!display || display === 'none') {{\n",
       "            console.log([gd, 'removed!']);\n",
       "            Plotly.purge(gd);\n",
       "            observer.disconnect();\n",
       "        }}\n",
       "}});\n",
       "\n",
       "// Listen for the removal of the full notebook cells\n",
       "var notebookContainer = gd.closest('#notebook-container');\n",
       "if (notebookContainer) {{\n",
       "    x.observe(notebookContainer, {childList: true});\n",
       "}}\n",
       "\n",
       "// Listen for the clearing of the current output cell\n",
       "var outputEl = gd.closest('.output');\n",
       "if (outputEl) {{\n",
       "    x.observe(outputEl, {childList: true});\n",
       "}}\n",
       "\n",
       "                        })\n",
       "                };\n",
       "                });\n",
       "            </script>\n",
       "        </div>"
      ]
     },
     "metadata": {},
     "output_type": "display_data"
    }
   ],
   "source": [
    "plot_scatter_intermediate_outputs_multitrace(\n",
    "    pos_out_mean, neg_out_mean, 'positive', 'negative',\n",
    "    'Feature mean by positive & negative examples for {} layer'.format(\n",
    "        layer_name))"
   ]
  },
  {
   "cell_type": "markdown",
   "metadata": {},
   "source": [
    "#### lin1"
   ]
  },
  {
   "cell_type": "code",
   "execution_count": 81,
   "metadata": {},
   "outputs": [],
   "source": [
    "layer_name = 'lin1'"
   ]
  },
  {
   "cell_type": "code",
   "execution_count": 82,
   "metadata": {},
   "outputs": [
    {
     "name": "stdout",
     "output_type": "stream",
     "text": [
      "(10, 300)\n",
      "(300,)\n",
      "(10, 300)\n",
      "(300,)\n"
     ]
    }
   ],
   "source": [
    "# feature mean\n",
    "pos_out_mean, neg_out_mean = get_mean_metrics_for_visualization(\n",
    "    positive_example_outs, negative_example_outs, layer_name, 'feature')"
   ]
  },
  {
   "cell_type": "code",
   "execution_count": 83,
   "metadata": {},
   "outputs": [
    {
     "data": {
      "application/vnd.plotly.v1+json": {
       "config": {
        "plotlyServerURL": "https://plot.ly"
       },
       "data": [
        {
         "line": {
          "color": "#9467bd"
         },
         "name": "positive",
         "type": "scatter",
         "x": [
          0,
          1,
          2,
          3,
          4,
          5,
          6,
          7,
          8,
          9,
          10,
          11,
          12,
          13,
          14,
          15,
          16,
          17,
          18,
          19,
          20,
          21,
          22,
          23,
          24,
          25,
          26,
          27,
          28,
          29,
          30,
          31,
          32,
          33,
          34,
          35,
          36,
          37,
          38,
          39,
          40,
          41,
          42,
          43,
          44,
          45,
          46,
          47,
          48,
          49,
          50,
          51,
          52,
          53,
          54,
          55,
          56,
          57,
          58,
          59,
          60,
          61,
          62,
          63,
          64,
          65,
          66,
          67,
          68,
          69,
          70,
          71,
          72,
          73,
          74,
          75,
          76,
          77,
          78,
          79,
          80,
          81,
          82,
          83,
          84,
          85,
          86,
          87,
          88,
          89,
          90,
          91,
          92,
          93,
          94,
          95,
          96,
          97,
          98,
          99,
          100,
          101,
          102,
          103,
          104,
          105,
          106,
          107,
          108,
          109,
          110,
          111,
          112,
          113,
          114,
          115,
          116,
          117,
          118,
          119,
          120,
          121,
          122,
          123,
          124,
          125,
          126,
          127,
          128,
          129,
          130,
          131,
          132,
          133,
          134,
          135,
          136,
          137,
          138,
          139,
          140,
          141,
          142,
          143,
          144,
          145,
          146,
          147,
          148,
          149,
          150,
          151,
          152,
          153,
          154,
          155,
          156,
          157,
          158,
          159,
          160,
          161,
          162,
          163,
          164,
          165,
          166,
          167,
          168,
          169,
          170,
          171,
          172,
          173,
          174,
          175,
          176,
          177,
          178,
          179,
          180,
          181,
          182,
          183,
          184,
          185,
          186,
          187,
          188,
          189,
          190,
          191,
          192,
          193,
          194,
          195,
          196,
          197,
          198,
          199,
          200,
          201,
          202,
          203,
          204,
          205,
          206,
          207,
          208,
          209,
          210,
          211,
          212,
          213,
          214,
          215,
          216,
          217,
          218,
          219,
          220,
          221,
          222,
          223,
          224,
          225,
          226,
          227,
          228,
          229,
          230,
          231,
          232,
          233,
          234,
          235,
          236,
          237,
          238,
          239,
          240,
          241,
          242,
          243,
          244,
          245,
          246,
          247,
          248,
          249,
          250,
          251,
          252,
          253,
          254,
          255,
          256,
          257,
          258,
          259,
          260,
          261,
          262,
          263,
          264,
          265,
          266,
          267,
          268,
          269,
          270,
          271,
          272,
          273,
          274,
          275,
          276,
          277,
          278,
          279,
          280,
          281,
          282,
          283,
          284,
          285,
          286,
          287,
          288,
          289,
          290,
          291,
          292,
          293,
          294,
          295,
          296,
          297,
          298,
          299
         ],
         "y": [
          -61.94340896606445,
          -152.06285095214844,
          -259.83428955078125,
          -240.2637481689453,
          -45.609004974365234,
          -196.1116180419922,
          21.09268569946289,
          -30.1828670501709,
          -96.06937408447266,
          -135.1988983154297,
          -117.9243392944336,
          -152.63247680664062,
          -146.7813262939453,
          -183.58816528320312,
          -159.4359588623047,
          -15.96770191192627,
          -193.41009521484375,
          -152.79257202148438,
          -99.57990264892578,
          -92.40452575683594,
          -123.20927429199219,
          -153.72134399414062,
          17.439682006835938,
          -148.5133819580078,
          -77.36480712890625,
          -53.9119873046875,
          30.09897232055664,
          -10.4031343460083,
          -121.25150299072266,
          -196.0767364501953,
          -109.40098571777344,
          -74.00013732910156,
          -174.69554138183594,
          -242.8504638671875,
          -133.98171997070312,
          -156.1337127685547,
          2.569446086883545,
          -266.72662353515625,
          -85.4909896850586,
          -160.52145385742188,
          -24.323850631713867,
          -163.2164306640625,
          -22.034526824951172,
          -0.33611756563186646,
          -84.26890563964844,
          142.81900024414062,
          -241.3004150390625,
          -111.0854721069336,
          -150.91650390625,
          -27.64693832397461,
          -40.492149353027344,
          -41.377540588378906,
          -5.988334655761719,
          -102.9990005493164,
          1.959188461303711,
          -256.611572265625,
          -183.86839294433594,
          -68.36663818359375,
          71.20928192138672,
          -153.4882049560547,
          -129.97750854492188,
          -97.08378601074219,
          -146.6859893798828,
          -141.571533203125,
          5.684924125671387,
          -100.4789810180664,
          -91.73575592041016,
          -201.76651000976562,
          -59.74486541748047,
          -285.5106506347656,
          -89.55313873291016,
          9.550962448120117,
          -91.80389404296875,
          154.6649169921875,
          -76.56092834472656,
          -118.4061279296875,
          58.89216995239258,
          -18.49679946899414,
          115.00566101074219,
          195.96922302246094,
          -85.56777954101562,
          -162.5205535888672,
          -176.1158447265625,
          -94.6862564086914,
          -269.16510009765625,
          -62.59419631958008,
          -190.4399871826172,
          -109.59844970703125,
          -125.0207748413086,
          -68.10194396972656,
          -285.17352294921875,
          -176.12228393554688,
          -100.33314514160156,
          -57.24660110473633,
          87.80293273925781,
          54.54705810546875,
          92.56156921386719,
          -123.855224609375,
          -138.67562866210938,
          -97.79557037353516,
          -60.5565185546875,
          -73.27324676513672,
          -202.34202575683594,
          3.5622398853302,
          -0.025308609008789062,
          -16.919445037841797,
          22.330944061279297,
          -84.8320541381836,
          -67.99441528320312,
          -67.43878936767578,
          -134.99874877929688,
          -102.25222778320312,
          -162.25192260742188,
          -92.80327606201172,
          -71.57604217529297,
          -80.50926971435547,
          -106.72122955322266,
          -57.48241424560547,
          32.4187126159668,
          -260.726806640625,
          -162.2465057373047,
          -218.1749267578125,
          -97.1878433227539,
          -39.79828643798828,
          -220.17886352539062,
          -80.67765808105469,
          -210.86727905273438,
          -7.1011505126953125,
          -91.6255874633789,
          92.56996154785156,
          9.227485656738281,
          -268.31585693359375,
          -125.72591400146484,
          -169.44989013671875,
          -139.79421997070312,
          -96.6421890258789,
          -177.8283233642578,
          -23.001277923583984,
          -80.97350311279297,
          63.058067321777344,
          -96.697265625,
          25.802265167236328,
          26.7454833984375,
          -116.83546447753906,
          -130.3272705078125,
          -63.26027297973633,
          -124.28658294677734,
          -167.12527465820312,
          -258.04547119140625,
          -106.63645935058594,
          -88.63758087158203,
          -143.43406677246094,
          -164.1669464111328,
          -38.442867279052734,
          -107.62815856933594,
          -146.87484741210938,
          -57.75160598754883,
          -71.6197509765625,
          -24.778480529785156,
          -82.49146270751953,
          19.367605209350586,
          -118.15516662597656,
          -151.16470336914062,
          26.337261199951172,
          -114.4132308959961,
          -150.8073272705078,
          -70.5289077758789,
          -1.1897695064544678,
          33.11638641357422,
          -116.02043151855469,
          -104.25382232666016,
          62.78495407104492,
          -83.26566314697266,
          4.055164337158203,
          -48.39531707763672,
          -71.63251495361328,
          -19.358610153198242,
          -193.07095336914062,
          -94.67041015625,
          41.44829559326172,
          -55.91718673706055,
          -133.62139892578125,
          -106.8110122680664,
          -33.468894958496094,
          -161.78372192382812,
          -95.96464538574219,
          43.683876037597656,
          -7.839285850524902,
          -84.76065826416016,
          -84.2745590209961,
          -138.77659606933594,
          23.0198917388916,
          -215.96914672851562,
          -143.50210571289062,
          -48.960357666015625,
          -65.85311126708984,
          -63.5753173828125,
          -45.89823532104492,
          -135.55062866210938,
          26.051990509033203,
          -236.89828491210938,
          -93.52577209472656,
          -100.53282928466797,
          -103.6324462890625,
          174.25411987304688,
          -253.9342803955078,
          -170.604736328125,
          -60.520538330078125,
          -82.10494232177734,
          -112.26643371582031,
          55.64118576049805,
          -67.79558563232422,
          27.866281509399414,
          -141.79306030273438,
          -84.14886474609375,
          -37.85819625854492,
          -82.99774932861328,
          34.272403717041016,
          -164.36135864257812,
          -110.7979736328125,
          -104.90191650390625,
          -42.62278747558594,
          39.087345123291016,
          -223.23654174804688,
          -28.555553436279297,
          17.726520538330078,
          -74.54617309570312,
          -114.69004821777344,
          -49.47078323364258,
          14.722125053405762,
          -100.3698959350586,
          -29.323322296142578,
          52.384010314941406,
          -141.94644165039062,
          -100.90375518798828,
          -139.16744995117188,
          -64.82826232910156,
          -3.77983021736145,
          -138.08700561523438,
          -48.82368087768555,
          11.693231582641602,
          -102.51377868652344,
          -183.2894287109375,
          -11.666498184204102,
          23.036212921142578,
          -62.88665771484375,
          -71.6567153930664,
          -145.1414337158203,
          -2.733102321624756,
          -115.47477722167969,
          -107.3530044555664,
          -78.80492401123047,
          -4.622457027435303,
          -210.7814483642578,
          155.48367309570312,
          -137.79434204101562,
          -133.55859375,
          -164.71902465820312,
          -117.90330505371094,
          105.11228942871094,
          -107.4272689819336,
          -86.23858642578125,
          -48.70488739013672,
          149.3577117919922,
          1.5462875366210938,
          -38.273277282714844,
          -118.02703857421875,
          -158.82858276367188,
          -159.49440002441406,
          -18.74996566772461,
          -122.6716537475586,
          -100.52655792236328,
          -16.963390350341797,
          -290.087646484375,
          -130.6348876953125,
          -66.4276123046875,
          109.02983093261719,
          -73.63088989257812,
          -158.8256378173828,
          156.90719604492188,
          -114.00361633300781,
          32.173099517822266,
          -129.90037536621094,
          -93.34403228759766,
          -156.93008422851562,
          -27.442852020263672,
          156.41954040527344,
          18.578542709350586,
          -98.2149887084961,
          -18.075763702392578,
          -186.9523468017578,
          -134.3224639892578,
          -140.20460510253906,
          -29.272624969482422,
          -221.93759155273438,
          -139.91159057617188,
          -53.2145881652832,
          45.898277282714844,
          -84.07796478271484,
          -124.57828521728516
         ]
        },
        {
         "line": {
          "color": "#F08B00"
         },
         "name": "negative",
         "type": "scatter",
         "x": [
          0,
          1,
          2,
          3,
          4,
          5,
          6,
          7,
          8,
          9,
          10,
          11,
          12,
          13,
          14,
          15,
          16,
          17,
          18,
          19,
          20,
          21,
          22,
          23,
          24,
          25,
          26,
          27,
          28,
          29,
          30,
          31,
          32,
          33,
          34,
          35,
          36,
          37,
          38,
          39,
          40,
          41,
          42,
          43,
          44,
          45,
          46,
          47,
          48,
          49,
          50,
          51,
          52,
          53,
          54,
          55,
          56,
          57,
          58,
          59,
          60,
          61,
          62,
          63,
          64,
          65,
          66,
          67,
          68,
          69,
          70,
          71,
          72,
          73,
          74,
          75,
          76,
          77,
          78,
          79,
          80,
          81,
          82,
          83,
          84,
          85,
          86,
          87,
          88,
          89,
          90,
          91,
          92,
          93,
          94,
          95,
          96,
          97,
          98,
          99,
          100,
          101,
          102,
          103,
          104,
          105,
          106,
          107,
          108,
          109,
          110,
          111,
          112,
          113,
          114,
          115,
          116,
          117,
          118,
          119,
          120,
          121,
          122,
          123,
          124,
          125,
          126,
          127,
          128,
          129,
          130,
          131,
          132,
          133,
          134,
          135,
          136,
          137,
          138,
          139,
          140,
          141,
          142,
          143,
          144,
          145,
          146,
          147,
          148,
          149,
          150,
          151,
          152,
          153,
          154,
          155,
          156,
          157,
          158,
          159,
          160,
          161,
          162,
          163,
          164,
          165,
          166,
          167,
          168,
          169,
          170,
          171,
          172,
          173,
          174,
          175,
          176,
          177,
          178,
          179,
          180,
          181,
          182,
          183,
          184,
          185,
          186,
          187,
          188,
          189,
          190,
          191,
          192,
          193,
          194,
          195,
          196,
          197,
          198,
          199,
          200,
          201,
          202,
          203,
          204,
          205,
          206,
          207,
          208,
          209,
          210,
          211,
          212,
          213,
          214,
          215,
          216,
          217,
          218,
          219,
          220,
          221,
          222,
          223,
          224,
          225,
          226,
          227,
          228,
          229,
          230,
          231,
          232,
          233,
          234,
          235,
          236,
          237,
          238,
          239,
          240,
          241,
          242,
          243,
          244,
          245,
          246,
          247,
          248,
          249,
          250,
          251,
          252,
          253,
          254,
          255,
          256,
          257,
          258,
          259,
          260,
          261,
          262,
          263,
          264,
          265,
          266,
          267,
          268,
          269,
          270,
          271,
          272,
          273,
          274,
          275,
          276,
          277,
          278,
          279,
          280,
          281,
          282,
          283,
          284,
          285,
          286,
          287,
          288,
          289,
          290,
          291,
          292,
          293,
          294,
          295,
          296,
          297,
          298,
          299
         ],
         "y": [
          39.308876037597656,
          -178.06625366210938,
          -334.41802978515625,
          -311.4621276855469,
          12.462610244750977,
          -55.1268196105957,
          -169.25445556640625,
          -235.7759552001953,
          -149.09024047851562,
          -84.09016418457031,
          -43.81351089477539,
          138.48056030273438,
          -131.2473907470703,
          -174.22378540039062,
          28.376144409179688,
          -139.50735473632812,
          -67.88167572021484,
          -32.06111526489258,
          -72.36906433105469,
          142.36019897460938,
          83.88291931152344,
          -196.01344299316406,
          -187.94229125976562,
          -13.599212646484375,
          -117.04267883300781,
          -200.19259643554688,
          -165.31236267089844,
          -240.00424194335938,
          -44.09088897705078,
          -21.43166732788086,
          -99.66136169433594,
          151.01080322265625,
          -165.62525939941406,
          -214.8414306640625,
          -46.17184066772461,
          -28.162078857421875,
          -106.57559967041016,
          -84.73799133300781,
          -54.00279998779297,
          68.85747528076172,
          -73.57556915283203,
          68.40938568115234,
          -231.54483032226562,
          -90.50370788574219,
          94.87161254882812,
          -81.74995422363281,
          -178.47750854492188,
          144.87295532226562,
          -160.79327392578125,
          -255.3549041748047,
          -238.7672882080078,
          -53.40093231201172,
          214.4927215576172,
          -174.4621124267578,
          -116.81197357177734,
          -140.681396484375,
          -128.12135314941406,
          -249.9170684814453,
          334.11688232421875,
          95.32652282714844,
          -73.54713439941406,
          125.82830810546875,
          123.36308288574219,
          161.12643432617188,
          -164.4556427001953,
          -228.7435302734375,
          164.6025848388672,
          -115.47428131103516,
          84.5550765991211,
          -124.01344299316406,
          -136.76625061035156,
          -209.03457641601562,
          59.10991287231445,
          -102.8891372680664,
          -254.6123809814453,
          -14.384140014648438,
          285.7289733886719,
          -203.97348022460938,
          -198.3126983642578,
          -137.41590881347656,
          -164.31411743164062,
          -53.34961700439453,
          -24.535358428955078,
          4.5043182373046875,
          -98.0076675415039,
          -116.28955078125,
          -128.53085327148438,
          -36.09981155395508,
          181.8728790283203,
          161.57015991210938,
          -127.2054443359375,
          -31.10247230529785,
          45.65230941772461,
          50.43024826049805,
          -175.7243194580078,
          -265.8299255371094,
          -212.9135284423828,
          -150.0083465576172,
          -174.75277709960938,
          -136.2522430419922,
          -180.3438720703125,
          -172.21530151367188,
          -137.10427856445312,
          -169.231689453125,
          -83.90541076660156,
          -48.87331008911133,
          -156.75115966796875,
          6.889172554016113,
          -189.54330444335938,
          45.28998565673828,
          -9.378118515014648,
          -136.12625122070312,
          -206.824462890625,
          37.5784797668457,
          -147.95082092285156,
          201.00198364257812,
          -70.6568374633789,
          -190.05149841308594,
          341.0669250488281,
          -256.5327453613281,
          31.83627700805664,
          -74.15652465820312,
          -165.10934448242188,
          175.64169311523438,
          -127.41092681884766,
          167.0171661376953,
          -86.2759017944336,
          216.03500366210938,
          83.18731689453125,
          -107.90235900878906,
          245.5144805908203,
          -265.83770751953125,
          143.49551391601562,
          -213.47494506835938,
          165.63204956054688,
          -121.98576354980469,
          -107.37214660644531,
          -70.22167205810547,
          138.9428253173828,
          -189.25079345703125,
          -134.8954315185547,
          -206.16943359375,
          -134.48890686035156,
          142.8974151611328,
          41.914466857910156,
          144.16246032714844,
          -323.1422119140625,
          44.35253143310547,
          -48.54377365112305,
          -84.4920654296875,
          -164.8948516845703,
          104.12701416015625,
          -161.438232421875,
          188.52484130859375,
          -133.48069763183594,
          -153.39181518554688,
          -199.36080932617188,
          -7.065828800201416,
          -239.01077270507812,
          -255.98828125,
          -215.61953735351562,
          62.2962532043457,
          -51.4256477355957,
          -143.0234375,
          -53.261756896972656,
          -81.29939270019531,
          -137.42787170410156,
          -219.95034790039062,
          -170.5366973876953,
          -213.6088409423828,
          92.90670776367188,
          313.9332580566406,
          82.14646911621094,
          -274.0086975097656,
          -246.379150390625,
          -219.2473602294922,
          -266.9646911621094,
          -128.01853942871094,
          41.10137939453125,
          142.99415588378906,
          -246.09878540039062,
          -194.73745727539062,
          -4.378446578979492,
          213.53359985351562,
          -266.8670349121094,
          -145.75628662109375,
          -219.63162231445312,
          -127.1952896118164,
          -181.9609375,
          -228.4059295654297,
          -196.54226684570312,
          263.73565673828125,
          -159.557373046875,
          37.6601448059082,
          -234.6233367919922,
          -185.01785278320312,
          -83.1965103149414,
          -210.9013671875,
          -4.886776924133301,
          14.03782844543457,
          -267.00897216796875,
          70.09383392333984,
          130.33067321777344,
          -61.783363342285156,
          -186.8717041015625,
          -225.5132293701172,
          -66.53446960449219,
          -222.66006469726562,
          69.44084167480469,
          -27.985652923583984,
          339.80780029296875,
          -175.07330322265625,
          -141.19154357910156,
          -69.67056274414062,
          -103.02445220947266,
          47.526283264160156,
          75.67884826660156,
          -182.82107543945312,
          28.74997901916504,
          77.80632019042969,
          -34.14990997314453,
          116.94510650634766,
          -237.282470703125,
          -207.5316162109375,
          -276.3197937011719,
          2.0616421699523926,
          -161.91018676757812,
          -151.01229858398438,
          -251.5718536376953,
          177.21646118164062,
          96.27979278564453,
          -3.6904540061950684,
          220.17300415039062,
          114.05616760253906,
          21.789453506469727,
          85.71090698242188,
          -171.36105346679688,
          -242.886962890625,
          -161.9807586669922,
          112.73982238769531,
          19.70704460144043,
          72.08470916748047,
          -165.56906127929688,
          -235.3573455810547,
          -198.97293090820312,
          108.0030746459961,
          -205.6251983642578,
          102.72111511230469,
          271.6145935058594,
          20.861976623535156,
          -36.15923309326172,
          -165.66290283203125,
          -178.64511108398438,
          -132.8380889892578,
          -191.34548950195312,
          -178.83944702148438,
          -185.94654846191406,
          13.628949165344238,
          196.05079650878906,
          -141.56451416015625,
          -136.10623168945312,
          -120.18864440917969,
          126.8459701538086,
          -95.21345520019531,
          -192.2984619140625,
          -209.7235107421875,
          135.22994995117188,
          -128.94357299804688,
          10.906637191772461,
          63.891517639160156,
          -87.5273666381836,
          -102.25877380371094,
          -18.7976131439209,
          -101.2870101928711,
          60.41123580932617,
          -171.80038452148438,
          -210.8798370361328,
          -221.54833984375,
          -103.96939849853516,
          -164.67967224121094,
          -131.9091339111328,
          -154.70498657226562,
          -167.6480255126953,
          -96.10234069824219,
          -66.49913787841797,
          -179.45028686523438,
          -142.0140838623047,
          -161.814208984375,
          -159.6027069091797,
          -271.47857666015625,
          -26.72310447692871,
          25.25227928161621,
          -157.4861602783203,
          -206.86184692382812,
          -101.15554809570312,
          42.577030181884766,
          136.6951904296875,
          -217.6806182861328,
          -168.40573120117188,
          -32.819915771484375
         ],
         "yaxis": "y2"
        }
       ],
       "layout": {
        "template": {
         "data": {
          "bar": [
           {
            "error_x": {
             "color": "#2a3f5f"
            },
            "error_y": {
             "color": "#2a3f5f"
            },
            "marker": {
             "line": {
              "color": "#E5ECF6",
              "width": 0.5
             }
            },
            "type": "bar"
           }
          ],
          "barpolar": [
           {
            "marker": {
             "line": {
              "color": "#E5ECF6",
              "width": 0.5
             }
            },
            "type": "barpolar"
           }
          ],
          "carpet": [
           {
            "aaxis": {
             "endlinecolor": "#2a3f5f",
             "gridcolor": "white",
             "linecolor": "white",
             "minorgridcolor": "white",
             "startlinecolor": "#2a3f5f"
            },
            "baxis": {
             "endlinecolor": "#2a3f5f",
             "gridcolor": "white",
             "linecolor": "white",
             "minorgridcolor": "white",
             "startlinecolor": "#2a3f5f"
            },
            "type": "carpet"
           }
          ],
          "choropleth": [
           {
            "colorbar": {
             "outlinewidth": 0,
             "ticks": ""
            },
            "type": "choropleth"
           }
          ],
          "contour": [
           {
            "colorbar": {
             "outlinewidth": 0,
             "ticks": ""
            },
            "colorscale": [
             [
              0,
              "#0d0887"
             ],
             [
              0.1111111111111111,
              "#46039f"
             ],
             [
              0.2222222222222222,
              "#7201a8"
             ],
             [
              0.3333333333333333,
              "#9c179e"
             ],
             [
              0.4444444444444444,
              "#bd3786"
             ],
             [
              0.5555555555555556,
              "#d8576b"
             ],
             [
              0.6666666666666666,
              "#ed7953"
             ],
             [
              0.7777777777777778,
              "#fb9f3a"
             ],
             [
              0.8888888888888888,
              "#fdca26"
             ],
             [
              1,
              "#f0f921"
             ]
            ],
            "type": "contour"
           }
          ],
          "contourcarpet": [
           {
            "colorbar": {
             "outlinewidth": 0,
             "ticks": ""
            },
            "type": "contourcarpet"
           }
          ],
          "heatmap": [
           {
            "colorbar": {
             "outlinewidth": 0,
             "ticks": ""
            },
            "colorscale": [
             [
              0,
              "#0d0887"
             ],
             [
              0.1111111111111111,
              "#46039f"
             ],
             [
              0.2222222222222222,
              "#7201a8"
             ],
             [
              0.3333333333333333,
              "#9c179e"
             ],
             [
              0.4444444444444444,
              "#bd3786"
             ],
             [
              0.5555555555555556,
              "#d8576b"
             ],
             [
              0.6666666666666666,
              "#ed7953"
             ],
             [
              0.7777777777777778,
              "#fb9f3a"
             ],
             [
              0.8888888888888888,
              "#fdca26"
             ],
             [
              1,
              "#f0f921"
             ]
            ],
            "type": "heatmap"
           }
          ],
          "heatmapgl": [
           {
            "colorbar": {
             "outlinewidth": 0,
             "ticks": ""
            },
            "colorscale": [
             [
              0,
              "#0d0887"
             ],
             [
              0.1111111111111111,
              "#46039f"
             ],
             [
              0.2222222222222222,
              "#7201a8"
             ],
             [
              0.3333333333333333,
              "#9c179e"
             ],
             [
              0.4444444444444444,
              "#bd3786"
             ],
             [
              0.5555555555555556,
              "#d8576b"
             ],
             [
              0.6666666666666666,
              "#ed7953"
             ],
             [
              0.7777777777777778,
              "#fb9f3a"
             ],
             [
              0.8888888888888888,
              "#fdca26"
             ],
             [
              1,
              "#f0f921"
             ]
            ],
            "type": "heatmapgl"
           }
          ],
          "histogram": [
           {
            "marker": {
             "colorbar": {
              "outlinewidth": 0,
              "ticks": ""
             }
            },
            "type": "histogram"
           }
          ],
          "histogram2d": [
           {
            "colorbar": {
             "outlinewidth": 0,
             "ticks": ""
            },
            "colorscale": [
             [
              0,
              "#0d0887"
             ],
             [
              0.1111111111111111,
              "#46039f"
             ],
             [
              0.2222222222222222,
              "#7201a8"
             ],
             [
              0.3333333333333333,
              "#9c179e"
             ],
             [
              0.4444444444444444,
              "#bd3786"
             ],
             [
              0.5555555555555556,
              "#d8576b"
             ],
             [
              0.6666666666666666,
              "#ed7953"
             ],
             [
              0.7777777777777778,
              "#fb9f3a"
             ],
             [
              0.8888888888888888,
              "#fdca26"
             ],
             [
              1,
              "#f0f921"
             ]
            ],
            "type": "histogram2d"
           }
          ],
          "histogram2dcontour": [
           {
            "colorbar": {
             "outlinewidth": 0,
             "ticks": ""
            },
            "colorscale": [
             [
              0,
              "#0d0887"
             ],
             [
              0.1111111111111111,
              "#46039f"
             ],
             [
              0.2222222222222222,
              "#7201a8"
             ],
             [
              0.3333333333333333,
              "#9c179e"
             ],
             [
              0.4444444444444444,
              "#bd3786"
             ],
             [
              0.5555555555555556,
              "#d8576b"
             ],
             [
              0.6666666666666666,
              "#ed7953"
             ],
             [
              0.7777777777777778,
              "#fb9f3a"
             ],
             [
              0.8888888888888888,
              "#fdca26"
             ],
             [
              1,
              "#f0f921"
             ]
            ],
            "type": "histogram2dcontour"
           }
          ],
          "mesh3d": [
           {
            "colorbar": {
             "outlinewidth": 0,
             "ticks": ""
            },
            "type": "mesh3d"
           }
          ],
          "parcoords": [
           {
            "line": {
             "colorbar": {
              "outlinewidth": 0,
              "ticks": ""
             }
            },
            "type": "parcoords"
           }
          ],
          "pie": [
           {
            "automargin": true,
            "type": "pie"
           }
          ],
          "scatter": [
           {
            "marker": {
             "colorbar": {
              "outlinewidth": 0,
              "ticks": ""
             }
            },
            "type": "scatter"
           }
          ],
          "scatter3d": [
           {
            "line": {
             "colorbar": {
              "outlinewidth": 0,
              "ticks": ""
             }
            },
            "marker": {
             "colorbar": {
              "outlinewidth": 0,
              "ticks": ""
             }
            },
            "type": "scatter3d"
           }
          ],
          "scattercarpet": [
           {
            "marker": {
             "colorbar": {
              "outlinewidth": 0,
              "ticks": ""
             }
            },
            "type": "scattercarpet"
           }
          ],
          "scattergeo": [
           {
            "marker": {
             "colorbar": {
              "outlinewidth": 0,
              "ticks": ""
             }
            },
            "type": "scattergeo"
           }
          ],
          "scattergl": [
           {
            "marker": {
             "colorbar": {
              "outlinewidth": 0,
              "ticks": ""
             }
            },
            "type": "scattergl"
           }
          ],
          "scattermapbox": [
           {
            "marker": {
             "colorbar": {
              "outlinewidth": 0,
              "ticks": ""
             }
            },
            "type": "scattermapbox"
           }
          ],
          "scatterpolar": [
           {
            "marker": {
             "colorbar": {
              "outlinewidth": 0,
              "ticks": ""
             }
            },
            "type": "scatterpolar"
           }
          ],
          "scatterpolargl": [
           {
            "marker": {
             "colorbar": {
              "outlinewidth": 0,
              "ticks": ""
             }
            },
            "type": "scatterpolargl"
           }
          ],
          "scatterternary": [
           {
            "marker": {
             "colorbar": {
              "outlinewidth": 0,
              "ticks": ""
             }
            },
            "type": "scatterternary"
           }
          ],
          "surface": [
           {
            "colorbar": {
             "outlinewidth": 0,
             "ticks": ""
            },
            "colorscale": [
             [
              0,
              "#0d0887"
             ],
             [
              0.1111111111111111,
              "#46039f"
             ],
             [
              0.2222222222222222,
              "#7201a8"
             ],
             [
              0.3333333333333333,
              "#9c179e"
             ],
             [
              0.4444444444444444,
              "#bd3786"
             ],
             [
              0.5555555555555556,
              "#d8576b"
             ],
             [
              0.6666666666666666,
              "#ed7953"
             ],
             [
              0.7777777777777778,
              "#fb9f3a"
             ],
             [
              0.8888888888888888,
              "#fdca26"
             ],
             [
              1,
              "#f0f921"
             ]
            ],
            "type": "surface"
           }
          ],
          "table": [
           {
            "cells": {
             "fill": {
              "color": "#EBF0F8"
             },
             "line": {
              "color": "white"
             }
            },
            "header": {
             "fill": {
              "color": "#C8D4E3"
             },
             "line": {
              "color": "white"
             }
            },
            "type": "table"
           }
          ]
         },
         "layout": {
          "annotationdefaults": {
           "arrowcolor": "#2a3f5f",
           "arrowhead": 0,
           "arrowwidth": 1
          },
          "coloraxis": {
           "colorbar": {
            "outlinewidth": 0,
            "ticks": ""
           }
          },
          "colorscale": {
           "diverging": [
            [
             0,
             "#8e0152"
            ],
            [
             0.1,
             "#c51b7d"
            ],
            [
             0.2,
             "#de77ae"
            ],
            [
             0.3,
             "#f1b6da"
            ],
            [
             0.4,
             "#fde0ef"
            ],
            [
             0.5,
             "#f7f7f7"
            ],
            [
             0.6,
             "#e6f5d0"
            ],
            [
             0.7,
             "#b8e186"
            ],
            [
             0.8,
             "#7fbc41"
            ],
            [
             0.9,
             "#4d9221"
            ],
            [
             1,
             "#276419"
            ]
           ],
           "sequential": [
            [
             0,
             "#0d0887"
            ],
            [
             0.1111111111111111,
             "#46039f"
            ],
            [
             0.2222222222222222,
             "#7201a8"
            ],
            [
             0.3333333333333333,
             "#9c179e"
            ],
            [
             0.4444444444444444,
             "#bd3786"
            ],
            [
             0.5555555555555556,
             "#d8576b"
            ],
            [
             0.6666666666666666,
             "#ed7953"
            ],
            [
             0.7777777777777778,
             "#fb9f3a"
            ],
            [
             0.8888888888888888,
             "#fdca26"
            ],
            [
             1,
             "#f0f921"
            ]
           ],
           "sequentialminus": [
            [
             0,
             "#0d0887"
            ],
            [
             0.1111111111111111,
             "#46039f"
            ],
            [
             0.2222222222222222,
             "#7201a8"
            ],
            [
             0.3333333333333333,
             "#9c179e"
            ],
            [
             0.4444444444444444,
             "#bd3786"
            ],
            [
             0.5555555555555556,
             "#d8576b"
            ],
            [
             0.6666666666666666,
             "#ed7953"
            ],
            [
             0.7777777777777778,
             "#fb9f3a"
            ],
            [
             0.8888888888888888,
             "#fdca26"
            ],
            [
             1,
             "#f0f921"
            ]
           ]
          },
          "colorway": [
           "#636efa",
           "#EF553B",
           "#00cc96",
           "#ab63fa",
           "#FFA15A",
           "#19d3f3",
           "#FF6692",
           "#B6E880",
           "#FF97FF",
           "#FECB52"
          ],
          "font": {
           "color": "#2a3f5f"
          },
          "geo": {
           "bgcolor": "white",
           "lakecolor": "white",
           "landcolor": "#E5ECF6",
           "showlakes": true,
           "showland": true,
           "subunitcolor": "white"
          },
          "hoverlabel": {
           "align": "left"
          },
          "hovermode": "closest",
          "mapbox": {
           "style": "light"
          },
          "paper_bgcolor": "white",
          "plot_bgcolor": "#E5ECF6",
          "polar": {
           "angularaxis": {
            "gridcolor": "white",
            "linecolor": "white",
            "ticks": ""
           },
           "bgcolor": "#E5ECF6",
           "radialaxis": {
            "gridcolor": "white",
            "linecolor": "white",
            "ticks": ""
           }
          },
          "scene": {
           "xaxis": {
            "backgroundcolor": "#E5ECF6",
            "gridcolor": "white",
            "gridwidth": 2,
            "linecolor": "white",
            "showbackground": true,
            "ticks": "",
            "zerolinecolor": "white"
           },
           "yaxis": {
            "backgroundcolor": "#E5ECF6",
            "gridcolor": "white",
            "gridwidth": 2,
            "linecolor": "white",
            "showbackground": true,
            "ticks": "",
            "zerolinecolor": "white"
           },
           "zaxis": {
            "backgroundcolor": "#E5ECF6",
            "gridcolor": "white",
            "gridwidth": 2,
            "linecolor": "white",
            "showbackground": true,
            "ticks": "",
            "zerolinecolor": "white"
           }
          },
          "shapedefaults": {
           "line": {
            "color": "#2a3f5f"
           }
          },
          "ternary": {
           "aaxis": {
            "gridcolor": "white",
            "linecolor": "white",
            "ticks": ""
           },
           "baxis": {
            "gridcolor": "white",
            "linecolor": "white",
            "ticks": ""
           },
           "bgcolor": "#E5ECF6",
           "caxis": {
            "gridcolor": "white",
            "linecolor": "white",
            "ticks": ""
           }
          },
          "title": {
           "x": 0.05
          },
          "xaxis": {
           "automargin": true,
           "gridcolor": "white",
           "linecolor": "white",
           "ticks": "",
           "title": {
            "standoff": 15
           },
           "zerolinecolor": "white",
           "zerolinewidth": 2
          },
          "yaxis": {
           "automargin": true,
           "gridcolor": "white",
           "linecolor": "white",
           "ticks": "",
           "title": {
            "standoff": 15
           },
           "zerolinecolor": "white",
           "zerolinewidth": 2
          }
         }
        },
        "title": {
         "text": "Feature mean by positive & negative examples for lin1 layer"
        },
        "yaxis": {
         "tickfont": {
          "color": "#9467bd"
         },
         "title": {
          "font": {
           "color": "#9467bd"
          },
          "text": "positive"
         }
        },
        "yaxis2": {
         "overlaying": "y",
         "side": "right",
         "tickfont": {
          "color": "#F08B00"
         },
         "title": {
          "font": {
           "color": "#F08B00"
          },
          "text": "negative"
         }
        }
       }
      },
      "text/html": [
       "<div>\n",
       "        \n",
       "        \n",
       "            <div id=\"fc7a005b-52e5-4fe1-b10f-8baddaa534a2\" class=\"plotly-graph-div\" style=\"height:525px; width:100%;\"></div>\n",
       "            <script type=\"text/javascript\">\n",
       "                require([\"plotly\"], function(Plotly) {\n",
       "                    window.PLOTLYENV=window.PLOTLYENV || {};\n",
       "                    \n",
       "                if (document.getElementById(\"fc7a005b-52e5-4fe1-b10f-8baddaa534a2\")) {\n",
       "                    Plotly.newPlot(\n",
       "                        'fc7a005b-52e5-4fe1-b10f-8baddaa534a2',\n",
       "                        [{\"line\": {\"color\": \"#9467bd\"}, \"name\": \"positive\", \"type\": \"scatter\", \"x\": [0, 1, 2, 3, 4, 5, 6, 7, 8, 9, 10, 11, 12, 13, 14, 15, 16, 17, 18, 19, 20, 21, 22, 23, 24, 25, 26, 27, 28, 29, 30, 31, 32, 33, 34, 35, 36, 37, 38, 39, 40, 41, 42, 43, 44, 45, 46, 47, 48, 49, 50, 51, 52, 53, 54, 55, 56, 57, 58, 59, 60, 61, 62, 63, 64, 65, 66, 67, 68, 69, 70, 71, 72, 73, 74, 75, 76, 77, 78, 79, 80, 81, 82, 83, 84, 85, 86, 87, 88, 89, 90, 91, 92, 93, 94, 95, 96, 97, 98, 99, 100, 101, 102, 103, 104, 105, 106, 107, 108, 109, 110, 111, 112, 113, 114, 115, 116, 117, 118, 119, 120, 121, 122, 123, 124, 125, 126, 127, 128, 129, 130, 131, 132, 133, 134, 135, 136, 137, 138, 139, 140, 141, 142, 143, 144, 145, 146, 147, 148, 149, 150, 151, 152, 153, 154, 155, 156, 157, 158, 159, 160, 161, 162, 163, 164, 165, 166, 167, 168, 169, 170, 171, 172, 173, 174, 175, 176, 177, 178, 179, 180, 181, 182, 183, 184, 185, 186, 187, 188, 189, 190, 191, 192, 193, 194, 195, 196, 197, 198, 199, 200, 201, 202, 203, 204, 205, 206, 207, 208, 209, 210, 211, 212, 213, 214, 215, 216, 217, 218, 219, 220, 221, 222, 223, 224, 225, 226, 227, 228, 229, 230, 231, 232, 233, 234, 235, 236, 237, 238, 239, 240, 241, 242, 243, 244, 245, 246, 247, 248, 249, 250, 251, 252, 253, 254, 255, 256, 257, 258, 259, 260, 261, 262, 263, 264, 265, 266, 267, 268, 269, 270, 271, 272, 273, 274, 275, 276, 277, 278, 279, 280, 281, 282, 283, 284, 285, 286, 287, 288, 289, 290, 291, 292, 293, 294, 295, 296, 297, 298, 299], \"y\": [-61.94340896606445, -152.06285095214844, -259.83428955078125, -240.2637481689453, -45.609004974365234, -196.1116180419922, 21.09268569946289, -30.1828670501709, -96.06937408447266, -135.1988983154297, -117.9243392944336, -152.63247680664062, -146.7813262939453, -183.58816528320312, -159.4359588623047, -15.96770191192627, -193.41009521484375, -152.79257202148438, -99.57990264892578, -92.40452575683594, -123.20927429199219, -153.72134399414062, 17.439682006835938, -148.5133819580078, -77.36480712890625, -53.9119873046875, 30.09897232055664, -10.4031343460083, -121.25150299072266, -196.0767364501953, -109.40098571777344, -74.00013732910156, -174.69554138183594, -242.8504638671875, -133.98171997070312, -156.1337127685547, 2.569446086883545, -266.72662353515625, -85.4909896850586, -160.52145385742188, -24.323850631713867, -163.2164306640625, -22.034526824951172, -0.33611756563186646, -84.26890563964844, 142.81900024414062, -241.3004150390625, -111.0854721069336, -150.91650390625, -27.64693832397461, -40.492149353027344, -41.377540588378906, -5.988334655761719, -102.9990005493164, 1.959188461303711, -256.611572265625, -183.86839294433594, -68.36663818359375, 71.20928192138672, -153.4882049560547, -129.97750854492188, -97.08378601074219, -146.6859893798828, -141.571533203125, 5.684924125671387, -100.4789810180664, -91.73575592041016, -201.76651000976562, -59.74486541748047, -285.5106506347656, -89.55313873291016, 9.550962448120117, -91.80389404296875, 154.6649169921875, -76.56092834472656, -118.4061279296875, 58.89216995239258, -18.49679946899414, 115.00566101074219, 195.96922302246094, -85.56777954101562, -162.5205535888672, -176.1158447265625, -94.6862564086914, -269.16510009765625, -62.59419631958008, -190.4399871826172, -109.59844970703125, -125.0207748413086, -68.10194396972656, -285.17352294921875, -176.12228393554688, -100.33314514160156, -57.24660110473633, 87.80293273925781, 54.54705810546875, 92.56156921386719, -123.855224609375, -138.67562866210938, -97.79557037353516, -60.5565185546875, -73.27324676513672, -202.34202575683594, 3.5622398853302, -0.025308609008789062, -16.919445037841797, 22.330944061279297, -84.8320541381836, -67.99441528320312, -67.43878936767578, -134.99874877929688, -102.25222778320312, -162.25192260742188, -92.80327606201172, -71.57604217529297, -80.50926971435547, -106.72122955322266, -57.48241424560547, 32.4187126159668, -260.726806640625, -162.2465057373047, -218.1749267578125, -97.1878433227539, -39.79828643798828, -220.17886352539062, -80.67765808105469, -210.86727905273438, -7.1011505126953125, -91.6255874633789, 92.56996154785156, 9.227485656738281, -268.31585693359375, -125.72591400146484, -169.44989013671875, -139.79421997070312, -96.6421890258789, -177.8283233642578, -23.001277923583984, -80.97350311279297, 63.058067321777344, -96.697265625, 25.802265167236328, 26.7454833984375, -116.83546447753906, -130.3272705078125, -63.26027297973633, -124.28658294677734, -167.12527465820312, -258.04547119140625, -106.63645935058594, -88.63758087158203, -143.43406677246094, -164.1669464111328, -38.442867279052734, -107.62815856933594, -146.87484741210938, -57.75160598754883, -71.6197509765625, -24.778480529785156, -82.49146270751953, 19.367605209350586, -118.15516662597656, -151.16470336914062, 26.337261199951172, -114.4132308959961, -150.8073272705078, -70.5289077758789, -1.1897695064544678, 33.11638641357422, -116.02043151855469, -104.25382232666016, 62.78495407104492, -83.26566314697266, 4.055164337158203, -48.39531707763672, -71.63251495361328, -19.358610153198242, -193.07095336914062, -94.67041015625, 41.44829559326172, -55.91718673706055, -133.62139892578125, -106.8110122680664, -33.468894958496094, -161.78372192382812, -95.96464538574219, 43.683876037597656, -7.839285850524902, -84.76065826416016, -84.2745590209961, -138.77659606933594, 23.0198917388916, -215.96914672851562, -143.50210571289062, -48.960357666015625, -65.85311126708984, -63.5753173828125, -45.89823532104492, -135.55062866210938, 26.051990509033203, -236.89828491210938, -93.52577209472656, -100.53282928466797, -103.6324462890625, 174.25411987304688, -253.9342803955078, -170.604736328125, -60.520538330078125, -82.10494232177734, -112.26643371582031, 55.64118576049805, -67.79558563232422, 27.866281509399414, -141.79306030273438, -84.14886474609375, -37.85819625854492, -82.99774932861328, 34.272403717041016, -164.36135864257812, -110.7979736328125, -104.90191650390625, -42.62278747558594, 39.087345123291016, -223.23654174804688, -28.555553436279297, 17.726520538330078, -74.54617309570312, -114.69004821777344, -49.47078323364258, 14.722125053405762, -100.3698959350586, -29.323322296142578, 52.384010314941406, -141.94644165039062, -100.90375518798828, -139.16744995117188, -64.82826232910156, -3.77983021736145, -138.08700561523438, -48.82368087768555, 11.693231582641602, -102.51377868652344, -183.2894287109375, -11.666498184204102, 23.036212921142578, -62.88665771484375, -71.6567153930664, -145.1414337158203, -2.733102321624756, -115.47477722167969, -107.3530044555664, -78.80492401123047, -4.622457027435303, -210.7814483642578, 155.48367309570312, -137.79434204101562, -133.55859375, -164.71902465820312, -117.90330505371094, 105.11228942871094, -107.4272689819336, -86.23858642578125, -48.70488739013672, 149.3577117919922, 1.5462875366210938, -38.273277282714844, -118.02703857421875, -158.82858276367188, -159.49440002441406, -18.74996566772461, -122.6716537475586, -100.52655792236328, -16.963390350341797, -290.087646484375, -130.6348876953125, -66.4276123046875, 109.02983093261719, -73.63088989257812, -158.8256378173828, 156.90719604492188, -114.00361633300781, 32.173099517822266, -129.90037536621094, -93.34403228759766, -156.93008422851562, -27.442852020263672, 156.41954040527344, 18.578542709350586, -98.2149887084961, -18.075763702392578, -186.9523468017578, -134.3224639892578, -140.20460510253906, -29.272624969482422, -221.93759155273438, -139.91159057617188, -53.2145881652832, 45.898277282714844, -84.07796478271484, -124.57828521728516]}, {\"line\": {\"color\": \"#F08B00\"}, \"name\": \"negative\", \"type\": \"scatter\", \"x\": [0, 1, 2, 3, 4, 5, 6, 7, 8, 9, 10, 11, 12, 13, 14, 15, 16, 17, 18, 19, 20, 21, 22, 23, 24, 25, 26, 27, 28, 29, 30, 31, 32, 33, 34, 35, 36, 37, 38, 39, 40, 41, 42, 43, 44, 45, 46, 47, 48, 49, 50, 51, 52, 53, 54, 55, 56, 57, 58, 59, 60, 61, 62, 63, 64, 65, 66, 67, 68, 69, 70, 71, 72, 73, 74, 75, 76, 77, 78, 79, 80, 81, 82, 83, 84, 85, 86, 87, 88, 89, 90, 91, 92, 93, 94, 95, 96, 97, 98, 99, 100, 101, 102, 103, 104, 105, 106, 107, 108, 109, 110, 111, 112, 113, 114, 115, 116, 117, 118, 119, 120, 121, 122, 123, 124, 125, 126, 127, 128, 129, 130, 131, 132, 133, 134, 135, 136, 137, 138, 139, 140, 141, 142, 143, 144, 145, 146, 147, 148, 149, 150, 151, 152, 153, 154, 155, 156, 157, 158, 159, 160, 161, 162, 163, 164, 165, 166, 167, 168, 169, 170, 171, 172, 173, 174, 175, 176, 177, 178, 179, 180, 181, 182, 183, 184, 185, 186, 187, 188, 189, 190, 191, 192, 193, 194, 195, 196, 197, 198, 199, 200, 201, 202, 203, 204, 205, 206, 207, 208, 209, 210, 211, 212, 213, 214, 215, 216, 217, 218, 219, 220, 221, 222, 223, 224, 225, 226, 227, 228, 229, 230, 231, 232, 233, 234, 235, 236, 237, 238, 239, 240, 241, 242, 243, 244, 245, 246, 247, 248, 249, 250, 251, 252, 253, 254, 255, 256, 257, 258, 259, 260, 261, 262, 263, 264, 265, 266, 267, 268, 269, 270, 271, 272, 273, 274, 275, 276, 277, 278, 279, 280, 281, 282, 283, 284, 285, 286, 287, 288, 289, 290, 291, 292, 293, 294, 295, 296, 297, 298, 299], \"y\": [39.308876037597656, -178.06625366210938, -334.41802978515625, -311.4621276855469, 12.462610244750977, -55.1268196105957, -169.25445556640625, -235.7759552001953, -149.09024047851562, -84.09016418457031, -43.81351089477539, 138.48056030273438, -131.2473907470703, -174.22378540039062, 28.376144409179688, -139.50735473632812, -67.88167572021484, -32.06111526489258, -72.36906433105469, 142.36019897460938, 83.88291931152344, -196.01344299316406, -187.94229125976562, -13.599212646484375, -117.04267883300781, -200.19259643554688, -165.31236267089844, -240.00424194335938, -44.09088897705078, -21.43166732788086, -99.66136169433594, 151.01080322265625, -165.62525939941406, -214.8414306640625, -46.17184066772461, -28.162078857421875, -106.57559967041016, -84.73799133300781, -54.00279998779297, 68.85747528076172, -73.57556915283203, 68.40938568115234, -231.54483032226562, -90.50370788574219, 94.87161254882812, -81.74995422363281, -178.47750854492188, 144.87295532226562, -160.79327392578125, -255.3549041748047, -238.7672882080078, -53.40093231201172, 214.4927215576172, -174.4621124267578, -116.81197357177734, -140.681396484375, -128.12135314941406, -249.9170684814453, 334.11688232421875, 95.32652282714844, -73.54713439941406, 125.82830810546875, 123.36308288574219, 161.12643432617188, -164.4556427001953, -228.7435302734375, 164.6025848388672, -115.47428131103516, 84.5550765991211, -124.01344299316406, -136.76625061035156, -209.03457641601562, 59.10991287231445, -102.8891372680664, -254.6123809814453, -14.384140014648438, 285.7289733886719, -203.97348022460938, -198.3126983642578, -137.41590881347656, -164.31411743164062, -53.34961700439453, -24.535358428955078, 4.5043182373046875, -98.0076675415039, -116.28955078125, -128.53085327148438, -36.09981155395508, 181.8728790283203, 161.57015991210938, -127.2054443359375, -31.10247230529785, 45.65230941772461, 50.43024826049805, -175.7243194580078, -265.8299255371094, -212.9135284423828, -150.0083465576172, -174.75277709960938, -136.2522430419922, -180.3438720703125, -172.21530151367188, -137.10427856445312, -169.231689453125, -83.90541076660156, -48.87331008911133, -156.75115966796875, 6.889172554016113, -189.54330444335938, 45.28998565673828, -9.378118515014648, -136.12625122070312, -206.824462890625, 37.5784797668457, -147.95082092285156, 201.00198364257812, -70.6568374633789, -190.05149841308594, 341.0669250488281, -256.5327453613281, 31.83627700805664, -74.15652465820312, -165.10934448242188, 175.64169311523438, -127.41092681884766, 167.0171661376953, -86.2759017944336, 216.03500366210938, 83.18731689453125, -107.90235900878906, 245.5144805908203, -265.83770751953125, 143.49551391601562, -213.47494506835938, 165.63204956054688, -121.98576354980469, -107.37214660644531, -70.22167205810547, 138.9428253173828, -189.25079345703125, -134.8954315185547, -206.16943359375, -134.48890686035156, 142.8974151611328, 41.914466857910156, 144.16246032714844, -323.1422119140625, 44.35253143310547, -48.54377365112305, -84.4920654296875, -164.8948516845703, 104.12701416015625, -161.438232421875, 188.52484130859375, -133.48069763183594, -153.39181518554688, -199.36080932617188, -7.065828800201416, -239.01077270507812, -255.98828125, -215.61953735351562, 62.2962532043457, -51.4256477355957, -143.0234375, -53.261756896972656, -81.29939270019531, -137.42787170410156, -219.95034790039062, -170.5366973876953, -213.6088409423828, 92.90670776367188, 313.9332580566406, 82.14646911621094, -274.0086975097656, -246.379150390625, -219.2473602294922, -266.9646911621094, -128.01853942871094, 41.10137939453125, 142.99415588378906, -246.09878540039062, -194.73745727539062, -4.378446578979492, 213.53359985351562, -266.8670349121094, -145.75628662109375, -219.63162231445312, -127.1952896118164, -181.9609375, -228.4059295654297, -196.54226684570312, 263.73565673828125, -159.557373046875, 37.6601448059082, -234.6233367919922, -185.01785278320312, -83.1965103149414, -210.9013671875, -4.886776924133301, 14.03782844543457, -267.00897216796875, 70.09383392333984, 130.33067321777344, -61.783363342285156, -186.8717041015625, -225.5132293701172, -66.53446960449219, -222.66006469726562, 69.44084167480469, -27.985652923583984, 339.80780029296875, -175.07330322265625, -141.19154357910156, -69.67056274414062, -103.02445220947266, 47.526283264160156, 75.67884826660156, -182.82107543945312, 28.74997901916504, 77.80632019042969, -34.14990997314453, 116.94510650634766, -237.282470703125, -207.5316162109375, -276.3197937011719, 2.0616421699523926, -161.91018676757812, -151.01229858398438, -251.5718536376953, 177.21646118164062, 96.27979278564453, -3.6904540061950684, 220.17300415039062, 114.05616760253906, 21.789453506469727, 85.71090698242188, -171.36105346679688, -242.886962890625, -161.9807586669922, 112.73982238769531, 19.70704460144043, 72.08470916748047, -165.56906127929688, -235.3573455810547, -198.97293090820312, 108.0030746459961, -205.6251983642578, 102.72111511230469, 271.6145935058594, 20.861976623535156, -36.15923309326172, -165.66290283203125, -178.64511108398438, -132.8380889892578, -191.34548950195312, -178.83944702148438, -185.94654846191406, 13.628949165344238, 196.05079650878906, -141.56451416015625, -136.10623168945312, -120.18864440917969, 126.8459701538086, -95.21345520019531, -192.2984619140625, -209.7235107421875, 135.22994995117188, -128.94357299804688, 10.906637191772461, 63.891517639160156, -87.5273666381836, -102.25877380371094, -18.7976131439209, -101.2870101928711, 60.41123580932617, -171.80038452148438, -210.8798370361328, -221.54833984375, -103.96939849853516, -164.67967224121094, -131.9091339111328, -154.70498657226562, -167.6480255126953, -96.10234069824219, -66.49913787841797, -179.45028686523438, -142.0140838623047, -161.814208984375, -159.6027069091797, -271.47857666015625, -26.72310447692871, 25.25227928161621, -157.4861602783203, -206.86184692382812, -101.15554809570312, 42.577030181884766, 136.6951904296875, -217.6806182861328, -168.40573120117188, -32.819915771484375], \"yaxis\": \"y2\"}],\n",
       "                        {\"template\": {\"data\": {\"bar\": [{\"error_x\": {\"color\": \"#2a3f5f\"}, \"error_y\": {\"color\": \"#2a3f5f\"}, \"marker\": {\"line\": {\"color\": \"#E5ECF6\", \"width\": 0.5}}, \"type\": \"bar\"}], \"barpolar\": [{\"marker\": {\"line\": {\"color\": \"#E5ECF6\", \"width\": 0.5}}, \"type\": \"barpolar\"}], \"carpet\": [{\"aaxis\": {\"endlinecolor\": \"#2a3f5f\", \"gridcolor\": \"white\", \"linecolor\": \"white\", \"minorgridcolor\": \"white\", \"startlinecolor\": \"#2a3f5f\"}, \"baxis\": {\"endlinecolor\": \"#2a3f5f\", \"gridcolor\": \"white\", \"linecolor\": \"white\", \"minorgridcolor\": \"white\", \"startlinecolor\": \"#2a3f5f\"}, \"type\": \"carpet\"}], \"choropleth\": [{\"colorbar\": {\"outlinewidth\": 0, \"ticks\": \"\"}, \"type\": \"choropleth\"}], \"contour\": [{\"colorbar\": {\"outlinewidth\": 0, \"ticks\": \"\"}, \"colorscale\": [[0.0, \"#0d0887\"], [0.1111111111111111, \"#46039f\"], [0.2222222222222222, \"#7201a8\"], [0.3333333333333333, \"#9c179e\"], [0.4444444444444444, \"#bd3786\"], [0.5555555555555556, \"#d8576b\"], [0.6666666666666666, \"#ed7953\"], [0.7777777777777778, \"#fb9f3a\"], [0.8888888888888888, \"#fdca26\"], [1.0, \"#f0f921\"]], \"type\": \"contour\"}], \"contourcarpet\": [{\"colorbar\": {\"outlinewidth\": 0, \"ticks\": \"\"}, \"type\": \"contourcarpet\"}], \"heatmap\": [{\"colorbar\": {\"outlinewidth\": 0, \"ticks\": \"\"}, \"colorscale\": [[0.0, \"#0d0887\"], [0.1111111111111111, \"#46039f\"], [0.2222222222222222, \"#7201a8\"], [0.3333333333333333, \"#9c179e\"], [0.4444444444444444, \"#bd3786\"], [0.5555555555555556, \"#d8576b\"], [0.6666666666666666, \"#ed7953\"], [0.7777777777777778, \"#fb9f3a\"], [0.8888888888888888, \"#fdca26\"], [1.0, \"#f0f921\"]], \"type\": \"heatmap\"}], \"heatmapgl\": [{\"colorbar\": {\"outlinewidth\": 0, \"ticks\": \"\"}, \"colorscale\": [[0.0, \"#0d0887\"], [0.1111111111111111, \"#46039f\"], [0.2222222222222222, \"#7201a8\"], [0.3333333333333333, \"#9c179e\"], [0.4444444444444444, \"#bd3786\"], [0.5555555555555556, \"#d8576b\"], [0.6666666666666666, \"#ed7953\"], [0.7777777777777778, \"#fb9f3a\"], [0.8888888888888888, \"#fdca26\"], [1.0, \"#f0f921\"]], \"type\": \"heatmapgl\"}], \"histogram\": [{\"marker\": {\"colorbar\": {\"outlinewidth\": 0, \"ticks\": \"\"}}, \"type\": \"histogram\"}], \"histogram2d\": [{\"colorbar\": {\"outlinewidth\": 0, \"ticks\": \"\"}, \"colorscale\": [[0.0, \"#0d0887\"], [0.1111111111111111, \"#46039f\"], [0.2222222222222222, \"#7201a8\"], [0.3333333333333333, \"#9c179e\"], [0.4444444444444444, \"#bd3786\"], [0.5555555555555556, \"#d8576b\"], [0.6666666666666666, \"#ed7953\"], [0.7777777777777778, \"#fb9f3a\"], [0.8888888888888888, \"#fdca26\"], [1.0, \"#f0f921\"]], \"type\": \"histogram2d\"}], \"histogram2dcontour\": [{\"colorbar\": {\"outlinewidth\": 0, \"ticks\": \"\"}, \"colorscale\": [[0.0, \"#0d0887\"], [0.1111111111111111, \"#46039f\"], [0.2222222222222222, \"#7201a8\"], [0.3333333333333333, \"#9c179e\"], [0.4444444444444444, \"#bd3786\"], [0.5555555555555556, \"#d8576b\"], [0.6666666666666666, \"#ed7953\"], [0.7777777777777778, \"#fb9f3a\"], [0.8888888888888888, \"#fdca26\"], [1.0, \"#f0f921\"]], \"type\": \"histogram2dcontour\"}], \"mesh3d\": [{\"colorbar\": {\"outlinewidth\": 0, \"ticks\": \"\"}, \"type\": \"mesh3d\"}], \"parcoords\": [{\"line\": {\"colorbar\": {\"outlinewidth\": 0, \"ticks\": \"\"}}, \"type\": \"parcoords\"}], \"pie\": [{\"automargin\": true, \"type\": \"pie\"}], \"scatter\": [{\"marker\": {\"colorbar\": {\"outlinewidth\": 0, \"ticks\": \"\"}}, \"type\": \"scatter\"}], \"scatter3d\": [{\"line\": {\"colorbar\": {\"outlinewidth\": 0, \"ticks\": \"\"}}, \"marker\": {\"colorbar\": {\"outlinewidth\": 0, \"ticks\": \"\"}}, \"type\": \"scatter3d\"}], \"scattercarpet\": [{\"marker\": {\"colorbar\": {\"outlinewidth\": 0, \"ticks\": \"\"}}, \"type\": \"scattercarpet\"}], \"scattergeo\": [{\"marker\": {\"colorbar\": {\"outlinewidth\": 0, \"ticks\": \"\"}}, \"type\": \"scattergeo\"}], \"scattergl\": [{\"marker\": {\"colorbar\": {\"outlinewidth\": 0, \"ticks\": \"\"}}, \"type\": \"scattergl\"}], \"scattermapbox\": [{\"marker\": {\"colorbar\": {\"outlinewidth\": 0, \"ticks\": \"\"}}, \"type\": \"scattermapbox\"}], \"scatterpolar\": [{\"marker\": {\"colorbar\": {\"outlinewidth\": 0, \"ticks\": \"\"}}, \"type\": \"scatterpolar\"}], \"scatterpolargl\": [{\"marker\": {\"colorbar\": {\"outlinewidth\": 0, \"ticks\": \"\"}}, \"type\": \"scatterpolargl\"}], \"scatterternary\": [{\"marker\": {\"colorbar\": {\"outlinewidth\": 0, \"ticks\": \"\"}}, \"type\": \"scatterternary\"}], \"surface\": [{\"colorbar\": {\"outlinewidth\": 0, \"ticks\": \"\"}, \"colorscale\": [[0.0, \"#0d0887\"], [0.1111111111111111, \"#46039f\"], [0.2222222222222222, \"#7201a8\"], [0.3333333333333333, \"#9c179e\"], [0.4444444444444444, \"#bd3786\"], [0.5555555555555556, \"#d8576b\"], [0.6666666666666666, \"#ed7953\"], [0.7777777777777778, \"#fb9f3a\"], [0.8888888888888888, \"#fdca26\"], [1.0, \"#f0f921\"]], \"type\": \"surface\"}], \"table\": [{\"cells\": {\"fill\": {\"color\": \"#EBF0F8\"}, \"line\": {\"color\": \"white\"}}, \"header\": {\"fill\": {\"color\": \"#C8D4E3\"}, \"line\": {\"color\": \"white\"}}, \"type\": \"table\"}]}, \"layout\": {\"annotationdefaults\": {\"arrowcolor\": \"#2a3f5f\", \"arrowhead\": 0, \"arrowwidth\": 1}, \"coloraxis\": {\"colorbar\": {\"outlinewidth\": 0, \"ticks\": \"\"}}, \"colorscale\": {\"diverging\": [[0, \"#8e0152\"], [0.1, \"#c51b7d\"], [0.2, \"#de77ae\"], [0.3, \"#f1b6da\"], [0.4, \"#fde0ef\"], [0.5, \"#f7f7f7\"], [0.6, \"#e6f5d0\"], [0.7, \"#b8e186\"], [0.8, \"#7fbc41\"], [0.9, \"#4d9221\"], [1, \"#276419\"]], \"sequential\": [[0.0, \"#0d0887\"], [0.1111111111111111, \"#46039f\"], [0.2222222222222222, \"#7201a8\"], [0.3333333333333333, \"#9c179e\"], [0.4444444444444444, \"#bd3786\"], [0.5555555555555556, \"#d8576b\"], [0.6666666666666666, \"#ed7953\"], [0.7777777777777778, \"#fb9f3a\"], [0.8888888888888888, \"#fdca26\"], [1.0, \"#f0f921\"]], \"sequentialminus\": [[0.0, \"#0d0887\"], [0.1111111111111111, \"#46039f\"], [0.2222222222222222, \"#7201a8\"], [0.3333333333333333, \"#9c179e\"], [0.4444444444444444, \"#bd3786\"], [0.5555555555555556, \"#d8576b\"], [0.6666666666666666, \"#ed7953\"], [0.7777777777777778, \"#fb9f3a\"], [0.8888888888888888, \"#fdca26\"], [1.0, \"#f0f921\"]]}, \"colorway\": [\"#636efa\", \"#EF553B\", \"#00cc96\", \"#ab63fa\", \"#FFA15A\", \"#19d3f3\", \"#FF6692\", \"#B6E880\", \"#FF97FF\", \"#FECB52\"], \"font\": {\"color\": \"#2a3f5f\"}, \"geo\": {\"bgcolor\": \"white\", \"lakecolor\": \"white\", \"landcolor\": \"#E5ECF6\", \"showlakes\": true, \"showland\": true, \"subunitcolor\": \"white\"}, \"hoverlabel\": {\"align\": \"left\"}, \"hovermode\": \"closest\", \"mapbox\": {\"style\": \"light\"}, \"paper_bgcolor\": \"white\", \"plot_bgcolor\": \"#E5ECF6\", \"polar\": {\"angularaxis\": {\"gridcolor\": \"white\", \"linecolor\": \"white\", \"ticks\": \"\"}, \"bgcolor\": \"#E5ECF6\", \"radialaxis\": {\"gridcolor\": \"white\", \"linecolor\": \"white\", \"ticks\": \"\"}}, \"scene\": {\"xaxis\": {\"backgroundcolor\": \"#E5ECF6\", \"gridcolor\": \"white\", \"gridwidth\": 2, \"linecolor\": \"white\", \"showbackground\": true, \"ticks\": \"\", \"zerolinecolor\": \"white\"}, \"yaxis\": {\"backgroundcolor\": \"#E5ECF6\", \"gridcolor\": \"white\", \"gridwidth\": 2, \"linecolor\": \"white\", \"showbackground\": true, \"ticks\": \"\", \"zerolinecolor\": \"white\"}, \"zaxis\": {\"backgroundcolor\": \"#E5ECF6\", \"gridcolor\": \"white\", \"gridwidth\": 2, \"linecolor\": \"white\", \"showbackground\": true, \"ticks\": \"\", \"zerolinecolor\": \"white\"}}, \"shapedefaults\": {\"line\": {\"color\": \"#2a3f5f\"}}, \"ternary\": {\"aaxis\": {\"gridcolor\": \"white\", \"linecolor\": \"white\", \"ticks\": \"\"}, \"baxis\": {\"gridcolor\": \"white\", \"linecolor\": \"white\", \"ticks\": \"\"}, \"bgcolor\": \"#E5ECF6\", \"caxis\": {\"gridcolor\": \"white\", \"linecolor\": \"white\", \"ticks\": \"\"}}, \"title\": {\"x\": 0.05}, \"xaxis\": {\"automargin\": true, \"gridcolor\": \"white\", \"linecolor\": \"white\", \"ticks\": \"\", \"title\": {\"standoff\": 15}, \"zerolinecolor\": \"white\", \"zerolinewidth\": 2}, \"yaxis\": {\"automargin\": true, \"gridcolor\": \"white\", \"linecolor\": \"white\", \"ticks\": \"\", \"title\": {\"standoff\": 15}, \"zerolinecolor\": \"white\", \"zerolinewidth\": 2}}}, \"title\": {\"text\": \"Feature mean by positive & negative examples for lin1 layer\"}, \"yaxis\": {\"tickfont\": {\"color\": \"#9467bd\"}, \"title\": {\"font\": {\"color\": \"#9467bd\"}, \"text\": \"positive\"}}, \"yaxis2\": {\"overlaying\": \"y\", \"side\": \"right\", \"tickfont\": {\"color\": \"#F08B00\"}, \"title\": {\"font\": {\"color\": \"#F08B00\"}, \"text\": \"negative\"}}},\n",
       "                        {\"responsive\": true}\n",
       "                    ).then(function(){\n",
       "                            \n",
       "var gd = document.getElementById('fc7a005b-52e5-4fe1-b10f-8baddaa534a2');\n",
       "var x = new MutationObserver(function (mutations, observer) {{\n",
       "        var display = window.getComputedStyle(gd).display;\n",
       "        if (!display || display === 'none') {{\n",
       "            console.log([gd, 'removed!']);\n",
       "            Plotly.purge(gd);\n",
       "            observer.disconnect();\n",
       "        }}\n",
       "}});\n",
       "\n",
       "// Listen for the removal of the full notebook cells\n",
       "var notebookContainer = gd.closest('#notebook-container');\n",
       "if (notebookContainer) {{\n",
       "    x.observe(notebookContainer, {childList: true});\n",
       "}}\n",
       "\n",
       "// Listen for the clearing of the current output cell\n",
       "var outputEl = gd.closest('.output');\n",
       "if (outputEl) {{\n",
       "    x.observe(outputEl, {childList: true});\n",
       "}}\n",
       "\n",
       "                        })\n",
       "                };\n",
       "                });\n",
       "            </script>\n",
       "        </div>"
      ]
     },
     "metadata": {},
     "output_type": "display_data"
    }
   ],
   "source": [
    "plot_scatter_intermediate_outputs_multitrace(\n",
    "    pos_out_mean, neg_out_mean, 'positive', 'negative',\n",
    "    'Feature mean by positive & negative examples for {} layer'.format(\n",
    "        layer_name))"
   ]
  },
  {
   "cell_type": "markdown",
   "metadata": {},
   "source": [
    "#### bn2"
   ]
  },
  {
   "cell_type": "code",
   "execution_count": 84,
   "metadata": {},
   "outputs": [],
   "source": [
    "layer_name = 'bn2'"
   ]
  },
  {
   "cell_type": "code",
   "execution_count": 85,
   "metadata": {},
   "outputs": [
    {
     "name": "stdout",
     "output_type": "stream",
     "text": [
      "(10, 300)\n",
      "(300,)\n",
      "(10, 300)\n",
      "(300,)\n"
     ]
    }
   ],
   "source": [
    "# feature mean\n",
    "pos_out_mean, neg_out_mean = get_mean_metrics_for_visualization(\n",
    "    positive_example_outs, negative_example_outs, layer_name, 'feature')"
   ]
  },
  {
   "cell_type": "code",
   "execution_count": 86,
   "metadata": {},
   "outputs": [
    {
     "data": {
      "application/vnd.plotly.v1+json": {
       "config": {
        "plotlyServerURL": "https://plot.ly"
       },
       "data": [
        {
         "line": {
          "color": "#9467bd"
         },
         "name": "positive",
         "type": "scatter",
         "x": [
          0,
          1,
          2,
          3,
          4,
          5,
          6,
          7,
          8,
          9,
          10,
          11,
          12,
          13,
          14,
          15,
          16,
          17,
          18,
          19,
          20,
          21,
          22,
          23,
          24,
          25,
          26,
          27,
          28,
          29,
          30,
          31,
          32,
          33,
          34,
          35,
          36,
          37,
          38,
          39,
          40,
          41,
          42,
          43,
          44,
          45,
          46,
          47,
          48,
          49,
          50,
          51,
          52,
          53,
          54,
          55,
          56,
          57,
          58,
          59,
          60,
          61,
          62,
          63,
          64,
          65,
          66,
          67,
          68,
          69,
          70,
          71,
          72,
          73,
          74,
          75,
          76,
          77,
          78,
          79,
          80,
          81,
          82,
          83,
          84,
          85,
          86,
          87,
          88,
          89,
          90,
          91,
          92,
          93,
          94,
          95,
          96,
          97,
          98,
          99,
          100,
          101,
          102,
          103,
          104,
          105,
          106,
          107,
          108,
          109,
          110,
          111,
          112,
          113,
          114,
          115,
          116,
          117,
          118,
          119,
          120,
          121,
          122,
          123,
          124,
          125,
          126,
          127,
          128,
          129,
          130,
          131,
          132,
          133,
          134,
          135,
          136,
          137,
          138,
          139,
          140,
          141,
          142,
          143,
          144,
          145,
          146,
          147,
          148,
          149,
          150,
          151,
          152,
          153,
          154,
          155,
          156,
          157,
          158,
          159,
          160,
          161,
          162,
          163,
          164,
          165,
          166,
          167,
          168,
          169,
          170,
          171,
          172,
          173,
          174,
          175,
          176,
          177,
          178,
          179,
          180,
          181,
          182,
          183,
          184,
          185,
          186,
          187,
          188,
          189,
          190,
          191,
          192,
          193,
          194,
          195,
          196,
          197,
          198,
          199,
          200,
          201,
          202,
          203,
          204,
          205,
          206,
          207,
          208,
          209,
          210,
          211,
          212,
          213,
          214,
          215,
          216,
          217,
          218,
          219,
          220,
          221,
          222,
          223,
          224,
          225,
          226,
          227,
          228,
          229,
          230,
          231,
          232,
          233,
          234,
          235,
          236,
          237,
          238,
          239,
          240,
          241,
          242,
          243,
          244,
          245,
          246,
          247,
          248,
          249,
          250,
          251,
          252,
          253,
          254,
          255,
          256,
          257,
          258,
          259,
          260,
          261,
          262,
          263,
          264,
          265,
          266,
          267,
          268,
          269,
          270,
          271,
          272,
          273,
          274,
          275,
          276,
          277,
          278,
          279,
          280,
          281,
          282,
          283,
          284,
          285,
          286,
          287,
          288,
          289,
          290,
          291,
          292,
          293,
          294,
          295,
          296,
          297,
          298,
          299
         ],
         "y": [
          -0.05692349746823311,
          0.5489298701286316,
          0.519411563873291,
          0.10219909995794296,
          1.0610275268554688,
          0.13107457756996155,
          0.07178232818841934,
          1.0688008069992065,
          -0.6752487421035767,
          0.6210936903953552,
          0.3729093372821808,
          -0.06385017931461334,
          0.4628550410270691,
          0.20889520645141602,
          0.7095134854316711,
          0.37632960081100464,
          -0.5140826106071472,
          0.20709320902824402,
          0.14926420152187347,
          -1.3314974308013916,
          -0.5280443429946899,
          1.184536099433899,
          1.096327543258667,
          0.5354539155960083,
          -0.4144633412361145,
          0.5789510011672974,
          0.5280613899230957,
          1.9124672412872314,
          -0.2652582824230194,
          -0.34358346462249756,
          -0.7621521353721619,
          0.2280055284500122,
          0.5999364852905273,
          -0.07216569781303406,
          -0.5453701019287109,
          1.0456968545913696,
          0.7147116661071777,
          0.13090534508228302,
          0.8432273864746094,
          -1.0722570419311523,
          0.6481884121894836,
          0.4070662558078766,
          1.516027808189392,
          0.2745814025402069,
          -0.5766361355781555,
          0.8374408483505249,
          2.449362277984619,
          0.7816709280014038,
          0.20356786251068115,
          1.5225750207901,
          1.1125588417053223,
          1.9200416803359985,
          -1.3368452787399292,
          -0.3324487805366516,
          1.51595938205719,
          -0.3587135374546051,
          -0.47065576910972595,
          0.30557626485824585,
          0.02428990602493286,
          -1.2312873601913452,
          1.037731409072876,
          0.4861323833465576,
          -0.8189349174499512,
          1.8483766317367554,
          -0.34245362877845764,
          1.5846425294876099,
          -0.1496042013168335,
          0.18905428051948547,
          2.022101879119873,
          0.40957242250442505,
          0.8766409158706665,
          0.19281068444252014,
          -0.019962633028626442,
          1.3047674894332886,
          1.706969976425171,
          0.6762021780014038,
          0.3179660141468048,
          0.041260261088609695,
          1.881523847579956,
          1.3992729187011719,
          -0.03847724199295044,
          0.4718053936958313,
          0.04940452426671982,
          1.3798162937164307,
          0.23718592524528503,
          1.452980399131775,
          -0.4733286499977112,
          0.392117977142334,
          0.23559899628162384,
          -0.46117669343948364,
          1.161347508430481,
          0.9787465333938599,
          0.5911135077476501,
          0.28275924921035767,
          1.2256073951721191,
          0.41240644454956055,
          1.3938220739364624,
          0.35666605830192566,
          0.1235530823469162,
          0.6228337287902832,
          0.5036078095436096,
          -0.13772113621234894,
          2.2793290615081787,
          0.8703346252441406,
          1.1971012353897095,
          1.4417462348937988,
          1.4042454957962036,
          0.6464537978172302,
          0.06600081920623779,
          -0.3924964964389801,
          -0.135895237326622,
          1.3829126358032227,
          0.4199138283729553,
          1.2448179721832275,
          0.9783062934875488,
          0.23795290291309357,
          -0.8160746693611145,
          0.16467460989952087,
          0.33531826734542847,
          -0.5048018097877502,
          0.02699781022965908,
          0.1225164383649826,
          0.24611982703208923,
          0.9941113591194153,
          0.28700685501098633,
          -1.2847894430160522,
          -0.14281050860881805,
          -1.2066733837127686,
          -0.28608790040016174,
          1.836322546005249,
          -0.390347421169281,
          0.044561125338077545,
          -0.5711615681648254,
          1.3415372371673584,
          -0.09813592582941055,
          2.595217227935791,
          0.6062580347061157,
          0.9568643569946289,
          2.6614990234375,
          1.0122897624969482,
          -0.1662905365228653,
          0.7230832576751709,
          -0.2219214141368866,
          -1.1034278869628906,
          -1.2032047510147095,
          0.7807134389877319,
          0.7590157985687256,
          -0.06786849349737167,
          -0.5593637824058533,
          0.9137967228889465,
          0.28704726696014404,
          2.159101724624634,
          1.0633423328399658,
          0.8717557787895203,
          0.11325027793645859,
          1.3069106340408325,
          0.6360743045806885,
          0.6539212465286255,
          0.14824000000953674,
          1.5989469289779663,
          2.029881477355957,
          0.3237399458885193,
          0.6634497046470642,
          2.1236116886138916,
          0.5020418167114258,
          1.1139299869537354,
          1.091304898262024,
          1.5668790340423584,
          1.1329219341278076,
          -1.0373278856277466,
          0.760734498500824,
          -0.9104405641555786,
          1.4553985595703125,
          1.7732301950454712,
          1.3294761180877686,
          -0.9955793619155884,
          -0.04517167806625366,
          0.5335884690284729,
          -0.11025996506214142,
          0.21568234264850616,
          -0.45343703031539917,
          0.391248881816864,
          0.7966604232788086,
          -0.44258055090904236,
          0.1760834902524948,
          1.093307614326477,
          1.0462818145751953,
          0.5414572954177856,
          1.8091338872909546,
          1.337647557258606,
          0.4363704323768616,
          0.6550062298774719,
          -0.3822031319141388,
          0.15944847464561462,
          0.004262649919837713,
          0.4116280972957611,
          0.1428571343421936,
          0.9985613822937012,
          -0.24260547757148743,
          1.1214189529418945,
          1.0717777013778687,
          -0.19365432858467102,
          0.32481649518013,
          1.3082900047302246,
          1.4775993824005127,
          -0.789393424987793,
          0.8798729181289673,
          -0.8379881978034973,
          0.7205601930618286,
          -0.29475393891334534,
          -0.773468554019928,
          1.1827269792556763,
          1.8013489246368408,
          0.30619335174560547,
          0.3502008318901062,
          -0.15356238186359406,
          -0.1328946053981781,
          2.1215615272521973,
          0.24926786124706268,
          0.009306281805038452,
          0.10306763648986816,
          -0.6716543436050415,
          0.8669193983078003,
          0.8229756355285645,
          1.9110119342803955,
          2.5934510231018066,
          0.8370615243911743,
          -0.2413853108882904,
          1.0222594738006592,
          0.33347100019454956,
          0.47530198097229004,
          0.5603373646736145,
          -0.24711290001869202,
          -0.960030734539032,
          -0.2975977063179016,
          -0.047523386776447296,
          -0.35715678334236145,
          1.1722602844238281,
          1.573000431060791,
          0.043380480259656906,
          0.9266754388809204,
          -0.5167980790138245,
          -0.3865642249584198,
          0.20997853577136993,
          0.8375148773193359,
          1.0395054817199707,
          2.696101665496826,
          -1.0927990674972534,
          0.06960910558700562,
          -0.10724584013223648,
          0.8345440626144409,
          -0.816573441028595,
          0.31343933939933777,
          -0.5537033081054688,
          2.3543124198913574,
          -0.3867545425891876,
          2.231360673904419,
          -0.7455605864524841,
          -0.18303826451301575,
          1.4111902713775635,
          1.0829476118087769,
          1.0913200378417969,
          0.7227004170417786,
          2.5458483695983887,
          -0.22301650047302246,
          0.6790231466293335,
          0.6938849687576294,
          -0.6843518614768982,
          -0.0431651771068573,
          0.25446438789367676,
          -0.46489715576171875,
          0.35906022787094116,
          -0.08281803131103516,
          -0.09084882587194443,
          0.11025501787662506,
          0.1003132313489914,
          2.77888822555542,
          0.6069202423095703,
          0.6620246767997742,
          1.0465357303619385,
          -0.48509663343429565,
          1.6590449810028076,
          0.08317633718252182,
          0.17783787846565247,
          0.019307520240545273,
          1.3171764612197876,
          1.6708799600601196,
          1.7226219177246094,
          0.5789813995361328,
          0.6538485288619995,
          0.3544282019138336,
          1.3583787679672241,
          1.8781030178070068,
          -0.3503832221031189,
          -0.15338729321956635,
          0.030128955841064453,
          0.2085784673690796,
          0.5769297480583191,
          1.1861317157745361,
          -0.0396149680018425
         ]
        },
        {
         "line": {
          "color": "#F08B00"
         },
         "name": "negative",
         "type": "scatter",
         "x": [
          0,
          1,
          2,
          3,
          4,
          5,
          6,
          7,
          8,
          9,
          10,
          11,
          12,
          13,
          14,
          15,
          16,
          17,
          18,
          19,
          20,
          21,
          22,
          23,
          24,
          25,
          26,
          27,
          28,
          29,
          30,
          31,
          32,
          33,
          34,
          35,
          36,
          37,
          38,
          39,
          40,
          41,
          42,
          43,
          44,
          45,
          46,
          47,
          48,
          49,
          50,
          51,
          52,
          53,
          54,
          55,
          56,
          57,
          58,
          59,
          60,
          61,
          62,
          63,
          64,
          65,
          66,
          67,
          68,
          69,
          70,
          71,
          72,
          73,
          74,
          75,
          76,
          77,
          78,
          79,
          80,
          81,
          82,
          83,
          84,
          85,
          86,
          87,
          88,
          89,
          90,
          91,
          92,
          93,
          94,
          95,
          96,
          97,
          98,
          99,
          100,
          101,
          102,
          103,
          104,
          105,
          106,
          107,
          108,
          109,
          110,
          111,
          112,
          113,
          114,
          115,
          116,
          117,
          118,
          119,
          120,
          121,
          122,
          123,
          124,
          125,
          126,
          127,
          128,
          129,
          130,
          131,
          132,
          133,
          134,
          135,
          136,
          137,
          138,
          139,
          140,
          141,
          142,
          143,
          144,
          145,
          146,
          147,
          148,
          149,
          150,
          151,
          152,
          153,
          154,
          155,
          156,
          157,
          158,
          159,
          160,
          161,
          162,
          163,
          164,
          165,
          166,
          167,
          168,
          169,
          170,
          171,
          172,
          173,
          174,
          175,
          176,
          177,
          178,
          179,
          180,
          181,
          182,
          183,
          184,
          185,
          186,
          187,
          188,
          189,
          190,
          191,
          192,
          193,
          194,
          195,
          196,
          197,
          198,
          199,
          200,
          201,
          202,
          203,
          204,
          205,
          206,
          207,
          208,
          209,
          210,
          211,
          212,
          213,
          214,
          215,
          216,
          217,
          218,
          219,
          220,
          221,
          222,
          223,
          224,
          225,
          226,
          227,
          228,
          229,
          230,
          231,
          232,
          233,
          234,
          235,
          236,
          237,
          238,
          239,
          240,
          241,
          242,
          243,
          244,
          245,
          246,
          247,
          248,
          249,
          250,
          251,
          252,
          253,
          254,
          255,
          256,
          257,
          258,
          259,
          260,
          261,
          262,
          263,
          264,
          265,
          266,
          267,
          268,
          269,
          270,
          271,
          272,
          273,
          274,
          275,
          276,
          277,
          278,
          279,
          280,
          281,
          282,
          283,
          284,
          285,
          286,
          287,
          288,
          289,
          290,
          291,
          292,
          293,
          294,
          295,
          296,
          297,
          298,
          299
         ],
         "y": [
          1.6669597625732422,
          0.5043515563011169,
          0.519411563873291,
          -0.3425424098968506,
          1.0335971117019653,
          -0.47020357847213745,
          -1.6198580265045166,
          -0.20095857977867126,
          -0.7974129319190979,
          0.6952451467514038,
          1.3391656875610352,
          3.696338176727295,
          -0.19107335805892944,
          0.7438167929649353,
          3.2737174034118652,
          -1.3916645050048828,
          -0.8459080457687378,
          1.7140496969223022,
          0.20906230807304382,
          2.990626573562622,
          2.493656635284424,
          0.6182888746261597,
          -1.3256245851516724,
          0.7989705204963684,
          -0.4144633412361145,
          -1.3879175186157227,
          -0.9781926870346069,
          0.44779640436172485,
          -0.9502948522567749,
          1.1461386680603027,
          -0.72043776512146,
          3.9465699195861816,
          0.5999364852905273,
          -0.1286255121231079,
          1.1925606727600098,
          3.038801670074463,
          -0.45494943857192993,
          1.3182051181793213,
          0.6331850290298462,
          1.4801894426345825,
          -0.21298527717590332,
          3.0210776329040527,
          0.48899775743484497,
          -1.2875277996063232,
          3.0597758293151855,
          -2.6778430938720703,
          1.9355790615081787,
          7.3396782875061035,
          0.13625751435756683,
          -0.4154394268989563,
          -0.7190846800804138,
          1.084500789642334,
          3.457033157348633,
          -0.45544320344924927,
          0.1458796262741089,
          0.626181960105896,
          -0.05193747207522392,
          0.05606198310852051,
          4.069808006286621,
          1.5502731800079346,
          0.6782792210578918,
          4.807158470153809,
          2.805311918258667,
          9.101078987121582,
          -1.6997041702270508,
          1.5403575897216797,
          3.7840499877929688,
          -0.2650028169155121,
          4.288412570953369,
          2.5208616256713867,
          -0.5125332474708557,
          -1.2113522291183472,
          2.8310885429382324,
          -2.0161664485931396,
          0.5048040151596069,
          1.8040529489517212,
          4.2129130363464355,
          -0.611208438873291,
          -1.1625858545303345,
          -2.876161813735962,
          -0.8849517107009888,
          0.05645684525370598,
          0.5898199677467346,
          2.2248053550720215,
          0.23718592524528503,
          0.7267552018165588,
          -0.75389564037323,
          1.264948844909668,
          5.805502414703369,
          3.4382987022399902,
          1.161347508430481,
          2.9347851276397705,
          2.876272201538086,
          2.090364933013916,
          -0.8711247444152832,
          -1.8008989095687866,
          -1.4523707628250122,
          -0.008444935083389282,
          0.1235530823469162,
          -0.4059144854545593,
          -0.16325318813323975,
          -0.15615856647491455,
          2.4111664295196533,
          -0.23024773597717285,
          0.059686481952667236,
          0.33121052384376526,
          -0.25863194465637207,
          1.824045181274414,
          -0.2650434970855713,
          2.111111640930176,
          1.6961561441421509,
          0.5056743621826172,
          0.4199138283729553,
          2.518110752105713,
          0.24983450770378113,
          5.340703010559082,
          -0.4493349492549896,
          -0.3855326175689697,
          5.355489253997803,
          -0.5048018097877502,
          4.911876678466797,
          0.5111070871353149,
          -0.24125978350639343,
          5.220561981201172,
          0.28700685501098633,
          2.6456387042999268,
          -0.5381633639335632,
          3.218069076538086,
          2.166482448577881,
          -0.8952769041061401,
          4.286037921905518,
          -0.18342404067516327,
          4.217602729797363,
          0.524940550327301,
          4.168720722198486,
          2.595217227935791,
          0.5371758341789246,
          -0.5254667401313782,
          6.472316741943359,
          -0.9579092264175415,
          -0.08316222578287125,
          -0.906958281993866,
          -1.8802807331085205,
          4.250154972076416,
          -0.17670360207557678,
          4.609479904174805,
          -1.9891226291656494,
          3.290497303009033,
          1.2909879684448242,
          1.1167881488800049,
          0.042768657207489014,
          6.072757244110107,
          0.06373171508312225,
          4.772943019866943,
          -0.4730626940727234,
          0.7232069373130798,
          0.021246790885925293,
          2.2377352714538574,
          -0.7930725812911987,
          1.2093580961227417,
          -0.515434205532074,
          1.711202621459961,
          0.1184789389371872,
          -0.27502575516700745,
          1.3380693197250366,
          1.6567875146865845,
          -0.3046117126941681,
          0.12092442810535431,
          -1.0436850786209106,
          -1.2554043531417847,
          5.371785640716553,
          3.545200824737549,
          4.801784515380859,
          -0.32209691405296326,
          -0.038364410400390625,
          -1.2542319297790527,
          -1.1478720903396606,
          0.5335884690284729,
          2.87807035446167,
          1.7232134342193604,
          -1.1963762044906616,
          0.05445683002471924,
          1.995323896408081,
          4.150693416595459,
          -0.3084368407726288,
          1.093307614326477,
          -0.7294979095458984,
          -0.9370936155319214,
          1.3019254207611084,
          0.6264138221740723,
          0.06418874114751816,
          4.757889270782471,
          0.9212161898612976,
          1.9355742931365967,
          -0.9666854739189148,
          -0.397885799407959,
          0.17122814059257507,
          -0.16482162475585938,
          1.8875967264175415,
          -0.09569581598043442,
          0.46489477157592773,
          3.164957284927368,
          4.8913469314575195,
          1.0170304775238037,
          -1.8973166942596436,
          -0.27555781602859497,
          1.5933164358139038,
          -1.4181021451950073,
          3.432668685913086,
          0.72486412525177,
          3.6156373023986816,
          -0.3563969135284424,
          0.03976273536682129,
          0.30619335174560547,
          -0.12983618676662445,
          0.6669407486915588,
          1.4849836826324463,
          0.08362078666687012,
          2.278520107269287,
          2.0445656776428223,
          0.6376206874847412,
          1.9058802127838135,
          -1.647923231124878,
          0.38512489199638367,
          1.418424367904663,
          1.6234601736068726,
          -0.6072792410850525,
          -0.6709685921669006,
          -0.21513044834136963,
          4.570569038391113,
          4.247890949249268,
          0.4082079827785492,
          2.586933135986328,
          4.045783042907715,
          2.004885196685791,
          3.8621628284454346,
          -0.3663475513458252,
          -0.47089046239852905,
          1.4924848079681396,
          4.081833839416504,
          0.3748769760131836,
          3.569110155105591,
          -0.08088378608226776,
          -1.0914170742034912,
          -1.072208285331726,
          5.266362190246582,
          0.8091732263565063,
          2.2515225410461426,
          5.063309669494629,
          1.490875482559204,
          1.3286274671554565,
          -0.9611560106277466,
          -1.069919466972351,
          0.305358350276947,
          -1.7954156398773193,
          -0.3867545425891876,
          2.231360673904419,
          2.683842420578003,
          5.581795692443848,
          -1.2534253597259521,
          0.8217447996139526,
          0.24743899703025818,
          4.429404258728027,
          -0.949238657951355,
          -1.4245965480804443,
          -0.4376453757286072,
          5.039924621582031,
          -0.6843518614768982,
          3.5928313732147217,
          0.9902313351631165,
          -0.3896172046661377,
          0.728096604347229,
          -0.5827587842941284,
          -0.09084882587194443,
          3.2627768516540527,
          -0.4699377119541168,
          -0.14053964614868164,
          0.005589723587036133,
          0.3662206530570984,
          -2.23703932762146,
          -0.662294328212738,
          -0.504158616065979,
          -0.11973918974399567,
          -0.24906949698925018,
          -0.34429293870925903,
          0.016193091869354248,
          -1.2550679445266724,
          0.20303690433502197,
          0.24383428692817688,
          -0.7041444778442383,
          0.4985848367214203,
          4.0399580001831055,
          1.3670262098312378,
          -1.2841664552688599,
          0.9615933299064636,
          5.214297294616699,
          4.084584712982178,
          -1.2461601495742798,
          0.9442424774169922,
          1.0875566005706787
         ],
         "yaxis": "y2"
        }
       ],
       "layout": {
        "template": {
         "data": {
          "bar": [
           {
            "error_x": {
             "color": "#2a3f5f"
            },
            "error_y": {
             "color": "#2a3f5f"
            },
            "marker": {
             "line": {
              "color": "#E5ECF6",
              "width": 0.5
             }
            },
            "type": "bar"
           }
          ],
          "barpolar": [
           {
            "marker": {
             "line": {
              "color": "#E5ECF6",
              "width": 0.5
             }
            },
            "type": "barpolar"
           }
          ],
          "carpet": [
           {
            "aaxis": {
             "endlinecolor": "#2a3f5f",
             "gridcolor": "white",
             "linecolor": "white",
             "minorgridcolor": "white",
             "startlinecolor": "#2a3f5f"
            },
            "baxis": {
             "endlinecolor": "#2a3f5f",
             "gridcolor": "white",
             "linecolor": "white",
             "minorgridcolor": "white",
             "startlinecolor": "#2a3f5f"
            },
            "type": "carpet"
           }
          ],
          "choropleth": [
           {
            "colorbar": {
             "outlinewidth": 0,
             "ticks": ""
            },
            "type": "choropleth"
           }
          ],
          "contour": [
           {
            "colorbar": {
             "outlinewidth": 0,
             "ticks": ""
            },
            "colorscale": [
             [
              0,
              "#0d0887"
             ],
             [
              0.1111111111111111,
              "#46039f"
             ],
             [
              0.2222222222222222,
              "#7201a8"
             ],
             [
              0.3333333333333333,
              "#9c179e"
             ],
             [
              0.4444444444444444,
              "#bd3786"
             ],
             [
              0.5555555555555556,
              "#d8576b"
             ],
             [
              0.6666666666666666,
              "#ed7953"
             ],
             [
              0.7777777777777778,
              "#fb9f3a"
             ],
             [
              0.8888888888888888,
              "#fdca26"
             ],
             [
              1,
              "#f0f921"
             ]
            ],
            "type": "contour"
           }
          ],
          "contourcarpet": [
           {
            "colorbar": {
             "outlinewidth": 0,
             "ticks": ""
            },
            "type": "contourcarpet"
           }
          ],
          "heatmap": [
           {
            "colorbar": {
             "outlinewidth": 0,
             "ticks": ""
            },
            "colorscale": [
             [
              0,
              "#0d0887"
             ],
             [
              0.1111111111111111,
              "#46039f"
             ],
             [
              0.2222222222222222,
              "#7201a8"
             ],
             [
              0.3333333333333333,
              "#9c179e"
             ],
             [
              0.4444444444444444,
              "#bd3786"
             ],
             [
              0.5555555555555556,
              "#d8576b"
             ],
             [
              0.6666666666666666,
              "#ed7953"
             ],
             [
              0.7777777777777778,
              "#fb9f3a"
             ],
             [
              0.8888888888888888,
              "#fdca26"
             ],
             [
              1,
              "#f0f921"
             ]
            ],
            "type": "heatmap"
           }
          ],
          "heatmapgl": [
           {
            "colorbar": {
             "outlinewidth": 0,
             "ticks": ""
            },
            "colorscale": [
             [
              0,
              "#0d0887"
             ],
             [
              0.1111111111111111,
              "#46039f"
             ],
             [
              0.2222222222222222,
              "#7201a8"
             ],
             [
              0.3333333333333333,
              "#9c179e"
             ],
             [
              0.4444444444444444,
              "#bd3786"
             ],
             [
              0.5555555555555556,
              "#d8576b"
             ],
             [
              0.6666666666666666,
              "#ed7953"
             ],
             [
              0.7777777777777778,
              "#fb9f3a"
             ],
             [
              0.8888888888888888,
              "#fdca26"
             ],
             [
              1,
              "#f0f921"
             ]
            ],
            "type": "heatmapgl"
           }
          ],
          "histogram": [
           {
            "marker": {
             "colorbar": {
              "outlinewidth": 0,
              "ticks": ""
             }
            },
            "type": "histogram"
           }
          ],
          "histogram2d": [
           {
            "colorbar": {
             "outlinewidth": 0,
             "ticks": ""
            },
            "colorscale": [
             [
              0,
              "#0d0887"
             ],
             [
              0.1111111111111111,
              "#46039f"
             ],
             [
              0.2222222222222222,
              "#7201a8"
             ],
             [
              0.3333333333333333,
              "#9c179e"
             ],
             [
              0.4444444444444444,
              "#bd3786"
             ],
             [
              0.5555555555555556,
              "#d8576b"
             ],
             [
              0.6666666666666666,
              "#ed7953"
             ],
             [
              0.7777777777777778,
              "#fb9f3a"
             ],
             [
              0.8888888888888888,
              "#fdca26"
             ],
             [
              1,
              "#f0f921"
             ]
            ],
            "type": "histogram2d"
           }
          ],
          "histogram2dcontour": [
           {
            "colorbar": {
             "outlinewidth": 0,
             "ticks": ""
            },
            "colorscale": [
             [
              0,
              "#0d0887"
             ],
             [
              0.1111111111111111,
              "#46039f"
             ],
             [
              0.2222222222222222,
              "#7201a8"
             ],
             [
              0.3333333333333333,
              "#9c179e"
             ],
             [
              0.4444444444444444,
              "#bd3786"
             ],
             [
              0.5555555555555556,
              "#d8576b"
             ],
             [
              0.6666666666666666,
              "#ed7953"
             ],
             [
              0.7777777777777778,
              "#fb9f3a"
             ],
             [
              0.8888888888888888,
              "#fdca26"
             ],
             [
              1,
              "#f0f921"
             ]
            ],
            "type": "histogram2dcontour"
           }
          ],
          "mesh3d": [
           {
            "colorbar": {
             "outlinewidth": 0,
             "ticks": ""
            },
            "type": "mesh3d"
           }
          ],
          "parcoords": [
           {
            "line": {
             "colorbar": {
              "outlinewidth": 0,
              "ticks": ""
             }
            },
            "type": "parcoords"
           }
          ],
          "pie": [
           {
            "automargin": true,
            "type": "pie"
           }
          ],
          "scatter": [
           {
            "marker": {
             "colorbar": {
              "outlinewidth": 0,
              "ticks": ""
             }
            },
            "type": "scatter"
           }
          ],
          "scatter3d": [
           {
            "line": {
             "colorbar": {
              "outlinewidth": 0,
              "ticks": ""
             }
            },
            "marker": {
             "colorbar": {
              "outlinewidth": 0,
              "ticks": ""
             }
            },
            "type": "scatter3d"
           }
          ],
          "scattercarpet": [
           {
            "marker": {
             "colorbar": {
              "outlinewidth": 0,
              "ticks": ""
             }
            },
            "type": "scattercarpet"
           }
          ],
          "scattergeo": [
           {
            "marker": {
             "colorbar": {
              "outlinewidth": 0,
              "ticks": ""
             }
            },
            "type": "scattergeo"
           }
          ],
          "scattergl": [
           {
            "marker": {
             "colorbar": {
              "outlinewidth": 0,
              "ticks": ""
             }
            },
            "type": "scattergl"
           }
          ],
          "scattermapbox": [
           {
            "marker": {
             "colorbar": {
              "outlinewidth": 0,
              "ticks": ""
             }
            },
            "type": "scattermapbox"
           }
          ],
          "scatterpolar": [
           {
            "marker": {
             "colorbar": {
              "outlinewidth": 0,
              "ticks": ""
             }
            },
            "type": "scatterpolar"
           }
          ],
          "scatterpolargl": [
           {
            "marker": {
             "colorbar": {
              "outlinewidth": 0,
              "ticks": ""
             }
            },
            "type": "scatterpolargl"
           }
          ],
          "scatterternary": [
           {
            "marker": {
             "colorbar": {
              "outlinewidth": 0,
              "ticks": ""
             }
            },
            "type": "scatterternary"
           }
          ],
          "surface": [
           {
            "colorbar": {
             "outlinewidth": 0,
             "ticks": ""
            },
            "colorscale": [
             [
              0,
              "#0d0887"
             ],
             [
              0.1111111111111111,
              "#46039f"
             ],
             [
              0.2222222222222222,
              "#7201a8"
             ],
             [
              0.3333333333333333,
              "#9c179e"
             ],
             [
              0.4444444444444444,
              "#bd3786"
             ],
             [
              0.5555555555555556,
              "#d8576b"
             ],
             [
              0.6666666666666666,
              "#ed7953"
             ],
             [
              0.7777777777777778,
              "#fb9f3a"
             ],
             [
              0.8888888888888888,
              "#fdca26"
             ],
             [
              1,
              "#f0f921"
             ]
            ],
            "type": "surface"
           }
          ],
          "table": [
           {
            "cells": {
             "fill": {
              "color": "#EBF0F8"
             },
             "line": {
              "color": "white"
             }
            },
            "header": {
             "fill": {
              "color": "#C8D4E3"
             },
             "line": {
              "color": "white"
             }
            },
            "type": "table"
           }
          ]
         },
         "layout": {
          "annotationdefaults": {
           "arrowcolor": "#2a3f5f",
           "arrowhead": 0,
           "arrowwidth": 1
          },
          "coloraxis": {
           "colorbar": {
            "outlinewidth": 0,
            "ticks": ""
           }
          },
          "colorscale": {
           "diverging": [
            [
             0,
             "#8e0152"
            ],
            [
             0.1,
             "#c51b7d"
            ],
            [
             0.2,
             "#de77ae"
            ],
            [
             0.3,
             "#f1b6da"
            ],
            [
             0.4,
             "#fde0ef"
            ],
            [
             0.5,
             "#f7f7f7"
            ],
            [
             0.6,
             "#e6f5d0"
            ],
            [
             0.7,
             "#b8e186"
            ],
            [
             0.8,
             "#7fbc41"
            ],
            [
             0.9,
             "#4d9221"
            ],
            [
             1,
             "#276419"
            ]
           ],
           "sequential": [
            [
             0,
             "#0d0887"
            ],
            [
             0.1111111111111111,
             "#46039f"
            ],
            [
             0.2222222222222222,
             "#7201a8"
            ],
            [
             0.3333333333333333,
             "#9c179e"
            ],
            [
             0.4444444444444444,
             "#bd3786"
            ],
            [
             0.5555555555555556,
             "#d8576b"
            ],
            [
             0.6666666666666666,
             "#ed7953"
            ],
            [
             0.7777777777777778,
             "#fb9f3a"
            ],
            [
             0.8888888888888888,
             "#fdca26"
            ],
            [
             1,
             "#f0f921"
            ]
           ],
           "sequentialminus": [
            [
             0,
             "#0d0887"
            ],
            [
             0.1111111111111111,
             "#46039f"
            ],
            [
             0.2222222222222222,
             "#7201a8"
            ],
            [
             0.3333333333333333,
             "#9c179e"
            ],
            [
             0.4444444444444444,
             "#bd3786"
            ],
            [
             0.5555555555555556,
             "#d8576b"
            ],
            [
             0.6666666666666666,
             "#ed7953"
            ],
            [
             0.7777777777777778,
             "#fb9f3a"
            ],
            [
             0.8888888888888888,
             "#fdca26"
            ],
            [
             1,
             "#f0f921"
            ]
           ]
          },
          "colorway": [
           "#636efa",
           "#EF553B",
           "#00cc96",
           "#ab63fa",
           "#FFA15A",
           "#19d3f3",
           "#FF6692",
           "#B6E880",
           "#FF97FF",
           "#FECB52"
          ],
          "font": {
           "color": "#2a3f5f"
          },
          "geo": {
           "bgcolor": "white",
           "lakecolor": "white",
           "landcolor": "#E5ECF6",
           "showlakes": true,
           "showland": true,
           "subunitcolor": "white"
          },
          "hoverlabel": {
           "align": "left"
          },
          "hovermode": "closest",
          "mapbox": {
           "style": "light"
          },
          "paper_bgcolor": "white",
          "plot_bgcolor": "#E5ECF6",
          "polar": {
           "angularaxis": {
            "gridcolor": "white",
            "linecolor": "white",
            "ticks": ""
           },
           "bgcolor": "#E5ECF6",
           "radialaxis": {
            "gridcolor": "white",
            "linecolor": "white",
            "ticks": ""
           }
          },
          "scene": {
           "xaxis": {
            "backgroundcolor": "#E5ECF6",
            "gridcolor": "white",
            "gridwidth": 2,
            "linecolor": "white",
            "showbackground": true,
            "ticks": "",
            "zerolinecolor": "white"
           },
           "yaxis": {
            "backgroundcolor": "#E5ECF6",
            "gridcolor": "white",
            "gridwidth": 2,
            "linecolor": "white",
            "showbackground": true,
            "ticks": "",
            "zerolinecolor": "white"
           },
           "zaxis": {
            "backgroundcolor": "#E5ECF6",
            "gridcolor": "white",
            "gridwidth": 2,
            "linecolor": "white",
            "showbackground": true,
            "ticks": "",
            "zerolinecolor": "white"
           }
          },
          "shapedefaults": {
           "line": {
            "color": "#2a3f5f"
           }
          },
          "ternary": {
           "aaxis": {
            "gridcolor": "white",
            "linecolor": "white",
            "ticks": ""
           },
           "baxis": {
            "gridcolor": "white",
            "linecolor": "white",
            "ticks": ""
           },
           "bgcolor": "#E5ECF6",
           "caxis": {
            "gridcolor": "white",
            "linecolor": "white",
            "ticks": ""
           }
          },
          "title": {
           "x": 0.05
          },
          "xaxis": {
           "automargin": true,
           "gridcolor": "white",
           "linecolor": "white",
           "ticks": "",
           "title": {
            "standoff": 15
           },
           "zerolinecolor": "white",
           "zerolinewidth": 2
          },
          "yaxis": {
           "automargin": true,
           "gridcolor": "white",
           "linecolor": "white",
           "ticks": "",
           "title": {
            "standoff": 15
           },
           "zerolinecolor": "white",
           "zerolinewidth": 2
          }
         }
        },
        "title": {
         "text": "Feature mean by positive & negative examples for bn2 layer"
        },
        "yaxis": {
         "tickfont": {
          "color": "#9467bd"
         },
         "title": {
          "font": {
           "color": "#9467bd"
          },
          "text": "positive"
         }
        },
        "yaxis2": {
         "overlaying": "y",
         "side": "right",
         "tickfont": {
          "color": "#F08B00"
         },
         "title": {
          "font": {
           "color": "#F08B00"
          },
          "text": "negative"
         }
        }
       }
      },
      "text/html": [
       "<div>\n",
       "        \n",
       "        \n",
       "            <div id=\"7b3b219b-f8af-4b52-8570-b101999cd009\" class=\"plotly-graph-div\" style=\"height:525px; width:100%;\"></div>\n",
       "            <script type=\"text/javascript\">\n",
       "                require([\"plotly\"], function(Plotly) {\n",
       "                    window.PLOTLYENV=window.PLOTLYENV || {};\n",
       "                    \n",
       "                if (document.getElementById(\"7b3b219b-f8af-4b52-8570-b101999cd009\")) {\n",
       "                    Plotly.newPlot(\n",
       "                        '7b3b219b-f8af-4b52-8570-b101999cd009',\n",
       "                        [{\"line\": {\"color\": \"#9467bd\"}, \"name\": \"positive\", \"type\": \"scatter\", \"x\": [0, 1, 2, 3, 4, 5, 6, 7, 8, 9, 10, 11, 12, 13, 14, 15, 16, 17, 18, 19, 20, 21, 22, 23, 24, 25, 26, 27, 28, 29, 30, 31, 32, 33, 34, 35, 36, 37, 38, 39, 40, 41, 42, 43, 44, 45, 46, 47, 48, 49, 50, 51, 52, 53, 54, 55, 56, 57, 58, 59, 60, 61, 62, 63, 64, 65, 66, 67, 68, 69, 70, 71, 72, 73, 74, 75, 76, 77, 78, 79, 80, 81, 82, 83, 84, 85, 86, 87, 88, 89, 90, 91, 92, 93, 94, 95, 96, 97, 98, 99, 100, 101, 102, 103, 104, 105, 106, 107, 108, 109, 110, 111, 112, 113, 114, 115, 116, 117, 118, 119, 120, 121, 122, 123, 124, 125, 126, 127, 128, 129, 130, 131, 132, 133, 134, 135, 136, 137, 138, 139, 140, 141, 142, 143, 144, 145, 146, 147, 148, 149, 150, 151, 152, 153, 154, 155, 156, 157, 158, 159, 160, 161, 162, 163, 164, 165, 166, 167, 168, 169, 170, 171, 172, 173, 174, 175, 176, 177, 178, 179, 180, 181, 182, 183, 184, 185, 186, 187, 188, 189, 190, 191, 192, 193, 194, 195, 196, 197, 198, 199, 200, 201, 202, 203, 204, 205, 206, 207, 208, 209, 210, 211, 212, 213, 214, 215, 216, 217, 218, 219, 220, 221, 222, 223, 224, 225, 226, 227, 228, 229, 230, 231, 232, 233, 234, 235, 236, 237, 238, 239, 240, 241, 242, 243, 244, 245, 246, 247, 248, 249, 250, 251, 252, 253, 254, 255, 256, 257, 258, 259, 260, 261, 262, 263, 264, 265, 266, 267, 268, 269, 270, 271, 272, 273, 274, 275, 276, 277, 278, 279, 280, 281, 282, 283, 284, 285, 286, 287, 288, 289, 290, 291, 292, 293, 294, 295, 296, 297, 298, 299], \"y\": [-0.05692349746823311, 0.5489298701286316, 0.519411563873291, 0.10219909995794296, 1.0610275268554688, 0.13107457756996155, 0.07178232818841934, 1.0688008069992065, -0.6752487421035767, 0.6210936903953552, 0.3729093372821808, -0.06385017931461334, 0.4628550410270691, 0.20889520645141602, 0.7095134854316711, 0.37632960081100464, -0.5140826106071472, 0.20709320902824402, 0.14926420152187347, -1.3314974308013916, -0.5280443429946899, 1.184536099433899, 1.096327543258667, 0.5354539155960083, -0.4144633412361145, 0.5789510011672974, 0.5280613899230957, 1.9124672412872314, -0.2652582824230194, -0.34358346462249756, -0.7621521353721619, 0.2280055284500122, 0.5999364852905273, -0.07216569781303406, -0.5453701019287109, 1.0456968545913696, 0.7147116661071777, 0.13090534508228302, 0.8432273864746094, -1.0722570419311523, 0.6481884121894836, 0.4070662558078766, 1.516027808189392, 0.2745814025402069, -0.5766361355781555, 0.8374408483505249, 2.449362277984619, 0.7816709280014038, 0.20356786251068115, 1.5225750207901, 1.1125588417053223, 1.9200416803359985, -1.3368452787399292, -0.3324487805366516, 1.51595938205719, -0.3587135374546051, -0.47065576910972595, 0.30557626485824585, 0.02428990602493286, -1.2312873601913452, 1.037731409072876, 0.4861323833465576, -0.8189349174499512, 1.8483766317367554, -0.34245362877845764, 1.5846425294876099, -0.1496042013168335, 0.18905428051948547, 2.022101879119873, 0.40957242250442505, 0.8766409158706665, 0.19281068444252014, -0.019962633028626442, 1.3047674894332886, 1.706969976425171, 0.6762021780014038, 0.3179660141468048, 0.041260261088609695, 1.881523847579956, 1.3992729187011719, -0.03847724199295044, 0.4718053936958313, 0.04940452426671982, 1.3798162937164307, 0.23718592524528503, 1.452980399131775, -0.4733286499977112, 0.392117977142334, 0.23559899628162384, -0.46117669343948364, 1.161347508430481, 0.9787465333938599, 0.5911135077476501, 0.28275924921035767, 1.2256073951721191, 0.41240644454956055, 1.3938220739364624, 0.35666605830192566, 0.1235530823469162, 0.6228337287902832, 0.5036078095436096, -0.13772113621234894, 2.2793290615081787, 0.8703346252441406, 1.1971012353897095, 1.4417462348937988, 1.4042454957962036, 0.6464537978172302, 0.06600081920623779, -0.3924964964389801, -0.135895237326622, 1.3829126358032227, 0.4199138283729553, 1.2448179721832275, 0.9783062934875488, 0.23795290291309357, -0.8160746693611145, 0.16467460989952087, 0.33531826734542847, -0.5048018097877502, 0.02699781022965908, 0.1225164383649826, 0.24611982703208923, 0.9941113591194153, 0.28700685501098633, -1.2847894430160522, -0.14281050860881805, -1.2066733837127686, -0.28608790040016174, 1.836322546005249, -0.390347421169281, 0.044561125338077545, -0.5711615681648254, 1.3415372371673584, -0.09813592582941055, 2.595217227935791, 0.6062580347061157, 0.9568643569946289, 2.6614990234375, 1.0122897624969482, -0.1662905365228653, 0.7230832576751709, -0.2219214141368866, -1.1034278869628906, -1.2032047510147095, 0.7807134389877319, 0.7590157985687256, -0.06786849349737167, -0.5593637824058533, 0.9137967228889465, 0.28704726696014404, 2.159101724624634, 1.0633423328399658, 0.8717557787895203, 0.11325027793645859, 1.3069106340408325, 0.6360743045806885, 0.6539212465286255, 0.14824000000953674, 1.5989469289779663, 2.029881477355957, 0.3237399458885193, 0.6634497046470642, 2.1236116886138916, 0.5020418167114258, 1.1139299869537354, 1.091304898262024, 1.5668790340423584, 1.1329219341278076, -1.0373278856277466, 0.760734498500824, -0.9104405641555786, 1.4553985595703125, 1.7732301950454712, 1.3294761180877686, -0.9955793619155884, -0.04517167806625366, 0.5335884690284729, -0.11025996506214142, 0.21568234264850616, -0.45343703031539917, 0.391248881816864, 0.7966604232788086, -0.44258055090904236, 0.1760834902524948, 1.093307614326477, 1.0462818145751953, 0.5414572954177856, 1.8091338872909546, 1.337647557258606, 0.4363704323768616, 0.6550062298774719, -0.3822031319141388, 0.15944847464561462, 0.004262649919837713, 0.4116280972957611, 0.1428571343421936, 0.9985613822937012, -0.24260547757148743, 1.1214189529418945, 1.0717777013778687, -0.19365432858467102, 0.32481649518013, 1.3082900047302246, 1.4775993824005127, -0.789393424987793, 0.8798729181289673, -0.8379881978034973, 0.7205601930618286, -0.29475393891334534, -0.773468554019928, 1.1827269792556763, 1.8013489246368408, 0.30619335174560547, 0.3502008318901062, -0.15356238186359406, -0.1328946053981781, 2.1215615272521973, 0.24926786124706268, 0.009306281805038452, 0.10306763648986816, -0.6716543436050415, 0.8669193983078003, 0.8229756355285645, 1.9110119342803955, 2.5934510231018066, 0.8370615243911743, -0.2413853108882904, 1.0222594738006592, 0.33347100019454956, 0.47530198097229004, 0.5603373646736145, -0.24711290001869202, -0.960030734539032, -0.2975977063179016, -0.047523386776447296, -0.35715678334236145, 1.1722602844238281, 1.573000431060791, 0.043380480259656906, 0.9266754388809204, -0.5167980790138245, -0.3865642249584198, 0.20997853577136993, 0.8375148773193359, 1.0395054817199707, 2.696101665496826, -1.0927990674972534, 0.06960910558700562, -0.10724584013223648, 0.8345440626144409, -0.816573441028595, 0.31343933939933777, -0.5537033081054688, 2.3543124198913574, -0.3867545425891876, 2.231360673904419, -0.7455605864524841, -0.18303826451301575, 1.4111902713775635, 1.0829476118087769, 1.0913200378417969, 0.7227004170417786, 2.5458483695983887, -0.22301650047302246, 0.6790231466293335, 0.6938849687576294, -0.6843518614768982, -0.0431651771068573, 0.25446438789367676, -0.46489715576171875, 0.35906022787094116, -0.08281803131103516, -0.09084882587194443, 0.11025501787662506, 0.1003132313489914, 2.77888822555542, 0.6069202423095703, 0.6620246767997742, 1.0465357303619385, -0.48509663343429565, 1.6590449810028076, 0.08317633718252182, 0.17783787846565247, 0.019307520240545273, 1.3171764612197876, 1.6708799600601196, 1.7226219177246094, 0.5789813995361328, 0.6538485288619995, 0.3544282019138336, 1.3583787679672241, 1.8781030178070068, -0.3503832221031189, -0.15338729321956635, 0.030128955841064453, 0.2085784673690796, 0.5769297480583191, 1.1861317157745361, -0.0396149680018425]}, {\"line\": {\"color\": \"#F08B00\"}, \"name\": \"negative\", \"type\": \"scatter\", \"x\": [0, 1, 2, 3, 4, 5, 6, 7, 8, 9, 10, 11, 12, 13, 14, 15, 16, 17, 18, 19, 20, 21, 22, 23, 24, 25, 26, 27, 28, 29, 30, 31, 32, 33, 34, 35, 36, 37, 38, 39, 40, 41, 42, 43, 44, 45, 46, 47, 48, 49, 50, 51, 52, 53, 54, 55, 56, 57, 58, 59, 60, 61, 62, 63, 64, 65, 66, 67, 68, 69, 70, 71, 72, 73, 74, 75, 76, 77, 78, 79, 80, 81, 82, 83, 84, 85, 86, 87, 88, 89, 90, 91, 92, 93, 94, 95, 96, 97, 98, 99, 100, 101, 102, 103, 104, 105, 106, 107, 108, 109, 110, 111, 112, 113, 114, 115, 116, 117, 118, 119, 120, 121, 122, 123, 124, 125, 126, 127, 128, 129, 130, 131, 132, 133, 134, 135, 136, 137, 138, 139, 140, 141, 142, 143, 144, 145, 146, 147, 148, 149, 150, 151, 152, 153, 154, 155, 156, 157, 158, 159, 160, 161, 162, 163, 164, 165, 166, 167, 168, 169, 170, 171, 172, 173, 174, 175, 176, 177, 178, 179, 180, 181, 182, 183, 184, 185, 186, 187, 188, 189, 190, 191, 192, 193, 194, 195, 196, 197, 198, 199, 200, 201, 202, 203, 204, 205, 206, 207, 208, 209, 210, 211, 212, 213, 214, 215, 216, 217, 218, 219, 220, 221, 222, 223, 224, 225, 226, 227, 228, 229, 230, 231, 232, 233, 234, 235, 236, 237, 238, 239, 240, 241, 242, 243, 244, 245, 246, 247, 248, 249, 250, 251, 252, 253, 254, 255, 256, 257, 258, 259, 260, 261, 262, 263, 264, 265, 266, 267, 268, 269, 270, 271, 272, 273, 274, 275, 276, 277, 278, 279, 280, 281, 282, 283, 284, 285, 286, 287, 288, 289, 290, 291, 292, 293, 294, 295, 296, 297, 298, 299], \"y\": [1.6669597625732422, 0.5043515563011169, 0.519411563873291, -0.3425424098968506, 1.0335971117019653, -0.47020357847213745, -1.6198580265045166, -0.20095857977867126, -0.7974129319190979, 0.6952451467514038, 1.3391656875610352, 3.696338176727295, -0.19107335805892944, 0.7438167929649353, 3.2737174034118652, -1.3916645050048828, -0.8459080457687378, 1.7140496969223022, 0.20906230807304382, 2.990626573562622, 2.493656635284424, 0.6182888746261597, -1.3256245851516724, 0.7989705204963684, -0.4144633412361145, -1.3879175186157227, -0.9781926870346069, 0.44779640436172485, -0.9502948522567749, 1.1461386680603027, -0.72043776512146, 3.9465699195861816, 0.5999364852905273, -0.1286255121231079, 1.1925606727600098, 3.038801670074463, -0.45494943857192993, 1.3182051181793213, 0.6331850290298462, 1.4801894426345825, -0.21298527717590332, 3.0210776329040527, 0.48899775743484497, -1.2875277996063232, 3.0597758293151855, -2.6778430938720703, 1.9355790615081787, 7.3396782875061035, 0.13625751435756683, -0.4154394268989563, -0.7190846800804138, 1.084500789642334, 3.457033157348633, -0.45544320344924927, 0.1458796262741089, 0.626181960105896, -0.05193747207522392, 0.05606198310852051, 4.069808006286621, 1.5502731800079346, 0.6782792210578918, 4.807158470153809, 2.805311918258667, 9.101078987121582, -1.6997041702270508, 1.5403575897216797, 3.7840499877929688, -0.2650028169155121, 4.288412570953369, 2.5208616256713867, -0.5125332474708557, -1.2113522291183472, 2.8310885429382324, -2.0161664485931396, 0.5048040151596069, 1.8040529489517212, 4.2129130363464355, -0.611208438873291, -1.1625858545303345, -2.876161813735962, -0.8849517107009888, 0.05645684525370598, 0.5898199677467346, 2.2248053550720215, 0.23718592524528503, 0.7267552018165588, -0.75389564037323, 1.264948844909668, 5.805502414703369, 3.4382987022399902, 1.161347508430481, 2.9347851276397705, 2.876272201538086, 2.090364933013916, -0.8711247444152832, -1.8008989095687866, -1.4523707628250122, -0.008444935083389282, 0.1235530823469162, -0.4059144854545593, -0.16325318813323975, -0.15615856647491455, 2.4111664295196533, -0.23024773597717285, 0.059686481952667236, 0.33121052384376526, -0.25863194465637207, 1.824045181274414, -0.2650434970855713, 2.111111640930176, 1.6961561441421509, 0.5056743621826172, 0.4199138283729553, 2.518110752105713, 0.24983450770378113, 5.340703010559082, -0.4493349492549896, -0.3855326175689697, 5.355489253997803, -0.5048018097877502, 4.911876678466797, 0.5111070871353149, -0.24125978350639343, 5.220561981201172, 0.28700685501098633, 2.6456387042999268, -0.5381633639335632, 3.218069076538086, 2.166482448577881, -0.8952769041061401, 4.286037921905518, -0.18342404067516327, 4.217602729797363, 0.524940550327301, 4.168720722198486, 2.595217227935791, 0.5371758341789246, -0.5254667401313782, 6.472316741943359, -0.9579092264175415, -0.08316222578287125, -0.906958281993866, -1.8802807331085205, 4.250154972076416, -0.17670360207557678, 4.609479904174805, -1.9891226291656494, 3.290497303009033, 1.2909879684448242, 1.1167881488800049, 0.042768657207489014, 6.072757244110107, 0.06373171508312225, 4.772943019866943, -0.4730626940727234, 0.7232069373130798, 0.021246790885925293, 2.2377352714538574, -0.7930725812911987, 1.2093580961227417, -0.515434205532074, 1.711202621459961, 0.1184789389371872, -0.27502575516700745, 1.3380693197250366, 1.6567875146865845, -0.3046117126941681, 0.12092442810535431, -1.0436850786209106, -1.2554043531417847, 5.371785640716553, 3.545200824737549, 4.801784515380859, -0.32209691405296326, -0.038364410400390625, -1.2542319297790527, -1.1478720903396606, 0.5335884690284729, 2.87807035446167, 1.7232134342193604, -1.1963762044906616, 0.05445683002471924, 1.995323896408081, 4.150693416595459, -0.3084368407726288, 1.093307614326477, -0.7294979095458984, -0.9370936155319214, 1.3019254207611084, 0.6264138221740723, 0.06418874114751816, 4.757889270782471, 0.9212161898612976, 1.9355742931365967, -0.9666854739189148, -0.397885799407959, 0.17122814059257507, -0.16482162475585938, 1.8875967264175415, -0.09569581598043442, 0.46489477157592773, 3.164957284927368, 4.8913469314575195, 1.0170304775238037, -1.8973166942596436, -0.27555781602859497, 1.5933164358139038, -1.4181021451950073, 3.432668685913086, 0.72486412525177, 3.6156373023986816, -0.3563969135284424, 0.03976273536682129, 0.30619335174560547, -0.12983618676662445, 0.6669407486915588, 1.4849836826324463, 0.08362078666687012, 2.278520107269287, 2.0445656776428223, 0.6376206874847412, 1.9058802127838135, -1.647923231124878, 0.38512489199638367, 1.418424367904663, 1.6234601736068726, -0.6072792410850525, -0.6709685921669006, -0.21513044834136963, 4.570569038391113, 4.247890949249268, 0.4082079827785492, 2.586933135986328, 4.045783042907715, 2.004885196685791, 3.8621628284454346, -0.3663475513458252, -0.47089046239852905, 1.4924848079681396, 4.081833839416504, 0.3748769760131836, 3.569110155105591, -0.08088378608226776, -1.0914170742034912, -1.072208285331726, 5.266362190246582, 0.8091732263565063, 2.2515225410461426, 5.063309669494629, 1.490875482559204, 1.3286274671554565, -0.9611560106277466, -1.069919466972351, 0.305358350276947, -1.7954156398773193, -0.3867545425891876, 2.231360673904419, 2.683842420578003, 5.581795692443848, -1.2534253597259521, 0.8217447996139526, 0.24743899703025818, 4.429404258728027, -0.949238657951355, -1.4245965480804443, -0.4376453757286072, 5.039924621582031, -0.6843518614768982, 3.5928313732147217, 0.9902313351631165, -0.3896172046661377, 0.728096604347229, -0.5827587842941284, -0.09084882587194443, 3.2627768516540527, -0.4699377119541168, -0.14053964614868164, 0.005589723587036133, 0.3662206530570984, -2.23703932762146, -0.662294328212738, -0.504158616065979, -0.11973918974399567, -0.24906949698925018, -0.34429293870925903, 0.016193091869354248, -1.2550679445266724, 0.20303690433502197, 0.24383428692817688, -0.7041444778442383, 0.4985848367214203, 4.0399580001831055, 1.3670262098312378, -1.2841664552688599, 0.9615933299064636, 5.214297294616699, 4.084584712982178, -1.2461601495742798, 0.9442424774169922, 1.0875566005706787], \"yaxis\": \"y2\"}],\n",
       "                        {\"template\": {\"data\": {\"bar\": [{\"error_x\": {\"color\": \"#2a3f5f\"}, \"error_y\": {\"color\": \"#2a3f5f\"}, \"marker\": {\"line\": {\"color\": \"#E5ECF6\", \"width\": 0.5}}, \"type\": \"bar\"}], \"barpolar\": [{\"marker\": {\"line\": {\"color\": \"#E5ECF6\", \"width\": 0.5}}, \"type\": \"barpolar\"}], \"carpet\": [{\"aaxis\": {\"endlinecolor\": \"#2a3f5f\", \"gridcolor\": \"white\", \"linecolor\": \"white\", \"minorgridcolor\": \"white\", \"startlinecolor\": \"#2a3f5f\"}, \"baxis\": {\"endlinecolor\": \"#2a3f5f\", \"gridcolor\": \"white\", \"linecolor\": \"white\", \"minorgridcolor\": \"white\", \"startlinecolor\": \"#2a3f5f\"}, \"type\": \"carpet\"}], \"choropleth\": [{\"colorbar\": {\"outlinewidth\": 0, \"ticks\": \"\"}, \"type\": \"choropleth\"}], \"contour\": [{\"colorbar\": {\"outlinewidth\": 0, \"ticks\": \"\"}, \"colorscale\": [[0.0, \"#0d0887\"], [0.1111111111111111, \"#46039f\"], [0.2222222222222222, \"#7201a8\"], [0.3333333333333333, \"#9c179e\"], [0.4444444444444444, \"#bd3786\"], [0.5555555555555556, \"#d8576b\"], [0.6666666666666666, \"#ed7953\"], [0.7777777777777778, \"#fb9f3a\"], [0.8888888888888888, \"#fdca26\"], [1.0, \"#f0f921\"]], \"type\": \"contour\"}], \"contourcarpet\": [{\"colorbar\": {\"outlinewidth\": 0, \"ticks\": \"\"}, \"type\": \"contourcarpet\"}], \"heatmap\": [{\"colorbar\": {\"outlinewidth\": 0, \"ticks\": \"\"}, \"colorscale\": [[0.0, \"#0d0887\"], [0.1111111111111111, \"#46039f\"], [0.2222222222222222, \"#7201a8\"], [0.3333333333333333, \"#9c179e\"], [0.4444444444444444, \"#bd3786\"], [0.5555555555555556, \"#d8576b\"], [0.6666666666666666, \"#ed7953\"], [0.7777777777777778, \"#fb9f3a\"], [0.8888888888888888, \"#fdca26\"], [1.0, \"#f0f921\"]], \"type\": \"heatmap\"}], \"heatmapgl\": [{\"colorbar\": {\"outlinewidth\": 0, \"ticks\": \"\"}, \"colorscale\": [[0.0, \"#0d0887\"], [0.1111111111111111, \"#46039f\"], [0.2222222222222222, \"#7201a8\"], [0.3333333333333333, \"#9c179e\"], [0.4444444444444444, \"#bd3786\"], [0.5555555555555556, \"#d8576b\"], [0.6666666666666666, \"#ed7953\"], [0.7777777777777778, \"#fb9f3a\"], [0.8888888888888888, \"#fdca26\"], [1.0, \"#f0f921\"]], \"type\": \"heatmapgl\"}], \"histogram\": [{\"marker\": {\"colorbar\": {\"outlinewidth\": 0, \"ticks\": \"\"}}, \"type\": \"histogram\"}], \"histogram2d\": [{\"colorbar\": {\"outlinewidth\": 0, \"ticks\": \"\"}, \"colorscale\": [[0.0, \"#0d0887\"], [0.1111111111111111, \"#46039f\"], [0.2222222222222222, \"#7201a8\"], [0.3333333333333333, \"#9c179e\"], [0.4444444444444444, \"#bd3786\"], [0.5555555555555556, \"#d8576b\"], [0.6666666666666666, \"#ed7953\"], [0.7777777777777778, \"#fb9f3a\"], [0.8888888888888888, \"#fdca26\"], [1.0, \"#f0f921\"]], \"type\": \"histogram2d\"}], \"histogram2dcontour\": [{\"colorbar\": {\"outlinewidth\": 0, \"ticks\": \"\"}, \"colorscale\": [[0.0, \"#0d0887\"], [0.1111111111111111, \"#46039f\"], [0.2222222222222222, \"#7201a8\"], [0.3333333333333333, \"#9c179e\"], [0.4444444444444444, \"#bd3786\"], [0.5555555555555556, \"#d8576b\"], [0.6666666666666666, \"#ed7953\"], [0.7777777777777778, \"#fb9f3a\"], [0.8888888888888888, \"#fdca26\"], [1.0, \"#f0f921\"]], \"type\": \"histogram2dcontour\"}], \"mesh3d\": [{\"colorbar\": {\"outlinewidth\": 0, \"ticks\": \"\"}, \"type\": \"mesh3d\"}], \"parcoords\": [{\"line\": {\"colorbar\": {\"outlinewidth\": 0, \"ticks\": \"\"}}, \"type\": \"parcoords\"}], \"pie\": [{\"automargin\": true, \"type\": \"pie\"}], \"scatter\": [{\"marker\": {\"colorbar\": {\"outlinewidth\": 0, \"ticks\": \"\"}}, \"type\": \"scatter\"}], \"scatter3d\": [{\"line\": {\"colorbar\": {\"outlinewidth\": 0, \"ticks\": \"\"}}, \"marker\": {\"colorbar\": {\"outlinewidth\": 0, \"ticks\": \"\"}}, \"type\": \"scatter3d\"}], \"scattercarpet\": [{\"marker\": {\"colorbar\": {\"outlinewidth\": 0, \"ticks\": \"\"}}, \"type\": \"scattercarpet\"}], \"scattergeo\": [{\"marker\": {\"colorbar\": {\"outlinewidth\": 0, \"ticks\": \"\"}}, \"type\": \"scattergeo\"}], \"scattergl\": [{\"marker\": {\"colorbar\": {\"outlinewidth\": 0, \"ticks\": \"\"}}, \"type\": \"scattergl\"}], \"scattermapbox\": [{\"marker\": {\"colorbar\": {\"outlinewidth\": 0, \"ticks\": \"\"}}, \"type\": \"scattermapbox\"}], \"scatterpolar\": [{\"marker\": {\"colorbar\": {\"outlinewidth\": 0, \"ticks\": \"\"}}, \"type\": \"scatterpolar\"}], \"scatterpolargl\": [{\"marker\": {\"colorbar\": {\"outlinewidth\": 0, \"ticks\": \"\"}}, \"type\": \"scatterpolargl\"}], \"scatterternary\": [{\"marker\": {\"colorbar\": {\"outlinewidth\": 0, \"ticks\": \"\"}}, \"type\": \"scatterternary\"}], \"surface\": [{\"colorbar\": {\"outlinewidth\": 0, \"ticks\": \"\"}, \"colorscale\": [[0.0, \"#0d0887\"], [0.1111111111111111, \"#46039f\"], [0.2222222222222222, \"#7201a8\"], [0.3333333333333333, \"#9c179e\"], [0.4444444444444444, \"#bd3786\"], [0.5555555555555556, \"#d8576b\"], [0.6666666666666666, \"#ed7953\"], [0.7777777777777778, \"#fb9f3a\"], [0.8888888888888888, \"#fdca26\"], [1.0, \"#f0f921\"]], \"type\": \"surface\"}], \"table\": [{\"cells\": {\"fill\": {\"color\": \"#EBF0F8\"}, \"line\": {\"color\": \"white\"}}, \"header\": {\"fill\": {\"color\": \"#C8D4E3\"}, \"line\": {\"color\": \"white\"}}, \"type\": \"table\"}]}, \"layout\": {\"annotationdefaults\": {\"arrowcolor\": \"#2a3f5f\", \"arrowhead\": 0, \"arrowwidth\": 1}, \"coloraxis\": {\"colorbar\": {\"outlinewidth\": 0, \"ticks\": \"\"}}, \"colorscale\": {\"diverging\": [[0, \"#8e0152\"], [0.1, \"#c51b7d\"], [0.2, \"#de77ae\"], [0.3, \"#f1b6da\"], [0.4, \"#fde0ef\"], [0.5, \"#f7f7f7\"], [0.6, \"#e6f5d0\"], [0.7, \"#b8e186\"], [0.8, \"#7fbc41\"], [0.9, \"#4d9221\"], [1, \"#276419\"]], \"sequential\": [[0.0, \"#0d0887\"], [0.1111111111111111, \"#46039f\"], [0.2222222222222222, \"#7201a8\"], [0.3333333333333333, \"#9c179e\"], [0.4444444444444444, \"#bd3786\"], [0.5555555555555556, \"#d8576b\"], [0.6666666666666666, \"#ed7953\"], [0.7777777777777778, \"#fb9f3a\"], [0.8888888888888888, \"#fdca26\"], [1.0, \"#f0f921\"]], \"sequentialminus\": [[0.0, \"#0d0887\"], [0.1111111111111111, \"#46039f\"], [0.2222222222222222, \"#7201a8\"], [0.3333333333333333, \"#9c179e\"], [0.4444444444444444, \"#bd3786\"], [0.5555555555555556, \"#d8576b\"], [0.6666666666666666, \"#ed7953\"], [0.7777777777777778, \"#fb9f3a\"], [0.8888888888888888, \"#fdca26\"], [1.0, \"#f0f921\"]]}, \"colorway\": [\"#636efa\", \"#EF553B\", \"#00cc96\", \"#ab63fa\", \"#FFA15A\", \"#19d3f3\", \"#FF6692\", \"#B6E880\", \"#FF97FF\", \"#FECB52\"], \"font\": {\"color\": \"#2a3f5f\"}, \"geo\": {\"bgcolor\": \"white\", \"lakecolor\": \"white\", \"landcolor\": \"#E5ECF6\", \"showlakes\": true, \"showland\": true, \"subunitcolor\": \"white\"}, \"hoverlabel\": {\"align\": \"left\"}, \"hovermode\": \"closest\", \"mapbox\": {\"style\": \"light\"}, \"paper_bgcolor\": \"white\", \"plot_bgcolor\": \"#E5ECF6\", \"polar\": {\"angularaxis\": {\"gridcolor\": \"white\", \"linecolor\": \"white\", \"ticks\": \"\"}, \"bgcolor\": \"#E5ECF6\", \"radialaxis\": {\"gridcolor\": \"white\", \"linecolor\": \"white\", \"ticks\": \"\"}}, \"scene\": {\"xaxis\": {\"backgroundcolor\": \"#E5ECF6\", \"gridcolor\": \"white\", \"gridwidth\": 2, \"linecolor\": \"white\", \"showbackground\": true, \"ticks\": \"\", \"zerolinecolor\": \"white\"}, \"yaxis\": {\"backgroundcolor\": \"#E5ECF6\", \"gridcolor\": \"white\", \"gridwidth\": 2, \"linecolor\": \"white\", \"showbackground\": true, \"ticks\": \"\", \"zerolinecolor\": \"white\"}, \"zaxis\": {\"backgroundcolor\": \"#E5ECF6\", \"gridcolor\": \"white\", \"gridwidth\": 2, \"linecolor\": \"white\", \"showbackground\": true, \"ticks\": \"\", \"zerolinecolor\": \"white\"}}, \"shapedefaults\": {\"line\": {\"color\": \"#2a3f5f\"}}, \"ternary\": {\"aaxis\": {\"gridcolor\": \"white\", \"linecolor\": \"white\", \"ticks\": \"\"}, \"baxis\": {\"gridcolor\": \"white\", \"linecolor\": \"white\", \"ticks\": \"\"}, \"bgcolor\": \"#E5ECF6\", \"caxis\": {\"gridcolor\": \"white\", \"linecolor\": \"white\", \"ticks\": \"\"}}, \"title\": {\"x\": 0.05}, \"xaxis\": {\"automargin\": true, \"gridcolor\": \"white\", \"linecolor\": \"white\", \"ticks\": \"\", \"title\": {\"standoff\": 15}, \"zerolinecolor\": \"white\", \"zerolinewidth\": 2}, \"yaxis\": {\"automargin\": true, \"gridcolor\": \"white\", \"linecolor\": \"white\", \"ticks\": \"\", \"title\": {\"standoff\": 15}, \"zerolinecolor\": \"white\", \"zerolinewidth\": 2}}}, \"title\": {\"text\": \"Feature mean by positive & negative examples for bn2 layer\"}, \"yaxis\": {\"tickfont\": {\"color\": \"#9467bd\"}, \"title\": {\"font\": {\"color\": \"#9467bd\"}, \"text\": \"positive\"}}, \"yaxis2\": {\"overlaying\": \"y\", \"side\": \"right\", \"tickfont\": {\"color\": \"#F08B00\"}, \"title\": {\"font\": {\"color\": \"#F08B00\"}, \"text\": \"negative\"}}},\n",
       "                        {\"responsive\": true}\n",
       "                    ).then(function(){\n",
       "                            \n",
       "var gd = document.getElementById('7b3b219b-f8af-4b52-8570-b101999cd009');\n",
       "var x = new MutationObserver(function (mutations, observer) {{\n",
       "        var display = window.getComputedStyle(gd).display;\n",
       "        if (!display || display === 'none') {{\n",
       "            console.log([gd, 'removed!']);\n",
       "            Plotly.purge(gd);\n",
       "            observer.disconnect();\n",
       "        }}\n",
       "}});\n",
       "\n",
       "// Listen for the removal of the full notebook cells\n",
       "var notebookContainer = gd.closest('#notebook-container');\n",
       "if (notebookContainer) {{\n",
       "    x.observe(notebookContainer, {childList: true});\n",
       "}}\n",
       "\n",
       "// Listen for the clearing of the current output cell\n",
       "var outputEl = gd.closest('.output');\n",
       "if (outputEl) {{\n",
       "    x.observe(outputEl, {childList: true});\n",
       "}}\n",
       "\n",
       "                        })\n",
       "                };\n",
       "                });\n",
       "            </script>\n",
       "        </div>"
      ]
     },
     "metadata": {},
     "output_type": "display_data"
    }
   ],
   "source": [
    "plot_scatter_intermediate_outputs_multitrace(\n",
    "    pos_out_mean, neg_out_mean, 'positive', 'negative',\n",
    "    'Feature mean by positive & negative examples for {} layer'.format(\n",
    "        layer_name))"
   ]
  },
  {
   "cell_type": "markdown",
   "metadata": {},
   "source": [
    "#### lin2"
   ]
  },
  {
   "cell_type": "code",
   "execution_count": 87,
   "metadata": {},
   "outputs": [],
   "source": [
    "layer_name = 'lin2'"
   ]
  },
  {
   "cell_type": "code",
   "execution_count": 88,
   "metadata": {},
   "outputs": [
    {
     "name": "stdout",
     "output_type": "stream",
     "text": [
      "(10, 100)\n",
      "(100,)\n",
      "(10, 100)\n",
      "(100,)\n"
     ]
    }
   ],
   "source": [
    "# feature mean\n",
    "pos_out_mean, neg_out_mean = get_mean_metrics_for_visualization(\n",
    "    positive_example_outs, negative_example_outs, layer_name, 'feature')"
   ]
  },
  {
   "cell_type": "code",
   "execution_count": 89,
   "metadata": {},
   "outputs": [
    {
     "data": {
      "application/vnd.plotly.v1+json": {
       "config": {
        "plotlyServerURL": "https://plot.ly"
       },
       "data": [
        {
         "line": {
          "color": "#9467bd"
         },
         "name": "positive",
         "type": "scatter",
         "x": [
          0,
          1,
          2,
          3,
          4,
          5,
          6,
          7,
          8,
          9,
          10,
          11,
          12,
          13,
          14,
          15,
          16,
          17,
          18,
          19,
          20,
          21,
          22,
          23,
          24,
          25,
          26,
          27,
          28,
          29,
          30,
          31,
          32,
          33,
          34,
          35,
          36,
          37,
          38,
          39,
          40,
          41,
          42,
          43,
          44,
          45,
          46,
          47,
          48,
          49,
          50,
          51,
          52,
          53,
          54,
          55,
          56,
          57,
          58,
          59,
          60,
          61,
          62,
          63,
          64,
          65,
          66,
          67,
          68,
          69,
          70,
          71,
          72,
          73,
          74,
          75,
          76,
          77,
          78,
          79,
          80,
          81,
          82,
          83,
          84,
          85,
          86,
          87,
          88,
          89,
          90,
          91,
          92,
          93,
          94,
          95,
          96,
          97,
          98,
          99
         ],
         "y": [
          38.92422103881836,
          96.94194030761719,
          25.865737915039062,
          86.55547332763672,
          -26.58184814453125,
          -91.44027709960938,
          -68.37174987792969,
          -110.98136901855469,
          0.5047073364257812,
          -336.7247619628906,
          49.58916473388672,
          23.243045806884766,
          36.15106964111328,
          -184.39491271972656,
          71.08822631835938,
          84.26396179199219,
          84.23124694824219,
          -32.65619659423828,
          46.457733154296875,
          -16.993362426757812,
          59.38615798950195,
          97.57820892333984,
          -33.868125915527344,
          -46.41647720336914,
          -252.8956756591797,
          -3.218766689300537,
          -237.320556640625,
          -41.194862365722656,
          -93.84468078613281,
          -34.5941276550293,
          -115.42691802978516,
          43.3695182800293,
          45.55934524536133,
          -51.62401580810547,
          -2.1627821922302246,
          -61.2144889831543,
          74.88469696044922,
          23.69205665588379,
          -23.524282455444336,
          -2.5799765586853027,
          -55.315704345703125,
          56.544349670410156,
          -153.15699768066406,
          -33.21866226196289,
          -10.366445541381836,
          55.347755432128906,
          56.348655700683594,
          -57.64281463623047,
          37.69702911376953,
          -10.669576644897461,
          44.70225143432617,
          -26.23575782775879,
          54.29570388793945,
          -33.06454849243164,
          26.136566162109375,
          -36.7879753112793,
          -51.73540115356445,
          -7.719273567199707,
          -44.38140106201172,
          5.620461940765381,
          -1.5301296710968018,
          -12.305709838867188,
          -14.670873641967773,
          3.547466278076172,
          -63.85481643676758,
          -52.75498580932617,
          -24.374568939208984,
          78.52522277832031,
          39.58579635620117,
          -47.21879959106445,
          73.86854553222656,
          -11.721549987792969,
          -47.19208908081055,
          -76.45738220214844,
          66.98570251464844,
          -298.13824462890625,
          -45.915645599365234,
          49.63243103027344,
          31.575265884399414,
          38.222373962402344,
          81.6238021850586,
          -29.800039291381836,
          -18.23819351196289,
          -115.97269439697266,
          -5.030123710632324,
          39.44368362426758,
          -140.9898223876953,
          -95.15675354003906,
          -17.724435806274414,
          -13.232867240905762,
          -36.57203674316406,
          -99.08683776855469,
          10.693307876586914,
          -293.7384338378906,
          -6.331007480621338,
          59.07143020629883,
          36.32496643066406,
          -2.3919625282287598,
          29.0687313079834,
          65.12076568603516
         ]
        },
        {
         "line": {
          "color": "#F08B00"
         },
         "name": "negative",
         "type": "scatter",
         "x": [
          0,
          1,
          2,
          3,
          4,
          5,
          6,
          7,
          8,
          9,
          10,
          11,
          12,
          13,
          14,
          15,
          16,
          17,
          18,
          19,
          20,
          21,
          22,
          23,
          24,
          25,
          26,
          27,
          28,
          29,
          30,
          31,
          32,
          33,
          34,
          35,
          36,
          37,
          38,
          39,
          40,
          41,
          42,
          43,
          44,
          45,
          46,
          47,
          48,
          49,
          50,
          51,
          52,
          53,
          54,
          55,
          56,
          57,
          58,
          59,
          60,
          61,
          62,
          63,
          64,
          65,
          66,
          67,
          68,
          69,
          70,
          71,
          72,
          73,
          74,
          75,
          76,
          77,
          78,
          79,
          80,
          81,
          82,
          83,
          84,
          85,
          86,
          87,
          88,
          89,
          90,
          91,
          92,
          93,
          94,
          95,
          96,
          97,
          98,
          99
         ],
         "y": [
          -151.15658569335938,
          -165.30467224121094,
          -207.4029541015625,
          -150.73129272460938,
          156.33682250976562,
          158.92103576660156,
          133.06375122070312,
          -646.050048828125,
          211.0890350341797,
          57.47674560546875,
          -266.12994384765625,
          -167.13845825195312,
          -295.94683837890625,
          119.9887924194336,
          -116.62620544433594,
          -228.740234375,
          -161.3818359375,
          236.761474609375,
          -130.72181701660156,
          250.0780487060547,
          -215.4944610595703,
          -166.23995971679688,
          -436.41094970703125,
          152.3080291748047,
          48.92451095581055,
          212.6808624267578,
          47.77018356323242,
          192.4928741455078,
          206.4282684326172,
          157.429443359375,
          159.43978881835938,
          -190.12966918945312,
          -203.8727264404297,
          153.3820343017578,
          231.3061981201172,
          -485.2877502441406,
          -187.50794982910156,
          -168.60606384277344,
          209.297119140625,
          227.58615112304688,
          130.10458374023438,
          -101.9789810180664,
          150.38796997070312,
          -493.8274841308594,
          272.77337646484375,
          -86.26190948486328,
          -124.82071685791016,
          247.71337890625,
          -219.7845916748047,
          137.69436645507812,
          -211.5966796875,
          173.83851623535156,
          -327.1064147949219,
          138.78652954101562,
          -255.9522247314453,
          147.69149780273438,
          147.57696533203125,
          208.9763946533203,
          132.40518188476562,
          223.22607421875,
          -331.3158874511719,
          179.13662719726562,
          -343.0992736816406,
          -233.90625,
          206.5343017578125,
          204.27745056152344,
          186.1615447998047,
          -266.3035888671875,
          -156.42091369628906,
          158.73318481445312,
          -173.26541137695312,
          179.02874755859375,
          117.1971435546875,
          201.74349975585938,
          -280.55902099609375,
          26.902090072631836,
          216.83981323242188,
          -163.5753936767578,
          -200.19378662109375,
          -143.16226196289062,
          -125.76582336425781,
          198.22679138183594,
          -183.1068878173828,
          113.40452575683594,
          212.00265502929688,
          -195.07015991210938,
          -780.63916015625,
          -643.4735717773438,
          149.49545288085938,
          203.13375854492188,
          157.26651000976562,
          92.53546142578125,
          261.32891845703125,
          43.20713424682617,
          247.2660675048828,
          -132.6941375732422,
          -289.38690185546875,
          276.4703063964844,
          -220.958984375,
          -135.13739013671875
         ],
         "yaxis": "y2"
        }
       ],
       "layout": {
        "template": {
         "data": {
          "bar": [
           {
            "error_x": {
             "color": "#2a3f5f"
            },
            "error_y": {
             "color": "#2a3f5f"
            },
            "marker": {
             "line": {
              "color": "#E5ECF6",
              "width": 0.5
             }
            },
            "type": "bar"
           }
          ],
          "barpolar": [
           {
            "marker": {
             "line": {
              "color": "#E5ECF6",
              "width": 0.5
             }
            },
            "type": "barpolar"
           }
          ],
          "carpet": [
           {
            "aaxis": {
             "endlinecolor": "#2a3f5f",
             "gridcolor": "white",
             "linecolor": "white",
             "minorgridcolor": "white",
             "startlinecolor": "#2a3f5f"
            },
            "baxis": {
             "endlinecolor": "#2a3f5f",
             "gridcolor": "white",
             "linecolor": "white",
             "minorgridcolor": "white",
             "startlinecolor": "#2a3f5f"
            },
            "type": "carpet"
           }
          ],
          "choropleth": [
           {
            "colorbar": {
             "outlinewidth": 0,
             "ticks": ""
            },
            "type": "choropleth"
           }
          ],
          "contour": [
           {
            "colorbar": {
             "outlinewidth": 0,
             "ticks": ""
            },
            "colorscale": [
             [
              0,
              "#0d0887"
             ],
             [
              0.1111111111111111,
              "#46039f"
             ],
             [
              0.2222222222222222,
              "#7201a8"
             ],
             [
              0.3333333333333333,
              "#9c179e"
             ],
             [
              0.4444444444444444,
              "#bd3786"
             ],
             [
              0.5555555555555556,
              "#d8576b"
             ],
             [
              0.6666666666666666,
              "#ed7953"
             ],
             [
              0.7777777777777778,
              "#fb9f3a"
             ],
             [
              0.8888888888888888,
              "#fdca26"
             ],
             [
              1,
              "#f0f921"
             ]
            ],
            "type": "contour"
           }
          ],
          "contourcarpet": [
           {
            "colorbar": {
             "outlinewidth": 0,
             "ticks": ""
            },
            "type": "contourcarpet"
           }
          ],
          "heatmap": [
           {
            "colorbar": {
             "outlinewidth": 0,
             "ticks": ""
            },
            "colorscale": [
             [
              0,
              "#0d0887"
             ],
             [
              0.1111111111111111,
              "#46039f"
             ],
             [
              0.2222222222222222,
              "#7201a8"
             ],
             [
              0.3333333333333333,
              "#9c179e"
             ],
             [
              0.4444444444444444,
              "#bd3786"
             ],
             [
              0.5555555555555556,
              "#d8576b"
             ],
             [
              0.6666666666666666,
              "#ed7953"
             ],
             [
              0.7777777777777778,
              "#fb9f3a"
             ],
             [
              0.8888888888888888,
              "#fdca26"
             ],
             [
              1,
              "#f0f921"
             ]
            ],
            "type": "heatmap"
           }
          ],
          "heatmapgl": [
           {
            "colorbar": {
             "outlinewidth": 0,
             "ticks": ""
            },
            "colorscale": [
             [
              0,
              "#0d0887"
             ],
             [
              0.1111111111111111,
              "#46039f"
             ],
             [
              0.2222222222222222,
              "#7201a8"
             ],
             [
              0.3333333333333333,
              "#9c179e"
             ],
             [
              0.4444444444444444,
              "#bd3786"
             ],
             [
              0.5555555555555556,
              "#d8576b"
             ],
             [
              0.6666666666666666,
              "#ed7953"
             ],
             [
              0.7777777777777778,
              "#fb9f3a"
             ],
             [
              0.8888888888888888,
              "#fdca26"
             ],
             [
              1,
              "#f0f921"
             ]
            ],
            "type": "heatmapgl"
           }
          ],
          "histogram": [
           {
            "marker": {
             "colorbar": {
              "outlinewidth": 0,
              "ticks": ""
             }
            },
            "type": "histogram"
           }
          ],
          "histogram2d": [
           {
            "colorbar": {
             "outlinewidth": 0,
             "ticks": ""
            },
            "colorscale": [
             [
              0,
              "#0d0887"
             ],
             [
              0.1111111111111111,
              "#46039f"
             ],
             [
              0.2222222222222222,
              "#7201a8"
             ],
             [
              0.3333333333333333,
              "#9c179e"
             ],
             [
              0.4444444444444444,
              "#bd3786"
             ],
             [
              0.5555555555555556,
              "#d8576b"
             ],
             [
              0.6666666666666666,
              "#ed7953"
             ],
             [
              0.7777777777777778,
              "#fb9f3a"
             ],
             [
              0.8888888888888888,
              "#fdca26"
             ],
             [
              1,
              "#f0f921"
             ]
            ],
            "type": "histogram2d"
           }
          ],
          "histogram2dcontour": [
           {
            "colorbar": {
             "outlinewidth": 0,
             "ticks": ""
            },
            "colorscale": [
             [
              0,
              "#0d0887"
             ],
             [
              0.1111111111111111,
              "#46039f"
             ],
             [
              0.2222222222222222,
              "#7201a8"
             ],
             [
              0.3333333333333333,
              "#9c179e"
             ],
             [
              0.4444444444444444,
              "#bd3786"
             ],
             [
              0.5555555555555556,
              "#d8576b"
             ],
             [
              0.6666666666666666,
              "#ed7953"
             ],
             [
              0.7777777777777778,
              "#fb9f3a"
             ],
             [
              0.8888888888888888,
              "#fdca26"
             ],
             [
              1,
              "#f0f921"
             ]
            ],
            "type": "histogram2dcontour"
           }
          ],
          "mesh3d": [
           {
            "colorbar": {
             "outlinewidth": 0,
             "ticks": ""
            },
            "type": "mesh3d"
           }
          ],
          "parcoords": [
           {
            "line": {
             "colorbar": {
              "outlinewidth": 0,
              "ticks": ""
             }
            },
            "type": "parcoords"
           }
          ],
          "pie": [
           {
            "automargin": true,
            "type": "pie"
           }
          ],
          "scatter": [
           {
            "marker": {
             "colorbar": {
              "outlinewidth": 0,
              "ticks": ""
             }
            },
            "type": "scatter"
           }
          ],
          "scatter3d": [
           {
            "line": {
             "colorbar": {
              "outlinewidth": 0,
              "ticks": ""
             }
            },
            "marker": {
             "colorbar": {
              "outlinewidth": 0,
              "ticks": ""
             }
            },
            "type": "scatter3d"
           }
          ],
          "scattercarpet": [
           {
            "marker": {
             "colorbar": {
              "outlinewidth": 0,
              "ticks": ""
             }
            },
            "type": "scattercarpet"
           }
          ],
          "scattergeo": [
           {
            "marker": {
             "colorbar": {
              "outlinewidth": 0,
              "ticks": ""
             }
            },
            "type": "scattergeo"
           }
          ],
          "scattergl": [
           {
            "marker": {
             "colorbar": {
              "outlinewidth": 0,
              "ticks": ""
             }
            },
            "type": "scattergl"
           }
          ],
          "scattermapbox": [
           {
            "marker": {
             "colorbar": {
              "outlinewidth": 0,
              "ticks": ""
             }
            },
            "type": "scattermapbox"
           }
          ],
          "scatterpolar": [
           {
            "marker": {
             "colorbar": {
              "outlinewidth": 0,
              "ticks": ""
             }
            },
            "type": "scatterpolar"
           }
          ],
          "scatterpolargl": [
           {
            "marker": {
             "colorbar": {
              "outlinewidth": 0,
              "ticks": ""
             }
            },
            "type": "scatterpolargl"
           }
          ],
          "scatterternary": [
           {
            "marker": {
             "colorbar": {
              "outlinewidth": 0,
              "ticks": ""
             }
            },
            "type": "scatterternary"
           }
          ],
          "surface": [
           {
            "colorbar": {
             "outlinewidth": 0,
             "ticks": ""
            },
            "colorscale": [
             [
              0,
              "#0d0887"
             ],
             [
              0.1111111111111111,
              "#46039f"
             ],
             [
              0.2222222222222222,
              "#7201a8"
             ],
             [
              0.3333333333333333,
              "#9c179e"
             ],
             [
              0.4444444444444444,
              "#bd3786"
             ],
             [
              0.5555555555555556,
              "#d8576b"
             ],
             [
              0.6666666666666666,
              "#ed7953"
             ],
             [
              0.7777777777777778,
              "#fb9f3a"
             ],
             [
              0.8888888888888888,
              "#fdca26"
             ],
             [
              1,
              "#f0f921"
             ]
            ],
            "type": "surface"
           }
          ],
          "table": [
           {
            "cells": {
             "fill": {
              "color": "#EBF0F8"
             },
             "line": {
              "color": "white"
             }
            },
            "header": {
             "fill": {
              "color": "#C8D4E3"
             },
             "line": {
              "color": "white"
             }
            },
            "type": "table"
           }
          ]
         },
         "layout": {
          "annotationdefaults": {
           "arrowcolor": "#2a3f5f",
           "arrowhead": 0,
           "arrowwidth": 1
          },
          "coloraxis": {
           "colorbar": {
            "outlinewidth": 0,
            "ticks": ""
           }
          },
          "colorscale": {
           "diverging": [
            [
             0,
             "#8e0152"
            ],
            [
             0.1,
             "#c51b7d"
            ],
            [
             0.2,
             "#de77ae"
            ],
            [
             0.3,
             "#f1b6da"
            ],
            [
             0.4,
             "#fde0ef"
            ],
            [
             0.5,
             "#f7f7f7"
            ],
            [
             0.6,
             "#e6f5d0"
            ],
            [
             0.7,
             "#b8e186"
            ],
            [
             0.8,
             "#7fbc41"
            ],
            [
             0.9,
             "#4d9221"
            ],
            [
             1,
             "#276419"
            ]
           ],
           "sequential": [
            [
             0,
             "#0d0887"
            ],
            [
             0.1111111111111111,
             "#46039f"
            ],
            [
             0.2222222222222222,
             "#7201a8"
            ],
            [
             0.3333333333333333,
             "#9c179e"
            ],
            [
             0.4444444444444444,
             "#bd3786"
            ],
            [
             0.5555555555555556,
             "#d8576b"
            ],
            [
             0.6666666666666666,
             "#ed7953"
            ],
            [
             0.7777777777777778,
             "#fb9f3a"
            ],
            [
             0.8888888888888888,
             "#fdca26"
            ],
            [
             1,
             "#f0f921"
            ]
           ],
           "sequentialminus": [
            [
             0,
             "#0d0887"
            ],
            [
             0.1111111111111111,
             "#46039f"
            ],
            [
             0.2222222222222222,
             "#7201a8"
            ],
            [
             0.3333333333333333,
             "#9c179e"
            ],
            [
             0.4444444444444444,
             "#bd3786"
            ],
            [
             0.5555555555555556,
             "#d8576b"
            ],
            [
             0.6666666666666666,
             "#ed7953"
            ],
            [
             0.7777777777777778,
             "#fb9f3a"
            ],
            [
             0.8888888888888888,
             "#fdca26"
            ],
            [
             1,
             "#f0f921"
            ]
           ]
          },
          "colorway": [
           "#636efa",
           "#EF553B",
           "#00cc96",
           "#ab63fa",
           "#FFA15A",
           "#19d3f3",
           "#FF6692",
           "#B6E880",
           "#FF97FF",
           "#FECB52"
          ],
          "font": {
           "color": "#2a3f5f"
          },
          "geo": {
           "bgcolor": "white",
           "lakecolor": "white",
           "landcolor": "#E5ECF6",
           "showlakes": true,
           "showland": true,
           "subunitcolor": "white"
          },
          "hoverlabel": {
           "align": "left"
          },
          "hovermode": "closest",
          "mapbox": {
           "style": "light"
          },
          "paper_bgcolor": "white",
          "plot_bgcolor": "#E5ECF6",
          "polar": {
           "angularaxis": {
            "gridcolor": "white",
            "linecolor": "white",
            "ticks": ""
           },
           "bgcolor": "#E5ECF6",
           "radialaxis": {
            "gridcolor": "white",
            "linecolor": "white",
            "ticks": ""
           }
          },
          "scene": {
           "xaxis": {
            "backgroundcolor": "#E5ECF6",
            "gridcolor": "white",
            "gridwidth": 2,
            "linecolor": "white",
            "showbackground": true,
            "ticks": "",
            "zerolinecolor": "white"
           },
           "yaxis": {
            "backgroundcolor": "#E5ECF6",
            "gridcolor": "white",
            "gridwidth": 2,
            "linecolor": "white",
            "showbackground": true,
            "ticks": "",
            "zerolinecolor": "white"
           },
           "zaxis": {
            "backgroundcolor": "#E5ECF6",
            "gridcolor": "white",
            "gridwidth": 2,
            "linecolor": "white",
            "showbackground": true,
            "ticks": "",
            "zerolinecolor": "white"
           }
          },
          "shapedefaults": {
           "line": {
            "color": "#2a3f5f"
           }
          },
          "ternary": {
           "aaxis": {
            "gridcolor": "white",
            "linecolor": "white",
            "ticks": ""
           },
           "baxis": {
            "gridcolor": "white",
            "linecolor": "white",
            "ticks": ""
           },
           "bgcolor": "#E5ECF6",
           "caxis": {
            "gridcolor": "white",
            "linecolor": "white",
            "ticks": ""
           }
          },
          "title": {
           "x": 0.05
          },
          "xaxis": {
           "automargin": true,
           "gridcolor": "white",
           "linecolor": "white",
           "ticks": "",
           "title": {
            "standoff": 15
           },
           "zerolinecolor": "white",
           "zerolinewidth": 2
          },
          "yaxis": {
           "automargin": true,
           "gridcolor": "white",
           "linecolor": "white",
           "ticks": "",
           "title": {
            "standoff": 15
           },
           "zerolinecolor": "white",
           "zerolinewidth": 2
          }
         }
        },
        "title": {
         "text": "Feature mean by positive & negative examples for lin2 layer"
        },
        "yaxis": {
         "tickfont": {
          "color": "#9467bd"
         },
         "title": {
          "font": {
           "color": "#9467bd"
          },
          "text": "positive"
         }
        },
        "yaxis2": {
         "overlaying": "y",
         "side": "right",
         "tickfont": {
          "color": "#F08B00"
         },
         "title": {
          "font": {
           "color": "#F08B00"
          },
          "text": "negative"
         }
        }
       }
      },
      "text/html": [
       "<div>\n",
       "        \n",
       "        \n",
       "            <div id=\"177803ae-cfa9-4965-a610-c71e5bb15989\" class=\"plotly-graph-div\" style=\"height:525px; width:100%;\"></div>\n",
       "            <script type=\"text/javascript\">\n",
       "                require([\"plotly\"], function(Plotly) {\n",
       "                    window.PLOTLYENV=window.PLOTLYENV || {};\n",
       "                    \n",
       "                if (document.getElementById(\"177803ae-cfa9-4965-a610-c71e5bb15989\")) {\n",
       "                    Plotly.newPlot(\n",
       "                        '177803ae-cfa9-4965-a610-c71e5bb15989',\n",
       "                        [{\"line\": {\"color\": \"#9467bd\"}, \"name\": \"positive\", \"type\": \"scatter\", \"x\": [0, 1, 2, 3, 4, 5, 6, 7, 8, 9, 10, 11, 12, 13, 14, 15, 16, 17, 18, 19, 20, 21, 22, 23, 24, 25, 26, 27, 28, 29, 30, 31, 32, 33, 34, 35, 36, 37, 38, 39, 40, 41, 42, 43, 44, 45, 46, 47, 48, 49, 50, 51, 52, 53, 54, 55, 56, 57, 58, 59, 60, 61, 62, 63, 64, 65, 66, 67, 68, 69, 70, 71, 72, 73, 74, 75, 76, 77, 78, 79, 80, 81, 82, 83, 84, 85, 86, 87, 88, 89, 90, 91, 92, 93, 94, 95, 96, 97, 98, 99], \"y\": [38.92422103881836, 96.94194030761719, 25.865737915039062, 86.55547332763672, -26.58184814453125, -91.44027709960938, -68.37174987792969, -110.98136901855469, 0.5047073364257812, -336.7247619628906, 49.58916473388672, 23.243045806884766, 36.15106964111328, -184.39491271972656, 71.08822631835938, 84.26396179199219, 84.23124694824219, -32.65619659423828, 46.457733154296875, -16.993362426757812, 59.38615798950195, 97.57820892333984, -33.868125915527344, -46.41647720336914, -252.8956756591797, -3.218766689300537, -237.320556640625, -41.194862365722656, -93.84468078613281, -34.5941276550293, -115.42691802978516, 43.3695182800293, 45.55934524536133, -51.62401580810547, -2.1627821922302246, -61.2144889831543, 74.88469696044922, 23.69205665588379, -23.524282455444336, -2.5799765586853027, -55.315704345703125, 56.544349670410156, -153.15699768066406, -33.21866226196289, -10.366445541381836, 55.347755432128906, 56.348655700683594, -57.64281463623047, 37.69702911376953, -10.669576644897461, 44.70225143432617, -26.23575782775879, 54.29570388793945, -33.06454849243164, 26.136566162109375, -36.7879753112793, -51.73540115356445, -7.719273567199707, -44.38140106201172, 5.620461940765381, -1.5301296710968018, -12.305709838867188, -14.670873641967773, 3.547466278076172, -63.85481643676758, -52.75498580932617, -24.374568939208984, 78.52522277832031, 39.58579635620117, -47.21879959106445, 73.86854553222656, -11.721549987792969, -47.19208908081055, -76.45738220214844, 66.98570251464844, -298.13824462890625, -45.915645599365234, 49.63243103027344, 31.575265884399414, 38.222373962402344, 81.6238021850586, -29.800039291381836, -18.23819351196289, -115.97269439697266, -5.030123710632324, 39.44368362426758, -140.9898223876953, -95.15675354003906, -17.724435806274414, -13.232867240905762, -36.57203674316406, -99.08683776855469, 10.693307876586914, -293.7384338378906, -6.331007480621338, 59.07143020629883, 36.32496643066406, -2.3919625282287598, 29.0687313079834, 65.12076568603516]}, {\"line\": {\"color\": \"#F08B00\"}, \"name\": \"negative\", \"type\": \"scatter\", \"x\": [0, 1, 2, 3, 4, 5, 6, 7, 8, 9, 10, 11, 12, 13, 14, 15, 16, 17, 18, 19, 20, 21, 22, 23, 24, 25, 26, 27, 28, 29, 30, 31, 32, 33, 34, 35, 36, 37, 38, 39, 40, 41, 42, 43, 44, 45, 46, 47, 48, 49, 50, 51, 52, 53, 54, 55, 56, 57, 58, 59, 60, 61, 62, 63, 64, 65, 66, 67, 68, 69, 70, 71, 72, 73, 74, 75, 76, 77, 78, 79, 80, 81, 82, 83, 84, 85, 86, 87, 88, 89, 90, 91, 92, 93, 94, 95, 96, 97, 98, 99], \"y\": [-151.15658569335938, -165.30467224121094, -207.4029541015625, -150.73129272460938, 156.33682250976562, 158.92103576660156, 133.06375122070312, -646.050048828125, 211.0890350341797, 57.47674560546875, -266.12994384765625, -167.13845825195312, -295.94683837890625, 119.9887924194336, -116.62620544433594, -228.740234375, -161.3818359375, 236.761474609375, -130.72181701660156, 250.0780487060547, -215.4944610595703, -166.23995971679688, -436.41094970703125, 152.3080291748047, 48.92451095581055, 212.6808624267578, 47.77018356323242, 192.4928741455078, 206.4282684326172, 157.429443359375, 159.43978881835938, -190.12966918945312, -203.8727264404297, 153.3820343017578, 231.3061981201172, -485.2877502441406, -187.50794982910156, -168.60606384277344, 209.297119140625, 227.58615112304688, 130.10458374023438, -101.9789810180664, 150.38796997070312, -493.8274841308594, 272.77337646484375, -86.26190948486328, -124.82071685791016, 247.71337890625, -219.7845916748047, 137.69436645507812, -211.5966796875, 173.83851623535156, -327.1064147949219, 138.78652954101562, -255.9522247314453, 147.69149780273438, 147.57696533203125, 208.9763946533203, 132.40518188476562, 223.22607421875, -331.3158874511719, 179.13662719726562, -343.0992736816406, -233.90625, 206.5343017578125, 204.27745056152344, 186.1615447998047, -266.3035888671875, -156.42091369628906, 158.73318481445312, -173.26541137695312, 179.02874755859375, 117.1971435546875, 201.74349975585938, -280.55902099609375, 26.902090072631836, 216.83981323242188, -163.5753936767578, -200.19378662109375, -143.16226196289062, -125.76582336425781, 198.22679138183594, -183.1068878173828, 113.40452575683594, 212.00265502929688, -195.07015991210938, -780.63916015625, -643.4735717773438, 149.49545288085938, 203.13375854492188, 157.26651000976562, 92.53546142578125, 261.32891845703125, 43.20713424682617, 247.2660675048828, -132.6941375732422, -289.38690185546875, 276.4703063964844, -220.958984375, -135.13739013671875], \"yaxis\": \"y2\"}],\n",
       "                        {\"template\": {\"data\": {\"bar\": [{\"error_x\": {\"color\": \"#2a3f5f\"}, \"error_y\": {\"color\": \"#2a3f5f\"}, \"marker\": {\"line\": {\"color\": \"#E5ECF6\", \"width\": 0.5}}, \"type\": \"bar\"}], \"barpolar\": [{\"marker\": {\"line\": {\"color\": \"#E5ECF6\", \"width\": 0.5}}, \"type\": \"barpolar\"}], \"carpet\": [{\"aaxis\": {\"endlinecolor\": \"#2a3f5f\", \"gridcolor\": \"white\", \"linecolor\": \"white\", \"minorgridcolor\": \"white\", \"startlinecolor\": \"#2a3f5f\"}, \"baxis\": {\"endlinecolor\": \"#2a3f5f\", \"gridcolor\": \"white\", \"linecolor\": \"white\", \"minorgridcolor\": \"white\", \"startlinecolor\": \"#2a3f5f\"}, \"type\": \"carpet\"}], \"choropleth\": [{\"colorbar\": {\"outlinewidth\": 0, \"ticks\": \"\"}, \"type\": \"choropleth\"}], \"contour\": [{\"colorbar\": {\"outlinewidth\": 0, \"ticks\": \"\"}, \"colorscale\": [[0.0, \"#0d0887\"], [0.1111111111111111, \"#46039f\"], [0.2222222222222222, \"#7201a8\"], [0.3333333333333333, \"#9c179e\"], [0.4444444444444444, \"#bd3786\"], [0.5555555555555556, \"#d8576b\"], [0.6666666666666666, \"#ed7953\"], [0.7777777777777778, \"#fb9f3a\"], [0.8888888888888888, \"#fdca26\"], [1.0, \"#f0f921\"]], \"type\": \"contour\"}], \"contourcarpet\": [{\"colorbar\": {\"outlinewidth\": 0, \"ticks\": \"\"}, \"type\": \"contourcarpet\"}], \"heatmap\": [{\"colorbar\": {\"outlinewidth\": 0, \"ticks\": \"\"}, \"colorscale\": [[0.0, \"#0d0887\"], [0.1111111111111111, \"#46039f\"], [0.2222222222222222, \"#7201a8\"], [0.3333333333333333, \"#9c179e\"], [0.4444444444444444, \"#bd3786\"], [0.5555555555555556, \"#d8576b\"], [0.6666666666666666, \"#ed7953\"], [0.7777777777777778, \"#fb9f3a\"], [0.8888888888888888, \"#fdca26\"], [1.0, \"#f0f921\"]], \"type\": \"heatmap\"}], \"heatmapgl\": [{\"colorbar\": {\"outlinewidth\": 0, \"ticks\": \"\"}, \"colorscale\": [[0.0, \"#0d0887\"], [0.1111111111111111, \"#46039f\"], [0.2222222222222222, \"#7201a8\"], [0.3333333333333333, \"#9c179e\"], [0.4444444444444444, \"#bd3786\"], [0.5555555555555556, \"#d8576b\"], [0.6666666666666666, \"#ed7953\"], [0.7777777777777778, \"#fb9f3a\"], [0.8888888888888888, \"#fdca26\"], [1.0, \"#f0f921\"]], \"type\": \"heatmapgl\"}], \"histogram\": [{\"marker\": {\"colorbar\": {\"outlinewidth\": 0, \"ticks\": \"\"}}, \"type\": \"histogram\"}], \"histogram2d\": [{\"colorbar\": {\"outlinewidth\": 0, \"ticks\": \"\"}, \"colorscale\": [[0.0, \"#0d0887\"], [0.1111111111111111, \"#46039f\"], [0.2222222222222222, \"#7201a8\"], [0.3333333333333333, \"#9c179e\"], [0.4444444444444444, \"#bd3786\"], [0.5555555555555556, \"#d8576b\"], [0.6666666666666666, \"#ed7953\"], [0.7777777777777778, \"#fb9f3a\"], [0.8888888888888888, \"#fdca26\"], [1.0, \"#f0f921\"]], \"type\": \"histogram2d\"}], \"histogram2dcontour\": [{\"colorbar\": {\"outlinewidth\": 0, \"ticks\": \"\"}, \"colorscale\": [[0.0, \"#0d0887\"], [0.1111111111111111, \"#46039f\"], [0.2222222222222222, \"#7201a8\"], [0.3333333333333333, \"#9c179e\"], [0.4444444444444444, \"#bd3786\"], [0.5555555555555556, \"#d8576b\"], [0.6666666666666666, \"#ed7953\"], [0.7777777777777778, \"#fb9f3a\"], [0.8888888888888888, \"#fdca26\"], [1.0, \"#f0f921\"]], \"type\": \"histogram2dcontour\"}], \"mesh3d\": [{\"colorbar\": {\"outlinewidth\": 0, \"ticks\": \"\"}, \"type\": \"mesh3d\"}], \"parcoords\": [{\"line\": {\"colorbar\": {\"outlinewidth\": 0, \"ticks\": \"\"}}, \"type\": \"parcoords\"}], \"pie\": [{\"automargin\": true, \"type\": \"pie\"}], \"scatter\": [{\"marker\": {\"colorbar\": {\"outlinewidth\": 0, \"ticks\": \"\"}}, \"type\": \"scatter\"}], \"scatter3d\": [{\"line\": {\"colorbar\": {\"outlinewidth\": 0, \"ticks\": \"\"}}, \"marker\": {\"colorbar\": {\"outlinewidth\": 0, \"ticks\": \"\"}}, \"type\": \"scatter3d\"}], \"scattercarpet\": [{\"marker\": {\"colorbar\": {\"outlinewidth\": 0, \"ticks\": \"\"}}, \"type\": \"scattercarpet\"}], \"scattergeo\": [{\"marker\": {\"colorbar\": {\"outlinewidth\": 0, \"ticks\": \"\"}}, \"type\": \"scattergeo\"}], \"scattergl\": [{\"marker\": {\"colorbar\": {\"outlinewidth\": 0, \"ticks\": \"\"}}, \"type\": \"scattergl\"}], \"scattermapbox\": [{\"marker\": {\"colorbar\": {\"outlinewidth\": 0, \"ticks\": \"\"}}, \"type\": \"scattermapbox\"}], \"scatterpolar\": [{\"marker\": {\"colorbar\": {\"outlinewidth\": 0, \"ticks\": \"\"}}, \"type\": \"scatterpolar\"}], \"scatterpolargl\": [{\"marker\": {\"colorbar\": {\"outlinewidth\": 0, \"ticks\": \"\"}}, \"type\": \"scatterpolargl\"}], \"scatterternary\": [{\"marker\": {\"colorbar\": {\"outlinewidth\": 0, \"ticks\": \"\"}}, \"type\": \"scatterternary\"}], \"surface\": [{\"colorbar\": {\"outlinewidth\": 0, \"ticks\": \"\"}, \"colorscale\": [[0.0, \"#0d0887\"], [0.1111111111111111, \"#46039f\"], [0.2222222222222222, \"#7201a8\"], [0.3333333333333333, \"#9c179e\"], [0.4444444444444444, \"#bd3786\"], [0.5555555555555556, \"#d8576b\"], [0.6666666666666666, \"#ed7953\"], [0.7777777777777778, \"#fb9f3a\"], [0.8888888888888888, \"#fdca26\"], [1.0, \"#f0f921\"]], \"type\": \"surface\"}], \"table\": [{\"cells\": {\"fill\": {\"color\": \"#EBF0F8\"}, \"line\": {\"color\": \"white\"}}, \"header\": {\"fill\": {\"color\": \"#C8D4E3\"}, \"line\": {\"color\": \"white\"}}, \"type\": \"table\"}]}, \"layout\": {\"annotationdefaults\": {\"arrowcolor\": \"#2a3f5f\", \"arrowhead\": 0, \"arrowwidth\": 1}, \"coloraxis\": {\"colorbar\": {\"outlinewidth\": 0, \"ticks\": \"\"}}, \"colorscale\": {\"diverging\": [[0, \"#8e0152\"], [0.1, \"#c51b7d\"], [0.2, \"#de77ae\"], [0.3, \"#f1b6da\"], [0.4, \"#fde0ef\"], [0.5, \"#f7f7f7\"], [0.6, \"#e6f5d0\"], [0.7, \"#b8e186\"], [0.8, \"#7fbc41\"], [0.9, \"#4d9221\"], [1, \"#276419\"]], \"sequential\": [[0.0, \"#0d0887\"], [0.1111111111111111, \"#46039f\"], [0.2222222222222222, \"#7201a8\"], [0.3333333333333333, \"#9c179e\"], [0.4444444444444444, \"#bd3786\"], [0.5555555555555556, \"#d8576b\"], [0.6666666666666666, \"#ed7953\"], [0.7777777777777778, \"#fb9f3a\"], [0.8888888888888888, \"#fdca26\"], [1.0, \"#f0f921\"]], \"sequentialminus\": [[0.0, \"#0d0887\"], [0.1111111111111111, \"#46039f\"], [0.2222222222222222, \"#7201a8\"], [0.3333333333333333, \"#9c179e\"], [0.4444444444444444, \"#bd3786\"], [0.5555555555555556, \"#d8576b\"], [0.6666666666666666, \"#ed7953\"], [0.7777777777777778, \"#fb9f3a\"], [0.8888888888888888, \"#fdca26\"], [1.0, \"#f0f921\"]]}, \"colorway\": [\"#636efa\", \"#EF553B\", \"#00cc96\", \"#ab63fa\", \"#FFA15A\", \"#19d3f3\", \"#FF6692\", \"#B6E880\", \"#FF97FF\", \"#FECB52\"], \"font\": {\"color\": \"#2a3f5f\"}, \"geo\": {\"bgcolor\": \"white\", \"lakecolor\": \"white\", \"landcolor\": \"#E5ECF6\", \"showlakes\": true, \"showland\": true, \"subunitcolor\": \"white\"}, \"hoverlabel\": {\"align\": \"left\"}, \"hovermode\": \"closest\", \"mapbox\": {\"style\": \"light\"}, \"paper_bgcolor\": \"white\", \"plot_bgcolor\": \"#E5ECF6\", \"polar\": {\"angularaxis\": {\"gridcolor\": \"white\", \"linecolor\": \"white\", \"ticks\": \"\"}, \"bgcolor\": \"#E5ECF6\", \"radialaxis\": {\"gridcolor\": \"white\", \"linecolor\": \"white\", \"ticks\": \"\"}}, \"scene\": {\"xaxis\": {\"backgroundcolor\": \"#E5ECF6\", \"gridcolor\": \"white\", \"gridwidth\": 2, \"linecolor\": \"white\", \"showbackground\": true, \"ticks\": \"\", \"zerolinecolor\": \"white\"}, \"yaxis\": {\"backgroundcolor\": \"#E5ECF6\", \"gridcolor\": \"white\", \"gridwidth\": 2, \"linecolor\": \"white\", \"showbackground\": true, \"ticks\": \"\", \"zerolinecolor\": \"white\"}, \"zaxis\": {\"backgroundcolor\": \"#E5ECF6\", \"gridcolor\": \"white\", \"gridwidth\": 2, \"linecolor\": \"white\", \"showbackground\": true, \"ticks\": \"\", \"zerolinecolor\": \"white\"}}, \"shapedefaults\": {\"line\": {\"color\": \"#2a3f5f\"}}, \"ternary\": {\"aaxis\": {\"gridcolor\": \"white\", \"linecolor\": \"white\", \"ticks\": \"\"}, \"baxis\": {\"gridcolor\": \"white\", \"linecolor\": \"white\", \"ticks\": \"\"}, \"bgcolor\": \"#E5ECF6\", \"caxis\": {\"gridcolor\": \"white\", \"linecolor\": \"white\", \"ticks\": \"\"}}, \"title\": {\"x\": 0.05}, \"xaxis\": {\"automargin\": true, \"gridcolor\": \"white\", \"linecolor\": \"white\", \"ticks\": \"\", \"title\": {\"standoff\": 15}, \"zerolinecolor\": \"white\", \"zerolinewidth\": 2}, \"yaxis\": {\"automargin\": true, \"gridcolor\": \"white\", \"linecolor\": \"white\", \"ticks\": \"\", \"title\": {\"standoff\": 15}, \"zerolinecolor\": \"white\", \"zerolinewidth\": 2}}}, \"title\": {\"text\": \"Feature mean by positive & negative examples for lin2 layer\"}, \"yaxis\": {\"tickfont\": {\"color\": \"#9467bd\"}, \"title\": {\"font\": {\"color\": \"#9467bd\"}, \"text\": \"positive\"}}, \"yaxis2\": {\"overlaying\": \"y\", \"side\": \"right\", \"tickfont\": {\"color\": \"#F08B00\"}, \"title\": {\"font\": {\"color\": \"#F08B00\"}, \"text\": \"negative\"}}},\n",
       "                        {\"responsive\": true}\n",
       "                    ).then(function(){\n",
       "                            \n",
       "var gd = document.getElementById('177803ae-cfa9-4965-a610-c71e5bb15989');\n",
       "var x = new MutationObserver(function (mutations, observer) {{\n",
       "        var display = window.getComputedStyle(gd).display;\n",
       "        if (!display || display === 'none') {{\n",
       "            console.log([gd, 'removed!']);\n",
       "            Plotly.purge(gd);\n",
       "            observer.disconnect();\n",
       "        }}\n",
       "}});\n",
       "\n",
       "// Listen for the removal of the full notebook cells\n",
       "var notebookContainer = gd.closest('#notebook-container');\n",
       "if (notebookContainer) {{\n",
       "    x.observe(notebookContainer, {childList: true});\n",
       "}}\n",
       "\n",
       "// Listen for the clearing of the current output cell\n",
       "var outputEl = gd.closest('.output');\n",
       "if (outputEl) {{\n",
       "    x.observe(outputEl, {childList: true});\n",
       "}}\n",
       "\n",
       "                        })\n",
       "                };\n",
       "                });\n",
       "            </script>\n",
       "        </div>"
      ]
     },
     "metadata": {},
     "output_type": "display_data"
    }
   ],
   "source": [
    "plot_scatter_intermediate_outputs_multitrace(\n",
    "    pos_out_mean, neg_out_mean, 'positive', 'negative',\n",
    "    'Feature mean by positive & negative examples for {} layer'.format(\n",
    "        layer_name))"
   ]
  },
  {
   "cell_type": "markdown",
   "metadata": {},
   "source": [
    "#### bn3"
   ]
  },
  {
   "cell_type": "code",
   "execution_count": 90,
   "metadata": {},
   "outputs": [],
   "source": [
    "layer_name = 'bn3'"
   ]
  },
  {
   "cell_type": "code",
   "execution_count": 91,
   "metadata": {},
   "outputs": [
    {
     "name": "stdout",
     "output_type": "stream",
     "text": [
      "(10, 100)\n",
      "(100,)\n",
      "(10, 100)\n",
      "(100,)\n"
     ]
    }
   ],
   "source": [
    "# feature mean\n",
    "pos_out_mean, neg_out_mean = get_mean_metrics_for_visualization(\n",
    "    positive_example_outs, negative_example_outs, layer_name, 'feature')"
   ]
  },
  {
   "cell_type": "code",
   "execution_count": 92,
   "metadata": {},
   "outputs": [
    {
     "data": {
      "application/vnd.plotly.v1+json": {
       "config": {
        "plotlyServerURL": "https://plot.ly"
       },
       "data": [
        {
         "line": {
          "color": "#9467bd"
         },
         "name": "positive",
         "type": "scatter",
         "x": [
          0,
          1,
          2,
          3,
          4,
          5,
          6,
          7,
          8,
          9,
          10,
          11,
          12,
          13,
          14,
          15,
          16,
          17,
          18,
          19,
          20,
          21,
          22,
          23,
          24,
          25,
          26,
          27,
          28,
          29,
          30,
          31,
          32,
          33,
          34,
          35,
          36,
          37,
          38,
          39,
          40,
          41,
          42,
          43,
          44,
          45,
          46,
          47,
          48,
          49,
          50,
          51,
          52,
          53,
          54,
          55,
          56,
          57,
          58,
          59,
          60,
          61,
          62,
          63,
          64,
          65,
          66,
          67,
          68,
          69,
          70,
          71,
          72,
          73,
          74,
          75,
          76,
          77,
          78,
          79,
          80,
          81,
          82,
          83,
          84,
          85,
          86,
          87,
          88,
          89,
          90,
          91,
          92,
          93,
          94,
          95,
          96,
          97,
          98,
          99
         ],
         "y": [
          -0.1120360866189003,
          0.02156367152929306,
          0.022600743919610977,
          0.02576366625726223,
          -0.01116569060832262,
          -0.013275951147079468,
          0.0072583407163619995,
          -0.018659142777323723,
          -0.02362285926938057,
          -0.039629243314266205,
          0.06526045501232147,
          -0.18174782395362854,
          0.057085443288087845,
          -0.0017474249470978975,
          0.014091208577156067,
          0.021134190261363983,
          0.009913426823914051,
          -0.021243350580334663,
          -0.03499739617109299,
          -0.021059546619653702,
          0.016579780727624893,
          0.008959258906543255,
          0.016040930524468422,
          -0.0067180306650698185,
          -0.03158704563975334,
          -0.029118383303284645,
          -0.02111344411969185,
          0.04637325555086136,
          -0.026652783155441284,
          0.005669721867889166,
          0.0015069723594933748,
          0.04568588733673096,
          0.058682918548583984,
          0.8608576655387878,
          -0.05013083666563034,
          -0.00833939015865326,
          0.033293794840574265,
          -0.16556046903133392,
          -0.03633265569806099,
          -0.03830666095018387,
          0.8609811067581177,
          0.018638694658875465,
          -0.01910187117755413,
          0.012956475839018822,
          -0.028831064701080322,
          -0.3456132411956787,
          0.007481235079467297,
          -0.016874635592103004,
          0.05505857989192009,
          -0.014679272659122944,
          0.05797506496310234,
          -0.00020003170357085764,
          0.05381273478269577,
          0.8013923764228821,
          -0.06192619353532791,
          0.2714185118675232,
          -0.01261398196220398,
          -0.04345270246267319,
          0.37980008125305176,
          -0.02419596165418625,
          -0.40973663330078125,
          -0.0257578007876873,
          -0.001509781228378415,
          -0.5744852423667908,
          -0.012417256832122803,
          -0.018799923360347748,
          -0.037350378930568695,
          0.017859648913145065,
          -0.45287638902664185,
          0.1435815393924713,
          0.03620654717087746,
          -0.024667959660291672,
          -0.025132346898317337,
          -0.01771174930036068,
          0.04422968626022339,
          -0.03437289968132973,
          -0.567970871925354,
          -0.19175124168395996,
          -0.40203866362571716,
          0.012595725245773792,
          0.017700081691145897,
          -0.04635084792971611,
          -0.01800231821835041,
          0.01629192754626274,
          -0.024608563631772995,
          0.034062597900629044,
          0.010616390965878963,
          -0.0004146441933698952,
          -0.02937423624098301,
          -0.020940376445651054,
          -0.6717535257339478,
          -0.027019839733839035,
          -0.02790984883904457,
          -0.033343516290187836,
          -0.04118102043867111,
          0.03171389177441597,
          0.02259601652622223,
          -0.0439840666949749,
          0.014562117867171764,
          0.01536946278065443
         ]
        },
        {
         "line": {
          "color": "#F08B00"
         },
         "name": "negative",
         "type": "scatter",
         "x": [
          0,
          1,
          2,
          3,
          4,
          5,
          6,
          7,
          8,
          9,
          10,
          11,
          12,
          13,
          14,
          15,
          16,
          17,
          18,
          19,
          20,
          21,
          22,
          23,
          24,
          25,
          26,
          27,
          28,
          29,
          30,
          31,
          32,
          33,
          34,
          35,
          36,
          37,
          38,
          39,
          40,
          41,
          42,
          43,
          44,
          45,
          46,
          47,
          48,
          49,
          50,
          51,
          52,
          53,
          54,
          55,
          56,
          57,
          58,
          59,
          60,
          61,
          62,
          63,
          64,
          65,
          66,
          67,
          68,
          69,
          70,
          71,
          72,
          73,
          74,
          75,
          76,
          77,
          78,
          79,
          80,
          81,
          82,
          83,
          84,
          85,
          86,
          87,
          88,
          89,
          90,
          91,
          92,
          93,
          94,
          95,
          96,
          97,
          98,
          99
         ],
         "y": [
          -0.2451019287109375,
          -0.10932035744190216,
          -0.11465097963809967,
          -0.15431486070156097,
          0.3278258442878723,
          0.2587384581565857,
          0.42767468094825745,
          -0.06211799383163452,
          0.22569265961647034,
          0.33074361085891724,
          -0.08802904933691025,
          -0.2873170077800751,
          -0.09982957690954208,
          0.2601238489151001,
          -0.10403071343898773,
          -0.10268674790859222,
          -0.09823500365018845,
          0.2545633614063263,
          -0.15838097035884857,
          0.3421606421470642,
          -0.11883126199245453,
          -0.10474671423435211,
          -0.06676334142684937,
          0.40356189012527466,
          0.21934981644153595,
          0.30386123061180115,
          0.12682782113552094,
          0.4152742326259613,
          0.22530865669250488,
          0.35370713472366333,
          0.3024866580963135,
          -0.09544670581817627,
          -0.0842093899846077,
          0.962000846862793,
          0.3889198899269104,
          -0.08288223296403885,
          -0.12495790421962738,
          -0.2862038016319275,
          0.3030846118927002,
          0.37038853764533997,
          0.8742629289627075,
          -0.1023670881986618,
          0.3444642126560211,
          -0.07045906782150269,
          0.272599458694458,
          -0.3969728946685791,
          -0.1279752105474472,
          0.2798757553100586,
          -0.12548229098320007,
          0.2901309132575989,
          -0.14586152136325836,
          0.32701635360717773,
          -0.09594975411891937,
          0.829676628112793,
          -0.2140216827392578,
          0.42002129554748535,
          0.3212296962738037,
          0.3077771067619324,
          0.5367294549942017,
          0.2565285265445709,
          -0.4796927869319916,
          0.1882043182849884,
          -0.06460844725370407,
          -0.6197534203529358,
          0.3753294348716736,
          0.2627585530281067,
          0.3672332167625427,
          -0.0675663873553276,
          -0.5132693648338318,
          0.48820024728775024,
          -0.08848357945680618,
          0.33585840463638306,
          0.1414342224597931,
          0.3721695840358734,
          -0.0892014428973198,
          0.3203679919242859,
          -0.7052823305130005,
          -0.290129691362381,
          -0.44875913858413696,
          -0.14443612098693848,
          -0.10428731143474579,
          0.38671207427978516,
          -0.0822724774479866,
          0.3535138666629791,
          0.31347355246543884,
          -0.09134877473115921,
          -0.052877821028232574,
          -0.0661262795329094,
          0.2783994972705841,
          0.2835446298122406,
          -0.7666685581207275,
          0.3794967532157898,
          0.26037532091140747,
          0.22446653246879578,
          0.2637406587600708,
          -0.0974053218960762,
          -0.11359481513500214,
          0.30885833501815796,
          -0.08450431376695633,
          -0.10542960464954376
         ],
         "yaxis": "y2"
        }
       ],
       "layout": {
        "template": {
         "data": {
          "bar": [
           {
            "error_x": {
             "color": "#2a3f5f"
            },
            "error_y": {
             "color": "#2a3f5f"
            },
            "marker": {
             "line": {
              "color": "#E5ECF6",
              "width": 0.5
             }
            },
            "type": "bar"
           }
          ],
          "barpolar": [
           {
            "marker": {
             "line": {
              "color": "#E5ECF6",
              "width": 0.5
             }
            },
            "type": "barpolar"
           }
          ],
          "carpet": [
           {
            "aaxis": {
             "endlinecolor": "#2a3f5f",
             "gridcolor": "white",
             "linecolor": "white",
             "minorgridcolor": "white",
             "startlinecolor": "#2a3f5f"
            },
            "baxis": {
             "endlinecolor": "#2a3f5f",
             "gridcolor": "white",
             "linecolor": "white",
             "minorgridcolor": "white",
             "startlinecolor": "#2a3f5f"
            },
            "type": "carpet"
           }
          ],
          "choropleth": [
           {
            "colorbar": {
             "outlinewidth": 0,
             "ticks": ""
            },
            "type": "choropleth"
           }
          ],
          "contour": [
           {
            "colorbar": {
             "outlinewidth": 0,
             "ticks": ""
            },
            "colorscale": [
             [
              0,
              "#0d0887"
             ],
             [
              0.1111111111111111,
              "#46039f"
             ],
             [
              0.2222222222222222,
              "#7201a8"
             ],
             [
              0.3333333333333333,
              "#9c179e"
             ],
             [
              0.4444444444444444,
              "#bd3786"
             ],
             [
              0.5555555555555556,
              "#d8576b"
             ],
             [
              0.6666666666666666,
              "#ed7953"
             ],
             [
              0.7777777777777778,
              "#fb9f3a"
             ],
             [
              0.8888888888888888,
              "#fdca26"
             ],
             [
              1,
              "#f0f921"
             ]
            ],
            "type": "contour"
           }
          ],
          "contourcarpet": [
           {
            "colorbar": {
             "outlinewidth": 0,
             "ticks": ""
            },
            "type": "contourcarpet"
           }
          ],
          "heatmap": [
           {
            "colorbar": {
             "outlinewidth": 0,
             "ticks": ""
            },
            "colorscale": [
             [
              0,
              "#0d0887"
             ],
             [
              0.1111111111111111,
              "#46039f"
             ],
             [
              0.2222222222222222,
              "#7201a8"
             ],
             [
              0.3333333333333333,
              "#9c179e"
             ],
             [
              0.4444444444444444,
              "#bd3786"
             ],
             [
              0.5555555555555556,
              "#d8576b"
             ],
             [
              0.6666666666666666,
              "#ed7953"
             ],
             [
              0.7777777777777778,
              "#fb9f3a"
             ],
             [
              0.8888888888888888,
              "#fdca26"
             ],
             [
              1,
              "#f0f921"
             ]
            ],
            "type": "heatmap"
           }
          ],
          "heatmapgl": [
           {
            "colorbar": {
             "outlinewidth": 0,
             "ticks": ""
            },
            "colorscale": [
             [
              0,
              "#0d0887"
             ],
             [
              0.1111111111111111,
              "#46039f"
             ],
             [
              0.2222222222222222,
              "#7201a8"
             ],
             [
              0.3333333333333333,
              "#9c179e"
             ],
             [
              0.4444444444444444,
              "#bd3786"
             ],
             [
              0.5555555555555556,
              "#d8576b"
             ],
             [
              0.6666666666666666,
              "#ed7953"
             ],
             [
              0.7777777777777778,
              "#fb9f3a"
             ],
             [
              0.8888888888888888,
              "#fdca26"
             ],
             [
              1,
              "#f0f921"
             ]
            ],
            "type": "heatmapgl"
           }
          ],
          "histogram": [
           {
            "marker": {
             "colorbar": {
              "outlinewidth": 0,
              "ticks": ""
             }
            },
            "type": "histogram"
           }
          ],
          "histogram2d": [
           {
            "colorbar": {
             "outlinewidth": 0,
             "ticks": ""
            },
            "colorscale": [
             [
              0,
              "#0d0887"
             ],
             [
              0.1111111111111111,
              "#46039f"
             ],
             [
              0.2222222222222222,
              "#7201a8"
             ],
             [
              0.3333333333333333,
              "#9c179e"
             ],
             [
              0.4444444444444444,
              "#bd3786"
             ],
             [
              0.5555555555555556,
              "#d8576b"
             ],
             [
              0.6666666666666666,
              "#ed7953"
             ],
             [
              0.7777777777777778,
              "#fb9f3a"
             ],
             [
              0.8888888888888888,
              "#fdca26"
             ],
             [
              1,
              "#f0f921"
             ]
            ],
            "type": "histogram2d"
           }
          ],
          "histogram2dcontour": [
           {
            "colorbar": {
             "outlinewidth": 0,
             "ticks": ""
            },
            "colorscale": [
             [
              0,
              "#0d0887"
             ],
             [
              0.1111111111111111,
              "#46039f"
             ],
             [
              0.2222222222222222,
              "#7201a8"
             ],
             [
              0.3333333333333333,
              "#9c179e"
             ],
             [
              0.4444444444444444,
              "#bd3786"
             ],
             [
              0.5555555555555556,
              "#d8576b"
             ],
             [
              0.6666666666666666,
              "#ed7953"
             ],
             [
              0.7777777777777778,
              "#fb9f3a"
             ],
             [
              0.8888888888888888,
              "#fdca26"
             ],
             [
              1,
              "#f0f921"
             ]
            ],
            "type": "histogram2dcontour"
           }
          ],
          "mesh3d": [
           {
            "colorbar": {
             "outlinewidth": 0,
             "ticks": ""
            },
            "type": "mesh3d"
           }
          ],
          "parcoords": [
           {
            "line": {
             "colorbar": {
              "outlinewidth": 0,
              "ticks": ""
             }
            },
            "type": "parcoords"
           }
          ],
          "pie": [
           {
            "automargin": true,
            "type": "pie"
           }
          ],
          "scatter": [
           {
            "marker": {
             "colorbar": {
              "outlinewidth": 0,
              "ticks": ""
             }
            },
            "type": "scatter"
           }
          ],
          "scatter3d": [
           {
            "line": {
             "colorbar": {
              "outlinewidth": 0,
              "ticks": ""
             }
            },
            "marker": {
             "colorbar": {
              "outlinewidth": 0,
              "ticks": ""
             }
            },
            "type": "scatter3d"
           }
          ],
          "scattercarpet": [
           {
            "marker": {
             "colorbar": {
              "outlinewidth": 0,
              "ticks": ""
             }
            },
            "type": "scattercarpet"
           }
          ],
          "scattergeo": [
           {
            "marker": {
             "colorbar": {
              "outlinewidth": 0,
              "ticks": ""
             }
            },
            "type": "scattergeo"
           }
          ],
          "scattergl": [
           {
            "marker": {
             "colorbar": {
              "outlinewidth": 0,
              "ticks": ""
             }
            },
            "type": "scattergl"
           }
          ],
          "scattermapbox": [
           {
            "marker": {
             "colorbar": {
              "outlinewidth": 0,
              "ticks": ""
             }
            },
            "type": "scattermapbox"
           }
          ],
          "scatterpolar": [
           {
            "marker": {
             "colorbar": {
              "outlinewidth": 0,
              "ticks": ""
             }
            },
            "type": "scatterpolar"
           }
          ],
          "scatterpolargl": [
           {
            "marker": {
             "colorbar": {
              "outlinewidth": 0,
              "ticks": ""
             }
            },
            "type": "scatterpolargl"
           }
          ],
          "scatterternary": [
           {
            "marker": {
             "colorbar": {
              "outlinewidth": 0,
              "ticks": ""
             }
            },
            "type": "scatterternary"
           }
          ],
          "surface": [
           {
            "colorbar": {
             "outlinewidth": 0,
             "ticks": ""
            },
            "colorscale": [
             [
              0,
              "#0d0887"
             ],
             [
              0.1111111111111111,
              "#46039f"
             ],
             [
              0.2222222222222222,
              "#7201a8"
             ],
             [
              0.3333333333333333,
              "#9c179e"
             ],
             [
              0.4444444444444444,
              "#bd3786"
             ],
             [
              0.5555555555555556,
              "#d8576b"
             ],
             [
              0.6666666666666666,
              "#ed7953"
             ],
             [
              0.7777777777777778,
              "#fb9f3a"
             ],
             [
              0.8888888888888888,
              "#fdca26"
             ],
             [
              1,
              "#f0f921"
             ]
            ],
            "type": "surface"
           }
          ],
          "table": [
           {
            "cells": {
             "fill": {
              "color": "#EBF0F8"
             },
             "line": {
              "color": "white"
             }
            },
            "header": {
             "fill": {
              "color": "#C8D4E3"
             },
             "line": {
              "color": "white"
             }
            },
            "type": "table"
           }
          ]
         },
         "layout": {
          "annotationdefaults": {
           "arrowcolor": "#2a3f5f",
           "arrowhead": 0,
           "arrowwidth": 1
          },
          "coloraxis": {
           "colorbar": {
            "outlinewidth": 0,
            "ticks": ""
           }
          },
          "colorscale": {
           "diverging": [
            [
             0,
             "#8e0152"
            ],
            [
             0.1,
             "#c51b7d"
            ],
            [
             0.2,
             "#de77ae"
            ],
            [
             0.3,
             "#f1b6da"
            ],
            [
             0.4,
             "#fde0ef"
            ],
            [
             0.5,
             "#f7f7f7"
            ],
            [
             0.6,
             "#e6f5d0"
            ],
            [
             0.7,
             "#b8e186"
            ],
            [
             0.8,
             "#7fbc41"
            ],
            [
             0.9,
             "#4d9221"
            ],
            [
             1,
             "#276419"
            ]
           ],
           "sequential": [
            [
             0,
             "#0d0887"
            ],
            [
             0.1111111111111111,
             "#46039f"
            ],
            [
             0.2222222222222222,
             "#7201a8"
            ],
            [
             0.3333333333333333,
             "#9c179e"
            ],
            [
             0.4444444444444444,
             "#bd3786"
            ],
            [
             0.5555555555555556,
             "#d8576b"
            ],
            [
             0.6666666666666666,
             "#ed7953"
            ],
            [
             0.7777777777777778,
             "#fb9f3a"
            ],
            [
             0.8888888888888888,
             "#fdca26"
            ],
            [
             1,
             "#f0f921"
            ]
           ],
           "sequentialminus": [
            [
             0,
             "#0d0887"
            ],
            [
             0.1111111111111111,
             "#46039f"
            ],
            [
             0.2222222222222222,
             "#7201a8"
            ],
            [
             0.3333333333333333,
             "#9c179e"
            ],
            [
             0.4444444444444444,
             "#bd3786"
            ],
            [
             0.5555555555555556,
             "#d8576b"
            ],
            [
             0.6666666666666666,
             "#ed7953"
            ],
            [
             0.7777777777777778,
             "#fb9f3a"
            ],
            [
             0.8888888888888888,
             "#fdca26"
            ],
            [
             1,
             "#f0f921"
            ]
           ]
          },
          "colorway": [
           "#636efa",
           "#EF553B",
           "#00cc96",
           "#ab63fa",
           "#FFA15A",
           "#19d3f3",
           "#FF6692",
           "#B6E880",
           "#FF97FF",
           "#FECB52"
          ],
          "font": {
           "color": "#2a3f5f"
          },
          "geo": {
           "bgcolor": "white",
           "lakecolor": "white",
           "landcolor": "#E5ECF6",
           "showlakes": true,
           "showland": true,
           "subunitcolor": "white"
          },
          "hoverlabel": {
           "align": "left"
          },
          "hovermode": "closest",
          "mapbox": {
           "style": "light"
          },
          "paper_bgcolor": "white",
          "plot_bgcolor": "#E5ECF6",
          "polar": {
           "angularaxis": {
            "gridcolor": "white",
            "linecolor": "white",
            "ticks": ""
           },
           "bgcolor": "#E5ECF6",
           "radialaxis": {
            "gridcolor": "white",
            "linecolor": "white",
            "ticks": ""
           }
          },
          "scene": {
           "xaxis": {
            "backgroundcolor": "#E5ECF6",
            "gridcolor": "white",
            "gridwidth": 2,
            "linecolor": "white",
            "showbackground": true,
            "ticks": "",
            "zerolinecolor": "white"
           },
           "yaxis": {
            "backgroundcolor": "#E5ECF6",
            "gridcolor": "white",
            "gridwidth": 2,
            "linecolor": "white",
            "showbackground": true,
            "ticks": "",
            "zerolinecolor": "white"
           },
           "zaxis": {
            "backgroundcolor": "#E5ECF6",
            "gridcolor": "white",
            "gridwidth": 2,
            "linecolor": "white",
            "showbackground": true,
            "ticks": "",
            "zerolinecolor": "white"
           }
          },
          "shapedefaults": {
           "line": {
            "color": "#2a3f5f"
           }
          },
          "ternary": {
           "aaxis": {
            "gridcolor": "white",
            "linecolor": "white",
            "ticks": ""
           },
           "baxis": {
            "gridcolor": "white",
            "linecolor": "white",
            "ticks": ""
           },
           "bgcolor": "#E5ECF6",
           "caxis": {
            "gridcolor": "white",
            "linecolor": "white",
            "ticks": ""
           }
          },
          "title": {
           "x": 0.05
          },
          "xaxis": {
           "automargin": true,
           "gridcolor": "white",
           "linecolor": "white",
           "ticks": "",
           "title": {
            "standoff": 15
           },
           "zerolinecolor": "white",
           "zerolinewidth": 2
          },
          "yaxis": {
           "automargin": true,
           "gridcolor": "white",
           "linecolor": "white",
           "ticks": "",
           "title": {
            "standoff": 15
           },
           "zerolinecolor": "white",
           "zerolinewidth": 2
          }
         }
        },
        "title": {
         "text": "Feature mean by positive & negative examples for bn3 layer"
        },
        "yaxis": {
         "tickfont": {
          "color": "#9467bd"
         },
         "title": {
          "font": {
           "color": "#9467bd"
          },
          "text": "positive"
         }
        },
        "yaxis2": {
         "overlaying": "y",
         "side": "right",
         "tickfont": {
          "color": "#F08B00"
         },
         "title": {
          "font": {
           "color": "#F08B00"
          },
          "text": "negative"
         }
        }
       }
      },
      "text/html": [
       "<div>\n",
       "        \n",
       "        \n",
       "            <div id=\"c7b7db21-0882-479b-9de1-f5e0b364ad02\" class=\"plotly-graph-div\" style=\"height:525px; width:100%;\"></div>\n",
       "            <script type=\"text/javascript\">\n",
       "                require([\"plotly\"], function(Plotly) {\n",
       "                    window.PLOTLYENV=window.PLOTLYENV || {};\n",
       "                    \n",
       "                if (document.getElementById(\"c7b7db21-0882-479b-9de1-f5e0b364ad02\")) {\n",
       "                    Plotly.newPlot(\n",
       "                        'c7b7db21-0882-479b-9de1-f5e0b364ad02',\n",
       "                        [{\"line\": {\"color\": \"#9467bd\"}, \"name\": \"positive\", \"type\": \"scatter\", \"x\": [0, 1, 2, 3, 4, 5, 6, 7, 8, 9, 10, 11, 12, 13, 14, 15, 16, 17, 18, 19, 20, 21, 22, 23, 24, 25, 26, 27, 28, 29, 30, 31, 32, 33, 34, 35, 36, 37, 38, 39, 40, 41, 42, 43, 44, 45, 46, 47, 48, 49, 50, 51, 52, 53, 54, 55, 56, 57, 58, 59, 60, 61, 62, 63, 64, 65, 66, 67, 68, 69, 70, 71, 72, 73, 74, 75, 76, 77, 78, 79, 80, 81, 82, 83, 84, 85, 86, 87, 88, 89, 90, 91, 92, 93, 94, 95, 96, 97, 98, 99], \"y\": [-0.1120360866189003, 0.02156367152929306, 0.022600743919610977, 0.02576366625726223, -0.01116569060832262, -0.013275951147079468, 0.0072583407163619995, -0.018659142777323723, -0.02362285926938057, -0.039629243314266205, 0.06526045501232147, -0.18174782395362854, 0.057085443288087845, -0.0017474249470978975, 0.014091208577156067, 0.021134190261363983, 0.009913426823914051, -0.021243350580334663, -0.03499739617109299, -0.021059546619653702, 0.016579780727624893, 0.008959258906543255, 0.016040930524468422, -0.0067180306650698185, -0.03158704563975334, -0.029118383303284645, -0.02111344411969185, 0.04637325555086136, -0.026652783155441284, 0.005669721867889166, 0.0015069723594933748, 0.04568588733673096, 0.058682918548583984, 0.8608576655387878, -0.05013083666563034, -0.00833939015865326, 0.033293794840574265, -0.16556046903133392, -0.03633265569806099, -0.03830666095018387, 0.8609811067581177, 0.018638694658875465, -0.01910187117755413, 0.012956475839018822, -0.028831064701080322, -0.3456132411956787, 0.007481235079467297, -0.016874635592103004, 0.05505857989192009, -0.014679272659122944, 0.05797506496310234, -0.00020003170357085764, 0.05381273478269577, 0.8013923764228821, -0.06192619353532791, 0.2714185118675232, -0.01261398196220398, -0.04345270246267319, 0.37980008125305176, -0.02419596165418625, -0.40973663330078125, -0.0257578007876873, -0.001509781228378415, -0.5744852423667908, -0.012417256832122803, -0.018799923360347748, -0.037350378930568695, 0.017859648913145065, -0.45287638902664185, 0.1435815393924713, 0.03620654717087746, -0.024667959660291672, -0.025132346898317337, -0.01771174930036068, 0.04422968626022339, -0.03437289968132973, -0.567970871925354, -0.19175124168395996, -0.40203866362571716, 0.012595725245773792, 0.017700081691145897, -0.04635084792971611, -0.01800231821835041, 0.01629192754626274, -0.024608563631772995, 0.034062597900629044, 0.010616390965878963, -0.0004146441933698952, -0.02937423624098301, -0.020940376445651054, -0.6717535257339478, -0.027019839733839035, -0.02790984883904457, -0.033343516290187836, -0.04118102043867111, 0.03171389177441597, 0.02259601652622223, -0.0439840666949749, 0.014562117867171764, 0.01536946278065443]}, {\"line\": {\"color\": \"#F08B00\"}, \"name\": \"negative\", \"type\": \"scatter\", \"x\": [0, 1, 2, 3, 4, 5, 6, 7, 8, 9, 10, 11, 12, 13, 14, 15, 16, 17, 18, 19, 20, 21, 22, 23, 24, 25, 26, 27, 28, 29, 30, 31, 32, 33, 34, 35, 36, 37, 38, 39, 40, 41, 42, 43, 44, 45, 46, 47, 48, 49, 50, 51, 52, 53, 54, 55, 56, 57, 58, 59, 60, 61, 62, 63, 64, 65, 66, 67, 68, 69, 70, 71, 72, 73, 74, 75, 76, 77, 78, 79, 80, 81, 82, 83, 84, 85, 86, 87, 88, 89, 90, 91, 92, 93, 94, 95, 96, 97, 98, 99], \"y\": [-0.2451019287109375, -0.10932035744190216, -0.11465097963809967, -0.15431486070156097, 0.3278258442878723, 0.2587384581565857, 0.42767468094825745, -0.06211799383163452, 0.22569265961647034, 0.33074361085891724, -0.08802904933691025, -0.2873170077800751, -0.09982957690954208, 0.2601238489151001, -0.10403071343898773, -0.10268674790859222, -0.09823500365018845, 0.2545633614063263, -0.15838097035884857, 0.3421606421470642, -0.11883126199245453, -0.10474671423435211, -0.06676334142684937, 0.40356189012527466, 0.21934981644153595, 0.30386123061180115, 0.12682782113552094, 0.4152742326259613, 0.22530865669250488, 0.35370713472366333, 0.3024866580963135, -0.09544670581817627, -0.0842093899846077, 0.962000846862793, 0.3889198899269104, -0.08288223296403885, -0.12495790421962738, -0.2862038016319275, 0.3030846118927002, 0.37038853764533997, 0.8742629289627075, -0.1023670881986618, 0.3444642126560211, -0.07045906782150269, 0.272599458694458, -0.3969728946685791, -0.1279752105474472, 0.2798757553100586, -0.12548229098320007, 0.2901309132575989, -0.14586152136325836, 0.32701635360717773, -0.09594975411891937, 0.829676628112793, -0.2140216827392578, 0.42002129554748535, 0.3212296962738037, 0.3077771067619324, 0.5367294549942017, 0.2565285265445709, -0.4796927869319916, 0.1882043182849884, -0.06460844725370407, -0.6197534203529358, 0.3753294348716736, 0.2627585530281067, 0.3672332167625427, -0.0675663873553276, -0.5132693648338318, 0.48820024728775024, -0.08848357945680618, 0.33585840463638306, 0.1414342224597931, 0.3721695840358734, -0.0892014428973198, 0.3203679919242859, -0.7052823305130005, -0.290129691362381, -0.44875913858413696, -0.14443612098693848, -0.10428731143474579, 0.38671207427978516, -0.0822724774479866, 0.3535138666629791, 0.31347355246543884, -0.09134877473115921, -0.052877821028232574, -0.0661262795329094, 0.2783994972705841, 0.2835446298122406, -0.7666685581207275, 0.3794967532157898, 0.26037532091140747, 0.22446653246879578, 0.2637406587600708, -0.0974053218960762, -0.11359481513500214, 0.30885833501815796, -0.08450431376695633, -0.10542960464954376], \"yaxis\": \"y2\"}],\n",
       "                        {\"template\": {\"data\": {\"bar\": [{\"error_x\": {\"color\": \"#2a3f5f\"}, \"error_y\": {\"color\": \"#2a3f5f\"}, \"marker\": {\"line\": {\"color\": \"#E5ECF6\", \"width\": 0.5}}, \"type\": \"bar\"}], \"barpolar\": [{\"marker\": {\"line\": {\"color\": \"#E5ECF6\", \"width\": 0.5}}, \"type\": \"barpolar\"}], \"carpet\": [{\"aaxis\": {\"endlinecolor\": \"#2a3f5f\", \"gridcolor\": \"white\", \"linecolor\": \"white\", \"minorgridcolor\": \"white\", \"startlinecolor\": \"#2a3f5f\"}, \"baxis\": {\"endlinecolor\": \"#2a3f5f\", \"gridcolor\": \"white\", \"linecolor\": \"white\", \"minorgridcolor\": \"white\", \"startlinecolor\": \"#2a3f5f\"}, \"type\": \"carpet\"}], \"choropleth\": [{\"colorbar\": {\"outlinewidth\": 0, \"ticks\": \"\"}, \"type\": \"choropleth\"}], \"contour\": [{\"colorbar\": {\"outlinewidth\": 0, \"ticks\": \"\"}, \"colorscale\": [[0.0, \"#0d0887\"], [0.1111111111111111, \"#46039f\"], [0.2222222222222222, \"#7201a8\"], [0.3333333333333333, \"#9c179e\"], [0.4444444444444444, \"#bd3786\"], [0.5555555555555556, \"#d8576b\"], [0.6666666666666666, \"#ed7953\"], [0.7777777777777778, \"#fb9f3a\"], [0.8888888888888888, \"#fdca26\"], [1.0, \"#f0f921\"]], \"type\": \"contour\"}], \"contourcarpet\": [{\"colorbar\": {\"outlinewidth\": 0, \"ticks\": \"\"}, \"type\": \"contourcarpet\"}], \"heatmap\": [{\"colorbar\": {\"outlinewidth\": 0, \"ticks\": \"\"}, \"colorscale\": [[0.0, \"#0d0887\"], [0.1111111111111111, \"#46039f\"], [0.2222222222222222, \"#7201a8\"], [0.3333333333333333, \"#9c179e\"], [0.4444444444444444, \"#bd3786\"], [0.5555555555555556, \"#d8576b\"], [0.6666666666666666, \"#ed7953\"], [0.7777777777777778, \"#fb9f3a\"], [0.8888888888888888, \"#fdca26\"], [1.0, \"#f0f921\"]], \"type\": \"heatmap\"}], \"heatmapgl\": [{\"colorbar\": {\"outlinewidth\": 0, \"ticks\": \"\"}, \"colorscale\": [[0.0, \"#0d0887\"], [0.1111111111111111, \"#46039f\"], [0.2222222222222222, \"#7201a8\"], [0.3333333333333333, \"#9c179e\"], [0.4444444444444444, \"#bd3786\"], [0.5555555555555556, \"#d8576b\"], [0.6666666666666666, \"#ed7953\"], [0.7777777777777778, \"#fb9f3a\"], [0.8888888888888888, \"#fdca26\"], [1.0, \"#f0f921\"]], \"type\": \"heatmapgl\"}], \"histogram\": [{\"marker\": {\"colorbar\": {\"outlinewidth\": 0, \"ticks\": \"\"}}, \"type\": \"histogram\"}], \"histogram2d\": [{\"colorbar\": {\"outlinewidth\": 0, \"ticks\": \"\"}, \"colorscale\": [[0.0, \"#0d0887\"], [0.1111111111111111, \"#46039f\"], [0.2222222222222222, \"#7201a8\"], [0.3333333333333333, \"#9c179e\"], [0.4444444444444444, \"#bd3786\"], [0.5555555555555556, \"#d8576b\"], [0.6666666666666666, \"#ed7953\"], [0.7777777777777778, \"#fb9f3a\"], [0.8888888888888888, \"#fdca26\"], [1.0, \"#f0f921\"]], \"type\": \"histogram2d\"}], \"histogram2dcontour\": [{\"colorbar\": {\"outlinewidth\": 0, \"ticks\": \"\"}, \"colorscale\": [[0.0, \"#0d0887\"], [0.1111111111111111, \"#46039f\"], [0.2222222222222222, \"#7201a8\"], [0.3333333333333333, \"#9c179e\"], [0.4444444444444444, \"#bd3786\"], [0.5555555555555556, \"#d8576b\"], [0.6666666666666666, \"#ed7953\"], [0.7777777777777778, \"#fb9f3a\"], [0.8888888888888888, \"#fdca26\"], [1.0, \"#f0f921\"]], \"type\": \"histogram2dcontour\"}], \"mesh3d\": [{\"colorbar\": {\"outlinewidth\": 0, \"ticks\": \"\"}, \"type\": \"mesh3d\"}], \"parcoords\": [{\"line\": {\"colorbar\": {\"outlinewidth\": 0, \"ticks\": \"\"}}, \"type\": \"parcoords\"}], \"pie\": [{\"automargin\": true, \"type\": \"pie\"}], \"scatter\": [{\"marker\": {\"colorbar\": {\"outlinewidth\": 0, \"ticks\": \"\"}}, \"type\": \"scatter\"}], \"scatter3d\": [{\"line\": {\"colorbar\": {\"outlinewidth\": 0, \"ticks\": \"\"}}, \"marker\": {\"colorbar\": {\"outlinewidth\": 0, \"ticks\": \"\"}}, \"type\": \"scatter3d\"}], \"scattercarpet\": [{\"marker\": {\"colorbar\": {\"outlinewidth\": 0, \"ticks\": \"\"}}, \"type\": \"scattercarpet\"}], \"scattergeo\": [{\"marker\": {\"colorbar\": {\"outlinewidth\": 0, \"ticks\": \"\"}}, \"type\": \"scattergeo\"}], \"scattergl\": [{\"marker\": {\"colorbar\": {\"outlinewidth\": 0, \"ticks\": \"\"}}, \"type\": \"scattergl\"}], \"scattermapbox\": [{\"marker\": {\"colorbar\": {\"outlinewidth\": 0, \"ticks\": \"\"}}, \"type\": \"scattermapbox\"}], \"scatterpolar\": [{\"marker\": {\"colorbar\": {\"outlinewidth\": 0, \"ticks\": \"\"}}, \"type\": \"scatterpolar\"}], \"scatterpolargl\": [{\"marker\": {\"colorbar\": {\"outlinewidth\": 0, \"ticks\": \"\"}}, \"type\": \"scatterpolargl\"}], \"scatterternary\": [{\"marker\": {\"colorbar\": {\"outlinewidth\": 0, \"ticks\": \"\"}}, \"type\": \"scatterternary\"}], \"surface\": [{\"colorbar\": {\"outlinewidth\": 0, \"ticks\": \"\"}, \"colorscale\": [[0.0, \"#0d0887\"], [0.1111111111111111, \"#46039f\"], [0.2222222222222222, \"#7201a8\"], [0.3333333333333333, \"#9c179e\"], [0.4444444444444444, \"#bd3786\"], [0.5555555555555556, \"#d8576b\"], [0.6666666666666666, \"#ed7953\"], [0.7777777777777778, \"#fb9f3a\"], [0.8888888888888888, \"#fdca26\"], [1.0, \"#f0f921\"]], \"type\": \"surface\"}], \"table\": [{\"cells\": {\"fill\": {\"color\": \"#EBF0F8\"}, \"line\": {\"color\": \"white\"}}, \"header\": {\"fill\": {\"color\": \"#C8D4E3\"}, \"line\": {\"color\": \"white\"}}, \"type\": \"table\"}]}, \"layout\": {\"annotationdefaults\": {\"arrowcolor\": \"#2a3f5f\", \"arrowhead\": 0, \"arrowwidth\": 1}, \"coloraxis\": {\"colorbar\": {\"outlinewidth\": 0, \"ticks\": \"\"}}, \"colorscale\": {\"diverging\": [[0, \"#8e0152\"], [0.1, \"#c51b7d\"], [0.2, \"#de77ae\"], [0.3, \"#f1b6da\"], [0.4, \"#fde0ef\"], [0.5, \"#f7f7f7\"], [0.6, \"#e6f5d0\"], [0.7, \"#b8e186\"], [0.8, \"#7fbc41\"], [0.9, \"#4d9221\"], [1, \"#276419\"]], \"sequential\": [[0.0, \"#0d0887\"], [0.1111111111111111, \"#46039f\"], [0.2222222222222222, \"#7201a8\"], [0.3333333333333333, \"#9c179e\"], [0.4444444444444444, \"#bd3786\"], [0.5555555555555556, \"#d8576b\"], [0.6666666666666666, \"#ed7953\"], [0.7777777777777778, \"#fb9f3a\"], [0.8888888888888888, \"#fdca26\"], [1.0, \"#f0f921\"]], \"sequentialminus\": [[0.0, \"#0d0887\"], [0.1111111111111111, \"#46039f\"], [0.2222222222222222, \"#7201a8\"], [0.3333333333333333, \"#9c179e\"], [0.4444444444444444, \"#bd3786\"], [0.5555555555555556, \"#d8576b\"], [0.6666666666666666, \"#ed7953\"], [0.7777777777777778, \"#fb9f3a\"], [0.8888888888888888, \"#fdca26\"], [1.0, \"#f0f921\"]]}, \"colorway\": [\"#636efa\", \"#EF553B\", \"#00cc96\", \"#ab63fa\", \"#FFA15A\", \"#19d3f3\", \"#FF6692\", \"#B6E880\", \"#FF97FF\", \"#FECB52\"], \"font\": {\"color\": \"#2a3f5f\"}, \"geo\": {\"bgcolor\": \"white\", \"lakecolor\": \"white\", \"landcolor\": \"#E5ECF6\", \"showlakes\": true, \"showland\": true, \"subunitcolor\": \"white\"}, \"hoverlabel\": {\"align\": \"left\"}, \"hovermode\": \"closest\", \"mapbox\": {\"style\": \"light\"}, \"paper_bgcolor\": \"white\", \"plot_bgcolor\": \"#E5ECF6\", \"polar\": {\"angularaxis\": {\"gridcolor\": \"white\", \"linecolor\": \"white\", \"ticks\": \"\"}, \"bgcolor\": \"#E5ECF6\", \"radialaxis\": {\"gridcolor\": \"white\", \"linecolor\": \"white\", \"ticks\": \"\"}}, \"scene\": {\"xaxis\": {\"backgroundcolor\": \"#E5ECF6\", \"gridcolor\": \"white\", \"gridwidth\": 2, \"linecolor\": \"white\", \"showbackground\": true, \"ticks\": \"\", \"zerolinecolor\": \"white\"}, \"yaxis\": {\"backgroundcolor\": \"#E5ECF6\", \"gridcolor\": \"white\", \"gridwidth\": 2, \"linecolor\": \"white\", \"showbackground\": true, \"ticks\": \"\", \"zerolinecolor\": \"white\"}, \"zaxis\": {\"backgroundcolor\": \"#E5ECF6\", \"gridcolor\": \"white\", \"gridwidth\": 2, \"linecolor\": \"white\", \"showbackground\": true, \"ticks\": \"\", \"zerolinecolor\": \"white\"}}, \"shapedefaults\": {\"line\": {\"color\": \"#2a3f5f\"}}, \"ternary\": {\"aaxis\": {\"gridcolor\": \"white\", \"linecolor\": \"white\", \"ticks\": \"\"}, \"baxis\": {\"gridcolor\": \"white\", \"linecolor\": \"white\", \"ticks\": \"\"}, \"bgcolor\": \"#E5ECF6\", \"caxis\": {\"gridcolor\": \"white\", \"linecolor\": \"white\", \"ticks\": \"\"}}, \"title\": {\"x\": 0.05}, \"xaxis\": {\"automargin\": true, \"gridcolor\": \"white\", \"linecolor\": \"white\", \"ticks\": \"\", \"title\": {\"standoff\": 15}, \"zerolinecolor\": \"white\", \"zerolinewidth\": 2}, \"yaxis\": {\"automargin\": true, \"gridcolor\": \"white\", \"linecolor\": \"white\", \"ticks\": \"\", \"title\": {\"standoff\": 15}, \"zerolinecolor\": \"white\", \"zerolinewidth\": 2}}}, \"title\": {\"text\": \"Feature mean by positive & negative examples for bn3 layer\"}, \"yaxis\": {\"tickfont\": {\"color\": \"#9467bd\"}, \"title\": {\"font\": {\"color\": \"#9467bd\"}, \"text\": \"positive\"}}, \"yaxis2\": {\"overlaying\": \"y\", \"side\": \"right\", \"tickfont\": {\"color\": \"#F08B00\"}, \"title\": {\"font\": {\"color\": \"#F08B00\"}, \"text\": \"negative\"}}},\n",
       "                        {\"responsive\": true}\n",
       "                    ).then(function(){\n",
       "                            \n",
       "var gd = document.getElementById('c7b7db21-0882-479b-9de1-f5e0b364ad02');\n",
       "var x = new MutationObserver(function (mutations, observer) {{\n",
       "        var display = window.getComputedStyle(gd).display;\n",
       "        if (!display || display === 'none') {{\n",
       "            console.log([gd, 'removed!']);\n",
       "            Plotly.purge(gd);\n",
       "            observer.disconnect();\n",
       "        }}\n",
       "}});\n",
       "\n",
       "// Listen for the removal of the full notebook cells\n",
       "var notebookContainer = gd.closest('#notebook-container');\n",
       "if (notebookContainer) {{\n",
       "    x.observe(notebookContainer, {childList: true});\n",
       "}}\n",
       "\n",
       "// Listen for the clearing of the current output cell\n",
       "var outputEl = gd.closest('.output');\n",
       "if (outputEl) {{\n",
       "    x.observe(outputEl, {childList: true});\n",
       "}}\n",
       "\n",
       "                        })\n",
       "                };\n",
       "                });\n",
       "            </script>\n",
       "        </div>"
      ]
     },
     "metadata": {},
     "output_type": "display_data"
    }
   ],
   "source": [
    "plot_scatter_intermediate_outputs_multitrace(\n",
    "    pos_out_mean, neg_out_mean, 'positive', 'negative',\n",
    "    'Feature mean by positive & negative examples for {} layer'.format(\n",
    "        layer_name))"
   ]
  },
  {
   "cell_type": "markdown",
   "metadata": {},
   "source": [
    "### Plots for a single example"
   ]
  },
  {
   "cell_type": "code",
   "execution_count": 29,
   "metadata": {},
   "outputs": [],
   "source": [
    "i=6\n",
    "actual = positive_examples.loc[i, 'actual']\n",
    "actual_pred = positive_examples.loc[i, 'pred']\n",
    "x1, x2 = get_data_for_visualization(positive_examples, i)\n",
    "calc_pred = model(x1, x2)"
   ]
  },
  {
   "cell_type": "code",
   "execution_count": 30,
   "metadata": {},
   "outputs": [
    {
     "data": {
      "text/plain": [
       "dict_keys(['0', '1', 'emb_drop', 'bn1', 'lin1', 'drops', 'bn2', 'lin2', 'bn3', 'lin3'])"
      ]
     },
     "execution_count": 30,
     "metadata": {},
     "output_type": "execute_result"
    }
   ],
   "source": [
    "activations.keys()"
   ]
  },
  {
   "cell_type": "code",
   "execution_count": 31,
   "metadata": {},
   "outputs": [
    {
     "data": {
      "text/plain": [
       "(1, 100)"
      ]
     },
     "execution_count": 31,
     "metadata": {},
     "output_type": "execute_result"
    }
   ],
   "source": [
    "activations['0'].shape"
   ]
  },
  {
   "cell_type": "code",
   "execution_count": 32,
   "metadata": {},
   "outputs": [
    {
     "name": "stdout",
     "output_type": "stream",
     "text": [
      "(1, 783) 0.05900674 1.45001\n",
      "0.514674 1.6547834\n",
      "-0.03321997 0.23101634\n"
     ]
    }
   ],
   "source": [
    "print(activations['bn1'].shape, activations['bn1'].mean(), activations['bn1'].std())\n",
    "print(activations['bn2'].mean(), activations['bn2'].std())\n",
    "print(activations['bn3'].mean(), activations['bn3'].std())"
   ]
  },
  {
   "cell_type": "code",
   "execution_count": 33,
   "metadata": {},
   "outputs": [
    {
     "name": "stdout",
     "output_type": "stream",
     "text": [
      "(1, 300) -81.840126\n",
      "(1, 100) 9.412573\n"
     ]
    }
   ],
   "source": [
    "print(activations['lin1'].shape, activations['lin1'].mean())\n",
    "print(activations['lin2'].shape, activations['lin2'].mean())"
   ]
  },
  {
   "cell_type": "code",
   "execution_count": 43,
   "metadata": {},
   "outputs": [
    {
     "data": {
      "application/vnd.plotly.v1+json": {
       "config": {
        "linkText": "Export to plot.ly",
        "plotlyServerURL": "https://plot.ly",
        "showLink": false
       },
       "data": [
        {
         "marker": {
          "color": "#db0000"
         },
         "name": "Layer Output",
         "type": "histogram",
         "x": [
          3.1791024208068848,
          0.7933483123779297,
          -1.0266155004501343,
          -1.1357609033584595,
          -0.8204715251922607,
          9.347236633300781,
          -6.079044818878174,
          1.5444421768188477,
          -2.6828651428222656,
          -3.6342859268188477,
          -5.004286289215088,
          -5.528514862060547,
          1.80291748046875,
          1.6946868896484375,
          12.294053077697754,
          -0.17230558395385742,
          1.3048573732376099,
          0.11859291791915894,
          -0.2056729793548584,
          0.4600052833557129,
          -0.15251857042312622,
          0.7481279373168945,
          -0.4076840877532959,
          0.08914428949356079,
          0.4512632489204407,
          -0.5162984132766724,
          1.137650489807129,
          0.0378945991396904,
          0.17303836345672607,
          -0.15168124437332153,
          -0.0755465179681778,
          0.14422762393951416,
          -0.2148844599723816,
          -0.04529479146003723,
          -0.3985130190849304,
          0.13751709461212158,
          -0.5941001176834106,
          -0.01755748689174652,
          0.07898080348968506,
          0.29222244024276733,
          -0.07178763300180435,
          0.40846410393714905,
          0.021069057285785675,
          2.3004322052001953,
          0.07633408904075623,
          0.3433101177215576,
          -0.2054927796125412,
          -0.6228747963905334,
          -0.4209575057029724,
          -0.1855509877204895,
          -0.004369478672742844,
          0.16424405574798584,
          0.0037301452830433846,
          -2.054500102996826,
          0.9395905137062073,
          0.10866807401180267,
          0.15848810970783234,
          0.005347520112991333,
          -0.027545161545276642,
          0.05397643893957138,
          -0.5611389875411987,
          -0.4392339587211609,
          0.3664630055427551,
          0.04403218254446983,
          1.6656469106674194,
          0.2931887209415436,
          -0.18617630004882812,
          0.034761182963848114,
          0.24731117486953735,
          0.21156662702560425,
          0.03341168165206909,
          -0.5923874378204346,
          -0.0379955917596817,
          0.09518663585186005,
          0.016132712364196777,
          0.2755640745162964,
          0.05492845177650452,
          0.05853932350873947,
          -0.011388331651687622,
          0.0655030608177185,
          -0.08145959675312042,
          0.21469590067863464,
          -0.40632396936416626,
          1.6415001153945923,
          -0.46846121549606323,
          0.5621567964553833,
          -0.17266470193862915,
          0.08105987310409546,
          -0.09994594752788544,
          -0.15194860100746155,
          0.07682177424430847,
          0.07364435493946075,
          -0.5545133948326111,
          0.1189829409122467,
          0.23536594212055206,
          -0.30466747283935547,
          0.3884373605251312,
          0.7068796157836914,
          -0.12216755747795105,
          0.6742923259735107,
          0.5207430720329285,
          -0.40403154492378235,
          0.2597648799419403,
          -0.23047010600566864,
          0.07056014239788055,
          0.4014357924461365,
          -0.36420494318008423,
          -0.23832309246063232,
          -0.19055193662643433,
          -0.04982868209481239,
          -0.041646558791399,
          -0.1673334836959839,
          0.3787475824356079,
          0.08282700181007385,
          -0.7769750356674194,
          0.80148845911026,
          -0.0296805240213871,
          -0.002410806715488434,
          0.04449602961540222,
          -0.014634758234024048,
          -1.146177887916565,
          -0.10125337541103363,
          0.2428254932165146,
          -0.06922078132629395,
          0.20764248073101044,
          -0.030252858996391296,
          -0.36397889256477356,
          0.21899396181106567,
          0.02246771939098835,
          0.02978631481528282,
          1.3708871603012085,
          -0.10933394730091095,
          -1.4477417469024658,
          -0.03126325458288193,
          0.07085393369197845,
          0.11724865436553955,
          0.002782300114631653,
          0.46029195189476013,
          0.8590587377548218,
          -1.1519910097122192,
          0.3053794503211975,
          0.36563408374786377,
          0.19543029367923737,
          -0.18439137935638428,
          -1.7497100830078125,
          -0.0798359215259552,
          0.08684726059436798,
          -0.0507839098572731,
          -0.570495069026947,
          -0.8710055947303772,
          0.248436838388443,
          0.21982342004776,
          -0.4536471366882324,
          0.019903749227523804,
          -0.05986113101243973,
          -0.15293243527412415,
          0.22487543523311615,
          -0.08797658234834671,
          -0.31862109899520874,
          -0.14824078977108002,
          -0.009068820625543594,
          -0.149402916431427,
          0.33834242820739746,
          0.2174232304096222,
          0.20505207777023315,
          -0.2971785068511963,
          0.12227649986743927,
          1.6182620525360107,
          0.28738531470298767,
          -1.137937068939209,
          -0.08061958849430084,
          0.09721782803535461,
          0.24463343620300293,
          0.535663902759552,
          -0.18433454632759094,
          0.1778353601694107,
          -0.2644151747226715,
          0.9295098185539246,
          0.13983851671218872,
          -0.08420338481664658,
          -0.03896186500787735,
          -0.1944458782672882,
          0.4233497977256775,
          0.03982210159301758,
          0.15244239568710327,
          0.0948253646492958,
          -0.11013978719711304,
          0.16006293892860413,
          0.10273914039134979,
          0.90062016248703,
          -0.5934238433837891,
          1.314683437347412,
          -0.031411997973918915,
          0.2144719362258911,
          -0.28386473655700684,
          -0.02267426997423172,
          -0.7711117267608643,
          -0.4753921926021576,
          0.36274582147598267,
          -0.10092765092849731,
          0.30912190675735474,
          -0.23837809264659882,
          -0.3266003131866455,
          2.8725125789642334,
          -0.2875356376171112,
          0.6547519564628601,
          0.41601359844207764,
          0.43079617619514465,
          -0.6864844560623169,
          -0.43809205293655396,
          1.101391315460205,
          0.02536506950855255,
          -0.018384888768196106,
          -0.04508376121520996,
          -0.2207573801279068,
          -0.01286432147026062,
          0.020476117730140686,
          0.5979315638542175,
          1.423327088356018,
          -0.06683236360549927,
          -0.19907087087631226,
          -0.0705106183886528,
          0.2615148425102234,
          -0.30847808718681335,
          -0.2608587443828583,
          -0.12203210592269897,
          -0.8746422529220581,
          0.22247298061847687,
          0.19925136864185333,
          -0.34768062829971313,
          0.35211002826690674,
          0.17090678215026855,
          0.3305521607398987,
          0.09188950061798096,
          -0.06646287441253662,
          -0.3662354648113251,
          0.2465161234140396,
          0.1766134798526764,
          -0.23552057147026062,
          -0.38404154777526855,
          -0.29364269971847534,
          -0.17748340964317322,
          -0.384223997592926,
          -0.3501690924167633,
          0.1656598597764969,
          0.2913297116756439,
          0.7810872197151184,
          0.026280105113983154,
          -0.007179077714681625,
          -0.0682946965098381,
          0.11248613893985748,
          -0.004768881015479565,
          0.4536614716053009,
          -0.12756069004535675,
          -0.22498390078544617,
          -0.28814247250556946,
          -0.23472926020622253,
          -0.1297110915184021,
          -0.278328537940979,
          -0.0008933842182159424,
          0.6373648643493652,
          -0.040621161460876465,
          0.20224475860595703,
          0.029780708253383636,
          -0.667636513710022,
          -0.4728785753250122,
          0.267772912979126,
          -0.1699243187904358,
          0.16164138913154602,
          -0.022848989814519882,
          1.9417864084243774,
          -0.5655632019042969,
          -0.15114519000053406,
          0.24293480813503265,
          -0.163126140832901,
          -2.068873405456543,
          0.236217200756073,
          -0.05743727833032608,
          -0.430988609790802,
          -0.1596997082233429,
          0.3517322838306427,
          -0.3878510296344757,
          0.4148067533969879,
          0.7140690088272095,
          -0.6156558394432068,
          -0.18867433071136475,
          1.8294445276260376,
          -2.0247344970703125,
          0.001936785876750946,
          -0.06341437995433807,
          0.0013922005891799927,
          -0.19868135452270508,
          0.171578049659729,
          2.138679027557373,
          -0.5833494663238525,
          -0.05059622973203659,
          0.26701515913009644,
          0.0525851845741272,
          0.26298192143440247,
          -0.012902317568659782,
          -0.43884414434432983,
          -0.3582741618156433,
          -0.07904906570911407,
          0.2669823467731476,
          0.04292237013578415,
          -0.011413875967264175,
          2.811457633972168,
          0.03308302164077759,
          0.23981404304504395,
          -0.22621271014213562,
          1.0468096733093262,
          0.17195606231689453,
          0.4096263647079468,
          -0.1848061978816986,
          0.025922756642103195,
          -0.17015452682971954,
          0.4188939034938812,
          0.418794184923172,
          0.33865225315093994,
          -1.0269920825958252,
          0.5812435746192932,
          -0.3987150192260742,
          0.12139099091291428,
          -0.07398355007171631,
          2.583402395248413,
          -0.1378750205039978,
          -0.6257349252700806,
          -0.14204496145248413,
          -0.1387607455253601,
          0.15428276360034943,
          -1.1149897575378418,
          -1.0862197875976562,
          0.16580849885940552,
          0.17395588755607605,
          -0.07439747452735901,
          -0.03217645734548569,
          1.0725536346435547,
          1.1178606748580933,
          0.35569822788238525,
          -0.23306876420974731,
          -0.10344315320253372,
          -0.4446678161621094,
          -0.0373682826757431,
          0.37664228677749634,
          0.8932946920394897,
          0.6030035614967346,
          0.24178022146224976,
          -0.17326778173446655,
          -0.1317112147808075,
          -0.18263554573059082,
          0.006675112992525101,
          -0.41372060775756836,
          -0.049401089549064636,
          0.2583150863647461,
          0.17918676137924194,
          0.1849028766155243,
          0.24847294390201569,
          0.47962191700935364,
          -0.34647417068481445,
          0.31313377618789673,
          -0.26804372668266296,
          0.00610332190990448,
          -0.0941256731748581,
          0.12145009636878967,
          0.0016183992847800255,
          0.3247067928314209,
          -1.2291648387908936,
          0.011347601190209389,
          0.2245311290025711,
          0.30054524540901184,
          -0.05305519700050354,
          0.2088000625371933,
          0.32375413179397583,
          1.5557668209075928,
          -0.042965278029441833,
          -0.19794365763664246,
          0.482760488986969,
          -0.2745860815048218,
          -0.06823620200157166,
          -0.0208568312227726,
          0.16600127518177032,
          -0.17756874859333038,
          0.6715070009231567,
          0.021679580211639404,
          -0.0972868949174881,
          0.2472531795501709,
          -0.12939117848873138,
          0.1601695865392685,
          0.0534125380218029,
          1.1939945220947266,
          0.25049275159835815,
          -0.36509016156196594,
          -0.023267101496458054,
          2.3491060733795166,
          0.4047759175300598,
          0.3420313000679016,
          0.2331172227859497,
          0.7289748191833496,
          0.023263996466994286,
          0.1003645807504654,
          -0.9915653467178345,
          0.022480681538581848,
          -0.07568368315696716,
          0.18243716657161713,
          -1.0010147094726562,
          0.0815553218126297,
          -1.7485687732696533,
          -0.13833743333816528,
          -0.042310357093811035,
          0.7425956130027771,
          0.20611876249313354,
          -0.11999961733818054,
          -0.05822838097810745,
          -0.23540490865707397,
          -0.05617588758468628,
          2.0400874614715576,
          0.5321657061576843,
          -0.1202380433678627,
          0.18688739836215973,
          0.4217965006828308,
          -0.270388126373291,
          -0.11963647603988647,
          1.4649395942687988,
          -0.18690770864486694,
          0.6250555515289307,
          -0.12018771469593048,
          1.1850438117980957,
          0.1668413132429123,
          0.39459216594696045,
          0.3219336271286011,
          0.11769647896289825,
          0.5104621648788452,
          0.20080262422561646,
          0.017673224210739136,
          -0.2137608528137207,
          0.13211177289485931,
          0.4096066951751709,
          -0.8767768144607544,
          -0.18422001600265503,
          -0.09987221658229828,
          -1.3275343179702759,
          0.3004000782966614,
          -0.042140137404203415,
          -0.7205058336257935,
          0.10184916108846664,
          0.10569842159748077,
          0.9430848360061646,
          0.14049166440963745,
          -0.418133020401001,
          0.021795809268951416,
          -0.7110236883163452,
          0.1757185012102127,
          -0.07388367503881454,
          0.3762308955192566,
          -0.19582140445709229,
          0.2869536876678467,
          -0.34727999567985535,
          -0.004873339086771011,
          0.13341385126113892,
          -0.14901956915855408,
          -0.047164857387542725,
          0.21686536073684692,
          0.20570236444473267,
          -0.4202202260494232,
          -1.3300913572311401,
          -0.3162284791469574,
          -0.40307605266571045,
          -1.4006061553955078,
          -0.6045054793357849,
          -0.7815389633178711,
          0.3164023756980896,
          3.6796722412109375,
          -0.04268479719758034,
          -0.2546026110649109,
          -0.024219468235969543,
          -0.6497906446456909,
          0.0010084956884384155,
          -0.19735628366470337,
          0.4979856014251709,
          0.578073263168335,
          -3.6366021633148193,
          0.14017756283283234,
          1.4422391653060913,
          0.7785429954528809,
          0.07242044806480408,
          -0.13657215237617493,
          0.28899747133255005,
          -0.367356538772583,
          -0.1407938152551651,
          -0.6215357780456543,
          0.26812586188316345,
          0.12756535410881042,
          -0.2431352138519287,
          1.4918451309204102,
          0.5210738182067871,
          -0.08516723662614822,
          -0.43946874141693115,
          0.8040893077850342,
          0.22323653101921082,
          -0.2373664677143097,
          -0.0702720582485199,
          0.6976869106292725,
          -1.305736780166626,
          0.7230676412582397,
          0.007385401986539364,
          0.29929429292678833,
          -0.1673664152622223,
          -0.2561456859111786,
          2.1644833087921143,
          -0.11721938848495483,
          0.5432899594306946,
          -0.22257477045059204,
          0.018161267042160034,
          -0.4563319683074951,
          -0.32472288608551025,
          0.07677117735147476,
          0.1418912410736084,
          2.1455719470977783,
          1.0255630016326904,
          -0.7992503643035889,
          -0.03764662146568298,
          -0.5001702308654785,
          0.10408876836299896,
          -0.3565236032009125,
          0.05222046375274658,
          -0.05203425884246826,
          0.5849430561065674,
          1.2611099481582642,
          -1.060399055480957,
          0.024007853120565414,
          0.1556176245212555,
          -0.5535375475883484,
          1.7574824094772339,
          -0.05167695879936218,
          0.5457966327667236,
          -0.0502765029668808,
          0.0034179985523223877,
          0.09498035907745361,
          -0.5345463156700134,
          -0.5361047983169556,
          0.03837615251541138,
          0.5303486585617065,
          0.19773942232131958,
          -0.3637522757053375,
          0.1257438212633133,
          0.23172910511493683,
          -0.838013768196106,
          0.5854569673538208,
          0.012479409575462341,
          0.14588893949985504,
          -0.12605540454387665,
          -0.1720922887325287,
          -0.20604541897773743,
          0.09801309555768967,
          0.576197624206543,
          0.3194877505302429,
          1.1964998245239258,
          0.22826486825942993,
          -0.15911661088466644,
          0.5096811056137085,
          -0.04062221944332123,
          1.5945415496826172,
          2.5149407386779785,
          -0.4632323086261749,
          0.12531624734401703,
          -0.15069158375263214,
          -0.018185339868068695,
          -0.03220159560441971,
          -0.4097500741481781,
          -0.6634953022003174,
          0.6508709192276001,
          -0.1136857271194458,
          -0.04926803708076477,
          -1.3088388442993164,
          0.04441211745142937,
          -0.1671871542930603,
          0.171919584274292,
          -0.7907859683036804,
          0.11565253883600235,
          0.008294239640235901,
          -0.8501290082931519,
          -0.0737415999174118,
          0.24437522888183594,
          -0.17140933871269226,
          0.13554581999778748,
          -1.5327204465866089,
          1.0217007398605347,
          -0.3853118419647217,
          0.5939050316810608,
          0.2568582594394684,
          -0.09612425416707993,
          -0.3871486783027649,
          -2.5378994941711426,
          0.12437109649181366,
          -0.17983485758304596,
          -0.42373108863830566,
          -0.21786126494407654,
          0.7271125316619873,
          -0.1382180154323578,
          0.5069552063941956,
          -0.024556584656238556,
          0.0251358300447464,
          -2.6987900733947754,
          -0.4893958568572998,
          -0.5654774904251099,
          0.6136186718940735,
          -0.06003129482269287,
          -0.23911085724830627,
          0.5599489212036133,
          -0.04322914779186249,
          -0.36046820878982544,
          -0.15784472227096558,
          0.02473633736371994,
          -0.5989512205123901,
          -0.013367071747779846,
          0.7906525731086731,
          -0.1640755832195282,
          0.29086196422576904,
          -0.10151132941246033,
          0.28096461296081543,
          0.16284576058387756,
          0.3144373893737793,
          0.07995640486478806,
          -0.16087302565574646,
          0.6608231663703918,
          -0.22303786873817444,
          -0.47322750091552734,
          0.5509254932403564,
          -0.861979067325592,
          0.16412442922592163,
          -0.3468881845474243,
          0.039279788732528687,
          -0.1568254977464676,
          -0.30598941445350647,
          -1.2112061977386475,
          -0.011815493926405907,
          -0.21629127860069275,
          0.028233587741851807,
          -0.32895636558532715,
          0.35521215200424194,
          0.16964922845363617,
          -0.07578393816947937,
          -0.22541649639606476,
          0.6761481761932373,
          0.30962610244750977,
          0.1142352819442749,
          0.4717922806739807,
          0.20686018466949463,
          -0.25046297907829285,
          0.3101516366004944,
          -0.26279252767562866,
          -0.12742695212364197,
          0.6414986848831177,
          -0.2577395439147949,
          0.07538609951734543,
          0.09193728119134903,
          -0.10285159945487976,
          0.9309157133102417,
          -0.20974861085414886,
          -0.05954807624220848,
          -0.03110373392701149,
          -0.2640649080276489,
          -0.22753995656967163,
          -0.391681969165802,
          0.9505016803741455,
          0.9216858148574829,
          -0.44237715005874634,
          -0.18320801854133606,
          0.04553429037332535,
          -0.23605331778526306,
          0.054877642542123795,
          0.036506425589323044,
          -0.0077611226588487625,
          -0.2420249879360199,
          -0.11981377005577087,
          -1.3438866138458252,
          -0.08011455833911896,
          -0.8289757370948792,
          0.030470743775367737,
          0.669235110282898,
          0.2074408084154129,
          -0.5526891946792603,
          0.21391832828521729,
          0.3985849618911743,
          -0.08572369068861008,
          -0.373048335313797,
          1.267487645149231,
          0.11302930116653442,
          0.09668758511543274,
          0.31721431016921997,
          -0.9871854782104492,
          0.07534582912921906,
          0.37567830085754395,
          -0.3250553607940674,
          -0.0753612369298935,
          0.5571362376213074,
          0.04071444272994995,
          -0.3227033317089081,
          -0.28158190846443176,
          -0.011759137734770775,
          0.42082783579826355,
          0.1281355917453766,
          0.0771486833691597,
          1.0485469102859497,
          0.007989279925823212,
          0.0980788916349411,
          0.36919429898262024,
          0.23181575536727905,
          0.15330249071121216,
          -0.10425390303134918,
          -0.2973763942718506,
          0.20297475159168243,
          -0.332173228263855,
          0.16991500556468964,
          -0.06916671991348267,
          0.22064369916915894,
          0.2765626311302185,
          0.17366856336593628,
          -0.21183082461357117,
          -0.12104490399360657,
          0.05677533149719238,
          0.1580887734889984,
          -0.8696094751358032,
          -0.9921550154685974,
          0.05078861117362976,
          -0.12481623142957687,
          0.20027989149093628,
          0.121432363986969,
          -0.6035903692245483,
          0.2803957462310791,
          -0.6312337517738342,
          0.7792948484420776,
          -0.6145893335342407,
          0.29348069429397583,
          0.4800751209259033,
          -0.2287859320640564,
          0.2113138735294342,
          0.021642684936523438,
          0.019673556089401245,
          0.16347306966781616,
          -0.2303941696882248,
          -0.6203301548957825,
          -0.268147349357605,
          -0.21995708346366882,
          -1.3173699378967285,
          -0.11877413094043732,
          0.05460326373577118,
          -0.15760865807533264,
          -0.010701760649681091,
          1.1326944828033447,
          0.7855738401412964,
          -0.036709025502204895,
          0.29716578125953674,
          1.3537222146987915,
          -0.08898390829563141,
          0.5405632257461548,
          -0.3180196285247803,
          0.2274789661169052,
          -0.6978438496589661,
          -0.2514461874961853,
          1.284043550491333,
          -0.004158433526754379,
          -0.9311143159866333,
          -0.2652672529220581,
          0.5890899896621704,
          0.3579031229019165,
          0.25030362606048584,
          -0.22440961003303528,
          0.9889123439788818,
          0.054559946060180664,
          0.2569625973701477,
          0.08327111601829529,
          -2.0627799034118652,
          -0.2719429135322571,
          0.4951505661010742,
          -0.030762627720832825,
          -0.15274576842784882,
          0.10955046862363815,
          -0.15550479292869568,
          2.261702537536621,
          0.08674953877925873,
          -0.24702954292297363,
          0.20763814449310303
         ],
         "xbins": {
          "end": 12.294053077697754,
          "size": 0,
          "start": -6.079044818878174
         }
        }
       ],
       "layout": {
        "bargap": 0.2,
        "template": {
         "data": {
          "bar": [
           {
            "error_x": {
             "color": "#2a3f5f"
            },
            "error_y": {
             "color": "#2a3f5f"
            },
            "marker": {
             "line": {
              "color": "#E5ECF6",
              "width": 0.5
             }
            },
            "type": "bar"
           }
          ],
          "barpolar": [
           {
            "marker": {
             "line": {
              "color": "#E5ECF6",
              "width": 0.5
             }
            },
            "type": "barpolar"
           }
          ],
          "carpet": [
           {
            "aaxis": {
             "endlinecolor": "#2a3f5f",
             "gridcolor": "white",
             "linecolor": "white",
             "minorgridcolor": "white",
             "startlinecolor": "#2a3f5f"
            },
            "baxis": {
             "endlinecolor": "#2a3f5f",
             "gridcolor": "white",
             "linecolor": "white",
             "minorgridcolor": "white",
             "startlinecolor": "#2a3f5f"
            },
            "type": "carpet"
           }
          ],
          "choropleth": [
           {
            "colorbar": {
             "outlinewidth": 0,
             "ticks": ""
            },
            "type": "choropleth"
           }
          ],
          "contour": [
           {
            "colorbar": {
             "outlinewidth": 0,
             "ticks": ""
            },
            "colorscale": [
             [
              0,
              "#0d0887"
             ],
             [
              0.1111111111111111,
              "#46039f"
             ],
             [
              0.2222222222222222,
              "#7201a8"
             ],
             [
              0.3333333333333333,
              "#9c179e"
             ],
             [
              0.4444444444444444,
              "#bd3786"
             ],
             [
              0.5555555555555556,
              "#d8576b"
             ],
             [
              0.6666666666666666,
              "#ed7953"
             ],
             [
              0.7777777777777778,
              "#fb9f3a"
             ],
             [
              0.8888888888888888,
              "#fdca26"
             ],
             [
              1,
              "#f0f921"
             ]
            ],
            "type": "contour"
           }
          ],
          "contourcarpet": [
           {
            "colorbar": {
             "outlinewidth": 0,
             "ticks": ""
            },
            "type": "contourcarpet"
           }
          ],
          "heatmap": [
           {
            "colorbar": {
             "outlinewidth": 0,
             "ticks": ""
            },
            "colorscale": [
             [
              0,
              "#0d0887"
             ],
             [
              0.1111111111111111,
              "#46039f"
             ],
             [
              0.2222222222222222,
              "#7201a8"
             ],
             [
              0.3333333333333333,
              "#9c179e"
             ],
             [
              0.4444444444444444,
              "#bd3786"
             ],
             [
              0.5555555555555556,
              "#d8576b"
             ],
             [
              0.6666666666666666,
              "#ed7953"
             ],
             [
              0.7777777777777778,
              "#fb9f3a"
             ],
             [
              0.8888888888888888,
              "#fdca26"
             ],
             [
              1,
              "#f0f921"
             ]
            ],
            "type": "heatmap"
           }
          ],
          "heatmapgl": [
           {
            "colorbar": {
             "outlinewidth": 0,
             "ticks": ""
            },
            "colorscale": [
             [
              0,
              "#0d0887"
             ],
             [
              0.1111111111111111,
              "#46039f"
             ],
             [
              0.2222222222222222,
              "#7201a8"
             ],
             [
              0.3333333333333333,
              "#9c179e"
             ],
             [
              0.4444444444444444,
              "#bd3786"
             ],
             [
              0.5555555555555556,
              "#d8576b"
             ],
             [
              0.6666666666666666,
              "#ed7953"
             ],
             [
              0.7777777777777778,
              "#fb9f3a"
             ],
             [
              0.8888888888888888,
              "#fdca26"
             ],
             [
              1,
              "#f0f921"
             ]
            ],
            "type": "heatmapgl"
           }
          ],
          "histogram": [
           {
            "marker": {
             "colorbar": {
              "outlinewidth": 0,
              "ticks": ""
             }
            },
            "type": "histogram"
           }
          ],
          "histogram2d": [
           {
            "colorbar": {
             "outlinewidth": 0,
             "ticks": ""
            },
            "colorscale": [
             [
              0,
              "#0d0887"
             ],
             [
              0.1111111111111111,
              "#46039f"
             ],
             [
              0.2222222222222222,
              "#7201a8"
             ],
             [
              0.3333333333333333,
              "#9c179e"
             ],
             [
              0.4444444444444444,
              "#bd3786"
             ],
             [
              0.5555555555555556,
              "#d8576b"
             ],
             [
              0.6666666666666666,
              "#ed7953"
             ],
             [
              0.7777777777777778,
              "#fb9f3a"
             ],
             [
              0.8888888888888888,
              "#fdca26"
             ],
             [
              1,
              "#f0f921"
             ]
            ],
            "type": "histogram2d"
           }
          ],
          "histogram2dcontour": [
           {
            "colorbar": {
             "outlinewidth": 0,
             "ticks": ""
            },
            "colorscale": [
             [
              0,
              "#0d0887"
             ],
             [
              0.1111111111111111,
              "#46039f"
             ],
             [
              0.2222222222222222,
              "#7201a8"
             ],
             [
              0.3333333333333333,
              "#9c179e"
             ],
             [
              0.4444444444444444,
              "#bd3786"
             ],
             [
              0.5555555555555556,
              "#d8576b"
             ],
             [
              0.6666666666666666,
              "#ed7953"
             ],
             [
              0.7777777777777778,
              "#fb9f3a"
             ],
             [
              0.8888888888888888,
              "#fdca26"
             ],
             [
              1,
              "#f0f921"
             ]
            ],
            "type": "histogram2dcontour"
           }
          ],
          "mesh3d": [
           {
            "colorbar": {
             "outlinewidth": 0,
             "ticks": ""
            },
            "type": "mesh3d"
           }
          ],
          "parcoords": [
           {
            "line": {
             "colorbar": {
              "outlinewidth": 0,
              "ticks": ""
             }
            },
            "type": "parcoords"
           }
          ],
          "pie": [
           {
            "automargin": true,
            "type": "pie"
           }
          ],
          "scatter": [
           {
            "marker": {
             "colorbar": {
              "outlinewidth": 0,
              "ticks": ""
             }
            },
            "type": "scatter"
           }
          ],
          "scatter3d": [
           {
            "line": {
             "colorbar": {
              "outlinewidth": 0,
              "ticks": ""
             }
            },
            "marker": {
             "colorbar": {
              "outlinewidth": 0,
              "ticks": ""
             }
            },
            "type": "scatter3d"
           }
          ],
          "scattercarpet": [
           {
            "marker": {
             "colorbar": {
              "outlinewidth": 0,
              "ticks": ""
             }
            },
            "type": "scattercarpet"
           }
          ],
          "scattergeo": [
           {
            "marker": {
             "colorbar": {
              "outlinewidth": 0,
              "ticks": ""
             }
            },
            "type": "scattergeo"
           }
          ],
          "scattergl": [
           {
            "marker": {
             "colorbar": {
              "outlinewidth": 0,
              "ticks": ""
             }
            },
            "type": "scattergl"
           }
          ],
          "scattermapbox": [
           {
            "marker": {
             "colorbar": {
              "outlinewidth": 0,
              "ticks": ""
             }
            },
            "type": "scattermapbox"
           }
          ],
          "scatterpolar": [
           {
            "marker": {
             "colorbar": {
              "outlinewidth": 0,
              "ticks": ""
             }
            },
            "type": "scatterpolar"
           }
          ],
          "scatterpolargl": [
           {
            "marker": {
             "colorbar": {
              "outlinewidth": 0,
              "ticks": ""
             }
            },
            "type": "scatterpolargl"
           }
          ],
          "scatterternary": [
           {
            "marker": {
             "colorbar": {
              "outlinewidth": 0,
              "ticks": ""
             }
            },
            "type": "scatterternary"
           }
          ],
          "surface": [
           {
            "colorbar": {
             "outlinewidth": 0,
             "ticks": ""
            },
            "colorscale": [
             [
              0,
              "#0d0887"
             ],
             [
              0.1111111111111111,
              "#46039f"
             ],
             [
              0.2222222222222222,
              "#7201a8"
             ],
             [
              0.3333333333333333,
              "#9c179e"
             ],
             [
              0.4444444444444444,
              "#bd3786"
             ],
             [
              0.5555555555555556,
              "#d8576b"
             ],
             [
              0.6666666666666666,
              "#ed7953"
             ],
             [
              0.7777777777777778,
              "#fb9f3a"
             ],
             [
              0.8888888888888888,
              "#fdca26"
             ],
             [
              1,
              "#f0f921"
             ]
            ],
            "type": "surface"
           }
          ],
          "table": [
           {
            "cells": {
             "fill": {
              "color": "#EBF0F8"
             },
             "line": {
              "color": "white"
             }
            },
            "header": {
             "fill": {
              "color": "#C8D4E3"
             },
             "line": {
              "color": "white"
             }
            },
            "type": "table"
           }
          ]
         },
         "layout": {
          "annotationdefaults": {
           "arrowcolor": "#2a3f5f",
           "arrowhead": 0,
           "arrowwidth": 1
          },
          "coloraxis": {
           "colorbar": {
            "outlinewidth": 0,
            "ticks": ""
           }
          },
          "colorscale": {
           "diverging": [
            [
             0,
             "#8e0152"
            ],
            [
             0.1,
             "#c51b7d"
            ],
            [
             0.2,
             "#de77ae"
            ],
            [
             0.3,
             "#f1b6da"
            ],
            [
             0.4,
             "#fde0ef"
            ],
            [
             0.5,
             "#f7f7f7"
            ],
            [
             0.6,
             "#e6f5d0"
            ],
            [
             0.7,
             "#b8e186"
            ],
            [
             0.8,
             "#7fbc41"
            ],
            [
             0.9,
             "#4d9221"
            ],
            [
             1,
             "#276419"
            ]
           ],
           "sequential": [
            [
             0,
             "#0d0887"
            ],
            [
             0.1111111111111111,
             "#46039f"
            ],
            [
             0.2222222222222222,
             "#7201a8"
            ],
            [
             0.3333333333333333,
             "#9c179e"
            ],
            [
             0.4444444444444444,
             "#bd3786"
            ],
            [
             0.5555555555555556,
             "#d8576b"
            ],
            [
             0.6666666666666666,
             "#ed7953"
            ],
            [
             0.7777777777777778,
             "#fb9f3a"
            ],
            [
             0.8888888888888888,
             "#fdca26"
            ],
            [
             1,
             "#f0f921"
            ]
           ],
           "sequentialminus": [
            [
             0,
             "#0d0887"
            ],
            [
             0.1111111111111111,
             "#46039f"
            ],
            [
             0.2222222222222222,
             "#7201a8"
            ],
            [
             0.3333333333333333,
             "#9c179e"
            ],
            [
             0.4444444444444444,
             "#bd3786"
            ],
            [
             0.5555555555555556,
             "#d8576b"
            ],
            [
             0.6666666666666666,
             "#ed7953"
            ],
            [
             0.7777777777777778,
             "#fb9f3a"
            ],
            [
             0.8888888888888888,
             "#fdca26"
            ],
            [
             1,
             "#f0f921"
            ]
           ]
          },
          "colorway": [
           "#636efa",
           "#EF553B",
           "#00cc96",
           "#ab63fa",
           "#FFA15A",
           "#19d3f3",
           "#FF6692",
           "#B6E880",
           "#FF97FF",
           "#FECB52"
          ],
          "font": {
           "color": "#2a3f5f"
          },
          "geo": {
           "bgcolor": "white",
           "lakecolor": "white",
           "landcolor": "#E5ECF6",
           "showlakes": true,
           "showland": true,
           "subunitcolor": "white"
          },
          "hoverlabel": {
           "align": "left"
          },
          "hovermode": "closest",
          "mapbox": {
           "style": "light"
          },
          "paper_bgcolor": "white",
          "plot_bgcolor": "#E5ECF6",
          "polar": {
           "angularaxis": {
            "gridcolor": "white",
            "linecolor": "white",
            "ticks": ""
           },
           "bgcolor": "#E5ECF6",
           "radialaxis": {
            "gridcolor": "white",
            "linecolor": "white",
            "ticks": ""
           }
          },
          "scene": {
           "xaxis": {
            "backgroundcolor": "#E5ECF6",
            "gridcolor": "white",
            "gridwidth": 2,
            "linecolor": "white",
            "showbackground": true,
            "ticks": "",
            "zerolinecolor": "white"
           },
           "yaxis": {
            "backgroundcolor": "#E5ECF6",
            "gridcolor": "white",
            "gridwidth": 2,
            "linecolor": "white",
            "showbackground": true,
            "ticks": "",
            "zerolinecolor": "white"
           },
           "zaxis": {
            "backgroundcolor": "#E5ECF6",
            "gridcolor": "white",
            "gridwidth": 2,
            "linecolor": "white",
            "showbackground": true,
            "ticks": "",
            "zerolinecolor": "white"
           }
          },
          "shapedefaults": {
           "line": {
            "color": "#2a3f5f"
           }
          },
          "ternary": {
           "aaxis": {
            "gridcolor": "white",
            "linecolor": "white",
            "ticks": ""
           },
           "baxis": {
            "gridcolor": "white",
            "linecolor": "white",
            "ticks": ""
           },
           "bgcolor": "#E5ECF6",
           "caxis": {
            "gridcolor": "white",
            "linecolor": "white",
            "ticks": ""
           }
          },
          "title": {
           "x": 0.05
          },
          "xaxis": {
           "automargin": true,
           "gridcolor": "white",
           "linecolor": "white",
           "ticks": "",
           "title": {
            "standoff": 15
           },
           "zerolinecolor": "white",
           "zerolinewidth": 2
          },
          "yaxis": {
           "automargin": true,
           "gridcolor": "white",
           "linecolor": "white",
           "ticks": "",
           "title": {
            "standoff": 15
           },
           "zerolinecolor": "white",
           "zerolinewidth": 2
          }
         }
        },
        "title": {
         "text": "Distribution of the output of layer bn1"
        },
        "xaxis": {
         "title": {
          "text": "Output of Layer bn1"
         }
        },
        "yaxis": {
         "title": {
          "text": "Count"
         }
        }
       }
      },
      "text/html": [
       "<div>\n",
       "        \n",
       "        \n",
       "            <div id=\"618a9f95-17e2-4125-8c96-6acbdca407c6\" class=\"plotly-graph-div\" style=\"height:525px; width:100%;\"></div>\n",
       "            <script type=\"text/javascript\">\n",
       "                require([\"plotly\"], function(Plotly) {\n",
       "                    window.PLOTLYENV=window.PLOTLYENV || {};\n",
       "                    \n",
       "                if (document.getElementById(\"618a9f95-17e2-4125-8c96-6acbdca407c6\")) {\n",
       "                    Plotly.newPlot(\n",
       "                        '618a9f95-17e2-4125-8c96-6acbdca407c6',\n",
       "                        [{\"marker\": {\"color\": \"#db0000\"}, \"name\": \"Layer Output\", \"type\": \"histogram\", \"x\": [3.1791024208068848, 0.7933483123779297, -1.0266155004501343, -1.1357609033584595, -0.8204715251922607, 9.347236633300781, -6.079044818878174, 1.5444421768188477, -2.6828651428222656, -3.6342859268188477, -5.004286289215088, -5.528514862060547, 1.80291748046875, 1.6946868896484375, 12.294053077697754, -0.17230558395385742, 1.3048573732376099, 0.11859291791915894, -0.2056729793548584, 0.4600052833557129, -0.15251857042312622, 0.7481279373168945, -0.4076840877532959, 0.08914428949356079, 0.4512632489204407, -0.5162984132766724, 1.137650489807129, 0.0378945991396904, 0.17303836345672607, -0.15168124437332153, -0.0755465179681778, 0.14422762393951416, -0.2148844599723816, -0.04529479146003723, -0.3985130190849304, 0.13751709461212158, -0.5941001176834106, -0.01755748689174652, 0.07898080348968506, 0.29222244024276733, -0.07178763300180435, 0.40846410393714905, 0.021069057285785675, 2.3004322052001953, 0.07633408904075623, 0.3433101177215576, -0.2054927796125412, -0.6228747963905334, -0.4209575057029724, -0.1855509877204895, -0.004369478672742844, 0.16424405574798584, 0.0037301452830433846, -2.054500102996826, 0.9395905137062073, 0.10866807401180267, 0.15848810970783234, 0.005347520112991333, -0.027545161545276642, 0.05397643893957138, -0.5611389875411987, -0.4392339587211609, 0.3664630055427551, 0.04403218254446983, 1.6656469106674194, 0.2931887209415436, -0.18617630004882812, 0.034761182963848114, 0.24731117486953735, 0.21156662702560425, 0.03341168165206909, -0.5923874378204346, -0.0379955917596817, 0.09518663585186005, 0.016132712364196777, 0.2755640745162964, 0.05492845177650452, 0.05853932350873947, -0.011388331651687622, 0.0655030608177185, -0.08145959675312042, 0.21469590067863464, -0.40632396936416626, 1.6415001153945923, -0.46846121549606323, 0.5621567964553833, -0.17266470193862915, 0.08105987310409546, -0.09994594752788544, -0.15194860100746155, 0.07682177424430847, 0.07364435493946075, -0.5545133948326111, 0.1189829409122467, 0.23536594212055206, -0.30466747283935547, 0.3884373605251312, 0.7068796157836914, -0.12216755747795105, 0.6742923259735107, 0.5207430720329285, -0.40403154492378235, 0.2597648799419403, -0.23047010600566864, 0.07056014239788055, 0.4014357924461365, -0.36420494318008423, -0.23832309246063232, -0.19055193662643433, -0.04982868209481239, -0.041646558791399, -0.1673334836959839, 0.3787475824356079, 0.08282700181007385, -0.7769750356674194, 0.80148845911026, -0.0296805240213871, -0.002410806715488434, 0.04449602961540222, -0.014634758234024048, -1.146177887916565, -0.10125337541103363, 0.2428254932165146, -0.06922078132629395, 0.20764248073101044, -0.030252858996391296, -0.36397889256477356, 0.21899396181106567, 0.02246771939098835, 0.02978631481528282, 1.3708871603012085, -0.10933394730091095, -1.4477417469024658, -0.03126325458288193, 0.07085393369197845, 0.11724865436553955, 0.002782300114631653, 0.46029195189476013, 0.8590587377548218, -1.1519910097122192, 0.3053794503211975, 0.36563408374786377, 0.19543029367923737, -0.18439137935638428, -1.7497100830078125, -0.0798359215259552, 0.08684726059436798, -0.0507839098572731, -0.570495069026947, -0.8710055947303772, 0.248436838388443, 0.21982342004776, -0.4536471366882324, 0.019903749227523804, -0.05986113101243973, -0.15293243527412415, 0.22487543523311615, -0.08797658234834671, -0.31862109899520874, -0.14824078977108002, -0.009068820625543594, -0.149402916431427, 0.33834242820739746, 0.2174232304096222, 0.20505207777023315, -0.2971785068511963, 0.12227649986743927, 1.6182620525360107, 0.28738531470298767, -1.137937068939209, -0.08061958849430084, 0.09721782803535461, 0.24463343620300293, 0.535663902759552, -0.18433454632759094, 0.1778353601694107, -0.2644151747226715, 0.9295098185539246, 0.13983851671218872, -0.08420338481664658, -0.03896186500787735, -0.1944458782672882, 0.4233497977256775, 0.03982210159301758, 0.15244239568710327, 0.0948253646492958, -0.11013978719711304, 0.16006293892860413, 0.10273914039134979, 0.90062016248703, -0.5934238433837891, 1.314683437347412, -0.031411997973918915, 0.2144719362258911, -0.28386473655700684, -0.02267426997423172, -0.7711117267608643, -0.4753921926021576, 0.36274582147598267, -0.10092765092849731, 0.30912190675735474, -0.23837809264659882, -0.3266003131866455, 2.8725125789642334, -0.2875356376171112, 0.6547519564628601, 0.41601359844207764, 0.43079617619514465, -0.6864844560623169, -0.43809205293655396, 1.101391315460205, 0.02536506950855255, -0.018384888768196106, -0.04508376121520996, -0.2207573801279068, -0.01286432147026062, 0.020476117730140686, 0.5979315638542175, 1.423327088356018, -0.06683236360549927, -0.19907087087631226, -0.0705106183886528, 0.2615148425102234, -0.30847808718681335, -0.2608587443828583, -0.12203210592269897, -0.8746422529220581, 0.22247298061847687, 0.19925136864185333, -0.34768062829971313, 0.35211002826690674, 0.17090678215026855, 0.3305521607398987, 0.09188950061798096, -0.06646287441253662, -0.3662354648113251, 0.2465161234140396, 0.1766134798526764, -0.23552057147026062, -0.38404154777526855, -0.29364269971847534, -0.17748340964317322, -0.384223997592926, -0.3501690924167633, 0.1656598597764969, 0.2913297116756439, 0.7810872197151184, 0.026280105113983154, -0.007179077714681625, -0.0682946965098381, 0.11248613893985748, -0.004768881015479565, 0.4536614716053009, -0.12756069004535675, -0.22498390078544617, -0.28814247250556946, -0.23472926020622253, -0.1297110915184021, -0.278328537940979, -0.0008933842182159424, 0.6373648643493652, -0.040621161460876465, 0.20224475860595703, 0.029780708253383636, -0.667636513710022, -0.4728785753250122, 0.267772912979126, -0.1699243187904358, 0.16164138913154602, -0.022848989814519882, 1.9417864084243774, -0.5655632019042969, -0.15114519000053406, 0.24293480813503265, -0.163126140832901, -2.068873405456543, 0.236217200756073, -0.05743727833032608, -0.430988609790802, -0.1596997082233429, 0.3517322838306427, -0.3878510296344757, 0.4148067533969879, 0.7140690088272095, -0.6156558394432068, -0.18867433071136475, 1.8294445276260376, -2.0247344970703125, 0.001936785876750946, -0.06341437995433807, 0.0013922005891799927, -0.19868135452270508, 0.171578049659729, 2.138679027557373, -0.5833494663238525, -0.05059622973203659, 0.26701515913009644, 0.0525851845741272, 0.26298192143440247, -0.012902317568659782, -0.43884414434432983, -0.3582741618156433, -0.07904906570911407, 0.2669823467731476, 0.04292237013578415, -0.011413875967264175, 2.811457633972168, 0.03308302164077759, 0.23981404304504395, -0.22621271014213562, 1.0468096733093262, 0.17195606231689453, 0.4096263647079468, -0.1848061978816986, 0.025922756642103195, -0.17015452682971954, 0.4188939034938812, 0.418794184923172, 0.33865225315093994, -1.0269920825958252, 0.5812435746192932, -0.3987150192260742, 0.12139099091291428, -0.07398355007171631, 2.583402395248413, -0.1378750205039978, -0.6257349252700806, -0.14204496145248413, -0.1387607455253601, 0.15428276360034943, -1.1149897575378418, -1.0862197875976562, 0.16580849885940552, 0.17395588755607605, -0.07439747452735901, -0.03217645734548569, 1.0725536346435547, 1.1178606748580933, 0.35569822788238525, -0.23306876420974731, -0.10344315320253372, -0.4446678161621094, -0.0373682826757431, 0.37664228677749634, 0.8932946920394897, 0.6030035614967346, 0.24178022146224976, -0.17326778173446655, -0.1317112147808075, -0.18263554573059082, 0.006675112992525101, -0.41372060775756836, -0.049401089549064636, 0.2583150863647461, 0.17918676137924194, 0.1849028766155243, 0.24847294390201569, 0.47962191700935364, -0.34647417068481445, 0.31313377618789673, -0.26804372668266296, 0.00610332190990448, -0.0941256731748581, 0.12145009636878967, 0.0016183992847800255, 0.3247067928314209, -1.2291648387908936, 0.011347601190209389, 0.2245311290025711, 0.30054524540901184, -0.05305519700050354, 0.2088000625371933, 0.32375413179397583, 1.5557668209075928, -0.042965278029441833, -0.19794365763664246, 0.482760488986969, -0.2745860815048218, -0.06823620200157166, -0.0208568312227726, 0.16600127518177032, -0.17756874859333038, 0.6715070009231567, 0.021679580211639404, -0.0972868949174881, 0.2472531795501709, -0.12939117848873138, 0.1601695865392685, 0.0534125380218029, 1.1939945220947266, 0.25049275159835815, -0.36509016156196594, -0.023267101496458054, 2.3491060733795166, 0.4047759175300598, 0.3420313000679016, 0.2331172227859497, 0.7289748191833496, 0.023263996466994286, 0.1003645807504654, -0.9915653467178345, 0.022480681538581848, -0.07568368315696716, 0.18243716657161713, -1.0010147094726562, 0.0815553218126297, -1.7485687732696533, -0.13833743333816528, -0.042310357093811035, 0.7425956130027771, 0.20611876249313354, -0.11999961733818054, -0.05822838097810745, -0.23540490865707397, -0.05617588758468628, 2.0400874614715576, 0.5321657061576843, -0.1202380433678627, 0.18688739836215973, 0.4217965006828308, -0.270388126373291, -0.11963647603988647, 1.4649395942687988, -0.18690770864486694, 0.6250555515289307, -0.12018771469593048, 1.1850438117980957, 0.1668413132429123, 0.39459216594696045, 0.3219336271286011, 0.11769647896289825, 0.5104621648788452, 0.20080262422561646, 0.017673224210739136, -0.2137608528137207, 0.13211177289485931, 0.4096066951751709, -0.8767768144607544, -0.18422001600265503, -0.09987221658229828, -1.3275343179702759, 0.3004000782966614, -0.042140137404203415, -0.7205058336257935, 0.10184916108846664, 0.10569842159748077, 0.9430848360061646, 0.14049166440963745, -0.418133020401001, 0.021795809268951416, -0.7110236883163452, 0.1757185012102127, -0.07388367503881454, 0.3762308955192566, -0.19582140445709229, 0.2869536876678467, -0.34727999567985535, -0.004873339086771011, 0.13341385126113892, -0.14901956915855408, -0.047164857387542725, 0.21686536073684692, 0.20570236444473267, -0.4202202260494232, -1.3300913572311401, -0.3162284791469574, -0.40307605266571045, -1.4006061553955078, -0.6045054793357849, -0.7815389633178711, 0.3164023756980896, 3.6796722412109375, -0.04268479719758034, -0.2546026110649109, -0.024219468235969543, -0.6497906446456909, 0.0010084956884384155, -0.19735628366470337, 0.4979856014251709, 0.578073263168335, -3.6366021633148193, 0.14017756283283234, 1.4422391653060913, 0.7785429954528809, 0.07242044806480408, -0.13657215237617493, 0.28899747133255005, -0.367356538772583, -0.1407938152551651, -0.6215357780456543, 0.26812586188316345, 0.12756535410881042, -0.2431352138519287, 1.4918451309204102, 0.5210738182067871, -0.08516723662614822, -0.43946874141693115, 0.8040893077850342, 0.22323653101921082, -0.2373664677143097, -0.0702720582485199, 0.6976869106292725, -1.305736780166626, 0.7230676412582397, 0.007385401986539364, 0.29929429292678833, -0.1673664152622223, -0.2561456859111786, 2.1644833087921143, -0.11721938848495483, 0.5432899594306946, -0.22257477045059204, 0.018161267042160034, -0.4563319683074951, -0.32472288608551025, 0.07677117735147476, 0.1418912410736084, 2.1455719470977783, 1.0255630016326904, -0.7992503643035889, -0.03764662146568298, -0.5001702308654785, 0.10408876836299896, -0.3565236032009125, 0.05222046375274658, -0.05203425884246826, 0.5849430561065674, 1.2611099481582642, -1.060399055480957, 0.024007853120565414, 0.1556176245212555, -0.5535375475883484, 1.7574824094772339, -0.05167695879936218, 0.5457966327667236, -0.0502765029668808, 0.0034179985523223877, 0.09498035907745361, -0.5345463156700134, -0.5361047983169556, 0.03837615251541138, 0.5303486585617065, 0.19773942232131958, -0.3637522757053375, 0.1257438212633133, 0.23172910511493683, -0.838013768196106, 0.5854569673538208, 0.012479409575462341, 0.14588893949985504, -0.12605540454387665, -0.1720922887325287, -0.20604541897773743, 0.09801309555768967, 0.576197624206543, 0.3194877505302429, 1.1964998245239258, 0.22826486825942993, -0.15911661088466644, 0.5096811056137085, -0.04062221944332123, 1.5945415496826172, 2.5149407386779785, -0.4632323086261749, 0.12531624734401703, -0.15069158375263214, -0.018185339868068695, -0.03220159560441971, -0.4097500741481781, -0.6634953022003174, 0.6508709192276001, -0.1136857271194458, -0.04926803708076477, -1.3088388442993164, 0.04441211745142937, -0.1671871542930603, 0.171919584274292, -0.7907859683036804, 0.11565253883600235, 0.008294239640235901, -0.8501290082931519, -0.0737415999174118, 0.24437522888183594, -0.17140933871269226, 0.13554581999778748, -1.5327204465866089, 1.0217007398605347, -0.3853118419647217, 0.5939050316810608, 0.2568582594394684, -0.09612425416707993, -0.3871486783027649, -2.5378994941711426, 0.12437109649181366, -0.17983485758304596, -0.42373108863830566, -0.21786126494407654, 0.7271125316619873, -0.1382180154323578, 0.5069552063941956, -0.024556584656238556, 0.0251358300447464, -2.6987900733947754, -0.4893958568572998, -0.5654774904251099, 0.6136186718940735, -0.06003129482269287, -0.23911085724830627, 0.5599489212036133, -0.04322914779186249, -0.36046820878982544, -0.15784472227096558, 0.02473633736371994, -0.5989512205123901, -0.013367071747779846, 0.7906525731086731, -0.1640755832195282, 0.29086196422576904, -0.10151132941246033, 0.28096461296081543, 0.16284576058387756, 0.3144373893737793, 0.07995640486478806, -0.16087302565574646, 0.6608231663703918, -0.22303786873817444, -0.47322750091552734, 0.5509254932403564, -0.861979067325592, 0.16412442922592163, -0.3468881845474243, 0.039279788732528687, -0.1568254977464676, -0.30598941445350647, -1.2112061977386475, -0.011815493926405907, -0.21629127860069275, 0.028233587741851807, -0.32895636558532715, 0.35521215200424194, 0.16964922845363617, -0.07578393816947937, -0.22541649639606476, 0.6761481761932373, 0.30962610244750977, 0.1142352819442749, 0.4717922806739807, 0.20686018466949463, -0.25046297907829285, 0.3101516366004944, -0.26279252767562866, -0.12742695212364197, 0.6414986848831177, -0.2577395439147949, 0.07538609951734543, 0.09193728119134903, -0.10285159945487976, 0.9309157133102417, -0.20974861085414886, -0.05954807624220848, -0.03110373392701149, -0.2640649080276489, -0.22753995656967163, -0.391681969165802, 0.9505016803741455, 0.9216858148574829, -0.44237715005874634, -0.18320801854133606, 0.04553429037332535, -0.23605331778526306, 0.054877642542123795, 0.036506425589323044, -0.0077611226588487625, -0.2420249879360199, -0.11981377005577087, -1.3438866138458252, -0.08011455833911896, -0.8289757370948792, 0.030470743775367737, 0.669235110282898, 0.2074408084154129, -0.5526891946792603, 0.21391832828521729, 0.3985849618911743, -0.08572369068861008, -0.373048335313797, 1.267487645149231, 0.11302930116653442, 0.09668758511543274, 0.31721431016921997, -0.9871854782104492, 0.07534582912921906, 0.37567830085754395, -0.3250553607940674, -0.0753612369298935, 0.5571362376213074, 0.04071444272994995, -0.3227033317089081, -0.28158190846443176, -0.011759137734770775, 0.42082783579826355, 0.1281355917453766, 0.0771486833691597, 1.0485469102859497, 0.007989279925823212, 0.0980788916349411, 0.36919429898262024, 0.23181575536727905, 0.15330249071121216, -0.10425390303134918, -0.2973763942718506, 0.20297475159168243, -0.332173228263855, 0.16991500556468964, -0.06916671991348267, 0.22064369916915894, 0.2765626311302185, 0.17366856336593628, -0.21183082461357117, -0.12104490399360657, 0.05677533149719238, 0.1580887734889984, -0.8696094751358032, -0.9921550154685974, 0.05078861117362976, -0.12481623142957687, 0.20027989149093628, 0.121432363986969, -0.6035903692245483, 0.2803957462310791, -0.6312337517738342, 0.7792948484420776, -0.6145893335342407, 0.29348069429397583, 0.4800751209259033, -0.2287859320640564, 0.2113138735294342, 0.021642684936523438, 0.019673556089401245, 0.16347306966781616, -0.2303941696882248, -0.6203301548957825, -0.268147349357605, -0.21995708346366882, -1.3173699378967285, -0.11877413094043732, 0.05460326373577118, -0.15760865807533264, -0.010701760649681091, 1.1326944828033447, 0.7855738401412964, -0.036709025502204895, 0.29716578125953674, 1.3537222146987915, -0.08898390829563141, 0.5405632257461548, -0.3180196285247803, 0.2274789661169052, -0.6978438496589661, -0.2514461874961853, 1.284043550491333, -0.004158433526754379, -0.9311143159866333, -0.2652672529220581, 0.5890899896621704, 0.3579031229019165, 0.25030362606048584, -0.22440961003303528, 0.9889123439788818, 0.054559946060180664, 0.2569625973701477, 0.08327111601829529, -2.0627799034118652, -0.2719429135322571, 0.4951505661010742, -0.030762627720832825, -0.15274576842784882, 0.10955046862363815, -0.15550479292869568, 2.261702537536621, 0.08674953877925873, -0.24702954292297363, 0.20763814449310303], \"xbins\": {\"end\": 12.294053077697754, \"size\": 0, \"start\": -6.079044818878174}}],\n",
       "                        {\"bargap\": 0.2, \"template\": {\"data\": {\"bar\": [{\"error_x\": {\"color\": \"#2a3f5f\"}, \"error_y\": {\"color\": \"#2a3f5f\"}, \"marker\": {\"line\": {\"color\": \"#E5ECF6\", \"width\": 0.5}}, \"type\": \"bar\"}], \"barpolar\": [{\"marker\": {\"line\": {\"color\": \"#E5ECF6\", \"width\": 0.5}}, \"type\": \"barpolar\"}], \"carpet\": [{\"aaxis\": {\"endlinecolor\": \"#2a3f5f\", \"gridcolor\": \"white\", \"linecolor\": \"white\", \"minorgridcolor\": \"white\", \"startlinecolor\": \"#2a3f5f\"}, \"baxis\": {\"endlinecolor\": \"#2a3f5f\", \"gridcolor\": \"white\", \"linecolor\": \"white\", \"minorgridcolor\": \"white\", \"startlinecolor\": \"#2a3f5f\"}, \"type\": \"carpet\"}], \"choropleth\": [{\"colorbar\": {\"outlinewidth\": 0, \"ticks\": \"\"}, \"type\": \"choropleth\"}], \"contour\": [{\"colorbar\": {\"outlinewidth\": 0, \"ticks\": \"\"}, \"colorscale\": [[0.0, \"#0d0887\"], [0.1111111111111111, \"#46039f\"], [0.2222222222222222, \"#7201a8\"], [0.3333333333333333, \"#9c179e\"], [0.4444444444444444, \"#bd3786\"], [0.5555555555555556, \"#d8576b\"], [0.6666666666666666, \"#ed7953\"], [0.7777777777777778, \"#fb9f3a\"], [0.8888888888888888, \"#fdca26\"], [1.0, \"#f0f921\"]], \"type\": \"contour\"}], \"contourcarpet\": [{\"colorbar\": {\"outlinewidth\": 0, \"ticks\": \"\"}, \"type\": \"contourcarpet\"}], \"heatmap\": [{\"colorbar\": {\"outlinewidth\": 0, \"ticks\": \"\"}, \"colorscale\": [[0.0, \"#0d0887\"], [0.1111111111111111, \"#46039f\"], [0.2222222222222222, \"#7201a8\"], [0.3333333333333333, \"#9c179e\"], [0.4444444444444444, \"#bd3786\"], [0.5555555555555556, \"#d8576b\"], [0.6666666666666666, \"#ed7953\"], [0.7777777777777778, \"#fb9f3a\"], [0.8888888888888888, \"#fdca26\"], [1.0, \"#f0f921\"]], \"type\": \"heatmap\"}], \"heatmapgl\": [{\"colorbar\": {\"outlinewidth\": 0, \"ticks\": \"\"}, \"colorscale\": [[0.0, \"#0d0887\"], [0.1111111111111111, \"#46039f\"], [0.2222222222222222, \"#7201a8\"], [0.3333333333333333, \"#9c179e\"], [0.4444444444444444, \"#bd3786\"], [0.5555555555555556, \"#d8576b\"], [0.6666666666666666, \"#ed7953\"], [0.7777777777777778, \"#fb9f3a\"], [0.8888888888888888, \"#fdca26\"], [1.0, \"#f0f921\"]], \"type\": \"heatmapgl\"}], \"histogram\": [{\"marker\": {\"colorbar\": {\"outlinewidth\": 0, \"ticks\": \"\"}}, \"type\": \"histogram\"}], \"histogram2d\": [{\"colorbar\": {\"outlinewidth\": 0, \"ticks\": \"\"}, \"colorscale\": [[0.0, \"#0d0887\"], [0.1111111111111111, \"#46039f\"], [0.2222222222222222, \"#7201a8\"], [0.3333333333333333, \"#9c179e\"], [0.4444444444444444, \"#bd3786\"], [0.5555555555555556, \"#d8576b\"], [0.6666666666666666, \"#ed7953\"], [0.7777777777777778, \"#fb9f3a\"], [0.8888888888888888, \"#fdca26\"], [1.0, \"#f0f921\"]], \"type\": \"histogram2d\"}], \"histogram2dcontour\": [{\"colorbar\": {\"outlinewidth\": 0, \"ticks\": \"\"}, \"colorscale\": [[0.0, \"#0d0887\"], [0.1111111111111111, \"#46039f\"], [0.2222222222222222, \"#7201a8\"], [0.3333333333333333, \"#9c179e\"], [0.4444444444444444, \"#bd3786\"], [0.5555555555555556, \"#d8576b\"], [0.6666666666666666, \"#ed7953\"], [0.7777777777777778, \"#fb9f3a\"], [0.8888888888888888, \"#fdca26\"], [1.0, \"#f0f921\"]], \"type\": \"histogram2dcontour\"}], \"mesh3d\": [{\"colorbar\": {\"outlinewidth\": 0, \"ticks\": \"\"}, \"type\": \"mesh3d\"}], \"parcoords\": [{\"line\": {\"colorbar\": {\"outlinewidth\": 0, \"ticks\": \"\"}}, \"type\": \"parcoords\"}], \"pie\": [{\"automargin\": true, \"type\": \"pie\"}], \"scatter\": [{\"marker\": {\"colorbar\": {\"outlinewidth\": 0, \"ticks\": \"\"}}, \"type\": \"scatter\"}], \"scatter3d\": [{\"line\": {\"colorbar\": {\"outlinewidth\": 0, \"ticks\": \"\"}}, \"marker\": {\"colorbar\": {\"outlinewidth\": 0, \"ticks\": \"\"}}, \"type\": \"scatter3d\"}], \"scattercarpet\": [{\"marker\": {\"colorbar\": {\"outlinewidth\": 0, \"ticks\": \"\"}}, \"type\": \"scattercarpet\"}], \"scattergeo\": [{\"marker\": {\"colorbar\": {\"outlinewidth\": 0, \"ticks\": \"\"}}, \"type\": \"scattergeo\"}], \"scattergl\": [{\"marker\": {\"colorbar\": {\"outlinewidth\": 0, \"ticks\": \"\"}}, \"type\": \"scattergl\"}], \"scattermapbox\": [{\"marker\": {\"colorbar\": {\"outlinewidth\": 0, \"ticks\": \"\"}}, \"type\": \"scattermapbox\"}], \"scatterpolar\": [{\"marker\": {\"colorbar\": {\"outlinewidth\": 0, \"ticks\": \"\"}}, \"type\": \"scatterpolar\"}], \"scatterpolargl\": [{\"marker\": {\"colorbar\": {\"outlinewidth\": 0, \"ticks\": \"\"}}, \"type\": \"scatterpolargl\"}], \"scatterternary\": [{\"marker\": {\"colorbar\": {\"outlinewidth\": 0, \"ticks\": \"\"}}, \"type\": \"scatterternary\"}], \"surface\": [{\"colorbar\": {\"outlinewidth\": 0, \"ticks\": \"\"}, \"colorscale\": [[0.0, \"#0d0887\"], [0.1111111111111111, \"#46039f\"], [0.2222222222222222, \"#7201a8\"], [0.3333333333333333, \"#9c179e\"], [0.4444444444444444, \"#bd3786\"], [0.5555555555555556, \"#d8576b\"], [0.6666666666666666, \"#ed7953\"], [0.7777777777777778, \"#fb9f3a\"], [0.8888888888888888, \"#fdca26\"], [1.0, \"#f0f921\"]], \"type\": \"surface\"}], \"table\": [{\"cells\": {\"fill\": {\"color\": \"#EBF0F8\"}, \"line\": {\"color\": \"white\"}}, \"header\": {\"fill\": {\"color\": \"#C8D4E3\"}, \"line\": {\"color\": \"white\"}}, \"type\": \"table\"}]}, \"layout\": {\"annotationdefaults\": {\"arrowcolor\": \"#2a3f5f\", \"arrowhead\": 0, \"arrowwidth\": 1}, \"coloraxis\": {\"colorbar\": {\"outlinewidth\": 0, \"ticks\": \"\"}}, \"colorscale\": {\"diverging\": [[0, \"#8e0152\"], [0.1, \"#c51b7d\"], [0.2, \"#de77ae\"], [0.3, \"#f1b6da\"], [0.4, \"#fde0ef\"], [0.5, \"#f7f7f7\"], [0.6, \"#e6f5d0\"], [0.7, \"#b8e186\"], [0.8, \"#7fbc41\"], [0.9, \"#4d9221\"], [1, \"#276419\"]], \"sequential\": [[0.0, \"#0d0887\"], [0.1111111111111111, \"#46039f\"], [0.2222222222222222, \"#7201a8\"], [0.3333333333333333, \"#9c179e\"], [0.4444444444444444, \"#bd3786\"], [0.5555555555555556, \"#d8576b\"], [0.6666666666666666, \"#ed7953\"], [0.7777777777777778, \"#fb9f3a\"], [0.8888888888888888, \"#fdca26\"], [1.0, \"#f0f921\"]], \"sequentialminus\": [[0.0, \"#0d0887\"], [0.1111111111111111, \"#46039f\"], [0.2222222222222222, \"#7201a8\"], [0.3333333333333333, \"#9c179e\"], [0.4444444444444444, \"#bd3786\"], [0.5555555555555556, \"#d8576b\"], [0.6666666666666666, \"#ed7953\"], [0.7777777777777778, \"#fb9f3a\"], [0.8888888888888888, \"#fdca26\"], [1.0, \"#f0f921\"]]}, \"colorway\": [\"#636efa\", \"#EF553B\", \"#00cc96\", \"#ab63fa\", \"#FFA15A\", \"#19d3f3\", \"#FF6692\", \"#B6E880\", \"#FF97FF\", \"#FECB52\"], \"font\": {\"color\": \"#2a3f5f\"}, \"geo\": {\"bgcolor\": \"white\", \"lakecolor\": \"white\", \"landcolor\": \"#E5ECF6\", \"showlakes\": true, \"showland\": true, \"subunitcolor\": \"white\"}, \"hoverlabel\": {\"align\": \"left\"}, \"hovermode\": \"closest\", \"mapbox\": {\"style\": \"light\"}, \"paper_bgcolor\": \"white\", \"plot_bgcolor\": \"#E5ECF6\", \"polar\": {\"angularaxis\": {\"gridcolor\": \"white\", \"linecolor\": \"white\", \"ticks\": \"\"}, \"bgcolor\": \"#E5ECF6\", \"radialaxis\": {\"gridcolor\": \"white\", \"linecolor\": \"white\", \"ticks\": \"\"}}, \"scene\": {\"xaxis\": {\"backgroundcolor\": \"#E5ECF6\", \"gridcolor\": \"white\", \"gridwidth\": 2, \"linecolor\": \"white\", \"showbackground\": true, \"ticks\": \"\", \"zerolinecolor\": \"white\"}, \"yaxis\": {\"backgroundcolor\": \"#E5ECF6\", \"gridcolor\": \"white\", \"gridwidth\": 2, \"linecolor\": \"white\", \"showbackground\": true, \"ticks\": \"\", \"zerolinecolor\": \"white\"}, \"zaxis\": {\"backgroundcolor\": \"#E5ECF6\", \"gridcolor\": \"white\", \"gridwidth\": 2, \"linecolor\": \"white\", \"showbackground\": true, \"ticks\": \"\", \"zerolinecolor\": \"white\"}}, \"shapedefaults\": {\"line\": {\"color\": \"#2a3f5f\"}}, \"ternary\": {\"aaxis\": {\"gridcolor\": \"white\", \"linecolor\": \"white\", \"ticks\": \"\"}, \"baxis\": {\"gridcolor\": \"white\", \"linecolor\": \"white\", \"ticks\": \"\"}, \"bgcolor\": \"#E5ECF6\", \"caxis\": {\"gridcolor\": \"white\", \"linecolor\": \"white\", \"ticks\": \"\"}}, \"title\": {\"x\": 0.05}, \"xaxis\": {\"automargin\": true, \"gridcolor\": \"white\", \"linecolor\": \"white\", \"ticks\": \"\", \"title\": {\"standoff\": 15}, \"zerolinecolor\": \"white\", \"zerolinewidth\": 2}, \"yaxis\": {\"automargin\": true, \"gridcolor\": \"white\", \"linecolor\": \"white\", \"ticks\": \"\", \"title\": {\"standoff\": 15}, \"zerolinecolor\": \"white\", \"zerolinewidth\": 2}}}, \"title\": {\"text\": \"Distribution of the output of layer bn1\"}, \"xaxis\": {\"title\": {\"text\": \"Output of Layer bn1\"}}, \"yaxis\": {\"title\": {\"text\": \"Count\"}}},\n",
       "                        {\"responsive\": true}\n",
       "                    ).then(function(){\n",
       "                            \n",
       "var gd = document.getElementById('618a9f95-17e2-4125-8c96-6acbdca407c6');\n",
       "var x = new MutationObserver(function (mutations, observer) {{\n",
       "        var display = window.getComputedStyle(gd).display;\n",
       "        if (!display || display === 'none') {{\n",
       "            console.log([gd, 'removed!']);\n",
       "            Plotly.purge(gd);\n",
       "            observer.disconnect();\n",
       "        }}\n",
       "}});\n",
       "\n",
       "// Listen for the removal of the full notebook cells\n",
       "var notebookContainer = gd.closest('#notebook-container');\n",
       "if (notebookContainer) {{\n",
       "    x.observe(notebookContainer, {childList: true});\n",
       "}}\n",
       "\n",
       "// Listen for the clearing of the current output cell\n",
       "var outputEl = gd.closest('.output');\n",
       "if (outputEl) {{\n",
       "    x.observe(outputEl, {childList: true});\n",
       "}}\n",
       "\n",
       "                        })\n",
       "                };\n",
       "                });\n",
       "            </script>\n",
       "        </div>"
      ]
     },
     "metadata": {},
     "output_type": "display_data"
    },
    {
     "data": {
      "application/vnd.plotly.v1+json": {
       "config": {
        "linkText": "Export to plot.ly",
        "plotlyServerURL": "https://plot.ly",
        "showLink": false
       },
       "data": [
        {
         "marker": {
          "color": "#db0000"
         },
         "name": "Layer Output",
         "type": "histogram",
         "x": [
          -0.4209347665309906,
          0.5043514966964722,
          0.519411563873291,
          -0.3425424098968506,
          -0.918102502822876,
          5.542578220367432,
          -1.6198580265045166,
          -0.25831058621406555,
          -0.7974129915237427,
          0.6210936903953552,
          0.3729093670845032,
          -0.3787442445755005,
          -0.31442365050315857,
          0.20889520645141602,
          -0.2792181670665741,
          -1.3916645050048828,
          4.349884033203125,
          0.20709317922592163,
          3.1608567237854004,
          0.07322180271148682,
          -1.0899235010147095,
          0.4756821393966675,
          -1.325624704360962,
          5.202632904052734,
          -0.4144633710384369,
          -1.3879175186157227,
          -0.9781927466392517,
          0.44779640436172485,
          3.168199062347412,
          -0.7652681469917297,
          -0.7710433006286621,
          0.4529542326927185,
          0.5999364852905273,
          -0.1286255121231079,
          -0.5608294606208801,
          0.9732968807220459,
          -0.45494940876960754,
          0.13090533018112183,
          0.013277947902679443,
          1.7320046424865723,
          3.7479310035705566,
          2.287823438644409,
          0.48899775743484497,
          -1.533881425857544,
          -0.7860996723175049,
          -2.267836809158325,
          1.9355788230895996,
          0.005842328071594238,
          -0.17387130856513977,
          -0.4154394268989563,
          -0.7190846800804138,
          0.4293321967124939,
          -0.32352209091186523,
          -0.4554431438446045,
          0.7212950587272644,
          -0.3587135076522827,
          -0.47065576910972595,
          0.05606198310852051,
          0.8727513551712036,
          1.4273734092712402,
          0.17533612251281738,
          -0.18918687105178833,
          -1.0515191555023193,
          1.5455039739608765,
          -1.6997041702270508,
          1.5403575897216797,
          0.6245196461677551,
          4.275568008422852,
          2.5918428897857666,
          0.40957239270210266,
          -0.5125332474708557,
          -1.2113522291183472,
          -0.24309059977531433,
          -1.3608171939849854,
          0.5048039555549622,
          0.676202118396759,
          1.3740694522857666,
          -0.6359841227531433,
          -1.162585735321045,
          -2.09999418258667,
          -0.884951651096344,
          2.2936649322509766,
          4.063510894775391,
          0.05606037378311157,
          0.23718589544296265,
          0.9586660861968994,
          5.278996467590332,
          0.20181170105934143,
          -0.04330933094024658,
          -0.6504820585250854,
          1.1613476276397705,
          0.9787465333938599,
          -0.10890895128250122,
          -0.29236316680908203,
          -0.8711247444152832,
          -1.8008989095687866,
          -1.4523707628250122,
          -0.008444935083389282,
          0.12355309724807739,
          -0.40895381569862366,
          -0.16325318813323975,
          -0.15615856647491455,
          2.2793288230895996,
          -0.23024773597717285,
          1.6202101707458496,
          -0.3546644449234009,
          -0.25863194465637207,
          3.082435131072998,
          -0.2650434970855713,
          -1.032423496246338,
          -0.13589522242546082,
          0.21099233627319336,
          0.4199138879776001,
          0.2651529312133789,
          0.864585280418396,
          -0.4589310884475708,
          -1.0637515783309937,
          -0.4187908172607422,
          0.6149252653121948,
          -0.504801869392395,
          -0.10997647047042847,
          0.1225164532661438,
          -0.24125975370407104,
          0.562108039855957,
          0.28700685501098633,
          -1.6705255508422852,
          -0.538163423538208,
          -0.025185823440551758,
          -0.9192741513252258,
          -0.644392728805542,
          2.0543689727783203,
          2.0964276790618896,
          -0.8709514141082764,
          0.5249406099319458,
          -0.1982857584953308,
          2.59521746635437,
          -0.22337298095226288,
          -0.5254666805267334,
          2.074326515197754,
          -0.9579091668128967,
          -0.2721400260925293,
          -0.906958281993866,
          -1.8802807331085205,
          -1.2339720726013184,
          3.2479348182678223,
          0.20708918571472168,
          -1.9891228675842285,
          -0.28226351737976074,
          -0.5593637824058533,
          0.9076718091964722,
          0.042768657207489014,
          2.009169101715088,
          -0.0428624302148819,
          1.7713463306427002,
          -0.561714768409729,
          1.491100549697876,
          0.021246790885925293,
          0.26321566104888916,
          -0.793072521686554,
          1.2093580961227417,
          -0.5154341459274292,
          2.446000099182129,
          -0.33564817905426025,
          -0.27502572536468506,
          1.6501926183700562,
          0.3197793960571289,
          -0.3046117424964905,
          0.12092441320419312,
          -1.0436850786209106,
          -1.2554043531417847,
          -0.0013874173164367676,
          -0.0680537223815918,
          0.7075201272964478,
          -0.32209694385528564,
          -0.038364410400390625,
          -1.3059256076812744,
          -1.1478720903396606,
          0.5335885286331177,
          -0.5011078715324402,
          -1.5283955335617065,
          -1.2301902770996094,
          0.05445683002471924,
          0.777808666229248,
          -1.184402585029602,
          -0.3084368407726288,
          1.0933077335357666,
          -0.7294979095458984,
          -1.0109832286834717,
          1.1595263481140137,
          0.6162024736404419,
          0.06418874859809875,
          2.0128839015960693,
          -0.3822031319141388,
          2.8626484870910645,
          -1.110848069190979,
          -0.397885799407959,
          -0.332389771938324,
          -0.16482162475585938,
          -0.24260547757148743,
          -1.3385156393051147,
          0.46489477157592773,
          2.266296148300171,
          0.017036139965057373,
          0.8847665786743164,
          -1.897316813468933,
          -0.789393424987793,
          0.8798729777336121,
          -1.4181021451950073,
          0.4628310203552246,
          -0.468508780002594,
          0.6643009185791016,
          -0.3563969135284424,
          0.03976273536682129,
          0.30619335174560547,
          -0.12983617186546326,
          -1.334632396697998,
          2.2415318489074707,
          0.08362078666687012,
          1.4187180995941162,
          3.8301069736480713,
          0.9675436019897461,
          0.7684171199798584,
          -1.647923231124878,
          4.7636332511901855,
          1.4184242486953735,
          0.8554649949073792,
          -0.6072791814804077,
          -0.6709686517715454,
          -0.21513044834136963,
          -0.8892362117767334,
          0.2765650153160095,
          -0.8805395364761353,
          -1.723473072052002,
          -1.5392303466796875,
          1.5441492795944214,
          0.1755615472793579,
          -0.3663475513458252,
          -0.47089046239852905,
          1.49248468875885,
          -0.856535792350769,
          -1.1760008335113525,
          -0.5167981386184692,
          -0.3865642249584198,
          -1.2139084339141846,
          -1.072208285331726,
          0.48882806301116943,
          0.8091731667518616,
          0.36201000213623047,
          -0.02659893035888672,
          -0.15166005492210388,
          0.12247949838638306,
          -0.9611559510231018,
          -1.0699193477630615,
          -0.5847551822662354,
          -1.7954156398773193,
          -0.3867545425891876,
          2.23136043548584,
          -0.7455605864524841,
          -0.6873355507850647,
          -0.5151305198669434,
          0.8217448592185974,
          2.877624034881592,
          -0.14009976387023926,
          -0.4156070947647095,
          -1.4245964288711548,
          -0.4376453757286072,
          1.362353801727295,
          -0.6843518018722534,
          -0.0431651771068573,
          -1.1624517440795898,
          -0.4991385340690613,
          -0.01785615086555481,
          -1.1513800621032715,
          -0.09084883332252502,
          -0.016364574432373047,
          -0.6431369781494141,
          -0.14053964614868164,
          0.005589723587036133,
          5.273828983306885,
          -1.8939701318740845,
          1.109682559967041,
          -0.5041586756706238,
          0.6194291114807129,
          5.825900554656982,
          3.7966368198394775,
          0.016193091869354248,
          -1.2405065298080444,
          0.20303690433502197,
          3.5687096118927,
          -0.7041444778442383,
          3.5069031715393066,
          1.156906247138977,
          1.3670262098312378,
          -1.2841665744781494,
          -0.15338727831840515,
          0.030128955841064453,
          -0.4943600296974182,
          -1.2461600303649902,
          0.9442424774169922,
          -0.4890095591545105
         ],
         "xbins": {
          "end": 5.825900554656982,
          "size": 0,
          "start": -2.267836809158325
         }
        }
       ],
       "layout": {
        "bargap": 0.2,
        "template": {
         "data": {
          "bar": [
           {
            "error_x": {
             "color": "#2a3f5f"
            },
            "error_y": {
             "color": "#2a3f5f"
            },
            "marker": {
             "line": {
              "color": "#E5ECF6",
              "width": 0.5
             }
            },
            "type": "bar"
           }
          ],
          "barpolar": [
           {
            "marker": {
             "line": {
              "color": "#E5ECF6",
              "width": 0.5
             }
            },
            "type": "barpolar"
           }
          ],
          "carpet": [
           {
            "aaxis": {
             "endlinecolor": "#2a3f5f",
             "gridcolor": "white",
             "linecolor": "white",
             "minorgridcolor": "white",
             "startlinecolor": "#2a3f5f"
            },
            "baxis": {
             "endlinecolor": "#2a3f5f",
             "gridcolor": "white",
             "linecolor": "white",
             "minorgridcolor": "white",
             "startlinecolor": "#2a3f5f"
            },
            "type": "carpet"
           }
          ],
          "choropleth": [
           {
            "colorbar": {
             "outlinewidth": 0,
             "ticks": ""
            },
            "type": "choropleth"
           }
          ],
          "contour": [
           {
            "colorbar": {
             "outlinewidth": 0,
             "ticks": ""
            },
            "colorscale": [
             [
              0,
              "#0d0887"
             ],
             [
              0.1111111111111111,
              "#46039f"
             ],
             [
              0.2222222222222222,
              "#7201a8"
             ],
             [
              0.3333333333333333,
              "#9c179e"
             ],
             [
              0.4444444444444444,
              "#bd3786"
             ],
             [
              0.5555555555555556,
              "#d8576b"
             ],
             [
              0.6666666666666666,
              "#ed7953"
             ],
             [
              0.7777777777777778,
              "#fb9f3a"
             ],
             [
              0.8888888888888888,
              "#fdca26"
             ],
             [
              1,
              "#f0f921"
             ]
            ],
            "type": "contour"
           }
          ],
          "contourcarpet": [
           {
            "colorbar": {
             "outlinewidth": 0,
             "ticks": ""
            },
            "type": "contourcarpet"
           }
          ],
          "heatmap": [
           {
            "colorbar": {
             "outlinewidth": 0,
             "ticks": ""
            },
            "colorscale": [
             [
              0,
              "#0d0887"
             ],
             [
              0.1111111111111111,
              "#46039f"
             ],
             [
              0.2222222222222222,
              "#7201a8"
             ],
             [
              0.3333333333333333,
              "#9c179e"
             ],
             [
              0.4444444444444444,
              "#bd3786"
             ],
             [
              0.5555555555555556,
              "#d8576b"
             ],
             [
              0.6666666666666666,
              "#ed7953"
             ],
             [
              0.7777777777777778,
              "#fb9f3a"
             ],
             [
              0.8888888888888888,
              "#fdca26"
             ],
             [
              1,
              "#f0f921"
             ]
            ],
            "type": "heatmap"
           }
          ],
          "heatmapgl": [
           {
            "colorbar": {
             "outlinewidth": 0,
             "ticks": ""
            },
            "colorscale": [
             [
              0,
              "#0d0887"
             ],
             [
              0.1111111111111111,
              "#46039f"
             ],
             [
              0.2222222222222222,
              "#7201a8"
             ],
             [
              0.3333333333333333,
              "#9c179e"
             ],
             [
              0.4444444444444444,
              "#bd3786"
             ],
             [
              0.5555555555555556,
              "#d8576b"
             ],
             [
              0.6666666666666666,
              "#ed7953"
             ],
             [
              0.7777777777777778,
              "#fb9f3a"
             ],
             [
              0.8888888888888888,
              "#fdca26"
             ],
             [
              1,
              "#f0f921"
             ]
            ],
            "type": "heatmapgl"
           }
          ],
          "histogram": [
           {
            "marker": {
             "colorbar": {
              "outlinewidth": 0,
              "ticks": ""
             }
            },
            "type": "histogram"
           }
          ],
          "histogram2d": [
           {
            "colorbar": {
             "outlinewidth": 0,
             "ticks": ""
            },
            "colorscale": [
             [
              0,
              "#0d0887"
             ],
             [
              0.1111111111111111,
              "#46039f"
             ],
             [
              0.2222222222222222,
              "#7201a8"
             ],
             [
              0.3333333333333333,
              "#9c179e"
             ],
             [
              0.4444444444444444,
              "#bd3786"
             ],
             [
              0.5555555555555556,
              "#d8576b"
             ],
             [
              0.6666666666666666,
              "#ed7953"
             ],
             [
              0.7777777777777778,
              "#fb9f3a"
             ],
             [
              0.8888888888888888,
              "#fdca26"
             ],
             [
              1,
              "#f0f921"
             ]
            ],
            "type": "histogram2d"
           }
          ],
          "histogram2dcontour": [
           {
            "colorbar": {
             "outlinewidth": 0,
             "ticks": ""
            },
            "colorscale": [
             [
              0,
              "#0d0887"
             ],
             [
              0.1111111111111111,
              "#46039f"
             ],
             [
              0.2222222222222222,
              "#7201a8"
             ],
             [
              0.3333333333333333,
              "#9c179e"
             ],
             [
              0.4444444444444444,
              "#bd3786"
             ],
             [
              0.5555555555555556,
              "#d8576b"
             ],
             [
              0.6666666666666666,
              "#ed7953"
             ],
             [
              0.7777777777777778,
              "#fb9f3a"
             ],
             [
              0.8888888888888888,
              "#fdca26"
             ],
             [
              1,
              "#f0f921"
             ]
            ],
            "type": "histogram2dcontour"
           }
          ],
          "mesh3d": [
           {
            "colorbar": {
             "outlinewidth": 0,
             "ticks": ""
            },
            "type": "mesh3d"
           }
          ],
          "parcoords": [
           {
            "line": {
             "colorbar": {
              "outlinewidth": 0,
              "ticks": ""
             }
            },
            "type": "parcoords"
           }
          ],
          "pie": [
           {
            "automargin": true,
            "type": "pie"
           }
          ],
          "scatter": [
           {
            "marker": {
             "colorbar": {
              "outlinewidth": 0,
              "ticks": ""
             }
            },
            "type": "scatter"
           }
          ],
          "scatter3d": [
           {
            "line": {
             "colorbar": {
              "outlinewidth": 0,
              "ticks": ""
             }
            },
            "marker": {
             "colorbar": {
              "outlinewidth": 0,
              "ticks": ""
             }
            },
            "type": "scatter3d"
           }
          ],
          "scattercarpet": [
           {
            "marker": {
             "colorbar": {
              "outlinewidth": 0,
              "ticks": ""
             }
            },
            "type": "scattercarpet"
           }
          ],
          "scattergeo": [
           {
            "marker": {
             "colorbar": {
              "outlinewidth": 0,
              "ticks": ""
             }
            },
            "type": "scattergeo"
           }
          ],
          "scattergl": [
           {
            "marker": {
             "colorbar": {
              "outlinewidth": 0,
              "ticks": ""
             }
            },
            "type": "scattergl"
           }
          ],
          "scattermapbox": [
           {
            "marker": {
             "colorbar": {
              "outlinewidth": 0,
              "ticks": ""
             }
            },
            "type": "scattermapbox"
           }
          ],
          "scatterpolar": [
           {
            "marker": {
             "colorbar": {
              "outlinewidth": 0,
              "ticks": ""
             }
            },
            "type": "scatterpolar"
           }
          ],
          "scatterpolargl": [
           {
            "marker": {
             "colorbar": {
              "outlinewidth": 0,
              "ticks": ""
             }
            },
            "type": "scatterpolargl"
           }
          ],
          "scatterternary": [
           {
            "marker": {
             "colorbar": {
              "outlinewidth": 0,
              "ticks": ""
             }
            },
            "type": "scatterternary"
           }
          ],
          "surface": [
           {
            "colorbar": {
             "outlinewidth": 0,
             "ticks": ""
            },
            "colorscale": [
             [
              0,
              "#0d0887"
             ],
             [
              0.1111111111111111,
              "#46039f"
             ],
             [
              0.2222222222222222,
              "#7201a8"
             ],
             [
              0.3333333333333333,
              "#9c179e"
             ],
             [
              0.4444444444444444,
              "#bd3786"
             ],
             [
              0.5555555555555556,
              "#d8576b"
             ],
             [
              0.6666666666666666,
              "#ed7953"
             ],
             [
              0.7777777777777778,
              "#fb9f3a"
             ],
             [
              0.8888888888888888,
              "#fdca26"
             ],
             [
              1,
              "#f0f921"
             ]
            ],
            "type": "surface"
           }
          ],
          "table": [
           {
            "cells": {
             "fill": {
              "color": "#EBF0F8"
             },
             "line": {
              "color": "white"
             }
            },
            "header": {
             "fill": {
              "color": "#C8D4E3"
             },
             "line": {
              "color": "white"
             }
            },
            "type": "table"
           }
          ]
         },
         "layout": {
          "annotationdefaults": {
           "arrowcolor": "#2a3f5f",
           "arrowhead": 0,
           "arrowwidth": 1
          },
          "coloraxis": {
           "colorbar": {
            "outlinewidth": 0,
            "ticks": ""
           }
          },
          "colorscale": {
           "diverging": [
            [
             0,
             "#8e0152"
            ],
            [
             0.1,
             "#c51b7d"
            ],
            [
             0.2,
             "#de77ae"
            ],
            [
             0.3,
             "#f1b6da"
            ],
            [
             0.4,
             "#fde0ef"
            ],
            [
             0.5,
             "#f7f7f7"
            ],
            [
             0.6,
             "#e6f5d0"
            ],
            [
             0.7,
             "#b8e186"
            ],
            [
             0.8,
             "#7fbc41"
            ],
            [
             0.9,
             "#4d9221"
            ],
            [
             1,
             "#276419"
            ]
           ],
           "sequential": [
            [
             0,
             "#0d0887"
            ],
            [
             0.1111111111111111,
             "#46039f"
            ],
            [
             0.2222222222222222,
             "#7201a8"
            ],
            [
             0.3333333333333333,
             "#9c179e"
            ],
            [
             0.4444444444444444,
             "#bd3786"
            ],
            [
             0.5555555555555556,
             "#d8576b"
            ],
            [
             0.6666666666666666,
             "#ed7953"
            ],
            [
             0.7777777777777778,
             "#fb9f3a"
            ],
            [
             0.8888888888888888,
             "#fdca26"
            ],
            [
             1,
             "#f0f921"
            ]
           ],
           "sequentialminus": [
            [
             0,
             "#0d0887"
            ],
            [
             0.1111111111111111,
             "#46039f"
            ],
            [
             0.2222222222222222,
             "#7201a8"
            ],
            [
             0.3333333333333333,
             "#9c179e"
            ],
            [
             0.4444444444444444,
             "#bd3786"
            ],
            [
             0.5555555555555556,
             "#d8576b"
            ],
            [
             0.6666666666666666,
             "#ed7953"
            ],
            [
             0.7777777777777778,
             "#fb9f3a"
            ],
            [
             0.8888888888888888,
             "#fdca26"
            ],
            [
             1,
             "#f0f921"
            ]
           ]
          },
          "colorway": [
           "#636efa",
           "#EF553B",
           "#00cc96",
           "#ab63fa",
           "#FFA15A",
           "#19d3f3",
           "#FF6692",
           "#B6E880",
           "#FF97FF",
           "#FECB52"
          ],
          "font": {
           "color": "#2a3f5f"
          },
          "geo": {
           "bgcolor": "white",
           "lakecolor": "white",
           "landcolor": "#E5ECF6",
           "showlakes": true,
           "showland": true,
           "subunitcolor": "white"
          },
          "hoverlabel": {
           "align": "left"
          },
          "hovermode": "closest",
          "mapbox": {
           "style": "light"
          },
          "paper_bgcolor": "white",
          "plot_bgcolor": "#E5ECF6",
          "polar": {
           "angularaxis": {
            "gridcolor": "white",
            "linecolor": "white",
            "ticks": ""
           },
           "bgcolor": "#E5ECF6",
           "radialaxis": {
            "gridcolor": "white",
            "linecolor": "white",
            "ticks": ""
           }
          },
          "scene": {
           "xaxis": {
            "backgroundcolor": "#E5ECF6",
            "gridcolor": "white",
            "gridwidth": 2,
            "linecolor": "white",
            "showbackground": true,
            "ticks": "",
            "zerolinecolor": "white"
           },
           "yaxis": {
            "backgroundcolor": "#E5ECF6",
            "gridcolor": "white",
            "gridwidth": 2,
            "linecolor": "white",
            "showbackground": true,
            "ticks": "",
            "zerolinecolor": "white"
           },
           "zaxis": {
            "backgroundcolor": "#E5ECF6",
            "gridcolor": "white",
            "gridwidth": 2,
            "linecolor": "white",
            "showbackground": true,
            "ticks": "",
            "zerolinecolor": "white"
           }
          },
          "shapedefaults": {
           "line": {
            "color": "#2a3f5f"
           }
          },
          "ternary": {
           "aaxis": {
            "gridcolor": "white",
            "linecolor": "white",
            "ticks": ""
           },
           "baxis": {
            "gridcolor": "white",
            "linecolor": "white",
            "ticks": ""
           },
           "bgcolor": "#E5ECF6",
           "caxis": {
            "gridcolor": "white",
            "linecolor": "white",
            "ticks": ""
           }
          },
          "title": {
           "x": 0.05
          },
          "xaxis": {
           "automargin": true,
           "gridcolor": "white",
           "linecolor": "white",
           "ticks": "",
           "title": {
            "standoff": 15
           },
           "zerolinecolor": "white",
           "zerolinewidth": 2
          },
          "yaxis": {
           "automargin": true,
           "gridcolor": "white",
           "linecolor": "white",
           "ticks": "",
           "title": {
            "standoff": 15
           },
           "zerolinecolor": "white",
           "zerolinewidth": 2
          }
         }
        },
        "title": {
         "text": "Distribution of the output of layer bn2"
        },
        "xaxis": {
         "title": {
          "text": "Output of Layer bn2"
         }
        },
        "yaxis": {
         "title": {
          "text": "Count"
         }
        }
       }
      },
      "text/html": [
       "<div>\n",
       "        \n",
       "        \n",
       "            <div id=\"a1ad3400-4205-4dcd-81d3-83b699bd7176\" class=\"plotly-graph-div\" style=\"height:525px; width:100%;\"></div>\n",
       "            <script type=\"text/javascript\">\n",
       "                require([\"plotly\"], function(Plotly) {\n",
       "                    window.PLOTLYENV=window.PLOTLYENV || {};\n",
       "                    \n",
       "                if (document.getElementById(\"a1ad3400-4205-4dcd-81d3-83b699bd7176\")) {\n",
       "                    Plotly.newPlot(\n",
       "                        'a1ad3400-4205-4dcd-81d3-83b699bd7176',\n",
       "                        [{\"marker\": {\"color\": \"#db0000\"}, \"name\": \"Layer Output\", \"type\": \"histogram\", \"x\": [-0.4209347665309906, 0.5043514966964722, 0.519411563873291, -0.3425424098968506, -0.918102502822876, 5.542578220367432, -1.6198580265045166, -0.25831058621406555, -0.7974129915237427, 0.6210936903953552, 0.3729093670845032, -0.3787442445755005, -0.31442365050315857, 0.20889520645141602, -0.2792181670665741, -1.3916645050048828, 4.349884033203125, 0.20709317922592163, 3.1608567237854004, 0.07322180271148682, -1.0899235010147095, 0.4756821393966675, -1.325624704360962, 5.202632904052734, -0.4144633710384369, -1.3879175186157227, -0.9781927466392517, 0.44779640436172485, 3.168199062347412, -0.7652681469917297, -0.7710433006286621, 0.4529542326927185, 0.5999364852905273, -0.1286255121231079, -0.5608294606208801, 0.9732968807220459, -0.45494940876960754, 0.13090533018112183, 0.013277947902679443, 1.7320046424865723, 3.7479310035705566, 2.287823438644409, 0.48899775743484497, -1.533881425857544, -0.7860996723175049, -2.267836809158325, 1.9355788230895996, 0.005842328071594238, -0.17387130856513977, -0.4154394268989563, -0.7190846800804138, 0.4293321967124939, -0.32352209091186523, -0.4554431438446045, 0.7212950587272644, -0.3587135076522827, -0.47065576910972595, 0.05606198310852051, 0.8727513551712036, 1.4273734092712402, 0.17533612251281738, -0.18918687105178833, -1.0515191555023193, 1.5455039739608765, -1.6997041702270508, 1.5403575897216797, 0.6245196461677551, 4.275568008422852, 2.5918428897857666, 0.40957239270210266, -0.5125332474708557, -1.2113522291183472, -0.24309059977531433, -1.3608171939849854, 0.5048039555549622, 0.676202118396759, 1.3740694522857666, -0.6359841227531433, -1.162585735321045, -2.09999418258667, -0.884951651096344, 2.2936649322509766, 4.063510894775391, 0.05606037378311157, 0.23718589544296265, 0.9586660861968994, 5.278996467590332, 0.20181170105934143, -0.04330933094024658, -0.6504820585250854, 1.1613476276397705, 0.9787465333938599, -0.10890895128250122, -0.29236316680908203, -0.8711247444152832, -1.8008989095687866, -1.4523707628250122, -0.008444935083389282, 0.12355309724807739, -0.40895381569862366, -0.16325318813323975, -0.15615856647491455, 2.2793288230895996, -0.23024773597717285, 1.6202101707458496, -0.3546644449234009, -0.25863194465637207, 3.082435131072998, -0.2650434970855713, -1.032423496246338, -0.13589522242546082, 0.21099233627319336, 0.4199138879776001, 0.2651529312133789, 0.864585280418396, -0.4589310884475708, -1.0637515783309937, -0.4187908172607422, 0.6149252653121948, -0.504801869392395, -0.10997647047042847, 0.1225164532661438, -0.24125975370407104, 0.562108039855957, 0.28700685501098633, -1.6705255508422852, -0.538163423538208, -0.025185823440551758, -0.9192741513252258, -0.644392728805542, 2.0543689727783203, 2.0964276790618896, -0.8709514141082764, 0.5249406099319458, -0.1982857584953308, 2.59521746635437, -0.22337298095226288, -0.5254666805267334, 2.074326515197754, -0.9579091668128967, -0.2721400260925293, -0.906958281993866, -1.8802807331085205, -1.2339720726013184, 3.2479348182678223, 0.20708918571472168, -1.9891228675842285, -0.28226351737976074, -0.5593637824058533, 0.9076718091964722, 0.042768657207489014, 2.009169101715088, -0.0428624302148819, 1.7713463306427002, -0.561714768409729, 1.491100549697876, 0.021246790885925293, 0.26321566104888916, -0.793072521686554, 1.2093580961227417, -0.5154341459274292, 2.446000099182129, -0.33564817905426025, -0.27502572536468506, 1.6501926183700562, 0.3197793960571289, -0.3046117424964905, 0.12092441320419312, -1.0436850786209106, -1.2554043531417847, -0.0013874173164367676, -0.0680537223815918, 0.7075201272964478, -0.32209694385528564, -0.038364410400390625, -1.3059256076812744, -1.1478720903396606, 0.5335885286331177, -0.5011078715324402, -1.5283955335617065, -1.2301902770996094, 0.05445683002471924, 0.777808666229248, -1.184402585029602, -0.3084368407726288, 1.0933077335357666, -0.7294979095458984, -1.0109832286834717, 1.1595263481140137, 0.6162024736404419, 0.06418874859809875, 2.0128839015960693, -0.3822031319141388, 2.8626484870910645, -1.110848069190979, -0.397885799407959, -0.332389771938324, -0.16482162475585938, -0.24260547757148743, -1.3385156393051147, 0.46489477157592773, 2.266296148300171, 0.017036139965057373, 0.8847665786743164, -1.897316813468933, -0.789393424987793, 0.8798729777336121, -1.4181021451950073, 0.4628310203552246, -0.468508780002594, 0.6643009185791016, -0.3563969135284424, 0.03976273536682129, 0.30619335174560547, -0.12983617186546326, -1.334632396697998, 2.2415318489074707, 0.08362078666687012, 1.4187180995941162, 3.8301069736480713, 0.9675436019897461, 0.7684171199798584, -1.647923231124878, 4.7636332511901855, 1.4184242486953735, 0.8554649949073792, -0.6072791814804077, -0.6709686517715454, -0.21513044834136963, -0.8892362117767334, 0.2765650153160095, -0.8805395364761353, -1.723473072052002, -1.5392303466796875, 1.5441492795944214, 0.1755615472793579, -0.3663475513458252, -0.47089046239852905, 1.49248468875885, -0.856535792350769, -1.1760008335113525, -0.5167981386184692, -0.3865642249584198, -1.2139084339141846, -1.072208285331726, 0.48882806301116943, 0.8091731667518616, 0.36201000213623047, -0.02659893035888672, -0.15166005492210388, 0.12247949838638306, -0.9611559510231018, -1.0699193477630615, -0.5847551822662354, -1.7954156398773193, -0.3867545425891876, 2.23136043548584, -0.7455605864524841, -0.6873355507850647, -0.5151305198669434, 0.8217448592185974, 2.877624034881592, -0.14009976387023926, -0.4156070947647095, -1.4245964288711548, -0.4376453757286072, 1.362353801727295, -0.6843518018722534, -0.0431651771068573, -1.1624517440795898, -0.4991385340690613, -0.01785615086555481, -1.1513800621032715, -0.09084883332252502, -0.016364574432373047, -0.6431369781494141, -0.14053964614868164, 0.005589723587036133, 5.273828983306885, -1.8939701318740845, 1.109682559967041, -0.5041586756706238, 0.6194291114807129, 5.825900554656982, 3.7966368198394775, 0.016193091869354248, -1.2405065298080444, 0.20303690433502197, 3.5687096118927, -0.7041444778442383, 3.5069031715393066, 1.156906247138977, 1.3670262098312378, -1.2841665744781494, -0.15338727831840515, 0.030128955841064453, -0.4943600296974182, -1.2461600303649902, 0.9442424774169922, -0.4890095591545105], \"xbins\": {\"end\": 5.825900554656982, \"size\": 0, \"start\": -2.267836809158325}}],\n",
       "                        {\"bargap\": 0.2, \"template\": {\"data\": {\"bar\": [{\"error_x\": {\"color\": \"#2a3f5f\"}, \"error_y\": {\"color\": \"#2a3f5f\"}, \"marker\": {\"line\": {\"color\": \"#E5ECF6\", \"width\": 0.5}}, \"type\": \"bar\"}], \"barpolar\": [{\"marker\": {\"line\": {\"color\": \"#E5ECF6\", \"width\": 0.5}}, \"type\": \"barpolar\"}], \"carpet\": [{\"aaxis\": {\"endlinecolor\": \"#2a3f5f\", \"gridcolor\": \"white\", \"linecolor\": \"white\", \"minorgridcolor\": \"white\", \"startlinecolor\": \"#2a3f5f\"}, \"baxis\": {\"endlinecolor\": \"#2a3f5f\", \"gridcolor\": \"white\", \"linecolor\": \"white\", \"minorgridcolor\": \"white\", \"startlinecolor\": \"#2a3f5f\"}, \"type\": \"carpet\"}], \"choropleth\": [{\"colorbar\": {\"outlinewidth\": 0, \"ticks\": \"\"}, \"type\": \"choropleth\"}], \"contour\": [{\"colorbar\": {\"outlinewidth\": 0, \"ticks\": \"\"}, \"colorscale\": [[0.0, \"#0d0887\"], [0.1111111111111111, \"#46039f\"], [0.2222222222222222, \"#7201a8\"], [0.3333333333333333, \"#9c179e\"], [0.4444444444444444, \"#bd3786\"], [0.5555555555555556, \"#d8576b\"], [0.6666666666666666, \"#ed7953\"], [0.7777777777777778, \"#fb9f3a\"], [0.8888888888888888, \"#fdca26\"], [1.0, \"#f0f921\"]], \"type\": \"contour\"}], \"contourcarpet\": [{\"colorbar\": {\"outlinewidth\": 0, \"ticks\": \"\"}, \"type\": \"contourcarpet\"}], \"heatmap\": [{\"colorbar\": {\"outlinewidth\": 0, \"ticks\": \"\"}, \"colorscale\": [[0.0, \"#0d0887\"], [0.1111111111111111, \"#46039f\"], [0.2222222222222222, \"#7201a8\"], [0.3333333333333333, \"#9c179e\"], [0.4444444444444444, \"#bd3786\"], [0.5555555555555556, \"#d8576b\"], [0.6666666666666666, \"#ed7953\"], [0.7777777777777778, \"#fb9f3a\"], [0.8888888888888888, \"#fdca26\"], [1.0, \"#f0f921\"]], \"type\": \"heatmap\"}], \"heatmapgl\": [{\"colorbar\": {\"outlinewidth\": 0, \"ticks\": \"\"}, \"colorscale\": [[0.0, \"#0d0887\"], [0.1111111111111111, \"#46039f\"], [0.2222222222222222, \"#7201a8\"], [0.3333333333333333, \"#9c179e\"], [0.4444444444444444, \"#bd3786\"], [0.5555555555555556, \"#d8576b\"], [0.6666666666666666, \"#ed7953\"], [0.7777777777777778, \"#fb9f3a\"], [0.8888888888888888, \"#fdca26\"], [1.0, \"#f0f921\"]], \"type\": \"heatmapgl\"}], \"histogram\": [{\"marker\": {\"colorbar\": {\"outlinewidth\": 0, \"ticks\": \"\"}}, \"type\": \"histogram\"}], \"histogram2d\": [{\"colorbar\": {\"outlinewidth\": 0, \"ticks\": \"\"}, \"colorscale\": [[0.0, \"#0d0887\"], [0.1111111111111111, \"#46039f\"], [0.2222222222222222, \"#7201a8\"], [0.3333333333333333, \"#9c179e\"], [0.4444444444444444, \"#bd3786\"], [0.5555555555555556, \"#d8576b\"], [0.6666666666666666, \"#ed7953\"], [0.7777777777777778, \"#fb9f3a\"], [0.8888888888888888, \"#fdca26\"], [1.0, \"#f0f921\"]], \"type\": \"histogram2d\"}], \"histogram2dcontour\": [{\"colorbar\": {\"outlinewidth\": 0, \"ticks\": \"\"}, \"colorscale\": [[0.0, \"#0d0887\"], [0.1111111111111111, \"#46039f\"], [0.2222222222222222, \"#7201a8\"], [0.3333333333333333, \"#9c179e\"], [0.4444444444444444, \"#bd3786\"], [0.5555555555555556, \"#d8576b\"], [0.6666666666666666, \"#ed7953\"], [0.7777777777777778, \"#fb9f3a\"], [0.8888888888888888, \"#fdca26\"], [1.0, \"#f0f921\"]], \"type\": \"histogram2dcontour\"}], \"mesh3d\": [{\"colorbar\": {\"outlinewidth\": 0, \"ticks\": \"\"}, \"type\": \"mesh3d\"}], \"parcoords\": [{\"line\": {\"colorbar\": {\"outlinewidth\": 0, \"ticks\": \"\"}}, \"type\": \"parcoords\"}], \"pie\": [{\"automargin\": true, \"type\": \"pie\"}], \"scatter\": [{\"marker\": {\"colorbar\": {\"outlinewidth\": 0, \"ticks\": \"\"}}, \"type\": \"scatter\"}], \"scatter3d\": [{\"line\": {\"colorbar\": {\"outlinewidth\": 0, \"ticks\": \"\"}}, \"marker\": {\"colorbar\": {\"outlinewidth\": 0, \"ticks\": \"\"}}, \"type\": \"scatter3d\"}], \"scattercarpet\": [{\"marker\": {\"colorbar\": {\"outlinewidth\": 0, \"ticks\": \"\"}}, \"type\": \"scattercarpet\"}], \"scattergeo\": [{\"marker\": {\"colorbar\": {\"outlinewidth\": 0, \"ticks\": \"\"}}, \"type\": \"scattergeo\"}], \"scattergl\": [{\"marker\": {\"colorbar\": {\"outlinewidth\": 0, \"ticks\": \"\"}}, \"type\": \"scattergl\"}], \"scattermapbox\": [{\"marker\": {\"colorbar\": {\"outlinewidth\": 0, \"ticks\": \"\"}}, \"type\": \"scattermapbox\"}], \"scatterpolar\": [{\"marker\": {\"colorbar\": {\"outlinewidth\": 0, \"ticks\": \"\"}}, \"type\": \"scatterpolar\"}], \"scatterpolargl\": [{\"marker\": {\"colorbar\": {\"outlinewidth\": 0, \"ticks\": \"\"}}, \"type\": \"scatterpolargl\"}], \"scatterternary\": [{\"marker\": {\"colorbar\": {\"outlinewidth\": 0, \"ticks\": \"\"}}, \"type\": \"scatterternary\"}], \"surface\": [{\"colorbar\": {\"outlinewidth\": 0, \"ticks\": \"\"}, \"colorscale\": [[0.0, \"#0d0887\"], [0.1111111111111111, \"#46039f\"], [0.2222222222222222, \"#7201a8\"], [0.3333333333333333, \"#9c179e\"], [0.4444444444444444, \"#bd3786\"], [0.5555555555555556, \"#d8576b\"], [0.6666666666666666, \"#ed7953\"], [0.7777777777777778, \"#fb9f3a\"], [0.8888888888888888, \"#fdca26\"], [1.0, \"#f0f921\"]], \"type\": \"surface\"}], \"table\": [{\"cells\": {\"fill\": {\"color\": \"#EBF0F8\"}, \"line\": {\"color\": \"white\"}}, \"header\": {\"fill\": {\"color\": \"#C8D4E3\"}, \"line\": {\"color\": \"white\"}}, \"type\": \"table\"}]}, \"layout\": {\"annotationdefaults\": {\"arrowcolor\": \"#2a3f5f\", \"arrowhead\": 0, \"arrowwidth\": 1}, \"coloraxis\": {\"colorbar\": {\"outlinewidth\": 0, \"ticks\": \"\"}}, \"colorscale\": {\"diverging\": [[0, \"#8e0152\"], [0.1, \"#c51b7d\"], [0.2, \"#de77ae\"], [0.3, \"#f1b6da\"], [0.4, \"#fde0ef\"], [0.5, \"#f7f7f7\"], [0.6, \"#e6f5d0\"], [0.7, \"#b8e186\"], [0.8, \"#7fbc41\"], [0.9, \"#4d9221\"], [1, \"#276419\"]], \"sequential\": [[0.0, \"#0d0887\"], [0.1111111111111111, \"#46039f\"], [0.2222222222222222, \"#7201a8\"], [0.3333333333333333, \"#9c179e\"], [0.4444444444444444, \"#bd3786\"], [0.5555555555555556, \"#d8576b\"], [0.6666666666666666, \"#ed7953\"], [0.7777777777777778, \"#fb9f3a\"], [0.8888888888888888, \"#fdca26\"], [1.0, \"#f0f921\"]], \"sequentialminus\": [[0.0, \"#0d0887\"], [0.1111111111111111, \"#46039f\"], [0.2222222222222222, \"#7201a8\"], [0.3333333333333333, \"#9c179e\"], [0.4444444444444444, \"#bd3786\"], [0.5555555555555556, \"#d8576b\"], [0.6666666666666666, \"#ed7953\"], [0.7777777777777778, \"#fb9f3a\"], [0.8888888888888888, \"#fdca26\"], [1.0, \"#f0f921\"]]}, \"colorway\": [\"#636efa\", \"#EF553B\", \"#00cc96\", \"#ab63fa\", \"#FFA15A\", \"#19d3f3\", \"#FF6692\", \"#B6E880\", \"#FF97FF\", \"#FECB52\"], \"font\": {\"color\": \"#2a3f5f\"}, \"geo\": {\"bgcolor\": \"white\", \"lakecolor\": \"white\", \"landcolor\": \"#E5ECF6\", \"showlakes\": true, \"showland\": true, \"subunitcolor\": \"white\"}, \"hoverlabel\": {\"align\": \"left\"}, \"hovermode\": \"closest\", \"mapbox\": {\"style\": \"light\"}, \"paper_bgcolor\": \"white\", \"plot_bgcolor\": \"#E5ECF6\", \"polar\": {\"angularaxis\": {\"gridcolor\": \"white\", \"linecolor\": \"white\", \"ticks\": \"\"}, \"bgcolor\": \"#E5ECF6\", \"radialaxis\": {\"gridcolor\": \"white\", \"linecolor\": \"white\", \"ticks\": \"\"}}, \"scene\": {\"xaxis\": {\"backgroundcolor\": \"#E5ECF6\", \"gridcolor\": \"white\", \"gridwidth\": 2, \"linecolor\": \"white\", \"showbackground\": true, \"ticks\": \"\", \"zerolinecolor\": \"white\"}, \"yaxis\": {\"backgroundcolor\": \"#E5ECF6\", \"gridcolor\": \"white\", \"gridwidth\": 2, \"linecolor\": \"white\", \"showbackground\": true, \"ticks\": \"\", \"zerolinecolor\": \"white\"}, \"zaxis\": {\"backgroundcolor\": \"#E5ECF6\", \"gridcolor\": \"white\", \"gridwidth\": 2, \"linecolor\": \"white\", \"showbackground\": true, \"ticks\": \"\", \"zerolinecolor\": \"white\"}}, \"shapedefaults\": {\"line\": {\"color\": \"#2a3f5f\"}}, \"ternary\": {\"aaxis\": {\"gridcolor\": \"white\", \"linecolor\": \"white\", \"ticks\": \"\"}, \"baxis\": {\"gridcolor\": \"white\", \"linecolor\": \"white\", \"ticks\": \"\"}, \"bgcolor\": \"#E5ECF6\", \"caxis\": {\"gridcolor\": \"white\", \"linecolor\": \"white\", \"ticks\": \"\"}}, \"title\": {\"x\": 0.05}, \"xaxis\": {\"automargin\": true, \"gridcolor\": \"white\", \"linecolor\": \"white\", \"ticks\": \"\", \"title\": {\"standoff\": 15}, \"zerolinecolor\": \"white\", \"zerolinewidth\": 2}, \"yaxis\": {\"automargin\": true, \"gridcolor\": \"white\", \"linecolor\": \"white\", \"ticks\": \"\", \"title\": {\"standoff\": 15}, \"zerolinecolor\": \"white\", \"zerolinewidth\": 2}}}, \"title\": {\"text\": \"Distribution of the output of layer bn2\"}, \"xaxis\": {\"title\": {\"text\": \"Output of Layer bn2\"}}, \"yaxis\": {\"title\": {\"text\": \"Count\"}}},\n",
       "                        {\"responsive\": true}\n",
       "                    ).then(function(){\n",
       "                            \n",
       "var gd = document.getElementById('a1ad3400-4205-4dcd-81d3-83b699bd7176');\n",
       "var x = new MutationObserver(function (mutations, observer) {{\n",
       "        var display = window.getComputedStyle(gd).display;\n",
       "        if (!display || display === 'none') {{\n",
       "            console.log([gd, 'removed!']);\n",
       "            Plotly.purge(gd);\n",
       "            observer.disconnect();\n",
       "        }}\n",
       "}});\n",
       "\n",
       "// Listen for the removal of the full notebook cells\n",
       "var notebookContainer = gd.closest('#notebook-container');\n",
       "if (notebookContainer) {{\n",
       "    x.observe(notebookContainer, {childList: true});\n",
       "}}\n",
       "\n",
       "// Listen for the clearing of the current output cell\n",
       "var outputEl = gd.closest('.output');\n",
       "if (outputEl) {{\n",
       "    x.observe(outputEl, {childList: true});\n",
       "}}\n",
       "\n",
       "                        })\n",
       "                };\n",
       "                });\n",
       "            </script>\n",
       "        </div>"
      ]
     },
     "metadata": {},
     "output_type": "display_data"
    },
    {
     "data": {
      "application/vnd.plotly.v1+json": {
       "config": {
        "linkText": "Export to plot.ly",
        "plotlyServerURL": "https://plot.ly",
        "showLink": false
       },
       "data": [
        {
         "marker": {
          "color": "#db0000"
         },
         "name": "Layer Output",
         "type": "histogram",
         "x": [
          -0.2109423577785492,
          -0.06569381058216095,
          -0.11465097218751907,
          -0.11182332038879395,
          0.05687844753265381,
          0.08455126732587814,
          0.0914440006017685,
          -0.06211799383163452,
          0.007724396884441376,
          -0.02546044811606407,
          -0.08802905678749084,
          -0.2873170077800751,
          -0.09982958436012268,
          0.16945964097976685,
          -0.10403071343898773,
          -0.07931400835514069,
          -0.07590994983911514,
          0.04016242176294327,
          -0.10190941393375397,
          0.05497380346059799,
          -0.11883124709129333,
          -0.08536427468061447,
          -0.06676334142684937,
          0.03559979051351547,
          0.10528826713562012,
          0.037187397480010986,
          0.05030960589647293,
          0.15485596656799316,
          0.06244603544473648,
          0.018650829792022705,
          0.11928350478410721,
          -0.09544670581817627,
          -0.0842093899846077,
          0.8800367712974548,
          0.010332033038139343,
          -0.08288223296403885,
          -0.06657475233078003,
          -0.2862037718296051,
          0.037752918899059296,
          0.02198970317840576,
          0.8632096648216248,
          -0.1023670956492424,
          0.09652461111545563,
          -0.07045906782150269,
          0.033242009580135345,
          -0.39259353280067444,
          -0.11818940937519073,
          0.06107369810342789,
          -0.12548227608203888,
          0.05924549698829651,
          -0.14586153626441956,
          0.01919582486152649,
          -0.09594974666833878,
          0.8084914088249207,
          -0.2140216827392578,
          0.30562371015548706,
          0.03939981013536453,
          0.0003953799605369568,
          0.41437891125679016,
          0.031844474375247955,
          -0.4796927869319916,
          0.01712622493505478,
          -0.06460843980312347,
          -0.6197534799575806,
          0.0405460000038147,
          0.04372773319482803,
          0.015734858810901642,
          -0.0675663873553276,
          -0.513269305229187,
          0.19819670915603638,
          -0.05631576478481293,
          0.048165515065193176,
          -0.04427478462457657,
          0.06489071249961853,
          -0.0892014354467392,
          -0.034372903406620026,
          -0.5990097522735596,
          -0.29012972116470337,
          -0.44875916838645935,
          -0.08118157088756561,
          -0.10428731888532639,
          0.02872355282306671,
          -0.0822724774479866,
          0.0903836116194725,
          0.060161612927913666,
          -0.09134877473115921,
          -0.052877821028232574,
          -0.0661262720823288,
          0.0279596745967865,
          0.029516562819480896,
          -0.6862625479698181,
          0.046595536172389984,
          0.021962374448776245,
          -0.03334351256489754,
          0.022818364202976227,
          -0.07259850203990936,
          -0.11359483003616333,
          -0.007043004035949707,
          -0.08450431376695633,
          -0.10542961210012436
         ],
         "xbins": {
          "end": 0.8800367712974548,
          "size": 0,
          "start": -0.6862625479698181
         }
        }
       ],
       "layout": {
        "bargap": 0.2,
        "template": {
         "data": {
          "bar": [
           {
            "error_x": {
             "color": "#2a3f5f"
            },
            "error_y": {
             "color": "#2a3f5f"
            },
            "marker": {
             "line": {
              "color": "#E5ECF6",
              "width": 0.5
             }
            },
            "type": "bar"
           }
          ],
          "barpolar": [
           {
            "marker": {
             "line": {
              "color": "#E5ECF6",
              "width": 0.5
             }
            },
            "type": "barpolar"
           }
          ],
          "carpet": [
           {
            "aaxis": {
             "endlinecolor": "#2a3f5f",
             "gridcolor": "white",
             "linecolor": "white",
             "minorgridcolor": "white",
             "startlinecolor": "#2a3f5f"
            },
            "baxis": {
             "endlinecolor": "#2a3f5f",
             "gridcolor": "white",
             "linecolor": "white",
             "minorgridcolor": "white",
             "startlinecolor": "#2a3f5f"
            },
            "type": "carpet"
           }
          ],
          "choropleth": [
           {
            "colorbar": {
             "outlinewidth": 0,
             "ticks": ""
            },
            "type": "choropleth"
           }
          ],
          "contour": [
           {
            "colorbar": {
             "outlinewidth": 0,
             "ticks": ""
            },
            "colorscale": [
             [
              0,
              "#0d0887"
             ],
             [
              0.1111111111111111,
              "#46039f"
             ],
             [
              0.2222222222222222,
              "#7201a8"
             ],
             [
              0.3333333333333333,
              "#9c179e"
             ],
             [
              0.4444444444444444,
              "#bd3786"
             ],
             [
              0.5555555555555556,
              "#d8576b"
             ],
             [
              0.6666666666666666,
              "#ed7953"
             ],
             [
              0.7777777777777778,
              "#fb9f3a"
             ],
             [
              0.8888888888888888,
              "#fdca26"
             ],
             [
              1,
              "#f0f921"
             ]
            ],
            "type": "contour"
           }
          ],
          "contourcarpet": [
           {
            "colorbar": {
             "outlinewidth": 0,
             "ticks": ""
            },
            "type": "contourcarpet"
           }
          ],
          "heatmap": [
           {
            "colorbar": {
             "outlinewidth": 0,
             "ticks": ""
            },
            "colorscale": [
             [
              0,
              "#0d0887"
             ],
             [
              0.1111111111111111,
              "#46039f"
             ],
             [
              0.2222222222222222,
              "#7201a8"
             ],
             [
              0.3333333333333333,
              "#9c179e"
             ],
             [
              0.4444444444444444,
              "#bd3786"
             ],
             [
              0.5555555555555556,
              "#d8576b"
             ],
             [
              0.6666666666666666,
              "#ed7953"
             ],
             [
              0.7777777777777778,
              "#fb9f3a"
             ],
             [
              0.8888888888888888,
              "#fdca26"
             ],
             [
              1,
              "#f0f921"
             ]
            ],
            "type": "heatmap"
           }
          ],
          "heatmapgl": [
           {
            "colorbar": {
             "outlinewidth": 0,
             "ticks": ""
            },
            "colorscale": [
             [
              0,
              "#0d0887"
             ],
             [
              0.1111111111111111,
              "#46039f"
             ],
             [
              0.2222222222222222,
              "#7201a8"
             ],
             [
              0.3333333333333333,
              "#9c179e"
             ],
             [
              0.4444444444444444,
              "#bd3786"
             ],
             [
              0.5555555555555556,
              "#d8576b"
             ],
             [
              0.6666666666666666,
              "#ed7953"
             ],
             [
              0.7777777777777778,
              "#fb9f3a"
             ],
             [
              0.8888888888888888,
              "#fdca26"
             ],
             [
              1,
              "#f0f921"
             ]
            ],
            "type": "heatmapgl"
           }
          ],
          "histogram": [
           {
            "marker": {
             "colorbar": {
              "outlinewidth": 0,
              "ticks": ""
             }
            },
            "type": "histogram"
           }
          ],
          "histogram2d": [
           {
            "colorbar": {
             "outlinewidth": 0,
             "ticks": ""
            },
            "colorscale": [
             [
              0,
              "#0d0887"
             ],
             [
              0.1111111111111111,
              "#46039f"
             ],
             [
              0.2222222222222222,
              "#7201a8"
             ],
             [
              0.3333333333333333,
              "#9c179e"
             ],
             [
              0.4444444444444444,
              "#bd3786"
             ],
             [
              0.5555555555555556,
              "#d8576b"
             ],
             [
              0.6666666666666666,
              "#ed7953"
             ],
             [
              0.7777777777777778,
              "#fb9f3a"
             ],
             [
              0.8888888888888888,
              "#fdca26"
             ],
             [
              1,
              "#f0f921"
             ]
            ],
            "type": "histogram2d"
           }
          ],
          "histogram2dcontour": [
           {
            "colorbar": {
             "outlinewidth": 0,
             "ticks": ""
            },
            "colorscale": [
             [
              0,
              "#0d0887"
             ],
             [
              0.1111111111111111,
              "#46039f"
             ],
             [
              0.2222222222222222,
              "#7201a8"
             ],
             [
              0.3333333333333333,
              "#9c179e"
             ],
             [
              0.4444444444444444,
              "#bd3786"
             ],
             [
              0.5555555555555556,
              "#d8576b"
             ],
             [
              0.6666666666666666,
              "#ed7953"
             ],
             [
              0.7777777777777778,
              "#fb9f3a"
             ],
             [
              0.8888888888888888,
              "#fdca26"
             ],
             [
              1,
              "#f0f921"
             ]
            ],
            "type": "histogram2dcontour"
           }
          ],
          "mesh3d": [
           {
            "colorbar": {
             "outlinewidth": 0,
             "ticks": ""
            },
            "type": "mesh3d"
           }
          ],
          "parcoords": [
           {
            "line": {
             "colorbar": {
              "outlinewidth": 0,
              "ticks": ""
             }
            },
            "type": "parcoords"
           }
          ],
          "pie": [
           {
            "automargin": true,
            "type": "pie"
           }
          ],
          "scatter": [
           {
            "marker": {
             "colorbar": {
              "outlinewidth": 0,
              "ticks": ""
             }
            },
            "type": "scatter"
           }
          ],
          "scatter3d": [
           {
            "line": {
             "colorbar": {
              "outlinewidth": 0,
              "ticks": ""
             }
            },
            "marker": {
             "colorbar": {
              "outlinewidth": 0,
              "ticks": ""
             }
            },
            "type": "scatter3d"
           }
          ],
          "scattercarpet": [
           {
            "marker": {
             "colorbar": {
              "outlinewidth": 0,
              "ticks": ""
             }
            },
            "type": "scattercarpet"
           }
          ],
          "scattergeo": [
           {
            "marker": {
             "colorbar": {
              "outlinewidth": 0,
              "ticks": ""
             }
            },
            "type": "scattergeo"
           }
          ],
          "scattergl": [
           {
            "marker": {
             "colorbar": {
              "outlinewidth": 0,
              "ticks": ""
             }
            },
            "type": "scattergl"
           }
          ],
          "scattermapbox": [
           {
            "marker": {
             "colorbar": {
              "outlinewidth": 0,
              "ticks": ""
             }
            },
            "type": "scattermapbox"
           }
          ],
          "scatterpolar": [
           {
            "marker": {
             "colorbar": {
              "outlinewidth": 0,
              "ticks": ""
             }
            },
            "type": "scatterpolar"
           }
          ],
          "scatterpolargl": [
           {
            "marker": {
             "colorbar": {
              "outlinewidth": 0,
              "ticks": ""
             }
            },
            "type": "scatterpolargl"
           }
          ],
          "scatterternary": [
           {
            "marker": {
             "colorbar": {
              "outlinewidth": 0,
              "ticks": ""
             }
            },
            "type": "scatterternary"
           }
          ],
          "surface": [
           {
            "colorbar": {
             "outlinewidth": 0,
             "ticks": ""
            },
            "colorscale": [
             [
              0,
              "#0d0887"
             ],
             [
              0.1111111111111111,
              "#46039f"
             ],
             [
              0.2222222222222222,
              "#7201a8"
             ],
             [
              0.3333333333333333,
              "#9c179e"
             ],
             [
              0.4444444444444444,
              "#bd3786"
             ],
             [
              0.5555555555555556,
              "#d8576b"
             ],
             [
              0.6666666666666666,
              "#ed7953"
             ],
             [
              0.7777777777777778,
              "#fb9f3a"
             ],
             [
              0.8888888888888888,
              "#fdca26"
             ],
             [
              1,
              "#f0f921"
             ]
            ],
            "type": "surface"
           }
          ],
          "table": [
           {
            "cells": {
             "fill": {
              "color": "#EBF0F8"
             },
             "line": {
              "color": "white"
             }
            },
            "header": {
             "fill": {
              "color": "#C8D4E3"
             },
             "line": {
              "color": "white"
             }
            },
            "type": "table"
           }
          ]
         },
         "layout": {
          "annotationdefaults": {
           "arrowcolor": "#2a3f5f",
           "arrowhead": 0,
           "arrowwidth": 1
          },
          "coloraxis": {
           "colorbar": {
            "outlinewidth": 0,
            "ticks": ""
           }
          },
          "colorscale": {
           "diverging": [
            [
             0,
             "#8e0152"
            ],
            [
             0.1,
             "#c51b7d"
            ],
            [
             0.2,
             "#de77ae"
            ],
            [
             0.3,
             "#f1b6da"
            ],
            [
             0.4,
             "#fde0ef"
            ],
            [
             0.5,
             "#f7f7f7"
            ],
            [
             0.6,
             "#e6f5d0"
            ],
            [
             0.7,
             "#b8e186"
            ],
            [
             0.8,
             "#7fbc41"
            ],
            [
             0.9,
             "#4d9221"
            ],
            [
             1,
             "#276419"
            ]
           ],
           "sequential": [
            [
             0,
             "#0d0887"
            ],
            [
             0.1111111111111111,
             "#46039f"
            ],
            [
             0.2222222222222222,
             "#7201a8"
            ],
            [
             0.3333333333333333,
             "#9c179e"
            ],
            [
             0.4444444444444444,
             "#bd3786"
            ],
            [
             0.5555555555555556,
             "#d8576b"
            ],
            [
             0.6666666666666666,
             "#ed7953"
            ],
            [
             0.7777777777777778,
             "#fb9f3a"
            ],
            [
             0.8888888888888888,
             "#fdca26"
            ],
            [
             1,
             "#f0f921"
            ]
           ],
           "sequentialminus": [
            [
             0,
             "#0d0887"
            ],
            [
             0.1111111111111111,
             "#46039f"
            ],
            [
             0.2222222222222222,
             "#7201a8"
            ],
            [
             0.3333333333333333,
             "#9c179e"
            ],
            [
             0.4444444444444444,
             "#bd3786"
            ],
            [
             0.5555555555555556,
             "#d8576b"
            ],
            [
             0.6666666666666666,
             "#ed7953"
            ],
            [
             0.7777777777777778,
             "#fb9f3a"
            ],
            [
             0.8888888888888888,
             "#fdca26"
            ],
            [
             1,
             "#f0f921"
            ]
           ]
          },
          "colorway": [
           "#636efa",
           "#EF553B",
           "#00cc96",
           "#ab63fa",
           "#FFA15A",
           "#19d3f3",
           "#FF6692",
           "#B6E880",
           "#FF97FF",
           "#FECB52"
          ],
          "font": {
           "color": "#2a3f5f"
          },
          "geo": {
           "bgcolor": "white",
           "lakecolor": "white",
           "landcolor": "#E5ECF6",
           "showlakes": true,
           "showland": true,
           "subunitcolor": "white"
          },
          "hoverlabel": {
           "align": "left"
          },
          "hovermode": "closest",
          "mapbox": {
           "style": "light"
          },
          "paper_bgcolor": "white",
          "plot_bgcolor": "#E5ECF6",
          "polar": {
           "angularaxis": {
            "gridcolor": "white",
            "linecolor": "white",
            "ticks": ""
           },
           "bgcolor": "#E5ECF6",
           "radialaxis": {
            "gridcolor": "white",
            "linecolor": "white",
            "ticks": ""
           }
          },
          "scene": {
           "xaxis": {
            "backgroundcolor": "#E5ECF6",
            "gridcolor": "white",
            "gridwidth": 2,
            "linecolor": "white",
            "showbackground": true,
            "ticks": "",
            "zerolinecolor": "white"
           },
           "yaxis": {
            "backgroundcolor": "#E5ECF6",
            "gridcolor": "white",
            "gridwidth": 2,
            "linecolor": "white",
            "showbackground": true,
            "ticks": "",
            "zerolinecolor": "white"
           },
           "zaxis": {
            "backgroundcolor": "#E5ECF6",
            "gridcolor": "white",
            "gridwidth": 2,
            "linecolor": "white",
            "showbackground": true,
            "ticks": "",
            "zerolinecolor": "white"
           }
          },
          "shapedefaults": {
           "line": {
            "color": "#2a3f5f"
           }
          },
          "ternary": {
           "aaxis": {
            "gridcolor": "white",
            "linecolor": "white",
            "ticks": ""
           },
           "baxis": {
            "gridcolor": "white",
            "linecolor": "white",
            "ticks": ""
           },
           "bgcolor": "#E5ECF6",
           "caxis": {
            "gridcolor": "white",
            "linecolor": "white",
            "ticks": ""
           }
          },
          "title": {
           "x": 0.05
          },
          "xaxis": {
           "automargin": true,
           "gridcolor": "white",
           "linecolor": "white",
           "ticks": "",
           "title": {
            "standoff": 15
           },
           "zerolinecolor": "white",
           "zerolinewidth": 2
          },
          "yaxis": {
           "automargin": true,
           "gridcolor": "white",
           "linecolor": "white",
           "ticks": "",
           "title": {
            "standoff": 15
           },
           "zerolinecolor": "white",
           "zerolinewidth": 2
          }
         }
        },
        "title": {
         "text": "Distribution of the output of layer bn3"
        },
        "xaxis": {
         "title": {
          "text": "Output of Layer bn3"
         }
        },
        "yaxis": {
         "title": {
          "text": "Count"
         }
        }
       }
      },
      "text/html": [
       "<div>\n",
       "        \n",
       "        \n",
       "            <div id=\"34360d64-c285-4a46-bcfe-f68d1dd97586\" class=\"plotly-graph-div\" style=\"height:525px; width:100%;\"></div>\n",
       "            <script type=\"text/javascript\">\n",
       "                require([\"plotly\"], function(Plotly) {\n",
       "                    window.PLOTLYENV=window.PLOTLYENV || {};\n",
       "                    \n",
       "                if (document.getElementById(\"34360d64-c285-4a46-bcfe-f68d1dd97586\")) {\n",
       "                    Plotly.newPlot(\n",
       "                        '34360d64-c285-4a46-bcfe-f68d1dd97586',\n",
       "                        [{\"marker\": {\"color\": \"#db0000\"}, \"name\": \"Layer Output\", \"type\": \"histogram\", \"x\": [-0.2109423577785492, -0.06569381058216095, -0.11465097218751907, -0.11182332038879395, 0.05687844753265381, 0.08455126732587814, 0.0914440006017685, -0.06211799383163452, 0.007724396884441376, -0.02546044811606407, -0.08802905678749084, -0.2873170077800751, -0.09982958436012268, 0.16945964097976685, -0.10403071343898773, -0.07931400835514069, -0.07590994983911514, 0.04016242176294327, -0.10190941393375397, 0.05497380346059799, -0.11883124709129333, -0.08536427468061447, -0.06676334142684937, 0.03559979051351547, 0.10528826713562012, 0.037187397480010986, 0.05030960589647293, 0.15485596656799316, 0.06244603544473648, 0.018650829792022705, 0.11928350478410721, -0.09544670581817627, -0.0842093899846077, 0.8800367712974548, 0.010332033038139343, -0.08288223296403885, -0.06657475233078003, -0.2862037718296051, 0.037752918899059296, 0.02198970317840576, 0.8632096648216248, -0.1023670956492424, 0.09652461111545563, -0.07045906782150269, 0.033242009580135345, -0.39259353280067444, -0.11818940937519073, 0.06107369810342789, -0.12548227608203888, 0.05924549698829651, -0.14586153626441956, 0.01919582486152649, -0.09594974666833878, 0.8084914088249207, -0.2140216827392578, 0.30562371015548706, 0.03939981013536453, 0.0003953799605369568, 0.41437891125679016, 0.031844474375247955, -0.4796927869319916, 0.01712622493505478, -0.06460843980312347, -0.6197534799575806, 0.0405460000038147, 0.04372773319482803, 0.015734858810901642, -0.0675663873553276, -0.513269305229187, 0.19819670915603638, -0.05631576478481293, 0.048165515065193176, -0.04427478462457657, 0.06489071249961853, -0.0892014354467392, -0.034372903406620026, -0.5990097522735596, -0.29012972116470337, -0.44875916838645935, -0.08118157088756561, -0.10428731888532639, 0.02872355282306671, -0.0822724774479866, 0.0903836116194725, 0.060161612927913666, -0.09134877473115921, -0.052877821028232574, -0.0661262720823288, 0.0279596745967865, 0.029516562819480896, -0.6862625479698181, 0.046595536172389984, 0.021962374448776245, -0.03334351256489754, 0.022818364202976227, -0.07259850203990936, -0.11359483003616333, -0.007043004035949707, -0.08450431376695633, -0.10542961210012436], \"xbins\": {\"end\": 0.8800367712974548, \"size\": 0, \"start\": -0.6862625479698181}}],\n",
       "                        {\"bargap\": 0.2, \"template\": {\"data\": {\"bar\": [{\"error_x\": {\"color\": \"#2a3f5f\"}, \"error_y\": {\"color\": \"#2a3f5f\"}, \"marker\": {\"line\": {\"color\": \"#E5ECF6\", \"width\": 0.5}}, \"type\": \"bar\"}], \"barpolar\": [{\"marker\": {\"line\": {\"color\": \"#E5ECF6\", \"width\": 0.5}}, \"type\": \"barpolar\"}], \"carpet\": [{\"aaxis\": {\"endlinecolor\": \"#2a3f5f\", \"gridcolor\": \"white\", \"linecolor\": \"white\", \"minorgridcolor\": \"white\", \"startlinecolor\": \"#2a3f5f\"}, \"baxis\": {\"endlinecolor\": \"#2a3f5f\", \"gridcolor\": \"white\", \"linecolor\": \"white\", \"minorgridcolor\": \"white\", \"startlinecolor\": \"#2a3f5f\"}, \"type\": \"carpet\"}], \"choropleth\": [{\"colorbar\": {\"outlinewidth\": 0, \"ticks\": \"\"}, \"type\": \"choropleth\"}], \"contour\": [{\"colorbar\": {\"outlinewidth\": 0, \"ticks\": \"\"}, \"colorscale\": [[0.0, \"#0d0887\"], [0.1111111111111111, \"#46039f\"], [0.2222222222222222, \"#7201a8\"], [0.3333333333333333, \"#9c179e\"], [0.4444444444444444, \"#bd3786\"], [0.5555555555555556, \"#d8576b\"], [0.6666666666666666, \"#ed7953\"], [0.7777777777777778, \"#fb9f3a\"], [0.8888888888888888, \"#fdca26\"], [1.0, \"#f0f921\"]], \"type\": \"contour\"}], \"contourcarpet\": [{\"colorbar\": {\"outlinewidth\": 0, \"ticks\": \"\"}, \"type\": \"contourcarpet\"}], \"heatmap\": [{\"colorbar\": {\"outlinewidth\": 0, \"ticks\": \"\"}, \"colorscale\": [[0.0, \"#0d0887\"], [0.1111111111111111, \"#46039f\"], [0.2222222222222222, \"#7201a8\"], [0.3333333333333333, \"#9c179e\"], [0.4444444444444444, \"#bd3786\"], [0.5555555555555556, \"#d8576b\"], [0.6666666666666666, \"#ed7953\"], [0.7777777777777778, \"#fb9f3a\"], [0.8888888888888888, \"#fdca26\"], [1.0, \"#f0f921\"]], \"type\": \"heatmap\"}], \"heatmapgl\": [{\"colorbar\": {\"outlinewidth\": 0, \"ticks\": \"\"}, \"colorscale\": [[0.0, \"#0d0887\"], [0.1111111111111111, \"#46039f\"], [0.2222222222222222, \"#7201a8\"], [0.3333333333333333, \"#9c179e\"], [0.4444444444444444, \"#bd3786\"], [0.5555555555555556, \"#d8576b\"], [0.6666666666666666, \"#ed7953\"], [0.7777777777777778, \"#fb9f3a\"], [0.8888888888888888, \"#fdca26\"], [1.0, \"#f0f921\"]], \"type\": \"heatmapgl\"}], \"histogram\": [{\"marker\": {\"colorbar\": {\"outlinewidth\": 0, \"ticks\": \"\"}}, \"type\": \"histogram\"}], \"histogram2d\": [{\"colorbar\": {\"outlinewidth\": 0, \"ticks\": \"\"}, \"colorscale\": [[0.0, \"#0d0887\"], [0.1111111111111111, \"#46039f\"], [0.2222222222222222, \"#7201a8\"], [0.3333333333333333, \"#9c179e\"], [0.4444444444444444, \"#bd3786\"], [0.5555555555555556, \"#d8576b\"], [0.6666666666666666, \"#ed7953\"], [0.7777777777777778, \"#fb9f3a\"], [0.8888888888888888, \"#fdca26\"], [1.0, \"#f0f921\"]], \"type\": \"histogram2d\"}], \"histogram2dcontour\": [{\"colorbar\": {\"outlinewidth\": 0, \"ticks\": \"\"}, \"colorscale\": [[0.0, \"#0d0887\"], [0.1111111111111111, \"#46039f\"], [0.2222222222222222, \"#7201a8\"], [0.3333333333333333, \"#9c179e\"], [0.4444444444444444, \"#bd3786\"], [0.5555555555555556, \"#d8576b\"], [0.6666666666666666, \"#ed7953\"], [0.7777777777777778, \"#fb9f3a\"], [0.8888888888888888, \"#fdca26\"], [1.0, \"#f0f921\"]], \"type\": \"histogram2dcontour\"}], \"mesh3d\": [{\"colorbar\": {\"outlinewidth\": 0, \"ticks\": \"\"}, \"type\": \"mesh3d\"}], \"parcoords\": [{\"line\": {\"colorbar\": {\"outlinewidth\": 0, \"ticks\": \"\"}}, \"type\": \"parcoords\"}], \"pie\": [{\"automargin\": true, \"type\": \"pie\"}], \"scatter\": [{\"marker\": {\"colorbar\": {\"outlinewidth\": 0, \"ticks\": \"\"}}, \"type\": \"scatter\"}], \"scatter3d\": [{\"line\": {\"colorbar\": {\"outlinewidth\": 0, \"ticks\": \"\"}}, \"marker\": {\"colorbar\": {\"outlinewidth\": 0, \"ticks\": \"\"}}, \"type\": \"scatter3d\"}], \"scattercarpet\": [{\"marker\": {\"colorbar\": {\"outlinewidth\": 0, \"ticks\": \"\"}}, \"type\": \"scattercarpet\"}], \"scattergeo\": [{\"marker\": {\"colorbar\": {\"outlinewidth\": 0, \"ticks\": \"\"}}, \"type\": \"scattergeo\"}], \"scattergl\": [{\"marker\": {\"colorbar\": {\"outlinewidth\": 0, \"ticks\": \"\"}}, \"type\": \"scattergl\"}], \"scattermapbox\": [{\"marker\": {\"colorbar\": {\"outlinewidth\": 0, \"ticks\": \"\"}}, \"type\": \"scattermapbox\"}], \"scatterpolar\": [{\"marker\": {\"colorbar\": {\"outlinewidth\": 0, \"ticks\": \"\"}}, \"type\": \"scatterpolar\"}], \"scatterpolargl\": [{\"marker\": {\"colorbar\": {\"outlinewidth\": 0, \"ticks\": \"\"}}, \"type\": \"scatterpolargl\"}], \"scatterternary\": [{\"marker\": {\"colorbar\": {\"outlinewidth\": 0, \"ticks\": \"\"}}, \"type\": \"scatterternary\"}], \"surface\": [{\"colorbar\": {\"outlinewidth\": 0, \"ticks\": \"\"}, \"colorscale\": [[0.0, \"#0d0887\"], [0.1111111111111111, \"#46039f\"], [0.2222222222222222, \"#7201a8\"], [0.3333333333333333, \"#9c179e\"], [0.4444444444444444, \"#bd3786\"], [0.5555555555555556, \"#d8576b\"], [0.6666666666666666, \"#ed7953\"], [0.7777777777777778, \"#fb9f3a\"], [0.8888888888888888, \"#fdca26\"], [1.0, \"#f0f921\"]], \"type\": \"surface\"}], \"table\": [{\"cells\": {\"fill\": {\"color\": \"#EBF0F8\"}, \"line\": {\"color\": \"white\"}}, \"header\": {\"fill\": {\"color\": \"#C8D4E3\"}, \"line\": {\"color\": \"white\"}}, \"type\": \"table\"}]}, \"layout\": {\"annotationdefaults\": {\"arrowcolor\": \"#2a3f5f\", \"arrowhead\": 0, \"arrowwidth\": 1}, \"coloraxis\": {\"colorbar\": {\"outlinewidth\": 0, \"ticks\": \"\"}}, \"colorscale\": {\"diverging\": [[0, \"#8e0152\"], [0.1, \"#c51b7d\"], [0.2, \"#de77ae\"], [0.3, \"#f1b6da\"], [0.4, \"#fde0ef\"], [0.5, \"#f7f7f7\"], [0.6, \"#e6f5d0\"], [0.7, \"#b8e186\"], [0.8, \"#7fbc41\"], [0.9, \"#4d9221\"], [1, \"#276419\"]], \"sequential\": [[0.0, \"#0d0887\"], [0.1111111111111111, \"#46039f\"], [0.2222222222222222, \"#7201a8\"], [0.3333333333333333, \"#9c179e\"], [0.4444444444444444, \"#bd3786\"], [0.5555555555555556, \"#d8576b\"], [0.6666666666666666, \"#ed7953\"], [0.7777777777777778, \"#fb9f3a\"], [0.8888888888888888, \"#fdca26\"], [1.0, \"#f0f921\"]], \"sequentialminus\": [[0.0, \"#0d0887\"], [0.1111111111111111, \"#46039f\"], [0.2222222222222222, \"#7201a8\"], [0.3333333333333333, \"#9c179e\"], [0.4444444444444444, \"#bd3786\"], [0.5555555555555556, \"#d8576b\"], [0.6666666666666666, \"#ed7953\"], [0.7777777777777778, \"#fb9f3a\"], [0.8888888888888888, \"#fdca26\"], [1.0, \"#f0f921\"]]}, \"colorway\": [\"#636efa\", \"#EF553B\", \"#00cc96\", \"#ab63fa\", \"#FFA15A\", \"#19d3f3\", \"#FF6692\", \"#B6E880\", \"#FF97FF\", \"#FECB52\"], \"font\": {\"color\": \"#2a3f5f\"}, \"geo\": {\"bgcolor\": \"white\", \"lakecolor\": \"white\", \"landcolor\": \"#E5ECF6\", \"showlakes\": true, \"showland\": true, \"subunitcolor\": \"white\"}, \"hoverlabel\": {\"align\": \"left\"}, \"hovermode\": \"closest\", \"mapbox\": {\"style\": \"light\"}, \"paper_bgcolor\": \"white\", \"plot_bgcolor\": \"#E5ECF6\", \"polar\": {\"angularaxis\": {\"gridcolor\": \"white\", \"linecolor\": \"white\", \"ticks\": \"\"}, \"bgcolor\": \"#E5ECF6\", \"radialaxis\": {\"gridcolor\": \"white\", \"linecolor\": \"white\", \"ticks\": \"\"}}, \"scene\": {\"xaxis\": {\"backgroundcolor\": \"#E5ECF6\", \"gridcolor\": \"white\", \"gridwidth\": 2, \"linecolor\": \"white\", \"showbackground\": true, \"ticks\": \"\", \"zerolinecolor\": \"white\"}, \"yaxis\": {\"backgroundcolor\": \"#E5ECF6\", \"gridcolor\": \"white\", \"gridwidth\": 2, \"linecolor\": \"white\", \"showbackground\": true, \"ticks\": \"\", \"zerolinecolor\": \"white\"}, \"zaxis\": {\"backgroundcolor\": \"#E5ECF6\", \"gridcolor\": \"white\", \"gridwidth\": 2, \"linecolor\": \"white\", \"showbackground\": true, \"ticks\": \"\", \"zerolinecolor\": \"white\"}}, \"shapedefaults\": {\"line\": {\"color\": \"#2a3f5f\"}}, \"ternary\": {\"aaxis\": {\"gridcolor\": \"white\", \"linecolor\": \"white\", \"ticks\": \"\"}, \"baxis\": {\"gridcolor\": \"white\", \"linecolor\": \"white\", \"ticks\": \"\"}, \"bgcolor\": \"#E5ECF6\", \"caxis\": {\"gridcolor\": \"white\", \"linecolor\": \"white\", \"ticks\": \"\"}}, \"title\": {\"x\": 0.05}, \"xaxis\": {\"automargin\": true, \"gridcolor\": \"white\", \"linecolor\": \"white\", \"ticks\": \"\", \"title\": {\"standoff\": 15}, \"zerolinecolor\": \"white\", \"zerolinewidth\": 2}, \"yaxis\": {\"automargin\": true, \"gridcolor\": \"white\", \"linecolor\": \"white\", \"ticks\": \"\", \"title\": {\"standoff\": 15}, \"zerolinecolor\": \"white\", \"zerolinewidth\": 2}}}, \"title\": {\"text\": \"Distribution of the output of layer bn3\"}, \"xaxis\": {\"title\": {\"text\": \"Output of Layer bn3\"}}, \"yaxis\": {\"title\": {\"text\": \"Count\"}}},\n",
       "                        {\"responsive\": true}\n",
       "                    ).then(function(){\n",
       "                            \n",
       "var gd = document.getElementById('34360d64-c285-4a46-bcfe-f68d1dd97586');\n",
       "var x = new MutationObserver(function (mutations, observer) {{\n",
       "        var display = window.getComputedStyle(gd).display;\n",
       "        if (!display || display === 'none') {{\n",
       "            console.log([gd, 'removed!']);\n",
       "            Plotly.purge(gd);\n",
       "            observer.disconnect();\n",
       "        }}\n",
       "}});\n",
       "\n",
       "// Listen for the removal of the full notebook cells\n",
       "var notebookContainer = gd.closest('#notebook-container');\n",
       "if (notebookContainer) {{\n",
       "    x.observe(notebookContainer, {childList: true});\n",
       "}}\n",
       "\n",
       "// Listen for the clearing of the current output cell\n",
       "var outputEl = gd.closest('.output');\n",
       "if (outputEl) {{\n",
       "    x.observe(outputEl, {childList: true});\n",
       "}}\n",
       "\n",
       "                        })\n",
       "                };\n",
       "                });\n",
       "            </script>\n",
       "        </div>"
      ]
     },
     "metadata": {},
     "output_type": "display_data"
    }
   ],
   "source": [
    "plot_hist_intermediate_outputs(activations['bn1'], 'bn1')\n",
    "plot_hist_intermediate_outputs(activations['bn2'], 'bn2')\n",
    "plot_hist_intermediate_outputs(activations['bn3'], 'bn3')"
   ]
  },
  {
   "cell_type": "code",
   "execution_count": 44,
   "metadata": {},
   "outputs": [
    {
     "data": {
      "application/vnd.plotly.v1+json": {
       "config": {
        "linkText": "Export to plot.ly",
        "plotlyServerURL": "https://plot.ly",
        "showLink": false
       },
       "data": [
        {
         "marker": {
          "color": "#db0000"
         },
         "name": "Layer Output",
         "type": "histogram",
         "x": [
          -6.484494686126709,
          -62.494140625,
          -39.87909698486328,
          -58.758705139160156,
          -145.3582763671875,
          94.1871109008789,
          -59.192474365234375,
          -128.8968505859375,
          -48.407012939453125,
          -168.10203552246094,
          -144.88267517089844,
          -23.984912872314453,
          -142.87890625,
          -45.71794128417969,
          -149.28021240234375,
          -133.86117553710938,
          102.23994445800781,
          -19.031932830810547,
          59.26152801513672,
          49.61713409423828,
          -41.075843811035156,
          -68.67508697509766,
          -147.6753692626953,
          136.46450805664062,
          -85.06758880615234,
          -207.7184600830078,
          -23.974531173706055,
          -114.14962768554688,
          51.650875091552734,
          -55.875221252441406,
          -2.4411380290985107,
          29.573257446289062,
          -30.55325698852539,
          -180.57489013671875,
          -185.1664276123047,
          -88.87650299072266,
          -92.37116241455078,
          -73.51995849609375,
          -138.03567504882812,
          89.03253173828125,
          107.49553680419922,
          61.838134765625,
          -159.22042846679688,
          -10.715059280395508,
          -61.53654861450195,
          18.60784339904785,
          -274.4621276855469,
          -75.08172607421875,
          -254.5451202392578,
          -132.08006286621094,
          -62.50503158569336,
          -175.94418334960938,
          65.3719482421875,
          -54.656898498535156,
          17.95261001586914,
          -63.77052307128906,
          -57.65624237060547,
          -170.019775390625,
          141.82290649414062,
          98.6380615234375,
          -124.59786987304688,
          -86.68766784667969,
          -0.37235933542251587,
          -86.66767120361328,
          -126.0745620727539,
          -233.4475555419922,
          49.797576904296875,
          77.9063491821289,
          36.1226806640625,
          -173.13609313964844,
          -125.57302856445312,
          -144.48464965820312,
          -91.30940246582031,
          31.697221755981445,
          -200.5984344482422,
          -50.15508270263672,
          135.1803741455078,
          -191.3169708251953,
          -48.29911422729492,
          36.384002685546875,
          -45.94989013671875,
          36.10312271118164,
          87.63385772705078,
          -135.3313751220703,
          -75.24711608886719,
          6.9504899978637695,
          69.93883514404297,
          -95.42156982421875,
          -78.39446258544922,
          -59.068572998046875,
          -70.70660400390625,
          -63.12623596191406,
          -192.69297790527344,
          -66.83524322509766,
          -44.317745208740234,
          -80.41487884521484,
          -113.92223358154297,
          -1.398482084274292,
          -15.968574523925781,
          -29.642126083374023,
          -183.12301635742188,
          -100.55487060546875,
          -197.99484252929688,
          -142.64111328125,
          53.078922271728516,
          -151.2332000732422,
          -7.359893798828125,
          58.86333465576172,
          -127.15120697021484,
          -50.405548095703125,
          -0.9032444953918457,
          -248.7899627685547,
          -126.166259765625,
          -131.35763549804688,
          12.44281005859375,
          -64.39681243896484,
          -137.2032012939453,
          -139.10464477539062,
          84.79285430908203,
          -58.87299728393555,
          -182.65060424804688,
          -21.97860336303711,
          -127.33900451660156,
          14.481293678283691,
          -137.9816436767578,
          -110.7152099609375,
          -7.1909565925598145,
          85.71817016601562,
          -52.44196319580078,
          10.105890274047852,
          149.6618194580078,
          11.613794326782227,
          -25.694238662719727,
          -27.336292266845703,
          -25.296789169311523,
          -18.08769989013672,
          -120.98011779785156,
          -63.489036560058594,
          -110.46424865722656,
          -58.79159164428711,
          -124.04930114746094,
          -22.65447235107422,
          -10.708110809326172,
          -41.587100982666016,
          183.28164672851562,
          -95.1522445678711,
          -134.71681213378906,
          -159.59359741210938,
          -94.16509246826172,
          -21.618289947509766,
          -35.7349853515625,
          4.090935707092285,
          -211.61659240722656,
          71.77983856201172,
          -206.7371063232422,
          10.404461860656738,
          -74.51749420166016,
          -98.5613784790039,
          -184.26271057128906,
          -189.30348205566406,
          -154.7796630859375,
          107.79118347167969,
          -127.88463592529297,
          -23.743886947631836,
          15.6644287109375,
          -151.23963928222656,
          -67.38320922851562,
          -101.21404266357422,
          -119.68353271484375,
          -102.99452209472656,
          -102.08324432373047,
          124.5854263305664,
          -107.38542175292969,
          -184.83834838867188,
          -157.29966735839844,
          -181.09521484375,
          -186.88499450683594,
          -48.58079528808594,
          -173.74928283691406,
          -106.78916931152344,
          -233.9837188720703,
          -71.34528350830078,
          -176.22421264648438,
          -79.72710418701172,
          -185.6110076904297,
          -17.0479679107666,
          -54.49222946166992,
          -115.92919158935547,
          -144.54066467285156,
          -225.69859313964844,
          -185.603515625,
          127.10983276367188,
          -243.6929168701172,
          83.86994934082031,
          -250.1980438232422,
          -74.37238311767578,
          -72.26178741455078,
          -53.37731170654297,
          -68.8526840209961,
          -84.96251678466797,
          -69.259521484375,
          55.8513069152832,
          -32.57036209106445,
          -2.298524856567383,
          -21.600923538208008,
          -81.24825286865234,
          -71.57524871826172,
          -150.08670043945312,
          -163.4431610107422,
          -88.07542419433594,
          167.24346923828125,
          -87.05307006835938,
          -113.80084228515625,
          -54.39474868774414,
          -60.727996826171875,
          -152.2944793701172,
          114.15756225585938,
          -97.0842056274414,
          33.70674514770508,
          153.7259063720703,
          31.01707649230957,
          74.77100372314453,
          -101.0537109375,
          43.935150146484375,
          -116.97296905517578,
          -162.79649353027344,
          -143.25282287597656,
          -100.473876953125,
          -222.5834503173828,
          -40.48101806640625,
          -66.37760925292969,
          -90.3801040649414,
          1.636710524559021,
          -94.7607192993164,
          40.4177360534668,
          15.475374221801758,
          -40.184391021728516,
          -73.50457000732422,
          -201.92791748046875,
          -65.64653015136719,
          -152.7445526123047,
          -53.62207794189453,
          -58.722984313964844,
          -190.40452575683594,
          -37.34296417236328,
          -13.366275787353516,
          -146.72901916503906,
          52.44863510131836,
          45.27742385864258,
          -166.65428161621094,
          -171.5299835205078,
          -65.54816436767578,
          -80.39745330810547,
          -23.918289184570312,
          -45.44039535522461,
          -50.082733154296875,
          -201.90060424804688,
          -120.98345184326172,
          -57.094268798828125,
          30.15707015991211,
          -21.04433250427246,
          52.147552490234375,
          -0.9474391341209412,
          24.209306716918945,
          -87.62667083740234,
          -82.40465545654297,
          30.549962997436523,
          -7.498915195465088,
          -23.016096115112305,
          -90.01786804199219,
          -59.909889221191406,
          -128.267822265625,
          -66.29540252685547,
          -72.08798217773438,
          -112.57368469238281,
          -167.80117797851562,
          -157.06321716308594,
          -185.84814453125,
          43.9333381652832,
          16.393722534179688,
          23.69328498840332,
          -22.283876419067383,
          8.929169654846191,
          75.09735870361328,
          102.97115325927734,
          -185.01405334472656,
          0.8126084804534912,
          -116.6192398071289,
          59.775474548339844,
          -153.7615966796875,
          81.05401611328125,
          -70.19599151611328,
          -48.21195983886719,
          -177.708740234375,
          -125.056640625,
          -135.54269409179688,
          -65.8051528930664,
          -61.81425857543945,
          -114.07852935791016,
          -14.68147087097168
         ],
         "xbins": {
          "end": 183.28164672851562,
          "size": 1,
          "start": -274.4621276855469
         }
        }
       ],
       "layout": {
        "bargap": 0.2,
        "template": {
         "data": {
          "bar": [
           {
            "error_x": {
             "color": "#2a3f5f"
            },
            "error_y": {
             "color": "#2a3f5f"
            },
            "marker": {
             "line": {
              "color": "#E5ECF6",
              "width": 0.5
             }
            },
            "type": "bar"
           }
          ],
          "barpolar": [
           {
            "marker": {
             "line": {
              "color": "#E5ECF6",
              "width": 0.5
             }
            },
            "type": "barpolar"
           }
          ],
          "carpet": [
           {
            "aaxis": {
             "endlinecolor": "#2a3f5f",
             "gridcolor": "white",
             "linecolor": "white",
             "minorgridcolor": "white",
             "startlinecolor": "#2a3f5f"
            },
            "baxis": {
             "endlinecolor": "#2a3f5f",
             "gridcolor": "white",
             "linecolor": "white",
             "minorgridcolor": "white",
             "startlinecolor": "#2a3f5f"
            },
            "type": "carpet"
           }
          ],
          "choropleth": [
           {
            "colorbar": {
             "outlinewidth": 0,
             "ticks": ""
            },
            "type": "choropleth"
           }
          ],
          "contour": [
           {
            "colorbar": {
             "outlinewidth": 0,
             "ticks": ""
            },
            "colorscale": [
             [
              0,
              "#0d0887"
             ],
             [
              0.1111111111111111,
              "#46039f"
             ],
             [
              0.2222222222222222,
              "#7201a8"
             ],
             [
              0.3333333333333333,
              "#9c179e"
             ],
             [
              0.4444444444444444,
              "#bd3786"
             ],
             [
              0.5555555555555556,
              "#d8576b"
             ],
             [
              0.6666666666666666,
              "#ed7953"
             ],
             [
              0.7777777777777778,
              "#fb9f3a"
             ],
             [
              0.8888888888888888,
              "#fdca26"
             ],
             [
              1,
              "#f0f921"
             ]
            ],
            "type": "contour"
           }
          ],
          "contourcarpet": [
           {
            "colorbar": {
             "outlinewidth": 0,
             "ticks": ""
            },
            "type": "contourcarpet"
           }
          ],
          "heatmap": [
           {
            "colorbar": {
             "outlinewidth": 0,
             "ticks": ""
            },
            "colorscale": [
             [
              0,
              "#0d0887"
             ],
             [
              0.1111111111111111,
              "#46039f"
             ],
             [
              0.2222222222222222,
              "#7201a8"
             ],
             [
              0.3333333333333333,
              "#9c179e"
             ],
             [
              0.4444444444444444,
              "#bd3786"
             ],
             [
              0.5555555555555556,
              "#d8576b"
             ],
             [
              0.6666666666666666,
              "#ed7953"
             ],
             [
              0.7777777777777778,
              "#fb9f3a"
             ],
             [
              0.8888888888888888,
              "#fdca26"
             ],
             [
              1,
              "#f0f921"
             ]
            ],
            "type": "heatmap"
           }
          ],
          "heatmapgl": [
           {
            "colorbar": {
             "outlinewidth": 0,
             "ticks": ""
            },
            "colorscale": [
             [
              0,
              "#0d0887"
             ],
             [
              0.1111111111111111,
              "#46039f"
             ],
             [
              0.2222222222222222,
              "#7201a8"
             ],
             [
              0.3333333333333333,
              "#9c179e"
             ],
             [
              0.4444444444444444,
              "#bd3786"
             ],
             [
              0.5555555555555556,
              "#d8576b"
             ],
             [
              0.6666666666666666,
              "#ed7953"
             ],
             [
              0.7777777777777778,
              "#fb9f3a"
             ],
             [
              0.8888888888888888,
              "#fdca26"
             ],
             [
              1,
              "#f0f921"
             ]
            ],
            "type": "heatmapgl"
           }
          ],
          "histogram": [
           {
            "marker": {
             "colorbar": {
              "outlinewidth": 0,
              "ticks": ""
             }
            },
            "type": "histogram"
           }
          ],
          "histogram2d": [
           {
            "colorbar": {
             "outlinewidth": 0,
             "ticks": ""
            },
            "colorscale": [
             [
              0,
              "#0d0887"
             ],
             [
              0.1111111111111111,
              "#46039f"
             ],
             [
              0.2222222222222222,
              "#7201a8"
             ],
             [
              0.3333333333333333,
              "#9c179e"
             ],
             [
              0.4444444444444444,
              "#bd3786"
             ],
             [
              0.5555555555555556,
              "#d8576b"
             ],
             [
              0.6666666666666666,
              "#ed7953"
             ],
             [
              0.7777777777777778,
              "#fb9f3a"
             ],
             [
              0.8888888888888888,
              "#fdca26"
             ],
             [
              1,
              "#f0f921"
             ]
            ],
            "type": "histogram2d"
           }
          ],
          "histogram2dcontour": [
           {
            "colorbar": {
             "outlinewidth": 0,
             "ticks": ""
            },
            "colorscale": [
             [
              0,
              "#0d0887"
             ],
             [
              0.1111111111111111,
              "#46039f"
             ],
             [
              0.2222222222222222,
              "#7201a8"
             ],
             [
              0.3333333333333333,
              "#9c179e"
             ],
             [
              0.4444444444444444,
              "#bd3786"
             ],
             [
              0.5555555555555556,
              "#d8576b"
             ],
             [
              0.6666666666666666,
              "#ed7953"
             ],
             [
              0.7777777777777778,
              "#fb9f3a"
             ],
             [
              0.8888888888888888,
              "#fdca26"
             ],
             [
              1,
              "#f0f921"
             ]
            ],
            "type": "histogram2dcontour"
           }
          ],
          "mesh3d": [
           {
            "colorbar": {
             "outlinewidth": 0,
             "ticks": ""
            },
            "type": "mesh3d"
           }
          ],
          "parcoords": [
           {
            "line": {
             "colorbar": {
              "outlinewidth": 0,
              "ticks": ""
             }
            },
            "type": "parcoords"
           }
          ],
          "pie": [
           {
            "automargin": true,
            "type": "pie"
           }
          ],
          "scatter": [
           {
            "marker": {
             "colorbar": {
              "outlinewidth": 0,
              "ticks": ""
             }
            },
            "type": "scatter"
           }
          ],
          "scatter3d": [
           {
            "line": {
             "colorbar": {
              "outlinewidth": 0,
              "ticks": ""
             }
            },
            "marker": {
             "colorbar": {
              "outlinewidth": 0,
              "ticks": ""
             }
            },
            "type": "scatter3d"
           }
          ],
          "scattercarpet": [
           {
            "marker": {
             "colorbar": {
              "outlinewidth": 0,
              "ticks": ""
             }
            },
            "type": "scattercarpet"
           }
          ],
          "scattergeo": [
           {
            "marker": {
             "colorbar": {
              "outlinewidth": 0,
              "ticks": ""
             }
            },
            "type": "scattergeo"
           }
          ],
          "scattergl": [
           {
            "marker": {
             "colorbar": {
              "outlinewidth": 0,
              "ticks": ""
             }
            },
            "type": "scattergl"
           }
          ],
          "scattermapbox": [
           {
            "marker": {
             "colorbar": {
              "outlinewidth": 0,
              "ticks": ""
             }
            },
            "type": "scattermapbox"
           }
          ],
          "scatterpolar": [
           {
            "marker": {
             "colorbar": {
              "outlinewidth": 0,
              "ticks": ""
             }
            },
            "type": "scatterpolar"
           }
          ],
          "scatterpolargl": [
           {
            "marker": {
             "colorbar": {
              "outlinewidth": 0,
              "ticks": ""
             }
            },
            "type": "scatterpolargl"
           }
          ],
          "scatterternary": [
           {
            "marker": {
             "colorbar": {
              "outlinewidth": 0,
              "ticks": ""
             }
            },
            "type": "scatterternary"
           }
          ],
          "surface": [
           {
            "colorbar": {
             "outlinewidth": 0,
             "ticks": ""
            },
            "colorscale": [
             [
              0,
              "#0d0887"
             ],
             [
              0.1111111111111111,
              "#46039f"
             ],
             [
              0.2222222222222222,
              "#7201a8"
             ],
             [
              0.3333333333333333,
              "#9c179e"
             ],
             [
              0.4444444444444444,
              "#bd3786"
             ],
             [
              0.5555555555555556,
              "#d8576b"
             ],
             [
              0.6666666666666666,
              "#ed7953"
             ],
             [
              0.7777777777777778,
              "#fb9f3a"
             ],
             [
              0.8888888888888888,
              "#fdca26"
             ],
             [
              1,
              "#f0f921"
             ]
            ],
            "type": "surface"
           }
          ],
          "table": [
           {
            "cells": {
             "fill": {
              "color": "#EBF0F8"
             },
             "line": {
              "color": "white"
             }
            },
            "header": {
             "fill": {
              "color": "#C8D4E3"
             },
             "line": {
              "color": "white"
             }
            },
            "type": "table"
           }
          ]
         },
         "layout": {
          "annotationdefaults": {
           "arrowcolor": "#2a3f5f",
           "arrowhead": 0,
           "arrowwidth": 1
          },
          "coloraxis": {
           "colorbar": {
            "outlinewidth": 0,
            "ticks": ""
           }
          },
          "colorscale": {
           "diverging": [
            [
             0,
             "#8e0152"
            ],
            [
             0.1,
             "#c51b7d"
            ],
            [
             0.2,
             "#de77ae"
            ],
            [
             0.3,
             "#f1b6da"
            ],
            [
             0.4,
             "#fde0ef"
            ],
            [
             0.5,
             "#f7f7f7"
            ],
            [
             0.6,
             "#e6f5d0"
            ],
            [
             0.7,
             "#b8e186"
            ],
            [
             0.8,
             "#7fbc41"
            ],
            [
             0.9,
             "#4d9221"
            ],
            [
             1,
             "#276419"
            ]
           ],
           "sequential": [
            [
             0,
             "#0d0887"
            ],
            [
             0.1111111111111111,
             "#46039f"
            ],
            [
             0.2222222222222222,
             "#7201a8"
            ],
            [
             0.3333333333333333,
             "#9c179e"
            ],
            [
             0.4444444444444444,
             "#bd3786"
            ],
            [
             0.5555555555555556,
             "#d8576b"
            ],
            [
             0.6666666666666666,
             "#ed7953"
            ],
            [
             0.7777777777777778,
             "#fb9f3a"
            ],
            [
             0.8888888888888888,
             "#fdca26"
            ],
            [
             1,
             "#f0f921"
            ]
           ],
           "sequentialminus": [
            [
             0,
             "#0d0887"
            ],
            [
             0.1111111111111111,
             "#46039f"
            ],
            [
             0.2222222222222222,
             "#7201a8"
            ],
            [
             0.3333333333333333,
             "#9c179e"
            ],
            [
             0.4444444444444444,
             "#bd3786"
            ],
            [
             0.5555555555555556,
             "#d8576b"
            ],
            [
             0.6666666666666666,
             "#ed7953"
            ],
            [
             0.7777777777777778,
             "#fb9f3a"
            ],
            [
             0.8888888888888888,
             "#fdca26"
            ],
            [
             1,
             "#f0f921"
            ]
           ]
          },
          "colorway": [
           "#636efa",
           "#EF553B",
           "#00cc96",
           "#ab63fa",
           "#FFA15A",
           "#19d3f3",
           "#FF6692",
           "#B6E880",
           "#FF97FF",
           "#FECB52"
          ],
          "font": {
           "color": "#2a3f5f"
          },
          "geo": {
           "bgcolor": "white",
           "lakecolor": "white",
           "landcolor": "#E5ECF6",
           "showlakes": true,
           "showland": true,
           "subunitcolor": "white"
          },
          "hoverlabel": {
           "align": "left"
          },
          "hovermode": "closest",
          "mapbox": {
           "style": "light"
          },
          "paper_bgcolor": "white",
          "plot_bgcolor": "#E5ECF6",
          "polar": {
           "angularaxis": {
            "gridcolor": "white",
            "linecolor": "white",
            "ticks": ""
           },
           "bgcolor": "#E5ECF6",
           "radialaxis": {
            "gridcolor": "white",
            "linecolor": "white",
            "ticks": ""
           }
          },
          "scene": {
           "xaxis": {
            "backgroundcolor": "#E5ECF6",
            "gridcolor": "white",
            "gridwidth": 2,
            "linecolor": "white",
            "showbackground": true,
            "ticks": "",
            "zerolinecolor": "white"
           },
           "yaxis": {
            "backgroundcolor": "#E5ECF6",
            "gridcolor": "white",
            "gridwidth": 2,
            "linecolor": "white",
            "showbackground": true,
            "ticks": "",
            "zerolinecolor": "white"
           },
           "zaxis": {
            "backgroundcolor": "#E5ECF6",
            "gridcolor": "white",
            "gridwidth": 2,
            "linecolor": "white",
            "showbackground": true,
            "ticks": "",
            "zerolinecolor": "white"
           }
          },
          "shapedefaults": {
           "line": {
            "color": "#2a3f5f"
           }
          },
          "ternary": {
           "aaxis": {
            "gridcolor": "white",
            "linecolor": "white",
            "ticks": ""
           },
           "baxis": {
            "gridcolor": "white",
            "linecolor": "white",
            "ticks": ""
           },
           "bgcolor": "#E5ECF6",
           "caxis": {
            "gridcolor": "white",
            "linecolor": "white",
            "ticks": ""
           }
          },
          "title": {
           "x": 0.05
          },
          "xaxis": {
           "automargin": true,
           "gridcolor": "white",
           "linecolor": "white",
           "ticks": "",
           "title": {
            "standoff": 15
           },
           "zerolinecolor": "white",
           "zerolinewidth": 2
          },
          "yaxis": {
           "automargin": true,
           "gridcolor": "white",
           "linecolor": "white",
           "ticks": "",
           "title": {
            "standoff": 15
           },
           "zerolinecolor": "white",
           "zerolinewidth": 2
          }
         }
        },
        "title": {
         "text": "Distribution of the output of layer lin1"
        },
        "xaxis": {
         "title": {
          "text": "Output of Layer lin1"
         }
        },
        "yaxis": {
         "title": {
          "text": "Count"
         }
        }
       }
      },
      "text/html": [
       "<div>\n",
       "        \n",
       "        \n",
       "            <div id=\"b3538f36-e834-4c40-ab62-9ff1869c761b\" class=\"plotly-graph-div\" style=\"height:525px; width:100%;\"></div>\n",
       "            <script type=\"text/javascript\">\n",
       "                require([\"plotly\"], function(Plotly) {\n",
       "                    window.PLOTLYENV=window.PLOTLYENV || {};\n",
       "                    \n",
       "                if (document.getElementById(\"b3538f36-e834-4c40-ab62-9ff1869c761b\")) {\n",
       "                    Plotly.newPlot(\n",
       "                        'b3538f36-e834-4c40-ab62-9ff1869c761b',\n",
       "                        [{\"marker\": {\"color\": \"#db0000\"}, \"name\": \"Layer Output\", \"type\": \"histogram\", \"x\": [-6.484494686126709, -62.494140625, -39.87909698486328, -58.758705139160156, -145.3582763671875, 94.1871109008789, -59.192474365234375, -128.8968505859375, -48.407012939453125, -168.10203552246094, -144.88267517089844, -23.984912872314453, -142.87890625, -45.71794128417969, -149.28021240234375, -133.86117553710938, 102.23994445800781, -19.031932830810547, 59.26152801513672, 49.61713409423828, -41.075843811035156, -68.67508697509766, -147.6753692626953, 136.46450805664062, -85.06758880615234, -207.7184600830078, -23.974531173706055, -114.14962768554688, 51.650875091552734, -55.875221252441406, -2.4411380290985107, 29.573257446289062, -30.55325698852539, -180.57489013671875, -185.1664276123047, -88.87650299072266, -92.37116241455078, -73.51995849609375, -138.03567504882812, 89.03253173828125, 107.49553680419922, 61.838134765625, -159.22042846679688, -10.715059280395508, -61.53654861450195, 18.60784339904785, -274.4621276855469, -75.08172607421875, -254.5451202392578, -132.08006286621094, -62.50503158569336, -175.94418334960938, 65.3719482421875, -54.656898498535156, 17.95261001586914, -63.77052307128906, -57.65624237060547, -170.019775390625, 141.82290649414062, 98.6380615234375, -124.59786987304688, -86.68766784667969, -0.37235933542251587, -86.66767120361328, -126.0745620727539, -233.4475555419922, 49.797576904296875, 77.9063491821289, 36.1226806640625, -173.13609313964844, -125.57302856445312, -144.48464965820312, -91.30940246582031, 31.697221755981445, -200.5984344482422, -50.15508270263672, 135.1803741455078, -191.3169708251953, -48.29911422729492, 36.384002685546875, -45.94989013671875, 36.10312271118164, 87.63385772705078, -135.3313751220703, -75.24711608886719, 6.9504899978637695, 69.93883514404297, -95.42156982421875, -78.39446258544922, -59.068572998046875, -70.70660400390625, -63.12623596191406, -192.69297790527344, -66.83524322509766, -44.317745208740234, -80.41487884521484, -113.92223358154297, -1.398482084274292, -15.968574523925781, -29.642126083374023, -183.12301635742188, -100.55487060546875, -197.99484252929688, -142.64111328125, 53.078922271728516, -151.2332000732422, -7.359893798828125, 58.86333465576172, -127.15120697021484, -50.405548095703125, -0.9032444953918457, -248.7899627685547, -126.166259765625, -131.35763549804688, 12.44281005859375, -64.39681243896484, -137.2032012939453, -139.10464477539062, 84.79285430908203, -58.87299728393555, -182.65060424804688, -21.97860336303711, -127.33900451660156, 14.481293678283691, -137.9816436767578, -110.7152099609375, -7.1909565925598145, 85.71817016601562, -52.44196319580078, 10.105890274047852, 149.6618194580078, 11.613794326782227, -25.694238662719727, -27.336292266845703, -25.296789169311523, -18.08769989013672, -120.98011779785156, -63.489036560058594, -110.46424865722656, -58.79159164428711, -124.04930114746094, -22.65447235107422, -10.708110809326172, -41.587100982666016, 183.28164672851562, -95.1522445678711, -134.71681213378906, -159.59359741210938, -94.16509246826172, -21.618289947509766, -35.7349853515625, 4.090935707092285, -211.61659240722656, 71.77983856201172, -206.7371063232422, 10.404461860656738, -74.51749420166016, -98.5613784790039, -184.26271057128906, -189.30348205566406, -154.7796630859375, 107.79118347167969, -127.88463592529297, -23.743886947631836, 15.6644287109375, -151.23963928222656, -67.38320922851562, -101.21404266357422, -119.68353271484375, -102.99452209472656, -102.08324432373047, 124.5854263305664, -107.38542175292969, -184.83834838867188, -157.29966735839844, -181.09521484375, -186.88499450683594, -48.58079528808594, -173.74928283691406, -106.78916931152344, -233.9837188720703, -71.34528350830078, -176.22421264648438, -79.72710418701172, -185.6110076904297, -17.0479679107666, -54.49222946166992, -115.92919158935547, -144.54066467285156, -225.69859313964844, -185.603515625, 127.10983276367188, -243.6929168701172, 83.86994934082031, -250.1980438232422, -74.37238311767578, -72.26178741455078, -53.37731170654297, -68.8526840209961, -84.96251678466797, -69.259521484375, 55.8513069152832, -32.57036209106445, -2.298524856567383, -21.600923538208008, -81.24825286865234, -71.57524871826172, -150.08670043945312, -163.4431610107422, -88.07542419433594, 167.24346923828125, -87.05307006835938, -113.80084228515625, -54.39474868774414, -60.727996826171875, -152.2944793701172, 114.15756225585938, -97.0842056274414, 33.70674514770508, 153.7259063720703, 31.01707649230957, 74.77100372314453, -101.0537109375, 43.935150146484375, -116.97296905517578, -162.79649353027344, -143.25282287597656, -100.473876953125, -222.5834503173828, -40.48101806640625, -66.37760925292969, -90.3801040649414, 1.636710524559021, -94.7607192993164, 40.4177360534668, 15.475374221801758, -40.184391021728516, -73.50457000732422, -201.92791748046875, -65.64653015136719, -152.7445526123047, -53.62207794189453, -58.722984313964844, -190.40452575683594, -37.34296417236328, -13.366275787353516, -146.72901916503906, 52.44863510131836, 45.27742385864258, -166.65428161621094, -171.5299835205078, -65.54816436767578, -80.39745330810547, -23.918289184570312, -45.44039535522461, -50.082733154296875, -201.90060424804688, -120.98345184326172, -57.094268798828125, 30.15707015991211, -21.04433250427246, 52.147552490234375, -0.9474391341209412, 24.209306716918945, -87.62667083740234, -82.40465545654297, 30.549962997436523, -7.498915195465088, -23.016096115112305, -90.01786804199219, -59.909889221191406, -128.267822265625, -66.29540252685547, -72.08798217773438, -112.57368469238281, -167.80117797851562, -157.06321716308594, -185.84814453125, 43.9333381652832, 16.393722534179688, 23.69328498840332, -22.283876419067383, 8.929169654846191, 75.09735870361328, 102.97115325927734, -185.01405334472656, 0.8126084804534912, -116.6192398071289, 59.775474548339844, -153.7615966796875, 81.05401611328125, -70.19599151611328, -48.21195983886719, -177.708740234375, -125.056640625, -135.54269409179688, -65.8051528930664, -61.81425857543945, -114.07852935791016, -14.68147087097168], \"xbins\": {\"end\": 183.28164672851562, \"size\": 1, \"start\": -274.4621276855469}}],\n",
       "                        {\"bargap\": 0.2, \"template\": {\"data\": {\"bar\": [{\"error_x\": {\"color\": \"#2a3f5f\"}, \"error_y\": {\"color\": \"#2a3f5f\"}, \"marker\": {\"line\": {\"color\": \"#E5ECF6\", \"width\": 0.5}}, \"type\": \"bar\"}], \"barpolar\": [{\"marker\": {\"line\": {\"color\": \"#E5ECF6\", \"width\": 0.5}}, \"type\": \"barpolar\"}], \"carpet\": [{\"aaxis\": {\"endlinecolor\": \"#2a3f5f\", \"gridcolor\": \"white\", \"linecolor\": \"white\", \"minorgridcolor\": \"white\", \"startlinecolor\": \"#2a3f5f\"}, \"baxis\": {\"endlinecolor\": \"#2a3f5f\", \"gridcolor\": \"white\", \"linecolor\": \"white\", \"minorgridcolor\": \"white\", \"startlinecolor\": \"#2a3f5f\"}, \"type\": \"carpet\"}], \"choropleth\": [{\"colorbar\": {\"outlinewidth\": 0, \"ticks\": \"\"}, \"type\": \"choropleth\"}], \"contour\": [{\"colorbar\": {\"outlinewidth\": 0, \"ticks\": \"\"}, \"colorscale\": [[0.0, \"#0d0887\"], [0.1111111111111111, \"#46039f\"], [0.2222222222222222, \"#7201a8\"], [0.3333333333333333, \"#9c179e\"], [0.4444444444444444, \"#bd3786\"], [0.5555555555555556, \"#d8576b\"], [0.6666666666666666, \"#ed7953\"], [0.7777777777777778, \"#fb9f3a\"], [0.8888888888888888, \"#fdca26\"], [1.0, \"#f0f921\"]], \"type\": \"contour\"}], \"contourcarpet\": [{\"colorbar\": {\"outlinewidth\": 0, \"ticks\": \"\"}, \"type\": \"contourcarpet\"}], \"heatmap\": [{\"colorbar\": {\"outlinewidth\": 0, \"ticks\": \"\"}, \"colorscale\": [[0.0, \"#0d0887\"], [0.1111111111111111, \"#46039f\"], [0.2222222222222222, \"#7201a8\"], [0.3333333333333333, \"#9c179e\"], [0.4444444444444444, \"#bd3786\"], [0.5555555555555556, \"#d8576b\"], [0.6666666666666666, \"#ed7953\"], [0.7777777777777778, \"#fb9f3a\"], [0.8888888888888888, \"#fdca26\"], [1.0, \"#f0f921\"]], \"type\": \"heatmap\"}], \"heatmapgl\": [{\"colorbar\": {\"outlinewidth\": 0, \"ticks\": \"\"}, \"colorscale\": [[0.0, \"#0d0887\"], [0.1111111111111111, \"#46039f\"], [0.2222222222222222, \"#7201a8\"], [0.3333333333333333, \"#9c179e\"], [0.4444444444444444, \"#bd3786\"], [0.5555555555555556, \"#d8576b\"], [0.6666666666666666, \"#ed7953\"], [0.7777777777777778, \"#fb9f3a\"], [0.8888888888888888, \"#fdca26\"], [1.0, \"#f0f921\"]], \"type\": \"heatmapgl\"}], \"histogram\": [{\"marker\": {\"colorbar\": {\"outlinewidth\": 0, \"ticks\": \"\"}}, \"type\": \"histogram\"}], \"histogram2d\": [{\"colorbar\": {\"outlinewidth\": 0, \"ticks\": \"\"}, \"colorscale\": [[0.0, \"#0d0887\"], [0.1111111111111111, \"#46039f\"], [0.2222222222222222, \"#7201a8\"], [0.3333333333333333, \"#9c179e\"], [0.4444444444444444, \"#bd3786\"], [0.5555555555555556, \"#d8576b\"], [0.6666666666666666, \"#ed7953\"], [0.7777777777777778, \"#fb9f3a\"], [0.8888888888888888, \"#fdca26\"], [1.0, \"#f0f921\"]], \"type\": \"histogram2d\"}], \"histogram2dcontour\": [{\"colorbar\": {\"outlinewidth\": 0, \"ticks\": \"\"}, \"colorscale\": [[0.0, \"#0d0887\"], [0.1111111111111111, \"#46039f\"], [0.2222222222222222, \"#7201a8\"], [0.3333333333333333, \"#9c179e\"], [0.4444444444444444, \"#bd3786\"], [0.5555555555555556, \"#d8576b\"], [0.6666666666666666, \"#ed7953\"], [0.7777777777777778, \"#fb9f3a\"], [0.8888888888888888, \"#fdca26\"], [1.0, \"#f0f921\"]], \"type\": \"histogram2dcontour\"}], \"mesh3d\": [{\"colorbar\": {\"outlinewidth\": 0, \"ticks\": \"\"}, \"type\": \"mesh3d\"}], \"parcoords\": [{\"line\": {\"colorbar\": {\"outlinewidth\": 0, \"ticks\": \"\"}}, \"type\": \"parcoords\"}], \"pie\": [{\"automargin\": true, \"type\": \"pie\"}], \"scatter\": [{\"marker\": {\"colorbar\": {\"outlinewidth\": 0, \"ticks\": \"\"}}, \"type\": \"scatter\"}], \"scatter3d\": [{\"line\": {\"colorbar\": {\"outlinewidth\": 0, \"ticks\": \"\"}}, \"marker\": {\"colorbar\": {\"outlinewidth\": 0, \"ticks\": \"\"}}, \"type\": \"scatter3d\"}], \"scattercarpet\": [{\"marker\": {\"colorbar\": {\"outlinewidth\": 0, \"ticks\": \"\"}}, \"type\": \"scattercarpet\"}], \"scattergeo\": [{\"marker\": {\"colorbar\": {\"outlinewidth\": 0, \"ticks\": \"\"}}, \"type\": \"scattergeo\"}], \"scattergl\": [{\"marker\": {\"colorbar\": {\"outlinewidth\": 0, \"ticks\": \"\"}}, \"type\": \"scattergl\"}], \"scattermapbox\": [{\"marker\": {\"colorbar\": {\"outlinewidth\": 0, \"ticks\": \"\"}}, \"type\": \"scattermapbox\"}], \"scatterpolar\": [{\"marker\": {\"colorbar\": {\"outlinewidth\": 0, \"ticks\": \"\"}}, \"type\": \"scatterpolar\"}], \"scatterpolargl\": [{\"marker\": {\"colorbar\": {\"outlinewidth\": 0, \"ticks\": \"\"}}, \"type\": \"scatterpolargl\"}], \"scatterternary\": [{\"marker\": {\"colorbar\": {\"outlinewidth\": 0, \"ticks\": \"\"}}, \"type\": \"scatterternary\"}], \"surface\": [{\"colorbar\": {\"outlinewidth\": 0, \"ticks\": \"\"}, \"colorscale\": [[0.0, \"#0d0887\"], [0.1111111111111111, \"#46039f\"], [0.2222222222222222, \"#7201a8\"], [0.3333333333333333, \"#9c179e\"], [0.4444444444444444, \"#bd3786\"], [0.5555555555555556, \"#d8576b\"], [0.6666666666666666, \"#ed7953\"], [0.7777777777777778, \"#fb9f3a\"], [0.8888888888888888, \"#fdca26\"], [1.0, \"#f0f921\"]], \"type\": \"surface\"}], \"table\": [{\"cells\": {\"fill\": {\"color\": \"#EBF0F8\"}, \"line\": {\"color\": \"white\"}}, \"header\": {\"fill\": {\"color\": \"#C8D4E3\"}, \"line\": {\"color\": \"white\"}}, \"type\": \"table\"}]}, \"layout\": {\"annotationdefaults\": {\"arrowcolor\": \"#2a3f5f\", \"arrowhead\": 0, \"arrowwidth\": 1}, \"coloraxis\": {\"colorbar\": {\"outlinewidth\": 0, \"ticks\": \"\"}}, \"colorscale\": {\"diverging\": [[0, \"#8e0152\"], [0.1, \"#c51b7d\"], [0.2, \"#de77ae\"], [0.3, \"#f1b6da\"], [0.4, \"#fde0ef\"], [0.5, \"#f7f7f7\"], [0.6, \"#e6f5d0\"], [0.7, \"#b8e186\"], [0.8, \"#7fbc41\"], [0.9, \"#4d9221\"], [1, \"#276419\"]], \"sequential\": [[0.0, \"#0d0887\"], [0.1111111111111111, \"#46039f\"], [0.2222222222222222, \"#7201a8\"], [0.3333333333333333, \"#9c179e\"], [0.4444444444444444, \"#bd3786\"], [0.5555555555555556, \"#d8576b\"], [0.6666666666666666, \"#ed7953\"], [0.7777777777777778, \"#fb9f3a\"], [0.8888888888888888, \"#fdca26\"], [1.0, \"#f0f921\"]], \"sequentialminus\": [[0.0, \"#0d0887\"], [0.1111111111111111, \"#46039f\"], [0.2222222222222222, \"#7201a8\"], [0.3333333333333333, \"#9c179e\"], [0.4444444444444444, \"#bd3786\"], [0.5555555555555556, \"#d8576b\"], [0.6666666666666666, \"#ed7953\"], [0.7777777777777778, \"#fb9f3a\"], [0.8888888888888888, \"#fdca26\"], [1.0, \"#f0f921\"]]}, \"colorway\": [\"#636efa\", \"#EF553B\", \"#00cc96\", \"#ab63fa\", \"#FFA15A\", \"#19d3f3\", \"#FF6692\", \"#B6E880\", \"#FF97FF\", \"#FECB52\"], \"font\": {\"color\": \"#2a3f5f\"}, \"geo\": {\"bgcolor\": \"white\", \"lakecolor\": \"white\", \"landcolor\": \"#E5ECF6\", \"showlakes\": true, \"showland\": true, \"subunitcolor\": \"white\"}, \"hoverlabel\": {\"align\": \"left\"}, \"hovermode\": \"closest\", \"mapbox\": {\"style\": \"light\"}, \"paper_bgcolor\": \"white\", \"plot_bgcolor\": \"#E5ECF6\", \"polar\": {\"angularaxis\": {\"gridcolor\": \"white\", \"linecolor\": \"white\", \"ticks\": \"\"}, \"bgcolor\": \"#E5ECF6\", \"radialaxis\": {\"gridcolor\": \"white\", \"linecolor\": \"white\", \"ticks\": \"\"}}, \"scene\": {\"xaxis\": {\"backgroundcolor\": \"#E5ECF6\", \"gridcolor\": \"white\", \"gridwidth\": 2, \"linecolor\": \"white\", \"showbackground\": true, \"ticks\": \"\", \"zerolinecolor\": \"white\"}, \"yaxis\": {\"backgroundcolor\": \"#E5ECF6\", \"gridcolor\": \"white\", \"gridwidth\": 2, \"linecolor\": \"white\", \"showbackground\": true, \"ticks\": \"\", \"zerolinecolor\": \"white\"}, \"zaxis\": {\"backgroundcolor\": \"#E5ECF6\", \"gridcolor\": \"white\", \"gridwidth\": 2, \"linecolor\": \"white\", \"showbackground\": true, \"ticks\": \"\", \"zerolinecolor\": \"white\"}}, \"shapedefaults\": {\"line\": {\"color\": \"#2a3f5f\"}}, \"ternary\": {\"aaxis\": {\"gridcolor\": \"white\", \"linecolor\": \"white\", \"ticks\": \"\"}, \"baxis\": {\"gridcolor\": \"white\", \"linecolor\": \"white\", \"ticks\": \"\"}, \"bgcolor\": \"#E5ECF6\", \"caxis\": {\"gridcolor\": \"white\", \"linecolor\": \"white\", \"ticks\": \"\"}}, \"title\": {\"x\": 0.05}, \"xaxis\": {\"automargin\": true, \"gridcolor\": \"white\", \"linecolor\": \"white\", \"ticks\": \"\", \"title\": {\"standoff\": 15}, \"zerolinecolor\": \"white\", \"zerolinewidth\": 2}, \"yaxis\": {\"automargin\": true, \"gridcolor\": \"white\", \"linecolor\": \"white\", \"ticks\": \"\", \"title\": {\"standoff\": 15}, \"zerolinecolor\": \"white\", \"zerolinewidth\": 2}}}, \"title\": {\"text\": \"Distribution of the output of layer lin1\"}, \"xaxis\": {\"title\": {\"text\": \"Output of Layer lin1\"}}, \"yaxis\": {\"title\": {\"text\": \"Count\"}}},\n",
       "                        {\"responsive\": true}\n",
       "                    ).then(function(){\n",
       "                            \n",
       "var gd = document.getElementById('b3538f36-e834-4c40-ab62-9ff1869c761b');\n",
       "var x = new MutationObserver(function (mutations, observer) {{\n",
       "        var display = window.getComputedStyle(gd).display;\n",
       "        if (!display || display === 'none') {{\n",
       "            console.log([gd, 'removed!']);\n",
       "            Plotly.purge(gd);\n",
       "            observer.disconnect();\n",
       "        }}\n",
       "}});\n",
       "\n",
       "// Listen for the removal of the full notebook cells\n",
       "var notebookContainer = gd.closest('#notebook-container');\n",
       "if (notebookContainer) {{\n",
       "    x.observe(notebookContainer, {childList: true});\n",
       "}}\n",
       "\n",
       "// Listen for the clearing of the current output cell\n",
       "var outputEl = gd.closest('.output');\n",
       "if (outputEl) {{\n",
       "    x.observe(outputEl, {childList: true});\n",
       "}}\n",
       "\n",
       "                        })\n",
       "                };\n",
       "                });\n",
       "            </script>\n",
       "        </div>"
      ]
     },
     "metadata": {},
     "output_type": "display_data"
    },
    {
     "data": {
      "application/vnd.plotly.v1+json": {
       "config": {
        "linkText": "Export to plot.ly",
        "plotlyServerURL": "https://plot.ly",
        "showLink": false
       },
       "data": [
        {
         "marker": {
          "color": "#db0000"
         },
         "name": "Layer Output",
         "type": "histogram",
         "x": [
          11.301359176635742,
          32.312896728515625,
          -36.90418243408203,
          21.17239761352539,
          53.91326904296875,
          74.43798065185547,
          41.23036575317383,
          -156.63499450683594,
          58.57061767578125,
          2.4327709674835205,
          -31.028343200683594,
          -2.1402907371520996,
          -15.267867088317871,
          86.90653228759766,
          -1.9958747625350952,
          16.91573715209961,
          17.499584197998047,
          86.29466247558594,
          22.901470184326172,
          90.94538116455078,
          -36.18075942993164,
          16.958627700805664,
          -65.82647705078125,
          35.56206130981445,
          28.696435928344727,
          75.46931457519531,
          24.93007469177246,
          84.66539764404297,
          91.48226165771484,
          29.791601181030273,
          81.16722106933594,
          -4.575577735900879,
          -22.474401473999023,
          49.22431182861328,
          64.93480682373047,
          -56.00710678100586,
          28.431461334228516,
          -25.454130172729492,
          68.9679183959961,
          71.45932006835938,
          38.174983978271484,
          -12.538564682006836,
          59.78310012817383,
          -18.95954704284668,
          96.24063873291016,
          5.292727470397949,
          4.232202053070068,
          94.07858276367188,
          -11.905754089355469,
          55.50575256347656,
          -12.20255184173584,
          38.28638458251953,
          -77.33782196044922,
          52.48939895629883,
          -43.28588104248047,
          49.65792465209961,
          41.23572540283203,
          52.745967864990234,
          43.89120101928711,
          78.50700378417969,
          -28.899728775024414,
          59.00621795654297,
          -72.9522705078125,
          -73.85516357421875,
          59.28561019897461,
          70.52587890625,
          46.41029357910156,
          -53.23451232910156,
          -25.080657958984375,
          47.159027099609375,
          19.84285545349121,
          62.03423309326172,
          -7.60841178894043,
          72.2713394165039,
          -13.556124687194824,
          -20.695213317871094,
          80.15479278564453,
          -9.4109468460083,
          -44.18515396118164,
          17.158763885498047,
          -10.749871253967285,
          57.40079116821289,
          -61.19130325317383,
          35.040950775146484,
          83.4832534790039,
          -32.67903137207031,
          -217.24502563476562,
          -127.399658203125,
          48.03785705566406,
          62.84211730957031,
          45.972713470458984,
          23.045503616333008,
          87.61947631835938,
          -10.093549728393555,
          86.95134735107422,
          11.509648323059082,
          -29.73609733581543,
          68.20590209960938,
          -73.30927276611328,
          -17.76463508605957
         ],
         "xbins": {
          "end": 96.24063873291016,
          "size": 3,
          "start": -217.24502563476562
         }
        }
       ],
       "layout": {
        "bargap": 0.2,
        "template": {
         "data": {
          "bar": [
           {
            "error_x": {
             "color": "#2a3f5f"
            },
            "error_y": {
             "color": "#2a3f5f"
            },
            "marker": {
             "line": {
              "color": "#E5ECF6",
              "width": 0.5
             }
            },
            "type": "bar"
           }
          ],
          "barpolar": [
           {
            "marker": {
             "line": {
              "color": "#E5ECF6",
              "width": 0.5
             }
            },
            "type": "barpolar"
           }
          ],
          "carpet": [
           {
            "aaxis": {
             "endlinecolor": "#2a3f5f",
             "gridcolor": "white",
             "linecolor": "white",
             "minorgridcolor": "white",
             "startlinecolor": "#2a3f5f"
            },
            "baxis": {
             "endlinecolor": "#2a3f5f",
             "gridcolor": "white",
             "linecolor": "white",
             "minorgridcolor": "white",
             "startlinecolor": "#2a3f5f"
            },
            "type": "carpet"
           }
          ],
          "choropleth": [
           {
            "colorbar": {
             "outlinewidth": 0,
             "ticks": ""
            },
            "type": "choropleth"
           }
          ],
          "contour": [
           {
            "colorbar": {
             "outlinewidth": 0,
             "ticks": ""
            },
            "colorscale": [
             [
              0,
              "#0d0887"
             ],
             [
              0.1111111111111111,
              "#46039f"
             ],
             [
              0.2222222222222222,
              "#7201a8"
             ],
             [
              0.3333333333333333,
              "#9c179e"
             ],
             [
              0.4444444444444444,
              "#bd3786"
             ],
             [
              0.5555555555555556,
              "#d8576b"
             ],
             [
              0.6666666666666666,
              "#ed7953"
             ],
             [
              0.7777777777777778,
              "#fb9f3a"
             ],
             [
              0.8888888888888888,
              "#fdca26"
             ],
             [
              1,
              "#f0f921"
             ]
            ],
            "type": "contour"
           }
          ],
          "contourcarpet": [
           {
            "colorbar": {
             "outlinewidth": 0,
             "ticks": ""
            },
            "type": "contourcarpet"
           }
          ],
          "heatmap": [
           {
            "colorbar": {
             "outlinewidth": 0,
             "ticks": ""
            },
            "colorscale": [
             [
              0,
              "#0d0887"
             ],
             [
              0.1111111111111111,
              "#46039f"
             ],
             [
              0.2222222222222222,
              "#7201a8"
             ],
             [
              0.3333333333333333,
              "#9c179e"
             ],
             [
              0.4444444444444444,
              "#bd3786"
             ],
             [
              0.5555555555555556,
              "#d8576b"
             ],
             [
              0.6666666666666666,
              "#ed7953"
             ],
             [
              0.7777777777777778,
              "#fb9f3a"
             ],
             [
              0.8888888888888888,
              "#fdca26"
             ],
             [
              1,
              "#f0f921"
             ]
            ],
            "type": "heatmap"
           }
          ],
          "heatmapgl": [
           {
            "colorbar": {
             "outlinewidth": 0,
             "ticks": ""
            },
            "colorscale": [
             [
              0,
              "#0d0887"
             ],
             [
              0.1111111111111111,
              "#46039f"
             ],
             [
              0.2222222222222222,
              "#7201a8"
             ],
             [
              0.3333333333333333,
              "#9c179e"
             ],
             [
              0.4444444444444444,
              "#bd3786"
             ],
             [
              0.5555555555555556,
              "#d8576b"
             ],
             [
              0.6666666666666666,
              "#ed7953"
             ],
             [
              0.7777777777777778,
              "#fb9f3a"
             ],
             [
              0.8888888888888888,
              "#fdca26"
             ],
             [
              1,
              "#f0f921"
             ]
            ],
            "type": "heatmapgl"
           }
          ],
          "histogram": [
           {
            "marker": {
             "colorbar": {
              "outlinewidth": 0,
              "ticks": ""
             }
            },
            "type": "histogram"
           }
          ],
          "histogram2d": [
           {
            "colorbar": {
             "outlinewidth": 0,
             "ticks": ""
            },
            "colorscale": [
             [
              0,
              "#0d0887"
             ],
             [
              0.1111111111111111,
              "#46039f"
             ],
             [
              0.2222222222222222,
              "#7201a8"
             ],
             [
              0.3333333333333333,
              "#9c179e"
             ],
             [
              0.4444444444444444,
              "#bd3786"
             ],
             [
              0.5555555555555556,
              "#d8576b"
             ],
             [
              0.6666666666666666,
              "#ed7953"
             ],
             [
              0.7777777777777778,
              "#fb9f3a"
             ],
             [
              0.8888888888888888,
              "#fdca26"
             ],
             [
              1,
              "#f0f921"
             ]
            ],
            "type": "histogram2d"
           }
          ],
          "histogram2dcontour": [
           {
            "colorbar": {
             "outlinewidth": 0,
             "ticks": ""
            },
            "colorscale": [
             [
              0,
              "#0d0887"
             ],
             [
              0.1111111111111111,
              "#46039f"
             ],
             [
              0.2222222222222222,
              "#7201a8"
             ],
             [
              0.3333333333333333,
              "#9c179e"
             ],
             [
              0.4444444444444444,
              "#bd3786"
             ],
             [
              0.5555555555555556,
              "#d8576b"
             ],
             [
              0.6666666666666666,
              "#ed7953"
             ],
             [
              0.7777777777777778,
              "#fb9f3a"
             ],
             [
              0.8888888888888888,
              "#fdca26"
             ],
             [
              1,
              "#f0f921"
             ]
            ],
            "type": "histogram2dcontour"
           }
          ],
          "mesh3d": [
           {
            "colorbar": {
             "outlinewidth": 0,
             "ticks": ""
            },
            "type": "mesh3d"
           }
          ],
          "parcoords": [
           {
            "line": {
             "colorbar": {
              "outlinewidth": 0,
              "ticks": ""
             }
            },
            "type": "parcoords"
           }
          ],
          "pie": [
           {
            "automargin": true,
            "type": "pie"
           }
          ],
          "scatter": [
           {
            "marker": {
             "colorbar": {
              "outlinewidth": 0,
              "ticks": ""
             }
            },
            "type": "scatter"
           }
          ],
          "scatter3d": [
           {
            "line": {
             "colorbar": {
              "outlinewidth": 0,
              "ticks": ""
             }
            },
            "marker": {
             "colorbar": {
              "outlinewidth": 0,
              "ticks": ""
             }
            },
            "type": "scatter3d"
           }
          ],
          "scattercarpet": [
           {
            "marker": {
             "colorbar": {
              "outlinewidth": 0,
              "ticks": ""
             }
            },
            "type": "scattercarpet"
           }
          ],
          "scattergeo": [
           {
            "marker": {
             "colorbar": {
              "outlinewidth": 0,
              "ticks": ""
             }
            },
            "type": "scattergeo"
           }
          ],
          "scattergl": [
           {
            "marker": {
             "colorbar": {
              "outlinewidth": 0,
              "ticks": ""
             }
            },
            "type": "scattergl"
           }
          ],
          "scattermapbox": [
           {
            "marker": {
             "colorbar": {
              "outlinewidth": 0,
              "ticks": ""
             }
            },
            "type": "scattermapbox"
           }
          ],
          "scatterpolar": [
           {
            "marker": {
             "colorbar": {
              "outlinewidth": 0,
              "ticks": ""
             }
            },
            "type": "scatterpolar"
           }
          ],
          "scatterpolargl": [
           {
            "marker": {
             "colorbar": {
              "outlinewidth": 0,
              "ticks": ""
             }
            },
            "type": "scatterpolargl"
           }
          ],
          "scatterternary": [
           {
            "marker": {
             "colorbar": {
              "outlinewidth": 0,
              "ticks": ""
             }
            },
            "type": "scatterternary"
           }
          ],
          "surface": [
           {
            "colorbar": {
             "outlinewidth": 0,
             "ticks": ""
            },
            "colorscale": [
             [
              0,
              "#0d0887"
             ],
             [
              0.1111111111111111,
              "#46039f"
             ],
             [
              0.2222222222222222,
              "#7201a8"
             ],
             [
              0.3333333333333333,
              "#9c179e"
             ],
             [
              0.4444444444444444,
              "#bd3786"
             ],
             [
              0.5555555555555556,
              "#d8576b"
             ],
             [
              0.6666666666666666,
              "#ed7953"
             ],
             [
              0.7777777777777778,
              "#fb9f3a"
             ],
             [
              0.8888888888888888,
              "#fdca26"
             ],
             [
              1,
              "#f0f921"
             ]
            ],
            "type": "surface"
           }
          ],
          "table": [
           {
            "cells": {
             "fill": {
              "color": "#EBF0F8"
             },
             "line": {
              "color": "white"
             }
            },
            "header": {
             "fill": {
              "color": "#C8D4E3"
             },
             "line": {
              "color": "white"
             }
            },
            "type": "table"
           }
          ]
         },
         "layout": {
          "annotationdefaults": {
           "arrowcolor": "#2a3f5f",
           "arrowhead": 0,
           "arrowwidth": 1
          },
          "coloraxis": {
           "colorbar": {
            "outlinewidth": 0,
            "ticks": ""
           }
          },
          "colorscale": {
           "diverging": [
            [
             0,
             "#8e0152"
            ],
            [
             0.1,
             "#c51b7d"
            ],
            [
             0.2,
             "#de77ae"
            ],
            [
             0.3,
             "#f1b6da"
            ],
            [
             0.4,
             "#fde0ef"
            ],
            [
             0.5,
             "#f7f7f7"
            ],
            [
             0.6,
             "#e6f5d0"
            ],
            [
             0.7,
             "#b8e186"
            ],
            [
             0.8,
             "#7fbc41"
            ],
            [
             0.9,
             "#4d9221"
            ],
            [
             1,
             "#276419"
            ]
           ],
           "sequential": [
            [
             0,
             "#0d0887"
            ],
            [
             0.1111111111111111,
             "#46039f"
            ],
            [
             0.2222222222222222,
             "#7201a8"
            ],
            [
             0.3333333333333333,
             "#9c179e"
            ],
            [
             0.4444444444444444,
             "#bd3786"
            ],
            [
             0.5555555555555556,
             "#d8576b"
            ],
            [
             0.6666666666666666,
             "#ed7953"
            ],
            [
             0.7777777777777778,
             "#fb9f3a"
            ],
            [
             0.8888888888888888,
             "#fdca26"
            ],
            [
             1,
             "#f0f921"
            ]
           ],
           "sequentialminus": [
            [
             0,
             "#0d0887"
            ],
            [
             0.1111111111111111,
             "#46039f"
            ],
            [
             0.2222222222222222,
             "#7201a8"
            ],
            [
             0.3333333333333333,
             "#9c179e"
            ],
            [
             0.4444444444444444,
             "#bd3786"
            ],
            [
             0.5555555555555556,
             "#d8576b"
            ],
            [
             0.6666666666666666,
             "#ed7953"
            ],
            [
             0.7777777777777778,
             "#fb9f3a"
            ],
            [
             0.8888888888888888,
             "#fdca26"
            ],
            [
             1,
             "#f0f921"
            ]
           ]
          },
          "colorway": [
           "#636efa",
           "#EF553B",
           "#00cc96",
           "#ab63fa",
           "#FFA15A",
           "#19d3f3",
           "#FF6692",
           "#B6E880",
           "#FF97FF",
           "#FECB52"
          ],
          "font": {
           "color": "#2a3f5f"
          },
          "geo": {
           "bgcolor": "white",
           "lakecolor": "white",
           "landcolor": "#E5ECF6",
           "showlakes": true,
           "showland": true,
           "subunitcolor": "white"
          },
          "hoverlabel": {
           "align": "left"
          },
          "hovermode": "closest",
          "mapbox": {
           "style": "light"
          },
          "paper_bgcolor": "white",
          "plot_bgcolor": "#E5ECF6",
          "polar": {
           "angularaxis": {
            "gridcolor": "white",
            "linecolor": "white",
            "ticks": ""
           },
           "bgcolor": "#E5ECF6",
           "radialaxis": {
            "gridcolor": "white",
            "linecolor": "white",
            "ticks": ""
           }
          },
          "scene": {
           "xaxis": {
            "backgroundcolor": "#E5ECF6",
            "gridcolor": "white",
            "gridwidth": 2,
            "linecolor": "white",
            "showbackground": true,
            "ticks": "",
            "zerolinecolor": "white"
           },
           "yaxis": {
            "backgroundcolor": "#E5ECF6",
            "gridcolor": "white",
            "gridwidth": 2,
            "linecolor": "white",
            "showbackground": true,
            "ticks": "",
            "zerolinecolor": "white"
           },
           "zaxis": {
            "backgroundcolor": "#E5ECF6",
            "gridcolor": "white",
            "gridwidth": 2,
            "linecolor": "white",
            "showbackground": true,
            "ticks": "",
            "zerolinecolor": "white"
           }
          },
          "shapedefaults": {
           "line": {
            "color": "#2a3f5f"
           }
          },
          "ternary": {
           "aaxis": {
            "gridcolor": "white",
            "linecolor": "white",
            "ticks": ""
           },
           "baxis": {
            "gridcolor": "white",
            "linecolor": "white",
            "ticks": ""
           },
           "bgcolor": "#E5ECF6",
           "caxis": {
            "gridcolor": "white",
            "linecolor": "white",
            "ticks": ""
           }
          },
          "title": {
           "x": 0.05
          },
          "xaxis": {
           "automargin": true,
           "gridcolor": "white",
           "linecolor": "white",
           "ticks": "",
           "title": {
            "standoff": 15
           },
           "zerolinecolor": "white",
           "zerolinewidth": 2
          },
          "yaxis": {
           "automargin": true,
           "gridcolor": "white",
           "linecolor": "white",
           "ticks": "",
           "title": {
            "standoff": 15
           },
           "zerolinecolor": "white",
           "zerolinewidth": 2
          }
         }
        },
        "title": {
         "text": "Distribution of the output of layer lin2"
        },
        "xaxis": {
         "title": {
          "text": "Output of Layer lin2"
         }
        },
        "yaxis": {
         "title": {
          "text": "Count"
         }
        }
       }
      },
      "text/html": [
       "<div>\n",
       "        \n",
       "        \n",
       "            <div id=\"a4899029-0d76-456d-8e06-adbc8b04d372\" class=\"plotly-graph-div\" style=\"height:525px; width:100%;\"></div>\n",
       "            <script type=\"text/javascript\">\n",
       "                require([\"plotly\"], function(Plotly) {\n",
       "                    window.PLOTLYENV=window.PLOTLYENV || {};\n",
       "                    \n",
       "                if (document.getElementById(\"a4899029-0d76-456d-8e06-adbc8b04d372\")) {\n",
       "                    Plotly.newPlot(\n",
       "                        'a4899029-0d76-456d-8e06-adbc8b04d372',\n",
       "                        [{\"marker\": {\"color\": \"#db0000\"}, \"name\": \"Layer Output\", \"type\": \"histogram\", \"x\": [11.301359176635742, 32.312896728515625, -36.90418243408203, 21.17239761352539, 53.91326904296875, 74.43798065185547, 41.23036575317383, -156.63499450683594, 58.57061767578125, 2.4327709674835205, -31.028343200683594, -2.1402907371520996, -15.267867088317871, 86.90653228759766, -1.9958747625350952, 16.91573715209961, 17.499584197998047, 86.29466247558594, 22.901470184326172, 90.94538116455078, -36.18075942993164, 16.958627700805664, -65.82647705078125, 35.56206130981445, 28.696435928344727, 75.46931457519531, 24.93007469177246, 84.66539764404297, 91.48226165771484, 29.791601181030273, 81.16722106933594, -4.575577735900879, -22.474401473999023, 49.22431182861328, 64.93480682373047, -56.00710678100586, 28.431461334228516, -25.454130172729492, 68.9679183959961, 71.45932006835938, 38.174983978271484, -12.538564682006836, 59.78310012817383, -18.95954704284668, 96.24063873291016, 5.292727470397949, 4.232202053070068, 94.07858276367188, -11.905754089355469, 55.50575256347656, -12.20255184173584, 38.28638458251953, -77.33782196044922, 52.48939895629883, -43.28588104248047, 49.65792465209961, 41.23572540283203, 52.745967864990234, 43.89120101928711, 78.50700378417969, -28.899728775024414, 59.00621795654297, -72.9522705078125, -73.85516357421875, 59.28561019897461, 70.52587890625, 46.41029357910156, -53.23451232910156, -25.080657958984375, 47.159027099609375, 19.84285545349121, 62.03423309326172, -7.60841178894043, 72.2713394165039, -13.556124687194824, -20.695213317871094, 80.15479278564453, -9.4109468460083, -44.18515396118164, 17.158763885498047, -10.749871253967285, 57.40079116821289, -61.19130325317383, 35.040950775146484, 83.4832534790039, -32.67903137207031, -217.24502563476562, -127.399658203125, 48.03785705566406, 62.84211730957031, 45.972713470458984, 23.045503616333008, 87.61947631835938, -10.093549728393555, 86.95134735107422, 11.509648323059082, -29.73609733581543, 68.20590209960938, -73.30927276611328, -17.76463508605957], \"xbins\": {\"end\": 96.24063873291016, \"size\": 3, \"start\": -217.24502563476562}}],\n",
       "                        {\"bargap\": 0.2, \"template\": {\"data\": {\"bar\": [{\"error_x\": {\"color\": \"#2a3f5f\"}, \"error_y\": {\"color\": \"#2a3f5f\"}, \"marker\": {\"line\": {\"color\": \"#E5ECF6\", \"width\": 0.5}}, \"type\": \"bar\"}], \"barpolar\": [{\"marker\": {\"line\": {\"color\": \"#E5ECF6\", \"width\": 0.5}}, \"type\": \"barpolar\"}], \"carpet\": [{\"aaxis\": {\"endlinecolor\": \"#2a3f5f\", \"gridcolor\": \"white\", \"linecolor\": \"white\", \"minorgridcolor\": \"white\", \"startlinecolor\": \"#2a3f5f\"}, \"baxis\": {\"endlinecolor\": \"#2a3f5f\", \"gridcolor\": \"white\", \"linecolor\": \"white\", \"minorgridcolor\": \"white\", \"startlinecolor\": \"#2a3f5f\"}, \"type\": \"carpet\"}], \"choropleth\": [{\"colorbar\": {\"outlinewidth\": 0, \"ticks\": \"\"}, \"type\": \"choropleth\"}], \"contour\": [{\"colorbar\": {\"outlinewidth\": 0, \"ticks\": \"\"}, \"colorscale\": [[0.0, \"#0d0887\"], [0.1111111111111111, \"#46039f\"], [0.2222222222222222, \"#7201a8\"], [0.3333333333333333, \"#9c179e\"], [0.4444444444444444, \"#bd3786\"], [0.5555555555555556, \"#d8576b\"], [0.6666666666666666, \"#ed7953\"], [0.7777777777777778, \"#fb9f3a\"], [0.8888888888888888, \"#fdca26\"], [1.0, \"#f0f921\"]], \"type\": \"contour\"}], \"contourcarpet\": [{\"colorbar\": {\"outlinewidth\": 0, \"ticks\": \"\"}, \"type\": \"contourcarpet\"}], \"heatmap\": [{\"colorbar\": {\"outlinewidth\": 0, \"ticks\": \"\"}, \"colorscale\": [[0.0, \"#0d0887\"], [0.1111111111111111, \"#46039f\"], [0.2222222222222222, \"#7201a8\"], [0.3333333333333333, \"#9c179e\"], [0.4444444444444444, \"#bd3786\"], [0.5555555555555556, \"#d8576b\"], [0.6666666666666666, \"#ed7953\"], [0.7777777777777778, \"#fb9f3a\"], [0.8888888888888888, \"#fdca26\"], [1.0, \"#f0f921\"]], \"type\": \"heatmap\"}], \"heatmapgl\": [{\"colorbar\": {\"outlinewidth\": 0, \"ticks\": \"\"}, \"colorscale\": [[0.0, \"#0d0887\"], [0.1111111111111111, \"#46039f\"], [0.2222222222222222, \"#7201a8\"], [0.3333333333333333, \"#9c179e\"], [0.4444444444444444, \"#bd3786\"], [0.5555555555555556, \"#d8576b\"], [0.6666666666666666, \"#ed7953\"], [0.7777777777777778, \"#fb9f3a\"], [0.8888888888888888, \"#fdca26\"], [1.0, \"#f0f921\"]], \"type\": \"heatmapgl\"}], \"histogram\": [{\"marker\": {\"colorbar\": {\"outlinewidth\": 0, \"ticks\": \"\"}}, \"type\": \"histogram\"}], \"histogram2d\": [{\"colorbar\": {\"outlinewidth\": 0, \"ticks\": \"\"}, \"colorscale\": [[0.0, \"#0d0887\"], [0.1111111111111111, \"#46039f\"], [0.2222222222222222, \"#7201a8\"], [0.3333333333333333, \"#9c179e\"], [0.4444444444444444, \"#bd3786\"], [0.5555555555555556, \"#d8576b\"], [0.6666666666666666, \"#ed7953\"], [0.7777777777777778, \"#fb9f3a\"], [0.8888888888888888, \"#fdca26\"], [1.0, \"#f0f921\"]], \"type\": \"histogram2d\"}], \"histogram2dcontour\": [{\"colorbar\": {\"outlinewidth\": 0, \"ticks\": \"\"}, \"colorscale\": [[0.0, \"#0d0887\"], [0.1111111111111111, \"#46039f\"], [0.2222222222222222, \"#7201a8\"], [0.3333333333333333, \"#9c179e\"], [0.4444444444444444, \"#bd3786\"], [0.5555555555555556, \"#d8576b\"], [0.6666666666666666, \"#ed7953\"], [0.7777777777777778, \"#fb9f3a\"], [0.8888888888888888, \"#fdca26\"], [1.0, \"#f0f921\"]], \"type\": \"histogram2dcontour\"}], \"mesh3d\": [{\"colorbar\": {\"outlinewidth\": 0, \"ticks\": \"\"}, \"type\": \"mesh3d\"}], \"parcoords\": [{\"line\": {\"colorbar\": {\"outlinewidth\": 0, \"ticks\": \"\"}}, \"type\": \"parcoords\"}], \"pie\": [{\"automargin\": true, \"type\": \"pie\"}], \"scatter\": [{\"marker\": {\"colorbar\": {\"outlinewidth\": 0, \"ticks\": \"\"}}, \"type\": \"scatter\"}], \"scatter3d\": [{\"line\": {\"colorbar\": {\"outlinewidth\": 0, \"ticks\": \"\"}}, \"marker\": {\"colorbar\": {\"outlinewidth\": 0, \"ticks\": \"\"}}, \"type\": \"scatter3d\"}], \"scattercarpet\": [{\"marker\": {\"colorbar\": {\"outlinewidth\": 0, \"ticks\": \"\"}}, \"type\": \"scattercarpet\"}], \"scattergeo\": [{\"marker\": {\"colorbar\": {\"outlinewidth\": 0, \"ticks\": \"\"}}, \"type\": \"scattergeo\"}], \"scattergl\": [{\"marker\": {\"colorbar\": {\"outlinewidth\": 0, \"ticks\": \"\"}}, \"type\": \"scattergl\"}], \"scattermapbox\": [{\"marker\": {\"colorbar\": {\"outlinewidth\": 0, \"ticks\": \"\"}}, \"type\": \"scattermapbox\"}], \"scatterpolar\": [{\"marker\": {\"colorbar\": {\"outlinewidth\": 0, \"ticks\": \"\"}}, \"type\": \"scatterpolar\"}], \"scatterpolargl\": [{\"marker\": {\"colorbar\": {\"outlinewidth\": 0, \"ticks\": \"\"}}, \"type\": \"scatterpolargl\"}], \"scatterternary\": [{\"marker\": {\"colorbar\": {\"outlinewidth\": 0, \"ticks\": \"\"}}, \"type\": \"scatterternary\"}], \"surface\": [{\"colorbar\": {\"outlinewidth\": 0, \"ticks\": \"\"}, \"colorscale\": [[0.0, \"#0d0887\"], [0.1111111111111111, \"#46039f\"], [0.2222222222222222, \"#7201a8\"], [0.3333333333333333, \"#9c179e\"], [0.4444444444444444, \"#bd3786\"], [0.5555555555555556, \"#d8576b\"], [0.6666666666666666, \"#ed7953\"], [0.7777777777777778, \"#fb9f3a\"], [0.8888888888888888, \"#fdca26\"], [1.0, \"#f0f921\"]], \"type\": \"surface\"}], \"table\": [{\"cells\": {\"fill\": {\"color\": \"#EBF0F8\"}, \"line\": {\"color\": \"white\"}}, \"header\": {\"fill\": {\"color\": \"#C8D4E3\"}, \"line\": {\"color\": \"white\"}}, \"type\": \"table\"}]}, \"layout\": {\"annotationdefaults\": {\"arrowcolor\": \"#2a3f5f\", \"arrowhead\": 0, \"arrowwidth\": 1}, \"coloraxis\": {\"colorbar\": {\"outlinewidth\": 0, \"ticks\": \"\"}}, \"colorscale\": {\"diverging\": [[0, \"#8e0152\"], [0.1, \"#c51b7d\"], [0.2, \"#de77ae\"], [0.3, \"#f1b6da\"], [0.4, \"#fde0ef\"], [0.5, \"#f7f7f7\"], [0.6, \"#e6f5d0\"], [0.7, \"#b8e186\"], [0.8, \"#7fbc41\"], [0.9, \"#4d9221\"], [1, \"#276419\"]], \"sequential\": [[0.0, \"#0d0887\"], [0.1111111111111111, \"#46039f\"], [0.2222222222222222, \"#7201a8\"], [0.3333333333333333, \"#9c179e\"], [0.4444444444444444, \"#bd3786\"], [0.5555555555555556, \"#d8576b\"], [0.6666666666666666, \"#ed7953\"], [0.7777777777777778, \"#fb9f3a\"], [0.8888888888888888, \"#fdca26\"], [1.0, \"#f0f921\"]], \"sequentialminus\": [[0.0, \"#0d0887\"], [0.1111111111111111, \"#46039f\"], [0.2222222222222222, \"#7201a8\"], [0.3333333333333333, \"#9c179e\"], [0.4444444444444444, \"#bd3786\"], [0.5555555555555556, \"#d8576b\"], [0.6666666666666666, \"#ed7953\"], [0.7777777777777778, \"#fb9f3a\"], [0.8888888888888888, \"#fdca26\"], [1.0, \"#f0f921\"]]}, \"colorway\": [\"#636efa\", \"#EF553B\", \"#00cc96\", \"#ab63fa\", \"#FFA15A\", \"#19d3f3\", \"#FF6692\", \"#B6E880\", \"#FF97FF\", \"#FECB52\"], \"font\": {\"color\": \"#2a3f5f\"}, \"geo\": {\"bgcolor\": \"white\", \"lakecolor\": \"white\", \"landcolor\": \"#E5ECF6\", \"showlakes\": true, \"showland\": true, \"subunitcolor\": \"white\"}, \"hoverlabel\": {\"align\": \"left\"}, \"hovermode\": \"closest\", \"mapbox\": {\"style\": \"light\"}, \"paper_bgcolor\": \"white\", \"plot_bgcolor\": \"#E5ECF6\", \"polar\": {\"angularaxis\": {\"gridcolor\": \"white\", \"linecolor\": \"white\", \"ticks\": \"\"}, \"bgcolor\": \"#E5ECF6\", \"radialaxis\": {\"gridcolor\": \"white\", \"linecolor\": \"white\", \"ticks\": \"\"}}, \"scene\": {\"xaxis\": {\"backgroundcolor\": \"#E5ECF6\", \"gridcolor\": \"white\", \"gridwidth\": 2, \"linecolor\": \"white\", \"showbackground\": true, \"ticks\": \"\", \"zerolinecolor\": \"white\"}, \"yaxis\": {\"backgroundcolor\": \"#E5ECF6\", \"gridcolor\": \"white\", \"gridwidth\": 2, \"linecolor\": \"white\", \"showbackground\": true, \"ticks\": \"\", \"zerolinecolor\": \"white\"}, \"zaxis\": {\"backgroundcolor\": \"#E5ECF6\", \"gridcolor\": \"white\", \"gridwidth\": 2, \"linecolor\": \"white\", \"showbackground\": true, \"ticks\": \"\", \"zerolinecolor\": \"white\"}}, \"shapedefaults\": {\"line\": {\"color\": \"#2a3f5f\"}}, \"ternary\": {\"aaxis\": {\"gridcolor\": \"white\", \"linecolor\": \"white\", \"ticks\": \"\"}, \"baxis\": {\"gridcolor\": \"white\", \"linecolor\": \"white\", \"ticks\": \"\"}, \"bgcolor\": \"#E5ECF6\", \"caxis\": {\"gridcolor\": \"white\", \"linecolor\": \"white\", \"ticks\": \"\"}}, \"title\": {\"x\": 0.05}, \"xaxis\": {\"automargin\": true, \"gridcolor\": \"white\", \"linecolor\": \"white\", \"ticks\": \"\", \"title\": {\"standoff\": 15}, \"zerolinecolor\": \"white\", \"zerolinewidth\": 2}, \"yaxis\": {\"automargin\": true, \"gridcolor\": \"white\", \"linecolor\": \"white\", \"ticks\": \"\", \"title\": {\"standoff\": 15}, \"zerolinecolor\": \"white\", \"zerolinewidth\": 2}}}, \"title\": {\"text\": \"Distribution of the output of layer lin2\"}, \"xaxis\": {\"title\": {\"text\": \"Output of Layer lin2\"}}, \"yaxis\": {\"title\": {\"text\": \"Count\"}}},\n",
       "                        {\"responsive\": true}\n",
       "                    ).then(function(){\n",
       "                            \n",
       "var gd = document.getElementById('a4899029-0d76-456d-8e06-adbc8b04d372');\n",
       "var x = new MutationObserver(function (mutations, observer) {{\n",
       "        var display = window.getComputedStyle(gd).display;\n",
       "        if (!display || display === 'none') {{\n",
       "            console.log([gd, 'removed!']);\n",
       "            Plotly.purge(gd);\n",
       "            observer.disconnect();\n",
       "        }}\n",
       "}});\n",
       "\n",
       "// Listen for the removal of the full notebook cells\n",
       "var notebookContainer = gd.closest('#notebook-container');\n",
       "if (notebookContainer) {{\n",
       "    x.observe(notebookContainer, {childList: true});\n",
       "}}\n",
       "\n",
       "// Listen for the clearing of the current output cell\n",
       "var outputEl = gd.closest('.output');\n",
       "if (outputEl) {{\n",
       "    x.observe(outputEl, {childList: true});\n",
       "}}\n",
       "\n",
       "                        })\n",
       "                };\n",
       "                });\n",
       "            </script>\n",
       "        </div>"
      ]
     },
     "metadata": {},
     "output_type": "display_data"
    }
   ],
   "source": [
    "plot_hist_intermediate_outputs(activations['lin1'], 'lin1')\n",
    "plot_hist_intermediate_outputs(activations['lin2'], 'lin2')"
   ]
  },
  {
   "cell_type": "code",
   "execution_count": 45,
   "metadata": {},
   "outputs": [
    {
     "data": {
      "application/vnd.plotly.v1+json": {
       "config": {
        "linkText": "Export to plot.ly",
        "plotlyServerURL": "https://plot.ly",
        "showLink": false
       },
       "data": [
        {
         "marker": {
          "color": "#db0000"
         },
         "type": "scatter",
         "x": [
          0,
          1,
          2,
          3,
          4,
          5,
          6,
          7,
          8,
          9,
          10,
          11,
          12,
          13,
          14,
          15,
          16,
          17,
          18,
          19,
          20,
          21,
          22,
          23,
          24,
          25,
          26,
          27,
          28,
          29,
          30,
          31,
          32,
          33,
          34,
          35,
          36,
          37,
          38,
          39,
          40,
          41,
          42,
          43,
          44,
          45,
          46,
          47,
          48,
          49,
          50,
          51,
          52,
          53,
          54,
          55,
          56,
          57,
          58,
          59,
          60,
          61,
          62,
          63,
          64,
          65,
          66,
          67,
          68,
          69,
          70,
          71,
          72,
          73,
          74,
          75,
          76,
          77,
          78,
          79,
          80,
          81,
          82,
          83,
          84,
          85,
          86,
          87,
          88,
          89,
          90,
          91,
          92,
          93,
          94,
          95,
          96,
          97,
          98,
          99,
          100,
          101,
          102,
          103,
          104,
          105,
          106,
          107,
          108,
          109,
          110,
          111,
          112,
          113,
          114,
          115,
          116,
          117,
          118,
          119,
          120,
          121,
          122,
          123,
          124,
          125,
          126,
          127,
          128,
          129,
          130,
          131,
          132,
          133,
          134,
          135,
          136,
          137,
          138,
          139,
          140,
          141,
          142,
          143,
          144,
          145,
          146,
          147,
          148,
          149,
          150,
          151,
          152,
          153,
          154,
          155,
          156,
          157,
          158,
          159,
          160,
          161,
          162,
          163,
          164,
          165,
          166,
          167,
          168,
          169,
          170,
          171,
          172,
          173,
          174,
          175,
          176,
          177,
          178,
          179,
          180,
          181,
          182,
          183,
          184,
          185,
          186,
          187,
          188,
          189,
          190,
          191,
          192,
          193,
          194,
          195,
          196,
          197,
          198,
          199,
          200,
          201,
          202,
          203,
          204,
          205,
          206,
          207,
          208,
          209,
          210,
          211,
          212,
          213,
          214,
          215,
          216,
          217,
          218,
          219,
          220,
          221,
          222,
          223,
          224,
          225,
          226,
          227,
          228,
          229,
          230,
          231,
          232,
          233,
          234,
          235,
          236,
          237,
          238,
          239,
          240,
          241,
          242,
          243,
          244,
          245,
          246,
          247,
          248,
          249,
          250,
          251,
          252,
          253,
          254,
          255,
          256,
          257,
          258,
          259,
          260,
          261,
          262,
          263,
          264,
          265,
          266,
          267,
          268,
          269,
          270,
          271,
          272,
          273,
          274,
          275,
          276,
          277,
          278,
          279,
          280,
          281,
          282,
          283,
          284,
          285,
          286,
          287,
          288,
          289,
          290,
          291,
          292,
          293,
          294,
          295,
          296,
          297,
          298,
          299
         ],
         "y": [
          -6.484494686126709,
          -62.494140625,
          -39.87909698486328,
          -58.758705139160156,
          -145.3582763671875,
          94.1871109008789,
          -59.192474365234375,
          -128.8968505859375,
          -48.407012939453125,
          -168.10203552246094,
          -144.88267517089844,
          -23.984912872314453,
          -142.87890625,
          -45.71794128417969,
          -149.28021240234375,
          -133.86117553710938,
          102.23994445800781,
          -19.031932830810547,
          59.26152801513672,
          49.61713409423828,
          -41.075843811035156,
          -68.67508697509766,
          -147.6753692626953,
          136.46450805664062,
          -85.06758880615234,
          -207.7184600830078,
          -23.974531173706055,
          -114.14962768554688,
          51.650875091552734,
          -55.875221252441406,
          -2.4411380290985107,
          29.573257446289062,
          -30.55325698852539,
          -180.57489013671875,
          -185.1664276123047,
          -88.87650299072266,
          -92.37116241455078,
          -73.51995849609375,
          -138.03567504882812,
          89.03253173828125,
          107.49553680419922,
          61.838134765625,
          -159.22042846679688,
          -10.715059280395508,
          -61.53654861450195,
          18.60784339904785,
          -274.4621276855469,
          -75.08172607421875,
          -254.5451202392578,
          -132.08006286621094,
          -62.50503158569336,
          -175.94418334960938,
          65.3719482421875,
          -54.656898498535156,
          17.95261001586914,
          -63.77052307128906,
          -57.65624237060547,
          -170.019775390625,
          141.82290649414062,
          98.6380615234375,
          -124.59786987304688,
          -86.68766784667969,
          -0.37235933542251587,
          -86.66767120361328,
          -126.0745620727539,
          -233.4475555419922,
          49.797576904296875,
          77.9063491821289,
          36.1226806640625,
          -173.13609313964844,
          -125.57302856445312,
          -144.48464965820312,
          -91.30940246582031,
          31.697221755981445,
          -200.5984344482422,
          -50.15508270263672,
          135.1803741455078,
          -191.3169708251953,
          -48.29911422729492,
          36.384002685546875,
          -45.94989013671875,
          36.10312271118164,
          87.63385772705078,
          -135.3313751220703,
          -75.24711608886719,
          6.9504899978637695,
          69.93883514404297,
          -95.42156982421875,
          -78.39446258544922,
          -59.068572998046875,
          -70.70660400390625,
          -63.12623596191406,
          -192.69297790527344,
          -66.83524322509766,
          -44.317745208740234,
          -80.41487884521484,
          -113.92223358154297,
          -1.398482084274292,
          -15.968574523925781,
          -29.642126083374023,
          -183.12301635742188,
          -100.55487060546875,
          -197.99484252929688,
          -142.64111328125,
          53.078922271728516,
          -151.2332000732422,
          -7.359893798828125,
          58.86333465576172,
          -127.15120697021484,
          -50.405548095703125,
          -0.9032444953918457,
          -248.7899627685547,
          -126.166259765625,
          -131.35763549804688,
          12.44281005859375,
          -64.39681243896484,
          -137.2032012939453,
          -139.10464477539062,
          84.79285430908203,
          -58.87299728393555,
          -182.65060424804688,
          -21.97860336303711,
          -127.33900451660156,
          14.481293678283691,
          -137.9816436767578,
          -110.7152099609375,
          -7.1909565925598145,
          85.71817016601562,
          -52.44196319580078,
          10.105890274047852,
          149.6618194580078,
          11.613794326782227,
          -25.694238662719727,
          -27.336292266845703,
          -25.296789169311523,
          -18.08769989013672,
          -120.98011779785156,
          -63.489036560058594,
          -110.46424865722656,
          -58.79159164428711,
          -124.04930114746094,
          -22.65447235107422,
          -10.708110809326172,
          -41.587100982666016,
          183.28164672851562,
          -95.1522445678711,
          -134.71681213378906,
          -159.59359741210938,
          -94.16509246826172,
          -21.618289947509766,
          -35.7349853515625,
          4.090935707092285,
          -211.61659240722656,
          71.77983856201172,
          -206.7371063232422,
          10.404461860656738,
          -74.51749420166016,
          -98.5613784790039,
          -184.26271057128906,
          -189.30348205566406,
          -154.7796630859375,
          107.79118347167969,
          -127.88463592529297,
          -23.743886947631836,
          15.6644287109375,
          -151.23963928222656,
          -67.38320922851562,
          -101.21404266357422,
          -119.68353271484375,
          -102.99452209472656,
          -102.08324432373047,
          124.5854263305664,
          -107.38542175292969,
          -184.83834838867188,
          -157.29966735839844,
          -181.09521484375,
          -186.88499450683594,
          -48.58079528808594,
          -173.74928283691406,
          -106.78916931152344,
          -233.9837188720703,
          -71.34528350830078,
          -176.22421264648438,
          -79.72710418701172,
          -185.6110076904297,
          -17.0479679107666,
          -54.49222946166992,
          -115.92919158935547,
          -144.54066467285156,
          -225.69859313964844,
          -185.603515625,
          127.10983276367188,
          -243.6929168701172,
          83.86994934082031,
          -250.1980438232422,
          -74.37238311767578,
          -72.26178741455078,
          -53.37731170654297,
          -68.8526840209961,
          -84.96251678466797,
          -69.259521484375,
          55.8513069152832,
          -32.57036209106445,
          -2.298524856567383,
          -21.600923538208008,
          -81.24825286865234,
          -71.57524871826172,
          -150.08670043945312,
          -163.4431610107422,
          -88.07542419433594,
          167.24346923828125,
          -87.05307006835938,
          -113.80084228515625,
          -54.39474868774414,
          -60.727996826171875,
          -152.2944793701172,
          114.15756225585938,
          -97.0842056274414,
          33.70674514770508,
          153.7259063720703,
          31.01707649230957,
          74.77100372314453,
          -101.0537109375,
          43.935150146484375,
          -116.97296905517578,
          -162.79649353027344,
          -143.25282287597656,
          -100.473876953125,
          -222.5834503173828,
          -40.48101806640625,
          -66.37760925292969,
          -90.3801040649414,
          1.636710524559021,
          -94.7607192993164,
          40.4177360534668,
          15.475374221801758,
          -40.184391021728516,
          -73.50457000732422,
          -201.92791748046875,
          -65.64653015136719,
          -152.7445526123047,
          -53.62207794189453,
          -58.722984313964844,
          -190.40452575683594,
          -37.34296417236328,
          -13.366275787353516,
          -146.72901916503906,
          52.44863510131836,
          45.27742385864258,
          -166.65428161621094,
          -171.5299835205078,
          -65.54816436767578,
          -80.39745330810547,
          -23.918289184570312,
          -45.44039535522461,
          -50.082733154296875,
          -201.90060424804688,
          -120.98345184326172,
          -57.094268798828125,
          30.15707015991211,
          -21.04433250427246,
          52.147552490234375,
          -0.9474391341209412,
          24.209306716918945,
          -87.62667083740234,
          -82.40465545654297,
          30.549962997436523,
          -7.498915195465088,
          -23.016096115112305,
          -90.01786804199219,
          -59.909889221191406,
          -128.267822265625,
          -66.29540252685547,
          -72.08798217773438,
          -112.57368469238281,
          -167.80117797851562,
          -157.06321716308594,
          -185.84814453125,
          43.9333381652832,
          16.393722534179688,
          23.69328498840332,
          -22.283876419067383,
          8.929169654846191,
          75.09735870361328,
          102.97115325927734,
          -185.01405334472656,
          0.8126084804534912,
          -116.6192398071289,
          59.775474548339844,
          -153.7615966796875,
          81.05401611328125,
          -70.19599151611328,
          -48.21195983886719,
          -177.708740234375,
          -125.056640625,
          -135.54269409179688,
          -65.8051528930664,
          -61.81425857543945,
          -114.07852935791016,
          -14.68147087097168
         ]
        }
       ],
       "layout": {
        "template": {
         "data": {
          "bar": [
           {
            "error_x": {
             "color": "#2a3f5f"
            },
            "error_y": {
             "color": "#2a3f5f"
            },
            "marker": {
             "line": {
              "color": "#E5ECF6",
              "width": 0.5
             }
            },
            "type": "bar"
           }
          ],
          "barpolar": [
           {
            "marker": {
             "line": {
              "color": "#E5ECF6",
              "width": 0.5
             }
            },
            "type": "barpolar"
           }
          ],
          "carpet": [
           {
            "aaxis": {
             "endlinecolor": "#2a3f5f",
             "gridcolor": "white",
             "linecolor": "white",
             "minorgridcolor": "white",
             "startlinecolor": "#2a3f5f"
            },
            "baxis": {
             "endlinecolor": "#2a3f5f",
             "gridcolor": "white",
             "linecolor": "white",
             "minorgridcolor": "white",
             "startlinecolor": "#2a3f5f"
            },
            "type": "carpet"
           }
          ],
          "choropleth": [
           {
            "colorbar": {
             "outlinewidth": 0,
             "ticks": ""
            },
            "type": "choropleth"
           }
          ],
          "contour": [
           {
            "colorbar": {
             "outlinewidth": 0,
             "ticks": ""
            },
            "colorscale": [
             [
              0,
              "#0d0887"
             ],
             [
              0.1111111111111111,
              "#46039f"
             ],
             [
              0.2222222222222222,
              "#7201a8"
             ],
             [
              0.3333333333333333,
              "#9c179e"
             ],
             [
              0.4444444444444444,
              "#bd3786"
             ],
             [
              0.5555555555555556,
              "#d8576b"
             ],
             [
              0.6666666666666666,
              "#ed7953"
             ],
             [
              0.7777777777777778,
              "#fb9f3a"
             ],
             [
              0.8888888888888888,
              "#fdca26"
             ],
             [
              1,
              "#f0f921"
             ]
            ],
            "type": "contour"
           }
          ],
          "contourcarpet": [
           {
            "colorbar": {
             "outlinewidth": 0,
             "ticks": ""
            },
            "type": "contourcarpet"
           }
          ],
          "heatmap": [
           {
            "colorbar": {
             "outlinewidth": 0,
             "ticks": ""
            },
            "colorscale": [
             [
              0,
              "#0d0887"
             ],
             [
              0.1111111111111111,
              "#46039f"
             ],
             [
              0.2222222222222222,
              "#7201a8"
             ],
             [
              0.3333333333333333,
              "#9c179e"
             ],
             [
              0.4444444444444444,
              "#bd3786"
             ],
             [
              0.5555555555555556,
              "#d8576b"
             ],
             [
              0.6666666666666666,
              "#ed7953"
             ],
             [
              0.7777777777777778,
              "#fb9f3a"
             ],
             [
              0.8888888888888888,
              "#fdca26"
             ],
             [
              1,
              "#f0f921"
             ]
            ],
            "type": "heatmap"
           }
          ],
          "heatmapgl": [
           {
            "colorbar": {
             "outlinewidth": 0,
             "ticks": ""
            },
            "colorscale": [
             [
              0,
              "#0d0887"
             ],
             [
              0.1111111111111111,
              "#46039f"
             ],
             [
              0.2222222222222222,
              "#7201a8"
             ],
             [
              0.3333333333333333,
              "#9c179e"
             ],
             [
              0.4444444444444444,
              "#bd3786"
             ],
             [
              0.5555555555555556,
              "#d8576b"
             ],
             [
              0.6666666666666666,
              "#ed7953"
             ],
             [
              0.7777777777777778,
              "#fb9f3a"
             ],
             [
              0.8888888888888888,
              "#fdca26"
             ],
             [
              1,
              "#f0f921"
             ]
            ],
            "type": "heatmapgl"
           }
          ],
          "histogram": [
           {
            "marker": {
             "colorbar": {
              "outlinewidth": 0,
              "ticks": ""
             }
            },
            "type": "histogram"
           }
          ],
          "histogram2d": [
           {
            "colorbar": {
             "outlinewidth": 0,
             "ticks": ""
            },
            "colorscale": [
             [
              0,
              "#0d0887"
             ],
             [
              0.1111111111111111,
              "#46039f"
             ],
             [
              0.2222222222222222,
              "#7201a8"
             ],
             [
              0.3333333333333333,
              "#9c179e"
             ],
             [
              0.4444444444444444,
              "#bd3786"
             ],
             [
              0.5555555555555556,
              "#d8576b"
             ],
             [
              0.6666666666666666,
              "#ed7953"
             ],
             [
              0.7777777777777778,
              "#fb9f3a"
             ],
             [
              0.8888888888888888,
              "#fdca26"
             ],
             [
              1,
              "#f0f921"
             ]
            ],
            "type": "histogram2d"
           }
          ],
          "histogram2dcontour": [
           {
            "colorbar": {
             "outlinewidth": 0,
             "ticks": ""
            },
            "colorscale": [
             [
              0,
              "#0d0887"
             ],
             [
              0.1111111111111111,
              "#46039f"
             ],
             [
              0.2222222222222222,
              "#7201a8"
             ],
             [
              0.3333333333333333,
              "#9c179e"
             ],
             [
              0.4444444444444444,
              "#bd3786"
             ],
             [
              0.5555555555555556,
              "#d8576b"
             ],
             [
              0.6666666666666666,
              "#ed7953"
             ],
             [
              0.7777777777777778,
              "#fb9f3a"
             ],
             [
              0.8888888888888888,
              "#fdca26"
             ],
             [
              1,
              "#f0f921"
             ]
            ],
            "type": "histogram2dcontour"
           }
          ],
          "mesh3d": [
           {
            "colorbar": {
             "outlinewidth": 0,
             "ticks": ""
            },
            "type": "mesh3d"
           }
          ],
          "parcoords": [
           {
            "line": {
             "colorbar": {
              "outlinewidth": 0,
              "ticks": ""
             }
            },
            "type": "parcoords"
           }
          ],
          "pie": [
           {
            "automargin": true,
            "type": "pie"
           }
          ],
          "scatter": [
           {
            "marker": {
             "colorbar": {
              "outlinewidth": 0,
              "ticks": ""
             }
            },
            "type": "scatter"
           }
          ],
          "scatter3d": [
           {
            "line": {
             "colorbar": {
              "outlinewidth": 0,
              "ticks": ""
             }
            },
            "marker": {
             "colorbar": {
              "outlinewidth": 0,
              "ticks": ""
             }
            },
            "type": "scatter3d"
           }
          ],
          "scattercarpet": [
           {
            "marker": {
             "colorbar": {
              "outlinewidth": 0,
              "ticks": ""
             }
            },
            "type": "scattercarpet"
           }
          ],
          "scattergeo": [
           {
            "marker": {
             "colorbar": {
              "outlinewidth": 0,
              "ticks": ""
             }
            },
            "type": "scattergeo"
           }
          ],
          "scattergl": [
           {
            "marker": {
             "colorbar": {
              "outlinewidth": 0,
              "ticks": ""
             }
            },
            "type": "scattergl"
           }
          ],
          "scattermapbox": [
           {
            "marker": {
             "colorbar": {
              "outlinewidth": 0,
              "ticks": ""
             }
            },
            "type": "scattermapbox"
           }
          ],
          "scatterpolar": [
           {
            "marker": {
             "colorbar": {
              "outlinewidth": 0,
              "ticks": ""
             }
            },
            "type": "scatterpolar"
           }
          ],
          "scatterpolargl": [
           {
            "marker": {
             "colorbar": {
              "outlinewidth": 0,
              "ticks": ""
             }
            },
            "type": "scatterpolargl"
           }
          ],
          "scatterternary": [
           {
            "marker": {
             "colorbar": {
              "outlinewidth": 0,
              "ticks": ""
             }
            },
            "type": "scatterternary"
           }
          ],
          "surface": [
           {
            "colorbar": {
             "outlinewidth": 0,
             "ticks": ""
            },
            "colorscale": [
             [
              0,
              "#0d0887"
             ],
             [
              0.1111111111111111,
              "#46039f"
             ],
             [
              0.2222222222222222,
              "#7201a8"
             ],
             [
              0.3333333333333333,
              "#9c179e"
             ],
             [
              0.4444444444444444,
              "#bd3786"
             ],
             [
              0.5555555555555556,
              "#d8576b"
             ],
             [
              0.6666666666666666,
              "#ed7953"
             ],
             [
              0.7777777777777778,
              "#fb9f3a"
             ],
             [
              0.8888888888888888,
              "#fdca26"
             ],
             [
              1,
              "#f0f921"
             ]
            ],
            "type": "surface"
           }
          ],
          "table": [
           {
            "cells": {
             "fill": {
              "color": "#EBF0F8"
             },
             "line": {
              "color": "white"
             }
            },
            "header": {
             "fill": {
              "color": "#C8D4E3"
             },
             "line": {
              "color": "white"
             }
            },
            "type": "table"
           }
          ]
         },
         "layout": {
          "annotationdefaults": {
           "arrowcolor": "#2a3f5f",
           "arrowhead": 0,
           "arrowwidth": 1
          },
          "coloraxis": {
           "colorbar": {
            "outlinewidth": 0,
            "ticks": ""
           }
          },
          "colorscale": {
           "diverging": [
            [
             0,
             "#8e0152"
            ],
            [
             0.1,
             "#c51b7d"
            ],
            [
             0.2,
             "#de77ae"
            ],
            [
             0.3,
             "#f1b6da"
            ],
            [
             0.4,
             "#fde0ef"
            ],
            [
             0.5,
             "#f7f7f7"
            ],
            [
             0.6,
             "#e6f5d0"
            ],
            [
             0.7,
             "#b8e186"
            ],
            [
             0.8,
             "#7fbc41"
            ],
            [
             0.9,
             "#4d9221"
            ],
            [
             1,
             "#276419"
            ]
           ],
           "sequential": [
            [
             0,
             "#0d0887"
            ],
            [
             0.1111111111111111,
             "#46039f"
            ],
            [
             0.2222222222222222,
             "#7201a8"
            ],
            [
             0.3333333333333333,
             "#9c179e"
            ],
            [
             0.4444444444444444,
             "#bd3786"
            ],
            [
             0.5555555555555556,
             "#d8576b"
            ],
            [
             0.6666666666666666,
             "#ed7953"
            ],
            [
             0.7777777777777778,
             "#fb9f3a"
            ],
            [
             0.8888888888888888,
             "#fdca26"
            ],
            [
             1,
             "#f0f921"
            ]
           ],
           "sequentialminus": [
            [
             0,
             "#0d0887"
            ],
            [
             0.1111111111111111,
             "#46039f"
            ],
            [
             0.2222222222222222,
             "#7201a8"
            ],
            [
             0.3333333333333333,
             "#9c179e"
            ],
            [
             0.4444444444444444,
             "#bd3786"
            ],
            [
             0.5555555555555556,
             "#d8576b"
            ],
            [
             0.6666666666666666,
             "#ed7953"
            ],
            [
             0.7777777777777778,
             "#fb9f3a"
            ],
            [
             0.8888888888888888,
             "#fdca26"
            ],
            [
             1,
             "#f0f921"
            ]
           ]
          },
          "colorway": [
           "#636efa",
           "#EF553B",
           "#00cc96",
           "#ab63fa",
           "#FFA15A",
           "#19d3f3",
           "#FF6692",
           "#B6E880",
           "#FF97FF",
           "#FECB52"
          ],
          "font": {
           "color": "#2a3f5f"
          },
          "geo": {
           "bgcolor": "white",
           "lakecolor": "white",
           "landcolor": "#E5ECF6",
           "showlakes": true,
           "showland": true,
           "subunitcolor": "white"
          },
          "hoverlabel": {
           "align": "left"
          },
          "hovermode": "closest",
          "mapbox": {
           "style": "light"
          },
          "paper_bgcolor": "white",
          "plot_bgcolor": "#E5ECF6",
          "polar": {
           "angularaxis": {
            "gridcolor": "white",
            "linecolor": "white",
            "ticks": ""
           },
           "bgcolor": "#E5ECF6",
           "radialaxis": {
            "gridcolor": "white",
            "linecolor": "white",
            "ticks": ""
           }
          },
          "scene": {
           "xaxis": {
            "backgroundcolor": "#E5ECF6",
            "gridcolor": "white",
            "gridwidth": 2,
            "linecolor": "white",
            "showbackground": true,
            "ticks": "",
            "zerolinecolor": "white"
           },
           "yaxis": {
            "backgroundcolor": "#E5ECF6",
            "gridcolor": "white",
            "gridwidth": 2,
            "linecolor": "white",
            "showbackground": true,
            "ticks": "",
            "zerolinecolor": "white"
           },
           "zaxis": {
            "backgroundcolor": "#E5ECF6",
            "gridcolor": "white",
            "gridwidth": 2,
            "linecolor": "white",
            "showbackground": true,
            "ticks": "",
            "zerolinecolor": "white"
           }
          },
          "shapedefaults": {
           "line": {
            "color": "#2a3f5f"
           }
          },
          "ternary": {
           "aaxis": {
            "gridcolor": "white",
            "linecolor": "white",
            "ticks": ""
           },
           "baxis": {
            "gridcolor": "white",
            "linecolor": "white",
            "ticks": ""
           },
           "bgcolor": "#E5ECF6",
           "caxis": {
            "gridcolor": "white",
            "linecolor": "white",
            "ticks": ""
           }
          },
          "title": {
           "x": 0.05
          },
          "xaxis": {
           "automargin": true,
           "gridcolor": "white",
           "linecolor": "white",
           "ticks": "",
           "title": {
            "standoff": 15
           },
           "zerolinecolor": "white",
           "zerolinewidth": 2
          },
          "yaxis": {
           "automargin": true,
           "gridcolor": "white",
           "linecolor": "white",
           "ticks": "",
           "title": {
            "standoff": 15
           },
           "zerolinecolor": "white",
           "zerolinewidth": 2
          }
         }
        },
        "title": {
         "text": "Output of layer lin1"
        },
        "xaxis": {
         "title": {
          "text": "Dimension"
         }
        },
        "yaxis": {
         "title": {
          "text": "Layer Output"
         }
        }
       }
      },
      "text/html": [
       "<div>\n",
       "        \n",
       "        \n",
       "            <div id=\"167029d0-6629-4a1d-ba58-c6bce405331a\" class=\"plotly-graph-div\" style=\"height:525px; width:100%;\"></div>\n",
       "            <script type=\"text/javascript\">\n",
       "                require([\"plotly\"], function(Plotly) {\n",
       "                    window.PLOTLYENV=window.PLOTLYENV || {};\n",
       "                    \n",
       "                if (document.getElementById(\"167029d0-6629-4a1d-ba58-c6bce405331a\")) {\n",
       "                    Plotly.newPlot(\n",
       "                        '167029d0-6629-4a1d-ba58-c6bce405331a',\n",
       "                        [{\"marker\": {\"color\": \"#db0000\"}, \"type\": \"scatter\", \"x\": [0, 1, 2, 3, 4, 5, 6, 7, 8, 9, 10, 11, 12, 13, 14, 15, 16, 17, 18, 19, 20, 21, 22, 23, 24, 25, 26, 27, 28, 29, 30, 31, 32, 33, 34, 35, 36, 37, 38, 39, 40, 41, 42, 43, 44, 45, 46, 47, 48, 49, 50, 51, 52, 53, 54, 55, 56, 57, 58, 59, 60, 61, 62, 63, 64, 65, 66, 67, 68, 69, 70, 71, 72, 73, 74, 75, 76, 77, 78, 79, 80, 81, 82, 83, 84, 85, 86, 87, 88, 89, 90, 91, 92, 93, 94, 95, 96, 97, 98, 99, 100, 101, 102, 103, 104, 105, 106, 107, 108, 109, 110, 111, 112, 113, 114, 115, 116, 117, 118, 119, 120, 121, 122, 123, 124, 125, 126, 127, 128, 129, 130, 131, 132, 133, 134, 135, 136, 137, 138, 139, 140, 141, 142, 143, 144, 145, 146, 147, 148, 149, 150, 151, 152, 153, 154, 155, 156, 157, 158, 159, 160, 161, 162, 163, 164, 165, 166, 167, 168, 169, 170, 171, 172, 173, 174, 175, 176, 177, 178, 179, 180, 181, 182, 183, 184, 185, 186, 187, 188, 189, 190, 191, 192, 193, 194, 195, 196, 197, 198, 199, 200, 201, 202, 203, 204, 205, 206, 207, 208, 209, 210, 211, 212, 213, 214, 215, 216, 217, 218, 219, 220, 221, 222, 223, 224, 225, 226, 227, 228, 229, 230, 231, 232, 233, 234, 235, 236, 237, 238, 239, 240, 241, 242, 243, 244, 245, 246, 247, 248, 249, 250, 251, 252, 253, 254, 255, 256, 257, 258, 259, 260, 261, 262, 263, 264, 265, 266, 267, 268, 269, 270, 271, 272, 273, 274, 275, 276, 277, 278, 279, 280, 281, 282, 283, 284, 285, 286, 287, 288, 289, 290, 291, 292, 293, 294, 295, 296, 297, 298, 299], \"y\": [-6.484494686126709, -62.494140625, -39.87909698486328, -58.758705139160156, -145.3582763671875, 94.1871109008789, -59.192474365234375, -128.8968505859375, -48.407012939453125, -168.10203552246094, -144.88267517089844, -23.984912872314453, -142.87890625, -45.71794128417969, -149.28021240234375, -133.86117553710938, 102.23994445800781, -19.031932830810547, 59.26152801513672, 49.61713409423828, -41.075843811035156, -68.67508697509766, -147.6753692626953, 136.46450805664062, -85.06758880615234, -207.7184600830078, -23.974531173706055, -114.14962768554688, 51.650875091552734, -55.875221252441406, -2.4411380290985107, 29.573257446289062, -30.55325698852539, -180.57489013671875, -185.1664276123047, -88.87650299072266, -92.37116241455078, -73.51995849609375, -138.03567504882812, 89.03253173828125, 107.49553680419922, 61.838134765625, -159.22042846679688, -10.715059280395508, -61.53654861450195, 18.60784339904785, -274.4621276855469, -75.08172607421875, -254.5451202392578, -132.08006286621094, -62.50503158569336, -175.94418334960938, 65.3719482421875, -54.656898498535156, 17.95261001586914, -63.77052307128906, -57.65624237060547, -170.019775390625, 141.82290649414062, 98.6380615234375, -124.59786987304688, -86.68766784667969, -0.37235933542251587, -86.66767120361328, -126.0745620727539, -233.4475555419922, 49.797576904296875, 77.9063491821289, 36.1226806640625, -173.13609313964844, -125.57302856445312, -144.48464965820312, -91.30940246582031, 31.697221755981445, -200.5984344482422, -50.15508270263672, 135.1803741455078, -191.3169708251953, -48.29911422729492, 36.384002685546875, -45.94989013671875, 36.10312271118164, 87.63385772705078, -135.3313751220703, -75.24711608886719, 6.9504899978637695, 69.93883514404297, -95.42156982421875, -78.39446258544922, -59.068572998046875, -70.70660400390625, -63.12623596191406, -192.69297790527344, -66.83524322509766, -44.317745208740234, -80.41487884521484, -113.92223358154297, -1.398482084274292, -15.968574523925781, -29.642126083374023, -183.12301635742188, -100.55487060546875, -197.99484252929688, -142.64111328125, 53.078922271728516, -151.2332000732422, -7.359893798828125, 58.86333465576172, -127.15120697021484, -50.405548095703125, -0.9032444953918457, -248.7899627685547, -126.166259765625, -131.35763549804688, 12.44281005859375, -64.39681243896484, -137.2032012939453, -139.10464477539062, 84.79285430908203, -58.87299728393555, -182.65060424804688, -21.97860336303711, -127.33900451660156, 14.481293678283691, -137.9816436767578, -110.7152099609375, -7.1909565925598145, 85.71817016601562, -52.44196319580078, 10.105890274047852, 149.6618194580078, 11.613794326782227, -25.694238662719727, -27.336292266845703, -25.296789169311523, -18.08769989013672, -120.98011779785156, -63.489036560058594, -110.46424865722656, -58.79159164428711, -124.04930114746094, -22.65447235107422, -10.708110809326172, -41.587100982666016, 183.28164672851562, -95.1522445678711, -134.71681213378906, -159.59359741210938, -94.16509246826172, -21.618289947509766, -35.7349853515625, 4.090935707092285, -211.61659240722656, 71.77983856201172, -206.7371063232422, 10.404461860656738, -74.51749420166016, -98.5613784790039, -184.26271057128906, -189.30348205566406, -154.7796630859375, 107.79118347167969, -127.88463592529297, -23.743886947631836, 15.6644287109375, -151.23963928222656, -67.38320922851562, -101.21404266357422, -119.68353271484375, -102.99452209472656, -102.08324432373047, 124.5854263305664, -107.38542175292969, -184.83834838867188, -157.29966735839844, -181.09521484375, -186.88499450683594, -48.58079528808594, -173.74928283691406, -106.78916931152344, -233.9837188720703, -71.34528350830078, -176.22421264648438, -79.72710418701172, -185.6110076904297, -17.0479679107666, -54.49222946166992, -115.92919158935547, -144.54066467285156, -225.69859313964844, -185.603515625, 127.10983276367188, -243.6929168701172, 83.86994934082031, -250.1980438232422, -74.37238311767578, -72.26178741455078, -53.37731170654297, -68.8526840209961, -84.96251678466797, -69.259521484375, 55.8513069152832, -32.57036209106445, -2.298524856567383, -21.600923538208008, -81.24825286865234, -71.57524871826172, -150.08670043945312, -163.4431610107422, -88.07542419433594, 167.24346923828125, -87.05307006835938, -113.80084228515625, -54.39474868774414, -60.727996826171875, -152.2944793701172, 114.15756225585938, -97.0842056274414, 33.70674514770508, 153.7259063720703, 31.01707649230957, 74.77100372314453, -101.0537109375, 43.935150146484375, -116.97296905517578, -162.79649353027344, -143.25282287597656, -100.473876953125, -222.5834503173828, -40.48101806640625, -66.37760925292969, -90.3801040649414, 1.636710524559021, -94.7607192993164, 40.4177360534668, 15.475374221801758, -40.184391021728516, -73.50457000732422, -201.92791748046875, -65.64653015136719, -152.7445526123047, -53.62207794189453, -58.722984313964844, -190.40452575683594, -37.34296417236328, -13.366275787353516, -146.72901916503906, 52.44863510131836, 45.27742385864258, -166.65428161621094, -171.5299835205078, -65.54816436767578, -80.39745330810547, -23.918289184570312, -45.44039535522461, -50.082733154296875, -201.90060424804688, -120.98345184326172, -57.094268798828125, 30.15707015991211, -21.04433250427246, 52.147552490234375, -0.9474391341209412, 24.209306716918945, -87.62667083740234, -82.40465545654297, 30.549962997436523, -7.498915195465088, -23.016096115112305, -90.01786804199219, -59.909889221191406, -128.267822265625, -66.29540252685547, -72.08798217773438, -112.57368469238281, -167.80117797851562, -157.06321716308594, -185.84814453125, 43.9333381652832, 16.393722534179688, 23.69328498840332, -22.283876419067383, 8.929169654846191, 75.09735870361328, 102.97115325927734, -185.01405334472656, 0.8126084804534912, -116.6192398071289, 59.775474548339844, -153.7615966796875, 81.05401611328125, -70.19599151611328, -48.21195983886719, -177.708740234375, -125.056640625, -135.54269409179688, -65.8051528930664, -61.81425857543945, -114.07852935791016, -14.68147087097168]}],\n",
       "                        {\"template\": {\"data\": {\"bar\": [{\"error_x\": {\"color\": \"#2a3f5f\"}, \"error_y\": {\"color\": \"#2a3f5f\"}, \"marker\": {\"line\": {\"color\": \"#E5ECF6\", \"width\": 0.5}}, \"type\": \"bar\"}], \"barpolar\": [{\"marker\": {\"line\": {\"color\": \"#E5ECF6\", \"width\": 0.5}}, \"type\": \"barpolar\"}], \"carpet\": [{\"aaxis\": {\"endlinecolor\": \"#2a3f5f\", \"gridcolor\": \"white\", \"linecolor\": \"white\", \"minorgridcolor\": \"white\", \"startlinecolor\": \"#2a3f5f\"}, \"baxis\": {\"endlinecolor\": \"#2a3f5f\", \"gridcolor\": \"white\", \"linecolor\": \"white\", \"minorgridcolor\": \"white\", \"startlinecolor\": \"#2a3f5f\"}, \"type\": \"carpet\"}], \"choropleth\": [{\"colorbar\": {\"outlinewidth\": 0, \"ticks\": \"\"}, \"type\": \"choropleth\"}], \"contour\": [{\"colorbar\": {\"outlinewidth\": 0, \"ticks\": \"\"}, \"colorscale\": [[0.0, \"#0d0887\"], [0.1111111111111111, \"#46039f\"], [0.2222222222222222, \"#7201a8\"], [0.3333333333333333, \"#9c179e\"], [0.4444444444444444, \"#bd3786\"], [0.5555555555555556, \"#d8576b\"], [0.6666666666666666, \"#ed7953\"], [0.7777777777777778, \"#fb9f3a\"], [0.8888888888888888, \"#fdca26\"], [1.0, \"#f0f921\"]], \"type\": \"contour\"}], \"contourcarpet\": [{\"colorbar\": {\"outlinewidth\": 0, \"ticks\": \"\"}, \"type\": \"contourcarpet\"}], \"heatmap\": [{\"colorbar\": {\"outlinewidth\": 0, \"ticks\": \"\"}, \"colorscale\": [[0.0, \"#0d0887\"], [0.1111111111111111, \"#46039f\"], [0.2222222222222222, \"#7201a8\"], [0.3333333333333333, \"#9c179e\"], [0.4444444444444444, \"#bd3786\"], [0.5555555555555556, \"#d8576b\"], [0.6666666666666666, \"#ed7953\"], [0.7777777777777778, \"#fb9f3a\"], [0.8888888888888888, \"#fdca26\"], [1.0, \"#f0f921\"]], \"type\": \"heatmap\"}], \"heatmapgl\": [{\"colorbar\": {\"outlinewidth\": 0, \"ticks\": \"\"}, \"colorscale\": [[0.0, \"#0d0887\"], [0.1111111111111111, \"#46039f\"], [0.2222222222222222, \"#7201a8\"], [0.3333333333333333, \"#9c179e\"], [0.4444444444444444, \"#bd3786\"], [0.5555555555555556, \"#d8576b\"], [0.6666666666666666, \"#ed7953\"], [0.7777777777777778, \"#fb9f3a\"], [0.8888888888888888, \"#fdca26\"], [1.0, \"#f0f921\"]], \"type\": \"heatmapgl\"}], \"histogram\": [{\"marker\": {\"colorbar\": {\"outlinewidth\": 0, \"ticks\": \"\"}}, \"type\": \"histogram\"}], \"histogram2d\": [{\"colorbar\": {\"outlinewidth\": 0, \"ticks\": \"\"}, \"colorscale\": [[0.0, \"#0d0887\"], [0.1111111111111111, \"#46039f\"], [0.2222222222222222, \"#7201a8\"], [0.3333333333333333, \"#9c179e\"], [0.4444444444444444, \"#bd3786\"], [0.5555555555555556, \"#d8576b\"], [0.6666666666666666, \"#ed7953\"], [0.7777777777777778, \"#fb9f3a\"], [0.8888888888888888, \"#fdca26\"], [1.0, \"#f0f921\"]], \"type\": \"histogram2d\"}], \"histogram2dcontour\": [{\"colorbar\": {\"outlinewidth\": 0, \"ticks\": \"\"}, \"colorscale\": [[0.0, \"#0d0887\"], [0.1111111111111111, \"#46039f\"], [0.2222222222222222, \"#7201a8\"], [0.3333333333333333, \"#9c179e\"], [0.4444444444444444, \"#bd3786\"], [0.5555555555555556, \"#d8576b\"], [0.6666666666666666, \"#ed7953\"], [0.7777777777777778, \"#fb9f3a\"], [0.8888888888888888, \"#fdca26\"], [1.0, \"#f0f921\"]], \"type\": \"histogram2dcontour\"}], \"mesh3d\": [{\"colorbar\": {\"outlinewidth\": 0, \"ticks\": \"\"}, \"type\": \"mesh3d\"}], \"parcoords\": [{\"line\": {\"colorbar\": {\"outlinewidth\": 0, \"ticks\": \"\"}}, \"type\": \"parcoords\"}], \"pie\": [{\"automargin\": true, \"type\": \"pie\"}], \"scatter\": [{\"marker\": {\"colorbar\": {\"outlinewidth\": 0, \"ticks\": \"\"}}, \"type\": \"scatter\"}], \"scatter3d\": [{\"line\": {\"colorbar\": {\"outlinewidth\": 0, \"ticks\": \"\"}}, \"marker\": {\"colorbar\": {\"outlinewidth\": 0, \"ticks\": \"\"}}, \"type\": \"scatter3d\"}], \"scattercarpet\": [{\"marker\": {\"colorbar\": {\"outlinewidth\": 0, \"ticks\": \"\"}}, \"type\": \"scattercarpet\"}], \"scattergeo\": [{\"marker\": {\"colorbar\": {\"outlinewidth\": 0, \"ticks\": \"\"}}, \"type\": \"scattergeo\"}], \"scattergl\": [{\"marker\": {\"colorbar\": {\"outlinewidth\": 0, \"ticks\": \"\"}}, \"type\": \"scattergl\"}], \"scattermapbox\": [{\"marker\": {\"colorbar\": {\"outlinewidth\": 0, \"ticks\": \"\"}}, \"type\": \"scattermapbox\"}], \"scatterpolar\": [{\"marker\": {\"colorbar\": {\"outlinewidth\": 0, \"ticks\": \"\"}}, \"type\": \"scatterpolar\"}], \"scatterpolargl\": [{\"marker\": {\"colorbar\": {\"outlinewidth\": 0, \"ticks\": \"\"}}, \"type\": \"scatterpolargl\"}], \"scatterternary\": [{\"marker\": {\"colorbar\": {\"outlinewidth\": 0, \"ticks\": \"\"}}, \"type\": \"scatterternary\"}], \"surface\": [{\"colorbar\": {\"outlinewidth\": 0, \"ticks\": \"\"}, \"colorscale\": [[0.0, \"#0d0887\"], [0.1111111111111111, \"#46039f\"], [0.2222222222222222, \"#7201a8\"], [0.3333333333333333, \"#9c179e\"], [0.4444444444444444, \"#bd3786\"], [0.5555555555555556, \"#d8576b\"], [0.6666666666666666, \"#ed7953\"], [0.7777777777777778, \"#fb9f3a\"], [0.8888888888888888, \"#fdca26\"], [1.0, \"#f0f921\"]], \"type\": \"surface\"}], \"table\": [{\"cells\": {\"fill\": {\"color\": \"#EBF0F8\"}, \"line\": {\"color\": \"white\"}}, \"header\": {\"fill\": {\"color\": \"#C8D4E3\"}, \"line\": {\"color\": \"white\"}}, \"type\": \"table\"}]}, \"layout\": {\"annotationdefaults\": {\"arrowcolor\": \"#2a3f5f\", \"arrowhead\": 0, \"arrowwidth\": 1}, \"coloraxis\": {\"colorbar\": {\"outlinewidth\": 0, \"ticks\": \"\"}}, \"colorscale\": {\"diverging\": [[0, \"#8e0152\"], [0.1, \"#c51b7d\"], [0.2, \"#de77ae\"], [0.3, \"#f1b6da\"], [0.4, \"#fde0ef\"], [0.5, \"#f7f7f7\"], [0.6, \"#e6f5d0\"], [0.7, \"#b8e186\"], [0.8, \"#7fbc41\"], [0.9, \"#4d9221\"], [1, \"#276419\"]], \"sequential\": [[0.0, \"#0d0887\"], [0.1111111111111111, \"#46039f\"], [0.2222222222222222, \"#7201a8\"], [0.3333333333333333, \"#9c179e\"], [0.4444444444444444, \"#bd3786\"], [0.5555555555555556, \"#d8576b\"], [0.6666666666666666, \"#ed7953\"], [0.7777777777777778, \"#fb9f3a\"], [0.8888888888888888, \"#fdca26\"], [1.0, \"#f0f921\"]], \"sequentialminus\": [[0.0, \"#0d0887\"], [0.1111111111111111, \"#46039f\"], [0.2222222222222222, \"#7201a8\"], [0.3333333333333333, \"#9c179e\"], [0.4444444444444444, \"#bd3786\"], [0.5555555555555556, \"#d8576b\"], [0.6666666666666666, \"#ed7953\"], [0.7777777777777778, \"#fb9f3a\"], [0.8888888888888888, \"#fdca26\"], [1.0, \"#f0f921\"]]}, \"colorway\": [\"#636efa\", \"#EF553B\", \"#00cc96\", \"#ab63fa\", \"#FFA15A\", \"#19d3f3\", \"#FF6692\", \"#B6E880\", \"#FF97FF\", \"#FECB52\"], \"font\": {\"color\": \"#2a3f5f\"}, \"geo\": {\"bgcolor\": \"white\", \"lakecolor\": \"white\", \"landcolor\": \"#E5ECF6\", \"showlakes\": true, \"showland\": true, \"subunitcolor\": \"white\"}, \"hoverlabel\": {\"align\": \"left\"}, \"hovermode\": \"closest\", \"mapbox\": {\"style\": \"light\"}, \"paper_bgcolor\": \"white\", \"plot_bgcolor\": \"#E5ECF6\", \"polar\": {\"angularaxis\": {\"gridcolor\": \"white\", \"linecolor\": \"white\", \"ticks\": \"\"}, \"bgcolor\": \"#E5ECF6\", \"radialaxis\": {\"gridcolor\": \"white\", \"linecolor\": \"white\", \"ticks\": \"\"}}, \"scene\": {\"xaxis\": {\"backgroundcolor\": \"#E5ECF6\", \"gridcolor\": \"white\", \"gridwidth\": 2, \"linecolor\": \"white\", \"showbackground\": true, \"ticks\": \"\", \"zerolinecolor\": \"white\"}, \"yaxis\": {\"backgroundcolor\": \"#E5ECF6\", \"gridcolor\": \"white\", \"gridwidth\": 2, \"linecolor\": \"white\", \"showbackground\": true, \"ticks\": \"\", \"zerolinecolor\": \"white\"}, \"zaxis\": {\"backgroundcolor\": \"#E5ECF6\", \"gridcolor\": \"white\", \"gridwidth\": 2, \"linecolor\": \"white\", \"showbackground\": true, \"ticks\": \"\", \"zerolinecolor\": \"white\"}}, \"shapedefaults\": {\"line\": {\"color\": \"#2a3f5f\"}}, \"ternary\": {\"aaxis\": {\"gridcolor\": \"white\", \"linecolor\": \"white\", \"ticks\": \"\"}, \"baxis\": {\"gridcolor\": \"white\", \"linecolor\": \"white\", \"ticks\": \"\"}, \"bgcolor\": \"#E5ECF6\", \"caxis\": {\"gridcolor\": \"white\", \"linecolor\": \"white\", \"ticks\": \"\"}}, \"title\": {\"x\": 0.05}, \"xaxis\": {\"automargin\": true, \"gridcolor\": \"white\", \"linecolor\": \"white\", \"ticks\": \"\", \"title\": {\"standoff\": 15}, \"zerolinecolor\": \"white\", \"zerolinewidth\": 2}, \"yaxis\": {\"automargin\": true, \"gridcolor\": \"white\", \"linecolor\": \"white\", \"ticks\": \"\", \"title\": {\"standoff\": 15}, \"zerolinecolor\": \"white\", \"zerolinewidth\": 2}}}, \"title\": {\"text\": \"Output of layer lin1\"}, \"xaxis\": {\"title\": {\"text\": \"Dimension\"}}, \"yaxis\": {\"title\": {\"text\": \"Layer Output\"}}},\n",
       "                        {\"responsive\": true}\n",
       "                    ).then(function(){\n",
       "                            \n",
       "var gd = document.getElementById('167029d0-6629-4a1d-ba58-c6bce405331a');\n",
       "var x = new MutationObserver(function (mutations, observer) {{\n",
       "        var display = window.getComputedStyle(gd).display;\n",
       "        if (!display || display === 'none') {{\n",
       "            console.log([gd, 'removed!']);\n",
       "            Plotly.purge(gd);\n",
       "            observer.disconnect();\n",
       "        }}\n",
       "}});\n",
       "\n",
       "// Listen for the removal of the full notebook cells\n",
       "var notebookContainer = gd.closest('#notebook-container');\n",
       "if (notebookContainer) {{\n",
       "    x.observe(notebookContainer, {childList: true});\n",
       "}}\n",
       "\n",
       "// Listen for the clearing of the current output cell\n",
       "var outputEl = gd.closest('.output');\n",
       "if (outputEl) {{\n",
       "    x.observe(outputEl, {childList: true});\n",
       "}}\n",
       "\n",
       "                        })\n",
       "                };\n",
       "                });\n",
       "            </script>\n",
       "        </div>"
      ]
     },
     "metadata": {},
     "output_type": "display_data"
    },
    {
     "data": {
      "application/vnd.plotly.v1+json": {
       "config": {
        "linkText": "Export to plot.ly",
        "plotlyServerURL": "https://plot.ly",
        "showLink": false
       },
       "data": [
        {
         "marker": {
          "color": "#db0000"
         },
         "type": "scatter",
         "x": [
          0,
          1,
          2,
          3,
          4,
          5,
          6,
          7,
          8,
          9,
          10,
          11,
          12,
          13,
          14,
          15,
          16,
          17,
          18,
          19,
          20,
          21,
          22,
          23,
          24,
          25,
          26,
          27,
          28,
          29,
          30,
          31,
          32,
          33,
          34,
          35,
          36,
          37,
          38,
          39,
          40,
          41,
          42,
          43,
          44,
          45,
          46,
          47,
          48,
          49,
          50,
          51,
          52,
          53,
          54,
          55,
          56,
          57,
          58,
          59,
          60,
          61,
          62,
          63,
          64,
          65,
          66,
          67,
          68,
          69,
          70,
          71,
          72,
          73,
          74,
          75,
          76,
          77,
          78,
          79,
          80,
          81,
          82,
          83,
          84,
          85,
          86,
          87,
          88,
          89,
          90,
          91,
          92,
          93,
          94,
          95,
          96,
          97,
          98,
          99,
          100,
          101,
          102,
          103,
          104,
          105,
          106,
          107,
          108,
          109,
          110,
          111,
          112,
          113,
          114,
          115,
          116,
          117,
          118,
          119,
          120,
          121,
          122,
          123,
          124,
          125,
          126,
          127,
          128,
          129,
          130,
          131,
          132,
          133,
          134,
          135,
          136,
          137,
          138,
          139,
          140,
          141,
          142,
          143,
          144,
          145,
          146,
          147,
          148,
          149,
          150,
          151,
          152,
          153,
          154,
          155,
          156,
          157,
          158,
          159,
          160,
          161,
          162,
          163,
          164,
          165,
          166,
          167,
          168,
          169,
          170,
          171,
          172,
          173,
          174,
          175,
          176,
          177,
          178,
          179,
          180,
          181,
          182,
          183,
          184,
          185,
          186,
          187,
          188,
          189,
          190,
          191,
          192,
          193,
          194,
          195,
          196,
          197,
          198,
          199,
          200,
          201,
          202,
          203,
          204,
          205,
          206,
          207,
          208,
          209,
          210,
          211,
          212,
          213,
          214,
          215,
          216,
          217,
          218,
          219,
          220,
          221,
          222,
          223,
          224,
          225,
          226,
          227,
          228,
          229,
          230,
          231,
          232,
          233,
          234,
          235,
          236,
          237,
          238,
          239,
          240,
          241,
          242,
          243,
          244,
          245,
          246,
          247,
          248,
          249,
          250,
          251,
          252,
          253,
          254,
          255,
          256,
          257,
          258,
          259,
          260,
          261,
          262,
          263,
          264,
          265,
          266,
          267,
          268,
          269,
          270,
          271,
          272,
          273,
          274,
          275,
          276,
          277,
          278,
          279,
          280,
          281,
          282,
          283,
          284,
          285,
          286,
          287,
          288,
          289,
          290,
          291,
          292,
          293,
          294,
          295,
          296,
          297,
          298,
          299,
          300,
          301,
          302,
          303,
          304,
          305,
          306,
          307,
          308,
          309,
          310,
          311,
          312,
          313,
          314,
          315,
          316,
          317,
          318,
          319,
          320,
          321,
          322,
          323,
          324,
          325,
          326,
          327,
          328,
          329,
          330,
          331,
          332,
          333,
          334,
          335,
          336,
          337,
          338,
          339,
          340,
          341,
          342,
          343,
          344,
          345,
          346,
          347,
          348,
          349,
          350,
          351,
          352,
          353,
          354,
          355,
          356,
          357,
          358,
          359,
          360,
          361,
          362,
          363,
          364,
          365,
          366,
          367,
          368,
          369,
          370,
          371,
          372,
          373,
          374,
          375,
          376,
          377,
          378,
          379,
          380,
          381,
          382,
          383,
          384,
          385,
          386,
          387,
          388,
          389,
          390,
          391,
          392,
          393,
          394,
          395,
          396,
          397,
          398,
          399,
          400,
          401,
          402,
          403,
          404,
          405,
          406,
          407,
          408,
          409,
          410,
          411,
          412,
          413,
          414,
          415,
          416,
          417,
          418,
          419,
          420,
          421,
          422,
          423,
          424,
          425,
          426,
          427,
          428,
          429,
          430,
          431,
          432,
          433,
          434,
          435,
          436,
          437,
          438,
          439,
          440,
          441,
          442,
          443,
          444,
          445,
          446,
          447,
          448,
          449,
          450,
          451,
          452,
          453,
          454,
          455,
          456,
          457,
          458,
          459,
          460,
          461,
          462,
          463,
          464,
          465,
          466,
          467,
          468,
          469,
          470,
          471,
          472,
          473,
          474,
          475,
          476,
          477,
          478,
          479,
          480,
          481,
          482,
          483,
          484,
          485,
          486,
          487,
          488,
          489,
          490,
          491,
          492,
          493,
          494,
          495,
          496,
          497,
          498,
          499,
          500,
          501,
          502,
          503,
          504,
          505,
          506,
          507,
          508,
          509,
          510,
          511,
          512,
          513,
          514,
          515,
          516,
          517,
          518,
          519,
          520,
          521,
          522,
          523,
          524,
          525,
          526,
          527,
          528,
          529,
          530,
          531,
          532,
          533,
          534,
          535,
          536,
          537,
          538,
          539,
          540,
          541,
          542,
          543,
          544,
          545,
          546,
          547,
          548,
          549,
          550,
          551,
          552,
          553,
          554,
          555,
          556,
          557,
          558,
          559,
          560,
          561,
          562,
          563,
          564,
          565,
          566,
          567,
          568,
          569,
          570,
          571,
          572,
          573,
          574,
          575,
          576,
          577,
          578,
          579,
          580,
          581,
          582,
          583,
          584,
          585,
          586,
          587,
          588,
          589,
          590,
          591,
          592,
          593,
          594,
          595,
          596,
          597,
          598,
          599,
          600,
          601,
          602,
          603,
          604,
          605,
          606,
          607,
          608,
          609,
          610,
          611,
          612,
          613,
          614,
          615,
          616,
          617,
          618,
          619,
          620,
          621,
          622,
          623,
          624,
          625,
          626,
          627,
          628,
          629,
          630,
          631,
          632,
          633,
          634,
          635,
          636,
          637,
          638,
          639,
          640,
          641,
          642,
          643,
          644,
          645,
          646,
          647,
          648,
          649,
          650,
          651,
          652,
          653,
          654,
          655,
          656,
          657,
          658,
          659,
          660,
          661,
          662,
          663,
          664,
          665,
          666,
          667,
          668,
          669,
          670,
          671,
          672,
          673,
          674,
          675,
          676,
          677,
          678,
          679,
          680,
          681,
          682,
          683,
          684,
          685,
          686,
          687,
          688,
          689,
          690,
          691,
          692,
          693,
          694,
          695,
          696,
          697,
          698,
          699,
          700,
          701,
          702,
          703,
          704,
          705,
          706,
          707,
          708,
          709,
          710,
          711,
          712,
          713,
          714,
          715,
          716,
          717,
          718,
          719,
          720,
          721,
          722,
          723,
          724,
          725,
          726,
          727,
          728,
          729,
          730,
          731,
          732,
          733,
          734,
          735,
          736,
          737,
          738,
          739,
          740,
          741,
          742,
          743,
          744,
          745,
          746,
          747,
          748,
          749,
          750,
          751,
          752,
          753,
          754,
          755,
          756,
          757,
          758,
          759,
          760,
          761,
          762,
          763,
          764,
          765,
          766,
          767,
          768,
          769,
          770,
          771,
          772,
          773,
          774,
          775,
          776,
          777,
          778,
          779,
          780,
          781,
          782
         ],
         "y": [
          3.1791024208068848,
          0.7933483123779297,
          -1.0266155004501343,
          -1.1357609033584595,
          -0.8204715251922607,
          9.347236633300781,
          -6.079044818878174,
          1.5444421768188477,
          -2.6828651428222656,
          -3.6342859268188477,
          -5.004286289215088,
          -5.528514862060547,
          1.80291748046875,
          1.6946868896484375,
          12.294053077697754,
          -0.17230558395385742,
          1.3048573732376099,
          0.11859291791915894,
          -0.2056729793548584,
          0.4600052833557129,
          -0.15251857042312622,
          0.7481279373168945,
          -0.4076840877532959,
          0.08914428949356079,
          0.4512632489204407,
          -0.5162984132766724,
          1.137650489807129,
          0.0378945991396904,
          0.17303836345672607,
          -0.15168124437332153,
          -0.0755465179681778,
          0.14422762393951416,
          -0.2148844599723816,
          -0.04529479146003723,
          -0.3985130190849304,
          0.13751709461212158,
          -0.5941001176834106,
          -0.01755748689174652,
          0.07898080348968506,
          0.29222244024276733,
          -0.07178763300180435,
          0.40846410393714905,
          0.021069057285785675,
          2.3004322052001953,
          0.07633408904075623,
          0.3433101177215576,
          -0.2054927796125412,
          -0.6228747963905334,
          -0.4209575057029724,
          -0.1855509877204895,
          -0.004369478672742844,
          0.16424405574798584,
          0.0037301452830433846,
          -2.054500102996826,
          0.9395905137062073,
          0.10866807401180267,
          0.15848810970783234,
          0.005347520112991333,
          -0.027545161545276642,
          0.05397643893957138,
          -0.5611389875411987,
          -0.4392339587211609,
          0.3664630055427551,
          0.04403218254446983,
          1.6656469106674194,
          0.2931887209415436,
          -0.18617630004882812,
          0.034761182963848114,
          0.24731117486953735,
          0.21156662702560425,
          0.03341168165206909,
          -0.5923874378204346,
          -0.0379955917596817,
          0.09518663585186005,
          0.016132712364196777,
          0.2755640745162964,
          0.05492845177650452,
          0.05853932350873947,
          -0.011388331651687622,
          0.0655030608177185,
          -0.08145959675312042,
          0.21469590067863464,
          -0.40632396936416626,
          1.6415001153945923,
          -0.46846121549606323,
          0.5621567964553833,
          -0.17266470193862915,
          0.08105987310409546,
          -0.09994594752788544,
          -0.15194860100746155,
          0.07682177424430847,
          0.07364435493946075,
          -0.5545133948326111,
          0.1189829409122467,
          0.23536594212055206,
          -0.30466747283935547,
          0.3884373605251312,
          0.7068796157836914,
          -0.12216755747795105,
          0.6742923259735107,
          0.5207430720329285,
          -0.40403154492378235,
          0.2597648799419403,
          -0.23047010600566864,
          0.07056014239788055,
          0.4014357924461365,
          -0.36420494318008423,
          -0.23832309246063232,
          -0.19055193662643433,
          -0.04982868209481239,
          -0.041646558791399,
          -0.1673334836959839,
          0.3787475824356079,
          0.08282700181007385,
          -0.7769750356674194,
          0.80148845911026,
          -0.0296805240213871,
          -0.002410806715488434,
          0.04449602961540222,
          -0.014634758234024048,
          -1.146177887916565,
          -0.10125337541103363,
          0.2428254932165146,
          -0.06922078132629395,
          0.20764248073101044,
          -0.030252858996391296,
          -0.36397889256477356,
          0.21899396181106567,
          0.02246771939098835,
          0.02978631481528282,
          1.3708871603012085,
          -0.10933394730091095,
          -1.4477417469024658,
          -0.03126325458288193,
          0.07085393369197845,
          0.11724865436553955,
          0.002782300114631653,
          0.46029195189476013,
          0.8590587377548218,
          -1.1519910097122192,
          0.3053794503211975,
          0.36563408374786377,
          0.19543029367923737,
          -0.18439137935638428,
          -1.7497100830078125,
          -0.0798359215259552,
          0.08684726059436798,
          -0.0507839098572731,
          -0.570495069026947,
          -0.8710055947303772,
          0.248436838388443,
          0.21982342004776,
          -0.4536471366882324,
          0.019903749227523804,
          -0.05986113101243973,
          -0.15293243527412415,
          0.22487543523311615,
          -0.08797658234834671,
          -0.31862109899520874,
          -0.14824078977108002,
          -0.009068820625543594,
          -0.149402916431427,
          0.33834242820739746,
          0.2174232304096222,
          0.20505207777023315,
          -0.2971785068511963,
          0.12227649986743927,
          1.6182620525360107,
          0.28738531470298767,
          -1.137937068939209,
          -0.08061958849430084,
          0.09721782803535461,
          0.24463343620300293,
          0.535663902759552,
          -0.18433454632759094,
          0.1778353601694107,
          -0.2644151747226715,
          0.9295098185539246,
          0.13983851671218872,
          -0.08420338481664658,
          -0.03896186500787735,
          -0.1944458782672882,
          0.4233497977256775,
          0.03982210159301758,
          0.15244239568710327,
          0.0948253646492958,
          -0.11013978719711304,
          0.16006293892860413,
          0.10273914039134979,
          0.90062016248703,
          -0.5934238433837891,
          1.314683437347412,
          -0.031411997973918915,
          0.2144719362258911,
          -0.28386473655700684,
          -0.02267426997423172,
          -0.7711117267608643,
          -0.4753921926021576,
          0.36274582147598267,
          -0.10092765092849731,
          0.30912190675735474,
          -0.23837809264659882,
          -0.3266003131866455,
          2.8725125789642334,
          -0.2875356376171112,
          0.6547519564628601,
          0.41601359844207764,
          0.43079617619514465,
          -0.6864844560623169,
          -0.43809205293655396,
          1.101391315460205,
          0.02536506950855255,
          -0.018384888768196106,
          -0.04508376121520996,
          -0.2207573801279068,
          -0.01286432147026062,
          0.020476117730140686,
          0.5979315638542175,
          1.423327088356018,
          -0.06683236360549927,
          -0.19907087087631226,
          -0.0705106183886528,
          0.2615148425102234,
          -0.30847808718681335,
          -0.2608587443828583,
          -0.12203210592269897,
          -0.8746422529220581,
          0.22247298061847687,
          0.19925136864185333,
          -0.34768062829971313,
          0.35211002826690674,
          0.17090678215026855,
          0.3305521607398987,
          0.09188950061798096,
          -0.06646287441253662,
          -0.3662354648113251,
          0.2465161234140396,
          0.1766134798526764,
          -0.23552057147026062,
          -0.38404154777526855,
          -0.29364269971847534,
          -0.17748340964317322,
          -0.384223997592926,
          -0.3501690924167633,
          0.1656598597764969,
          0.2913297116756439,
          0.7810872197151184,
          0.026280105113983154,
          -0.007179077714681625,
          -0.0682946965098381,
          0.11248613893985748,
          -0.004768881015479565,
          0.4536614716053009,
          -0.12756069004535675,
          -0.22498390078544617,
          -0.28814247250556946,
          -0.23472926020622253,
          -0.1297110915184021,
          -0.278328537940979,
          -0.0008933842182159424,
          0.6373648643493652,
          -0.040621161460876465,
          0.20224475860595703,
          0.029780708253383636,
          -0.667636513710022,
          -0.4728785753250122,
          0.267772912979126,
          -0.1699243187904358,
          0.16164138913154602,
          -0.022848989814519882,
          1.9417864084243774,
          -0.5655632019042969,
          -0.15114519000053406,
          0.24293480813503265,
          -0.163126140832901,
          -2.068873405456543,
          0.236217200756073,
          -0.05743727833032608,
          -0.430988609790802,
          -0.1596997082233429,
          0.3517322838306427,
          -0.3878510296344757,
          0.4148067533969879,
          0.7140690088272095,
          -0.6156558394432068,
          -0.18867433071136475,
          1.8294445276260376,
          -2.0247344970703125,
          0.001936785876750946,
          -0.06341437995433807,
          0.0013922005891799927,
          -0.19868135452270508,
          0.171578049659729,
          2.138679027557373,
          -0.5833494663238525,
          -0.05059622973203659,
          0.26701515913009644,
          0.0525851845741272,
          0.26298192143440247,
          -0.012902317568659782,
          -0.43884414434432983,
          -0.3582741618156433,
          -0.07904906570911407,
          0.2669823467731476,
          0.04292237013578415,
          -0.011413875967264175,
          2.811457633972168,
          0.03308302164077759,
          0.23981404304504395,
          -0.22621271014213562,
          1.0468096733093262,
          0.17195606231689453,
          0.4096263647079468,
          -0.1848061978816986,
          0.025922756642103195,
          -0.17015452682971954,
          0.4188939034938812,
          0.418794184923172,
          0.33865225315093994,
          -1.0269920825958252,
          0.5812435746192932,
          -0.3987150192260742,
          0.12139099091291428,
          -0.07398355007171631,
          2.583402395248413,
          -0.1378750205039978,
          -0.6257349252700806,
          -0.14204496145248413,
          -0.1387607455253601,
          0.15428276360034943,
          -1.1149897575378418,
          -1.0862197875976562,
          0.16580849885940552,
          0.17395588755607605,
          -0.07439747452735901,
          -0.03217645734548569,
          1.0725536346435547,
          1.1178606748580933,
          0.35569822788238525,
          -0.23306876420974731,
          -0.10344315320253372,
          -0.4446678161621094,
          -0.0373682826757431,
          0.37664228677749634,
          0.8932946920394897,
          0.6030035614967346,
          0.24178022146224976,
          -0.17326778173446655,
          -0.1317112147808075,
          -0.18263554573059082,
          0.006675112992525101,
          -0.41372060775756836,
          -0.049401089549064636,
          0.2583150863647461,
          0.17918676137924194,
          0.1849028766155243,
          0.24847294390201569,
          0.47962191700935364,
          -0.34647417068481445,
          0.31313377618789673,
          -0.26804372668266296,
          0.00610332190990448,
          -0.0941256731748581,
          0.12145009636878967,
          0.0016183992847800255,
          0.3247067928314209,
          -1.2291648387908936,
          0.011347601190209389,
          0.2245311290025711,
          0.30054524540901184,
          -0.05305519700050354,
          0.2088000625371933,
          0.32375413179397583,
          1.5557668209075928,
          -0.042965278029441833,
          -0.19794365763664246,
          0.482760488986969,
          -0.2745860815048218,
          -0.06823620200157166,
          -0.0208568312227726,
          0.16600127518177032,
          -0.17756874859333038,
          0.6715070009231567,
          0.021679580211639404,
          -0.0972868949174881,
          0.2472531795501709,
          -0.12939117848873138,
          0.1601695865392685,
          0.0534125380218029,
          1.1939945220947266,
          0.25049275159835815,
          -0.36509016156196594,
          -0.023267101496458054,
          2.3491060733795166,
          0.4047759175300598,
          0.3420313000679016,
          0.2331172227859497,
          0.7289748191833496,
          0.023263996466994286,
          0.1003645807504654,
          -0.9915653467178345,
          0.022480681538581848,
          -0.07568368315696716,
          0.18243716657161713,
          -1.0010147094726562,
          0.0815553218126297,
          -1.7485687732696533,
          -0.13833743333816528,
          -0.042310357093811035,
          0.7425956130027771,
          0.20611876249313354,
          -0.11999961733818054,
          -0.05822838097810745,
          -0.23540490865707397,
          -0.05617588758468628,
          2.0400874614715576,
          0.5321657061576843,
          -0.1202380433678627,
          0.18688739836215973,
          0.4217965006828308,
          -0.270388126373291,
          -0.11963647603988647,
          1.4649395942687988,
          -0.18690770864486694,
          0.6250555515289307,
          -0.12018771469593048,
          1.1850438117980957,
          0.1668413132429123,
          0.39459216594696045,
          0.3219336271286011,
          0.11769647896289825,
          0.5104621648788452,
          0.20080262422561646,
          0.017673224210739136,
          -0.2137608528137207,
          0.13211177289485931,
          0.4096066951751709,
          -0.8767768144607544,
          -0.18422001600265503,
          -0.09987221658229828,
          -1.3275343179702759,
          0.3004000782966614,
          -0.042140137404203415,
          -0.7205058336257935,
          0.10184916108846664,
          0.10569842159748077,
          0.9430848360061646,
          0.14049166440963745,
          -0.418133020401001,
          0.021795809268951416,
          -0.7110236883163452,
          0.1757185012102127,
          -0.07388367503881454,
          0.3762308955192566,
          -0.19582140445709229,
          0.2869536876678467,
          -0.34727999567985535,
          -0.004873339086771011,
          0.13341385126113892,
          -0.14901956915855408,
          -0.047164857387542725,
          0.21686536073684692,
          0.20570236444473267,
          -0.4202202260494232,
          -1.3300913572311401,
          -0.3162284791469574,
          -0.40307605266571045,
          -1.4006061553955078,
          -0.6045054793357849,
          -0.7815389633178711,
          0.3164023756980896,
          3.6796722412109375,
          -0.04268479719758034,
          -0.2546026110649109,
          -0.024219468235969543,
          -0.6497906446456909,
          0.0010084956884384155,
          -0.19735628366470337,
          0.4979856014251709,
          0.578073263168335,
          -3.6366021633148193,
          0.14017756283283234,
          1.4422391653060913,
          0.7785429954528809,
          0.07242044806480408,
          -0.13657215237617493,
          0.28899747133255005,
          -0.367356538772583,
          -0.1407938152551651,
          -0.6215357780456543,
          0.26812586188316345,
          0.12756535410881042,
          -0.2431352138519287,
          1.4918451309204102,
          0.5210738182067871,
          -0.08516723662614822,
          -0.43946874141693115,
          0.8040893077850342,
          0.22323653101921082,
          -0.2373664677143097,
          -0.0702720582485199,
          0.6976869106292725,
          -1.305736780166626,
          0.7230676412582397,
          0.007385401986539364,
          0.29929429292678833,
          -0.1673664152622223,
          -0.2561456859111786,
          2.1644833087921143,
          -0.11721938848495483,
          0.5432899594306946,
          -0.22257477045059204,
          0.018161267042160034,
          -0.4563319683074951,
          -0.32472288608551025,
          0.07677117735147476,
          0.1418912410736084,
          2.1455719470977783,
          1.0255630016326904,
          -0.7992503643035889,
          -0.03764662146568298,
          -0.5001702308654785,
          0.10408876836299896,
          -0.3565236032009125,
          0.05222046375274658,
          -0.05203425884246826,
          0.5849430561065674,
          1.2611099481582642,
          -1.060399055480957,
          0.024007853120565414,
          0.1556176245212555,
          -0.5535375475883484,
          1.7574824094772339,
          -0.05167695879936218,
          0.5457966327667236,
          -0.0502765029668808,
          0.0034179985523223877,
          0.09498035907745361,
          -0.5345463156700134,
          -0.5361047983169556,
          0.03837615251541138,
          0.5303486585617065,
          0.19773942232131958,
          -0.3637522757053375,
          0.1257438212633133,
          0.23172910511493683,
          -0.838013768196106,
          0.5854569673538208,
          0.012479409575462341,
          0.14588893949985504,
          -0.12605540454387665,
          -0.1720922887325287,
          -0.20604541897773743,
          0.09801309555768967,
          0.576197624206543,
          0.3194877505302429,
          1.1964998245239258,
          0.22826486825942993,
          -0.15911661088466644,
          0.5096811056137085,
          -0.04062221944332123,
          1.5945415496826172,
          2.5149407386779785,
          -0.4632323086261749,
          0.12531624734401703,
          -0.15069158375263214,
          -0.018185339868068695,
          -0.03220159560441971,
          -0.4097500741481781,
          -0.6634953022003174,
          0.6508709192276001,
          -0.1136857271194458,
          -0.04926803708076477,
          -1.3088388442993164,
          0.04441211745142937,
          -0.1671871542930603,
          0.171919584274292,
          -0.7907859683036804,
          0.11565253883600235,
          0.008294239640235901,
          -0.8501290082931519,
          -0.0737415999174118,
          0.24437522888183594,
          -0.17140933871269226,
          0.13554581999778748,
          -1.5327204465866089,
          1.0217007398605347,
          -0.3853118419647217,
          0.5939050316810608,
          0.2568582594394684,
          -0.09612425416707993,
          -0.3871486783027649,
          -2.5378994941711426,
          0.12437109649181366,
          -0.17983485758304596,
          -0.42373108863830566,
          -0.21786126494407654,
          0.7271125316619873,
          -0.1382180154323578,
          0.5069552063941956,
          -0.024556584656238556,
          0.0251358300447464,
          -2.6987900733947754,
          -0.4893958568572998,
          -0.5654774904251099,
          0.6136186718940735,
          -0.06003129482269287,
          -0.23911085724830627,
          0.5599489212036133,
          -0.04322914779186249,
          -0.36046820878982544,
          -0.15784472227096558,
          0.02473633736371994,
          -0.5989512205123901,
          -0.013367071747779846,
          0.7906525731086731,
          -0.1640755832195282,
          0.29086196422576904,
          -0.10151132941246033,
          0.28096461296081543,
          0.16284576058387756,
          0.3144373893737793,
          0.07995640486478806,
          -0.16087302565574646,
          0.6608231663703918,
          -0.22303786873817444,
          -0.47322750091552734,
          0.5509254932403564,
          -0.861979067325592,
          0.16412442922592163,
          -0.3468881845474243,
          0.039279788732528687,
          -0.1568254977464676,
          -0.30598941445350647,
          -1.2112061977386475,
          -0.011815493926405907,
          -0.21629127860069275,
          0.028233587741851807,
          -0.32895636558532715,
          0.35521215200424194,
          0.16964922845363617,
          -0.07578393816947937,
          -0.22541649639606476,
          0.6761481761932373,
          0.30962610244750977,
          0.1142352819442749,
          0.4717922806739807,
          0.20686018466949463,
          -0.25046297907829285,
          0.3101516366004944,
          -0.26279252767562866,
          -0.12742695212364197,
          0.6414986848831177,
          -0.2577395439147949,
          0.07538609951734543,
          0.09193728119134903,
          -0.10285159945487976,
          0.9309157133102417,
          -0.20974861085414886,
          -0.05954807624220848,
          -0.03110373392701149,
          -0.2640649080276489,
          -0.22753995656967163,
          -0.391681969165802,
          0.9505016803741455,
          0.9216858148574829,
          -0.44237715005874634,
          -0.18320801854133606,
          0.04553429037332535,
          -0.23605331778526306,
          0.054877642542123795,
          0.036506425589323044,
          -0.0077611226588487625,
          -0.2420249879360199,
          -0.11981377005577087,
          -1.3438866138458252,
          -0.08011455833911896,
          -0.8289757370948792,
          0.030470743775367737,
          0.669235110282898,
          0.2074408084154129,
          -0.5526891946792603,
          0.21391832828521729,
          0.3985849618911743,
          -0.08572369068861008,
          -0.373048335313797,
          1.267487645149231,
          0.11302930116653442,
          0.09668758511543274,
          0.31721431016921997,
          -0.9871854782104492,
          0.07534582912921906,
          0.37567830085754395,
          -0.3250553607940674,
          -0.0753612369298935,
          0.5571362376213074,
          0.04071444272994995,
          -0.3227033317089081,
          -0.28158190846443176,
          -0.011759137734770775,
          0.42082783579826355,
          0.1281355917453766,
          0.0771486833691597,
          1.0485469102859497,
          0.007989279925823212,
          0.0980788916349411,
          0.36919429898262024,
          0.23181575536727905,
          0.15330249071121216,
          -0.10425390303134918,
          -0.2973763942718506,
          0.20297475159168243,
          -0.332173228263855,
          0.16991500556468964,
          -0.06916671991348267,
          0.22064369916915894,
          0.2765626311302185,
          0.17366856336593628,
          -0.21183082461357117,
          -0.12104490399360657,
          0.05677533149719238,
          0.1580887734889984,
          -0.8696094751358032,
          -0.9921550154685974,
          0.05078861117362976,
          -0.12481623142957687,
          0.20027989149093628,
          0.121432363986969,
          -0.6035903692245483,
          0.2803957462310791,
          -0.6312337517738342,
          0.7792948484420776,
          -0.6145893335342407,
          0.29348069429397583,
          0.4800751209259033,
          -0.2287859320640564,
          0.2113138735294342,
          0.021642684936523438,
          0.019673556089401245,
          0.16347306966781616,
          -0.2303941696882248,
          -0.6203301548957825,
          -0.268147349357605,
          -0.21995708346366882,
          -1.3173699378967285,
          -0.11877413094043732,
          0.05460326373577118,
          -0.15760865807533264,
          -0.010701760649681091,
          1.1326944828033447,
          0.7855738401412964,
          -0.036709025502204895,
          0.29716578125953674,
          1.3537222146987915,
          -0.08898390829563141,
          0.5405632257461548,
          -0.3180196285247803,
          0.2274789661169052,
          -0.6978438496589661,
          -0.2514461874961853,
          1.284043550491333,
          -0.004158433526754379,
          -0.9311143159866333,
          -0.2652672529220581,
          0.5890899896621704,
          0.3579031229019165,
          0.25030362606048584,
          -0.22440961003303528,
          0.9889123439788818,
          0.054559946060180664,
          0.2569625973701477,
          0.08327111601829529,
          -2.0627799034118652,
          -0.2719429135322571,
          0.4951505661010742,
          -0.030762627720832825,
          -0.15274576842784882,
          0.10955046862363815,
          -0.15550479292869568,
          2.261702537536621,
          0.08674953877925873,
          -0.24702954292297363,
          0.20763814449310303
         ]
        }
       ],
       "layout": {
        "template": {
         "data": {
          "bar": [
           {
            "error_x": {
             "color": "#2a3f5f"
            },
            "error_y": {
             "color": "#2a3f5f"
            },
            "marker": {
             "line": {
              "color": "#E5ECF6",
              "width": 0.5
             }
            },
            "type": "bar"
           }
          ],
          "barpolar": [
           {
            "marker": {
             "line": {
              "color": "#E5ECF6",
              "width": 0.5
             }
            },
            "type": "barpolar"
           }
          ],
          "carpet": [
           {
            "aaxis": {
             "endlinecolor": "#2a3f5f",
             "gridcolor": "white",
             "linecolor": "white",
             "minorgridcolor": "white",
             "startlinecolor": "#2a3f5f"
            },
            "baxis": {
             "endlinecolor": "#2a3f5f",
             "gridcolor": "white",
             "linecolor": "white",
             "minorgridcolor": "white",
             "startlinecolor": "#2a3f5f"
            },
            "type": "carpet"
           }
          ],
          "choropleth": [
           {
            "colorbar": {
             "outlinewidth": 0,
             "ticks": ""
            },
            "type": "choropleth"
           }
          ],
          "contour": [
           {
            "colorbar": {
             "outlinewidth": 0,
             "ticks": ""
            },
            "colorscale": [
             [
              0,
              "#0d0887"
             ],
             [
              0.1111111111111111,
              "#46039f"
             ],
             [
              0.2222222222222222,
              "#7201a8"
             ],
             [
              0.3333333333333333,
              "#9c179e"
             ],
             [
              0.4444444444444444,
              "#bd3786"
             ],
             [
              0.5555555555555556,
              "#d8576b"
             ],
             [
              0.6666666666666666,
              "#ed7953"
             ],
             [
              0.7777777777777778,
              "#fb9f3a"
             ],
             [
              0.8888888888888888,
              "#fdca26"
             ],
             [
              1,
              "#f0f921"
             ]
            ],
            "type": "contour"
           }
          ],
          "contourcarpet": [
           {
            "colorbar": {
             "outlinewidth": 0,
             "ticks": ""
            },
            "type": "contourcarpet"
           }
          ],
          "heatmap": [
           {
            "colorbar": {
             "outlinewidth": 0,
             "ticks": ""
            },
            "colorscale": [
             [
              0,
              "#0d0887"
             ],
             [
              0.1111111111111111,
              "#46039f"
             ],
             [
              0.2222222222222222,
              "#7201a8"
             ],
             [
              0.3333333333333333,
              "#9c179e"
             ],
             [
              0.4444444444444444,
              "#bd3786"
             ],
             [
              0.5555555555555556,
              "#d8576b"
             ],
             [
              0.6666666666666666,
              "#ed7953"
             ],
             [
              0.7777777777777778,
              "#fb9f3a"
             ],
             [
              0.8888888888888888,
              "#fdca26"
             ],
             [
              1,
              "#f0f921"
             ]
            ],
            "type": "heatmap"
           }
          ],
          "heatmapgl": [
           {
            "colorbar": {
             "outlinewidth": 0,
             "ticks": ""
            },
            "colorscale": [
             [
              0,
              "#0d0887"
             ],
             [
              0.1111111111111111,
              "#46039f"
             ],
             [
              0.2222222222222222,
              "#7201a8"
             ],
             [
              0.3333333333333333,
              "#9c179e"
             ],
             [
              0.4444444444444444,
              "#bd3786"
             ],
             [
              0.5555555555555556,
              "#d8576b"
             ],
             [
              0.6666666666666666,
              "#ed7953"
             ],
             [
              0.7777777777777778,
              "#fb9f3a"
             ],
             [
              0.8888888888888888,
              "#fdca26"
             ],
             [
              1,
              "#f0f921"
             ]
            ],
            "type": "heatmapgl"
           }
          ],
          "histogram": [
           {
            "marker": {
             "colorbar": {
              "outlinewidth": 0,
              "ticks": ""
             }
            },
            "type": "histogram"
           }
          ],
          "histogram2d": [
           {
            "colorbar": {
             "outlinewidth": 0,
             "ticks": ""
            },
            "colorscale": [
             [
              0,
              "#0d0887"
             ],
             [
              0.1111111111111111,
              "#46039f"
             ],
             [
              0.2222222222222222,
              "#7201a8"
             ],
             [
              0.3333333333333333,
              "#9c179e"
             ],
             [
              0.4444444444444444,
              "#bd3786"
             ],
             [
              0.5555555555555556,
              "#d8576b"
             ],
             [
              0.6666666666666666,
              "#ed7953"
             ],
             [
              0.7777777777777778,
              "#fb9f3a"
             ],
             [
              0.8888888888888888,
              "#fdca26"
             ],
             [
              1,
              "#f0f921"
             ]
            ],
            "type": "histogram2d"
           }
          ],
          "histogram2dcontour": [
           {
            "colorbar": {
             "outlinewidth": 0,
             "ticks": ""
            },
            "colorscale": [
             [
              0,
              "#0d0887"
             ],
             [
              0.1111111111111111,
              "#46039f"
             ],
             [
              0.2222222222222222,
              "#7201a8"
             ],
             [
              0.3333333333333333,
              "#9c179e"
             ],
             [
              0.4444444444444444,
              "#bd3786"
             ],
             [
              0.5555555555555556,
              "#d8576b"
             ],
             [
              0.6666666666666666,
              "#ed7953"
             ],
             [
              0.7777777777777778,
              "#fb9f3a"
             ],
             [
              0.8888888888888888,
              "#fdca26"
             ],
             [
              1,
              "#f0f921"
             ]
            ],
            "type": "histogram2dcontour"
           }
          ],
          "mesh3d": [
           {
            "colorbar": {
             "outlinewidth": 0,
             "ticks": ""
            },
            "type": "mesh3d"
           }
          ],
          "parcoords": [
           {
            "line": {
             "colorbar": {
              "outlinewidth": 0,
              "ticks": ""
             }
            },
            "type": "parcoords"
           }
          ],
          "pie": [
           {
            "automargin": true,
            "type": "pie"
           }
          ],
          "scatter": [
           {
            "marker": {
             "colorbar": {
              "outlinewidth": 0,
              "ticks": ""
             }
            },
            "type": "scatter"
           }
          ],
          "scatter3d": [
           {
            "line": {
             "colorbar": {
              "outlinewidth": 0,
              "ticks": ""
             }
            },
            "marker": {
             "colorbar": {
              "outlinewidth": 0,
              "ticks": ""
             }
            },
            "type": "scatter3d"
           }
          ],
          "scattercarpet": [
           {
            "marker": {
             "colorbar": {
              "outlinewidth": 0,
              "ticks": ""
             }
            },
            "type": "scattercarpet"
           }
          ],
          "scattergeo": [
           {
            "marker": {
             "colorbar": {
              "outlinewidth": 0,
              "ticks": ""
             }
            },
            "type": "scattergeo"
           }
          ],
          "scattergl": [
           {
            "marker": {
             "colorbar": {
              "outlinewidth": 0,
              "ticks": ""
             }
            },
            "type": "scattergl"
           }
          ],
          "scattermapbox": [
           {
            "marker": {
             "colorbar": {
              "outlinewidth": 0,
              "ticks": ""
             }
            },
            "type": "scattermapbox"
           }
          ],
          "scatterpolar": [
           {
            "marker": {
             "colorbar": {
              "outlinewidth": 0,
              "ticks": ""
             }
            },
            "type": "scatterpolar"
           }
          ],
          "scatterpolargl": [
           {
            "marker": {
             "colorbar": {
              "outlinewidth": 0,
              "ticks": ""
             }
            },
            "type": "scatterpolargl"
           }
          ],
          "scatterternary": [
           {
            "marker": {
             "colorbar": {
              "outlinewidth": 0,
              "ticks": ""
             }
            },
            "type": "scatterternary"
           }
          ],
          "surface": [
           {
            "colorbar": {
             "outlinewidth": 0,
             "ticks": ""
            },
            "colorscale": [
             [
              0,
              "#0d0887"
             ],
             [
              0.1111111111111111,
              "#46039f"
             ],
             [
              0.2222222222222222,
              "#7201a8"
             ],
             [
              0.3333333333333333,
              "#9c179e"
             ],
             [
              0.4444444444444444,
              "#bd3786"
             ],
             [
              0.5555555555555556,
              "#d8576b"
             ],
             [
              0.6666666666666666,
              "#ed7953"
             ],
             [
              0.7777777777777778,
              "#fb9f3a"
             ],
             [
              0.8888888888888888,
              "#fdca26"
             ],
             [
              1,
              "#f0f921"
             ]
            ],
            "type": "surface"
           }
          ],
          "table": [
           {
            "cells": {
             "fill": {
              "color": "#EBF0F8"
             },
             "line": {
              "color": "white"
             }
            },
            "header": {
             "fill": {
              "color": "#C8D4E3"
             },
             "line": {
              "color": "white"
             }
            },
            "type": "table"
           }
          ]
         },
         "layout": {
          "annotationdefaults": {
           "arrowcolor": "#2a3f5f",
           "arrowhead": 0,
           "arrowwidth": 1
          },
          "coloraxis": {
           "colorbar": {
            "outlinewidth": 0,
            "ticks": ""
           }
          },
          "colorscale": {
           "diverging": [
            [
             0,
             "#8e0152"
            ],
            [
             0.1,
             "#c51b7d"
            ],
            [
             0.2,
             "#de77ae"
            ],
            [
             0.3,
             "#f1b6da"
            ],
            [
             0.4,
             "#fde0ef"
            ],
            [
             0.5,
             "#f7f7f7"
            ],
            [
             0.6,
             "#e6f5d0"
            ],
            [
             0.7,
             "#b8e186"
            ],
            [
             0.8,
             "#7fbc41"
            ],
            [
             0.9,
             "#4d9221"
            ],
            [
             1,
             "#276419"
            ]
           ],
           "sequential": [
            [
             0,
             "#0d0887"
            ],
            [
             0.1111111111111111,
             "#46039f"
            ],
            [
             0.2222222222222222,
             "#7201a8"
            ],
            [
             0.3333333333333333,
             "#9c179e"
            ],
            [
             0.4444444444444444,
             "#bd3786"
            ],
            [
             0.5555555555555556,
             "#d8576b"
            ],
            [
             0.6666666666666666,
             "#ed7953"
            ],
            [
             0.7777777777777778,
             "#fb9f3a"
            ],
            [
             0.8888888888888888,
             "#fdca26"
            ],
            [
             1,
             "#f0f921"
            ]
           ],
           "sequentialminus": [
            [
             0,
             "#0d0887"
            ],
            [
             0.1111111111111111,
             "#46039f"
            ],
            [
             0.2222222222222222,
             "#7201a8"
            ],
            [
             0.3333333333333333,
             "#9c179e"
            ],
            [
             0.4444444444444444,
             "#bd3786"
            ],
            [
             0.5555555555555556,
             "#d8576b"
            ],
            [
             0.6666666666666666,
             "#ed7953"
            ],
            [
             0.7777777777777778,
             "#fb9f3a"
            ],
            [
             0.8888888888888888,
             "#fdca26"
            ],
            [
             1,
             "#f0f921"
            ]
           ]
          },
          "colorway": [
           "#636efa",
           "#EF553B",
           "#00cc96",
           "#ab63fa",
           "#FFA15A",
           "#19d3f3",
           "#FF6692",
           "#B6E880",
           "#FF97FF",
           "#FECB52"
          ],
          "font": {
           "color": "#2a3f5f"
          },
          "geo": {
           "bgcolor": "white",
           "lakecolor": "white",
           "landcolor": "#E5ECF6",
           "showlakes": true,
           "showland": true,
           "subunitcolor": "white"
          },
          "hoverlabel": {
           "align": "left"
          },
          "hovermode": "closest",
          "mapbox": {
           "style": "light"
          },
          "paper_bgcolor": "white",
          "plot_bgcolor": "#E5ECF6",
          "polar": {
           "angularaxis": {
            "gridcolor": "white",
            "linecolor": "white",
            "ticks": ""
           },
           "bgcolor": "#E5ECF6",
           "radialaxis": {
            "gridcolor": "white",
            "linecolor": "white",
            "ticks": ""
           }
          },
          "scene": {
           "xaxis": {
            "backgroundcolor": "#E5ECF6",
            "gridcolor": "white",
            "gridwidth": 2,
            "linecolor": "white",
            "showbackground": true,
            "ticks": "",
            "zerolinecolor": "white"
           },
           "yaxis": {
            "backgroundcolor": "#E5ECF6",
            "gridcolor": "white",
            "gridwidth": 2,
            "linecolor": "white",
            "showbackground": true,
            "ticks": "",
            "zerolinecolor": "white"
           },
           "zaxis": {
            "backgroundcolor": "#E5ECF6",
            "gridcolor": "white",
            "gridwidth": 2,
            "linecolor": "white",
            "showbackground": true,
            "ticks": "",
            "zerolinecolor": "white"
           }
          },
          "shapedefaults": {
           "line": {
            "color": "#2a3f5f"
           }
          },
          "ternary": {
           "aaxis": {
            "gridcolor": "white",
            "linecolor": "white",
            "ticks": ""
           },
           "baxis": {
            "gridcolor": "white",
            "linecolor": "white",
            "ticks": ""
           },
           "bgcolor": "#E5ECF6",
           "caxis": {
            "gridcolor": "white",
            "linecolor": "white",
            "ticks": ""
           }
          },
          "title": {
           "x": 0.05
          },
          "xaxis": {
           "automargin": true,
           "gridcolor": "white",
           "linecolor": "white",
           "ticks": "",
           "title": {
            "standoff": 15
           },
           "zerolinecolor": "white",
           "zerolinewidth": 2
          },
          "yaxis": {
           "automargin": true,
           "gridcolor": "white",
           "linecolor": "white",
           "ticks": "",
           "title": {
            "standoff": 15
           },
           "zerolinecolor": "white",
           "zerolinewidth": 2
          }
         }
        },
        "title": {
         "text": "Output of layer bn1"
        },
        "xaxis": {
         "title": {
          "text": "Dimension"
         }
        },
        "yaxis": {
         "title": {
          "text": "Layer Output"
         }
        }
       }
      },
      "text/html": [
       "<div>\n",
       "        \n",
       "        \n",
       "            <div id=\"46ee92bb-963a-4661-aa5e-c4b46cf2f27d\" class=\"plotly-graph-div\" style=\"height:525px; width:100%;\"></div>\n",
       "            <script type=\"text/javascript\">\n",
       "                require([\"plotly\"], function(Plotly) {\n",
       "                    window.PLOTLYENV=window.PLOTLYENV || {};\n",
       "                    \n",
       "                if (document.getElementById(\"46ee92bb-963a-4661-aa5e-c4b46cf2f27d\")) {\n",
       "                    Plotly.newPlot(\n",
       "                        '46ee92bb-963a-4661-aa5e-c4b46cf2f27d',\n",
       "                        [{\"marker\": {\"color\": \"#db0000\"}, \"type\": \"scatter\", \"x\": [0, 1, 2, 3, 4, 5, 6, 7, 8, 9, 10, 11, 12, 13, 14, 15, 16, 17, 18, 19, 20, 21, 22, 23, 24, 25, 26, 27, 28, 29, 30, 31, 32, 33, 34, 35, 36, 37, 38, 39, 40, 41, 42, 43, 44, 45, 46, 47, 48, 49, 50, 51, 52, 53, 54, 55, 56, 57, 58, 59, 60, 61, 62, 63, 64, 65, 66, 67, 68, 69, 70, 71, 72, 73, 74, 75, 76, 77, 78, 79, 80, 81, 82, 83, 84, 85, 86, 87, 88, 89, 90, 91, 92, 93, 94, 95, 96, 97, 98, 99, 100, 101, 102, 103, 104, 105, 106, 107, 108, 109, 110, 111, 112, 113, 114, 115, 116, 117, 118, 119, 120, 121, 122, 123, 124, 125, 126, 127, 128, 129, 130, 131, 132, 133, 134, 135, 136, 137, 138, 139, 140, 141, 142, 143, 144, 145, 146, 147, 148, 149, 150, 151, 152, 153, 154, 155, 156, 157, 158, 159, 160, 161, 162, 163, 164, 165, 166, 167, 168, 169, 170, 171, 172, 173, 174, 175, 176, 177, 178, 179, 180, 181, 182, 183, 184, 185, 186, 187, 188, 189, 190, 191, 192, 193, 194, 195, 196, 197, 198, 199, 200, 201, 202, 203, 204, 205, 206, 207, 208, 209, 210, 211, 212, 213, 214, 215, 216, 217, 218, 219, 220, 221, 222, 223, 224, 225, 226, 227, 228, 229, 230, 231, 232, 233, 234, 235, 236, 237, 238, 239, 240, 241, 242, 243, 244, 245, 246, 247, 248, 249, 250, 251, 252, 253, 254, 255, 256, 257, 258, 259, 260, 261, 262, 263, 264, 265, 266, 267, 268, 269, 270, 271, 272, 273, 274, 275, 276, 277, 278, 279, 280, 281, 282, 283, 284, 285, 286, 287, 288, 289, 290, 291, 292, 293, 294, 295, 296, 297, 298, 299, 300, 301, 302, 303, 304, 305, 306, 307, 308, 309, 310, 311, 312, 313, 314, 315, 316, 317, 318, 319, 320, 321, 322, 323, 324, 325, 326, 327, 328, 329, 330, 331, 332, 333, 334, 335, 336, 337, 338, 339, 340, 341, 342, 343, 344, 345, 346, 347, 348, 349, 350, 351, 352, 353, 354, 355, 356, 357, 358, 359, 360, 361, 362, 363, 364, 365, 366, 367, 368, 369, 370, 371, 372, 373, 374, 375, 376, 377, 378, 379, 380, 381, 382, 383, 384, 385, 386, 387, 388, 389, 390, 391, 392, 393, 394, 395, 396, 397, 398, 399, 400, 401, 402, 403, 404, 405, 406, 407, 408, 409, 410, 411, 412, 413, 414, 415, 416, 417, 418, 419, 420, 421, 422, 423, 424, 425, 426, 427, 428, 429, 430, 431, 432, 433, 434, 435, 436, 437, 438, 439, 440, 441, 442, 443, 444, 445, 446, 447, 448, 449, 450, 451, 452, 453, 454, 455, 456, 457, 458, 459, 460, 461, 462, 463, 464, 465, 466, 467, 468, 469, 470, 471, 472, 473, 474, 475, 476, 477, 478, 479, 480, 481, 482, 483, 484, 485, 486, 487, 488, 489, 490, 491, 492, 493, 494, 495, 496, 497, 498, 499, 500, 501, 502, 503, 504, 505, 506, 507, 508, 509, 510, 511, 512, 513, 514, 515, 516, 517, 518, 519, 520, 521, 522, 523, 524, 525, 526, 527, 528, 529, 530, 531, 532, 533, 534, 535, 536, 537, 538, 539, 540, 541, 542, 543, 544, 545, 546, 547, 548, 549, 550, 551, 552, 553, 554, 555, 556, 557, 558, 559, 560, 561, 562, 563, 564, 565, 566, 567, 568, 569, 570, 571, 572, 573, 574, 575, 576, 577, 578, 579, 580, 581, 582, 583, 584, 585, 586, 587, 588, 589, 590, 591, 592, 593, 594, 595, 596, 597, 598, 599, 600, 601, 602, 603, 604, 605, 606, 607, 608, 609, 610, 611, 612, 613, 614, 615, 616, 617, 618, 619, 620, 621, 622, 623, 624, 625, 626, 627, 628, 629, 630, 631, 632, 633, 634, 635, 636, 637, 638, 639, 640, 641, 642, 643, 644, 645, 646, 647, 648, 649, 650, 651, 652, 653, 654, 655, 656, 657, 658, 659, 660, 661, 662, 663, 664, 665, 666, 667, 668, 669, 670, 671, 672, 673, 674, 675, 676, 677, 678, 679, 680, 681, 682, 683, 684, 685, 686, 687, 688, 689, 690, 691, 692, 693, 694, 695, 696, 697, 698, 699, 700, 701, 702, 703, 704, 705, 706, 707, 708, 709, 710, 711, 712, 713, 714, 715, 716, 717, 718, 719, 720, 721, 722, 723, 724, 725, 726, 727, 728, 729, 730, 731, 732, 733, 734, 735, 736, 737, 738, 739, 740, 741, 742, 743, 744, 745, 746, 747, 748, 749, 750, 751, 752, 753, 754, 755, 756, 757, 758, 759, 760, 761, 762, 763, 764, 765, 766, 767, 768, 769, 770, 771, 772, 773, 774, 775, 776, 777, 778, 779, 780, 781, 782], \"y\": [3.1791024208068848, 0.7933483123779297, -1.0266155004501343, -1.1357609033584595, -0.8204715251922607, 9.347236633300781, -6.079044818878174, 1.5444421768188477, -2.6828651428222656, -3.6342859268188477, -5.004286289215088, -5.528514862060547, 1.80291748046875, 1.6946868896484375, 12.294053077697754, -0.17230558395385742, 1.3048573732376099, 0.11859291791915894, -0.2056729793548584, 0.4600052833557129, -0.15251857042312622, 0.7481279373168945, -0.4076840877532959, 0.08914428949356079, 0.4512632489204407, -0.5162984132766724, 1.137650489807129, 0.0378945991396904, 0.17303836345672607, -0.15168124437332153, -0.0755465179681778, 0.14422762393951416, -0.2148844599723816, -0.04529479146003723, -0.3985130190849304, 0.13751709461212158, -0.5941001176834106, -0.01755748689174652, 0.07898080348968506, 0.29222244024276733, -0.07178763300180435, 0.40846410393714905, 0.021069057285785675, 2.3004322052001953, 0.07633408904075623, 0.3433101177215576, -0.2054927796125412, -0.6228747963905334, -0.4209575057029724, -0.1855509877204895, -0.004369478672742844, 0.16424405574798584, 0.0037301452830433846, -2.054500102996826, 0.9395905137062073, 0.10866807401180267, 0.15848810970783234, 0.005347520112991333, -0.027545161545276642, 0.05397643893957138, -0.5611389875411987, -0.4392339587211609, 0.3664630055427551, 0.04403218254446983, 1.6656469106674194, 0.2931887209415436, -0.18617630004882812, 0.034761182963848114, 0.24731117486953735, 0.21156662702560425, 0.03341168165206909, -0.5923874378204346, -0.0379955917596817, 0.09518663585186005, 0.016132712364196777, 0.2755640745162964, 0.05492845177650452, 0.05853932350873947, -0.011388331651687622, 0.0655030608177185, -0.08145959675312042, 0.21469590067863464, -0.40632396936416626, 1.6415001153945923, -0.46846121549606323, 0.5621567964553833, -0.17266470193862915, 0.08105987310409546, -0.09994594752788544, -0.15194860100746155, 0.07682177424430847, 0.07364435493946075, -0.5545133948326111, 0.1189829409122467, 0.23536594212055206, -0.30466747283935547, 0.3884373605251312, 0.7068796157836914, -0.12216755747795105, 0.6742923259735107, 0.5207430720329285, -0.40403154492378235, 0.2597648799419403, -0.23047010600566864, 0.07056014239788055, 0.4014357924461365, -0.36420494318008423, -0.23832309246063232, -0.19055193662643433, -0.04982868209481239, -0.041646558791399, -0.1673334836959839, 0.3787475824356079, 0.08282700181007385, -0.7769750356674194, 0.80148845911026, -0.0296805240213871, -0.002410806715488434, 0.04449602961540222, -0.014634758234024048, -1.146177887916565, -0.10125337541103363, 0.2428254932165146, -0.06922078132629395, 0.20764248073101044, -0.030252858996391296, -0.36397889256477356, 0.21899396181106567, 0.02246771939098835, 0.02978631481528282, 1.3708871603012085, -0.10933394730091095, -1.4477417469024658, -0.03126325458288193, 0.07085393369197845, 0.11724865436553955, 0.002782300114631653, 0.46029195189476013, 0.8590587377548218, -1.1519910097122192, 0.3053794503211975, 0.36563408374786377, 0.19543029367923737, -0.18439137935638428, -1.7497100830078125, -0.0798359215259552, 0.08684726059436798, -0.0507839098572731, -0.570495069026947, -0.8710055947303772, 0.248436838388443, 0.21982342004776, -0.4536471366882324, 0.019903749227523804, -0.05986113101243973, -0.15293243527412415, 0.22487543523311615, -0.08797658234834671, -0.31862109899520874, -0.14824078977108002, -0.009068820625543594, -0.149402916431427, 0.33834242820739746, 0.2174232304096222, 0.20505207777023315, -0.2971785068511963, 0.12227649986743927, 1.6182620525360107, 0.28738531470298767, -1.137937068939209, -0.08061958849430084, 0.09721782803535461, 0.24463343620300293, 0.535663902759552, -0.18433454632759094, 0.1778353601694107, -0.2644151747226715, 0.9295098185539246, 0.13983851671218872, -0.08420338481664658, -0.03896186500787735, -0.1944458782672882, 0.4233497977256775, 0.03982210159301758, 0.15244239568710327, 0.0948253646492958, -0.11013978719711304, 0.16006293892860413, 0.10273914039134979, 0.90062016248703, -0.5934238433837891, 1.314683437347412, -0.031411997973918915, 0.2144719362258911, -0.28386473655700684, -0.02267426997423172, -0.7711117267608643, -0.4753921926021576, 0.36274582147598267, -0.10092765092849731, 0.30912190675735474, -0.23837809264659882, -0.3266003131866455, 2.8725125789642334, -0.2875356376171112, 0.6547519564628601, 0.41601359844207764, 0.43079617619514465, -0.6864844560623169, -0.43809205293655396, 1.101391315460205, 0.02536506950855255, -0.018384888768196106, -0.04508376121520996, -0.2207573801279068, -0.01286432147026062, 0.020476117730140686, 0.5979315638542175, 1.423327088356018, -0.06683236360549927, -0.19907087087631226, -0.0705106183886528, 0.2615148425102234, -0.30847808718681335, -0.2608587443828583, -0.12203210592269897, -0.8746422529220581, 0.22247298061847687, 0.19925136864185333, -0.34768062829971313, 0.35211002826690674, 0.17090678215026855, 0.3305521607398987, 0.09188950061798096, -0.06646287441253662, -0.3662354648113251, 0.2465161234140396, 0.1766134798526764, -0.23552057147026062, -0.38404154777526855, -0.29364269971847534, -0.17748340964317322, -0.384223997592926, -0.3501690924167633, 0.1656598597764969, 0.2913297116756439, 0.7810872197151184, 0.026280105113983154, -0.007179077714681625, -0.0682946965098381, 0.11248613893985748, -0.004768881015479565, 0.4536614716053009, -0.12756069004535675, -0.22498390078544617, -0.28814247250556946, -0.23472926020622253, -0.1297110915184021, -0.278328537940979, -0.0008933842182159424, 0.6373648643493652, -0.040621161460876465, 0.20224475860595703, 0.029780708253383636, -0.667636513710022, -0.4728785753250122, 0.267772912979126, -0.1699243187904358, 0.16164138913154602, -0.022848989814519882, 1.9417864084243774, -0.5655632019042969, -0.15114519000053406, 0.24293480813503265, -0.163126140832901, -2.068873405456543, 0.236217200756073, -0.05743727833032608, -0.430988609790802, -0.1596997082233429, 0.3517322838306427, -0.3878510296344757, 0.4148067533969879, 0.7140690088272095, -0.6156558394432068, -0.18867433071136475, 1.8294445276260376, -2.0247344970703125, 0.001936785876750946, -0.06341437995433807, 0.0013922005891799927, -0.19868135452270508, 0.171578049659729, 2.138679027557373, -0.5833494663238525, -0.05059622973203659, 0.26701515913009644, 0.0525851845741272, 0.26298192143440247, -0.012902317568659782, -0.43884414434432983, -0.3582741618156433, -0.07904906570911407, 0.2669823467731476, 0.04292237013578415, -0.011413875967264175, 2.811457633972168, 0.03308302164077759, 0.23981404304504395, -0.22621271014213562, 1.0468096733093262, 0.17195606231689453, 0.4096263647079468, -0.1848061978816986, 0.025922756642103195, -0.17015452682971954, 0.4188939034938812, 0.418794184923172, 0.33865225315093994, -1.0269920825958252, 0.5812435746192932, -0.3987150192260742, 0.12139099091291428, -0.07398355007171631, 2.583402395248413, -0.1378750205039978, -0.6257349252700806, -0.14204496145248413, -0.1387607455253601, 0.15428276360034943, -1.1149897575378418, -1.0862197875976562, 0.16580849885940552, 0.17395588755607605, -0.07439747452735901, -0.03217645734548569, 1.0725536346435547, 1.1178606748580933, 0.35569822788238525, -0.23306876420974731, -0.10344315320253372, -0.4446678161621094, -0.0373682826757431, 0.37664228677749634, 0.8932946920394897, 0.6030035614967346, 0.24178022146224976, -0.17326778173446655, -0.1317112147808075, -0.18263554573059082, 0.006675112992525101, -0.41372060775756836, -0.049401089549064636, 0.2583150863647461, 0.17918676137924194, 0.1849028766155243, 0.24847294390201569, 0.47962191700935364, -0.34647417068481445, 0.31313377618789673, -0.26804372668266296, 0.00610332190990448, -0.0941256731748581, 0.12145009636878967, 0.0016183992847800255, 0.3247067928314209, -1.2291648387908936, 0.011347601190209389, 0.2245311290025711, 0.30054524540901184, -0.05305519700050354, 0.2088000625371933, 0.32375413179397583, 1.5557668209075928, -0.042965278029441833, -0.19794365763664246, 0.482760488986969, -0.2745860815048218, -0.06823620200157166, -0.0208568312227726, 0.16600127518177032, -0.17756874859333038, 0.6715070009231567, 0.021679580211639404, -0.0972868949174881, 0.2472531795501709, -0.12939117848873138, 0.1601695865392685, 0.0534125380218029, 1.1939945220947266, 0.25049275159835815, -0.36509016156196594, -0.023267101496458054, 2.3491060733795166, 0.4047759175300598, 0.3420313000679016, 0.2331172227859497, 0.7289748191833496, 0.023263996466994286, 0.1003645807504654, -0.9915653467178345, 0.022480681538581848, -0.07568368315696716, 0.18243716657161713, -1.0010147094726562, 0.0815553218126297, -1.7485687732696533, -0.13833743333816528, -0.042310357093811035, 0.7425956130027771, 0.20611876249313354, -0.11999961733818054, -0.05822838097810745, -0.23540490865707397, -0.05617588758468628, 2.0400874614715576, 0.5321657061576843, -0.1202380433678627, 0.18688739836215973, 0.4217965006828308, -0.270388126373291, -0.11963647603988647, 1.4649395942687988, -0.18690770864486694, 0.6250555515289307, -0.12018771469593048, 1.1850438117980957, 0.1668413132429123, 0.39459216594696045, 0.3219336271286011, 0.11769647896289825, 0.5104621648788452, 0.20080262422561646, 0.017673224210739136, -0.2137608528137207, 0.13211177289485931, 0.4096066951751709, -0.8767768144607544, -0.18422001600265503, -0.09987221658229828, -1.3275343179702759, 0.3004000782966614, -0.042140137404203415, -0.7205058336257935, 0.10184916108846664, 0.10569842159748077, 0.9430848360061646, 0.14049166440963745, -0.418133020401001, 0.021795809268951416, -0.7110236883163452, 0.1757185012102127, -0.07388367503881454, 0.3762308955192566, -0.19582140445709229, 0.2869536876678467, -0.34727999567985535, -0.004873339086771011, 0.13341385126113892, -0.14901956915855408, -0.047164857387542725, 0.21686536073684692, 0.20570236444473267, -0.4202202260494232, -1.3300913572311401, -0.3162284791469574, -0.40307605266571045, -1.4006061553955078, -0.6045054793357849, -0.7815389633178711, 0.3164023756980896, 3.6796722412109375, -0.04268479719758034, -0.2546026110649109, -0.024219468235969543, -0.6497906446456909, 0.0010084956884384155, -0.19735628366470337, 0.4979856014251709, 0.578073263168335, -3.6366021633148193, 0.14017756283283234, 1.4422391653060913, 0.7785429954528809, 0.07242044806480408, -0.13657215237617493, 0.28899747133255005, -0.367356538772583, -0.1407938152551651, -0.6215357780456543, 0.26812586188316345, 0.12756535410881042, -0.2431352138519287, 1.4918451309204102, 0.5210738182067871, -0.08516723662614822, -0.43946874141693115, 0.8040893077850342, 0.22323653101921082, -0.2373664677143097, -0.0702720582485199, 0.6976869106292725, -1.305736780166626, 0.7230676412582397, 0.007385401986539364, 0.29929429292678833, -0.1673664152622223, -0.2561456859111786, 2.1644833087921143, -0.11721938848495483, 0.5432899594306946, -0.22257477045059204, 0.018161267042160034, -0.4563319683074951, -0.32472288608551025, 0.07677117735147476, 0.1418912410736084, 2.1455719470977783, 1.0255630016326904, -0.7992503643035889, -0.03764662146568298, -0.5001702308654785, 0.10408876836299896, -0.3565236032009125, 0.05222046375274658, -0.05203425884246826, 0.5849430561065674, 1.2611099481582642, -1.060399055480957, 0.024007853120565414, 0.1556176245212555, -0.5535375475883484, 1.7574824094772339, -0.05167695879936218, 0.5457966327667236, -0.0502765029668808, 0.0034179985523223877, 0.09498035907745361, -0.5345463156700134, -0.5361047983169556, 0.03837615251541138, 0.5303486585617065, 0.19773942232131958, -0.3637522757053375, 0.1257438212633133, 0.23172910511493683, -0.838013768196106, 0.5854569673538208, 0.012479409575462341, 0.14588893949985504, -0.12605540454387665, -0.1720922887325287, -0.20604541897773743, 0.09801309555768967, 0.576197624206543, 0.3194877505302429, 1.1964998245239258, 0.22826486825942993, -0.15911661088466644, 0.5096811056137085, -0.04062221944332123, 1.5945415496826172, 2.5149407386779785, -0.4632323086261749, 0.12531624734401703, -0.15069158375263214, -0.018185339868068695, -0.03220159560441971, -0.4097500741481781, -0.6634953022003174, 0.6508709192276001, -0.1136857271194458, -0.04926803708076477, -1.3088388442993164, 0.04441211745142937, -0.1671871542930603, 0.171919584274292, -0.7907859683036804, 0.11565253883600235, 0.008294239640235901, -0.8501290082931519, -0.0737415999174118, 0.24437522888183594, -0.17140933871269226, 0.13554581999778748, -1.5327204465866089, 1.0217007398605347, -0.3853118419647217, 0.5939050316810608, 0.2568582594394684, -0.09612425416707993, -0.3871486783027649, -2.5378994941711426, 0.12437109649181366, -0.17983485758304596, -0.42373108863830566, -0.21786126494407654, 0.7271125316619873, -0.1382180154323578, 0.5069552063941956, -0.024556584656238556, 0.0251358300447464, -2.6987900733947754, -0.4893958568572998, -0.5654774904251099, 0.6136186718940735, -0.06003129482269287, -0.23911085724830627, 0.5599489212036133, -0.04322914779186249, -0.36046820878982544, -0.15784472227096558, 0.02473633736371994, -0.5989512205123901, -0.013367071747779846, 0.7906525731086731, -0.1640755832195282, 0.29086196422576904, -0.10151132941246033, 0.28096461296081543, 0.16284576058387756, 0.3144373893737793, 0.07995640486478806, -0.16087302565574646, 0.6608231663703918, -0.22303786873817444, -0.47322750091552734, 0.5509254932403564, -0.861979067325592, 0.16412442922592163, -0.3468881845474243, 0.039279788732528687, -0.1568254977464676, -0.30598941445350647, -1.2112061977386475, -0.011815493926405907, -0.21629127860069275, 0.028233587741851807, -0.32895636558532715, 0.35521215200424194, 0.16964922845363617, -0.07578393816947937, -0.22541649639606476, 0.6761481761932373, 0.30962610244750977, 0.1142352819442749, 0.4717922806739807, 0.20686018466949463, -0.25046297907829285, 0.3101516366004944, -0.26279252767562866, -0.12742695212364197, 0.6414986848831177, -0.2577395439147949, 0.07538609951734543, 0.09193728119134903, -0.10285159945487976, 0.9309157133102417, -0.20974861085414886, -0.05954807624220848, -0.03110373392701149, -0.2640649080276489, -0.22753995656967163, -0.391681969165802, 0.9505016803741455, 0.9216858148574829, -0.44237715005874634, -0.18320801854133606, 0.04553429037332535, -0.23605331778526306, 0.054877642542123795, 0.036506425589323044, -0.0077611226588487625, -0.2420249879360199, -0.11981377005577087, -1.3438866138458252, -0.08011455833911896, -0.8289757370948792, 0.030470743775367737, 0.669235110282898, 0.2074408084154129, -0.5526891946792603, 0.21391832828521729, 0.3985849618911743, -0.08572369068861008, -0.373048335313797, 1.267487645149231, 0.11302930116653442, 0.09668758511543274, 0.31721431016921997, -0.9871854782104492, 0.07534582912921906, 0.37567830085754395, -0.3250553607940674, -0.0753612369298935, 0.5571362376213074, 0.04071444272994995, -0.3227033317089081, -0.28158190846443176, -0.011759137734770775, 0.42082783579826355, 0.1281355917453766, 0.0771486833691597, 1.0485469102859497, 0.007989279925823212, 0.0980788916349411, 0.36919429898262024, 0.23181575536727905, 0.15330249071121216, -0.10425390303134918, -0.2973763942718506, 0.20297475159168243, -0.332173228263855, 0.16991500556468964, -0.06916671991348267, 0.22064369916915894, 0.2765626311302185, 0.17366856336593628, -0.21183082461357117, -0.12104490399360657, 0.05677533149719238, 0.1580887734889984, -0.8696094751358032, -0.9921550154685974, 0.05078861117362976, -0.12481623142957687, 0.20027989149093628, 0.121432363986969, -0.6035903692245483, 0.2803957462310791, -0.6312337517738342, 0.7792948484420776, -0.6145893335342407, 0.29348069429397583, 0.4800751209259033, -0.2287859320640564, 0.2113138735294342, 0.021642684936523438, 0.019673556089401245, 0.16347306966781616, -0.2303941696882248, -0.6203301548957825, -0.268147349357605, -0.21995708346366882, -1.3173699378967285, -0.11877413094043732, 0.05460326373577118, -0.15760865807533264, -0.010701760649681091, 1.1326944828033447, 0.7855738401412964, -0.036709025502204895, 0.29716578125953674, 1.3537222146987915, -0.08898390829563141, 0.5405632257461548, -0.3180196285247803, 0.2274789661169052, -0.6978438496589661, -0.2514461874961853, 1.284043550491333, -0.004158433526754379, -0.9311143159866333, -0.2652672529220581, 0.5890899896621704, 0.3579031229019165, 0.25030362606048584, -0.22440961003303528, 0.9889123439788818, 0.054559946060180664, 0.2569625973701477, 0.08327111601829529, -2.0627799034118652, -0.2719429135322571, 0.4951505661010742, -0.030762627720832825, -0.15274576842784882, 0.10955046862363815, -0.15550479292869568, 2.261702537536621, 0.08674953877925873, -0.24702954292297363, 0.20763814449310303]}],\n",
       "                        {\"template\": {\"data\": {\"bar\": [{\"error_x\": {\"color\": \"#2a3f5f\"}, \"error_y\": {\"color\": \"#2a3f5f\"}, \"marker\": {\"line\": {\"color\": \"#E5ECF6\", \"width\": 0.5}}, \"type\": \"bar\"}], \"barpolar\": [{\"marker\": {\"line\": {\"color\": \"#E5ECF6\", \"width\": 0.5}}, \"type\": \"barpolar\"}], \"carpet\": [{\"aaxis\": {\"endlinecolor\": \"#2a3f5f\", \"gridcolor\": \"white\", \"linecolor\": \"white\", \"minorgridcolor\": \"white\", \"startlinecolor\": \"#2a3f5f\"}, \"baxis\": {\"endlinecolor\": \"#2a3f5f\", \"gridcolor\": \"white\", \"linecolor\": \"white\", \"minorgridcolor\": \"white\", \"startlinecolor\": \"#2a3f5f\"}, \"type\": \"carpet\"}], \"choropleth\": [{\"colorbar\": {\"outlinewidth\": 0, \"ticks\": \"\"}, \"type\": \"choropleth\"}], \"contour\": [{\"colorbar\": {\"outlinewidth\": 0, \"ticks\": \"\"}, \"colorscale\": [[0.0, \"#0d0887\"], [0.1111111111111111, \"#46039f\"], [0.2222222222222222, \"#7201a8\"], [0.3333333333333333, \"#9c179e\"], [0.4444444444444444, \"#bd3786\"], [0.5555555555555556, \"#d8576b\"], [0.6666666666666666, \"#ed7953\"], [0.7777777777777778, \"#fb9f3a\"], [0.8888888888888888, \"#fdca26\"], [1.0, \"#f0f921\"]], \"type\": \"contour\"}], \"contourcarpet\": [{\"colorbar\": {\"outlinewidth\": 0, \"ticks\": \"\"}, \"type\": \"contourcarpet\"}], \"heatmap\": [{\"colorbar\": {\"outlinewidth\": 0, \"ticks\": \"\"}, \"colorscale\": [[0.0, \"#0d0887\"], [0.1111111111111111, \"#46039f\"], [0.2222222222222222, \"#7201a8\"], [0.3333333333333333, \"#9c179e\"], [0.4444444444444444, \"#bd3786\"], [0.5555555555555556, \"#d8576b\"], [0.6666666666666666, \"#ed7953\"], [0.7777777777777778, \"#fb9f3a\"], [0.8888888888888888, \"#fdca26\"], [1.0, \"#f0f921\"]], \"type\": \"heatmap\"}], \"heatmapgl\": [{\"colorbar\": {\"outlinewidth\": 0, \"ticks\": \"\"}, \"colorscale\": [[0.0, \"#0d0887\"], [0.1111111111111111, \"#46039f\"], [0.2222222222222222, \"#7201a8\"], [0.3333333333333333, \"#9c179e\"], [0.4444444444444444, \"#bd3786\"], [0.5555555555555556, \"#d8576b\"], [0.6666666666666666, \"#ed7953\"], [0.7777777777777778, \"#fb9f3a\"], [0.8888888888888888, \"#fdca26\"], [1.0, \"#f0f921\"]], \"type\": \"heatmapgl\"}], \"histogram\": [{\"marker\": {\"colorbar\": {\"outlinewidth\": 0, \"ticks\": \"\"}}, \"type\": \"histogram\"}], \"histogram2d\": [{\"colorbar\": {\"outlinewidth\": 0, \"ticks\": \"\"}, \"colorscale\": [[0.0, \"#0d0887\"], [0.1111111111111111, \"#46039f\"], [0.2222222222222222, \"#7201a8\"], [0.3333333333333333, \"#9c179e\"], [0.4444444444444444, \"#bd3786\"], [0.5555555555555556, \"#d8576b\"], [0.6666666666666666, \"#ed7953\"], [0.7777777777777778, \"#fb9f3a\"], [0.8888888888888888, \"#fdca26\"], [1.0, \"#f0f921\"]], \"type\": \"histogram2d\"}], \"histogram2dcontour\": [{\"colorbar\": {\"outlinewidth\": 0, \"ticks\": \"\"}, \"colorscale\": [[0.0, \"#0d0887\"], [0.1111111111111111, \"#46039f\"], [0.2222222222222222, \"#7201a8\"], [0.3333333333333333, \"#9c179e\"], [0.4444444444444444, \"#bd3786\"], [0.5555555555555556, \"#d8576b\"], [0.6666666666666666, \"#ed7953\"], [0.7777777777777778, \"#fb9f3a\"], [0.8888888888888888, \"#fdca26\"], [1.0, \"#f0f921\"]], \"type\": \"histogram2dcontour\"}], \"mesh3d\": [{\"colorbar\": {\"outlinewidth\": 0, \"ticks\": \"\"}, \"type\": \"mesh3d\"}], \"parcoords\": [{\"line\": {\"colorbar\": {\"outlinewidth\": 0, \"ticks\": \"\"}}, \"type\": \"parcoords\"}], \"pie\": [{\"automargin\": true, \"type\": \"pie\"}], \"scatter\": [{\"marker\": {\"colorbar\": {\"outlinewidth\": 0, \"ticks\": \"\"}}, \"type\": \"scatter\"}], \"scatter3d\": [{\"line\": {\"colorbar\": {\"outlinewidth\": 0, \"ticks\": \"\"}}, \"marker\": {\"colorbar\": {\"outlinewidth\": 0, \"ticks\": \"\"}}, \"type\": \"scatter3d\"}], \"scattercarpet\": [{\"marker\": {\"colorbar\": {\"outlinewidth\": 0, \"ticks\": \"\"}}, \"type\": \"scattercarpet\"}], \"scattergeo\": [{\"marker\": {\"colorbar\": {\"outlinewidth\": 0, \"ticks\": \"\"}}, \"type\": \"scattergeo\"}], \"scattergl\": [{\"marker\": {\"colorbar\": {\"outlinewidth\": 0, \"ticks\": \"\"}}, \"type\": \"scattergl\"}], \"scattermapbox\": [{\"marker\": {\"colorbar\": {\"outlinewidth\": 0, \"ticks\": \"\"}}, \"type\": \"scattermapbox\"}], \"scatterpolar\": [{\"marker\": {\"colorbar\": {\"outlinewidth\": 0, \"ticks\": \"\"}}, \"type\": \"scatterpolar\"}], \"scatterpolargl\": [{\"marker\": {\"colorbar\": {\"outlinewidth\": 0, \"ticks\": \"\"}}, \"type\": \"scatterpolargl\"}], \"scatterternary\": [{\"marker\": {\"colorbar\": {\"outlinewidth\": 0, \"ticks\": \"\"}}, \"type\": \"scatterternary\"}], \"surface\": [{\"colorbar\": {\"outlinewidth\": 0, \"ticks\": \"\"}, \"colorscale\": [[0.0, \"#0d0887\"], [0.1111111111111111, \"#46039f\"], [0.2222222222222222, \"#7201a8\"], [0.3333333333333333, \"#9c179e\"], [0.4444444444444444, \"#bd3786\"], [0.5555555555555556, \"#d8576b\"], [0.6666666666666666, \"#ed7953\"], [0.7777777777777778, \"#fb9f3a\"], [0.8888888888888888, \"#fdca26\"], [1.0, \"#f0f921\"]], \"type\": \"surface\"}], \"table\": [{\"cells\": {\"fill\": {\"color\": \"#EBF0F8\"}, \"line\": {\"color\": \"white\"}}, \"header\": {\"fill\": {\"color\": \"#C8D4E3\"}, \"line\": {\"color\": \"white\"}}, \"type\": \"table\"}]}, \"layout\": {\"annotationdefaults\": {\"arrowcolor\": \"#2a3f5f\", \"arrowhead\": 0, \"arrowwidth\": 1}, \"coloraxis\": {\"colorbar\": {\"outlinewidth\": 0, \"ticks\": \"\"}}, \"colorscale\": {\"diverging\": [[0, \"#8e0152\"], [0.1, \"#c51b7d\"], [0.2, \"#de77ae\"], [0.3, \"#f1b6da\"], [0.4, \"#fde0ef\"], [0.5, \"#f7f7f7\"], [0.6, \"#e6f5d0\"], [0.7, \"#b8e186\"], [0.8, \"#7fbc41\"], [0.9, \"#4d9221\"], [1, \"#276419\"]], \"sequential\": [[0.0, \"#0d0887\"], [0.1111111111111111, \"#46039f\"], [0.2222222222222222, \"#7201a8\"], [0.3333333333333333, \"#9c179e\"], [0.4444444444444444, \"#bd3786\"], [0.5555555555555556, \"#d8576b\"], [0.6666666666666666, \"#ed7953\"], [0.7777777777777778, \"#fb9f3a\"], [0.8888888888888888, \"#fdca26\"], [1.0, \"#f0f921\"]], \"sequentialminus\": [[0.0, \"#0d0887\"], [0.1111111111111111, \"#46039f\"], [0.2222222222222222, \"#7201a8\"], [0.3333333333333333, \"#9c179e\"], [0.4444444444444444, \"#bd3786\"], [0.5555555555555556, \"#d8576b\"], [0.6666666666666666, \"#ed7953\"], [0.7777777777777778, \"#fb9f3a\"], [0.8888888888888888, \"#fdca26\"], [1.0, \"#f0f921\"]]}, \"colorway\": [\"#636efa\", \"#EF553B\", \"#00cc96\", \"#ab63fa\", \"#FFA15A\", \"#19d3f3\", \"#FF6692\", \"#B6E880\", \"#FF97FF\", \"#FECB52\"], \"font\": {\"color\": \"#2a3f5f\"}, \"geo\": {\"bgcolor\": \"white\", \"lakecolor\": \"white\", \"landcolor\": \"#E5ECF6\", \"showlakes\": true, \"showland\": true, \"subunitcolor\": \"white\"}, \"hoverlabel\": {\"align\": \"left\"}, \"hovermode\": \"closest\", \"mapbox\": {\"style\": \"light\"}, \"paper_bgcolor\": \"white\", \"plot_bgcolor\": \"#E5ECF6\", \"polar\": {\"angularaxis\": {\"gridcolor\": \"white\", \"linecolor\": \"white\", \"ticks\": \"\"}, \"bgcolor\": \"#E5ECF6\", \"radialaxis\": {\"gridcolor\": \"white\", \"linecolor\": \"white\", \"ticks\": \"\"}}, \"scene\": {\"xaxis\": {\"backgroundcolor\": \"#E5ECF6\", \"gridcolor\": \"white\", \"gridwidth\": 2, \"linecolor\": \"white\", \"showbackground\": true, \"ticks\": \"\", \"zerolinecolor\": \"white\"}, \"yaxis\": {\"backgroundcolor\": \"#E5ECF6\", \"gridcolor\": \"white\", \"gridwidth\": 2, \"linecolor\": \"white\", \"showbackground\": true, \"ticks\": \"\", \"zerolinecolor\": \"white\"}, \"zaxis\": {\"backgroundcolor\": \"#E5ECF6\", \"gridcolor\": \"white\", \"gridwidth\": 2, \"linecolor\": \"white\", \"showbackground\": true, \"ticks\": \"\", \"zerolinecolor\": \"white\"}}, \"shapedefaults\": {\"line\": {\"color\": \"#2a3f5f\"}}, \"ternary\": {\"aaxis\": {\"gridcolor\": \"white\", \"linecolor\": \"white\", \"ticks\": \"\"}, \"baxis\": {\"gridcolor\": \"white\", \"linecolor\": \"white\", \"ticks\": \"\"}, \"bgcolor\": \"#E5ECF6\", \"caxis\": {\"gridcolor\": \"white\", \"linecolor\": \"white\", \"ticks\": \"\"}}, \"title\": {\"x\": 0.05}, \"xaxis\": {\"automargin\": true, \"gridcolor\": \"white\", \"linecolor\": \"white\", \"ticks\": \"\", \"title\": {\"standoff\": 15}, \"zerolinecolor\": \"white\", \"zerolinewidth\": 2}, \"yaxis\": {\"automargin\": true, \"gridcolor\": \"white\", \"linecolor\": \"white\", \"ticks\": \"\", \"title\": {\"standoff\": 15}, \"zerolinecolor\": \"white\", \"zerolinewidth\": 2}}}, \"title\": {\"text\": \"Output of layer bn1\"}, \"xaxis\": {\"title\": {\"text\": \"Dimension\"}}, \"yaxis\": {\"title\": {\"text\": \"Layer Output\"}}},\n",
       "                        {\"responsive\": true}\n",
       "                    ).then(function(){\n",
       "                            \n",
       "var gd = document.getElementById('46ee92bb-963a-4661-aa5e-c4b46cf2f27d');\n",
       "var x = new MutationObserver(function (mutations, observer) {{\n",
       "        var display = window.getComputedStyle(gd).display;\n",
       "        if (!display || display === 'none') {{\n",
       "            console.log([gd, 'removed!']);\n",
       "            Plotly.purge(gd);\n",
       "            observer.disconnect();\n",
       "        }}\n",
       "}});\n",
       "\n",
       "// Listen for the removal of the full notebook cells\n",
       "var notebookContainer = gd.closest('#notebook-container');\n",
       "if (notebookContainer) {{\n",
       "    x.observe(notebookContainer, {childList: true});\n",
       "}}\n",
       "\n",
       "// Listen for the clearing of the current output cell\n",
       "var outputEl = gd.closest('.output');\n",
       "if (outputEl) {{\n",
       "    x.observe(outputEl, {childList: true});\n",
       "}}\n",
       "\n",
       "                        })\n",
       "                };\n",
       "                });\n",
       "            </script>\n",
       "        </div>"
      ]
     },
     "metadata": {},
     "output_type": "display_data"
    }
   ],
   "source": [
    "plot_scatter_intermediate_outputs(activations['lin1'], 'lin1')\n",
    "plot_scatter_intermediate_outputs(activations['bn1'], 'bn1')"
   ]
  },
  {
   "cell_type": "code",
   "execution_count": null,
   "metadata": {},
   "outputs": [],
   "source": []
  }
 ],
 "metadata": {
  "kernelspec": {
   "display_name": "Python 3",
   "language": "python",
   "name": "python3"
  },
  "language_info": {
   "codemirror_mode": {
    "name": "ipython",
    "version": 3
   },
   "file_extension": ".py",
   "mimetype": "text/x-python",
   "name": "python",
   "nbconvert_exporter": "python",
   "pygments_lexer": "ipython3",
   "version": "3.6.5"
  }
 },
 "nbformat": 4,
 "nbformat_minor": 2
}
